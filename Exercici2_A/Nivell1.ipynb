{
 "cells": [
  {
   "cell_type": "markdown",
   "metadata": {},
   "source": [
    "### Exercici 1\n",
    "Crea un np.array d'una dimensió, que inclogui l'almenys 8 nombres sencers, data type int64. Mostra la dimensió i la forma de la matriu. ."
   ]
  },
  {
   "cell_type": "code",
   "execution_count": 15,
   "metadata": {},
   "outputs": [
    {
     "name": "stdout",
     "output_type": "stream",
     "text": [
      "El nou array és [11 73 50 38  3 31  7 54], data type int64, la seva dimensió és 1 i la forma de la matriu és (8,).\n"
     ]
    }
   ],
   "source": [
    "import numpy as np\n",
    "from numpy import random\n",
    "\n",
    "arr = random.randint(100, size = (8), dtype = np.int64)\n",
    "\n",
    "#amb el mètode randint creem l'arry amb números aleatòris\n",
    "\n",
    "\n",
    "tipusDades = arr.dtype\n",
    "dimensio   = arr.ndim\n",
    "forma      = arr.shape\n",
    "\n",
    "print(f\"El nou array és {newarr}, data type {tipusDades}, la seva dimensió és {dimensio} i la forma de la matriu és {forma}.\")"
   ]
  },
  {
   "cell_type": "markdown",
   "metadata": {},
   "source": [
    "### Exercici 2\n",
    "De la matriu de l'exercici 1, calcula el valor mitjà dels valors introduïts i resta la mitjana resultant de cada un dels valors de la matriu."
   ]
  },
  {
   "cell_type": "code",
   "execution_count": 19,
   "metadata": {},
   "outputs": [
    {
     "name": "stdout",
     "output_type": "stream",
     "text": [
      "[22 69 79 32 42 89 32 91]\n",
      "55.5\n",
      "[-33.5  13.5  23.5 -23.5 -13.5  33.5 -23.5  35.5]\n"
     ]
    }
   ],
   "source": [
    "import numpy as np\n",
    "from numpy import random\n",
    "\n",
    "arr = random.randint(100, size = (8), dtype = np.int64)\n",
    "\n",
    "#com es tracta d'un array random, i serà diferent cada cop q executem el programa,\n",
    "#he decidir imprimir-ho per pantalla perque sigui més fàcil de comprobar, però no caldria.\n",
    "print(arr)\n",
    "print(np.median(arr))\n",
    "m = np.median(arr) # aquí calcul.lo el valor mig i el gaurdo a la variable m\n",
    "newarr = arr - m   #faig la resta i dono per pantalla el resultat\n",
    "print(newarr)"
   ]
  },
  {
   "cell_type": "markdown",
   "metadata": {},
   "source": [
    "### Exercici 3\n",
    "Crea una matriu bidimensional amb una forma de 5 x 5. Extreu el valor màxim de la matriu, i els valors màxims de cadascun dels seus eixos."
   ]
  },
  {
   "cell_type": "code",
   "execution_count": 29,
   "metadata": {
    "scrolled": true
   },
   "outputs": [
    {
     "name": "stdout",
     "output_type": "stream",
     "text": [
      "[[14 38 21 69 30]\n",
      " [51  8  0 67 50]\n",
      " [ 2  8 71 85 92]\n",
      " [38 63 49 76 43]\n",
      " [61 98 98 35 63]]\n",
      "El valor màxim de la matriu és:  98\n",
      "El valor màxim de l'eix horitzontal és:  [61 98 98 85 92]\n",
      "El valor màxim de l'eix vertical és:  [69 67 92 76 98]\n"
     ]
    }
   ],
   "source": [
    "import numpy as np\n",
    "from numpy import random\n",
    "\n",
    "arr = random.randint (100, size = (5,5))\n",
    "\n",
    "print(arr)\n",
    "print(\"El valor màxim de la matriu és: \", np.amax(arr))\n",
    "print(\"El valor màxim de l'eix horitzontal és: \",np.amax(arr,0))\n",
    "print(\"El valor màxim de l'eix vertical és: \",np.amax(arr,1))"
   ]
  },
  {
   "cell_type": "code",
   "execution_count": null,
   "metadata": {},
   "outputs": [],
   "source": []
  }
 ],
 "metadata": {
  "kernelspec": {
   "display_name": "Python 3",
   "language": "python",
   "name": "python3"
  },
  "language_info": {
   "codemirror_mode": {
    "name": "ipython",
    "version": 3
   },
   "file_extension": ".py",
   "mimetype": "text/x-python",
   "name": "python",
   "nbconvert_exporter": "python",
   "pygments_lexer": "ipython3",
   "version": "3.8.5"
  },
  "latex_envs": {
   "LaTeX_envs_menu_present": true,
   "autoclose": false,
   "autocomplete": true,
   "bibliofile": "biblio.bib",
   "cite_by": "apalike",
   "current_citInitial": 1,
   "eqLabelWithNumbers": true,
   "eqNumInitial": 1,
   "hotkeys": {
    "equation": "Ctrl-E",
    "itemize": "Ctrl-I"
   },
   "labels_anchors": false,
   "latex_user_defs": false,
   "report_style_numbering": false,
   "user_envs_cfg": false
  }
 },
 "nbformat": 4,
 "nbformat_minor": 4
}
