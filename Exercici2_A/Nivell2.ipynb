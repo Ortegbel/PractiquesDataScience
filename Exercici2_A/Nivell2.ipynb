{
 "cells": [
  {
   "cell_type": "markdown",
   "metadata": {},
   "source": [
    "# Nivell 2\n",
    "\n",
    "Treballem els conceptes de l'estructura d'una matriu, Broadcasting, indexació, Mask.."
   ]
  },
  {
   "cell_type": "markdown",
   "metadata": {},
   "source": [
    "### Exercici 4\n",
    "Mostreu-me amb exemples de diferents matrius, la regla fonamental de Broadcasting que diu : \"les matrius es poden transmetre / broadcast si les seves dimensions coincideixen o si una de les matrius té una mida d'1\".\n",
    "\n"
   ]
  },
  {
   "cell_type": "markdown",
   "metadata": {},
   "source": [
    "Com genralment Numpy opera element per element, per tal de poder operar els arrays has de tenir la mateixa \"shape\", o tenir la mida d'un element.\n",
    "El Broadcast permet \"stirar\", \"repetir\", \" prendre\" el valor donat i operar amb ell i cada element de la matriu.\n"
   ]
  },
  {
   "cell_type": "code",
   "execution_count": 46,
   "metadata": {},
   "outputs": [
    {
     "name": "stdout",
     "output_type": "stream",
     "text": [
      "array original A:\n",
      " [[26 13 55 39]\n",
      " [18 14 30  4]\n",
      " [ 3 57 24 87]]\n",
      "\n",
      "array producte:\n",
      " [[ 52.  26. 110.  78.]\n",
      " [ 36.  28.  60.   8.]\n",
      " [  6. 114.  48. 174.]]\n",
      "\n",
      "array suma:\n",
      " [[28. 15. 57. 41.]\n",
      " [20. 16. 32.  6.]\n",
      " [ 5. 59. 26. 89.]]\n",
      "array C:\n",
      " [47 10 77 60]\n",
      "\n",
      "array producte:\n",
      " [[1222  130 4235 2340]\n",
      " [ 846  140 2310  240]\n",
      " [ 141  570 1848 5220]]\n",
      "\n",
      "array suma:\n",
      " [[ 73  23 132  99]\n",
      " [ 65  24 107  64]\n",
      " [ 50  67 101 147]]\n"
     ]
    }
   ],
   "source": [
    "\"\"\" Exemple 1, operant amb un escalar i una matriu de 3x4.\n",
    "    En aquest cas, és com si el broadcast \"tingués en memòria\" un array b de les mateixes dimensions q l'array \"arr\" i \n",
    "    operés amb cada element.\n",
    "\"\"\"\n",
    "\n",
    "\n",
    "import numpy as np\n",
    "from numpy import random\n",
    "\n",
    "arr = random.randint (100, size = (3,4))\n",
    "\n",
    "b = 2.0\n",
    "\n",
    "c = random.randint(100, size=(4))\n",
    "\n",
    "print(\"array original A:\\n\", arr)\n",
    "print(\"\\narray producte:\\n\", arr*b)\n",
    "print(\"\\narray suma:\\n\", arr + b)\n",
    "\n",
    "print(\"array C:\\n\", c)\n",
    "print(\"\\narray producte:\\n\", arr*c)\n",
    "print(\"\\narray suma:\\n\", arr + c)"
   ]
  },
  {
   "cell_type": "code",
   "execution_count": 45,
   "metadata": {},
   "outputs": [
    {
     "name": "stdout",
     "output_type": "stream",
     "text": [
      "array original A:\n",
      " [38  8 46 33 39]\n",
      "array original B:\n",
      " [91 39 95]\n"
     ]
    },
    {
     "ename": "ValueError",
     "evalue": "operands could not be broadcast together with shapes (5,) (3,) ",
     "output_type": "error",
     "traceback": [
      "\u001b[1;31m---------------------------------------------------------------------------\u001b[0m",
      "\u001b[1;31mValueError\u001b[0m                                Traceback (most recent call last)",
      "\u001b[1;32m<ipython-input-45-59312f32f49b>\u001b[0m in \u001b[0;36m<module>\u001b[1;34m\u001b[0m\n\u001b[0;32m     13\u001b[0m \u001b[0mprint\u001b[0m\u001b[1;33m(\u001b[0m\u001b[1;34m\"array original A:\\n\"\u001b[0m\u001b[1;33m,\u001b[0m \u001b[0marr\u001b[0m\u001b[1;33m)\u001b[0m\u001b[1;33m\u001b[0m\u001b[1;33m\u001b[0m\u001b[0m\n\u001b[0;32m     14\u001b[0m \u001b[0mprint\u001b[0m\u001b[1;33m(\u001b[0m\u001b[1;34m\"array original B:\\n\"\u001b[0m\u001b[1;33m,\u001b[0m \u001b[0mb\u001b[0m\u001b[1;33m)\u001b[0m\u001b[1;33m\u001b[0m\u001b[1;33m\u001b[0m\u001b[0m\n\u001b[1;32m---> 15\u001b[1;33m \u001b[0mprint\u001b[0m\u001b[1;33m(\u001b[0m\u001b[1;34m\"array producte:\\n\"\u001b[0m\u001b[1;33m,\u001b[0m \u001b[0marr\u001b[0m \u001b[1;33m*\u001b[0m \u001b[0mb\u001b[0m\u001b[1;33m)\u001b[0m\u001b[1;33m\u001b[0m\u001b[1;33m\u001b[0m\u001b[0m\n\u001b[0m\u001b[0;32m     16\u001b[0m \u001b[0mprint\u001b[0m\u001b[1;33m(\u001b[0m\u001b[1;34m\"array suma:\\n\"\u001b[0m\u001b[1;33m,\u001b[0m \u001b[0marr\u001b[0m \u001b[1;33m+\u001b[0m \u001b[0mb\u001b[0m\u001b[1;33m)\u001b[0m\u001b[1;33m\u001b[0m\u001b[1;33m\u001b[0m\u001b[0m\n",
      "\u001b[1;31mValueError\u001b[0m: operands could not be broadcast together with shapes (5,) (3,) "
     ]
    }
   ],
   "source": [
    "\"\"\" Exemple 2, operant amb arrays de diferent mida, obtindrem un error. \n",
    "    ValueError: operands could not be broadcast together with shapes (5,) (3,) \n",
    "    \n",
    "\"\"\"\n",
    "\n",
    "\n",
    "import numpy as np\n",
    "from numpy import random\n",
    "\n",
    "arr = random.randint(100, size=(5))\n",
    "\n",
    "b = random.randint(100, size=(3))\n",
    "\n",
    "print(\"array original A:\\n\", arr)\n",
    "print(\"array original B:\\n\", b)\n",
    "print(\"array producte:\\n\", arr * b)\n",
    "print(\"array suma:\\n\", arr + b)"
   ]
  },
  {
   "cell_type": "markdown",
   "metadata": {},
   "source": [
    "### Exercici 5\n",
    "Utilitza la Indexació per extreure els valors d'una columna i una fila de la matriu. I suma els seus valors.\n"
   ]
  },
  {
   "cell_type": "code",
   "execution_count": 59,
   "metadata": {},
   "outputs": [
    {
     "name": "stdout",
     "output_type": "stream",
     "text": [
      "\n",
      "De l'array de mostra,\n",
      " [[48  3 10]\n",
      " [43 49 44]\n",
      " [35  0 14]]\n",
      "n'extreurem el segon valor del primer array i el tercer del segon array, valors :  3 i 44 i els sumem.\n",
      "Total: 47\n",
      "\n"
     ]
    }
   ],
   "source": [
    "import numpy as np\n",
    "from numpy import random\n",
    "\n",
    "arr = random.randint (50, size = (3,3))\n",
    "\n",
    "print(f\"\\nDe l'array de mostra,\\n {arr}\\nn'extreurem el segon valor del primer array i el tercer del segon array, valors : \",arr[0,1], \"i\", arr[1,2], \"i els sumem.\\nTotal:\", arr[0,1]+arr[1,2] )\n",
    "print()\n",
    "\n"
   ]
  },
  {
   "cell_type": "markdown",
   "metadata": {},
   "source": [
    "### Exercici 6\n",
    "Mask la matriu anterior, realitzeu un càlcul booleà vectoritzat, agafant cada element i comprovant si es divideix uniformement per quatre.\n",
    "\n",
    "Això retorna una matriu de mask de la mateixa forma amb els resultats elementals del càlcul.\n",
    "\n"
   ]
  },
  {
   "cell_type": "code",
   "execution_count": 83,
   "metadata": {},
   "outputs": [
    {
     "name": "stdout",
     "output_type": "stream",
     "text": [
      "array inicial\n",
      " [[48  3 10]\n",
      " [43 49 44]\n",
      " [35  0 14]] \n",
      "\n",
      "matriu de mask booleana\n",
      " [[ True False False]\n",
      " [False False  True]\n",
      " [False  True False]]\n"
     ]
    }
   ],
   "source": [
    "\"\"\"\n",
    "en aquest primer exemple he creat la mask directament.\n",
    "\"\"\"\n",
    "import numpy as np\n",
    "import numpy.ma as ma\n",
    "\n",
    "\n",
    "arr = np.array([[48,3,10], [43,49,44],[35, 0 ,14]])\n",
    "\n",
    "print(\"array inicial\\n\" ,arr,\"\\n\")\n",
    "print(\"matriu de mask booleana\\n\", arr % 4 ==0)\n",
    "\n",
    "\n"
   ]
  },
  {
   "cell_type": "code",
   "execution_count": 85,
   "metadata": {},
   "outputs": [
    {
     "name": "stdout",
     "output_type": "stream",
     "text": [
      "array inicial\n",
      " [[48  3 10]\n",
      " [43 49 44]\n",
      " [35  0 14]]\n",
      "array mask, on només apareixen els elements q no compleixen la condició\n",
      " [[-- 3 10]\n",
      " [43 49 --]\n",
      " [35 -- 14]]\n"
     ]
    }
   ],
   "source": [
    "\"\"\"\n",
    "També he mirat de donar resposta a l'exercici anterior amb la funció masked_were() que m'ha tornat els valors dels elements\n",
    "q no complien la condició.\n",
    "\n",
    "\"\"\"\n",
    "\n",
    "\n",
    "import numpy as np\n",
    "import numpy.ma as ma\n",
    "\n",
    "arr = np.array([[48,3,10], [43,49,44],[35, 0 ,14]])\n",
    "print(\"array inicial\\n\" ,arr)\n",
    "mask_arr = np.ma.masked_where(arr % 4 ==0, arr, copy=True )\n",
    "print(\"array mask, on només apareixen els elements q no compleixen la condició\\n\" , mask_arr)"
   ]
  },
  {
   "cell_type": "markdown",
   "metadata": {},
   "source": [
    "### Exercici 7\n",
    "A continuació, utilitzeu aquesta màscara per indexar a la matriu de números original. Això fa que la matriu perdi la seva forma original, reduint-la a una dimensió, però encara obteniu les dades que esteu cercant."
   ]
  },
  {
   "cell_type": "code",
   "execution_count": 84,
   "metadata": {},
   "outputs": [
    {
     "name": "stdout",
     "output_type": "stream",
     "text": [
      "array inicial\n",
      " [[48  3 10]\n",
      " [43 49 44]\n",
      " [35  0 14]]\n",
      "array mask, on només apareixen els elements q no compleixen la condició\n",
      " [48 44  0]\n"
     ]
    }
   ],
   "source": [
    "import numpy as np\n",
    "import numpy.ma as ma\n",
    "\n",
    "arr = np.array([[48,3,10], [43,49,44],[35, 0 ,14]])\n",
    "mask_arr2 = arr[arr % 4 ==0]\n",
    "\n",
    "print(\"array inicial\\n\" ,arr)\n",
    "print(\"array mask, on només apareixen els elements q acompleixen la condició\\n\" , mask_arr2)"
   ]
  }
 ],
 "metadata": {
  "kernelspec": {
   "display_name": "Python 3",
   "language": "python",
   "name": "python3"
  },
  "language_info": {
   "codemirror_mode": {
    "name": "ipython",
    "version": 3
   },
   "file_extension": ".py",
   "mimetype": "text/x-python",
   "name": "python",
   "nbconvert_exporter": "python",
   "pygments_lexer": "ipython3",
   "version": "3.8.5"
  },
  "latex_envs": {
   "LaTeX_envs_menu_present": true,
   "autoclose": false,
   "autocomplete": true,
   "bibliofile": "biblio.bib",
   "cite_by": "apalike",
   "current_citInitial": 1,
   "eqLabelWithNumbers": true,
   "eqNumInitial": 1,
   "hotkeys": {
    "equation": "Ctrl-E",
    "itemize": "Ctrl-I"
   },
   "labels_anchors": false,
   "latex_user_defs": false,
   "report_style_numbering": false,
   "user_envs_cfg": false
  }
 },
 "nbformat": 4,
 "nbformat_minor": 4
}
