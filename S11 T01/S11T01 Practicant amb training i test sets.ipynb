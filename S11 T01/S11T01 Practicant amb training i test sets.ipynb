{
 "cells": [
  {
   "cell_type": "markdown",
   "id": "c3b90fca",
   "metadata": {},
   "source": [
    "# S11 T01: Practicant amb training i test sets  \n",
    "\n",
    "Familiaritza't amb la programació científica mitjantçant la llibreria SKLearn / Scikitlearn."
   ]
  },
  {
   "cell_type": "markdown",
   "id": "5e922392",
   "metadata": {},
   "source": [
    "## Nivell  \n",
    "\n",
    "- **Exercici 1**  \n",
    "\n",
    "Parteix el conjunt de dadesDelayedFlights.csv en train i test. Estudia els dos conjunts per separat, a nivell descriptiu"
   ]
  },
  {
   "cell_type": "markdown",
   "id": "ef4ced8e",
   "metadata": {},
   "source": [
    "## Nivell  \n",
    "\n",
    "- **Exercici 2**  \n",
    "\n",
    "Aplica algun procés de transformació (estandarditzar les dades numèriques, crear columnes dummies, polinomis...)."
   ]
  },
  {
   "cell_type": "markdown",
   "id": "f820d922",
   "metadata": {},
   "source": [
    "## Nivell  \n",
    "\n",
    "- **Exercici 3**  \n",
    "\n",
    "Resumeix les noves columnes generades de manera estadística i gràfica"
   ]
  },
  {
   "cell_type": "markdown",
   "id": "73f437ea",
   "metadata": {},
   "source": [
    "Comencem!  \n",
    "\n",
    "Importem llibreries i obrim el fitxer"
   ]
  },
  {
   "cell_type": "code",
   "execution_count": 27,
   "id": "f2046d59",
   "metadata": {
    "run_control": {
     "marked": false
    }
   },
   "outputs": [
    {
     "data": {
      "text/html": [
       "<div>\n",
       "<style scoped>\n",
       "    .dataframe tbody tr th:only-of-type {\n",
       "        vertical-align: middle;\n",
       "    }\n",
       "\n",
       "    .dataframe tbody tr th {\n",
       "        vertical-align: top;\n",
       "    }\n",
       "\n",
       "    .dataframe thead th {\n",
       "        text-align: right;\n",
       "    }\n",
       "</style>\n",
       "<table border=\"1\" class=\"dataframe\">\n",
       "  <thead>\n",
       "    <tr style=\"text-align: right;\">\n",
       "      <th></th>\n",
       "      <th>Unnamed: 0</th>\n",
       "      <th>Unnamed: 0.1</th>\n",
       "      <th>Year</th>\n",
       "      <th>Month</th>\n",
       "      <th>DayofMonth</th>\n",
       "      <th>DayOfWeek</th>\n",
       "      <th>DepTime</th>\n",
       "      <th>CRSDepTime</th>\n",
       "      <th>ArrTime</th>\n",
       "      <th>CRSArrTime</th>\n",
       "      <th>...</th>\n",
       "      <th>TaxiIn</th>\n",
       "      <th>TaxiOut</th>\n",
       "      <th>Cancelled</th>\n",
       "      <th>CancellationCode</th>\n",
       "      <th>Diverted</th>\n",
       "      <th>CarrierDelay</th>\n",
       "      <th>WeatherDelay</th>\n",
       "      <th>NASDelay</th>\n",
       "      <th>SecurityDelay</th>\n",
       "      <th>LateAircraftDelay</th>\n",
       "    </tr>\n",
       "  </thead>\n",
       "  <tbody>\n",
       "    <tr>\n",
       "      <th>0</th>\n",
       "      <td>0</td>\n",
       "      <td>0</td>\n",
       "      <td>2008</td>\n",
       "      <td>1</td>\n",
       "      <td>3</td>\n",
       "      <td>4</td>\n",
       "      <td>2003.0</td>\n",
       "      <td>1955</td>\n",
       "      <td>2211.0</td>\n",
       "      <td>2225</td>\n",
       "      <td>...</td>\n",
       "      <td>4.0</td>\n",
       "      <td>8.0</td>\n",
       "      <td>0</td>\n",
       "      <td>N</td>\n",
       "      <td>0</td>\n",
       "      <td>NaN</td>\n",
       "      <td>NaN</td>\n",
       "      <td>NaN</td>\n",
       "      <td>NaN</td>\n",
       "      <td>NaN</td>\n",
       "    </tr>\n",
       "    <tr>\n",
       "      <th>1</th>\n",
       "      <td>1</td>\n",
       "      <td>1</td>\n",
       "      <td>2008</td>\n",
       "      <td>1</td>\n",
       "      <td>3</td>\n",
       "      <td>4</td>\n",
       "      <td>754.0</td>\n",
       "      <td>735</td>\n",
       "      <td>1002.0</td>\n",
       "      <td>1000</td>\n",
       "      <td>...</td>\n",
       "      <td>5.0</td>\n",
       "      <td>10.0</td>\n",
       "      <td>0</td>\n",
       "      <td>N</td>\n",
       "      <td>0</td>\n",
       "      <td>NaN</td>\n",
       "      <td>NaN</td>\n",
       "      <td>NaN</td>\n",
       "      <td>NaN</td>\n",
       "      <td>NaN</td>\n",
       "    </tr>\n",
       "    <tr>\n",
       "      <th>2</th>\n",
       "      <td>2</td>\n",
       "      <td>2</td>\n",
       "      <td>2008</td>\n",
       "      <td>1</td>\n",
       "      <td>3</td>\n",
       "      <td>4</td>\n",
       "      <td>628.0</td>\n",
       "      <td>620</td>\n",
       "      <td>804.0</td>\n",
       "      <td>750</td>\n",
       "      <td>...</td>\n",
       "      <td>3.0</td>\n",
       "      <td>17.0</td>\n",
       "      <td>0</td>\n",
       "      <td>N</td>\n",
       "      <td>0</td>\n",
       "      <td>NaN</td>\n",
       "      <td>NaN</td>\n",
       "      <td>NaN</td>\n",
       "      <td>NaN</td>\n",
       "      <td>NaN</td>\n",
       "    </tr>\n",
       "    <tr>\n",
       "      <th>3</th>\n",
       "      <td>3</td>\n",
       "      <td>4</td>\n",
       "      <td>2008</td>\n",
       "      <td>1</td>\n",
       "      <td>3</td>\n",
       "      <td>4</td>\n",
       "      <td>1829.0</td>\n",
       "      <td>1755</td>\n",
       "      <td>1959.0</td>\n",
       "      <td>1925</td>\n",
       "      <td>...</td>\n",
       "      <td>3.0</td>\n",
       "      <td>10.0</td>\n",
       "      <td>0</td>\n",
       "      <td>N</td>\n",
       "      <td>0</td>\n",
       "      <td>2.0</td>\n",
       "      <td>0.0</td>\n",
       "      <td>0.0</td>\n",
       "      <td>0.0</td>\n",
       "      <td>32.0</td>\n",
       "    </tr>\n",
       "    <tr>\n",
       "      <th>4</th>\n",
       "      <td>4</td>\n",
       "      <td>5</td>\n",
       "      <td>2008</td>\n",
       "      <td>1</td>\n",
       "      <td>3</td>\n",
       "      <td>4</td>\n",
       "      <td>1940.0</td>\n",
       "      <td>1915</td>\n",
       "      <td>2121.0</td>\n",
       "      <td>2110</td>\n",
       "      <td>...</td>\n",
       "      <td>4.0</td>\n",
       "      <td>10.0</td>\n",
       "      <td>0</td>\n",
       "      <td>N</td>\n",
       "      <td>0</td>\n",
       "      <td>NaN</td>\n",
       "      <td>NaN</td>\n",
       "      <td>NaN</td>\n",
       "      <td>NaN</td>\n",
       "      <td>NaN</td>\n",
       "    </tr>\n",
       "  </tbody>\n",
       "</table>\n",
       "<p>5 rows × 31 columns</p>\n",
       "</div>"
      ],
      "text/plain": [
       "   Unnamed: 0  Unnamed: 0.1  Year  Month  DayofMonth  DayOfWeek  DepTime  \\\n",
       "0           0             0  2008      1           3          4   2003.0   \n",
       "1           1             1  2008      1           3          4    754.0   \n",
       "2           2             2  2008      1           3          4    628.0   \n",
       "3           3             4  2008      1           3          4   1829.0   \n",
       "4           4             5  2008      1           3          4   1940.0   \n",
       "\n",
       "   CRSDepTime  ArrTime  CRSArrTime  ... TaxiIn  TaxiOut Cancelled  \\\n",
       "0        1955   2211.0        2225  ...    4.0      8.0         0   \n",
       "1         735   1002.0        1000  ...    5.0     10.0         0   \n",
       "2         620    804.0         750  ...    3.0     17.0         0   \n",
       "3        1755   1959.0        1925  ...    3.0     10.0         0   \n",
       "4        1915   2121.0        2110  ...    4.0     10.0         0   \n",
       "\n",
       "   CancellationCode  Diverted  CarrierDelay  WeatherDelay  NASDelay  \\\n",
       "0                 N         0           NaN           NaN       NaN   \n",
       "1                 N         0           NaN           NaN       NaN   \n",
       "2                 N         0           NaN           NaN       NaN   \n",
       "3                 N         0           2.0           0.0       0.0   \n",
       "4                 N         0           NaN           NaN       NaN   \n",
       "\n",
       "  SecurityDelay LateAircraftDelay  \n",
       "0           NaN               NaN  \n",
       "1           NaN               NaN  \n",
       "2           NaN               NaN  \n",
       "3           0.0              32.0  \n",
       "4           NaN               NaN  \n",
       "\n",
       "[5 rows x 31 columns]"
      ]
     },
     "execution_count": 27,
     "metadata": {},
     "output_type": "execute_result"
    }
   ],
   "source": [
    "import pandas as pd \n",
    "import numpy as np\n",
    "import seaborn as sns\n",
    "import matplotlib.pyplot as plt\n",
    "\n",
    "url='https://github.com/Ortegbel/PractiquesDataScience/blob/master/Exercici5/DelayedFlightsComp.csv.gz?raw=true'\n",
    "df = pd.read_csv(url,  compression='gzip')\n",
    "\n",
    "\n",
    "df.head()"
   ]
  },
  {
   "cell_type": "code",
   "execution_count": 28,
   "id": "d1bf7f73",
   "metadata": {
    "run_control": {
     "marked": false
    }
   },
   "outputs": [
    {
     "name": "stdout",
     "output_type": "stream",
     "text": [
      "<class 'pandas.core.frame.DataFrame'>\n",
      "RangeIndex: 1936758 entries, 0 to 1936757\n",
      "Data columns (total 31 columns):\n",
      " #   Column             Dtype  \n",
      "---  ------             -----  \n",
      " 0   Unnamed: 0         int64  \n",
      " 1   Unnamed: 0.1       int64  \n",
      " 2   Year               int64  \n",
      " 3   Month              int64  \n",
      " 4   DayofMonth         int64  \n",
      " 5   DayOfWeek          int64  \n",
      " 6   DepTime            float64\n",
      " 7   CRSDepTime         int64  \n",
      " 8   ArrTime            float64\n",
      " 9   CRSArrTime         int64  \n",
      " 10  UniqueCarrier      object \n",
      " 11  FlightNum          int64  \n",
      " 12  TailNum            object \n",
      " 13  ActualElapsedTime  float64\n",
      " 14  CRSElapsedTime     float64\n",
      " 15  AirTime            float64\n",
      " 16  ArrDelay           float64\n",
      " 17  DepDelay           float64\n",
      " 18  Origin             object \n",
      " 19  Dest               object \n",
      " 20  Distance           int64  \n",
      " 21  TaxiIn             float64\n",
      " 22  TaxiOut            float64\n",
      " 23  Cancelled          int64  \n",
      " 24  CancellationCode   object \n",
      " 25  Diverted           int64  \n",
      " 26  CarrierDelay       float64\n",
      " 27  WeatherDelay       float64\n",
      " 28  NASDelay           float64\n",
      " 29  SecurityDelay      float64\n",
      " 30  LateAircraftDelay  float64\n",
      "dtypes: float64(14), int64(12), object(5)\n",
      "memory usage: 458.1+ MB\n"
     ]
    }
   ],
   "source": [
    "df.info()"
   ]
  },
  {
   "cell_type": "markdown",
   "id": "f2e22b09",
   "metadata": {},
   "source": [
    "Reemplaçaré els valors nuls amb 0"
   ]
  },
  {
   "cell_type": "code",
   "execution_count": 29,
   "id": "0b95ec16",
   "metadata": {
    "run_control": {
     "marked": false
    }
   },
   "outputs": [],
   "source": [
    "df = df.fillna(0)"
   ]
  },
  {
   "cell_type": "code",
   "execution_count": 30,
   "id": "010a2b66",
   "metadata": {
    "run_control": {
     "marked": false
    }
   },
   "outputs": [
    {
     "data": {
      "text/plain": [
       "(1936758, 31)"
      ]
     },
     "execution_count": 30,
     "metadata": {},
     "output_type": "execute_result"
    }
   ],
   "source": [
    "df.shape"
   ]
  },
  {
   "cell_type": "markdown",
   "id": "99d8344c",
   "metadata": {},
   "source": [
    "ara crearé columnes noves i factoritzant les variables categoriques"
   ]
  },
  {
   "cell_type": "code",
   "execution_count": 31,
   "id": "009e26ef",
   "metadata": {
    "run_control": {
     "marked": false
    }
   },
   "outputs": [],
   "source": [
    "df['ElapsedTimeD'] = df.ActualElapsedTime - df.CRSElapsedTime"
   ]
  },
  {
   "cell_type": "code",
   "execution_count": 32,
   "id": "e2b839aa",
   "metadata": {
    "run_control": {
     "marked": false
    }
   },
   "outputs": [],
   "source": [
    "df['CarrierFzd'] = pd.factorize(df['UniqueCarrier'])[0]\n",
    "df['OriginFzd'] = pd.factorize(df['Origin'])[0]\n",
    "df['DestFzd'] = pd.factorize(df['Dest'])[0]"
   ]
  },
  {
   "cell_type": "markdown",
   "id": "12323eab",
   "metadata": {},
   "source": [
    "Creo un nou dataFrame amb les columnes que m'interessen"
   ]
  },
  {
   "cell_type": "code",
   "execution_count": 33,
   "id": "c778d629",
   "metadata": {
    "run_control": {
     "marked": false
    }
   },
   "outputs": [],
   "source": [
    "delays =df[['Month','CarrierFzd','ElapsedTimeD','OriginFzd', 'DestFzd','Distance','Cancelled','Diverted','CarrierDelay',\n",
    "           'WeatherDelay', 'NASDelay', 'SecurityDelay','LateAircraftDelay']].copy()"
   ]
  },
  {
   "cell_type": "code",
   "execution_count": 34,
   "id": "747f7804",
   "metadata": {
    "run_control": {
     "marked": false
    }
   },
   "outputs": [
    {
     "name": "stdout",
     "output_type": "stream",
     "text": [
      "<class 'pandas.core.frame.DataFrame'>\n",
      "RangeIndex: 1936758 entries, 0 to 1936757\n",
      "Data columns (total 13 columns):\n",
      " #   Column             Dtype  \n",
      "---  ------             -----  \n",
      " 0   Month              int64  \n",
      " 1   CarrierFzd         int64  \n",
      " 2   ElapsedTimeD       float64\n",
      " 3   OriginFzd          int64  \n",
      " 4   DestFzd            int64  \n",
      " 5   Distance           int64  \n",
      " 6   Cancelled          int64  \n",
      " 7   Diverted           int64  \n",
      " 8   CarrierDelay       float64\n",
      " 9   WeatherDelay       float64\n",
      " 10  NASDelay           float64\n",
      " 11  SecurityDelay      float64\n",
      " 12  LateAircraftDelay  float64\n",
      "dtypes: float64(6), int64(7)\n",
      "memory usage: 192.1 MB\n"
     ]
    }
   ],
   "source": [
    "delays.info()"
   ]
  },
  {
   "cell_type": "markdown",
   "id": "d9eaf030",
   "metadata": {},
   "source": [
    "Ara vull veure quines variables estan més relacionades entre sí, per això generaré una Corr Matrix amb Seaborn"
   ]
  },
  {
   "cell_type": "code",
   "execution_count": 18,
   "id": "2d2456e5",
   "metadata": {
    "run_control": {
     "marked": true
    }
   },
   "outputs": [
    {
     "data": {
      "text/plain": [
       "<AxesSubplot:>"
      ]
     },
     "execution_count": 18,
     "metadata": {},
     "output_type": "execute_result"
    },
    {
     "data": {
      "image/png": "[encoded data removed]",
      "text/plain": [
       "<Figure size 792x648 with 2 Axes>"
      ]
     },
     "metadata": {
      "needs_background": "light"
     },
     "output_type": "display_data"
    }
   ],
   "source": [
    "corr = delays.corr()\n",
    "\n",
    "# Generate a mask for the upper triangle\n",
    "mask = np.triu(np.ones_like(corr, dtype=bool))\n",
    "\n",
    "# Set up the matplotlib figure\n",
    "f, ax = plt.subplots(figsize=(11, 9))\n",
    "\n",
    "# Generate a custom diverging colormap\n",
    "cmap = sns.diverging_palette(230, 20, as_cmap=True)\n",
    "\n",
    "# Draw the heatmap with the mask and correct aspect ratio\n",
    "sns.heatmap(corr, mask=mask, cmap=cmap, vmax=.3, center=0,\n",
    "            square=True, linewidths=.5, cbar_kws={\"shrink\": .5})"
   ]
  },
  {
   "cell_type": "markdown",
   "id": "2b808e63",
   "metadata": {},
   "source": [
    "Veiem q les variables q tenen un major impacte en els endarreriments dels vols són Origen, Destí , Distància, companyia, Elapsed Time D , una variable que hem creat abans i que correspon a la diferencia entre al durada estimada i la durada real del vol. \n",
    "Ara dividiré les dades , prenent com a variable objectiu Elapsed Time D i la resta com a variables de caracteristiques "
   ]
  },
  {
   "cell_type": "code",
   "execution_count": 10,
   "id": "c8a3744b",
   "metadata": {
    "run_control": {
     "marked": false
    }
   },
   "outputs": [
    {
     "data": {
      "text/html": [
       "<div>\n",
       "<style scoped>\n",
       "    .dataframe tbody tr th:only-of-type {\n",
       "        vertical-align: middle;\n",
       "    }\n",
       "\n",
       "    .dataframe tbody tr th {\n",
       "        vertical-align: top;\n",
       "    }\n",
       "\n",
       "    .dataframe thead th {\n",
       "        text-align: right;\n",
       "    }\n",
       "</style>\n",
       "<table border=\"1\" class=\"dataframe\">\n",
       "  <thead>\n",
       "    <tr style=\"text-align: right;\">\n",
       "      <th></th>\n",
       "      <th>OriginFzd</th>\n",
       "      <th>DestFzd</th>\n",
       "      <th>Cancelled</th>\n",
       "      <th>Diverted</th>\n",
       "      <th>CarrierDelay</th>\n",
       "      <th>WeatherDelay</th>\n",
       "      <th>NASDelay</th>\n",
       "      <th>Distance</th>\n",
       "      <th>SecurityDelay</th>\n",
       "      <th>LateAircraftDelay</th>\n",
       "      <th>CarrierFzd</th>\n",
       "    </tr>\n",
       "  </thead>\n",
       "  <tbody>\n",
       "    <tr>\n",
       "      <th>count</th>\n",
       "      <td>1.936758e+06</td>\n",
       "      <td>1.936758e+06</td>\n",
       "      <td>1.936758e+06</td>\n",
       "      <td>1.936758e+06</td>\n",
       "      <td>1.936758e+06</td>\n",
       "      <td>1.936758e+06</td>\n",
       "      <td>1.936758e+06</td>\n",
       "      <td>1.936758e+06</td>\n",
       "      <td>1.936758e+06</td>\n",
       "      <td>1.936758e+06</td>\n",
       "      <td>1.936758e+06</td>\n",
       "    </tr>\n",
       "    <tr>\n",
       "      <th>mean</th>\n",
       "      <td>6.565117e+01</td>\n",
       "      <td>6.567086e+01</td>\n",
       "      <td>3.268348e-04</td>\n",
       "      <td>4.003598e-03</td>\n",
       "      <td>1.235367e+01</td>\n",
       "      <td>2.385512e+00</td>\n",
       "      <td>9.675607e+00</td>\n",
       "      <td>7.656862e+02</td>\n",
       "      <td>5.805836e-02</td>\n",
       "      <td>1.629374e+01</td>\n",
       "      <td>7.560402e+00</td>\n",
       "    </tr>\n",
       "    <tr>\n",
       "      <th>std</th>\n",
       "      <td>4.795150e+01</td>\n",
       "      <td>5.121993e+01</td>\n",
       "      <td>1.807562e-02</td>\n",
       "      <td>6.314722e-02</td>\n",
       "      <td>3.613493e+01</td>\n",
       "      <td>1.734036e+01</td>\n",
       "      <td>2.808958e+01</td>\n",
       "      <td>5.744797e+02</td>\n",
       "      <td>1.623934e+00</td>\n",
       "      <td>3.585904e+01</td>\n",
       "      <td>6.151404e+00</td>\n",
       "    </tr>\n",
       "    <tr>\n",
       "      <th>min</th>\n",
       "      <td>0.000000e+00</td>\n",
       "      <td>0.000000e+00</td>\n",
       "      <td>0.000000e+00</td>\n",
       "      <td>0.000000e+00</td>\n",
       "      <td>0.000000e+00</td>\n",
       "      <td>0.000000e+00</td>\n",
       "      <td>0.000000e+00</td>\n",
       "      <td>1.100000e+01</td>\n",
       "      <td>0.000000e+00</td>\n",
       "      <td>0.000000e+00</td>\n",
       "      <td>0.000000e+00</td>\n",
       "    </tr>\n",
       "    <tr>\n",
       "      <th>25%</th>\n",
       "      <td>3.000000e+01</td>\n",
       "      <td>2.500000e+01</td>\n",
       "      <td>0.000000e+00</td>\n",
       "      <td>0.000000e+00</td>\n",
       "      <td>0.000000e+00</td>\n",
       "      <td>0.000000e+00</td>\n",
       "      <td>0.000000e+00</td>\n",
       "      <td>3.380000e+02</td>\n",
       "      <td>0.000000e+00</td>\n",
       "      <td>0.000000e+00</td>\n",
       "      <td>2.000000e+00</td>\n",
       "    </tr>\n",
       "    <tr>\n",
       "      <th>50%</th>\n",
       "      <td>6.000000e+01</td>\n",
       "      <td>5.600000e+01</td>\n",
       "      <td>0.000000e+00</td>\n",
       "      <td>0.000000e+00</td>\n",
       "      <td>0.000000e+00</td>\n",
       "      <td>0.000000e+00</td>\n",
       "      <td>0.000000e+00</td>\n",
       "      <td>6.060000e+02</td>\n",
       "      <td>0.000000e+00</td>\n",
       "      <td>0.000000e+00</td>\n",
       "      <td>6.000000e+00</td>\n",
       "    </tr>\n",
       "    <tr>\n",
       "      <th>75%</th>\n",
       "      <td>9.300000e+01</td>\n",
       "      <td>9.500000e+01</td>\n",
       "      <td>0.000000e+00</td>\n",
       "      <td>0.000000e+00</td>\n",
       "      <td>1.000000e+01</td>\n",
       "      <td>0.000000e+00</td>\n",
       "      <td>6.000000e+00</td>\n",
       "      <td>9.980000e+02</td>\n",
       "      <td>0.000000e+00</td>\n",
       "      <td>1.800000e+01</td>\n",
       "      <td>1.300000e+01</td>\n",
       "    </tr>\n",
       "    <tr>\n",
       "      <th>max</th>\n",
       "      <td>3.020000e+02</td>\n",
       "      <td>3.030000e+02</td>\n",
       "      <td>1.000000e+00</td>\n",
       "      <td>1.000000e+00</td>\n",
       "      <td>2.436000e+03</td>\n",
       "      <td>1.352000e+03</td>\n",
       "      <td>1.357000e+03</td>\n",
       "      <td>4.962000e+03</td>\n",
       "      <td>3.920000e+02</td>\n",
       "      <td>1.316000e+03</td>\n",
       "      <td>1.900000e+01</td>\n",
       "    </tr>\n",
       "  </tbody>\n",
       "</table>\n",
       "</div>"
      ],
      "text/plain": [
       "          OriginFzd       DestFzd     Cancelled      Diverted  CarrierDelay  \\\n",
       "count  1.936758e+06  1.936758e+06  1.936758e+06  1.936758e+06  1.936758e+06   \n",
       "mean   6.565117e+01  6.567086e+01  3.268348e-04  4.003598e-03  1.235367e+01   \n",
       "std    4.795150e+01  5.121993e+01  1.807562e-02  6.314722e-02  3.613493e+01   \n",
       "min    0.000000e+00  0.000000e+00  0.000000e+00  0.000000e+00  0.000000e+00   \n",
       "25%    3.000000e+01  2.500000e+01  0.000000e+00  0.000000e+00  0.000000e+00   \n",
       "50%    6.000000e+01  5.600000e+01  0.000000e+00  0.000000e+00  0.000000e+00   \n",
       "75%    9.300000e+01  9.500000e+01  0.000000e+00  0.000000e+00  1.000000e+01   \n",
       "max    3.020000e+02  3.030000e+02  1.000000e+00  1.000000e+00  2.436000e+03   \n",
       "\n",
       "       WeatherDelay      NASDelay      Distance  SecurityDelay  \\\n",
       "count  1.936758e+06  1.936758e+06  1.936758e+06   1.936758e+06   \n",
       "mean   2.385512e+00  9.675607e+00  7.656862e+02   5.805836e-02   \n",
       "std    1.734036e+01  2.808958e+01  5.744797e+02   1.623934e+00   \n",
       "min    0.000000e+00  0.000000e+00  1.100000e+01   0.000000e+00   \n",
       "25%    0.000000e+00  0.000000e+00  3.380000e+02   0.000000e+00   \n",
       "50%    0.000000e+00  0.000000e+00  6.060000e+02   0.000000e+00   \n",
       "75%    0.000000e+00  6.000000e+00  9.980000e+02   0.000000e+00   \n",
       "max    1.352000e+03  1.357000e+03  4.962000e+03   3.920000e+02   \n",
       "\n",
       "       LateAircraftDelay    CarrierFzd  \n",
       "count       1.936758e+06  1.936758e+06  \n",
       "mean        1.629374e+01  7.560402e+00  \n",
       "std         3.585904e+01  6.151404e+00  \n",
       "min         0.000000e+00  0.000000e+00  \n",
       "25%         0.000000e+00  2.000000e+00  \n",
       "50%         0.000000e+00  6.000000e+00  \n",
       "75%         1.800000e+01  1.300000e+01  \n",
       "max         1.316000e+03  1.900000e+01  "
      ]
     },
     "execution_count": 10,
     "metadata": {},
     "output_type": "execute_result"
    }
   ],
   "source": [
    "from sklearn.model_selection import train_test_split\n",
    "\n",
    "\n",
    "y= delays.ElapsedTimeD\n",
    "\n",
    "delays_features = ['OriginFzd', 'DestFzd','Cancelled','Diverted','CarrierDelay',\n",
    "           'WeatherDelay', 'NASDelay','Distance', 'SecurityDelay','LateAircraftDelay','CarrierFzd']\n",
    "\n",
    "X =delays[delays_features]\n",
    "X.describe() \n"
   ]
  },
  {
   "cell_type": "code",
   "execution_count": 11,
   "id": "15944067",
   "metadata": {
    "run_control": {
     "marked": false
    }
   },
   "outputs": [],
   "source": [
    "X_train, X_test, y_train, y_test = train_test_split(X, y, random_state= 42, train_size=0.30)\n"
   ]
  },
  {
   "cell_type": "code",
   "execution_count": 12,
   "id": "f8c9f4a0",
   "metadata": {
    "run_control": {
     "marked": false
    }
   },
   "outputs": [
    {
     "name": "stdout",
     "output_type": "stream",
     "text": [
      "X_test:  (1355731, 11) X_train:  (581027, 11)\n",
      "y_test:  (1355731,) y_train:  (581027,)\n"
     ]
    }
   ],
   "source": [
    "print('X_test: ', X_test.shape, 'X_train: ',X_train.shape)\n",
    "print('y_test: ', y_test.shape, 'y_train: ',y_train.shape) "
   ]
  },
  {
   "cell_type": "markdown",
   "id": "c7c0281e",
   "metadata": {},
   "source": [
    "Faré un model de ML per poder predir el ElapsedTimeD seguint els següents passos:  \n",
    "- Definir el model\n",
    "- Fit l'entrenaré\n",
    "- Predir\n",
    "- Avaluar \n",
    "\n",
    "Som-hi!  \n",
    "\n",
    "he decidit probar primer amb el DecissionTreeRegressor, fent primer els càlculs amb totes les dades i comparant els resultats amb una porció de les dades. "
   ]
  },
  {
   "cell_type": "code",
   "execution_count": 13,
   "id": "c711ea13",
   "metadata": {
    "run_control": {
     "marked": false
    }
   },
   "outputs": [
    {
     "data": {
      "text/plain": [
       "DecisionTreeRegressor(random_state=42)"
      ]
     },
     "execution_count": 13,
     "metadata": {},
     "output_type": "execute_result"
    }
   ],
   "source": [
    "from sklearn.tree import DecisionTreeRegressor\n",
    "\n",
    "# Definir model: cal especificar el número random_state per aconseguir sempre el mateix resultat\n",
    "delays_model = DecisionTreeRegressor(random_state=42)\n",
    "\n",
    "# Fit model\n",
    "delays_model.fit(X, y)"
   ]
  },
  {
   "cell_type": "code",
   "execution_count": 14,
   "id": "b9a0b74f",
   "metadata": {
    "run_control": {
     "marked": false
    }
   },
   "outputs": [
    {
     "name": "stdout",
     "output_type": "stream",
     "text": [
      "Farem les prediccions prenent els següents 5 vols:\n",
      "         OriginFzd  DestFzd  Cancelled  Diverted  CarrierDelay  WeatherDelay  \\\n",
      "1936753         83       89          0         0           3.0           0.0   \n",
      "1936754         92       89          0         0           0.0          57.0   \n",
      "1936755        104       65          0         0           1.0           0.0   \n",
      "1936756          0       89          0         0           0.0           0.0   \n",
      "1936757         30       89          0         0           0.0           0.0   \n",
      "\n",
      "         NASDelay  Distance  SecurityDelay  LateAircraftDelay  CarrierFzd  \n",
      "1936753       0.0       906            0.0               22.0           7  \n",
      "1936754      18.0       481            0.0                0.0           7  \n",
      "1936755      19.0       689            0.0               79.0           7  \n",
      "1936756       0.0       533            0.0                0.0           7  \n",
      "1936757       0.0       874            0.0                0.0           7  \n"
     ]
    }
   ],
   "source": [
    "print(\"Farem les prediccions prenent els següents 5 vols:\")\n",
    "print(X.tail())"
   ]
  },
  {
   "cell_type": "code",
   "execution_count": 15,
   "id": "1f89ffb7",
   "metadata": {
    "run_control": {
     "marked": false
    }
   },
   "outputs": [
    {
     "name": "stdout",
     "output_type": "stream",
     "text": [
      "Les prediccions són:\n",
      "[-5.         18.         19.         -7.70114943 -8.65697674]\n"
     ]
    }
   ],
   "source": [
    "print('Les prediccions són:')\n",
    "print(delays_model.predict(X.tail()))"
   ]
  },
  {
   "cell_type": "markdown",
   "id": "fe81d877",
   "metadata": {},
   "source": [
    "Calcul.lem l'error mitj de les prediccions"
   ]
  },
  {
   "cell_type": "code",
   "execution_count": 16,
   "id": "64ec1b7b",
   "metadata": {
    "run_control": {
     "marked": false
    }
   },
   "outputs": [
    {
     "data": {
      "text/plain": [
       "2.7222948756586853"
      ]
     },
     "execution_count": 16,
     "metadata": {},
     "output_type": "execute_result"
    }
   ],
   "source": [
    "from sklearn.metrics import mean_absolute_error\n",
    "\n",
    "predicted_delays = delays_model.predict(X)\n",
    "mean_absolute_error(y, predicted_delays)"
   ]
  },
  {
   "cell_type": "markdown",
   "id": "ef157d34",
   "metadata": {},
   "source": [
    "Ens dóna un error de 2.72 minuts."
   ]
  },
  {
   "cell_type": "code",
   "execution_count": 19,
   "id": "456dcb67",
   "metadata": {
    "run_control": {
     "marked": true
    }
   },
   "outputs": [
    {
     "data": {
      "text/plain": [
       "DecisionTreeRegressor(random_state=42)"
      ]
     },
     "execution_count": 19,
     "metadata": {},
     "output_type": "execute_result"
    }
   ],
   "source": [
    "from sklearn.tree import DecisionTreeRegressor\n",
    "\n",
    "# Definir model: cal especificar el número random_state per aconseguir sempre el mateix resultat\n",
    "delays_model = DecisionTreeRegressor(random_state=42)\n",
    "\n",
    "# Fit model\n",
    "delays_model.fit(X_train, y_train)"
   ]
  },
  {
   "cell_type": "code",
   "execution_count": 20,
   "id": "6ffdef89",
   "metadata": {
    "run_control": {
     "marked": true
    }
   },
   "outputs": [
    {
     "name": "stdout",
     "output_type": "stream",
     "text": [
      "Farem les prediccions prenent els següents 5 vols:\n",
      "         OriginFzd  DestFzd  Cancelled  Diverted  CarrierDelay  WeatherDelay  \\\n",
      "259178          65      118          0         0           0.0           0.0   \n",
      "1414414         14       65          0         0           0.0           0.0   \n",
      "131932          58       30          0         0          51.0           0.0   \n",
      "671155          93      126          0         0          48.0           0.0   \n",
      "121958          65        1          0         0          20.0           0.0   \n",
      "\n",
      "         NASDelay  Distance  SecurityDelay  LateAircraftDelay  CarrierFzd  \n",
      "259178        0.0       867            0.0                0.0           5  \n",
      "1414414      76.0       305            0.0                0.0          19  \n",
      "131932        0.0      1979            0.0                0.0          13  \n",
      "671155        0.0       624            0.0                0.0          12  \n",
      "121958        0.0       622            0.0                0.0          12  \n"
     ]
    }
   ],
   "source": [
    "print(\"Farem les prediccions prenent els següents 5 vols:\")\n",
    "print(X_train.tail())"
   ]
  },
  {
   "cell_type": "code",
   "execution_count": 21,
   "id": "6f160828",
   "metadata": {
    "run_control": {
     "marked": true
    }
   },
   "outputs": [
    {
     "name": "stdout",
     "output_type": "stream",
     "text": [
      "Les prediccions són:\n",
      "[-11.25581395 -10.         -15.          -8.          -7.        ]\n"
     ]
    }
   ],
   "source": [
    "print('Les prediccions són:')\n",
    "print(delays_model.predict(X_train.tail()))"
   ]
  },
  {
   "cell_type": "code",
   "execution_count": 22,
   "id": "991ae27b",
   "metadata": {
    "run_control": {
     "marked": true
    }
   },
   "outputs": [
    {
     "data": {
      "text/plain": [
       "2.3124950453005257"
      ]
     },
     "execution_count": 22,
     "metadata": {},
     "output_type": "execute_result"
    }
   ],
   "source": [
    "predicted_delays = delays_model.predict(X_train)\n",
    "mean_absolute_error(y_train, predicted_delays)"
   ]
  },
  {
   "cell_type": "markdown",
   "id": "584c5f8d",
   "metadata": {},
   "source": [
    "L'error mig ha disminuït una mica, sent en aquest cas de <mark>2.31</mark> minuts."
   ]
  },
  {
   "cell_type": "markdown",
   "id": "0cf0872e",
   "metadata": {},
   "source": [
    "Finalment probaré de fer-ho amb Rnadom forest, per comparar les dades:"
   ]
  },
  {
   "cell_type": "code",
   "execution_count": 23,
   "id": "67d6f2c6",
   "metadata": {
    "run_control": {
     "marked": true
    }
   },
   "outputs": [],
   "source": [
    "from sklearn.ensemble import RandomForestRegressor\n",
    "from sklearn.metrics import mean_absolute_error\n",
    "\n",
    "rf_model = RandomForestRegressor(random_state=42)"
   ]
  },
  {
   "cell_type": "code",
   "execution_count": 24,
   "id": "94b8a64b",
   "metadata": {
    "run_control": {
     "marked": true
    }
   },
   "outputs": [
    {
     "data": {
      "text/plain": [
       "RandomForestRegressor(random_state=42)"
      ]
     },
     "execution_count": 24,
     "metadata": {},
     "output_type": "execute_result"
    }
   ],
   "source": [
    "rf_model.fit(X_train, y_train)"
   ]
  },
  {
   "cell_type": "code",
   "execution_count": 25,
   "id": "44423d89",
   "metadata": {
    "run_control": {
     "marked": true
    }
   },
   "outputs": [],
   "source": [
    "# Calculate the mean absolute error of your Random Forest model on the test data\n",
    "rf_test_predictions = rf_model.predict(X_test)\n",
    "rf_test_mae = mean_absolute_error(rf_test_predictions, y_test)"
   ]
  },
  {
   "cell_type": "code",
   "execution_count": 26,
   "id": "e238407e",
   "metadata": {
    "run_control": {
     "marked": true
    },
    "scrolled": true
   },
   "outputs": [
    {
     "name": "stdout",
     "output_type": "stream",
     "text": [
      "Test MAE per Random Forest Model: 5.9427023309311355\n"
     ]
    }
   ],
   "source": [
    "print(\"Test MAE per Random Forest Model: {}\".format(rf_test_mae))"
   ]
  },
  {
   "cell_type": "markdown",
   "id": "940fc1ae",
   "metadata": {},
   "source": [
    "En aquest cas L'error mig ha pujat més, sent en aquest cas de <mark>5.94</mark> minuts.Crecq ue aquest model no és tant acurat per aquest bloc de dades.\n"
   ]
  },
  {
   "cell_type": "code",
   "execution_count": null,
   "id": "58a22fca",
   "metadata": {},
   "outputs": [],
   "source": []
  }
 ],
 "metadata": {
  "hide_input": false,
  "kernelspec": {
   "display_name": "Python 3",
   "language": "python",
   "name": "python3"
  },
  "language_info": {
   "codemirror_mode": {
    "name": "ipython",
    "version": 3
   },
   "file_extension": ".py",
   "mimetype": "text/x-python",
   "name": "python",
   "nbconvert_exporter": "python",
   "pygments_lexer": "ipython3",
   "version": "3.8.8"
  },
  "toc": {
   "base_numbering": 1,
   "nav_menu": {},
   "number_sections": true,
   "sideBar": true,
   "skip_h1_title": true,
   "title_cell": "Table of Contents",
   "title_sidebar": "Contents",
   "toc_cell": false,
   "toc_position": {
    "height": "calc(100% - 180px)",
    "left": "10px",
    "top": "150px",
    "width": "384px"
   },
   "toc_section_display": true,
   "toc_window_display": true
  }
 },
 "nbformat": 4,
 "nbformat_minor": 5
}
