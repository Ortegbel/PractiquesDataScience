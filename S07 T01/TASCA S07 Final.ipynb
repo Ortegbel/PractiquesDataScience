{
 "cells": [
  {
   "cell_type": "markdown",
   "id": "2bc28de9",
   "metadata": {},
   "source": [
    "# S07 T01: Tasca dades, probabilitats i estadístiques"
   ]
  },
  {
   "cell_type": "markdown",
   "id": "7e2e920b",
   "metadata": {},
   "source": [
    "__Enunciats:__  \n",
    "\n",
    "- Exercici 1  \n",
    "Agafa un conjunt de dades de tema esportiu que t'agradi i selecciona un atribut del conjunt de dades. Calcula la moda, la mediana, la desviació estàndard i la mitjana aritmètica.\n",
    "\n",
    "- Exercici 2  \n",
    "Continuant amb les dades de tema esportiu, selecciona dos atributs i calcula'n la seva correlació.  \n",
    "\n",
    "- Exercici 3\n",
    "Continuant amb les dades de tema esportiu, calcula la correlació de tots els atributs entre sí i representa'ls en una matriu amb diferents colors d'intensitat.  \n",
    "- Exercici 4\n",
    "Continuant amb les dades de tema esportiu, selecciona un atribut i calcula la mitjana geomètrica i la mitjana harmònica."
   ]
  },
  {
   "cell_type": "markdown",
   "id": "f5b55e5d",
   "metadata": {},
   "source": [
    "Tal com vaig fer en la tasca anterior, he pres el data set 'Teams' que pertany a la base de dades [Professional Hockey Database](https://www.kaggle.com/open-source-sports/professional-hockey-database) de Kaggle. \n",
    "Aquest cop he afegit la descripció de les variables incloses per tal de tenir una idea més clara del que contenen."
   ]
  },
  {
   "cell_type": "markdown",
   "id": "9157529c",
   "metadata": {},
   "source": [
    "•\tyear: Year (2005-06 listed as \"2005\")  \n",
    "\n",
    "•\tlgID: League ID  \n",
    "\n",
    "•\ttmID: Team ID  \n",
    "\n",
    "•\tfranchID: Franchise ID  \n",
    "\n",
    "•\tconfID: Conference ID (see abbrev.csv for details)  \n",
    "\n",
    "•\tdivID: Division ID (see abbrev.csv for details)  \n",
    "\n",
    "•\trank: Final standing  \n",
    "\n",
    "•\tplayoff: Playoff result (see abbrev.csv for details)  \n",
    "\n",
    "•\tG: Games  \n",
    "\n",
    "•\tW: Wins  \n",
    "\n",
    "•\tL: Losses  \n",
    "\n",
    "•\tT: Ties  \n",
    "\n",
    "•\tOTL: Overtime losses  \n",
    "\n",
    "•\tPts: Points  \n",
    "\n",
    "•\tSoW: Shootout wins  \n",
    "\n",
    "•\tSoL: Shootout losses  \n",
    "\n",
    "•\tGF: Goals for  \n",
    "\n",
    "•\tGA: Goals against  \n",
    "\n",
    "•\tname: Full team name  \n",
    "\n",
    "•\tPIM: Penalty minutes  \n",
    "\n",
    "•\tBenchMinor: Bench minors (minutes)  \n",
    "\n",
    "•\tPPG: Power play goals  \n",
    "\n",
    "•\tPPC: Power play chances  \n",
    "\n",
    "•\tSHA: Shorthanded goals against  \n",
    "\n",
    "•\tPKG: Power play goals against  \n",
    "\n",
    "•\tPKC: Penalty kill chances  \n",
    "\n",
    "•\tSHF: Shorthanded goals for\n"
   ]
  },
  {
   "cell_type": "markdown",
   "id": "09804f68",
   "metadata": {},
   "source": [
    "__Importo les dades:__"
   ]
  },
  {
   "cell_type": "code",
   "execution_count": 1,
   "id": "43155fc4",
   "metadata": {},
   "outputs": [
    {
     "data": {
      "text/html": [
       "<div>\n",
       "<style scoped>\n",
       "    .dataframe tbody tr th:only-of-type {\n",
       "        vertical-align: middle;\n",
       "    }\n",
       "\n",
       "    .dataframe tbody tr th {\n",
       "        vertical-align: top;\n",
       "    }\n",
       "\n",
       "    .dataframe thead th {\n",
       "        text-align: right;\n",
       "    }\n",
       "</style>\n",
       "<table border=\"1\" class=\"dataframe\">\n",
       "  <thead>\n",
       "    <tr style=\"text-align: right;\">\n",
       "      <th></th>\n",
       "      <th>year</th>\n",
       "      <th>lgID</th>\n",
       "      <th>tmID</th>\n",
       "      <th>franchID</th>\n",
       "      <th>confID</th>\n",
       "      <th>divID</th>\n",
       "      <th>rank</th>\n",
       "      <th>playoff</th>\n",
       "      <th>G</th>\n",
       "      <th>W</th>\n",
       "      <th>...</th>\n",
       "      <th>GA</th>\n",
       "      <th>name</th>\n",
       "      <th>PIM</th>\n",
       "      <th>BenchMinor</th>\n",
       "      <th>PPG</th>\n",
       "      <th>PPC</th>\n",
       "      <th>SHA</th>\n",
       "      <th>PKG</th>\n",
       "      <th>PKC</th>\n",
       "      <th>SHF</th>\n",
       "    </tr>\n",
       "  </thead>\n",
       "  <tbody>\n",
       "    <tr>\n",
       "      <th>0</th>\n",
       "      <td>1909</td>\n",
       "      <td>NHA</td>\n",
       "      <td>COB</td>\n",
       "      <td>BKN</td>\n",
       "      <td>NaN</td>\n",
       "      <td>NaN</td>\n",
       "      <td>4</td>\n",
       "      <td>NaN</td>\n",
       "      <td>12</td>\n",
       "      <td>4</td>\n",
       "      <td>...</td>\n",
       "      <td>104</td>\n",
       "      <td>Cobalt Silver Kings</td>\n",
       "      <td>NaN</td>\n",
       "      <td>NaN</td>\n",
       "      <td>NaN</td>\n",
       "      <td>NaN</td>\n",
       "      <td>NaN</td>\n",
       "      <td>NaN</td>\n",
       "      <td>NaN</td>\n",
       "      <td>NaN</td>\n",
       "    </tr>\n",
       "    <tr>\n",
       "      <th>1</th>\n",
       "      <td>1909</td>\n",
       "      <td>NHA</td>\n",
       "      <td>HAI</td>\n",
       "      <td>MTL</td>\n",
       "      <td>NaN</td>\n",
       "      <td>NaN</td>\n",
       "      <td>5</td>\n",
       "      <td>NaN</td>\n",
       "      <td>12</td>\n",
       "      <td>4</td>\n",
       "      <td>...</td>\n",
       "      <td>83</td>\n",
       "      <td>Haileybury Hockey Club</td>\n",
       "      <td>NaN</td>\n",
       "      <td>NaN</td>\n",
       "      <td>NaN</td>\n",
       "      <td>NaN</td>\n",
       "      <td>NaN</td>\n",
       "      <td>NaN</td>\n",
       "      <td>NaN</td>\n",
       "      <td>NaN</td>\n",
       "    </tr>\n",
       "    <tr>\n",
       "      <th>2</th>\n",
       "      <td>1909</td>\n",
       "      <td>NHA</td>\n",
       "      <td>LES</td>\n",
       "      <td>TBS</td>\n",
       "      <td>NaN</td>\n",
       "      <td>NaN</td>\n",
       "      <td>7</td>\n",
       "      <td>NaN</td>\n",
       "      <td>12</td>\n",
       "      <td>2</td>\n",
       "      <td>...</td>\n",
       "      <td>100</td>\n",
       "      <td>Les Canadiens</td>\n",
       "      <td>NaN</td>\n",
       "      <td>NaN</td>\n",
       "      <td>NaN</td>\n",
       "      <td>NaN</td>\n",
       "      <td>NaN</td>\n",
       "      <td>NaN</td>\n",
       "      <td>NaN</td>\n",
       "      <td>NaN</td>\n",
       "    </tr>\n",
       "    <tr>\n",
       "      <th>3</th>\n",
       "      <td>1909</td>\n",
       "      <td>NHA</td>\n",
       "      <td>MOS</td>\n",
       "      <td>MOS</td>\n",
       "      <td>NaN</td>\n",
       "      <td>NaN</td>\n",
       "      <td>6</td>\n",
       "      <td>NaN</td>\n",
       "      <td>12</td>\n",
       "      <td>3</td>\n",
       "      <td>...</td>\n",
       "      <td>95</td>\n",
       "      <td>Montreal Shamrocks</td>\n",
       "      <td>NaN</td>\n",
       "      <td>NaN</td>\n",
       "      <td>NaN</td>\n",
       "      <td>NaN</td>\n",
       "      <td>NaN</td>\n",
       "      <td>NaN</td>\n",
       "      <td>NaN</td>\n",
       "      <td>NaN</td>\n",
       "    </tr>\n",
       "    <tr>\n",
       "      <th>4</th>\n",
       "      <td>1909</td>\n",
       "      <td>NHA</td>\n",
       "      <td>MOW</td>\n",
       "      <td>MTW</td>\n",
       "      <td>NaN</td>\n",
       "      <td>NaN</td>\n",
       "      <td>1</td>\n",
       "      <td>NaN</td>\n",
       "      <td>12</td>\n",
       "      <td>11</td>\n",
       "      <td>...</td>\n",
       "      <td>41</td>\n",
       "      <td>Montreal Wanderers</td>\n",
       "      <td>NaN</td>\n",
       "      <td>NaN</td>\n",
       "      <td>NaN</td>\n",
       "      <td>NaN</td>\n",
       "      <td>NaN</td>\n",
       "      <td>NaN</td>\n",
       "      <td>NaN</td>\n",
       "      <td>NaN</td>\n",
       "    </tr>\n",
       "  </tbody>\n",
       "</table>\n",
       "<p>5 rows × 27 columns</p>\n",
       "</div>"
      ],
      "text/plain": [
       "   year lgID tmID franchID confID divID  rank playoff   G   W  ...   GA  \\\n",
       "0  1909  NHA  COB      BKN    NaN   NaN     4     NaN  12   4  ...  104   \n",
       "1  1909  NHA  HAI      MTL    NaN   NaN     5     NaN  12   4  ...   83   \n",
       "2  1909  NHA  LES      TBS    NaN   NaN     7     NaN  12   2  ...  100   \n",
       "3  1909  NHA  MOS      MOS    NaN   NaN     6     NaN  12   3  ...   95   \n",
       "4  1909  NHA  MOW      MTW    NaN   NaN     1     NaN  12  11  ...   41   \n",
       "\n",
       "                     name  PIM  BenchMinor  PPG  PPC  SHA  PKG PKC  SHF  \n",
       "0     Cobalt Silver Kings  NaN         NaN  NaN  NaN  NaN  NaN NaN  NaN  \n",
       "1  Haileybury Hockey Club  NaN         NaN  NaN  NaN  NaN  NaN NaN  NaN  \n",
       "2           Les Canadiens  NaN         NaN  NaN  NaN  NaN  NaN NaN  NaN  \n",
       "3      Montreal Shamrocks  NaN         NaN  NaN  NaN  NaN  NaN NaN  NaN  \n",
       "4      Montreal Wanderers  NaN         NaN  NaN  NaN  NaN  NaN NaN  NaN  \n",
       "\n",
       "[5 rows x 27 columns]"
      ]
     },
     "execution_count": 1,
     "metadata": {},
     "output_type": "execute_result"
    }
   ],
   "source": [
    "import pandas as pd \n",
    "hockey = pd.read_csv('dades/Teams.csv')\n",
    "hockey.head()"
   ]
  },
  {
   "cell_type": "markdown",
   "id": "fa4ee261",
   "metadata": {},
   "source": [
    "Substitueixo els valors NaN per 0, i faig que la vairable Playoff contingui només valors numèrics, 0 pels equips que no han guanyat el Playoff i 1 pels que ho han fet."
   ]
  },
  {
   "cell_type": "code",
   "execution_count": 2,
   "id": "ef72b50a",
   "metadata": {},
   "outputs": [
    {
     "data": {
      "text/plain": [
       "array([0, 1], dtype=int64)"
      ]
     },
     "execution_count": 2,
     "metadata": {},
     "output_type": "execute_result"
    }
   ],
   "source": [
    "hockey= hockey.fillna(0)\n",
    "import re\n",
    "\n",
    "hockey['playoff'] = hockey.playoff.replace(regex='\\D', value=1)\n",
    "hockey.playoff.unique()"
   ]
  },
  {
   "cell_type": "markdown",
   "id": "14456e86",
   "metadata": {},
   "source": [
    "He triat la variable G, partits jugats, i procedeixo a extreure'n els valors demanats:"
   ]
  },
  {
   "cell_type": "code",
   "execution_count": 3,
   "id": "129a998d",
   "metadata": {},
   "outputs": [
    {
     "name": "stdout",
     "output_type": "stream",
     "text": [
      "La moda es:\n"
     ]
    },
    {
     "data": {
      "text/plain": [
       "0    82\n",
       "dtype: int64"
      ]
     },
     "execution_count": 3,
     "metadata": {},
     "output_type": "execute_result"
    }
   ],
   "source": [
    "print('La moda es:')\n",
    "hockey.G.mode()"
   ]
  },
  {
   "cell_type": "code",
   "execution_count": 4,
   "id": "a5ef0881",
   "metadata": {},
   "outputs": [
    {
     "name": "stdout",
     "output_type": "stream",
     "text": [
      "La mediana es:\n"
     ]
    },
    {
     "data": {
      "text/plain": [
       "80.0"
      ]
     },
     "execution_count": 4,
     "metadata": {},
     "output_type": "execute_result"
    }
   ],
   "source": [
    "print('La mediana es:')\n",
    "hockey.G.median()"
   ]
  },
  {
   "cell_type": "code",
   "execution_count": 5,
   "id": "449ea33b",
   "metadata": {},
   "outputs": [
    {
     "name": "stdout",
     "output_type": "stream",
     "text": [
      "La desviació Standard:\n"
     ]
    },
    {
     "data": {
      "text/plain": [
       "19.69984337028971"
      ]
     },
     "execution_count": 5,
     "metadata": {},
     "output_type": "execute_result"
    }
   ],
   "source": [
    "print('La desviació Standard:')\n",
    "hockey.G.std()"
   ]
  },
  {
   "cell_type": "code",
   "execution_count": 6,
   "id": "c3f09e52",
   "metadata": {},
   "outputs": [
    {
     "name": "stdout",
     "output_type": "stream",
     "text": [
      " i la mitjana aritmètica:\n"
     ]
    },
    {
     "data": {
      "text/plain": [
       "69.51810401579986"
      ]
     },
     "execution_count": 6,
     "metadata": {},
     "output_type": "execute_result"
    }
   ],
   "source": [
    "print(' i la mitjana aritmètica:')\n",
    "hockey.G.mean()"
   ]
  },
  {
   "cell_type": "markdown",
   "id": "764818ed",
   "metadata": {},
   "source": [
    "Aquest cop ho he fet pas a pas, tot i que podem obtenir les dades tot d'una amb la funció __.drescribe()__"
   ]
  },
  {
   "cell_type": "code",
   "execution_count": 7,
   "id": "5d6d3ae7",
   "metadata": {},
   "outputs": [
    {
     "data": {
      "text/plain": [
       "count    1519.00\n",
       "mean       69.52\n",
       "std        19.70\n",
       "min         1.00\n",
       "25%        70.00\n",
       "50%        80.00\n",
       "75%        82.00\n",
       "max        84.00\n",
       "Name: G, dtype: float64"
      ]
     },
     "execution_count": 7,
     "metadata": {},
     "output_type": "execute_result"
    }
   ],
   "source": [
    "\n",
    "hockey.G.describe().round(2)"
   ]
  },
  {
   "cell_type": "markdown",
   "id": "0adbfbc4",
   "metadata": {},
   "source": [
    "Ara passo a calcular la correlació entre els partits guanyats i els gols marcats."
   ]
  },
  {
   "cell_type": "code",
   "execution_count": 8,
   "id": "fe0670b1",
   "metadata": {},
   "outputs": [
    {
     "data": {
      "text/plain": [
       "0.783"
      ]
     },
     "execution_count": 8,
     "metadata": {},
     "output_type": "execute_result"
    }
   ],
   "source": [
    "hockey.W.corr(hockey.GF).round(3)"
   ]
  },
  {
   "cell_type": "markdown",
   "id": "a978e8a8",
   "metadata": {},
   "source": [
    "i entre els partits guanyats i gols rebuts."
   ]
  },
  {
   "cell_type": "code",
   "execution_count": 9,
   "id": "2841d019",
   "metadata": {},
   "outputs": [
    {
     "data": {
      "text/plain": [
       "0.365"
      ]
     },
     "execution_count": 9,
     "metadata": {},
     "output_type": "execute_result"
    }
   ],
   "source": [
    "hockey.W.corr(hockey.GA).round(3)"
   ]
  },
  {
   "cell_type": "markdown",
   "id": "5aab9a6a",
   "metadata": {},
   "source": [
    "Com es demana a l'apartat 3,  calcul.lo la correlació de tots els atributs entre sí i en faig un HeatMap."
   ]
  },
  {
   "cell_type": "code",
   "execution_count": 10,
   "id": "9482a0dd",
   "metadata": {},
   "outputs": [],
   "source": [
    "corr = hockey.corr()"
   ]
  },
  {
   "cell_type": "code",
   "execution_count": 11,
   "id": "8e4d5b97",
   "metadata": {},
   "outputs": [
    {
     "data": {
      "image/png": "[encoded data removed]",
      "text/plain": [
       "<Figure size 432x288 with 2 Axes>"
      ]
     },
     "metadata": {},
     "output_type": "display_data"
    }
   ],
   "source": [
    "\n",
    "import seaborn as sns; sns.set_theme()\n",
    "\n",
    "ax = sns.heatmap(corr)"
   ]
  },
  {
   "cell_type": "markdown",
   "id": "b1985a18",
   "metadata": {},
   "source": [
    "Per últim, he triat els partits jugats per obtenir la mitjana geomètrica i la mitjana harmònica."
   ]
  },
  {
   "cell_type": "code",
   "execution_count": 12,
   "id": "d8f7407d",
   "metadata": {},
   "outputs": [
    {
     "data": {
      "text/plain": [
       "28.672"
      ]
     },
     "execution_count": 12,
     "metadata": {},
     "output_type": "execute_result"
    }
   ],
   "source": [
    "from scipy.stats import gmean\n",
    "gmean(hockey.G.unique()).round(3)\n"
   ]
  },
  {
   "cell_type": "code",
   "execution_count": 13,
   "id": "d4bfd0ec",
   "metadata": {},
   "outputs": [
    {
     "data": {
      "text/plain": [
       "14.148"
      ]
     },
     "execution_count": 13,
     "metadata": {},
     "output_type": "execute_result"
    }
   ],
   "source": [
    "from scipy.stats import hmean\n",
    "hmean(hockey.G.unique()).round(3)"
   ]
  },
  {
   "cell_type": "markdown",
   "id": "894f94e7",
   "metadata": {},
   "source": [
    "Bel Ortega\n",
    "Juny 2021"
   ]
  },
  {
   "cell_type": "code",
   "execution_count": null,
   "id": "f500b360",
   "metadata": {},
   "outputs": [],
   "source": []
  }
 ],
 "metadata": {
  "kernelspec": {
   "display_name": "Python 3",
   "language": "python",
   "name": "python3"
  },
  "language_info": {
   "codemirror_mode": {
    "name": "ipython",
    "version": 3
   },
   "file_extension": ".py",
   "mimetype": "text/x-python",
   "name": "python",
   "nbconvert_exporter": "python",
   "pygments_lexer": "ipython3",
   "version": "3.8.8"
  },
  "toc": {
   "base_numbering": 1,
   "nav_menu": {},
   "number_sections": true,
   "sideBar": true,
   "skip_h1_title": false,
   "title_cell": "Table of Contents",
   "title_sidebar": "Contents",
   "toc_cell": false,
   "toc_position": {},
   "toc_section_display": true,
   "toc_window_display": false
  }
 },
 "nbformat": 4,
 "nbformat_minor": 5
}
