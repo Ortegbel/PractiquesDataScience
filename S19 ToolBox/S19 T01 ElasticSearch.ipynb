{
 "cells": [
  {
   "cell_type": "markdown",
   "id": "3af2d9b9",
   "metadata": {},
   "source": [
    "<font size=\"6\"><b>S19 T01: Visualització interactiva amb ElasticSearch Stack</b></font>\n",
    "\n",
    "\n",
    "# Enunciats\n",
    "**Nivell 1**\n",
    "\n",
    "**Exercici 1**\n",
    "\n",
    "Descarrega't Kibana i mostra algunes gràfiques utilitzant conjunts de dades d'Exemple.\n",
    "\n",
    "\n",
    "**Nivell 2**  \n",
    "\n",
    "**Exercici 2**\n",
    "\n",
    "Implementa un dashboard que visualitzi interactivament les dades que triïs.\n",
    "\n",
    "**Nivell 3**  \n",
    "\n",
    "**Exercici 3**  \n",
    "\n",
    "Implementa un dashboard que generi gràfics utilitzant cadascun dels diferents tipus de gràfics que ofereix Kibana"
   ]
  },
  {
   "cell_type": "markdown",
   "id": "1b8bf76e",
   "metadata": {},
   "source": [
    "# Solucions\n",
    "\n",
    "He treballat els tres exercicis en un de sol:\n",
    "- fent diferents gràfiques\n",
    "- agrupant-les en un dashboard interactiu\n",
    "\n",
    "Trobareu el document al següent enllaç:\n",
    "[balanços](http://localhost:5601/goto/c4671a5fe97820c2854598dd81fb9a3e), a més de més dades en segëunt [pdf](https://github.com/Ortegbel/PractiquesDataScience/blob/68ec0801a0777cf1a72fffc7240d01eca3ebae44/S19%20ToolBox/ElasticSearch%20i%20Kibana.pdf)."
   ]
  },
  {
   "cell_type": "code",
   "execution_count": null,
   "id": "d04877a6",
   "metadata": {},
   "outputs": [],
   "source": []
  }
 ],
 "metadata": {
  "hide_input": false,
  "kernelspec": {
   "display_name": "Python 3",
   "language": "python",
   "name": "python3"
  },
  "language_info": {
   "codemirror_mode": {
    "name": "ipython",
    "version": 3
   },
   "file_extension": ".py",
   "mimetype": "text/x-python",
   "name": "python",
   "nbconvert_exporter": "python",
   "pygments_lexer": "ipython3",
   "version": "3.8.8"
  },
  "toc": {
   "base_numbering": 1,
   "nav_menu": {},
   "number_sections": true,
   "sideBar": true,
   "skip_h1_title": true,
   "title_cell": "Table of Contents",
   "title_sidebar": "Contents",
   "toc_cell": false,
   "toc_position": {},
   "toc_section_display": true,
   "toc_window_display": true
  }
 },
 "nbformat": 4,
 "nbformat_minor": 5
}
