{
 "cells": [
  {
   "cell_type": "markdown",
   "id": "1117cbd8",
   "metadata": {},
   "source": [
    "<font size=\"6\"><b>S18 T01: Tasca base de dades NoSQL</b></font>\n"
   ]
  },
  {
   "cell_type": "markdown",
   "id": "d9f3b694",
   "metadata": {},
   "source": [
    "# Enunciats\n",
    "**Nivell 1**\n",
    "\n",
    "**Exercici 1**\n",
    "\n",
    "Crea una base de dades NoSQL utilitzant MongoDB. Afegeix-li algunes dades d'exemple que et permetin comprovar que ets capaç de processar-ne la informació de manera bàsica.\n",
    "\n",
    "**Exercici 2**\n",
    "\n",
    "Connecta la base de dades NoSQL a Python utilitzant per exemple pymongo.\n",
    "\n",
    "**Nivell 2**  \n",
    "\n",
    "**Exercici 1**\n",
    "\n",
    "Carega algunes consultes senzilles a un Pandas Dataframe. \n",
    "\n",
    "\n",
    "**Nivell 3**  \n",
    "\n",
    "**Exercici 1**  \n",
    "\n",
    "\n",
    "Genera un resum estadístic de la informació que conté la base de dades."
   ]
  },
  {
   "cell_type": "markdown",
   "id": "ee013af5",
   "metadata": {},
   "source": [
    "# Exercicis\n",
    "\n",
    "Desde el Jupyter Notebook i fent servir Python i les seves llibreis (Pymongo) interactuaré amb MongoDB, creant arxius i pujant una col.lecció.\n",
    "\n",
    "Després, guardarem les dades fruit d'una consulta a un Pandas Dataframe, per poder fer l'anàlisi estadístic."
   ]
  },
  {
   "cell_type": "code",
   "execution_count": 2,
   "id": "8c4bc9ee",
   "metadata": {
    "ExecuteTime": {
     "end_time": "2021-09-18T09:23:51.290153Z",
     "start_time": "2021-09-18T09:23:51.282160Z"
    }
   },
   "outputs": [],
   "source": [
    "import pymongo\n",
    "import pandas as pd \n",
    "from pandas import json_normalize"
   ]
  },
  {
   "cell_type": "code",
   "execution_count": 1,
   "id": "f16b08ac",
   "metadata": {
    "ExecuteTime": {
     "end_time": "2021-09-18T09:21:47.480494Z",
     "start_time": "2021-09-18T09:21:46.938302Z"
    }
   },
   "outputs": [],
   "source": [
    "\n",
    "#conecctem amb el meu client de MongoDB\n",
    "\n",
    "client = pymongo.MongoClient('mongodb://localhost:27017/')"
   ]
  },
  {
   "cell_type": "code",
   "execution_count": 3,
   "id": "f78a9cb7",
   "metadata": {
    "ExecuteTime": {
     "end_time": "2021-09-18T09:24:26.049972Z",
     "start_time": "2021-09-18T09:24:25.952823Z"
    }
   },
   "outputs": [
    {
     "data": {
      "text/html": [
       "<div>\n",
       "<style scoped>\n",
       "    .dataframe tbody tr th:only-of-type {\n",
       "        vertical-align: middle;\n",
       "    }\n",
       "\n",
       "    .dataframe tbody tr th {\n",
       "        vertical-align: top;\n",
       "    }\n",
       "\n",
       "    .dataframe thead th {\n",
       "        text-align: right;\n",
       "    }\n",
       "</style>\n",
       "<table border=\"1\" class=\"dataframe\">\n",
       "  <thead>\n",
       "    <tr style=\"text-align: right;\">\n",
       "      <th></th>\n",
       "      <th>Item_Identifier</th>\n",
       "      <th>Item_Weight</th>\n",
       "      <th>Item_Fat_Content</th>\n",
       "      <th>Item_Visibility</th>\n",
       "      <th>Item_Type</th>\n",
       "      <th>Item_MRP</th>\n",
       "      <th>Outlet_Identifier</th>\n",
       "      <th>Outlet_Establishment_Year</th>\n",
       "      <th>Outlet_Size</th>\n",
       "      <th>Outlet_Location_Type</th>\n",
       "      <th>Outlet_Type</th>\n",
       "    </tr>\n",
       "  </thead>\n",
       "  <tbody>\n",
       "    <tr>\n",
       "      <th>0</th>\n",
       "      <td>FDW58</td>\n",
       "      <td>20.750</td>\n",
       "      <td>Low Fat</td>\n",
       "      <td>0.007565</td>\n",
       "      <td>Snack Foods</td>\n",
       "      <td>107.8622</td>\n",
       "      <td>OUT049</td>\n",
       "      <td>1999</td>\n",
       "      <td>Medium</td>\n",
       "      <td>Tier 1</td>\n",
       "      <td>Supermarket Type1</td>\n",
       "    </tr>\n",
       "    <tr>\n",
       "      <th>1</th>\n",
       "      <td>FDW14</td>\n",
       "      <td>8.300</td>\n",
       "      <td>reg</td>\n",
       "      <td>0.038428</td>\n",
       "      <td>Dairy</td>\n",
       "      <td>87.3198</td>\n",
       "      <td>OUT017</td>\n",
       "      <td>2007</td>\n",
       "      <td>NaN</td>\n",
       "      <td>Tier 2</td>\n",
       "      <td>Supermarket Type1</td>\n",
       "    </tr>\n",
       "    <tr>\n",
       "      <th>2</th>\n",
       "      <td>NCN55</td>\n",
       "      <td>14.600</td>\n",
       "      <td>Low Fat</td>\n",
       "      <td>0.099575</td>\n",
       "      <td>Others</td>\n",
       "      <td>241.7538</td>\n",
       "      <td>OUT010</td>\n",
       "      <td>1998</td>\n",
       "      <td>NaN</td>\n",
       "      <td>Tier 3</td>\n",
       "      <td>Grocery Store</td>\n",
       "    </tr>\n",
       "    <tr>\n",
       "      <th>3</th>\n",
       "      <td>FDQ58</td>\n",
       "      <td>7.315</td>\n",
       "      <td>Low Fat</td>\n",
       "      <td>0.015388</td>\n",
       "      <td>Snack Foods</td>\n",
       "      <td>155.0340</td>\n",
       "      <td>OUT017</td>\n",
       "      <td>2007</td>\n",
       "      <td>NaN</td>\n",
       "      <td>Tier 2</td>\n",
       "      <td>Supermarket Type1</td>\n",
       "    </tr>\n",
       "    <tr>\n",
       "      <th>4</th>\n",
       "      <td>FDY38</td>\n",
       "      <td>NaN</td>\n",
       "      <td>Regular</td>\n",
       "      <td>0.118599</td>\n",
       "      <td>Dairy</td>\n",
       "      <td>234.2300</td>\n",
       "      <td>OUT027</td>\n",
       "      <td>1985</td>\n",
       "      <td>Medium</td>\n",
       "      <td>Tier 3</td>\n",
       "      <td>Supermarket Type3</td>\n",
       "    </tr>\n",
       "  </tbody>\n",
       "</table>\n",
       "</div>"
      ],
      "text/plain": [
       "  Item_Identifier  Item_Weight Item_Fat_Content  ...  Outlet_Size Outlet_Location_Type        Outlet_Type\n",
       "0           FDW58       20.750          Low Fat  ...       Medium               Tier 1  Supermarket Type1\n",
       "1           FDW14        8.300              reg  ...          NaN               Tier 2  Supermarket Type1\n",
       "2           NCN55       14.600          Low Fat  ...          NaN               Tier 3      Grocery Store\n",
       "3           FDQ58        7.315          Low Fat  ...          NaN               Tier 2  Supermarket Type1\n",
       "4           FDY38          NaN          Regular  ...       Medium               Tier 3  Supermarket Type3\n",
       "\n",
       "[5 rows x 11 columns]"
      ]
     },
     "execution_count": 3,
     "metadata": {},
     "output_type": "execute_result"
    }
   ],
   "source": [
    "# preparem el fitxer q farem servir com a colecction\n",
    "\n",
    "df = pd.read_csv('sell_through.csv')\n",
    "df.head()"
   ]
  },
  {
   "cell_type": "code",
   "execution_count": 4,
   "id": "1d78d06b",
   "metadata": {
    "ExecuteTime": {
     "end_time": "2021-09-18T09:25:24.549206Z",
     "start_time": "2021-09-18T09:25:24.419326Z"
    }
   },
   "outputs": [],
   "source": [
    "#es converteix a JSON\n",
    "data = df.to_dict(orient='records')"
   ]
  },
  {
   "cell_type": "code",
   "execution_count": 6,
   "id": "c087220b",
   "metadata": {
    "ExecuteTime": {
     "end_time": "2021-09-18T09:27:12.917786Z",
     "start_time": "2021-09-18T09:27:12.897799Z"
    }
   },
   "outputs": [
    {
     "name": "stdout",
     "output_type": "stream",
     "text": [
      "Database(MongoClient(host=['localhost:27017'], document_class=dict, tz_aware=False, connect=True), 'TascaDivuitU')\n"
     ]
    }
   ],
   "source": [
    "#es crea la base de dades i l'omplim amb les ades del diccionari\n",
    "\n",
    "db = client['TascaDivuitU']\n",
    "print(db)"
   ]
  },
  {
   "cell_type": "code",
   "execution_count": 7,
   "id": "32922aa6",
   "metadata": {
    "ExecuteTime": {
     "end_time": "2021-09-18T09:27:57.567786Z",
     "start_time": "2021-09-18T09:27:57.313929Z"
    }
   },
   "outputs": [
    {
     "data": {
      "text/plain": [
       "<pymongo.results.InsertManyResult at 0x22c05de8600>"
      ]
     },
     "execution_count": 7,
     "metadata": {},
     "output_type": "execute_result"
    }
   ],
   "source": [
    "db.Vendes.insert_many(data)"
   ]
  },
  {
   "cell_type": "code",
   "execution_count": 9,
   "id": "2c16a08b",
   "metadata": {
    "ExecuteTime": {
     "end_time": "2021-09-18T09:29:21.323298Z",
     "start_time": "2021-09-18T09:29:21.298314Z"
    }
   },
   "outputs": [
    {
     "data": {
      "text/plain": [
       "5681"
      ]
     },
     "execution_count": 9,
     "metadata": {},
     "output_type": "execute_result"
    }
   ],
   "source": [
    "db.Vendes.count_documents({})"
   ]
  },
  {
   "cell_type": "code",
   "execution_count": 10,
   "id": "deb4729d",
   "metadata": {
    "ExecuteTime": {
     "end_time": "2021-09-18T09:30:23.560813Z",
     "start_time": "2021-09-18T09:30:23.537826Z"
    }
   },
   "outputs": [
    {
     "data": {
      "text/plain": [
       "{'_id': ObjectId('6145b11d6e3bbbf816528b35'),\n",
       " 'Item_Identifier': 'FDW58',\n",
       " 'Item_Weight': 20.75,\n",
       " 'Item_Fat_Content': 'Low Fat',\n",
       " 'Item_Visibility': 0.007564836,\n",
       " 'Item_Type': 'Snack Foods',\n",
       " 'Item_MRP': 107.8622,\n",
       " 'Outlet_Identifier': 'OUT049',\n",
       " 'Outlet_Establishment_Year': 1999,\n",
       " 'Outlet_Size': 'Medium',\n",
       " 'Outlet_Location_Type': 'Tier 1',\n",
       " 'Outlet_Type': 'Supermarket Type1'}"
      ]
     },
     "execution_count": 10,
     "metadata": {},
     "output_type": "execute_result"
    }
   ],
   "source": [
    "db.Vendes.find_one()"
   ]
  },
  {
   "cell_type": "code",
   "execution_count": 17,
   "id": "115d7a0b",
   "metadata": {
    "ExecuteTime": {
     "end_time": "2021-09-18T09:41:01.004919Z",
     "start_time": "2021-09-18T09:41:00.979935Z"
    }
   },
   "outputs": [],
   "source": [
    "# seleccionarem alguns camps dels articles amb contigut de greix Regular.\n",
    "\n",
    "cerca = [i for i in db.Vendes.find({'Item_Fat_Content':{'$regex':'^reg'}}, \n",
    "                                     {'_id':0,'Item_Identifier': 1,'Item_Weight':1,'Item_Visibility': 1,'Item_Type': 1, 'Item_MRP': 1 ,'Outlet_Identifier': 1})]"
   ]
  },
  {
   "cell_type": "code",
   "execution_count": 18,
   "id": "45a971eb",
   "metadata": {
    "ExecuteTime": {
     "end_time": "2021-09-18T09:41:36.451598Z",
     "start_time": "2021-09-18T09:41:36.435607Z"
    }
   },
   "outputs": [],
   "source": [
    "# guardem les dades obtingudes a un df\n",
    "df = json_normalize(cerca)"
   ]
  },
  {
   "cell_type": "code",
   "execution_count": 19,
   "id": "47fe561c",
   "metadata": {
    "ExecuteTime": {
     "end_time": "2021-09-18T09:41:47.606747Z",
     "start_time": "2021-09-18T09:41:47.554779Z"
    }
   },
   "outputs": [
    {
     "data": {
      "text/html": [
       "<div>\n",
       "<style scoped>\n",
       "    .dataframe tbody tr th:only-of-type {\n",
       "        vertical-align: middle;\n",
       "    }\n",
       "\n",
       "    .dataframe tbody tr th {\n",
       "        vertical-align: top;\n",
       "    }\n",
       "\n",
       "    .dataframe thead th {\n",
       "        text-align: right;\n",
       "    }\n",
       "</style>\n",
       "<table border=\"1\" class=\"dataframe\">\n",
       "  <thead>\n",
       "    <tr style=\"text-align: right;\">\n",
       "      <th></th>\n",
       "      <th>Item_Identifier</th>\n",
       "      <th>Item_Weight</th>\n",
       "      <th>Item_Visibility</th>\n",
       "      <th>Item_Type</th>\n",
       "      <th>Item_MRP</th>\n",
       "      <th>Outlet_Identifier</th>\n",
       "    </tr>\n",
       "  </thead>\n",
       "  <tbody>\n",
       "    <tr>\n",
       "      <th>0</th>\n",
       "      <td>FDW14</td>\n",
       "      <td>8.300</td>\n",
       "      <td>0.038428</td>\n",
       "      <td>Dairy</td>\n",
       "      <td>87.3198</td>\n",
       "      <td>OUT017</td>\n",
       "    </tr>\n",
       "    <tr>\n",
       "      <th>1</th>\n",
       "      <td>FDG12</td>\n",
       "      <td>6.635</td>\n",
       "      <td>0.006326</td>\n",
       "      <td>Baking Goods</td>\n",
       "      <td>122.1098</td>\n",
       "      <td>OUT046</td>\n",
       "    </tr>\n",
       "    <tr>\n",
       "      <th>2</th>\n",
       "      <td>FDJ10</td>\n",
       "      <td>5.095</td>\n",
       "      <td>0.216763</td>\n",
       "      <td>Snack Foods</td>\n",
       "      <td>142.2838</td>\n",
       "      <td>OUT010</td>\n",
       "    </tr>\n",
       "    <tr>\n",
       "      <th>3</th>\n",
       "      <td>FDM27</td>\n",
       "      <td>12.350</td>\n",
       "      <td>0.000000</td>\n",
       "      <td>Meat</td>\n",
       "      <td>158.8946</td>\n",
       "      <td>OUT046</td>\n",
       "    </tr>\n",
       "    <tr>\n",
       "      <th>4</th>\n",
       "      <td>FDK32</td>\n",
       "      <td>16.250</td>\n",
       "      <td>0.048935</td>\n",
       "      <td>Fruits and Vegetables</td>\n",
       "      <td>153.0682</td>\n",
       "      <td>OUT013</td>\n",
       "    </tr>\n",
       "  </tbody>\n",
       "</table>\n",
       "</div>"
      ],
      "text/plain": [
       "  Item_Identifier  Item_Weight  Item_Visibility              Item_Type  Item_MRP Outlet_Identifier\n",
       "0           FDW14        8.300         0.038428                  Dairy   87.3198            OUT017\n",
       "1           FDG12        6.635         0.006326           Baking Goods  122.1098            OUT046\n",
       "2           FDJ10        5.095         0.216763            Snack Foods  142.2838            OUT010\n",
       "3           FDM27       12.350         0.000000                   Meat  158.8946            OUT046\n",
       "4           FDK32       16.250         0.048935  Fruits and Vegetables  153.0682            OUT013"
      ]
     },
     "execution_count": 19,
     "metadata": {},
     "output_type": "execute_result"
    }
   ],
   "source": [
    "df.head()"
   ]
  },
  {
   "cell_type": "code",
   "execution_count": 20,
   "id": "907b270e",
   "metadata": {
    "ExecuteTime": {
     "end_time": "2021-09-18T09:42:06.279042Z",
     "start_time": "2021-09-18T09:42:06.226073Z"
    }
   },
   "outputs": [
    {
     "data": {
      "text/html": [
       "<div>\n",
       "<style scoped>\n",
       "    .dataframe tbody tr th:only-of-type {\n",
       "        vertical-align: middle;\n",
       "    }\n",
       "\n",
       "    .dataframe tbody tr th {\n",
       "        vertical-align: top;\n",
       "    }\n",
       "\n",
       "    .dataframe thead th {\n",
       "        text-align: right;\n",
       "    }\n",
       "</style>\n",
       "<table border=\"1\" class=\"dataframe\">\n",
       "  <thead>\n",
       "    <tr style=\"text-align: right;\">\n",
       "      <th></th>\n",
       "      <th>Item_Weight</th>\n",
       "      <th>Item_Visibility</th>\n",
       "      <th>Item_MRP</th>\n",
       "    </tr>\n",
       "  </thead>\n",
       "  <tbody>\n",
       "    <tr>\n",
       "      <th>count</th>\n",
       "      <td>65.000000</td>\n",
       "      <td>78.000000</td>\n",
       "      <td>78.000000</td>\n",
       "    </tr>\n",
       "    <tr>\n",
       "      <th>mean</th>\n",
       "      <td>12.230385</td>\n",
       "      <td>0.071744</td>\n",
       "      <td>136.062438</td>\n",
       "    </tr>\n",
       "    <tr>\n",
       "      <th>std</th>\n",
       "      <td>4.697225</td>\n",
       "      <td>0.060479</td>\n",
       "      <td>64.026940</td>\n",
       "    </tr>\n",
       "    <tr>\n",
       "      <th>min</th>\n",
       "      <td>5.095000</td>\n",
       "      <td>0.000000</td>\n",
       "      <td>34.553200</td>\n",
       "    </tr>\n",
       "    <tr>\n",
       "      <th>25%</th>\n",
       "      <td>8.300000</td>\n",
       "      <td>0.026789</td>\n",
       "      <td>87.369150</td>\n",
       "    </tr>\n",
       "    <tr>\n",
       "      <th>50%</th>\n",
       "      <td>11.395000</td>\n",
       "      <td>0.054084</td>\n",
       "      <td>126.052000</td>\n",
       "    </tr>\n",
       "    <tr>\n",
       "      <th>75%</th>\n",
       "      <td>16.100000</td>\n",
       "      <td>0.103286</td>\n",
       "      <td>185.366100</td>\n",
       "    </tr>\n",
       "    <tr>\n",
       "      <th>max</th>\n",
       "      <td>20.600000</td>\n",
       "      <td>0.308259</td>\n",
       "      <td>260.593600</td>\n",
       "    </tr>\n",
       "  </tbody>\n",
       "</table>\n",
       "</div>"
      ],
      "text/plain": [
       "       Item_Weight  Item_Visibility    Item_MRP\n",
       "count    65.000000        78.000000   78.000000\n",
       "mean     12.230385         0.071744  136.062438\n",
       "std       4.697225         0.060479   64.026940\n",
       "min       5.095000         0.000000   34.553200\n",
       "25%       8.300000         0.026789   87.369150\n",
       "50%      11.395000         0.054084  126.052000\n",
       "75%      16.100000         0.103286  185.366100\n",
       "max      20.600000         0.308259  260.593600"
      ]
     },
     "execution_count": 20,
     "metadata": {},
     "output_type": "execute_result"
    }
   ],
   "source": [
    "#ara ja només ens queda aplicar el mètode describe per obtenir les dades estadíastciques d'aquesta nova taula.\n",
    "df.describe()"
   ]
  },
  {
   "cell_type": "code",
   "execution_count": null,
   "id": "b331b453",
   "metadata": {},
   "outputs": [],
   "source": []
  },
  {
   "cell_type": "code",
   "execution_count": 21,
   "id": "81a3d307",
   "metadata": {
    "ExecuteTime": {
     "end_time": "2021-09-18T09:46:21.640882Z",
     "start_time": "2021-09-18T09:46:21.615897Z"
    }
   },
   "outputs": [],
   "source": [
    "# seleccionarem alguns camps dels articles amb contigut de greix Regular i siguin del tipus llet o derivats.\n",
    "\n",
    "llet = [i for i in db.Vendes.find({'Item_Fat_Content':{'$regex':'^reg'},'Item_Type':'Dairy' }, \n",
    "                                     {'_id':0,'Item_Identifier': 1,'Item_Weight':1,'Item_Visibility': 1,'Item_Type': 1, 'Item_MRP': 1 ,'Outlet_Identifier': 1})]"
   ]
  },
  {
   "cell_type": "code",
   "execution_count": 22,
   "id": "88394984",
   "metadata": {
    "ExecuteTime": {
     "end_time": "2021-09-18T09:46:42.262225Z",
     "start_time": "2021-09-18T09:46:42.242237Z"
    }
   },
   "outputs": [],
   "source": [
    "df = json_normalize(llet)"
   ]
  },
  {
   "cell_type": "code",
   "execution_count": 23,
   "id": "ac3a435b",
   "metadata": {
    "ExecuteTime": {
     "end_time": "2021-09-18T09:46:56.249205Z",
     "start_time": "2021-09-18T09:46:56.209231Z"
    }
   },
   "outputs": [
    {
     "data": {
      "text/html": [
       "<div>\n",
       "<style scoped>\n",
       "    .dataframe tbody tr th:only-of-type {\n",
       "        vertical-align: middle;\n",
       "    }\n",
       "\n",
       "    .dataframe tbody tr th {\n",
       "        vertical-align: top;\n",
       "    }\n",
       "\n",
       "    .dataframe thead th {\n",
       "        text-align: right;\n",
       "    }\n",
       "</style>\n",
       "<table border=\"1\" class=\"dataframe\">\n",
       "  <thead>\n",
       "    <tr style=\"text-align: right;\">\n",
       "      <th></th>\n",
       "      <th>Item_Identifier</th>\n",
       "      <th>Item_Weight</th>\n",
       "      <th>Item_Visibility</th>\n",
       "      <th>Item_Type</th>\n",
       "      <th>Item_MRP</th>\n",
       "      <th>Outlet_Identifier</th>\n",
       "    </tr>\n",
       "  </thead>\n",
       "  <tbody>\n",
       "    <tr>\n",
       "      <th>0</th>\n",
       "      <td>FDW14</td>\n",
       "      <td>8.300</td>\n",
       "      <td>0.038428</td>\n",
       "      <td>Dairy</td>\n",
       "      <td>87.3198</td>\n",
       "      <td>OUT017</td>\n",
       "    </tr>\n",
       "    <tr>\n",
       "      <th>1</th>\n",
       "      <td>FDA02</td>\n",
       "      <td>14.000</td>\n",
       "      <td>0.029891</td>\n",
       "      <td>Dairy</td>\n",
       "      <td>146.3786</td>\n",
       "      <td>OUT017</td>\n",
       "    </tr>\n",
       "    <tr>\n",
       "      <th>2</th>\n",
       "      <td>FDC03</td>\n",
       "      <td>8.575</td>\n",
       "      <td>0.071846</td>\n",
       "      <td>Dairy</td>\n",
       "      <td>196.1794</td>\n",
       "      <td>OUT046</td>\n",
       "    </tr>\n",
       "    <tr>\n",
       "      <th>3</th>\n",
       "      <td>FDL51</td>\n",
       "      <td>NaN</td>\n",
       "      <td>0.047261</td>\n",
       "      <td>Dairy</td>\n",
       "      <td>213.5876</td>\n",
       "      <td>OUT027</td>\n",
       "    </tr>\n",
       "    <tr>\n",
       "      <th>4</th>\n",
       "      <td>FDY38</td>\n",
       "      <td>13.600</td>\n",
       "      <td>0.119154</td>\n",
       "      <td>Dairy</td>\n",
       "      <td>231.2300</td>\n",
       "      <td>OUT035</td>\n",
       "    </tr>\n",
       "  </tbody>\n",
       "</table>\n",
       "</div>"
      ],
      "text/plain": [
       "  Item_Identifier  Item_Weight  Item_Visibility Item_Type  Item_MRP Outlet_Identifier\n",
       "0           FDW14        8.300         0.038428     Dairy   87.3198            OUT017\n",
       "1           FDA02       14.000         0.029891     Dairy  146.3786            OUT017\n",
       "2           FDC03        8.575         0.071846     Dairy  196.1794            OUT046\n",
       "3           FDL51          NaN         0.047261     Dairy  213.5876            OUT027\n",
       "4           FDY38       13.600         0.119154     Dairy  231.2300            OUT035"
      ]
     },
     "execution_count": 23,
     "metadata": {},
     "output_type": "execute_result"
    }
   ],
   "source": [
    "df.head()"
   ]
  },
  {
   "cell_type": "code",
   "execution_count": 24,
   "id": "aae779af",
   "metadata": {
    "ExecuteTime": {
     "end_time": "2021-09-18T09:49:25.990899Z",
     "start_time": "2021-09-18T09:49:25.937930Z"
    }
   },
   "outputs": [
    {
     "data": {
      "text/html": [
       "<div>\n",
       "<style scoped>\n",
       "    .dataframe tbody tr th:only-of-type {\n",
       "        vertical-align: middle;\n",
       "    }\n",
       "\n",
       "    .dataframe tbody tr th {\n",
       "        vertical-align: top;\n",
       "    }\n",
       "\n",
       "    .dataframe thead th {\n",
       "        text-align: right;\n",
       "    }\n",
       "</style>\n",
       "<table border=\"1\" class=\"dataframe\">\n",
       "  <thead>\n",
       "    <tr style=\"text-align: right;\">\n",
       "      <th></th>\n",
       "      <th>Item_Weight</th>\n",
       "      <th>Item_Visibility</th>\n",
       "      <th>Item_MRP</th>\n",
       "    </tr>\n",
       "  </thead>\n",
       "  <tbody>\n",
       "    <tr>\n",
       "      <th>count</th>\n",
       "      <td>7.000000</td>\n",
       "      <td>8.000000</td>\n",
       "      <td>8.000000</td>\n",
       "    </tr>\n",
       "    <tr>\n",
       "      <th>mean</th>\n",
       "      <td>11.396429</td>\n",
       "      <td>0.059527</td>\n",
       "      <td>163.474950</td>\n",
       "    </tr>\n",
       "    <tr>\n",
       "      <th>std</th>\n",
       "      <td>4.808769</td>\n",
       "      <td>0.036716</td>\n",
       "      <td>67.022987</td>\n",
       "    </tr>\n",
       "    <tr>\n",
       "      <th>min</th>\n",
       "      <td>6.750000</td>\n",
       "      <td>0.022493</td>\n",
       "      <td>87.319800</td>\n",
       "    </tr>\n",
       "    <tr>\n",
       "      <th>25%</th>\n",
       "      <td>8.300000</td>\n",
       "      <td>0.036189</td>\n",
       "      <td>94.761350</td>\n",
       "    </tr>\n",
       "    <tr>\n",
       "      <th>50%</th>\n",
       "      <td>8.575000</td>\n",
       "      <td>0.042845</td>\n",
       "      <td>171.279000</td>\n",
       "    </tr>\n",
       "    <tr>\n",
       "      <th>75%</th>\n",
       "      <td>13.800000</td>\n",
       "      <td>0.081098</td>\n",
       "      <td>217.998200</td>\n",
       "    </tr>\n",
       "    <tr>\n",
       "      <th>max</th>\n",
       "      <td>20.250000</td>\n",
       "      <td>0.119154</td>\n",
       "      <td>247.809200</td>\n",
       "    </tr>\n",
       "  </tbody>\n",
       "</table>\n",
       "</div>"
      ],
      "text/plain": [
       "       Item_Weight  Item_Visibility    Item_MRP\n",
       "count     7.000000         8.000000    8.000000\n",
       "mean     11.396429         0.059527  163.474950\n",
       "std       4.808769         0.036716   67.022987\n",
       "min       6.750000         0.022493   87.319800\n",
       "25%       8.300000         0.036189   94.761350\n",
       "50%       8.575000         0.042845  171.279000\n",
       "75%      13.800000         0.081098  217.998200\n",
       "max      20.250000         0.119154  247.809200"
      ]
     },
     "execution_count": 24,
     "metadata": {},
     "output_type": "execute_result"
    }
   ],
   "source": [
    "#ara ja només ens queda aplicar el mètode describe per obtenir les dades estadíastciques d'aquesta nova taula.\n",
    "df.describe()"
   ]
  },
  {
   "cell_type": "code",
   "execution_count": null,
   "id": "dd71f3d3",
   "metadata": {},
   "outputs": [],
   "source": []
  }
 ],
 "metadata": {
  "hide_input": false,
  "kernelspec": {
   "display_name": "Python 3",
   "language": "python",
   "name": "python3"
  },
  "language_info": {
   "codemirror_mode": {
    "name": "ipython",
    "version": 3
   },
   "file_extension": ".py",
   "mimetype": "text/x-python",
   "name": "python",
   "nbconvert_exporter": "python",
   "pygments_lexer": "ipython3",
   "version": "3.8.8"
  },
  "toc": {
   "base_numbering": 1,
   "nav_menu": {},
   "number_sections": true,
   "sideBar": true,
   "skip_h1_title": true,
   "title_cell": "Table of Contents",
   "title_sidebar": "Contents",
   "toc_cell": false,
   "toc_position": {},
   "toc_section_display": true,
   "toc_window_display": true
  }
 },
 "nbformat": 4,
 "nbformat_minor": 5
}
