{
 "cells": [
  {
   "cell_type": "markdown",
   "metadata": {},
   "source": [
    "### Exercici 1\n",
    "Crea una llista que agrupi els mesos de l’any en trimestres (1T: Gener, Febrer i Març, 2T: Abril, Maig, Juny...), és a dir, una llista amb 4 llistes dins."
   ]
  },
  {
   "cell_type": "code",
   "execution_count": 2,
   "metadata": {},
   "outputs": [
    {
     "name": "stdout",
     "output_type": "stream",
     "text": [
      "{'Q1': ['Gener', 'Febrer', 'Març'], 'Q2': ['Abril', 'Maig', 'Juny'], 'Q3': ['juliol', 'Agost', 'Setembre'], 'Q4': ['Octubre', 'Novembre', 'Desembre']}\n"
     ]
    }
   ],
   "source": [
    "total = {\n",
    "    str(\"Q1\"):[\"Gener\",\"Febrer\",\"Març\"],\n",
    "    str(\"Q2\"):[\"Abril\",\"Maig\",\"Juny\"],\n",
    "    str(\"Q3\"):[\"juliol\", \"Agost\", \"Setembre\"],\n",
    "    str(\"Q4\"):[\"Octubre\", \"Novembre\",\"Desembre\"]\n",
    "}\n",
    "\n",
    "print(total)\n"
   ]
  },
  {
   "cell_type": "markdown",
   "metadata": {},
   "source": [
    "#### Comentaris:\n",
    "He resolt el primer exercici fent un diccionari on s'agrupen els mesos per quarts.\n",
    "He hagut d'aplicar un Casting als KEY names per tal de poder fer servir Lletres i números."
   ]
  },
  {
   "cell_type": "markdown",
   "metadata": {},
   "source": [
    "### Exercici 2\n",
    "Crea un codi que et permeti accedir a:\n",
    "\n",
    "El segon mes del primer trimestre\n",
    "Els mesos del primer trimestre\n",
    "Setembre i octubre"
   ]
  },
  {
   "cell_type": "code",
   "execution_count": 3,
   "metadata": {},
   "outputs": [
    {
     "name": "stdout",
     "output_type": "stream",
     "text": [
      "Febrer\n"
     ]
    }
   ],
   "source": [
    "#per accedir al segon mes del primer trimestre, he aIllat els valors del primer quarter, ho he convertit a una llista i he\n",
    "#imprès per pantalla el valor amb index 1, que es el segon mes del primer trimestre\n",
    "\n",
    "Q1values = total[\"Q1\"]\n",
    "Q1ValList= list(Q1values)\n",
    "print(Q1ValList[1])"
   ]
  },
  {
   "cell_type": "code",
   "execution_count": 5,
   "metadata": {},
   "outputs": [
    {
     "name": "stdout",
     "output_type": "stream",
     "text": [
      "Gener\n",
      "Febrer\n",
      "Març\n"
     ]
    }
   ],
   "source": [
    "#he loopejat amb un for els mesos pertanyents als primer trimestre i els imprimeixo per pantalla\n",
    "\n",
    "for x in total[\"Q1\"]:\n",
    "    print (x)"
   ]
  },
  {
   "cell_type": "code",
   "execution_count": 7,
   "metadata": {},
   "outputs": [
    {
     "name": "stdout",
     "output_type": "stream",
     "text": [
      "Setembre\n",
      "Octubre\n"
     ]
    }
   ],
   "source": [
    "# per accedir als mesos de setembre i octubre, he pres els valors dels 3 i 4 quarter, i els he convertit en una llista.\n",
    "# des d'aquí he accedit als mesos dins la llista amb l'index. Hi he imprès dues vegades per tenir els valors independednts\n",
    "\n",
    "m2Values = total[\"Q3\"] + total[\"Q4\"]\n",
    "m2Vallist = list(m2Values)\n",
    "print(m2Vallist[2])\n",
    "print(m2Vallist[3])"
   ]
  },
  {
   "cell_type": "markdown",
   "metadata": {},
   "source": [
    "### Exercici 3\n",
    "Crea una llista amb nombres desordenats i respon a les següents preguntes:"
   ]
  },
  {
   "cell_type": "code",
   "execution_count": 8,
   "metadata": {
    "scrolled": true
   },
   "outputs": [
    {
     "data": {
      "text/plain": [
       "set"
      ]
     },
     "execution_count": 8,
     "metadata": {},
     "output_type": "execute_result"
    }
   ],
   "source": [
    "set1 = {3, 72, 25, 8, 56}\n",
    "type(set1)"
   ]
  },
  {
   "cell_type": "markdown",
   "metadata": {},
   "source": [
    "Quants números hi ha?"
   ]
  },
  {
   "cell_type": "code",
   "execution_count": 10,
   "metadata": {},
   "outputs": [
    {
     "name": "stdout",
     "output_type": "stream",
     "text": [
      "5\n"
     ]
    }
   ],
   "source": [
    "\n",
    "print(len(set1))\n"
   ]
  },
  {
   "cell_type": "markdown",
   "metadata": {},
   "source": [
    " Quantes vegades apareix el número 3"
   ]
  },
  {
   "cell_type": "code",
   "execution_count": 10,
   "metadata": {},
   "outputs": [
    {
     "name": "stdout",
     "output_type": "stream",
     "text": [
      "el número 3 apareix 1 vegades\n"
     ]
    }
   ],
   "source": [
    "#Per tal de doanr resposta a les següents preguntes convertiré el set en list, ja q aquest format em\n",
    "#permet utilitzar els metodes que necessito.\n",
    "set1 = {3, 72, 25, 8, 56}\n",
    "\n",
    "l = list(set1)\n",
    "repeticio_3 = l.count(3)\n",
    "print(\"el número 3 apareix \" + str(repeticio_3) +\" vegades\")\n",
    "        \n",
    "    \n",
    "    "
   ]
  },
  {
   "cell_type": "markdown",
   "metadata": {},
   "source": [
    " Quantes vegades apareixen els nombres 3 i 4?"
   ]
  },
  {
   "cell_type": "code",
   "execution_count": 14,
   "metadata": {},
   "outputs": [
    {
     "name": "stdout",
     "output_type": "stream",
     "text": [
      "el número 3 apareix 1 vegades\n",
      "el número 4 no apareix\n"
     ]
    }
   ],
   "source": [
    "set1 = {3, 72, 25, 8, 56}\n",
    "\n",
    "l = list(set1)\n",
    "\n",
    "repeticio_3 = l.count(3) \n",
    "repeticio_4 = l.count(4) \n",
    "\n",
    "if repeticio_3 != 0:\n",
    "    print(\"el número 3 apareix \" + str(repeticio_3) +\" vegades\")\n",
    "else:\n",
    "    print(\"el número 3 no apareix\")\n",
    "    \n",
    "if repeticio_4 != 0:\n",
    "    print(\"el número 4 apareix \" + str(repeticio_4) +\" vegades\")\n",
    "else:\n",
    "    print(\"el número 4 no apareix\")\n"
   ]
  },
  {
   "cell_type": "markdown",
   "metadata": {},
   "source": [
    "Quin és el número més gran?"
   ]
  },
  {
   "cell_type": "code",
   "execution_count": 18,
   "metadata": {},
   "outputs": [
    {
     "name": "stdout",
     "output_type": "stream",
     "text": [
      "el número més gran és el 72\n"
     ]
    }
   ],
   "source": [
    "l.sort()\n",
    "n = l[-1]\n",
    "print(\"el número més gran és el \" + str(n))"
   ]
  },
  {
   "cell_type": "markdown",
   "metadata": {},
   "source": [
    "Quins són els 3 números més petits?"
   ]
  },
  {
   "cell_type": "code",
   "execution_count": 20,
   "metadata": {},
   "outputs": [
    {
     "name": "stdout",
     "output_type": "stream",
     "text": [
      "els 3 números més petits són [3, 8, 25]\n"
     ]
    }
   ],
   "source": [
    "n = l[0:3]\n",
    "print(\"els 3 números més petits són \" + str(n))"
   ]
  },
  {
   "cell_type": "markdown",
   "metadata": {},
   "source": [
    " Quin és el rang d’aquesta llista?"
   ]
  },
  {
   "cell_type": "markdown",
   "metadata": {},
   "source": [
    "Entenc que se'm pregunta pel rang de la llista dels tres números més petits, en aquest cas es [0:3]\n",
    "El primer index ens indica el punt d'inici, i el darrer no representa l'index de l'ultim element sino el\n",
    "valor q no pot superar cap de les posicions q estem recuperant."
   ]
  },
  {
   "cell_type": "markdown",
   "metadata": {},
   "source": [
    "### Exercici 4"
   ]
  },
  {
   "cell_type": "code",
   "execution_count": null,
   "metadata": {},
   "outputs": [],
   "source": [
    "Crea un diccionari de la següent forma i respon a les preguntes:\n",
    "\n",
    "compra = { \"Pomes\" : {\"Qty\": 5, \"€\": 0.42}, \"Peres\" : {\"Qty\": 3, \"€\": 0.66} }"
   ]
  },
  {
   "cell_type": "code",
   "execution_count": null,
   "metadata": {},
   "outputs": [],
   "source": [
    "compra = { \"Pomes\" : {\"Qty\": 5, \"€\": 0.42}, \"Peres\" : {\"Qty\": 3, \"€\": 0.66} }"
   ]
  },
  {
   "cell_type": "markdown",
   "metadata": {},
   "source": [
    "Afegeix alguna fruita més"
   ]
  },
  {
   "cell_type": "code",
   "execution_count": 30,
   "metadata": {},
   "outputs": [
    {
     "name": "stdout",
     "output_type": "stream",
     "text": [
      "{'Pomes': {'Qty': 5, '€': 0.42}, 'Peres': {'Qty': 3, '€': 0.66}, 'Taronges': {'Qty': 3, '€': 0.45}}\n"
     ]
    }
   ],
   "source": [
    "compra = { \"Pomes\" : {\"Qty\": 5, \"€\": 0.42}, \"Peres\" : {\"Qty\": 3, \"€\": 0.66} }\n",
    "novaFruita = {\"Taronges\" : {\"Qty\": 3, \"€\": 0.45} }\n",
    "compra.update(novaFruita)\n",
    "print(compra)"
   ]
  },
  {
   "cell_type": "markdown",
   "metadata": {},
   "source": [
    "Quant han costat les peres en total?\n",
    "Quantes fruites hem comprat en total?\n",
    "Quina és la fruita més cara?"
   ]
  },
  {
   "cell_type": "code",
   "execution_count": 33,
   "metadata": {},
   "outputs": [
    {
     "name": "stdout",
     "output_type": "stream",
     "text": [
      "Les peres han costat 1.98€\n"
     ]
    }
   ],
   "source": [
    "compra = {'Pomes': {'Qty': 5, '€': 0.42}, 'Peres': {'Qty': 3, '€': 0.66}, 'Taronges': {'Qty': 3, '€': 0.45}}\n",
    "\n",
    "\n",
    "peresUnitats = compra['Peres'].get('Qty')\n",
    "peresPreu = compra['Peres'].get('€')\n",
    "peresTotal = peresUnitats*peresPreu\n",
    "\n",
    "print(\"Les peres han costat \"+ str(peresTotal) +'€')\n",
    "\n",
    "\n"
   ]
  },
  {
   "cell_type": "code",
   "execution_count": 43,
   "metadata": {},
   "outputs": [
    {
     "name": "stdout",
     "output_type": "stream",
     "text": [
      "Hem comprat un total de 11 peces de fruita\n"
     ]
    }
   ],
   "source": [
    "peresUnitats = compra['Peres'].get('Qty')\n",
    "pomesUnitats = compra['Pomes'].get('Qty')\n",
    "tarongesUnitats = compra['Taronges'].get('Qty')\n",
    "\n",
    "totalFruita = int(peresUnitats + pomesUnitats + tarongesUnitats)\n",
    "print(\"Hem comprat un total de \"+ str(totalFruita) +' peces de fruita')\n",
    "\n"
   ]
  },
  {
   "cell_type": "code",
   "execution_count": 65,
   "metadata": {},
   "outputs": [
    {
     "name": "stdout",
     "output_type": "stream",
     "text": [
      "La fruita més cara costa 0.66 la unitat\n",
      "però quina és?\n",
      "son les Peres\n"
     ]
    }
   ],
   "source": [
    "#Quina és la fruita més cara?\n",
    "\n",
    "preus = [compra['Peres'].get('€'), compra['Pomes'].get('€'), compra['Taronges'].get('€')]\n",
    "preus.sort()\n",
    "fruitaMesCara=(preus[-1])\n",
    "print(\"La fruita més cara costa \" + str(fruitaMesCara) + \" la unitat\")\n",
    "print(\"però quina és?\")\n",
    "\n",
    "\n",
    "\n",
    "nomFruita = list(compra.keys())\n",
    "valors = [compra['Pomes'].get('€'),compra['Peres'].get('€'),compra['Taronges'].get('€')]\n",
    "\n",
    "preusDict = dict(zip(nomFruita, valors))\n",
    "\n",
    "\n",
    "for x, y in preusDict.items():\n",
    "    if y == fruitaMesCara:\n",
    "        print(\"son les \" +str(x))\n"
   ]
  },
  {
   "cell_type": "code",
   "execution_count": null,
   "metadata": {},
   "outputs": [],
   "source": [
    "\n"
   ]
  }
 ],
 "metadata": {
  "kernelspec": {
   "display_name": "Python 3",
   "language": "python",
   "name": "python3"
  },
  "language_info": {
   "codemirror_mode": {
    "name": "ipython",
    "version": 3
   },
   "file_extension": ".py",
   "mimetype": "text/x-python",
   "name": "python",
   "nbconvert_exporter": "python",
   "pygments_lexer": "ipython3",
   "version": "3.8.5"
  },
  "latex_envs": {
   "LaTeX_envs_menu_present": true,
   "autoclose": false,
   "autocomplete": true,
   "bibliofile": "biblio.bib",
   "cite_by": "apalike",
   "current_citInitial": 1,
   "eqLabelWithNumbers": true,
   "eqNumInitial": 1,
   "hotkeys": {
    "equation": "Ctrl-E",
    "itemize": "Ctrl-I"
   },
   "labels_anchors": false,
   "latex_user_defs": false,
   "report_style_numbering": false,
   "user_envs_cfg": false
  }
 },
 "nbformat": 4,
 "nbformat_minor": 4
}
