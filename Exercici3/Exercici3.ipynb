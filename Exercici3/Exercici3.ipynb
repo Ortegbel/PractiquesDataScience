{
 "cells": [
  {
   "cell_type": "markdown",
   "metadata": {},
   "source": [
    "### Exercici 3: Estructura de control\n",
    "Descripció\n",
    "Comencem a familiaritzar-nos amb les estructures de control de Python\n",
    "\n",
    "Nivell 1"
   ]
  },
  {
   "cell_type": "markdown",
   "metadata": {},
   "source": [
    "- Exercici 1\n",
    "L'exercici consisteix a crear un programa que et classifiqui una variable numèrica en funció de l’escala Suspès/Aprovat/Notable/Excel·lent."
   ]
  },
  {
   "cell_type": "code",
   "execution_count": 3,
   "metadata": {},
   "outputs": [
    {
     "name": "stdout",
     "output_type": "stream",
     "text": [
      "entra la nota que vols comprovar 7\n",
      "la teva nota correspon a la següent calificació:  Notable\n"
     ]
    }
   ],
   "source": [
    "nota= int(input(\"entra la nota que vols comprovar \"))\n",
    "\n",
    "if nota<5:\n",
    "    calificacio= \"Suspès\"\n",
    "elif 5<= nota<=6:\n",
    "    calificacio = \"Aprovat\"\n",
    "elif 7<= nota <=8:\n",
    "    calificacio = \"Notable\"\n",
    "else:\n",
    "    calificacio = \"Excel.lent\"\n",
    "print(\"la teva nota correspon a la següent calificació: \", calificacio)"
   ]
  },
  {
   "cell_type": "markdown",
   "metadata": {},
   "source": [
    "- Exercici 2\n",
    "Utilitzant el següent tutorial Programiz: Python Input, Output and Import crea un programa que et pregunti dos números. T’ha de mostrar un missatge dient si el primer és més gran, el segon és més gran o són iguals."
   ]
  },
  {
   "cell_type": "code",
   "execution_count": 38,
   "metadata": {},
   "outputs": [
    {
     "name": "stdout",
     "output_type": "stream",
     "text": [
      "Et demanem dos números per jugar amb ells.\n",
      "Entra un número 2598\n",
      "entra un altre 3665\n",
      "has introduït els números:  2598 y 3665 el reusltat de la comparació és:  el segon és més gran\n"
     ]
    }
   ],
   "source": [
    "print(\"Et demanem dos números per jugar amb ells.\")\n",
    "a = int(input(\"Entra un número \"))\n",
    "b = int(input(\"entra un altre \"))\n",
    "\n",
    "\n",
    "if a == b:\n",
    "    comp=\"son iguals\"\n",
    "elif a>b:\n",
    "    comp=\"el primer és més gran\"\n",
    "else:\n",
    "    comp=\"el segon és més gran\"\n",
    "\n",
    "    \n",
    "print(\"has introduït els números: \",a, \"y\", b, \"el reusltat de la comparació és: \", comp)"
   ]
  },
  {
   "cell_type": "markdown",
   "metadata": {},
   "source": [
    "- Exercici 3\n",
    "Crea un programa que et pregunti el teu nom, i et demani un número. Si el número és 0, hauria de mostrar un missatge d’error. En cas contrari, hauria de mostrar el nom repetit tants cops com indiqui el número. Per exemple, “Joan Joan Joan”."
   ]
  },
  {
   "cell_type": "code",
   "execution_count": 39,
   "metadata": {},
   "outputs": [
    {
     "name": "stdout",
     "output_type": "stream",
     "text": [
      "Escriu el teu nom: Aniol\n",
      "i ara, un número enter: 25\n",
      "AniolAniolAniolAniolAniolAniolAniolAniolAniolAniolAniolAniolAniolAniolAniolAniolAniolAniolAniolAniolAniolAniolAniolAniolAniol\n"
     ]
    }
   ],
   "source": [
    "nom=input(\"Escriu el teu nom: \")\n",
    "num=int(input(\"i ara, un número enter: \"))\n",
    "\n",
    "if num != 0:\n",
    "    print(nom*num)\n",
    "else:\n",
    "    print(\"Error, entra un número vàlid\")\n",
    "\n",
    "    "
   ]
  },
  {
   "cell_type": "markdown",
   "metadata": {},
   "source": [
    "- Exercici 4\n",
    "Crea un programa que donada una llista qualsevol, et digui si es simètrica o no. Si ho és, que et digui quants elements té."
   ]
  },
  {
   "cell_type": "code",
   "execution_count": 37,
   "metadata": {},
   "outputs": [
    {
     "name": "stdout",
     "output_type": "stream",
     "text": [
      "[5, 3, 1, 2, 4, 0, 6]\n",
      "la llista no és simètrica.\n"
     ]
    }
   ],
   "source": [
    "import random\n",
    "\n",
    "llista= random.sample(range(0,10),7) \n",
    "llista2= llista.reverse()\n",
    "\n",
    "print(llista)\n",
    "\n",
    "if llista == llista2:\n",
    "    print(\"la llista és simètrica, i té \", len(llista), \"elements\")\n",
    "else:\n",
    "    print(\"la llista no és simètrica.\")"
   ]
  },
  {
   "cell_type": "markdown",
   "metadata": {},
   "source": [
    "- Exercici 5\n",
    "Crea un programa que donada una llista, et digui quants números coincideixen amb la seva posició. Per exemple [3,4,2,0,2,3,6] el 2 i el 6 coincideixen."
   ]
  },
  {
   "cell_type": "code",
   "execution_count": 35,
   "metadata": {},
   "outputs": [
    {
     "name": "stdout",
     "output_type": "stream",
     "text": [
      "[6, 8, 3, 1, 7, 5, 0]\n",
      "el valor de quins números coincideix amb la seva posició?\n",
      "Pels numeros  [5]  el seu valor coincideix amb la seva posició dins la llista.\n"
     ]
    }
   ],
   "source": [
    "import random\n",
    "\n",
    "llista= random.sample(range(0,10),7) \n",
    "\n",
    "print(llista)\n",
    "print(\"el valor de quins números coincideix amb la seva posició?\")\n",
    "\n",
    "llista2=[]\n",
    "for i, x in enumerate(llista):\n",
    "    if i == x:\n",
    "        llista2.append(x)\n",
    "        \n",
    "\n",
    "if len(llista2)!= 0:\n",
    "    print(\"Pels numeros \", llista2, \" el seu valor coincideix amb la seva posició dins la llista.\" )\n",
    "else:\n",
    "    print(\"No es compleix per cap valor\" )"
   ]
  }
 ],
 "metadata": {
  "kernelspec": {
   "display_name": "Python 3",
   "language": "python",
   "name": "python3"
  },
  "language_info": {
   "codemirror_mode": {
    "name": "ipython",
    "version": 3
   },
   "file_extension": ".py",
   "mimetype": "text/x-python",
   "name": "python",
   "nbconvert_exporter": "python",
   "pygments_lexer": "ipython3",
   "version": "3.8.5"
  },
  "latex_envs": {
   "LaTeX_envs_menu_present": true,
   "autoclose": false,
   "autocomplete": true,
   "bibliofile": "biblio.bib",
   "cite_by": "apalike",
   "current_citInitial": 1,
   "eqLabelWithNumbers": true,
   "eqNumInitial": 1,
   "hotkeys": {
    "equation": "Ctrl-E",
    "itemize": "Ctrl-I"
   },
   "labels_anchors": false,
   "latex_user_defs": false,
   "report_style_numbering": false,
   "user_envs_cfg": false
  }
 },
 "nbformat": 4,
 "nbformat_minor": 4
}
