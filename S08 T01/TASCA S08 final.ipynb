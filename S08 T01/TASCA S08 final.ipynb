{
 "cells": [
  {
   "cell_type": "markdown",
   "id": "f5b55e5d",
   "metadata": {},
   "source": [
    "**Enunciats**  \n",
    "- Nivell 1\n",
    "  1. Agafa un conjunt de dades de tema esportiu que t'agradi i selecciona un atribut del conjunt de dades. Calcula el p-valor i digues si rebutja la hipòtesi nul·la agafant un alfa de 5%.  \n",
    "\n",
    "- Nivell 2  \n",
    "  2. Continua amb el conjunt de dades de tema esportiu que t'agradi i selecciona dos altres atributs del conjunt de dades. Calcula els p-valors i digues si rebutgen la hipòtesi nul·la agafant un alfa de 5%.  \n",
    "\n",
    "- Nivell 3  \n",
    "  3. Continua amb el conjunt de dades de tema esportiu que t'agradi i selecciona tres atributs del conjunt de dades. Calcula el p-valor i digues si rebutja la hipòtesi nul·la agafant un alfa de 5%."
   ]
  },
  {
   "cell_type": "markdown",
   "id": "9157529c",
   "metadata": {},
   "source": [
    "**Dades:**  \n",
    "Abans de començar a treballar amb les dades he volgut revisar les variables incloses. Alguns dels termes són molt específics no només del Hockey Gel , sino de la competició NHL en sí. és per això que he cregut edient incloure algunes defnicions que ens ajudaran a prendre decissions:\n",
    "\n",
    "**Nom i breu descripció:**\n",
    "- year: Year (2005-06 listed as \"2005\")  \n",
    "- lgID: League ID  \n",
    "- tmID: Team ID  \n",
    "- franchID: Franchise ID  \n",
    "- confID: Conference ID (see abbrev.csv for details)  \n",
    "- divID: Division ID (see abbrev.csv for details)  \n",
    "- rank: Final standing  \n",
    "- playoff: Playoff result (see abbrev.csv for details)  \n",
    "- G: Games  \n",
    "- W: Wins  \n",
    "- L: Losses  \n",
    "- T: Ties  \n",
    "- OTL: Overtime losses  \n",
    "- Pts: Points  \n",
    "- SoW: Shootout wins  \n",
    "- SoL: Shootout losses  \n",
    "- GF: Goals for  \n",
    "- GA: Goals against  \n",
    "- name: Full team name  \n",
    "- PIM: Penalty minutes  \n",
    "- BenchMinor: Bench minors (minutes)  \n",
    "- PPG: Power play goals  \n",
    "- PPC: Power play chances  \n",
    "- SHA: Shorthanded goals against  \n",
    "- PKG: Power play goals against  \n",
    "- PKC: Penalty kill chances  \n",
    "- SHF: Shorthanded goals for  \n",
    "\n",
    "\n",
    "**Terminologia Específica:**\n",
    "\n",
    "**Shootout**: When a game is still tied after overtime, which is five minutes, it goes to a shootout. This involves three hand-picked players from each team to alternate penalty shots at the opposing team’s goalie. The team with the most goals wins. If it is still a tie after the initial three, they continue with sudden death penalty shots, alternately, until a goal is scored. \n",
    "\n",
    "**Penalty Minutes (PIM):** The Statistic used to track the penalties was called Penalty Infraction Minutes, althought the team Penalty Minutes has become more common. **Penalty minutes** represent the total assessed length of penalities each player or team has accrued.  \n",
    "\n",
    "**BENCH MINOR:** A \"BENCH MINOR\" penalty involves the removal from the ice of one player of the Team against which the penalty is assessed for a period of two (2) minutes.  \n",
    "\n",
    "**Power Play:** a team is said to be on a power play when at least one opposing player is serving a penalty, and the team has a numerical advantage on the ice (whenever both teams have the same number of players on the ice, there is no power play).  \n",
    "\n",
    "**Shorthanded Goal:** A goal scored by a Club while it is at a manpower disadvantage. The same cases apply for shorthand as for power-play goals, but in the opposite manner.  \n",
    "**Penalty Kill:** Play where the player's team has fewer players on the ice than their opponent due to penalties. Includes 4v5, 3v4, 3v5, as well as when teams have pulled the goalie to turn 4v5 into 5v5 or 4v6, 3v4 into 4v4 or 3v5, and 3v5 into 4v5 or 3v6.  \n",
    "\n",
    "Dit això, **comencem**!  "
   ]
  },
  {
   "cell_type": "markdown",
   "id": "08d80f01",
   "metadata": {},
   "source": [
    "### Preparació:"
   ]
  },
  {
   "cell_type": "code",
   "execution_count": 1,
   "id": "43155fc4",
   "metadata": {},
   "outputs": [
    {
     "data": {
      "text/html": [
       "<div>\n",
       "<style scoped>\n",
       "    .dataframe tbody tr th:only-of-type {\n",
       "        vertical-align: middle;\n",
       "    }\n",
       "\n",
       "    .dataframe tbody tr th {\n",
       "        vertical-align: top;\n",
       "    }\n",
       "\n",
       "    .dataframe thead th {\n",
       "        text-align: right;\n",
       "    }\n",
       "</style>\n",
       "<table border=\"1\" class=\"dataframe\">\n",
       "  <thead>\n",
       "    <tr style=\"text-align: right;\">\n",
       "      <th></th>\n",
       "      <th>year</th>\n",
       "      <th>lgID</th>\n",
       "      <th>tmID</th>\n",
       "      <th>franchID</th>\n",
       "      <th>confID</th>\n",
       "      <th>divID</th>\n",
       "      <th>rank</th>\n",
       "      <th>playoff</th>\n",
       "      <th>G</th>\n",
       "      <th>W</th>\n",
       "      <th>...</th>\n",
       "      <th>GA</th>\n",
       "      <th>name</th>\n",
       "      <th>PIM</th>\n",
       "      <th>BenchMinor</th>\n",
       "      <th>PPG</th>\n",
       "      <th>PPC</th>\n",
       "      <th>SHA</th>\n",
       "      <th>PKG</th>\n",
       "      <th>PKC</th>\n",
       "      <th>SHF</th>\n",
       "    </tr>\n",
       "  </thead>\n",
       "  <tbody>\n",
       "    <tr>\n",
       "      <th>0</th>\n",
       "      <td>1909</td>\n",
       "      <td>NHA</td>\n",
       "      <td>COB</td>\n",
       "      <td>BKN</td>\n",
       "      <td>NaN</td>\n",
       "      <td>NaN</td>\n",
       "      <td>4</td>\n",
       "      <td>NaN</td>\n",
       "      <td>12</td>\n",
       "      <td>4</td>\n",
       "      <td>...</td>\n",
       "      <td>104</td>\n",
       "      <td>Cobalt Silver Kings</td>\n",
       "      <td>NaN</td>\n",
       "      <td>NaN</td>\n",
       "      <td>NaN</td>\n",
       "      <td>NaN</td>\n",
       "      <td>NaN</td>\n",
       "      <td>NaN</td>\n",
       "      <td>NaN</td>\n",
       "      <td>NaN</td>\n",
       "    </tr>\n",
       "    <tr>\n",
       "      <th>1</th>\n",
       "      <td>1909</td>\n",
       "      <td>NHA</td>\n",
       "      <td>HAI</td>\n",
       "      <td>MTL</td>\n",
       "      <td>NaN</td>\n",
       "      <td>NaN</td>\n",
       "      <td>5</td>\n",
       "      <td>NaN</td>\n",
       "      <td>12</td>\n",
       "      <td>4</td>\n",
       "      <td>...</td>\n",
       "      <td>83</td>\n",
       "      <td>Haileybury Hockey Club</td>\n",
       "      <td>NaN</td>\n",
       "      <td>NaN</td>\n",
       "      <td>NaN</td>\n",
       "      <td>NaN</td>\n",
       "      <td>NaN</td>\n",
       "      <td>NaN</td>\n",
       "      <td>NaN</td>\n",
       "      <td>NaN</td>\n",
       "    </tr>\n",
       "    <tr>\n",
       "      <th>2</th>\n",
       "      <td>1909</td>\n",
       "      <td>NHA</td>\n",
       "      <td>LES</td>\n",
       "      <td>TBS</td>\n",
       "      <td>NaN</td>\n",
       "      <td>NaN</td>\n",
       "      <td>7</td>\n",
       "      <td>NaN</td>\n",
       "      <td>12</td>\n",
       "      <td>2</td>\n",
       "      <td>...</td>\n",
       "      <td>100</td>\n",
       "      <td>Les Canadiens</td>\n",
       "      <td>NaN</td>\n",
       "      <td>NaN</td>\n",
       "      <td>NaN</td>\n",
       "      <td>NaN</td>\n",
       "      <td>NaN</td>\n",
       "      <td>NaN</td>\n",
       "      <td>NaN</td>\n",
       "      <td>NaN</td>\n",
       "    </tr>\n",
       "    <tr>\n",
       "      <th>3</th>\n",
       "      <td>1909</td>\n",
       "      <td>NHA</td>\n",
       "      <td>MOS</td>\n",
       "      <td>MOS</td>\n",
       "      <td>NaN</td>\n",
       "      <td>NaN</td>\n",
       "      <td>6</td>\n",
       "      <td>NaN</td>\n",
       "      <td>12</td>\n",
       "      <td>3</td>\n",
       "      <td>...</td>\n",
       "      <td>95</td>\n",
       "      <td>Montreal Shamrocks</td>\n",
       "      <td>NaN</td>\n",
       "      <td>NaN</td>\n",
       "      <td>NaN</td>\n",
       "      <td>NaN</td>\n",
       "      <td>NaN</td>\n",
       "      <td>NaN</td>\n",
       "      <td>NaN</td>\n",
       "      <td>NaN</td>\n",
       "    </tr>\n",
       "    <tr>\n",
       "      <th>4</th>\n",
       "      <td>1909</td>\n",
       "      <td>NHA</td>\n",
       "      <td>MOW</td>\n",
       "      <td>MTW</td>\n",
       "      <td>NaN</td>\n",
       "      <td>NaN</td>\n",
       "      <td>1</td>\n",
       "      <td>NaN</td>\n",
       "      <td>12</td>\n",
       "      <td>11</td>\n",
       "      <td>...</td>\n",
       "      <td>41</td>\n",
       "      <td>Montreal Wanderers</td>\n",
       "      <td>NaN</td>\n",
       "      <td>NaN</td>\n",
       "      <td>NaN</td>\n",
       "      <td>NaN</td>\n",
       "      <td>NaN</td>\n",
       "      <td>NaN</td>\n",
       "      <td>NaN</td>\n",
       "      <td>NaN</td>\n",
       "    </tr>\n",
       "  </tbody>\n",
       "</table>\n",
       "<p>5 rows × 27 columns</p>\n",
       "</div>"
      ],
      "text/plain": [
       "   year lgID tmID franchID confID divID  rank playoff   G   W  ...   GA  \\\n",
       "0  1909  NHA  COB      BKN    NaN   NaN     4     NaN  12   4  ...  104   \n",
       "1  1909  NHA  HAI      MTL    NaN   NaN     5     NaN  12   4  ...   83   \n",
       "2  1909  NHA  LES      TBS    NaN   NaN     7     NaN  12   2  ...  100   \n",
       "3  1909  NHA  MOS      MOS    NaN   NaN     6     NaN  12   3  ...   95   \n",
       "4  1909  NHA  MOW      MTW    NaN   NaN     1     NaN  12  11  ...   41   \n",
       "\n",
       "                     name  PIM  BenchMinor  PPG  PPC  SHA  PKG PKC  SHF  \n",
       "0     Cobalt Silver Kings  NaN         NaN  NaN  NaN  NaN  NaN NaN  NaN  \n",
       "1  Haileybury Hockey Club  NaN         NaN  NaN  NaN  NaN  NaN NaN  NaN  \n",
       "2           Les Canadiens  NaN         NaN  NaN  NaN  NaN  NaN NaN  NaN  \n",
       "3      Montreal Shamrocks  NaN         NaN  NaN  NaN  NaN  NaN NaN  NaN  \n",
       "4      Montreal Wanderers  NaN         NaN  NaN  NaN  NaN  NaN NaN  NaN  \n",
       "\n",
       "[5 rows x 27 columns]"
      ]
     },
     "execution_count": 1,
     "metadata": {},
     "output_type": "execute_result"
    }
   ],
   "source": [
    "import pandas as pd \n",
    "hockey = pd.read_csv('dades/Teams.csv')\n",
    "hockey.head()"
   ]
  },
  {
   "cell_type": "code",
   "execution_count": 2,
   "id": "e7673e6a",
   "metadata": {},
   "outputs": [
    {
     "data": {
      "text/plain": [
       "(1519, 27)"
      ]
     },
     "execution_count": 2,
     "metadata": {},
     "output_type": "execute_result"
    }
   ],
   "source": [
    "hockey.shape"
   ]
  },
  {
   "cell_type": "code",
   "execution_count": 3,
   "id": "2b03e9cf",
   "metadata": {},
   "outputs": [
    {
     "data": {
      "text/plain": [
       "year            int64\n",
       "lgID           object\n",
       "tmID           object\n",
       "franchID       object\n",
       "confID         object\n",
       "divID          object\n",
       "rank            int64\n",
       "playoff        object\n",
       "G               int64\n",
       "W               int64\n",
       "L               int64\n",
       "T             float64\n",
       "OTL           float64\n",
       "Pts             int64\n",
       "SoW           float64\n",
       "SoL           float64\n",
       "GF              int64\n",
       "GA              int64\n",
       "name           object\n",
       "PIM           float64\n",
       "BenchMinor    float64\n",
       "PPG           float64\n",
       "PPC           float64\n",
       "SHA           float64\n",
       "PKG           float64\n",
       "PKC           float64\n",
       "SHF           float64\n",
       "dtype: object"
      ]
     },
     "execution_count": 3,
     "metadata": {},
     "output_type": "execute_result"
    }
   ],
   "source": [
    "hockey.dtypes"
   ]
  },
  {
   "cell_type": "code",
   "execution_count": 4,
   "id": "8534bba4",
   "metadata": {},
   "outputs": [
    {
     "data": {
      "text/html": [
       "<div>\n",
       "<style scoped>\n",
       "    .dataframe tbody tr th:only-of-type {\n",
       "        vertical-align: middle;\n",
       "    }\n",
       "\n",
       "    .dataframe tbody tr th {\n",
       "        vertical-align: top;\n",
       "    }\n",
       "\n",
       "    .dataframe thead th {\n",
       "        text-align: right;\n",
       "    }\n",
       "</style>\n",
       "<table border=\"1\" class=\"dataframe\">\n",
       "  <thead>\n",
       "    <tr style=\"text-align: right;\">\n",
       "      <th></th>\n",
       "      <th>year</th>\n",
       "      <th>rank</th>\n",
       "      <th>G</th>\n",
       "      <th>W</th>\n",
       "      <th>L</th>\n",
       "      <th>T</th>\n",
       "      <th>OTL</th>\n",
       "      <th>Pts</th>\n",
       "      <th>SoW</th>\n",
       "      <th>SoL</th>\n",
       "      <th>GF</th>\n",
       "      <th>GA</th>\n",
       "      <th>PIM</th>\n",
       "      <th>BenchMinor</th>\n",
       "      <th>PPG</th>\n",
       "      <th>PPC</th>\n",
       "      <th>SHA</th>\n",
       "      <th>PKG</th>\n",
       "      <th>PKC</th>\n",
       "      <th>SHF</th>\n",
       "    </tr>\n",
       "  </thead>\n",
       "  <tbody>\n",
       "    <tr>\n",
       "      <th>count</th>\n",
       "      <td>1519.000000</td>\n",
       "      <td>1519.000000</td>\n",
       "      <td>1519.000000</td>\n",
       "      <td>1519.000000</td>\n",
       "      <td>1519.000000</td>\n",
       "      <td>1309.000000</td>\n",
       "      <td>358.000000</td>\n",
       "      <td>1519.000000</td>\n",
       "      <td>210.000000</td>\n",
       "      <td>210.000000</td>\n",
       "      <td>1519.000000</td>\n",
       "      <td>1519.000000</td>\n",
       "      <td>1409.000000</td>\n",
       "      <td>1028.000000</td>\n",
       "      <td>1101.000000</td>\n",
       "      <td>1100.000000</td>\n",
       "      <td>1101.000000</td>\n",
       "      <td>1101.000000</td>\n",
       "      <td>1100.000000</td>\n",
       "      <td>1101.000000</td>\n",
       "    </tr>\n",
       "    <tr>\n",
       "      <th>mean</th>\n",
       "      <td>1974.527979</td>\n",
       "      <td>3.219223</td>\n",
       "      <td>69.518104</td>\n",
       "      <td>30.872284</td>\n",
       "      <td>29.113891</td>\n",
       "      <td>9.020626</td>\n",
       "      <td>7.460894</td>\n",
       "      <td>71.276498</td>\n",
       "      <td>5.419048</td>\n",
       "      <td>5.419048</td>\n",
       "      <td>218.764977</td>\n",
       "      <td>218.764977</td>\n",
       "      <td>1139.860185</td>\n",
       "      <td>15.740272</td>\n",
       "      <td>62.803815</td>\n",
       "      <td>332.540000</td>\n",
       "      <td>8.753860</td>\n",
       "      <td>62.803815</td>\n",
       "      <td>332.626364</td>\n",
       "      <td>8.746594</td>\n",
       "    </tr>\n",
       "    <tr>\n",
       "      <th>std</th>\n",
       "      <td>28.708711</td>\n",
       "      <td>1.667720</td>\n",
       "      <td>19.699843</td>\n",
       "      <td>12.061197</td>\n",
       "      <td>11.234513</td>\n",
       "      <td>4.970282</td>\n",
       "      <td>3.610191</td>\n",
       "      <td>26.277603</td>\n",
       "      <td>2.561328</td>\n",
       "      <td>2.192990</td>\n",
       "      <td>77.905094</td>\n",
       "      <td>79.168426</td>\n",
       "      <td>503.841236</td>\n",
       "      <td>7.545232</td>\n",
       "      <td>16.540408</td>\n",
       "      <td>66.880887</td>\n",
       "      <td>3.921305</td>\n",
       "      <td>16.989719</td>\n",
       "      <td>69.423922</td>\n",
       "      <td>4.518477</td>\n",
       "    </tr>\n",
       "    <tr>\n",
       "      <th>min</th>\n",
       "      <td>1909.000000</td>\n",
       "      <td>1.000000</td>\n",
       "      <td>1.000000</td>\n",
       "      <td>0.000000</td>\n",
       "      <td>1.000000</td>\n",
       "      <td>0.000000</td>\n",
       "      <td>0.000000</td>\n",
       "      <td>0.000000</td>\n",
       "      <td>0.000000</td>\n",
       "      <td>1.000000</td>\n",
       "      <td>4.000000</td>\n",
       "      <td>8.000000</td>\n",
       "      <td>2.000000</td>\n",
       "      <td>0.000000</td>\n",
       "      <td>16.000000</td>\n",
       "      <td>107.000000</td>\n",
       "      <td>0.000000</td>\n",
       "      <td>24.000000</td>\n",
       "      <td>130.000000</td>\n",
       "      <td>0.000000</td>\n",
       "    </tr>\n",
       "    <tr>\n",
       "      <th>25%</th>\n",
       "      <td>1957.000000</td>\n",
       "      <td>2.000000</td>\n",
       "      <td>70.000000</td>\n",
       "      <td>22.000000</td>\n",
       "      <td>21.500000</td>\n",
       "      <td>6.000000</td>\n",
       "      <td>5.000000</td>\n",
       "      <td>54.000000</td>\n",
       "      <td>4.000000</td>\n",
       "      <td>4.000000</td>\n",
       "      <td>176.000000</td>\n",
       "      <td>173.500000</td>\n",
       "      <td>823.000000</td>\n",
       "      <td>10.000000</td>\n",
       "      <td>51.000000</td>\n",
       "      <td>283.000000</td>\n",
       "      <td>6.000000</td>\n",
       "      <td>51.000000</td>\n",
       "      <td>279.750000</td>\n",
       "      <td>6.000000</td>\n",
       "    </tr>\n",
       "    <tr>\n",
       "      <th>50%</th>\n",
       "      <td>1981.000000</td>\n",
       "      <td>3.000000</td>\n",
       "      <td>80.000000</td>\n",
       "      <td>32.000000</td>\n",
       "      <td>29.000000</td>\n",
       "      <td>9.000000</td>\n",
       "      <td>7.000000</td>\n",
       "      <td>75.000000</td>\n",
       "      <td>5.000000</td>\n",
       "      <td>5.000000</td>\n",
       "      <td>227.000000</td>\n",
       "      <td>228.000000</td>\n",
       "      <td>1114.000000</td>\n",
       "      <td>16.000000</td>\n",
       "      <td>61.000000</td>\n",
       "      <td>331.000000</td>\n",
       "      <td>8.000000</td>\n",
       "      <td>61.000000</td>\n",
       "      <td>330.000000</td>\n",
       "      <td>8.000000</td>\n",
       "    </tr>\n",
       "    <tr>\n",
       "      <th>75%</th>\n",
       "      <td>1998.000000</td>\n",
       "      <td>4.000000</td>\n",
       "      <td>82.000000</td>\n",
       "      <td>40.000000</td>\n",
       "      <td>37.000000</td>\n",
       "      <td>12.000000</td>\n",
       "      <td>10.000000</td>\n",
       "      <td>91.000000</td>\n",
       "      <td>7.000000</td>\n",
       "      <td>7.000000</td>\n",
       "      <td>273.500000</td>\n",
       "      <td>276.000000</td>\n",
       "      <td>1463.000000</td>\n",
       "      <td>20.000000</td>\n",
       "      <td>74.000000</td>\n",
       "      <td>375.000000</td>\n",
       "      <td>11.000000</td>\n",
       "      <td>74.000000</td>\n",
       "      <td>381.000000</td>\n",
       "      <td>11.000000</td>\n",
       "    </tr>\n",
       "    <tr>\n",
       "      <th>max</th>\n",
       "      <td>2011.000000</td>\n",
       "      <td>10.000000</td>\n",
       "      <td>84.000000</td>\n",
       "      <td>62.000000</td>\n",
       "      <td>71.000000</td>\n",
       "      <td>24.000000</td>\n",
       "      <td>18.000000</td>\n",
       "      <td>132.000000</td>\n",
       "      <td>15.000000</td>\n",
       "      <td>12.000000</td>\n",
       "      <td>446.000000</td>\n",
       "      <td>446.000000</td>\n",
       "      <td>2713.000000</td>\n",
       "      <td>56.000000</td>\n",
       "      <td>119.000000</td>\n",
       "      <td>541.000000</td>\n",
       "      <td>22.000000</td>\n",
       "      <td>122.000000</td>\n",
       "      <td>550.000000</td>\n",
       "      <td>36.000000</td>\n",
       "    </tr>\n",
       "  </tbody>\n",
       "</table>\n",
       "</div>"
      ],
      "text/plain": [
       "              year         rank            G            W            L  \\\n",
       "count  1519.000000  1519.000000  1519.000000  1519.000000  1519.000000   \n",
       "mean   1974.527979     3.219223    69.518104    30.872284    29.113891   \n",
       "std      28.708711     1.667720    19.699843    12.061197    11.234513   \n",
       "min    1909.000000     1.000000     1.000000     0.000000     1.000000   \n",
       "25%    1957.000000     2.000000    70.000000    22.000000    21.500000   \n",
       "50%    1981.000000     3.000000    80.000000    32.000000    29.000000   \n",
       "75%    1998.000000     4.000000    82.000000    40.000000    37.000000   \n",
       "max    2011.000000    10.000000    84.000000    62.000000    71.000000   \n",
       "\n",
       "                 T         OTL          Pts         SoW         SoL  \\\n",
       "count  1309.000000  358.000000  1519.000000  210.000000  210.000000   \n",
       "mean      9.020626    7.460894    71.276498    5.419048    5.419048   \n",
       "std       4.970282    3.610191    26.277603    2.561328    2.192990   \n",
       "min       0.000000    0.000000     0.000000    0.000000    1.000000   \n",
       "25%       6.000000    5.000000    54.000000    4.000000    4.000000   \n",
       "50%       9.000000    7.000000    75.000000    5.000000    5.000000   \n",
       "75%      12.000000   10.000000    91.000000    7.000000    7.000000   \n",
       "max      24.000000   18.000000   132.000000   15.000000   12.000000   \n",
       "\n",
       "                GF           GA          PIM   BenchMinor          PPG  \\\n",
       "count  1519.000000  1519.000000  1409.000000  1028.000000  1101.000000   \n",
       "mean    218.764977   218.764977  1139.860185    15.740272    62.803815   \n",
       "std      77.905094    79.168426   503.841236     7.545232    16.540408   \n",
       "min       4.000000     8.000000     2.000000     0.000000    16.000000   \n",
       "25%     176.000000   173.500000   823.000000    10.000000    51.000000   \n",
       "50%     227.000000   228.000000  1114.000000    16.000000    61.000000   \n",
       "75%     273.500000   276.000000  1463.000000    20.000000    74.000000   \n",
       "max     446.000000   446.000000  2713.000000    56.000000   119.000000   \n",
       "\n",
       "               PPC          SHA          PKG          PKC          SHF  \n",
       "count  1100.000000  1101.000000  1101.000000  1100.000000  1101.000000  \n",
       "mean    332.540000     8.753860    62.803815   332.626364     8.746594  \n",
       "std      66.880887     3.921305    16.989719    69.423922     4.518477  \n",
       "min     107.000000     0.000000    24.000000   130.000000     0.000000  \n",
       "25%     283.000000     6.000000    51.000000   279.750000     6.000000  \n",
       "50%     331.000000     8.000000    61.000000   330.000000     8.000000  \n",
       "75%     375.000000    11.000000    74.000000   381.000000    11.000000  \n",
       "max     541.000000    22.000000   122.000000   550.000000    36.000000  "
      ]
     },
     "execution_count": 4,
     "metadata": {},
     "output_type": "execute_result"
    }
   ],
   "source": [
    "hockey.describe()"
   ]
  },
  {
   "cell_type": "code",
   "execution_count": 5,
   "id": "1b337ea0",
   "metadata": {},
   "outputs": [
    {
     "data": {
      "text/html": [
       "<div>\n",
       "<style scoped>\n",
       "    .dataframe tbody tr th:only-of-type {\n",
       "        vertical-align: middle;\n",
       "    }\n",
       "\n",
       "    .dataframe tbody tr th {\n",
       "        vertical-align: top;\n",
       "    }\n",
       "\n",
       "    .dataframe thead th {\n",
       "        text-align: right;\n",
       "    }\n",
       "</style>\n",
       "<table border=\"1\" class=\"dataframe\">\n",
       "  <thead>\n",
       "    <tr style=\"text-align: right;\">\n",
       "      <th></th>\n",
       "      <th>lgID</th>\n",
       "      <th>tmID</th>\n",
       "      <th>franchID</th>\n",
       "      <th>confID</th>\n",
       "      <th>divID</th>\n",
       "      <th>playoff</th>\n",
       "      <th>name</th>\n",
       "    </tr>\n",
       "  </thead>\n",
       "  <tbody>\n",
       "    <tr>\n",
       "      <th>count</th>\n",
       "      <td>1519</td>\n",
       "      <td>1519</td>\n",
       "      <td>1519</td>\n",
       "      <td>902</td>\n",
       "      <td>1171</td>\n",
       "      <td>936</td>\n",
       "      <td>1519</td>\n",
       "    </tr>\n",
       "    <tr>\n",
       "      <th>unique</th>\n",
       "      <td>5</td>\n",
       "      <td>115</td>\n",
       "      <td>65</td>\n",
       "      <td>4</td>\n",
       "      <td>17</td>\n",
       "      <td>24</td>\n",
       "      <td>103</td>\n",
       "    </tr>\n",
       "    <tr>\n",
       "      <th>top</th>\n",
       "      <td>NHL</td>\n",
       "      <td>MTL</td>\n",
       "      <td>MTL</td>\n",
       "      <td>EC</td>\n",
       "      <td>PT</td>\n",
       "      <td>CQF</td>\n",
       "      <td>Montreal Canadiens</td>\n",
       "    </tr>\n",
       "    <tr>\n",
       "      <th>freq</th>\n",
       "      <td>1325</td>\n",
       "      <td>94</td>\n",
       "      <td>102</td>\n",
       "      <td>261</td>\n",
       "      <td>101</td>\n",
       "      <td>144</td>\n",
       "      <td>101</td>\n",
       "    </tr>\n",
       "  </tbody>\n",
       "</table>\n",
       "</div>"
      ],
      "text/plain": [
       "        lgID  tmID franchID confID divID playoff                name\n",
       "count   1519  1519     1519    902  1171     936                1519\n",
       "unique     5   115       65      4    17      24                 103\n",
       "top      NHL   MTL      MTL     EC    PT     CQF  Montreal Canadiens\n",
       "freq    1325    94      102    261   101     144                 101"
      ]
     },
     "execution_count": 5,
     "metadata": {},
     "output_type": "execute_result"
    }
   ],
   "source": [
    "categorical = hockey.dtypes[hockey.dtypes == 'object'].index\n",
    "hockey[categorical].describe()"
   ]
  },
  {
   "cell_type": "markdown",
   "id": "3cc05914",
   "metadata": {},
   "source": [
    "Després de revisar totes les dades, els enunciats dels exercicis, i fer vàries probes, crec q no necessitaré totes les dades. \n",
    "Em vull centrar en avaluar els punts obtinguts pels diferents equips. \n",
    "Per això crearé un nou DF més petit i fàcil de treballar.\n"
   ]
  },
  {
   "cell_type": "code",
   "execution_count": 6,
   "id": "063e730a",
   "metadata": {},
   "outputs": [
    {
     "data": {
      "text/html": [
       "<div>\n",
       "<style scoped>\n",
       "    .dataframe tbody tr th:only-of-type {\n",
       "        vertical-align: middle;\n",
       "    }\n",
       "\n",
       "    .dataframe tbody tr th {\n",
       "        vertical-align: top;\n",
       "    }\n",
       "\n",
       "    .dataframe thead th {\n",
       "        text-align: right;\n",
       "    }\n",
       "</style>\n",
       "<table border=\"1\" class=\"dataframe\">\n",
       "  <thead>\n",
       "    <tr style=\"text-align: right;\">\n",
       "      <th></th>\n",
       "      <th>name</th>\n",
       "      <th>Pts</th>\n",
       "    </tr>\n",
       "  </thead>\n",
       "  <tbody>\n",
       "    <tr>\n",
       "      <th>0</th>\n",
       "      <td>Cobalt Silver Kings</td>\n",
       "      <td>8</td>\n",
       "    </tr>\n",
       "    <tr>\n",
       "      <th>1</th>\n",
       "      <td>Haileybury Hockey Club</td>\n",
       "      <td>8</td>\n",
       "    </tr>\n",
       "    <tr>\n",
       "      <th>2</th>\n",
       "      <td>Les Canadiens</td>\n",
       "      <td>4</td>\n",
       "    </tr>\n",
       "    <tr>\n",
       "      <th>3</th>\n",
       "      <td>Montreal Shamrocks</td>\n",
       "      <td>7</td>\n",
       "    </tr>\n",
       "    <tr>\n",
       "      <th>4</th>\n",
       "      <td>Montreal Wanderers</td>\n",
       "      <td>22</td>\n",
       "    </tr>\n",
       "  </tbody>\n",
       "</table>\n",
       "</div>"
      ],
      "text/plain": [
       "                     name  Pts\n",
       "0     Cobalt Silver Kings    8\n",
       "1  Haileybury Hockey Club    8\n",
       "2           Les Canadiens    4\n",
       "3      Montreal Shamrocks    7\n",
       "4      Montreal Wanderers   22"
      ]
     },
     "execution_count": 6,
     "metadata": {},
     "output_type": "execute_result"
    }
   ],
   "source": [
    "df = pd.read_csv('dades/Teams.csv', usecols=['name','Pts'] )\n",
    "df = pd.DataFrame(df[['name','Pts']])\n",
    "df.head()"
   ]
  },
  {
   "cell_type": "code",
   "execution_count": 7,
   "id": "20a4f030",
   "metadata": {},
   "outputs": [
    {
     "data": {
      "image/png": "[encoded data removed]",
      "text/plain": [
       "<Figure size 720x576 with 1 Axes>"
      ]
     },
     "metadata": {
      "needs_background": "light"
     },
     "output_type": "display_data"
    }
   ],
   "source": [
    "%matplotlib inline\n",
    "import matplotlib.pyplot as plt\n",
    "df.hist(bins=50, figsize=(10,8))\n",
    "\n",
    "plt.show()"
   ]
  },
  {
   "cell_type": "code",
   "execution_count": 8,
   "id": "1b076afb",
   "metadata": {},
   "outputs": [
    {
     "data": {
      "text/html": [
       "<div>\n",
       "<style scoped>\n",
       "    .dataframe tbody tr th:only-of-type {\n",
       "        vertical-align: middle;\n",
       "    }\n",
       "\n",
       "    .dataframe tbody tr th {\n",
       "        vertical-align: top;\n",
       "    }\n",
       "\n",
       "    .dataframe thead th {\n",
       "        text-align: right;\n",
       "    }\n",
       "</style>\n",
       "<table border=\"1\" class=\"dataframe\">\n",
       "  <thead>\n",
       "    <tr style=\"text-align: right;\">\n",
       "      <th></th>\n",
       "      <th>Pts</th>\n",
       "    </tr>\n",
       "  </thead>\n",
       "  <tbody>\n",
       "    <tr>\n",
       "      <th>count</th>\n",
       "      <td>1519.000000</td>\n",
       "    </tr>\n",
       "    <tr>\n",
       "      <th>mean</th>\n",
       "      <td>71.276498</td>\n",
       "    </tr>\n",
       "    <tr>\n",
       "      <th>std</th>\n",
       "      <td>26.277603</td>\n",
       "    </tr>\n",
       "    <tr>\n",
       "      <th>min</th>\n",
       "      <td>0.000000</td>\n",
       "    </tr>\n",
       "    <tr>\n",
       "      <th>25%</th>\n",
       "      <td>54.000000</td>\n",
       "    </tr>\n",
       "    <tr>\n",
       "      <th>50%</th>\n",
       "      <td>75.000000</td>\n",
       "    </tr>\n",
       "    <tr>\n",
       "      <th>75%</th>\n",
       "      <td>91.000000</td>\n",
       "    </tr>\n",
       "    <tr>\n",
       "      <th>max</th>\n",
       "      <td>132.000000</td>\n",
       "    </tr>\n",
       "  </tbody>\n",
       "</table>\n",
       "</div>"
      ],
      "text/plain": [
       "               Pts\n",
       "count  1519.000000\n",
       "mean     71.276498\n",
       "std      26.277603\n",
       "min       0.000000\n",
       "25%      54.000000\n",
       "50%      75.000000\n",
       "75%      91.000000\n",
       "max     132.000000"
      ]
     },
     "execution_count": 8,
     "metadata": {},
     "output_type": "execute_result"
    }
   ],
   "source": [
    "df.describe()"
   ]
  },
  {
   "cell_type": "code",
   "execution_count": 9,
   "id": "0263fac9",
   "metadata": {},
   "outputs": [
    {
     "name": "stdout",
     "output_type": "stream",
     "text": [
      "<class 'pandas.core.frame.DataFrame'>\n",
      "RangeIndex: 1519 entries, 0 to 1518\n",
      "Data columns (total 2 columns):\n",
      " #   Column  Non-Null Count  Dtype \n",
      "---  ------  --------------  ----- \n",
      " 0   name    1519 non-null   object\n",
      " 1   Pts     1519 non-null   int64 \n",
      "dtypes: int64(1), object(1)\n",
      "memory usage: 23.9+ KB\n"
     ]
    }
   ],
   "source": [
    "df.info()"
   ]
  },
  {
   "cell_type": "markdown",
   "id": "0d66cda8",
   "metadata": {},
   "source": [
    "Un dels equips que vull fer servir en els exercicis, és el Chicago BlackHawks, he vist q té dos noms diferents, els igualaré pq no em distorsioni les dades."
   ]
  },
  {
   "cell_type": "code",
   "execution_count": 10,
   "id": "c825c026",
   "metadata": {},
   "outputs": [
    {
     "data": {
      "text/plain": [
       "array(['Cobalt Silver Kings', 'Haileybury Hockey Club', 'Les Canadiens',\n",
       "       'Montreal Shamrocks', 'Montreal Wanderers', 'Ottawa Senators',\n",
       "       'Renfrew Creamery Kings', 'Montreal Canadiens', 'Quebec Bulldogs',\n",
       "       'New Westminster Royals', 'Victoria Aristocrats',\n",
       "       'Vancouver Millionaires', 'Toronto Blueshirts',\n",
       "       'Toronto Tecumsehs', 'Toronto Ontarios',\n",
       "       'Toronto Ontarios/Shamrocks', 'Portland Rosebuds',\n",
       "       'Seattle Metropolitans', '228th Battalion', 'Spokane Canaries',\n",
       "       'Toronto Arenas', 'Toronto St. Patricks', 'Hamilton Tigers',\n",
       "       'Calgary Tigers', 'Edmonton Eskimos', 'Regina Capitals',\n",
       "       'Saskatoon/Moose Jaw Sheiks', 'Vancouver Maroons',\n",
       "       'Victoria Cougars', 'Saskatoon Crescents', 'Boston Bruins',\n",
       "       'Montreal Maroons', 'Saskatoon Sheiks', 'New York Americans',\n",
       "       'Pittsburgh Pirates', 'Chicago Black Hawks', 'Detroit Cougars',\n",
       "       'New York Rangers', 'Toronto Maple Leafs', 'Detroit Falcons',\n",
       "       'Philadelphia Quakers', 'Detroit Red Wings', 'St. Louis Eagles',\n",
       "       'Brooklyn Americans', 'Los Angeles Kings', 'Minnesota North Stars',\n",
       "       'Oakland Seals', 'Philadelphia Flyers', 'Pittsburgh Penguins',\n",
       "       'St. Louis Blues', 'Buffalo Sabres', 'California Golden Seals',\n",
       "       'Vancouver Canucks', 'Atlanta Flames', 'New York Islanders',\n",
       "       'Alberta Oilers', 'Chicago Cougars', 'Cleveland Crusaders',\n",
       "       'Houston Aeros', 'Los Angeles Sharks', 'Minnesota Fighting Saints',\n",
       "       'New England Whalers', 'New York Raiders', 'Ottawa Nationals',\n",
       "       'Philadelphia Blazers', 'Quebec Nordiques', 'Winnipeg Jets',\n",
       "       'Edmonton Oilers', 'New York Golden Blades/Jersey Knights',\n",
       "       'Toronto Toros', 'Vancouver Blazers', 'Kansas City Scouts',\n",
       "       'Washington Capitals', 'Indianapolis Racers',\n",
       "       'Michigan Stags/Baltimore Blades', 'Phoenix Roadrunners',\n",
       "       'San Diego Mariners', 'Calgary Cowboys', 'Cincinnati Stingers',\n",
       "       'Denver Spurs/Ottawa Civics', 'Cleveland Barons',\n",
       "       'Colorado Rockies', 'Birmingham Bulls', 'Czechoslovakia',\n",
       "       'Soviet All Stars', 'Finland', 'Hartford Whalers',\n",
       "       'Calgary Flames', 'New Jersey Devils', 'Chicago Blackhawks',\n",
       "       'San Jose Sharks', 'Tampa Bay Lightning',\n",
       "       'Mighty Ducks of Anaheim', 'Dallas Stars', 'Florida Panthers',\n",
       "       'Colorado Avalanche', 'Phoenix Coyotes', 'Carolina Hurricanes',\n",
       "       'Nashville Predators', 'Atlanta Thrashers',\n",
       "       'Columbus Blue Jackets', 'Minnesota Wild', 'Anaheim Ducks'],\n",
       "      dtype=object)"
      ]
     },
     "execution_count": 10,
     "metadata": {},
     "output_type": "execute_result"
    }
   ],
   "source": [
    "df.name.unique()"
   ]
  },
  {
   "cell_type": "code",
   "execution_count": 11,
   "id": "f011e598",
   "metadata": {},
   "outputs": [],
   "source": [
    "df.loc[(df.name == 'Chicago Black Hawks'), 'name'] = 'Chicago Blackhawks'"
   ]
  },
  {
   "cell_type": "markdown",
   "id": "4a8c6053",
   "metadata": {},
   "source": [
    "# Exercici 1:  \n",
    "Agafa un conjunt de dades de tema esportiu que t'agradi i selecciona un atribut del conjunt de dades. He triat la variable Punts Marcats. \n",
    "Calcula el p-valor.  \n",
    "Rebutja la hipòtesi nul·la agafant un alfa de 5%."
   ]
  },
  {
   "cell_type": "markdown",
   "id": "773e00a2",
   "metadata": {},
   "source": [
    "Un dels meus equips preferits són els Boston Bruins, he decidit fer un subset de les dades d'aquest equip per tal de fer els exercicis.\n",
    "\n",
    "La meva Hipòtesi és que els Boston Bruins fan per temporada més punts que la mitjana dels equips.  \n",
    "\n",
    "${H_{0}}$ : Boston Bruins ${\\mu}$ = Hockey ${\\mu}$  \n",
    "${H_{1}}$  : Boston Bruins ${\\mu}$ > Hockey ${\\mu}$\n",
    "Per això dividiré el DataFrame:"
   ]
  },
  {
   "cell_type": "code",
   "execution_count": 18,
   "id": "85fffde4",
   "metadata": {},
   "outputs": [
    {
     "data": {
      "text/plain": [
       "count     87.000\n",
       "mean      75.966\n",
       "std       24.071\n",
       "min       12.000\n",
       "25%       57.500\n",
       "50%       74.000\n",
       "75%       96.500\n",
       "max      121.000\n",
       "Name: Pts, dtype: float64"
      ]
     },
     "execution_count": 18,
     "metadata": {},
     "output_type": "execute_result"
    }
   ],
   "source": [
    "bostonBruins = df[df['name']=='Boston Bruins']\n",
    "noBB = df[df['name']!='Boston Bruins']\n",
    "bostonBruins.Pts.describe().round(3)"
   ]
  },
  {
   "cell_type": "code",
   "execution_count": 13,
   "id": "05130d07",
   "metadata": {},
   "outputs": [
    {
     "data": {
      "text/plain": [
       "count    1432.000\n",
       "mean       70.992\n",
       "std        26.387\n",
       "min         0.000\n",
       "25%        53.750\n",
       "50%        76.000\n",
       "75%        91.000\n",
       "max       132.000\n",
       "Name: Pts, dtype: float64"
      ]
     },
     "execution_count": 13,
     "metadata": {},
     "output_type": "execute_result"
    }
   ],
   "source": [
    "noBB.Pts.describe().round(3)"
   ]
  },
  {
   "cell_type": "markdown",
   "id": "46324bdf",
   "metadata": {},
   "source": [
    "## Analisi\n",
    "\n",
    "### amb Z test"
   ]
  },
  {
   "cell_type": "code",
   "execution_count": 14,
   "id": "e9c049d1",
   "metadata": {},
   "outputs": [
    {
     "name": "stdout",
     "output_type": "stream",
     "text": [
      "z stats:  1.8606  z_p-val:  0.0628\n"
     ]
    }
   ],
   "source": [
    "#Z test\n",
    "\n",
    "import statsmodels.stats.weightstats as ws\n",
    "\n",
    "col1 = ws.DescrStatsW(bostonBruins['Pts'])\n",
    "col2 = ws.DescrStatsW(noBB['Pts'])\n",
    "\n",
    "cm_obj = ws.CompareMeans(col1, col2)\n",
    "\n",
    "zstat, z_pval = cm_obj.ztest_ind(usevar='unequal')\n",
    "\n",
    "print('z stats: ', zstat.round(4),' z_p-val: ', z_pval.round(4))"
   ]
  },
  {
   "cell_type": "markdown",
   "id": "a93816f6",
   "metadata": {},
   "source": [
    "### amb t-test"
   ]
  },
  {
   "cell_type": "code",
   "execution_count": 15,
   "id": "26602e95",
   "metadata": {
    "run_control": {
     "marked": false
    }
   },
   "outputs": [
    {
     "data": {
      "text/plain": [
       "Ttest_1sampResult(statistic=1.9273309712329223, pvalue=0.057239625361603146)"
      ]
     },
     "execution_count": 15,
     "metadata": {},
     "output_type": "execute_result"
    }
   ],
   "source": [
    "# t test\n",
    "import numpy as np\n",
    "from scipy import stats\n",
    " \n",
    "stats.ttest_1samp(a= bostonBruins.Pts, popmean= noBB.Pts.mean())"
   ]
  },
  {
   "cell_type": "code",
   "execution_count": 16,
   "id": "5238cb3b",
   "metadata": {},
   "outputs": [
    {
     "data": {
      "text/plain": [
       "Text(0.5, 1.0, 'Z test')"
      ]
     },
     "execution_count": 16,
     "metadata": {},
     "output_type": "execute_result"
    },
    {
     "data": {
      "image/png": "[encoded data removed]",
      "text/plain": [
       "<Figure size 432x288 with 1 Axes>"
      ]
     },
     "metadata": {
      "needs_background": "light"
     },
     "output_type": "display_data"
    }
   ],
   "source": [
    "import seaborn as sns\n",
    "import matplotlib.pyplot as plt\n",
    "sns.kdeplot(bostonBruins.Pts, shade=True)\n",
    "sns.kdeplot(noBB.Pts, shade=True)\n",
    "plt.title(\"Z test\")"
   ]
  },
  {
   "cell_type": "markdown",
   "id": "a1c96cd9",
   "metadata": {},
   "source": [
    "Les p-value dels dos test ens fan pensar que podem descartar la Hipotesi nula i dir que la mitja de punts de l'equi p seleccionat és més gran q la mitja de la resta d'equips."
   ]
  },
  {
   "cell_type": "markdown",
   "id": "f672b7be",
   "metadata": {},
   "source": [
    "# Exercici  2\n",
    "\n",
    "Continua amb el conjunt de dades de tema esportiu que t'agradi i selecciona dos altres atributs del conjunt de dades. Calcula els p-valors i digues si rebutgen la hipòtesi nul·la agafant un alfa de 5%."
   ]
  },
  {
   "cell_type": "markdown",
   "id": "e2decf75",
   "metadata": {},
   "source": [
    "Per fer aquest exercici compararé les dades dels Boston Bruins amb un altre equip, els Chicago Black Hawks. Però seguiré un altre procés. Faré un independent t-test fent servir la llibreria Reserachpy."
   ]
  },
  {
   "cell_type": "code",
   "execution_count": 19,
   "id": "788bd2e0",
   "metadata": {},
   "outputs": [
    {
     "data": {
      "text/html": [
       "<div>\n",
       "<style scoped>\n",
       "    .dataframe tbody tr th:only-of-type {\n",
       "        vertical-align: middle;\n",
       "    }\n",
       "\n",
       "    .dataframe tbody tr th {\n",
       "        vertical-align: top;\n",
       "    }\n",
       "\n",
       "    .dataframe thead th {\n",
       "        text-align: right;\n",
       "    }\n",
       "</style>\n",
       "<table border=\"1\" class=\"dataframe\">\n",
       "  <thead>\n",
       "    <tr style=\"text-align: right;\">\n",
       "      <th></th>\n",
       "      <th>name</th>\n",
       "      <th>Pts</th>\n",
       "    </tr>\n",
       "  </thead>\n",
       "  <tbody>\n",
       "    <tr>\n",
       "      <th>151</th>\n",
       "      <td>Chicago Blackhawks</td>\n",
       "      <td>41</td>\n",
       "    </tr>\n",
       "    <tr>\n",
       "      <th>161</th>\n",
       "      <td>Chicago Blackhawks</td>\n",
       "      <td>17</td>\n",
       "    </tr>\n",
       "    <tr>\n",
       "      <th>171</th>\n",
       "      <td>Chicago Blackhawks</td>\n",
       "      <td>22</td>\n",
       "    </tr>\n",
       "    <tr>\n",
       "      <th>181</th>\n",
       "      <td>Chicago Blackhawks</td>\n",
       "      <td>47</td>\n",
       "    </tr>\n",
       "    <tr>\n",
       "      <th>191</th>\n",
       "      <td>Chicago Blackhawks</td>\n",
       "      <td>51</td>\n",
       "    </tr>\n",
       "  </tbody>\n",
       "</table>\n",
       "</div>"
      ],
      "text/plain": [
       "                   name  Pts\n",
       "151  Chicago Blackhawks   41\n",
       "161  Chicago Blackhawks   17\n",
       "171  Chicago Blackhawks   22\n",
       "181  Chicago Blackhawks   47\n",
       "191  Chicago Blackhawks   51"
      ]
     },
     "execution_count": 19,
     "metadata": {},
     "output_type": "execute_result"
    }
   ],
   "source": [
    "Blackhawks = df[df['name']=='Chicago Blackhawks']\n",
    "Blackhawks.head()"
   ]
  },
  {
   "cell_type": "code",
   "execution_count": 23,
   "id": "fc40b603",
   "metadata": {},
   "outputs": [
    {
     "data": {
      "text/html": [
       "<div>\n",
       "<style scoped>\n",
       "    .dataframe tbody tr th:only-of-type {\n",
       "        vertical-align: middle;\n",
       "    }\n",
       "\n",
       "    .dataframe tbody tr th {\n",
       "        vertical-align: top;\n",
       "    }\n",
       "\n",
       "    .dataframe thead th {\n",
       "        text-align: right;\n",
       "    }\n",
       "</style>\n",
       "<table border=\"1\" class=\"dataframe\">\n",
       "  <thead>\n",
       "    <tr style=\"text-align: right;\">\n",
       "      <th></th>\n",
       "      <th>Variable</th>\n",
       "      <th>N</th>\n",
       "      <th>Mean</th>\n",
       "      <th>SD</th>\n",
       "      <th>SE</th>\n",
       "      <th>95% Conf.</th>\n",
       "      <th>Interval</th>\n",
       "    </tr>\n",
       "  </thead>\n",
       "  <tbody>\n",
       "    <tr>\n",
       "      <th>0</th>\n",
       "      <td>Pts</td>\n",
       "      <td>87.0</td>\n",
       "      <td>75.966</td>\n",
       "      <td>24.071</td>\n",
       "      <td>2.581</td>\n",
       "      <td>70.835</td>\n",
       "      <td>81.096</td>\n",
       "    </tr>\n",
       "    <tr>\n",
       "      <th>1</th>\n",
       "      <td>Pts</td>\n",
       "      <td>85.0</td>\n",
       "      <td>68.541</td>\n",
       "      <td>22.807</td>\n",
       "      <td>2.474</td>\n",
       "      <td>63.622</td>\n",
       "      <td>73.461</td>\n",
       "    </tr>\n",
       "    <tr>\n",
       "      <th>2</th>\n",
       "      <td>combined</td>\n",
       "      <td>172.0</td>\n",
       "      <td>72.297</td>\n",
       "      <td>23.681</td>\n",
       "      <td>1.806</td>\n",
       "      <td>68.732</td>\n",
       "      <td>75.861</td>\n",
       "    </tr>\n",
       "  </tbody>\n",
       "</table>\n",
       "</div>"
      ],
      "text/plain": [
       "   Variable      N    Mean      SD     SE  95% Conf.  Interval\n",
       "0       Pts   87.0  75.966  24.071  2.581     70.835    81.096\n",
       "1       Pts   85.0  68.541  22.807  2.474     63.622    73.461\n",
       "2  combined  172.0  72.297  23.681  1.806     68.732    75.861"
      ]
     },
     "execution_count": 23,
     "metadata": {},
     "output_type": "execute_result"
    }
   ],
   "source": [
    "import researchpy as rp\n",
    "des, res= rp.ttest(group1= df ['Pts'][df['name']=='Boston Bruins'], group1_name= \"Pts\",\n",
    "         group2= df['Pts'][df['name']=='Chicago Blackhawks'], group2_name= \"Pts\")\n",
    "des.round(3)"
   ]
  },
  {
   "cell_type": "code",
   "execution_count": 21,
   "id": "b04d865f",
   "metadata": {},
   "outputs": [
    {
     "data": {
      "text/html": [
       "<div>\n",
       "<style scoped>\n",
       "    .dataframe tbody tr th:only-of-type {\n",
       "        vertical-align: middle;\n",
       "    }\n",
       "\n",
       "    .dataframe tbody tr th {\n",
       "        vertical-align: top;\n",
       "    }\n",
       "\n",
       "    .dataframe thead th {\n",
       "        text-align: right;\n",
       "    }\n",
       "</style>\n",
       "<table border=\"1\" class=\"dataframe\">\n",
       "  <thead>\n",
       "    <tr style=\"text-align: right;\">\n",
       "      <th></th>\n",
       "      <th>Independent t-test</th>\n",
       "      <th>results</th>\n",
       "    </tr>\n",
       "  </thead>\n",
       "  <tbody>\n",
       "    <tr>\n",
       "      <th>0</th>\n",
       "      <td>Difference (Pts - Pts) =</td>\n",
       "      <td>7.4243</td>\n",
       "    </tr>\n",
       "    <tr>\n",
       "      <th>1</th>\n",
       "      <td>Degrees of freedom =</td>\n",
       "      <td>170.0000</td>\n",
       "    </tr>\n",
       "    <tr>\n",
       "      <th>2</th>\n",
       "      <td>t =</td>\n",
       "      <td>2.0755</td>\n",
       "    </tr>\n",
       "    <tr>\n",
       "      <th>3</th>\n",
       "      <td>Two side test p value =</td>\n",
       "      <td>0.0394</td>\n",
       "    </tr>\n",
       "    <tr>\n",
       "      <th>4</th>\n",
       "      <td>Difference &lt; 0 p value =</td>\n",
       "      <td>0.9803</td>\n",
       "    </tr>\n",
       "    <tr>\n",
       "      <th>5</th>\n",
       "      <td>Difference &gt; 0 p value =</td>\n",
       "      <td>0.0197</td>\n",
       "    </tr>\n",
       "    <tr>\n",
       "      <th>6</th>\n",
       "      <td>Cohen's d =</td>\n",
       "      <td>0.3165</td>\n",
       "    </tr>\n",
       "    <tr>\n",
       "      <th>7</th>\n",
       "      <td>Hedge's g =</td>\n",
       "      <td>0.3151</td>\n",
       "    </tr>\n",
       "    <tr>\n",
       "      <th>8</th>\n",
       "      <td>Glass's delta =</td>\n",
       "      <td>0.3084</td>\n",
       "    </tr>\n",
       "    <tr>\n",
       "      <th>9</th>\n",
       "      <td>Pearson's r =</td>\n",
       "      <td>0.1572</td>\n",
       "    </tr>\n",
       "  </tbody>\n",
       "</table>\n",
       "</div>"
      ],
      "text/plain": [
       "          Independent t-test   results\n",
       "0  Difference (Pts - Pts) =     7.4243\n",
       "1      Degrees of freedom =   170.0000\n",
       "2                       t =     2.0755\n",
       "3   Two side test p value =     0.0394\n",
       "4  Difference < 0 p value =     0.9803\n",
       "5  Difference > 0 p value =     0.0197\n",
       "6               Cohen's d =     0.3165\n",
       "7               Hedge's g =     0.3151\n",
       "8           Glass's delta =     0.3084\n",
       "9             Pearson's r =     0.1572"
      ]
     },
     "execution_count": 21,
     "metadata": {},
     "output_type": "execute_result"
    }
   ],
   "source": [
    "res"
   ]
  },
  {
   "cell_type": "code",
   "execution_count": 22,
   "id": "7d33b8ce",
   "metadata": {},
   "outputs": [
    {
     "data": {
      "text/plain": [
       "Text(0.5, 1.0, 't-test')"
      ]
     },
     "execution_count": 22,
     "metadata": {},
     "output_type": "execute_result"
    },
    {
     "data": {
      "image/png": "[encoded data removed]",
      "text/plain": [
       "<Figure size 432x288 with 1 Axes>"
      ]
     },
     "metadata": {
      "needs_background": "light"
     },
     "output_type": "display_data"
    }
   ],
   "source": [
    "import seaborn as sns\n",
    "import matplotlib.pyplot as plt\n",
    "sns.kdeplot(bostonBruins.Pts, shade=True)\n",
    "sns.kdeplot(Blackhawks.Pts, shade=True)\n",
    "plt.title(\"t-test amb reserarchpy\")"
   ]
  },
  {
   "cell_type": "markdown",
   "id": "c4119544",
   "metadata": {},
   "source": [
    "Interpretació:\n",
    "\n",
    "Els Boston Bruins tenen una puntuació mitja de 75.966 (70.835,\t81.096) i és estadisticament més gran que les dades dels Chicago Black Hawks, amb unes dades de 68.541\t(63.622, 73.461);  **t(170)** = 2.076, **p**= 0.0394."
   ]
  },
  {
   "cell_type": "markdown",
   "id": "9ab6cb9d",
   "metadata": {},
   "source": [
    "# Exercici 3 \n",
    "Continua amb el conjunt de dades de tema esportiu que t'agradi i selecciona tres atributs del conjunt de dades. Calcula el p-valor i digues si rebutja la hipòtesi nul·la agafant un alfa de 5%"
   ]
  },
  {
   "cell_type": "markdown",
   "id": "36275b9d",
   "metadata": {},
   "source": [
    "Ara faré l'anàlisi de tres grups de dades, analitzarem la relació entre els Boston Bruins, Chicago Balck Hawks i els New York Yankies.\n",
    "Per fer-ho necessitarem un test q ens permeti comprar les dades de més de dos conjunts, i per això faré servir ANOVA."
   ]
  },
  {
   "cell_type": "markdown",
   "id": "d1fb0288",
   "metadata": {},
   "source": [
    "Per tal de fer un test ANOVA, el primer pas és agrupar les dades de manera que tinguem una columna amb els noms de les variables i una altre amb els valors. En quest cas, les nostres dades ja són distribuides d'aquesta manera, per tant evitarem aquest pas. El que sí faré,es aïllar només les variables a estudiar en un nou DataFrame.\n",
    "Ho he fet de dues manres diferents:"
   ]
  },
  {
   "cell_type": "markdown",
   "id": "1f6006b7",
   "metadata": {},
   "source": [
    "Opció 1"
   ]
  },
  {
   "cell_type": "code",
   "execution_count": 49,
   "id": "a30f0b2b",
   "metadata": {},
   "outputs": [
    {
     "data": {
      "text/html": [
       "<div>\n",
       "<style scoped>\n",
       "    .dataframe tbody tr th:only-of-type {\n",
       "        vertical-align: middle;\n",
       "    }\n",
       "\n",
       "    .dataframe tbody tr th {\n",
       "        vertical-align: top;\n",
       "    }\n",
       "\n",
       "    .dataframe thead th {\n",
       "        text-align: right;\n",
       "    }\n",
       "</style>\n",
       "<table border=\"1\" class=\"dataframe\">\n",
       "  <thead>\n",
       "    <tr style=\"text-align: right;\">\n",
       "      <th></th>\n",
       "      <th>name</th>\n",
       "      <th>Pts</th>\n",
       "    </tr>\n",
       "  </thead>\n",
       "  <tbody>\n",
       "    <tr>\n",
       "      <th>125</th>\n",
       "      <td>Boston Bruins</td>\n",
       "      <td>12</td>\n",
       "    </tr>\n",
       "    <tr>\n",
       "      <th>137</th>\n",
       "      <td>Boston Bruins</td>\n",
       "      <td>38</td>\n",
       "    </tr>\n",
       "    <tr>\n",
       "      <th>150</th>\n",
       "      <td>Boston Bruins</td>\n",
       "      <td>45</td>\n",
       "    </tr>\n",
       "    <tr>\n",
       "      <th>151</th>\n",
       "      <td>Chicago Blackhawks</td>\n",
       "      <td>41</td>\n",
       "    </tr>\n",
       "    <tr>\n",
       "      <th>156</th>\n",
       "      <td>New York Rangers</td>\n",
       "      <td>56</td>\n",
       "    </tr>\n",
       "    <tr>\n",
       "      <th>...</th>\n",
       "      <td>...</td>\n",
       "      <td>...</td>\n",
       "    </tr>\n",
       "    <tr>\n",
       "      <th>1466</th>\n",
       "      <td>Chicago Blackhawks</td>\n",
       "      <td>97</td>\n",
       "    </tr>\n",
       "    <tr>\n",
       "      <th>1478</th>\n",
       "      <td>New York Rangers</td>\n",
       "      <td>93</td>\n",
       "    </tr>\n",
       "    <tr>\n",
       "      <th>1490</th>\n",
       "      <td>Boston Bruins</td>\n",
       "      <td>102</td>\n",
       "    </tr>\n",
       "    <tr>\n",
       "      <th>1495</th>\n",
       "      <td>Chicago Blackhawks</td>\n",
       "      <td>101</td>\n",
       "    </tr>\n",
       "    <tr>\n",
       "      <th>1507</th>\n",
       "      <td>New York Rangers</td>\n",
       "      <td>109</td>\n",
       "    </tr>\n",
       "  </tbody>\n",
       "</table>\n",
       "<p>257 rows × 2 columns</p>\n",
       "</div>"
      ],
      "text/plain": [
       "                    name  Pts\n",
       "125        Boston Bruins   12\n",
       "137        Boston Bruins   38\n",
       "150        Boston Bruins   45\n",
       "151   Chicago Blackhawks   41\n",
       "156     New York Rangers   56\n",
       "...                  ...  ...\n",
       "1466  Chicago Blackhawks   97\n",
       "1478    New York Rangers   93\n",
       "1490       Boston Bruins  102\n",
       "1495  Chicago Blackhawks  101\n",
       "1507    New York Rangers  109\n",
       "\n",
       "[257 rows x 2 columns]"
      ]
     },
     "execution_count": 49,
     "metadata": {},
     "output_type": "execute_result"
    }
   ],
   "source": [
    "df2 = df.loc[(df.name == 'Boston Bruins') | (df.name == 'Chicago Blackhawks') | (df.name == 'New York Rangers')]\n",
    "df2.dropna()"
   ]
  },
  {
   "cell_type": "code",
   "execution_count": 120,
   "id": "7a477b13",
   "metadata": {},
   "outputs": [
    {
     "data": {
      "text/plain": [
       "F_onewayResult(statistic=0.05921418059667321, pvalue=0.9425178880470313)"
      ]
     },
     "execution_count": 120,
     "metadata": {},
     "output_type": "execute_result"
    }
   ],
   "source": [
    "groups = df2.groupby('name').groups\n",
    "\n",
    "x = groups[\"Boston Bruins\"]\n",
    "y = groups[\"New York Rangers\"]\n",
    "z = groups[\"Chicago Blackhawks\"]\n",
    "\n",
    "stats.f_oneway(x,y,z)"
   ]
  },
  {
   "cell_type": "code",
   "execution_count": 114,
   "id": "ca004db1",
   "metadata": {},
   "outputs": [
    {
     "data": {
      "text/plain": [
       "Text(0.5, 1.0, 'Anova')"
      ]
     },
     "execution_count": 114,
     "metadata": {},
     "output_type": "execute_result"
    },
    {
     "data": {
      "image/png": "[encoded data removed]",
      "text/plain": [
       "<Figure size 432x288 with 1 Axes>"
      ]
     },
     "metadata": {
      "needs_background": "light"
     },
     "output_type": "display_data"
    }
   ],
   "source": [
    "import seaborn as sns\n",
    "import matplotlib.pyplot as plt\n",
    "sns.kdeplot(x)\n",
    "sns.kdeplot(y)\n",
    "sns.kdeplot(z)\n",
    "plt.title(\"Anova1\")\n"
   ]
  },
  {
   "cell_type": "markdown",
   "id": "d5c2e6d0",
   "metadata": {},
   "source": [
    "En aquest cas, només comptem amb les dades introduïdes, perdent per l'estudi els anys en que no van participar o no tenim dades."
   ]
  },
  {
   "cell_type": "markdown",
   "id": "ce835f3b",
   "metadata": {},
   "source": [
    "Opció 2:\n"
   ]
  },
  {
   "cell_type": "code",
   "execution_count": 83,
   "id": "a47f0980",
   "metadata": {},
   "outputs": [
    {
     "data": {
      "text/html": [
       "<div>\n",
       "<style scoped>\n",
       "    .dataframe tbody tr th:only-of-type {\n",
       "        vertical-align: middle;\n",
       "    }\n",
       "\n",
       "    .dataframe tbody tr th {\n",
       "        vertical-align: top;\n",
       "    }\n",
       "\n",
       "    .dataframe thead th {\n",
       "        text-align: right;\n",
       "    }\n",
       "</style>\n",
       "<table border=\"1\" class=\"dataframe\">\n",
       "  <thead>\n",
       "    <tr style=\"text-align: right;\">\n",
       "      <th></th>\n",
       "      <th>year</th>\n",
       "      <th>name</th>\n",
       "      <th>Pts</th>\n",
       "    </tr>\n",
       "  </thead>\n",
       "  <tbody>\n",
       "    <tr>\n",
       "      <th>125</th>\n",
       "      <td>1924</td>\n",
       "      <td>Boston Bruins</td>\n",
       "      <td>12</td>\n",
       "    </tr>\n",
       "    <tr>\n",
       "      <th>137</th>\n",
       "      <td>1925</td>\n",
       "      <td>Boston Bruins</td>\n",
       "      <td>38</td>\n",
       "    </tr>\n",
       "    <tr>\n",
       "      <th>150</th>\n",
       "      <td>1926</td>\n",
       "      <td>Boston Bruins</td>\n",
       "      <td>45</td>\n",
       "    </tr>\n",
       "    <tr>\n",
       "      <th>151</th>\n",
       "      <td>1926</td>\n",
       "      <td>Chicago Blackhawks</td>\n",
       "      <td>41</td>\n",
       "    </tr>\n",
       "    <tr>\n",
       "      <th>156</th>\n",
       "      <td>1926</td>\n",
       "      <td>New York Rangers</td>\n",
       "      <td>56</td>\n",
       "    </tr>\n",
       "  </tbody>\n",
       "</table>\n",
       "</div>"
      ],
      "text/plain": [
       "     year                name  Pts\n",
       "125  1924       Boston Bruins   12\n",
       "137  1925       Boston Bruins   38\n",
       "150  1926       Boston Bruins   45\n",
       "151  1926  Chicago Blackhawks   41\n",
       "156  1926    New York Rangers   56"
      ]
     },
     "execution_count": 83,
     "metadata": {},
     "output_type": "execute_result"
    }
   ],
   "source": [
    "df3 = pd.read_csv('dades/Teams.csv', usecols=['year','name','Pts'] )\n",
    "df3 = pd.DataFrame(df3[['year','name','Pts']])\n",
    "df3.loc[(df3.name == 'Chicago Black Hawks'), 'name'] = 'Chicago Blackhawks'\n",
    "\n",
    "df3 = df3.loc[(df3.name == 'Boston Bruins') | (df3.name == 'Chicago Blackhawks') | (df3.name == 'New York Rangers')]\n",
    "df3.head()"
   ]
  },
  {
   "cell_type": "code",
   "execution_count": 84,
   "id": "698d1486",
   "metadata": {},
   "outputs": [
    {
     "data": {
      "text/html": [
       "<div>\n",
       "<style scoped>\n",
       "    .dataframe tbody tr th:only-of-type {\n",
       "        vertical-align: middle;\n",
       "    }\n",
       "\n",
       "    .dataframe tbody tr th {\n",
       "        vertical-align: top;\n",
       "    }\n",
       "\n",
       "    .dataframe thead th {\n",
       "        text-align: right;\n",
       "    }\n",
       "</style>\n",
       "<table border=\"1\" class=\"dataframe\">\n",
       "  <thead>\n",
       "    <tr style=\"text-align: right;\">\n",
       "      <th>name</th>\n",
       "      <th>Boston Bruins</th>\n",
       "      <th>Chicago Blackhawks</th>\n",
       "      <th>New York Rangers</th>\n",
       "    </tr>\n",
       "    <tr>\n",
       "      <th>year</th>\n",
       "      <th></th>\n",
       "      <th></th>\n",
       "      <th></th>\n",
       "    </tr>\n",
       "  </thead>\n",
       "  <tbody>\n",
       "    <tr>\n",
       "      <th>1924</th>\n",
       "      <td>12</td>\n",
       "      <td>0</td>\n",
       "      <td>0</td>\n",
       "    </tr>\n",
       "    <tr>\n",
       "      <th>1925</th>\n",
       "      <td>38</td>\n",
       "      <td>0</td>\n",
       "      <td>0</td>\n",
       "    </tr>\n",
       "    <tr>\n",
       "      <th>1926</th>\n",
       "      <td>45</td>\n",
       "      <td>41</td>\n",
       "      <td>56</td>\n",
       "    </tr>\n",
       "  </tbody>\n",
       "</table>\n",
       "</div>"
      ],
      "text/plain": [
       "name  Boston Bruins  Chicago Blackhawks  New York Rangers\n",
       "year                                                     \n",
       "1924             12                   0                 0\n",
       "1925             38                   0                 0\n",
       "1926             45                  41                56"
      ]
     },
     "execution_count": 84,
     "metadata": {},
     "output_type": "execute_result"
    }
   ],
   "source": [
    "df3 = df3.pivot_table(index='year', columns='name', values='Pts',fill_value=0 )\n",
    "\n",
    "df3.head(3)"
   ]
  },
  {
   "cell_type": "code",
   "execution_count": 118,
   "id": "0ec10e19",
   "metadata": {},
   "outputs": [
    {
     "name": "stdout",
     "output_type": "stream",
     "text": [
      "f_value:  3.499 p-value:  0.032\n"
     ]
    }
   ],
   "source": [
    "import scipy.stats as stats\n",
    "\n",
    "fvalue, pvalue = stats.f_oneway(df3['Boston Bruins'], df3['Chicago Blackhawks'], df3['New York Rangers'])\n",
    "print('f_value: ', fvalue.round(3),'p-value: ', pvalue.round(3))\n",
    "\n"
   ]
  },
  {
   "cell_type": "code",
   "execution_count": 116,
   "id": "611eac16",
   "metadata": {},
   "outputs": [
    {
     "data": {
      "text/plain": [
       "Text(0.5, 1.0, 'Anova2')"
      ]
     },
     "execution_count": 116,
     "metadata": {},
     "output_type": "execute_result"
    },
    {
     "data": {
      "image/png": "[encoded data removed]",
      "text/plain": [
       "<Figure size 432x288 with 1 Axes>"
      ]
     },
     "metadata": {
      "needs_background": "light"
     },
     "output_type": "display_data"
    }
   ],
   "source": [
    "import seaborn as sns\n",
    "import matplotlib.pyplot as plt\n",
    "\n",
    "sns.kdeplot(data = df3)\n",
    "plt.title(\"Anova2\")"
   ]
  },
  {
   "cell_type": "markdown",
   "id": "46f6c56a",
   "metadata": {},
   "source": [
    "Malgrat les diferencies entre les tres equips, no veiem una diferència significativa entre les mitjanes aritmètiques."
   ]
  },
  {
   "cell_type": "code",
   "execution_count": null,
   "id": "9b3357e3",
   "metadata": {},
   "outputs": [],
   "source": []
  }
 ],
 "metadata": {
  "kernelspec": {
   "display_name": "Python 3",
   "language": "python",
   "name": "python3"
  },
  "language_info": {
   "codemirror_mode": {
    "name": "ipython",
    "version": 3
   },
   "file_extension": ".py",
   "mimetype": "text/x-python",
   "name": "python",
   "nbconvert_exporter": "python",
   "pygments_lexer": "ipython3",
   "version": "3.8.8"
  },
  "toc": {
   "base_numbering": 1,
   "nav_menu": {},
   "number_sections": true,
   "sideBar": true,
   "skip_h1_title": false,
   "title_cell": "Table of Contents",
   "title_sidebar": "Contents",
   "toc_cell": false,
   "toc_position": {},
   "toc_section_display": true,
   "toc_window_display": false
  }
 },
 "nbformat": 4,
 "nbformat_minor": 5
}
