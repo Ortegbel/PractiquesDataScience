{
 "cells": [
  {
   "cell_type": "markdown",
   "id": "198ea6e7",
   "metadata": {},
   "source": [
    "<font size=\"6\">**S12_T01:Aprenentatge Supervisat - Regressions**</font>"
   ]
  },
  {
   "cell_type": "markdown",
   "id": "5ac52150",
   "metadata": {
    "toc": true
   },
   "source": [
    "<h1>Table of Contents<span class=\"tocSkip\"></span></h1>\n",
    "<div class=\"toc\"><ul class=\"toc-item\"><li><span><a href=\"#Enunciats\" data-toc-modified-id=\"Enunciats-1\"><span class=\"toc-item-num\">1&nbsp;&nbsp;</span>Enunciats</a></span></li><li><span><a href=\"#Dades\" data-toc-modified-id=\"Dades-2\"><span class=\"toc-item-num\">2&nbsp;&nbsp;</span>Dades</a></span><ul class=\"toc-item\"><li><span><a href=\"#Dataset-importació\" data-toc-modified-id=\"Dataset-importació-2.1\"><span class=\"toc-item-num\">2.1&nbsp;&nbsp;</span>Dataset importació</a></span></li><li><span><a href=\"#Transformació\" data-toc-modified-id=\"Transformació-2.2\"><span class=\"toc-item-num\">2.2&nbsp;&nbsp;</span>Transformació</a></span></li><li><span><a href=\"#convertim-a-np-arrays\" data-toc-modified-id=\"convertim-a-np-arrays-2.3\"><span class=\"toc-item-num\">2.3&nbsp;&nbsp;</span>convertim a np arrays</a></span></li><li><span><a href=\"#Dividim-dades-train_test_split\" data-toc-modified-id=\"Dividim-dades-train_test_split-2.4\"><span class=\"toc-item-num\">2.4&nbsp;&nbsp;</span>Dividim dades <code>train_test_split</code></a></span></li><li><span><a href=\"#Baseline\" data-toc-modified-id=\"Baseline-2.5\"><span class=\"toc-item-num\">2.5&nbsp;&nbsp;</span>Baseline</a></span></li></ul></li><li><span><a href=\"#Models-de-Regressió\" data-toc-modified-id=\"Models-de-Regressió-3\"><span class=\"toc-item-num\">3&nbsp;&nbsp;</span>Models de Regressió</a></span><ul class=\"toc-item\"><li><span><a href=\"#DecissionTreeRegressor\" data-toc-modified-id=\"DecissionTreeRegressor-3.1\"><span class=\"toc-item-num\">3.1&nbsp;&nbsp;</span>DecissionTreeRegressor</a></span><ul class=\"toc-item\"><li><span><a href=\"#validacio-interna\" data-toc-modified-id=\"validacio-interna-3.1.1\"><span class=\"toc-item-num\">3.1.1&nbsp;&nbsp;</span>validacio interna</a></span></li></ul></li><li><span><a href=\"#Random-Forest-Regressor\" data-toc-modified-id=\"Random-Forest-Regressor-3.2\"><span class=\"toc-item-num\">3.2&nbsp;&nbsp;</span>Random Forest Regressor</a></span><ul class=\"toc-item\"><li><span><a href=\"#Definim-i-entrenem-el-model\" data-toc-modified-id=\"Definim-i-entrenem-el-model-3.2.1\"><span class=\"toc-item-num\">3.2.1&nbsp;&nbsp;</span>Definim i entrenem el model</a></span></li><li><span><a href=\"#Fem-i-Avaluem-Prediccions\" data-toc-modified-id=\"Fem-i-Avaluem-Prediccions-3.2.2\"><span class=\"toc-item-num\">3.2.2&nbsp;&nbsp;</span>Fem i Avaluem Prediccions</a></span></li><li><span><a href=\"#Validacio-interna\" data-toc-modified-id=\"Validacio-interna-3.2.3\"><span class=\"toc-item-num\">3.2.3&nbsp;&nbsp;</span>Validacio interna</a></span></li><li><span><a href=\"#Millora-del-model-:\" data-toc-modified-id=\"Millora-del-model-:-3.2.4\"><span class=\"toc-item-num\">3.2.4&nbsp;&nbsp;</span>Millora del model :</a></span><ul class=\"toc-item\"><li><span><a href=\"#Limitant--el-número-d'arbres-i-la-profunditat-màxima.\" data-toc-modified-id=\"Limitant--el-número-d'arbres-i-la-profunditat-màxima.-3.2.4.1\"><span class=\"toc-item-num\">3.2.4.1&nbsp;&nbsp;</span>Limitant  el número d'arbres i la profunditat màxima.</a></span></li><li><span><a href=\"#Trobant-les-variables-Importants\" data-toc-modified-id=\"Trobant-les-variables-Importants-3.2.4.2\"><span class=\"toc-item-num\">3.2.4.2&nbsp;&nbsp;</span>Trobant les variables Importants</a></span></li></ul></li><li><span><a href=\"#Validació-interna\" data-toc-modified-id=\"Validació-interna-3.2.5\"><span class=\"toc-item-num\">3.2.5&nbsp;&nbsp;</span>Validació interna</a></span></li></ul></li><li><span><a href=\"#LASSO\" data-toc-modified-id=\"LASSO-3.3\"><span class=\"toc-item-num\">3.3&nbsp;&nbsp;</span>LASSO</a></span><ul class=\"toc-item\"><li><span><a href=\"#Validació-interna\" data-toc-modified-id=\"Validació-interna-3.3.1\"><span class=\"toc-item-num\">3.3.1&nbsp;&nbsp;</span>Validació interna</a></span></li></ul></li></ul></li><li><span><a href=\"#Conclusions\" data-toc-modified-id=\"Conclusions-4\"><span class=\"toc-item-num\">4&nbsp;&nbsp;</span>Conclusions</a></span></li><li><span><a href=\"#Bonus-:\" data-toc-modified-id=\"Bonus-:-5\"><span class=\"toc-item-num\">5&nbsp;&nbsp;</span>Bonus :</a></span><ul class=\"toc-item\"><li><span><a href=\"#linear-regression-with-stats\" data-toc-modified-id=\"linear-regression-with-stats-5.1\"><span class=\"toc-item-num\">5.1&nbsp;&nbsp;</span>linear regression with stats</a></span></li></ul></li></ul></div>"
   ]
  },
  {
   "cell_type": "markdown",
   "id": "5277e529",
   "metadata": {},
   "source": [
    "# Enunciats\n",
    "**Nivell 1**\n",
    "\n",
    "- Exercici 1 Crea almenys tres models de regressió diferents per intentar predir el millor possible l’endarreriment dels vols (ArrDelay) de DelayedFlights.csv.\n",
    "\n",
    "- Exercici 2 Compara’ls en base al MSE i al R2 .\n",
    "\n",
    "- Exercici 3 Entrena’ls utilitzant els diferents paràmetres que admeten.\n",
    "\n",
    "- Exercici 4 Compara el seu rendiment utilitzant l’aproximació traint/test o utilitzant totes les dades (validació interna)\n",
    "\n",
    "**Nivell 2**\n",
    "\n",
    "- Exercici 5 Realitza algun procés d’enginyeria de variables per millorar-ne la predicció  \n",
    "\n",
    "**Nivell 3**\n",
    "\n",
    "- Exercici 6 No utilitzis la variable `DepDelay` a l’hora de fer prediccions"
   ]
  },
  {
   "cell_type": "markdown",
   "id": "d6dd3a64",
   "metadata": {},
   "source": [
    "# Dades  \n",
    "\n",
    "\n",
    "## Dataset importació"
   ]
  },
  {
   "cell_type": "code",
   "execution_count": 1,
   "id": "f2046d59",
   "metadata": {
    "ExecuteTime": {
     "end_time": "2021-07-08T05:21:58.967644Z",
     "start_time": "2021-07-08T05:21:41.217016Z"
    },
    "run_control": {
     "marked": false
    }
   },
   "outputs": [
    {
     "data": {
      "text/html": [
       "<div>\n",
       "<style scoped>\n",
       "    .dataframe tbody tr th:only-of-type {\n",
       "        vertical-align: middle;\n",
       "    }\n",
       "\n",
       "    .dataframe tbody tr th {\n",
       "        vertical-align: top;\n",
       "    }\n",
       "\n",
       "    .dataframe thead th {\n",
       "        text-align: right;\n",
       "    }\n",
       "</style>\n",
       "<table border=\"1\" class=\"dataframe\">\n",
       "  <thead>\n",
       "    <tr style=\"text-align: right;\">\n",
       "      <th></th>\n",
       "      <th>Unnamed: 0</th>\n",
       "      <th>Unnamed: 0.1</th>\n",
       "      <th>Year</th>\n",
       "      <th>Month</th>\n",
       "      <th>DayofMonth</th>\n",
       "      <th>DayOfWeek</th>\n",
       "      <th>DepTime</th>\n",
       "      <th>CRSDepTime</th>\n",
       "      <th>ArrTime</th>\n",
       "      <th>CRSArrTime</th>\n",
       "      <th>...</th>\n",
       "      <th>TaxiIn</th>\n",
       "      <th>TaxiOut</th>\n",
       "      <th>Cancelled</th>\n",
       "      <th>CancellationCode</th>\n",
       "      <th>Diverted</th>\n",
       "      <th>CarrierDelay</th>\n",
       "      <th>WeatherDelay</th>\n",
       "      <th>NASDelay</th>\n",
       "      <th>SecurityDelay</th>\n",
       "      <th>LateAircraftDelay</th>\n",
       "    </tr>\n",
       "  </thead>\n",
       "  <tbody>\n",
       "    <tr>\n",
       "      <th>0</th>\n",
       "      <td>0</td>\n",
       "      <td>0</td>\n",
       "      <td>2008</td>\n",
       "      <td>1</td>\n",
       "      <td>3</td>\n",
       "      <td>4</td>\n",
       "      <td>2003.0</td>\n",
       "      <td>1955</td>\n",
       "      <td>2211.0</td>\n",
       "      <td>2225</td>\n",
       "      <td>...</td>\n",
       "      <td>4.0</td>\n",
       "      <td>8.0</td>\n",
       "      <td>0</td>\n",
       "      <td>N</td>\n",
       "      <td>0</td>\n",
       "      <td>NaN</td>\n",
       "      <td>NaN</td>\n",
       "      <td>NaN</td>\n",
       "      <td>NaN</td>\n",
       "      <td>NaN</td>\n",
       "    </tr>\n",
       "    <tr>\n",
       "      <th>1</th>\n",
       "      <td>1</td>\n",
       "      <td>1</td>\n",
       "      <td>2008</td>\n",
       "      <td>1</td>\n",
       "      <td>3</td>\n",
       "      <td>4</td>\n",
       "      <td>754.0</td>\n",
       "      <td>735</td>\n",
       "      <td>1002.0</td>\n",
       "      <td>1000</td>\n",
       "      <td>...</td>\n",
       "      <td>5.0</td>\n",
       "      <td>10.0</td>\n",
       "      <td>0</td>\n",
       "      <td>N</td>\n",
       "      <td>0</td>\n",
       "      <td>NaN</td>\n",
       "      <td>NaN</td>\n",
       "      <td>NaN</td>\n",
       "      <td>NaN</td>\n",
       "      <td>NaN</td>\n",
       "    </tr>\n",
       "    <tr>\n",
       "      <th>2</th>\n",
       "      <td>2</td>\n",
       "      <td>2</td>\n",
       "      <td>2008</td>\n",
       "      <td>1</td>\n",
       "      <td>3</td>\n",
       "      <td>4</td>\n",
       "      <td>628.0</td>\n",
       "      <td>620</td>\n",
       "      <td>804.0</td>\n",
       "      <td>750</td>\n",
       "      <td>...</td>\n",
       "      <td>3.0</td>\n",
       "      <td>17.0</td>\n",
       "      <td>0</td>\n",
       "      <td>N</td>\n",
       "      <td>0</td>\n",
       "      <td>NaN</td>\n",
       "      <td>NaN</td>\n",
       "      <td>NaN</td>\n",
       "      <td>NaN</td>\n",
       "      <td>NaN</td>\n",
       "    </tr>\n",
       "    <tr>\n",
       "      <th>3</th>\n",
       "      <td>3</td>\n",
       "      <td>4</td>\n",
       "      <td>2008</td>\n",
       "      <td>1</td>\n",
       "      <td>3</td>\n",
       "      <td>4</td>\n",
       "      <td>1829.0</td>\n",
       "      <td>1755</td>\n",
       "      <td>1959.0</td>\n",
       "      <td>1925</td>\n",
       "      <td>...</td>\n",
       "      <td>3.0</td>\n",
       "      <td>10.0</td>\n",
       "      <td>0</td>\n",
       "      <td>N</td>\n",
       "      <td>0</td>\n",
       "      <td>2.0</td>\n",
       "      <td>0.0</td>\n",
       "      <td>0.0</td>\n",
       "      <td>0.0</td>\n",
       "      <td>32.0</td>\n",
       "    </tr>\n",
       "    <tr>\n",
       "      <th>4</th>\n",
       "      <td>4</td>\n",
       "      <td>5</td>\n",
       "      <td>2008</td>\n",
       "      <td>1</td>\n",
       "      <td>3</td>\n",
       "      <td>4</td>\n",
       "      <td>1940.0</td>\n",
       "      <td>1915</td>\n",
       "      <td>2121.0</td>\n",
       "      <td>2110</td>\n",
       "      <td>...</td>\n",
       "      <td>4.0</td>\n",
       "      <td>10.0</td>\n",
       "      <td>0</td>\n",
       "      <td>N</td>\n",
       "      <td>0</td>\n",
       "      <td>NaN</td>\n",
       "      <td>NaN</td>\n",
       "      <td>NaN</td>\n",
       "      <td>NaN</td>\n",
       "      <td>NaN</td>\n",
       "    </tr>\n",
       "  </tbody>\n",
       "</table>\n",
       "<p>5 rows × 31 columns</p>\n",
       "</div>"
      ],
      "text/plain": [
       "   Unnamed: 0  Unnamed: 0.1  Year  Month  DayofMonth  DayOfWeek  DepTime  \\\n",
       "0           0             0  2008      1           3          4   2003.0   \n",
       "1           1             1  2008      1           3          4    754.0   \n",
       "2           2             2  2008      1           3          4    628.0   \n",
       "3           3             4  2008      1           3          4   1829.0   \n",
       "4           4             5  2008      1           3          4   1940.0   \n",
       "\n",
       "   CRSDepTime  ArrTime  CRSArrTime  ... TaxiIn  TaxiOut Cancelled  \\\n",
       "0        1955   2211.0        2225  ...    4.0      8.0         0   \n",
       "1         735   1002.0        1000  ...    5.0     10.0         0   \n",
       "2         620    804.0         750  ...    3.0     17.0         0   \n",
       "3        1755   1959.0        1925  ...    3.0     10.0         0   \n",
       "4        1915   2121.0        2110  ...    4.0     10.0         0   \n",
       "\n",
       "   CancellationCode  Diverted  CarrierDelay  WeatherDelay  NASDelay  \\\n",
       "0                 N         0           NaN           NaN       NaN   \n",
       "1                 N         0           NaN           NaN       NaN   \n",
       "2                 N         0           NaN           NaN       NaN   \n",
       "3                 N         0           2.0           0.0       0.0   \n",
       "4                 N         0           NaN           NaN       NaN   \n",
       "\n",
       "  SecurityDelay LateAircraftDelay  \n",
       "0           NaN               NaN  \n",
       "1           NaN               NaN  \n",
       "2           NaN               NaN  \n",
       "3           0.0              32.0  \n",
       "4           NaN               NaN  \n",
       "\n",
       "[5 rows x 31 columns]"
      ]
     },
     "execution_count": 1,
     "metadata": {},
     "output_type": "execute_result"
    }
   ],
   "source": [
    "import pandas as pd \n",
    "import numpy as np\n",
    "import seaborn as sns\n",
    "import matplotlib.pyplot as plt\n",
    "\n",
    "url='https://github.com/Ortegbel/PractiquesDataScience/blob/master/Exercici5/DelayedFlightsComp.csv.gz?raw=true'\n",
    "df = pd.read_csv(url,  compression='gzip')\n",
    "\n",
    "\n",
    "df.head()"
   ]
  },
  {
   "cell_type": "code",
   "execution_count": 2,
   "id": "d1bf7f73",
   "metadata": {
    "ExecuteTime": {
     "end_time": "2021-07-08T05:21:59.030559Z",
     "start_time": "2021-07-08T05:21:58.967644Z"
    },
    "run_control": {
     "marked": false
    }
   },
   "outputs": [
    {
     "name": "stdout",
     "output_type": "stream",
     "text": [
      "<class 'pandas.core.frame.DataFrame'>\n",
      "RangeIndex: 1936758 entries, 0 to 1936757\n",
      "Data columns (total 31 columns):\n",
      " #   Column             Dtype  \n",
      "---  ------             -----  \n",
      " 0   Unnamed: 0         int64  \n",
      " 1   Unnamed: 0.1       int64  \n",
      " 2   Year               int64  \n",
      " 3   Month              int64  \n",
      " 4   DayofMonth         int64  \n",
      " 5   DayOfWeek          int64  \n",
      " 6   DepTime            float64\n",
      " 7   CRSDepTime         int64  \n",
      " 8   ArrTime            float64\n",
      " 9   CRSArrTime         int64  \n",
      " 10  UniqueCarrier      object \n",
      " 11  FlightNum          int64  \n",
      " 12  TailNum            object \n",
      " 13  ActualElapsedTime  float64\n",
      " 14  CRSElapsedTime     float64\n",
      " 15  AirTime            float64\n",
      " 16  ArrDelay           float64\n",
      " 17  DepDelay           float64\n",
      " 18  Origin             object \n",
      " 19  Dest               object \n",
      " 20  Distance           int64  \n",
      " 21  TaxiIn             float64\n",
      " 22  TaxiOut            float64\n",
      " 23  Cancelled          int64  \n",
      " 24  CancellationCode   object \n",
      " 25  Diverted           int64  \n",
      " 26  CarrierDelay       float64\n",
      " 27  WeatherDelay       float64\n",
      " 28  NASDelay           float64\n",
      " 29  SecurityDelay      float64\n",
      " 30  LateAircraftDelay  float64\n",
      "dtypes: float64(14), int64(12), object(5)\n",
      "memory usage: 458.1+ MB\n"
     ]
    }
   ],
   "source": [
    "df.info()"
   ]
  },
  {
   "cell_type": "markdown",
   "id": "f2e22b09",
   "metadata": {},
   "source": [
    "Reemplaçaré els valors nuls amb 0"
   ]
  },
  {
   "cell_type": "code",
   "execution_count": 3,
   "id": "0b95ec16",
   "metadata": {
    "ExecuteTime": {
     "end_time": "2021-07-08T05:21:59.809507Z",
     "start_time": "2021-07-08T05:21:59.038549Z"
    },
    "run_control": {
     "marked": false
    }
   },
   "outputs": [],
   "source": [
    "df = df.fillna(0)"
   ]
  },
  {
   "cell_type": "code",
   "execution_count": 4,
   "id": "010a2b66",
   "metadata": {
    "ExecuteTime": {
     "end_time": "2021-07-08T05:21:59.825500Z",
     "start_time": "2021-07-08T05:21:59.812507Z"
    },
    "run_control": {
     "marked": false
    }
   },
   "outputs": [
    {
     "data": {
      "text/plain": [
       "(1936758, 31)"
      ]
     },
     "execution_count": 4,
     "metadata": {},
     "output_type": "execute_result"
    }
   ],
   "source": [
    "df.shape"
   ]
  },
  {
   "cell_type": "markdown",
   "id": "99d8344c",
   "metadata": {},
   "source": [
    "## Transformació \n",
    "ara crearé columnes noves i factoritzant les variables categoriques"
   ]
  },
  {
   "cell_type": "code",
   "execution_count": 5,
   "id": "009e26ef",
   "metadata": {
    "ExecuteTime": {
     "end_time": "2021-07-08T05:21:59.905451Z",
     "start_time": "2021-07-08T05:21:59.829497Z"
    },
    "run_control": {
     "marked": false
    }
   },
   "outputs": [],
   "source": [
    "df['ElapsedTimeD'] = df.ActualElapsedTime - df.CRSElapsedTime"
   ]
  },
  {
   "cell_type": "code",
   "execution_count": 6,
   "id": "e2b839aa",
   "metadata": {
    "ExecuteTime": {
     "end_time": "2021-07-08T05:22:00.366937Z",
     "start_time": "2021-07-08T05:21:59.910452Z"
    },
    "run_control": {
     "marked": false
    }
   },
   "outputs": [],
   "source": [
    "df['CarrierFzd'] = pd.factorize(df['UniqueCarrier'])[0]\n",
    "df['OriginFzd'] = pd.factorize(df['Origin'])[0]\n",
    "df['DestFzd'] = pd.factorize(df['Dest'])[0]"
   ]
  },
  {
   "cell_type": "markdown",
   "id": "12323eab",
   "metadata": {},
   "source": [
    "Creo un nou dataFrame amb les columnes que m'interessen"
   ]
  },
  {
   "cell_type": "code",
   "execution_count": 7,
   "id": "c778d629",
   "metadata": {
    "ExecuteTime": {
     "end_time": "2021-07-08T05:22:01.311111Z",
     "start_time": "2021-07-08T05:22:00.368939Z"
    },
    "run_control": {
     "marked": false
    }
   },
   "outputs": [],
   "source": [
    "delays =df[['Month','CarrierFzd','ElapsedTimeD','OriginFzd', 'DestFzd','Distance','Cancelled','Diverted','CarrierDelay',\n",
    "           'WeatherDelay', 'NASDelay', 'SecurityDelay','LateAircraftDelay']].copy()"
   ]
  },
  {
   "cell_type": "code",
   "execution_count": 8,
   "id": "747f7804",
   "metadata": {
    "ExecuteTime": {
     "end_time": "2021-07-08T05:22:01.341833Z",
     "start_time": "2021-07-08T05:22:01.311111Z"
    },
    "run_control": {
     "marked": false
    }
   },
   "outputs": [
    {
     "name": "stdout",
     "output_type": "stream",
     "text": [
      "<class 'pandas.core.frame.DataFrame'>\n",
      "RangeIndex: 1936758 entries, 0 to 1936757\n",
      "Data columns (total 13 columns):\n",
      " #   Column             Dtype  \n",
      "---  ------             -----  \n",
      " 0   Month              int64  \n",
      " 1   CarrierFzd         int64  \n",
      " 2   ElapsedTimeD       float64\n",
      " 3   OriginFzd          int64  \n",
      " 4   DestFzd            int64  \n",
      " 5   Distance           int64  \n",
      " 6   Cancelled          int64  \n",
      " 7   Diverted           int64  \n",
      " 8   CarrierDelay       float64\n",
      " 9   WeatherDelay       float64\n",
      " 10  NASDelay           float64\n",
      " 11  SecurityDelay      float64\n",
      " 12  LateAircraftDelay  float64\n",
      "dtypes: float64(6), int64(7)\n",
      "memory usage: 192.1 MB\n"
     ]
    }
   ],
   "source": [
    "delays.info()"
   ]
  },
  {
   "cell_type": "code",
   "execution_count": 9,
   "id": "8b15520f",
   "metadata": {
    "ExecuteTime": {
     "end_time": "2021-07-08T05:22:03.875242Z",
     "start_time": "2021-07-08T05:22:01.346834Z"
    },
    "run_control": {
     "marked": false
    }
   },
   "outputs": [
    {
     "data": {
      "image/png": "[encoded data removed]",
      "text/plain": [
       "<Figure size 432x288 with 16 Axes>"
      ]
     },
     "metadata": {
      "needs_background": "light"
     },
     "output_type": "display_data"
    }
   ],
   "source": [
    "delays.hist()\n",
    "plt.show()"
   ]
  },
  {
   "cell_type": "markdown",
   "id": "d9eaf030",
   "metadata": {},
   "source": [
    "Ara vull veure quines variables estan més relacionades entre sí, per això generaré una Corr Matrix amb Seaborn"
   ]
  },
  {
   "cell_type": "code",
   "execution_count": 10,
   "id": "2d2456e5",
   "metadata": {
    "ExecuteTime": {
     "end_time": "2021-07-08T05:22:05.808259Z",
     "start_time": "2021-07-08T05:22:03.878239Z"
    },
    "run_control": {
     "marked": false
    }
   },
   "outputs": [
    {
     "data": {
      "text/plain": [
       "<AxesSubplot:>"
      ]
     },
     "execution_count": 10,
     "metadata": {},
     "output_type": "execute_result"
    },
    {
     "data": {
      "image/png": "[encoded data removed]",
      "text/plain": [
       "<Figure size 792x648 with 2 Axes>"
      ]
     },
     "metadata": {
      "needs_background": "light"
     },
     "output_type": "display_data"
    }
   ],
   "source": [
    "corr = delays.corr()\n",
    "\n",
    "# Generate a mask for the upper triangle\n",
    "mask = np.triu(np.ones_like(corr, dtype=bool))\n",
    "\n",
    "# Set up the matplotlib figure\n",
    "f, ax = plt.subplots(figsize=(11, 9))\n",
    "\n",
    "# Generate a custom diverging colormap\n",
    "cmap = sns.diverging_palette(230, 20, as_cmap=True)\n",
    "\n",
    "# Draw the heatmap with the mask and correct aspect ratio\n",
    "sns.heatmap(corr, mask=mask, cmap=cmap, vmax=.3, center=0,\n",
    "            square=True, linewidths=.5, cbar_kws={\"shrink\": .5})"
   ]
  },
  {
   "cell_type": "markdown",
   "id": "2b808e63",
   "metadata": {},
   "source": [
    "Veiem q les variables q tenen un major impacte en els endarreriments dels vols són Origen, Destí , Distància, companyia, Elapsed Time D , una variable que hem creat abans i que correspon a la diferencia entre al durada estimada i la durada real del vol. \n",
    "Ara dividiré les dades , prenent com a variable objectiu Elapsed Time D i la resta com a variables de caracteristiques  \n"
   ]
  },
  {
   "cell_type": "markdown",
   "id": "1fb14493",
   "metadata": {},
   "source": [
    "## convertim a np arrays"
   ]
  },
  {
   "cell_type": "code",
   "execution_count": 48,
   "id": "30ad397c",
   "metadata": {
    "ExecuteTime": {
     "end_time": "2021-07-08T08:27:14.453483Z",
     "start_time": "2021-07-08T08:27:13.543729Z"
    },
    "run_control": {
     "marked": true
    }
   },
   "outputs": [],
   "source": [
    "# Use numpy to convert to arrays\n",
    "import numpy as np\n",
    "\n",
    "# Labels are the values we want to predict\n",
    "# target / y\n",
    "y = np.array(delays['ElapsedTimeD'])\n",
    "\n",
    "# Remove the labels from the features\n",
    "# axis 1 refers to the columns\n",
    "X = delays.drop('ElapsedTimeD', axis = 1)\n",
    "\n",
    "# Saving feature names for later use\n",
    "feature_list = list( X.columns)\n",
    "\n",
    "# Convert to numpy array\n",
    "X = np.array(X)\n"
   ]
  },
  {
   "cell_type": "code",
   "execution_count": 49,
   "id": "9789fc0e",
   "metadata": {
    "ExecuteTime": {
     "end_time": "2021-07-08T08:27:15.780517Z",
     "start_time": "2021-07-08T08:27:15.766523Z"
    },
    "run_control": {
     "marked": false
    }
   },
   "outputs": [
    {
     "name": "stdout",
     "output_type": "stream",
     "text": [
      "target shape: (1936758,)\n",
      "features shape:  (1936758, 12)\n"
     ]
    }
   ],
   "source": [
    "print('target shape:', y.shape)\n",
    "print('features shape: ', X.shape)"
   ]
  },
  {
   "cell_type": "markdown",
   "id": "0c93bf39",
   "metadata": {},
   "source": [
    "\n",
    "## Dividim dades `train_test_split`"
   ]
  },
  {
   "cell_type": "code",
   "execution_count": 50,
   "id": "c8a3744b",
   "metadata": {
    "ExecuteTime": {
     "end_time": "2021-07-08T08:27:21.316772Z",
     "start_time": "2021-07-08T08:27:20.680008Z"
    },
    "run_control": {
     "marked": false
    }
   },
   "outputs": [],
   "source": [
    "from sklearn.model_selection import train_test_split\n",
    "X_train, X_test, y_train, y_test = train_test_split(X, y, test_size=0.25, random_state=42)\n"
   ]
  },
  {
   "cell_type": "code",
   "execution_count": 51,
   "id": "f8c9f4a0",
   "metadata": {
    "ExecuteTime": {
     "end_time": "2021-07-08T08:27:21.501975Z",
     "start_time": "2021-07-08T08:27:21.493983Z"
    },
    "run_control": {
     "marked": false
    }
   },
   "outputs": [
    {
     "name": "stdout",
     "output_type": "stream",
     "text": [
      "X_test:  (484190, 12) X_train:  (1452568, 12)\n",
      "y_test:  (484190,) y_train:  (1452568,)\n"
     ]
    }
   ],
   "source": [
    "print('X_test: ', X_test.shape, 'X_train: ',X_train.shape)\n",
    "print('y_test: ', y_test.shape, 'y_train: ',y_train.shape) "
   ]
  },
  {
   "cell_type": "markdown",
   "id": "3ece699d",
   "metadata": {},
   "source": [
    "## Baseline"
   ]
  },
  {
   "cell_type": "code",
   "execution_count": 39,
   "id": "fcedac97",
   "metadata": {
    "ExecuteTime": {
     "end_time": "2021-07-08T08:04:19.496481Z",
     "start_time": "2021-07-08T08:04:19.448511Z"
    },
    "run_control": {
     "marked": false
    }
   },
   "outputs": [
    {
     "name": "stdout",
     "output_type": "stream",
     "text": [
      "Average baseline error:  11.88\n"
     ]
    }
   ],
   "source": [
    "# The baseline predictions are the historical averages\n",
    "baseline_preds = X_test[:, feature_list.index('NASDelay')]\n",
    "# Baseline errors, and display average baseline error\n",
    "baseline_errors = abs(baseline_preds - y_test)\n",
    "print('Average baseline error: ', round(np.mean(baseline_errors), 2))"
   ]
  },
  {
   "cell_type": "markdown",
   "id": "92a85503",
   "metadata": {},
   "source": [
    "El nostre objectiu és obtenir un error mig inferior a 11.88 si ens fixessim únicament a la NASDElay."
   ]
  },
  {
   "cell_type": "markdown",
   "id": "7585715d",
   "metadata": {},
   "source": [
    "# Models de Regressió"
   ]
  },
  {
   "cell_type": "code",
   "execution_count": 61,
   "id": "ee748439",
   "metadata": {
    "ExecuteTime": {
     "end_time": "2021-07-08T09:12:47.258163Z",
     "start_time": "2021-07-08T09:12:47.242172Z"
    },
    "run_control": {
     "marked": false
    }
   },
   "outputs": [],
   "source": [
    "from sklearn.metrics import r2_score\n",
    "from sklearn.metrics import mean_squared_error\n",
    "from sklearn.metrics import mean_absolute_error\n",
    "from sklearn.metrics import mean_absolute_percentage_error"
   ]
  },
  {
   "cell_type": "markdown",
   "id": "c7c0281e",
   "metadata": {},
   "source": [
    "## DecissionTreeRegressor"
   ]
  },
  {
   "cell_type": "code",
   "execution_count": 62,
   "id": "c711ea13",
   "metadata": {
    "ExecuteTime": {
     "end_time": "2021-07-08T09:13:07.416241Z",
     "start_time": "2021-07-08T09:12:54.393723Z"
    },
    "run_control": {
     "marked": false
    }
   },
   "outputs": [
    {
     "data": {
      "text/plain": [
       "DecisionTreeRegressor(random_state=42)"
      ]
     },
     "execution_count": 62,
     "metadata": {},
     "output_type": "execute_result"
    }
   ],
   "source": [
    "from sklearn.tree import DecisionTreeRegressor\n",
    "\n",
    "# Definir model: cal especificar el número random_state per aconseguir sempre el mateix resultat\n",
    "delays_modelDTR = DecisionTreeRegressor(random_state=42)\n",
    "\n",
    "# entrenem el model\n",
    "delays_modelDTR.fit(X_train, y_train)"
   ]
  },
  {
   "cell_type": "code",
   "execution_count": 63,
   "id": "64ec1b7b",
   "metadata": {
    "ExecuteTime": {
     "end_time": "2021-07-08T09:13:11.643644Z",
     "start_time": "2021-07-08T09:13:11.209388Z"
    },
    "run_control": {
     "marked": false
    }
   },
   "outputs": [
    {
     "name": "stdout",
     "output_type": "stream",
     "text": [
      "Resultats DecisionTree Regressor\n",
      "R2 score:  0.6027690419866392\n",
      "MSE:  172.8498567880393\n",
      "MAE:  6.740473594635995\n",
      "MAPE:  1168642422227341.0\n"
     ]
    }
   ],
   "source": [
    "\n",
    "#fem prediccions\n",
    "predicted_delays2 = delays_modelDTR.predict(X_test)\n",
    "\n",
    "#obtenim els resultats\n",
    "\n",
    "print('Resultats DecisionTree Regressor')\n",
    "print('R2 score: ', r2_score(y_test, predicted_delays2))\n",
    "print('MSE: ', mean_squared_error(y_test, predicted_delays2))\n",
    "print('MAE: ', mean_absolute_error(y_test, predicted_delays2))\n",
    "print('MAPE: ', mean_absolute_percentage_error(y_test, predicted_delays2))\n"
   ]
  },
  {
   "cell_type": "markdown",
   "id": "5e6fdc04",
   "metadata": {
    "ExecuteTime": {
     "end_time": "2021-07-08T05:22:28.009449Z",
     "start_time": "2021-07-08T05:22:27.966459Z"
    },
    "run_control": {
     "marked": false
    }
   },
   "source": [
    "### validacio interna\n"
   ]
  },
  {
   "cell_type": "code",
   "execution_count": 64,
   "id": "48e52a30",
   "metadata": {
    "ExecuteTime": {
     "end_time": "2021-07-08T09:13:40.040836Z",
     "start_time": "2021-07-08T09:13:38.761823Z"
    },
    "run_control": {
     "marked": false
    }
   },
   "outputs": [
    {
     "name": "stdout",
     "output_type": "stream",
     "text": [
      "Resultats del total de dades DecisionTree Regressor \n",
      "R2 score:  0.871197125483856\n",
      "MSE:  56.08450202086087\n",
      "MAE:  3.0931060721176533\n",
      "MAPE:  536723935737355.0\n"
     ]
    }
   ],
   "source": [
    "predicted_delaysVI = delays_modelDTR.predict(X)\n",
    "\n",
    "print('Resultats del total de dades DecisionTree Regressor ')\n",
    "print('R2 score: ', r2_score(y, predicted_delaysVI))\n",
    "print('MSE: ', mean_squared_error(y, predicted_delaysVI))\n",
    "print('MAE: ', mean_absolute_error(y, predicted_delaysVI))\n",
    "print('MAPE: ', mean_absolute_percentage_error(y, predicted_delaysVI))"
   ]
  },
  {
   "cell_type": "markdown",
   "id": "6c4c7733",
   "metadata": {},
   "source": [
    "## Random Forest Regressor  \n",
    "\n",
    "### Definim i entrenem el model  \n",
    "\n",
    "Per limitacions del meu equip a l'hora d'executar el programa, he hagut de treballar amb `n_estimators` molt baixos."
   ]
  },
  {
   "cell_type": "code",
   "execution_count": 65,
   "id": "67d6f2c6",
   "metadata": {
    "ExecuteTime": {
     "end_time": "2021-07-08T09:24:55.442684Z",
     "start_time": "2021-07-08T09:16:52.201267Z"
    },
    "run_control": {
     "marked": false
    }
   },
   "outputs": [
    {
     "data": {
      "text/plain": [
       "RandomForestRegressor(n_estimators=50, random_state=42)"
      ]
     },
     "execution_count": 65,
     "metadata": {},
     "output_type": "execute_result"
    }
   ],
   "source": [
    "from sklearn.ensemble import RandomForestRegressor\n",
    "#definim el model\n",
    "delays_modelRFR = RandomForestRegressor(n_estimators= 50, random_state=42) \n",
    "#l'entrenem\n",
    "delays_modelRFR.fit(X_train, y_train)"
   ]
  },
  {
   "cell_type": "markdown",
   "id": "4225e157",
   "metadata": {},
   "source": [
    "### Fem i Avaluem Prediccions"
   ]
  },
  {
   "cell_type": "code",
   "execution_count": 66,
   "id": "94b8a64b",
   "metadata": {
    "ExecuteTime": {
     "end_time": "2021-07-08T09:28:10.501319Z",
     "start_time": "2021-07-08T09:27:55.775159Z"
    },
    "run_control": {
     "marked": false
    }
   },
   "outputs": [
    {
     "name": "stdout",
     "output_type": "stream",
     "text": [
      "Resultats Random Forest Regressor \n",
      "R2 score:  0.7639788809994201\n",
      "MSE:  102.70150348360013\n",
      "MAE:  5.716529527450882\n",
      "MAPE:  5.716529527450882\n"
     ]
    }
   ],
   "source": [
    "#predim\n",
    "predicted_delaysRF = delays_modelRFR.predict(X_test)\n",
    "#obtenim resultats\n",
    "print('Resultats Random Forest Regressor ')\n",
    "print('R2 score: ', r2_score(y_test, predicted_delaysRF))\n",
    "print('MSE: ', mean_squared_error(y_test, predicted_delaysRF))\n",
    "print('MAE: ', mean_absolute_error(y_test, predicted_delaysRF))\n",
    "print('MAPE: ',mean_absolute_error(y_test, predicted_delaysRF))"
   ]
  },
  {
   "cell_type": "markdown",
   "id": "fca4098a",
   "metadata": {},
   "source": [
    "### Validacio interna\n"
   ]
  },
  {
   "cell_type": "code",
   "execution_count": 67,
   "id": "9ac56d15",
   "metadata": {
    "ExecuteTime": {
     "end_time": "2021-07-08T09:28:45.246579Z",
     "start_time": "2021-07-08T09:28:13.261015Z"
    }
   },
   "outputs": [
    {
     "name": "stdout",
     "output_type": "stream",
     "text": [
      "Resultats Random Forest Regressor del global de dades \n",
      "R2 score:  0.8916641160005916\n",
      "MSE:  47.1725815741404\n",
      "MAE:  3.833051510905114\n",
      "MAPE:  3.833051510905114\n"
     ]
    }
   ],
   "source": [
    "#predim\n",
    "predicted_delaysRFVI = delays_modelRFR.predict(X)\n",
    "#obtenim resultats\n",
    "print('Resultats Random Forest Regressor del global de dades ')\n",
    "print('R2 score: ', r2_score(y, predicted_delaysRFVI))\n",
    "print('MSE: ', mean_squared_error(y, predicted_delaysRFVI))\n",
    "print('MAE: ', mean_absolute_error(y, predicted_delaysRFVI))\n",
    "print('MAPE: ',mean_absolute_error(y, predicted_delaysRFVI))"
   ]
  },
  {
   "cell_type": "markdown",
   "id": "cbe5046e",
   "metadata": {},
   "source": [
    "### Millora del model :  \n",
    "\n",
    "#### Limitant  el número d'arbres i la profunditat màxima."
   ]
  },
  {
   "cell_type": "code",
   "execution_count": 68,
   "id": "e8a2e583",
   "metadata": {
    "ExecuteTime": {
     "end_time": "2021-07-08T09:29:08.964957Z",
     "start_time": "2021-07-08T09:28:48.078431Z"
    },
    "run_control": {
     "marked": false
    }
   },
   "outputs": [],
   "source": [
    "# Limit depth of tree to 3 levels\n",
    "delays_modelRFR_small = RandomForestRegressor(n_estimators=10, max_depth = 3)\n",
    "delays_modelRFR_small.fit(X_train, y_train)\n",
    "# Extract the small tree\n",
    "treeT_small = delays_modelRFR_small.estimators_[5]\n",
    "# Save the tree as a png image\n",
    "export_graphviz(treeT_small, out_file = 'dades/small_treeT.dot', feature_names = feature_list, rounded = True, precision = 1)\n",
    "(graph, ) = pydot.graph_from_dot_file('dades/small_treeT.dot')\n",
    "graph.write_png('dades/small_treeT.png');"
   ]
  },
  {
   "attachments": {
    "image.png": {
     "image/png": "[encoded data removed]"
    }
   },
   "cell_type": "markdown",
   "id": "85277740",
   "metadata": {},
   "source": [
    "![image.png](attachment:image.png)"
   ]
  },
  {
   "cell_type": "markdown",
   "id": "6b668fed",
   "metadata": {},
   "source": [
    "#### Trobant les variables Importants"
   ]
  },
  {
   "cell_type": "code",
   "execution_count": 69,
   "id": "e2e6055b",
   "metadata": {
    "ExecuteTime": {
     "end_time": "2021-07-08T09:29:24.448657Z",
     "start_time": "2021-07-08T09:29:23.935913Z"
    },
    "run_control": {
     "marked": false
    }
   },
   "outputs": [],
   "source": [
    "# Get numerical feature importances\n",
    "importances = list(delays_modelRFR.feature_importances_)\n",
    "# List of tuples with variable and importance\n",
    "feature_importances = [(feature, round(importance, 2)) for feature, importance in zip(feature_list, importances)]\n",
    "# Sort the feature importances by most important first\n",
    "feature_importances = sorted(feature_importances, key = lambda x: x[1], reverse = True)"
   ]
  },
  {
   "cell_type": "code",
   "execution_count": 70,
   "id": "f218c979",
   "metadata": {
    "ExecuteTime": {
     "end_time": "2021-07-08T09:29:25.688669Z",
     "start_time": "2021-07-08T09:29:25.677676Z"
    },
    "run_control": {
     "marked": false
    }
   },
   "outputs": [
    {
     "name": "stdout",
     "output_type": "stream",
     "text": [
      "Variable: NASDelay             Importance: 0.43\n",
      "Variable: Diverted             Importance: 0.22\n",
      "Variable: Distance             Importance: 0.12\n",
      "Variable: Month                Importance: 0.04\n",
      "Variable: CarrierDelay         Importance: 0.04\n",
      "Variable: LateAircraftDelay    Importance: 0.04\n",
      "Variable: CarrierFzd           Importance: 0.03\n",
      "Variable: OriginFzd            Importance: 0.03\n",
      "Variable: DestFzd              Importance: 0.03\n",
      "Variable: WeatherDelay         Importance: 0.02\n",
      "Variable: Cancelled            Importance: 0.01\n",
      "Variable: SecurityDelay        Importance: 0.0\n"
     ]
    }
   ],
   "source": [
    "# Print out the feature and importances \n",
    "[print('Variable: {:20} Importance: {}'.format(*pair)) for pair in feature_importances];"
   ]
  },
  {
   "cell_type": "markdown",
   "id": "9b4f7e10",
   "metadata": {
    "run_control": {
     "marked": false
    }
   },
   "source": [
    "tornaré a fer els càlculs només amb les variables més importants."
   ]
  },
  {
   "cell_type": "code",
   "execution_count": 71,
   "id": "365d8f7a",
   "metadata": {
    "ExecuteTime": {
     "end_time": "2021-07-08T09:29:41.058409Z",
     "start_time": "2021-07-08T09:29:34.319155Z"
    },
    "run_control": {
     "marked": false
    }
   },
   "outputs": [],
   "source": [
    "# Nou Random Forest només amb les tres variables més rellevants\n",
    "delays_modelRFR_VI = RandomForestRegressor(n_estimators=10, max_depth = 3)\n",
    "\n",
    "# Extract the two most important features\n",
    "important_indices = [feature_list.index('NASDelay'), feature_list.index('Diverted'), feature_list.index('Distance')]\n",
    "X_trainImp = X_train[:, important_indices]\n",
    "X_testImp = X_test[:, important_indices]\n",
    "\n",
    "# Train the random forest\n",
    "delays_modelRFR_VI.fit(X_trainImp, y_train)\n",
    "\n",
    "# Make predictions and determine the error\n",
    "prediccionsRFR_VI = delays_modelRFR_VI.predict(X_testImp)\n",
    "\n"
   ]
  },
  {
   "cell_type": "code",
   "execution_count": 72,
   "id": "ffca92a8",
   "metadata": {
    "ExecuteTime": {
     "end_time": "2021-07-08T09:29:44.177761Z",
     "start_time": "2021-07-08T09:29:44.093063Z"
    }
   },
   "outputs": [
    {
     "name": "stdout",
     "output_type": "stream",
     "text": [
      "Resultats Random Forest Regressor després de les \"millores del model\" \n",
      "R2 score:  0.5925770553103791\n",
      "MSE:  177.2847665095467\n",
      "MAE:  7.575714927996022\n",
      "MAPE:  1390175836896512.2\n"
     ]
    }
   ],
   "source": [
    "print('Resultats Random Forest Regressor després de les \"millores del model\" ')\n",
    "print('R2 score: ', r2_score(y_test, prediccionsRFR_VI))\n",
    "print('MSE: ', mean_squared_error(y_test, prediccionsRFR_VI))\n",
    "print('MAE: ', mean_absolute_error(y_test, prediccionsRFR_VI))\n",
    "print('MAPE: ', mean_absolute_percentage_error(y_test, prediccionsRFR_VI))"
   ]
  },
  {
   "cell_type": "markdown",
   "id": "4bd7e2d7",
   "metadata": {},
   "source": [
    "### Validació interna"
   ]
  },
  {
   "cell_type": "code",
   "execution_count": 73,
   "id": "3f7a2c5a",
   "metadata": {
    "ExecuteTime": {
     "end_time": "2021-07-08T09:30:06.585063Z",
     "start_time": "2021-07-08T09:30:00.060905Z"
    }
   },
   "outputs": [
    {
     "data": {
      "text/plain": [
       "RandomForestRegressor(max_depth=3, n_estimators=10)"
      ]
     },
     "execution_count": 73,
     "metadata": {},
     "output_type": "execute_result"
    }
   ],
   "source": [
    "\n",
    "important_indices = [feature_list.index('NASDelay'), feature_list.index('Diverted'), feature_list.index('Distance')]\n",
    "Xrf = X[:, important_indices]\n",
    "delays_modelRFR_VI.fit(X_trainImp, y_train)"
   ]
  },
  {
   "cell_type": "code",
   "execution_count": 74,
   "id": "284bc223",
   "metadata": {
    "ExecuteTime": {
     "end_time": "2021-07-08T09:30:07.332446Z",
     "start_time": "2021-07-08T09:30:06.590063Z"
    }
   },
   "outputs": [],
   "source": [
    "\n",
    "prediccionsRFR_VI2 = delays_modelRFR_VI.predict(Xrf)"
   ]
  },
  {
   "cell_type": "code",
   "execution_count": 75,
   "id": "262ff062",
   "metadata": {
    "ExecuteTime": {
     "end_time": "2021-07-08T09:30:07.571757Z",
     "start_time": "2021-07-08T09:30:07.336699Z"
    }
   },
   "outputs": [
    {
     "name": "stdout",
     "output_type": "stream",
     "text": [
      "Resultats Random Forest Regressor per Variables més Importants a tot el conjunt de dades \n",
      "R2 score:  0.5919863056549564\n",
      "MSE:  177.66097962484022\n",
      "MAE:  7.572407049839704\n",
      "MAPE:  1376759841513700.8\n"
     ]
    }
   ],
   "source": [
    "print('Resultats Random Forest Regressor per Variables més Importants a tot el conjunt de dades ')\n",
    "print('R2 score: ', r2_score(y, prediccionsRFR_VI2))\n",
    "print('MSE: ', mean_squared_error(y, prediccionsRFR_VI2))\n",
    "print('MAE: ', mean_absolute_error(y, prediccionsRFR_VI2))\n",
    "print('MAPE: ', mean_absolute_percentage_error(y, prediccionsRFR_VI2))"
   ]
  },
  {
   "cell_type": "markdown",
   "id": "1199d636",
   "metadata": {
    "run_control": {
     "marked": false
    }
   },
   "source": [
    "## LASSO\n"
   ]
  },
  {
   "cell_type": "code",
   "execution_count": 76,
   "id": "6c719f22",
   "metadata": {
    "ExecuteTime": {
     "end_time": "2021-07-08T09:30:33.412511Z",
     "start_time": "2021-07-08T09:30:17.309893Z"
    },
    "run_control": {
     "marked": false
    }
   },
   "outputs": [
    {
     "name": "stdout",
     "output_type": "stream",
     "text": [
      "Lasso Regressor Results\n",
      "R2 score:  0.21636421667273087\n",
      "MSE:  340.98886350531\n",
      "MAE:  10.247339203932588\n",
      "MAPE:  776519186434214.0\n"
     ]
    }
   ],
   "source": [
    "from sklearn.linear_model import LassoCV\n",
    "delays_modelL = LassoCV()\n",
    "delays_modelL.fit(X_train, y_train) \n",
    "\n",
    "predicted_delaysL = delays_modelL.predict(X_test)\n",
    "\n",
    "print('Lasso Regressor Results')\n",
    "print('R2 score: ', r2_score(y_test, predicted_delaysL))\n",
    "print('MSE: ', mean_squared_error(y_test, predicted_delaysL))\n",
    "print('MAE: ', mean_absolute_error(y_test, predicted_delaysL))\n",
    "print('MAPE: ',mean_absolute_percentage_error(y_test, predicted_delaysL))"
   ]
  },
  {
   "cell_type": "markdown",
   "id": "2f0196dd",
   "metadata": {},
   "source": [
    "### Validació interna"
   ]
  },
  {
   "cell_type": "code",
   "execution_count": 77,
   "id": "aba93353",
   "metadata": {
    "ExecuteTime": {
     "end_time": "2021-07-08T09:30:43.596107Z",
     "start_time": "2021-07-08T09:30:43.451466Z"
    },
    "run_control": {
     "marked": false
    }
   },
   "outputs": [],
   "source": [
    "predicted_delaysL2 = delays_modelL.predict(X)"
   ]
  },
  {
   "cell_type": "code",
   "execution_count": 78,
   "id": "dee84b33",
   "metadata": {
    "ExecuteTime": {
     "end_time": "2021-07-08T09:30:44.760326Z",
     "start_time": "2021-07-08T09:30:44.526813Z"
    }
   },
   "outputs": [
    {
     "name": "stdout",
     "output_type": "stream",
     "text": [
      "Lasso Regressor Resultats de tot el conjunt\n",
      "R2 score:  0.21817497092687854\n",
      "MSE:  340.4292612857426\n",
      "MAE:  10.265536342063198\n",
      "MAPE:  760564970901117.9\n"
     ]
    }
   ],
   "source": [
    "print('Lasso Regressor Resultats de tot el conjunt')\n",
    "print('R2 score: ', r2_score(y, predicted_delaysL2))\n",
    "print('MSE: ', mean_squared_error(y, predicted_delaysL2))\n",
    "print('MAE: ', mean_absolute_error(y, predicted_delaysL2))\n",
    "print('MAPE: ',mean_absolute_percentage_error(y, predicted_delaysL2))"
   ]
  },
  {
   "cell_type": "markdown",
   "id": "6ddbb8a5",
   "metadata": {},
   "source": [
    "# Conclusions \n",
    "\n",
    "En aquesta tasca he prracticat amb diferents models de regressió. \n",
    "Segons les dades obtingudes, sembla ser q el model LASSO és el més acurat, ja que els resultats del conjunt de dades són els mateixos que en el grup de proba.\n",
    "\n",
    "Els altres models necessiten millores (modificacions d'hyperparametres) més avançades que espero poder fer en breu. \n",
    "Seguim!"
   ]
  },
  {
   "cell_type": "markdown",
   "id": "91fd9b70",
   "metadata": {},
   "source": [
    "# Bonus : "
   ]
  },
  {
   "cell_type": "markdown",
   "id": "1fece45f",
   "metadata": {},
   "source": [
    "## linear regression with stats"
   ]
  },
  {
   "cell_type": "code",
   "execution_count": 16,
   "id": "7333fd0f",
   "metadata": {
    "ExecuteTime": {
     "end_time": "2021-07-08T05:22:12.457345Z",
     "start_time": "2021-07-08T05:22:07.980614Z"
    },
    "run_control": {
     "marked": false
    }
   },
   "outputs": [
    {
     "data": {
      "text/html": [
       "<table class=\"simpletable\">\n",
       "<caption>OLS Regression Results</caption>\n",
       "<tr>\n",
       "  <th>Dep. Variable:</th>            <td>y</td>        <th>  R-squared (uncentered):</th>       <td>   0.442</td>  \n",
       "</tr>\n",
       "<tr>\n",
       "  <th>Model:</th>                   <td>OLS</td>       <th>  Adj. R-squared (uncentered):</th>  <td>   0.442</td>  \n",
       "</tr>\n",
       "<tr>\n",
       "  <th>Method:</th>             <td>Least Squares</td>  <th>  F-statistic:       </th>           <td>9.586e+04</td> \n",
       "</tr>\n",
       "<tr>\n",
       "  <th>Date:</th>             <td>Thu, 08 Jul 2021</td> <th>  Prob (F-statistic):</th>            <td>  0.00</td>   \n",
       "</tr>\n",
       "<tr>\n",
       "  <th>Time:</th>                 <td>07:22:12</td>     <th>  Log-Likelihood:    </th>          <td>-6.0549e+06</td>\n",
       "</tr>\n",
       "<tr>\n",
       "  <th>No. Observations:</th>      <td>1452568</td>     <th>  AIC:               </th>           <td>1.211e+07</td> \n",
       "</tr>\n",
       "<tr>\n",
       "  <th>Df Residuals:</th>          <td>1452556</td>     <th>  BIC:               </th>           <td>1.211e+07</td> \n",
       "</tr>\n",
       "<tr>\n",
       "  <th>Df Model:</th>              <td>    12</td>      <th>                     </th>               <td> </td>     \n",
       "</tr>\n",
       "<tr>\n",
       "  <th>Covariance Type:</th>      <td>nonrobust</td>    <th>                     </th>               <td> </td>     \n",
       "</tr>\n",
       "</table>\n",
       "<table class=\"simpletable\">\n",
       "<tr>\n",
       "   <td></td>      <th>coef</th>     <th>std err</th>      <th>t</th>      <th>P>|t|</th>  <th>[0.025</th>    <th>0.975]</th>  \n",
       "</tr>\n",
       "<tr>\n",
       "  <th>x1</th>  <td>   -0.2792</td> <td>    0.003</td> <td>  -89.986</td> <td> 0.000</td> <td>   -0.285</td> <td>   -0.273</td>\n",
       "</tr>\n",
       "<tr>\n",
       "  <th>x2</th>  <td>    0.0782</td> <td>    0.002</td> <td>   33.137</td> <td> 0.000</td> <td>    0.074</td> <td>    0.083</td>\n",
       "</tr>\n",
       "<tr>\n",
       "  <th>x3</th>  <td>    0.0012</td> <td>    0.000</td> <td>    4.305</td> <td> 0.000</td> <td>    0.001</td> <td>    0.002</td>\n",
       "</tr>\n",
       "<tr>\n",
       "  <th>x4</th>  <td>   -0.0083</td> <td>    0.000</td> <td>  -32.762</td> <td> 0.000</td> <td>   -0.009</td> <td>   -0.008</td>\n",
       "</tr>\n",
       "<tr>\n",
       "  <th>x5</th>  <td>   -0.0040</td> <td> 2.12e-05</td> <td> -186.237</td> <td> 0.000</td> <td>   -0.004</td> <td>   -0.004</td>\n",
       "</tr>\n",
       "<tr>\n",
       "  <th>x6</th>  <td> -113.9245</td> <td>    0.715</td> <td> -159.373</td> <td> 0.000</td> <td> -115.326</td> <td> -112.523</td>\n",
       "</tr>\n",
       "<tr>\n",
       "  <th>x7</th>  <td> -152.4427</td> <td>    0.205</td> <td> -742.593</td> <td> 0.000</td> <td> -152.845</td> <td> -152.040</td>\n",
       "</tr>\n",
       "<tr>\n",
       "  <th>x8</th>  <td>    0.0309</td> <td>    0.000</td> <td>   85.746</td> <td> 0.000</td> <td>    0.030</td> <td>    0.032</td>\n",
       "</tr>\n",
       "<tr>\n",
       "  <th>x9</th>  <td>    0.0873</td> <td>    0.001</td> <td>  116.524</td> <td> 0.000</td> <td>    0.086</td> <td>    0.089</td>\n",
       "</tr>\n",
       "<tr>\n",
       "  <th>x10</th> <td>    0.3163</td> <td>    0.000</td> <td>  682.401</td> <td> 0.000</td> <td>    0.315</td> <td>    0.317</td>\n",
       "</tr>\n",
       "<tr>\n",
       "  <th>x11</th> <td>    0.1255</td> <td>    0.008</td> <td>   15.890</td> <td> 0.000</td> <td>    0.110</td> <td>    0.141</td>\n",
       "</tr>\n",
       "<tr>\n",
       "  <th>x12</th> <td>    0.0243</td> <td>    0.000</td> <td>   67.984</td> <td> 0.000</td> <td>    0.024</td> <td>    0.025</td>\n",
       "</tr>\n",
       "</table>\n",
       "<table class=\"simpletable\">\n",
       "<tr>\n",
       "  <th>Omnibus:</th>       <td>464346.774</td> <th>  Durbin-Watson:     </th>   <td>   1.999</td>  \n",
       "</tr>\n",
       "<tr>\n",
       "  <th>Prob(Omnibus):</th>   <td> 0.000</td>   <th>  Jarque-Bera (JB):  </th> <td>69635482.011</td>\n",
       "</tr>\n",
       "<tr>\n",
       "  <th>Skew:</th>            <td>-0.406</td>   <th>  Prob(JB):          </th>   <td>    0.00</td>  \n",
       "</tr>\n",
       "<tr>\n",
       "  <th>Kurtosis:</th>        <td>36.910</td>   <th>  Cond. No.          </th>   <td>5.29e+04</td>  \n",
       "</tr>\n",
       "</table><br/><br/>Notes:<br/>[1] R² is computed without centering (uncentered) since the model does not contain a constant.<br/>[2] Standard Errors assume that the covariance matrix of the errors is correctly specified.<br/>[3] The condition number is large, 5.29e+04. This might indicate that there are<br/>strong multicollinearity or other numerical problems."
      ],
      "text/plain": [
       "<class 'statsmodels.iolib.summary.Summary'>\n",
       "\"\"\"\n",
       "                                 OLS Regression Results                                \n",
       "=======================================================================================\n",
       "Dep. Variable:                      y   R-squared (uncentered):                   0.442\n",
       "Model:                            OLS   Adj. R-squared (uncentered):              0.442\n",
       "Method:                 Least Squares   F-statistic:                          9.586e+04\n",
       "Date:                Thu, 08 Jul 2021   Prob (F-statistic):                        0.00\n",
       "Time:                        07:22:12   Log-Likelihood:                     -6.0549e+06\n",
       "No. Observations:             1452568   AIC:                                  1.211e+07\n",
       "Df Residuals:                 1452556   BIC:                                  1.211e+07\n",
       "Df Model:                          12                                                  \n",
       "Covariance Type:            nonrobust                                                  \n",
       "==============================================================================\n",
       "                 coef    std err          t      P>|t|      [0.025      0.975]\n",
       "------------------------------------------------------------------------------\n",
       "x1            -0.2792      0.003    -89.986      0.000      -0.285      -0.273\n",
       "x2             0.0782      0.002     33.137      0.000       0.074       0.083\n",
       "x3             0.0012      0.000      4.305      0.000       0.001       0.002\n",
       "x4            -0.0083      0.000    -32.762      0.000      -0.009      -0.008\n",
       "x5            -0.0040   2.12e-05   -186.237      0.000      -0.004      -0.004\n",
       "x6          -113.9245      0.715   -159.373      0.000    -115.326    -112.523\n",
       "x7          -152.4427      0.205   -742.593      0.000    -152.845    -152.040\n",
       "x8             0.0309      0.000     85.746      0.000       0.030       0.032\n",
       "x9             0.0873      0.001    116.524      0.000       0.086       0.089\n",
       "x10            0.3163      0.000    682.401      0.000       0.315       0.317\n",
       "x11            0.1255      0.008     15.890      0.000       0.110       0.141\n",
       "x12            0.0243      0.000     67.984      0.000       0.024       0.025\n",
       "==============================================================================\n",
       "Omnibus:                   464346.774   Durbin-Watson:                   1.999\n",
       "Prob(Omnibus):                  0.000   Jarque-Bera (JB):         69635482.011\n",
       "Skew:                          -0.406   Prob(JB):                         0.00\n",
       "Kurtosis:                      36.910   Cond. No.                     5.29e+04\n",
       "==============================================================================\n",
       "\n",
       "Notes:\n",
       "[1] R² is computed without centering (uncentered) since the model does not contain a constant.\n",
       "[2] Standard Errors assume that the covariance matrix of the errors is correctly specified.\n",
       "[3] The condition number is large, 5.29e+04. This might indicate that there are\n",
       "strong multicollinearity or other numerical problems.\n",
       "\"\"\""
      ]
     },
     "execution_count": 16,
     "metadata": {},
     "output_type": "execute_result"
    }
   ],
   "source": [
    "## Without a constant\n",
    "\n",
    "import statsmodels.api as sm\n",
    "\n",
    "# Note the difference in argument order\n",
    "modelLR = sm.OLS(y_train, X_train).fit()\n",
    "predictions = modelLR.predict(X_test) # make the predictions by the model\n",
    "\n",
    "# Print out the statistics\n",
    "modelLR.summary()"
   ]
  }
 ],
 "metadata": {
  "hide_input": false,
  "kernelspec": {
   "display_name": "Python 3",
   "language": "python",
   "name": "python3"
  },
  "language_info": {
   "codemirror_mode": {
    "name": "ipython",
    "version": 3
   },
   "file_extension": ".py",
   "mimetype": "text/x-python",
   "name": "python",
   "nbconvert_exporter": "python",
   "pygments_lexer": "ipython3",
   "version": "3.8.8"
  },
  "toc": {
   "base_numbering": 1,
   "nav_menu": {},
   "number_sections": true,
   "sideBar": true,
   "skip_h1_title": false,
   "title_cell": "Table of Contents",
   "title_sidebar": "Contents",
   "toc_cell": true,
   "toc_position": {
    "height": "calc(100% - 180px)",
    "left": "10px",
    "top": "150px",
    "width": "384px"
   },
   "toc_section_display": true,
   "toc_window_display": true
  }
 },
 "nbformat": 4,
 "nbformat_minor": 5
}
