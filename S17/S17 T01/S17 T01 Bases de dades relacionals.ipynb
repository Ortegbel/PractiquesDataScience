{
 "cells": [
  {
   "cell_type": "markdown",
   "id": "1117cbd8",
   "metadata": {},
   "source": [
    "<font size=\"6\"><b>S17 T01: Bases de dades relacionals</b></font>\n"
   ]
  },
  {
   "cell_type": "markdown",
   "id": "d9f3b694",
   "metadata": {},
   "source": [
    "# Enunciats\n",
    "**Nivell 1**\n",
    "\n",
    "**Exercici 1**\n",
    "\n",
    "Crea una base relacional d’exemple utilitzant un document de text o a mà. Dissenya-la perquè contingui les següents taules, i estableix les relacions que consideris necessàries entre elles:\n",
    "\n",
    "-\tTaula de compres (transaccions)\n",
    "\n",
    "-\tTaula d’establiments\n",
    "\n",
    "-\tTaula de treballadors\n",
    "\n",
    "-\tTaula de clients\n",
    "\n",
    "-\tTaula de productes\n",
    "\n",
    "-\tTaula de tipus de productes\n",
    "\n",
    "Defineix les propietats de les relacions (1:1, 1:n, n:n), i crea algunes de les variables que podrien contenir, per exemple:\n",
    "\n",
    "\n",
    "\n",
    "Taula d’establiments\n",
    "\n",
    "-\tIDestabliment (unique key)\n",
    "\n",
    "-\tNom\n",
    "\n",
    "-\tLocalització\n",
    "\n",
    "-\tSuperfície\n",
    "\n",
    "\n",
    "\n",
    "\n",
    "**Nivell 2**  \n",
    "\n",
    "**Exercici 2**\n",
    "\n",
    "Utilitza un programa de creació de diagrames entitat-relació com http://dia-installer.de per crear el diagrama.\n",
    "\n",
    "**Nivell 3**  \n",
    "\n",
    "**Exercici 3**  \n",
    "\n",
    "Utilitza el Workbench de MySQL per crear un model relacional. "
   ]
  },
  {
   "cell_type": "markdown",
   "id": "ee013af5",
   "metadata": {},
   "source": [
    "# Exercici 1\n",
    "\n",
    "Seguiu aquest link per veure el document: [esquema](https://github.com/Ortegbel/PractiquesDataScience/blob/master/S17/S17%20T01/Esquema1.docx?raw=true)\n",
    "\n"
   ]
  },
  {
   "cell_type": "markdown",
   "id": "5c321468",
   "metadata": {},
   "source": [
    "# Exercici 2\n",
    "\n",
    "Seguiu aquest link per veure el document:[diagram](https://github.com/Ortegbel/PractiquesDataScience/blob/b93d86bac842d53936ce2232aa8494da12f62ba8/S17/S17%20T01/S17_T01_TEST.png)"
   ]
  },
  {
   "cell_type": "markdown",
   "id": "1521578e",
   "metadata": {},
   "source": [
    "# Exercici 3\n",
    "Seguiu aquest link per accedir al projecte:[folder](https://github.com/Ortegbel/PractiquesDataScience/tree/master/S17/S17%20T01/S17T0103)"
   ]
  },
  {
   "cell_type": "code",
   "execution_count": null,
   "id": "caa0c2c1",
   "metadata": {},
   "outputs": [],
   "source": []
  }
 ],
 "metadata": {
  "hide_input": false,
  "kernelspec": {
   "display_name": "Python 3",
   "language": "python",
   "name": "python3"
  },
  "language_info": {
   "codemirror_mode": {
    "name": "ipython",
    "version": 3
   },
   "file_extension": ".py",
   "mimetype": "text/x-python",
   "name": "python",
   "nbconvert_exporter": "python",
   "pygments_lexer": "ipython3",
   "version": "3.8.8"
  },
  "toc": {
   "base_numbering": 1,
   "nav_menu": {},
   "number_sections": true,
   "sideBar": true,
   "skip_h1_title": false,
   "title_cell": "Table of Contents",
   "title_sidebar": "Contents",
   "toc_cell": false,
   "toc_position": {},
   "toc_section_display": true,
   "toc_window_display": false
  }
 },
 "nbformat": 4,
 "nbformat_minor": 5
}
