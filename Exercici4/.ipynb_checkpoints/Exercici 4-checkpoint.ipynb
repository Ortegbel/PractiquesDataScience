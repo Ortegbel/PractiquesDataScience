{
 "cells": [
  {
   "cell_type": "markdown",
   "metadata": {},
   "source": [
    "### Exercici 4: Pràctica amb programació numèrica\n",
    "\n",
    "Familiaritza't amb la Programació Numèrica a través de la llibreria NumPy.\n",
    "\n",
    "Nivell 1\n",
    "\n",
    "- Exercici 1\n",
    "Crea una funció que donat un Array d’una dimensió, et faci un resum estadístic bàsic de les dades. Si detecta que l’array té més d’una dimensió, ha de mostrar un missatge d’error."
   ]
  },
  {
   "cell_type": "code",
   "execution_count": 6,
   "metadata": {},
   "outputs": [
    {
     "name": "stdout",
     "output_type": "stream",
     "text": [
      "Prenent la següent llista: \n",
      " [[78  2 70 56 96 78 66 40 62 71]\n",
      " [95 81 93 59 62 85 24 88 37 19]]\n",
      "ValueError, l'array és multidimensional\n"
     ]
    }
   ],
   "source": [
    "import numpy as np\n",
    "from numpy import random\n",
    "\n",
    "#proba feta amb una llista random d'una dimensió\n",
    "#llista = random.randint (100,size =(10) )\n",
    "\n",
    "#proba feta amb una llista random de dues dimensions\n",
    "llista = random.randint (100,size =(2,10) )\n",
    "\n",
    "print(\"Prenent la següent llista: \\n\", llista)\n",
    "\n",
    "if np.ndim (llista) == 1:\n",
    "    valormin  = np.amin(llista)\n",
    "    valormax  = np.amax(llista)\n",
    "    mediana   = np.median(llista)\n",
    "    mitja     = np.average(llista)\n",
    "    frq       = np.array(np.unique(llista, return_counts=True)).T\n",
    "    print(\"hem calcul.lat els següents valors: \\nValor mínim: \",valormin,\"\\nValor màxim: \", valormax)\n",
    "    print(\"la mitja aritmètica es: \",mitja)\n",
    "    print(\"valor mig: \",mediana, \" \\ni la freqüècia en q es donen els seus valors \\n\", frq)\n",
    "else:\n",
    "    print(\"ValueError, l'array és multidimensional\")"
   ]
  },
  {
   "cell_type": "markdown",
   "metadata": {},
   "source": [
    "- Exercici 2\n",
    "Crea una funció que et generi un quadrat NxN de nombres aleatoris entre el 0 i el 100."
   ]
  },
  {
   "cell_type": "code",
   "execution_count": 2,
   "metadata": {},
   "outputs": [
    {
     "name": "stdout",
     "output_type": "stream",
     "text": [
      "[[59 25 56 73 51]\n",
      " [61 31  4 25 77]\n",
      " [90  8  1 80 11]\n",
      " [41 50 18 99 60]\n",
      " [66 54 96 39 25]]\n"
     ]
    }
   ],
   "source": [
    "import numpy as np\n",
    "from numpy import random\n",
    "\n",
    "quadrat = random.randint (100, size = (5,5))\n",
    "\n",
    "print(quadrat)"
   ]
  },
  {
   "cell_type": "markdown",
   "metadata": {},
   "source": [
    "- Exercici 3\n",
    "Crea una funció que donada una taula de dues dimensions, et calculi els totals per fila i els totals per columna."
   ]
  },
  {
   "cell_type": "code",
   "execution_count": 11,
   "metadata": {},
   "outputs": [
    {
     "name": "stdout",
     "output_type": "stream",
     "text": [
      "Prenem la següent llista com a referència: \n",
      " [[7 5 3]\n",
      " [6 9 0]\n",
      " [2 6 9]]\n",
      "Els totals per fila són: \n",
      "  [15 20 12]\n",
      "i els totals per columna són: \n",
      " [15 15 17]\n"
     ]
    }
   ],
   "source": [
    "import numpy as np\n",
    "from numpy import random\n",
    "\n",
    "llista = random.randint (10, size = (3,3))\n",
    "print(\"Prenem la següent llista com a referència: \\n\", llista)\n",
    "print(\"Els totals per fila són: \\n \", np.sum(llista, axis=0))\n",
    "print(\"i els totals per columna són: \\n\",np.sum(llista, axis=1))"
   ]
  },
  {
   "cell_type": "markdown",
   "metadata": {},
   "source": [
    "- Exercici 4\n",
    "Implementa manualment una funció que calculi el coeficient de correlació. Informa’t-en sobre els seus usos i interpretació."
   ]
  },
  {
   "cell_type": "code",
   "execution_count": 16,
   "metadata": {},
   "outputs": [
    {
     "name": "stdout",
     "output_type": "stream",
     "text": [
      "[[1.         0.14077313]\n",
      " [0.14077313 1.        ]]\n"
     ]
    }
   ],
   "source": [
    "import numpy as np\n",
    "import scipy.stats\n",
    "\n",
    "a = np.arange(5,10)\n",
    "b = np.array([61, 31,  4, 25, 77])\n",
    "r = np.corrcoef(a,b)\n",
    "print(r)"
   ]
  },
  {
   "cell_type": "code",
   "execution_count": null,
   "metadata": {},
   "outputs": [],
   "source": []
  }
 ],
 "metadata": {
  "kernelspec": {
   "display_name": "Python 3",
   "language": "python",
   "name": "python3"
  },
  "language_info": {
   "codemirror_mode": {
    "name": "ipython",
    "version": 3
   },
   "file_extension": ".py",
   "mimetype": "text/x-python",
   "name": "python",
   "nbconvert_exporter": "python",
   "pygments_lexer": "ipython3",
   "version": "3.8.5"
  },
  "latex_envs": {
   "LaTeX_envs_menu_present": true,
   "autoclose": false,
   "autocomplete": true,
   "bibliofile": "biblio.bib",
   "cite_by": "apalike",
   "current_citInitial": 1,
   "eqLabelWithNumbers": true,
   "eqNumInitial": 1,
   "hotkeys": {
    "equation": "Ctrl-E",
    "itemize": "Ctrl-I"
   },
   "labels_anchors": false,
   "latex_user_defs": false,
   "report_style_numbering": false,
   "user_envs_cfg": false
  }
 },
 "nbformat": 4,
 "nbformat_minor": 4
}
