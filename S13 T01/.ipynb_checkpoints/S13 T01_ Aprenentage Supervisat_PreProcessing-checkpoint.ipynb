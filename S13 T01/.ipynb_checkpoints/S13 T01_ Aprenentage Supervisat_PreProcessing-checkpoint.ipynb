{
 "cells": [
  {
   "cell_type": "markdown",
   "id": "82afa677",
   "metadata": {},
   "source": [
    "<font size=\"6\">**S13 T01: Aprenentage Supervisat**</font>"
   ]
  },
  {
   "cell_type": "markdown",
   "id": "988c5cc7",
   "metadata": {},
   "source": [
    "Per tal de trobar el la millor opció per Preprocessar les dades he probat diferents amb un model de `LogisticRegression`."
   ]
  },
  {
   "cell_type": "markdown",
   "id": "a53c46d6",
   "metadata": {
    "toc": true
   },
   "source": [
    "<h1>Table of Contents<span class=\"tocSkip\"></span></h1>\n",
    "<div class=\"toc\"><ul class=\"toc-item\"><li><span><a href=\"#Importació-i-Preparació-de-Dades\" data-toc-modified-id=\"Importació-i-Preparació-de-Dades-1\"><span class=\"toc-item-num\">1&nbsp;&nbsp;</span>Importació i Preparació de Dades</a></span></li><li><span><a href=\"#Selecció-de-variable-objectiu-i-característiques\" data-toc-modified-id=\"Selecció-de-variable-objectiu-i-característiques-2\"><span class=\"toc-item-num\">2&nbsp;&nbsp;</span>Selecció de variable objectiu i característiques</a></span></li><li><span><a href=\"#Dividir-les-dades-train-test-split\" data-toc-modified-id=\"Dividir-les-dades-train-test-split-3\"><span class=\"toc-item-num\">3&nbsp;&nbsp;</span>Dividir les dades <code>train-test-split</code></a></span></li><li><span><a href=\"#Preprocessing\" data-toc-modified-id=\"Preprocessing-4\"><span class=\"toc-item-num\">4&nbsp;&nbsp;</span>Preprocessing</a></span><ul class=\"toc-item\"><li><span><a href=\"#Standardization\" data-toc-modified-id=\"Standardization-4.1\"><span class=\"toc-item-num\">4.1&nbsp;&nbsp;</span>Standardization</a></span><ul class=\"toc-item\"><li><span><a href=\"#StandardScaler-+-LogisticRegression\" data-toc-modified-id=\"StandardScaler-+-LogisticRegression-4.1.1\"><span class=\"toc-item-num\">4.1.1&nbsp;&nbsp;</span><code>StandardScaler</code> + <code>LogisticRegression</code></a></span></li><li><span><a href=\"#Scaling-features-to-a-range-MinMaxScaler\" data-toc-modified-id=\"Scaling-features-to-a-range-MinMaxScaler-4.1.2\"><span class=\"toc-item-num\">4.1.2&nbsp;&nbsp;</span>Scaling features to a range <code>MinMaxScaler</code></a></span><ul class=\"toc-item\"><li><span><a href=\"#MinmaxScaler-LogisticRegression\" data-toc-modified-id=\"MinmaxScaler-LogisticRegression-4.1.2.1\"><span class=\"toc-item-num\">4.1.2.1&nbsp;&nbsp;</span>MinmaxScaler LogisticRegression</a></span></li></ul></li><li><span><a href=\"#Scaling-features-to-a-range-MaxAbsScaler\" data-toc-modified-id=\"Scaling-features-to-a-range-MaxAbsScaler-4.1.3\"><span class=\"toc-item-num\">4.1.3&nbsp;&nbsp;</span>Scaling features to a range <code>MaxAbsScaler</code></a></span><ul class=\"toc-item\"><li><span><a href=\"#MaxAbsScaler-&amp;-LogisticRegression\" data-toc-modified-id=\"MaxAbsScaler-&amp;-LogisticRegression-4.1.3.1\"><span class=\"toc-item-num\">4.1.3.1&nbsp;&nbsp;</span><code>MaxAbsScaler</code> &amp; <code>LogisticRegression</code></a></span></li></ul></li><li><span><a href=\"#Scaling-data-with-outliers\" data-toc-modified-id=\"Scaling-data-with-outliers-4.1.4\"><span class=\"toc-item-num\">4.1.4&nbsp;&nbsp;</span>Scaling data with outliers</a></span><ul class=\"toc-item\"><li><span><a href=\"#RobustScaler-&amp;-LogisticRegression\" data-toc-modified-id=\"RobustScaler-&amp;-LogisticRegression-4.1.4.1\"><span class=\"toc-item-num\">4.1.4.1&nbsp;&nbsp;</span><code>RobustScaler</code> &amp; <code>LogisticRegression</code></a></span></li></ul></li></ul></li><li><span><a href=\"#Non-linear-transformation\" data-toc-modified-id=\"Non-linear-transformation-4.2\"><span class=\"toc-item-num\">4.2&nbsp;&nbsp;</span>Non-linear transformation</a></span><ul class=\"toc-item\"><li><span><a href=\"#Mapping-to-a-Uniform-distribution-QuantileTransformer\" data-toc-modified-id=\"Mapping-to-a-Uniform-distribution-QuantileTransformer-4.2.1\"><span class=\"toc-item-num\">4.2.1&nbsp;&nbsp;</span>Mapping to a Uniform distribution <code>QuantileTransformer</code></a></span></li><li><span><a href=\"#Mapping-to-a-Uniform-distribution-QuantileTransformer_Normal\" data-toc-modified-id=\"Mapping-to-a-Uniform-distribution-QuantileTransformer_Normal-4.2.2\"><span class=\"toc-item-num\">4.2.2&nbsp;&nbsp;</span>Mapping to a Uniform distribution <code>QuantileTransformer_Normal</code></a></span><ul class=\"toc-item\"><li><span><a href=\"#QuantileTransformer_Normal-&amp;-LogisticRegression\" data-toc-modified-id=\"QuantileTransformer_Normal-&amp;-LogisticRegression-4.2.2.1\"><span class=\"toc-item-num\">4.2.2.1&nbsp;&nbsp;</span>QuantileTransformer_Normal &amp; LogisticRegression</a></span></li></ul></li></ul></li></ul></li></ul></div>"
   ]
  },
  {
   "cell_type": "markdown",
   "id": "a4238e06",
   "metadata": {},
   "source": [
    "# Importació i Preparació de Dades"
   ]
  },
  {
   "cell_type": "code",
   "execution_count": 1,
   "id": "7b472b2e",
   "metadata": {
    "ExecuteTime": {
     "end_time": "2021-07-20T14:52:01.431290Z",
     "start_time": "2021-07-20T14:51:45.937427Z"
    },
    "run_control": {
     "marked": false
    }
   },
   "outputs": [
    {
     "data": {
      "text/html": [
       "<div>\n",
       "<style scoped>\n",
       "    .dataframe tbody tr th:only-of-type {\n",
       "        vertical-align: middle;\n",
       "    }\n",
       "\n",
       "    .dataframe tbody tr th {\n",
       "        vertical-align: top;\n",
       "    }\n",
       "\n",
       "    .dataframe thead th {\n",
       "        text-align: right;\n",
       "    }\n",
       "</style>\n",
       "<table border=\"1\" class=\"dataframe\">\n",
       "  <thead>\n",
       "    <tr style=\"text-align: right;\">\n",
       "      <th></th>\n",
       "      <th>Unnamed: 0</th>\n",
       "      <th>Unnamed: 0.1</th>\n",
       "      <th>Year</th>\n",
       "      <th>Month</th>\n",
       "      <th>DayofMonth</th>\n",
       "      <th>DayOfWeek</th>\n",
       "      <th>DepTime</th>\n",
       "      <th>CRSDepTime</th>\n",
       "      <th>ArrTime</th>\n",
       "      <th>CRSArrTime</th>\n",
       "      <th>...</th>\n",
       "      <th>TaxiIn</th>\n",
       "      <th>TaxiOut</th>\n",
       "      <th>Cancelled</th>\n",
       "      <th>CancellationCode</th>\n",
       "      <th>Diverted</th>\n",
       "      <th>CarrierDelay</th>\n",
       "      <th>WeatherDelay</th>\n",
       "      <th>NASDelay</th>\n",
       "      <th>SecurityDelay</th>\n",
       "      <th>LateAircraftDelay</th>\n",
       "    </tr>\n",
       "  </thead>\n",
       "  <tbody>\n",
       "    <tr>\n",
       "      <th>0</th>\n",
       "      <td>0</td>\n",
       "      <td>0</td>\n",
       "      <td>2008</td>\n",
       "      <td>1</td>\n",
       "      <td>3</td>\n",
       "      <td>4</td>\n",
       "      <td>2003.0</td>\n",
       "      <td>1955</td>\n",
       "      <td>2211.0</td>\n",
       "      <td>2225</td>\n",
       "      <td>...</td>\n",
       "      <td>4.0</td>\n",
       "      <td>8.0</td>\n",
       "      <td>0</td>\n",
       "      <td>N</td>\n",
       "      <td>0</td>\n",
       "      <td>NaN</td>\n",
       "      <td>NaN</td>\n",
       "      <td>NaN</td>\n",
       "      <td>NaN</td>\n",
       "      <td>NaN</td>\n",
       "    </tr>\n",
       "    <tr>\n",
       "      <th>1</th>\n",
       "      <td>1</td>\n",
       "      <td>1</td>\n",
       "      <td>2008</td>\n",
       "      <td>1</td>\n",
       "      <td>3</td>\n",
       "      <td>4</td>\n",
       "      <td>754.0</td>\n",
       "      <td>735</td>\n",
       "      <td>1002.0</td>\n",
       "      <td>1000</td>\n",
       "      <td>...</td>\n",
       "      <td>5.0</td>\n",
       "      <td>10.0</td>\n",
       "      <td>0</td>\n",
       "      <td>N</td>\n",
       "      <td>0</td>\n",
       "      <td>NaN</td>\n",
       "      <td>NaN</td>\n",
       "      <td>NaN</td>\n",
       "      <td>NaN</td>\n",
       "      <td>NaN</td>\n",
       "    </tr>\n",
       "    <tr>\n",
       "      <th>2</th>\n",
       "      <td>2</td>\n",
       "      <td>2</td>\n",
       "      <td>2008</td>\n",
       "      <td>1</td>\n",
       "      <td>3</td>\n",
       "      <td>4</td>\n",
       "      <td>628.0</td>\n",
       "      <td>620</td>\n",
       "      <td>804.0</td>\n",
       "      <td>750</td>\n",
       "      <td>...</td>\n",
       "      <td>3.0</td>\n",
       "      <td>17.0</td>\n",
       "      <td>0</td>\n",
       "      <td>N</td>\n",
       "      <td>0</td>\n",
       "      <td>NaN</td>\n",
       "      <td>NaN</td>\n",
       "      <td>NaN</td>\n",
       "      <td>NaN</td>\n",
       "      <td>NaN</td>\n",
       "    </tr>\n",
       "    <tr>\n",
       "      <th>3</th>\n",
       "      <td>3</td>\n",
       "      <td>4</td>\n",
       "      <td>2008</td>\n",
       "      <td>1</td>\n",
       "      <td>3</td>\n",
       "      <td>4</td>\n",
       "      <td>1829.0</td>\n",
       "      <td>1755</td>\n",
       "      <td>1959.0</td>\n",
       "      <td>1925</td>\n",
       "      <td>...</td>\n",
       "      <td>3.0</td>\n",
       "      <td>10.0</td>\n",
       "      <td>0</td>\n",
       "      <td>N</td>\n",
       "      <td>0</td>\n",
       "      <td>2.0</td>\n",
       "      <td>0.0</td>\n",
       "      <td>0.0</td>\n",
       "      <td>0.0</td>\n",
       "      <td>32.0</td>\n",
       "    </tr>\n",
       "    <tr>\n",
       "      <th>4</th>\n",
       "      <td>4</td>\n",
       "      <td>5</td>\n",
       "      <td>2008</td>\n",
       "      <td>1</td>\n",
       "      <td>3</td>\n",
       "      <td>4</td>\n",
       "      <td>1940.0</td>\n",
       "      <td>1915</td>\n",
       "      <td>2121.0</td>\n",
       "      <td>2110</td>\n",
       "      <td>...</td>\n",
       "      <td>4.0</td>\n",
       "      <td>10.0</td>\n",
       "      <td>0</td>\n",
       "      <td>N</td>\n",
       "      <td>0</td>\n",
       "      <td>NaN</td>\n",
       "      <td>NaN</td>\n",
       "      <td>NaN</td>\n",
       "      <td>NaN</td>\n",
       "      <td>NaN</td>\n",
       "    </tr>\n",
       "  </tbody>\n",
       "</table>\n",
       "<p>5 rows × 31 columns</p>\n",
       "</div>"
      ],
      "text/plain": [
       "   Unnamed: 0  Unnamed: 0.1  Year  Month  DayofMonth  DayOfWeek  DepTime  \\\n",
       "0           0             0  2008      1           3          4   2003.0   \n",
       "1           1             1  2008      1           3          4    754.0   \n",
       "2           2             2  2008      1           3          4    628.0   \n",
       "3           3             4  2008      1           3          4   1829.0   \n",
       "4           4             5  2008      1           3          4   1940.0   \n",
       "\n",
       "   CRSDepTime  ArrTime  CRSArrTime  ... TaxiIn  TaxiOut Cancelled  \\\n",
       "0        1955   2211.0        2225  ...    4.0      8.0         0   \n",
       "1         735   1002.0        1000  ...    5.0     10.0         0   \n",
       "2         620    804.0         750  ...    3.0     17.0         0   \n",
       "3        1755   1959.0        1925  ...    3.0     10.0         0   \n",
       "4        1915   2121.0        2110  ...    4.0     10.0         0   \n",
       "\n",
       "   CancellationCode  Diverted  CarrierDelay  WeatherDelay  NASDelay  \\\n",
       "0                 N         0           NaN           NaN       NaN   \n",
       "1                 N         0           NaN           NaN       NaN   \n",
       "2                 N         0           NaN           NaN       NaN   \n",
       "3                 N         0           2.0           0.0       0.0   \n",
       "4                 N         0           NaN           NaN       NaN   \n",
       "\n",
       "  SecurityDelay LateAircraftDelay  \n",
       "0           NaN               NaN  \n",
       "1           NaN               NaN  \n",
       "2           NaN               NaN  \n",
       "3           0.0              32.0  \n",
       "4           NaN               NaN  \n",
       "\n",
       "[5 rows x 31 columns]"
      ]
     },
     "execution_count": 1,
     "metadata": {},
     "output_type": "execute_result"
    }
   ],
   "source": [
    "import pandas as pd \n",
    "import numpy as np\n",
    "import seaborn as sns\n",
    "import matplotlib.pyplot as plt\n",
    "\n",
    "url='https://github.com/Ortegbel/PractiquesDataScience/blob/master/Exercici5/DelayedFlightsComp.csv.gz?raw=true'\n",
    "df = pd.read_csv(url,  compression='gzip')\n",
    "\n",
    "\n",
    "df.head()"
   ]
  },
  {
   "cell_type": "code",
   "execution_count": 2,
   "id": "9133e174",
   "metadata": {
    "ExecuteTime": {
     "end_time": "2021-07-20T14:52:02.304308Z",
     "start_time": "2021-07-20T14:52:01.434284Z"
    },
    "run_control": {
     "marked": false
    }
   },
   "outputs": [],
   "source": [
    "df = df.fillna(0)"
   ]
  },
  {
   "cell_type": "code",
   "execution_count": 3,
   "id": "5b17ea80",
   "metadata": {
    "ExecuteTime": {
     "end_time": "2021-07-20T14:52:02.958336Z",
     "start_time": "2021-07-20T14:52:02.308308Z"
    },
    "run_control": {
     "marked": false
    }
   },
   "outputs": [
    {
     "data": {
      "text/html": [
       "<div>\n",
       "<style scoped>\n",
       "    .dataframe tbody tr th:only-of-type {\n",
       "        vertical-align: middle;\n",
       "    }\n",
       "\n",
       "    .dataframe tbody tr th {\n",
       "        vertical-align: top;\n",
       "    }\n",
       "\n",
       "    .dataframe thead th {\n",
       "        text-align: right;\n",
       "    }\n",
       "</style>\n",
       "<table border=\"1\" class=\"dataframe\">\n",
       "  <thead>\n",
       "    <tr style=\"text-align: right;\">\n",
       "      <th></th>\n",
       "      <th>Year</th>\n",
       "      <th>Month</th>\n",
       "      <th>DayofMonth</th>\n",
       "      <th>DayOfWeek</th>\n",
       "      <th>DepTime</th>\n",
       "      <th>CRSDepTime</th>\n",
       "      <th>ArrTime</th>\n",
       "      <th>CRSArrTime</th>\n",
       "      <th>UniqueCarrier</th>\n",
       "      <th>FlightNum</th>\n",
       "      <th>...</th>\n",
       "      <th>TaxiIn</th>\n",
       "      <th>TaxiOut</th>\n",
       "      <th>Cancelled</th>\n",
       "      <th>CancellationCode</th>\n",
       "      <th>Diverted</th>\n",
       "      <th>CarrierDelay</th>\n",
       "      <th>WeatherDelay</th>\n",
       "      <th>NASDelay</th>\n",
       "      <th>SecurityDelay</th>\n",
       "      <th>LateAircraftDelay</th>\n",
       "    </tr>\n",
       "  </thead>\n",
       "  <tbody>\n",
       "    <tr>\n",
       "      <th>0</th>\n",
       "      <td>2008</td>\n",
       "      <td>1</td>\n",
       "      <td>3</td>\n",
       "      <td>4</td>\n",
       "      <td>2003.0</td>\n",
       "      <td>1955</td>\n",
       "      <td>2211.0</td>\n",
       "      <td>2225</td>\n",
       "      <td>WN</td>\n",
       "      <td>335</td>\n",
       "      <td>...</td>\n",
       "      <td>4.0</td>\n",
       "      <td>8.0</td>\n",
       "      <td>0</td>\n",
       "      <td>N</td>\n",
       "      <td>0</td>\n",
       "      <td>0.0</td>\n",
       "      <td>0.0</td>\n",
       "      <td>0.0</td>\n",
       "      <td>0.0</td>\n",
       "      <td>0.0</td>\n",
       "    </tr>\n",
       "    <tr>\n",
       "      <th>1</th>\n",
       "      <td>2008</td>\n",
       "      <td>1</td>\n",
       "      <td>3</td>\n",
       "      <td>4</td>\n",
       "      <td>754.0</td>\n",
       "      <td>735</td>\n",
       "      <td>1002.0</td>\n",
       "      <td>1000</td>\n",
       "      <td>WN</td>\n",
       "      <td>3231</td>\n",
       "      <td>...</td>\n",
       "      <td>5.0</td>\n",
       "      <td>10.0</td>\n",
       "      <td>0</td>\n",
       "      <td>N</td>\n",
       "      <td>0</td>\n",
       "      <td>0.0</td>\n",
       "      <td>0.0</td>\n",
       "      <td>0.0</td>\n",
       "      <td>0.0</td>\n",
       "      <td>0.0</td>\n",
       "    </tr>\n",
       "    <tr>\n",
       "      <th>2</th>\n",
       "      <td>2008</td>\n",
       "      <td>1</td>\n",
       "      <td>3</td>\n",
       "      <td>4</td>\n",
       "      <td>628.0</td>\n",
       "      <td>620</td>\n",
       "      <td>804.0</td>\n",
       "      <td>750</td>\n",
       "      <td>WN</td>\n",
       "      <td>448</td>\n",
       "      <td>...</td>\n",
       "      <td>3.0</td>\n",
       "      <td>17.0</td>\n",
       "      <td>0</td>\n",
       "      <td>N</td>\n",
       "      <td>0</td>\n",
       "      <td>0.0</td>\n",
       "      <td>0.0</td>\n",
       "      <td>0.0</td>\n",
       "      <td>0.0</td>\n",
       "      <td>0.0</td>\n",
       "    </tr>\n",
       "    <tr>\n",
       "      <th>3</th>\n",
       "      <td>2008</td>\n",
       "      <td>1</td>\n",
       "      <td>3</td>\n",
       "      <td>4</td>\n",
       "      <td>1829.0</td>\n",
       "      <td>1755</td>\n",
       "      <td>1959.0</td>\n",
       "      <td>1925</td>\n",
       "      <td>WN</td>\n",
       "      <td>3920</td>\n",
       "      <td>...</td>\n",
       "      <td>3.0</td>\n",
       "      <td>10.0</td>\n",
       "      <td>0</td>\n",
       "      <td>N</td>\n",
       "      <td>0</td>\n",
       "      <td>2.0</td>\n",
       "      <td>0.0</td>\n",
       "      <td>0.0</td>\n",
       "      <td>0.0</td>\n",
       "      <td>32.0</td>\n",
       "    </tr>\n",
       "    <tr>\n",
       "      <th>4</th>\n",
       "      <td>2008</td>\n",
       "      <td>1</td>\n",
       "      <td>3</td>\n",
       "      <td>4</td>\n",
       "      <td>1940.0</td>\n",
       "      <td>1915</td>\n",
       "      <td>2121.0</td>\n",
       "      <td>2110</td>\n",
       "      <td>WN</td>\n",
       "      <td>378</td>\n",
       "      <td>...</td>\n",
       "      <td>4.0</td>\n",
       "      <td>10.0</td>\n",
       "      <td>0</td>\n",
       "      <td>N</td>\n",
       "      <td>0</td>\n",
       "      <td>0.0</td>\n",
       "      <td>0.0</td>\n",
       "      <td>0.0</td>\n",
       "      <td>0.0</td>\n",
       "      <td>0.0</td>\n",
       "    </tr>\n",
       "  </tbody>\n",
       "</table>\n",
       "<p>5 rows × 29 columns</p>\n",
       "</div>"
      ],
      "text/plain": [
       "   Year  Month  DayofMonth  DayOfWeek  DepTime  CRSDepTime  ArrTime  \\\n",
       "0  2008      1           3          4   2003.0        1955   2211.0   \n",
       "1  2008      1           3          4    754.0         735   1002.0   \n",
       "2  2008      1           3          4    628.0         620    804.0   \n",
       "3  2008      1           3          4   1829.0        1755   1959.0   \n",
       "4  2008      1           3          4   1940.0        1915   2121.0   \n",
       "\n",
       "   CRSArrTime UniqueCarrier  FlightNum  ... TaxiIn  TaxiOut  Cancelled  \\\n",
       "0        2225            WN        335  ...    4.0      8.0          0   \n",
       "1        1000            WN       3231  ...    5.0     10.0          0   \n",
       "2         750            WN        448  ...    3.0     17.0          0   \n",
       "3        1925            WN       3920  ...    3.0     10.0          0   \n",
       "4        2110            WN        378  ...    4.0     10.0          0   \n",
       "\n",
       "   CancellationCode  Diverted  CarrierDelay WeatherDelay NASDelay  \\\n",
       "0                 N         0           0.0          0.0      0.0   \n",
       "1                 N         0           0.0          0.0      0.0   \n",
       "2                 N         0           0.0          0.0      0.0   \n",
       "3                 N         0           2.0          0.0      0.0   \n",
       "4                 N         0           0.0          0.0      0.0   \n",
       "\n",
       "   SecurityDelay  LateAircraftDelay  \n",
       "0            0.0                0.0  \n",
       "1            0.0                0.0  \n",
       "2            0.0                0.0  \n",
       "3            0.0               32.0  \n",
       "4            0.0                0.0  \n",
       "\n",
       "[5 rows x 29 columns]"
      ]
     },
     "execution_count": 3,
     "metadata": {},
     "output_type": "execute_result"
    }
   ],
   "source": [
    "df = df.drop(columns=['Unnamed: 0','Unnamed: 0.1' ])\n",
    "df.head()"
   ]
  },
  {
   "cell_type": "code",
   "execution_count": 4,
   "id": "5279e171",
   "metadata": {
    "ExecuteTime": {
     "end_time": "2021-07-20T14:52:03.037292Z",
     "start_time": "2021-07-20T14:52:02.962336Z"
    },
    "run_control": {
     "marked": false
    }
   },
   "outputs": [
    {
     "data": {
      "text/plain": [
       "array([ -14.,    2.,   14., ...,  880., 1279.,  991.])"
      ]
     },
     "execution_count": 4,
     "metadata": {},
     "output_type": "execute_result"
    }
   ],
   "source": [
    "df.ArrDelay.unique()"
   ]
  },
  {
   "cell_type": "code",
   "execution_count": 5,
   "id": "753a6c21",
   "metadata": {
    "ExecuteTime": {
     "end_time": "2021-07-20T14:52:03.149622Z",
     "start_time": "2021-07-20T14:52:03.041685Z"
    },
    "run_control": {
     "marked": false
    }
   },
   "outputs": [
    {
     "data": {
      "text/plain": [
       "array([0, 1])"
      ]
     },
     "execution_count": 5,
     "metadata": {},
     "output_type": "execute_result"
    }
   ],
   "source": [
    "conditions = [(df['ArrDelay']> 0),(df['ArrDelay']<= 0) ]\n",
    "values = [1, 0]\n",
    "df['ArrDelay2'] = np.select(conditions, values)\n",
    "\n",
    "df.ArrDelay2.unique()"
   ]
  },
  {
   "cell_type": "code",
   "execution_count": 6,
   "id": "044c28b5",
   "metadata": {
    "ExecuteTime": {
     "end_time": "2021-07-20T14:52:03.179605Z",
     "start_time": "2021-07-20T14:52:03.152620Z"
    },
    "run_control": {
     "marked": false
    }
   },
   "outputs": [],
   "source": [
    "conditions = [(df['DepDelay']> 0),(df['DepDelay']<= 0) ]\n",
    "values = [1, 0]\n",
    "df['DepDelay2'] = np.select(conditions, values)"
   ]
  },
  {
   "cell_type": "code",
   "execution_count": 7,
   "id": "1f3afdf4",
   "metadata": {
    "ExecuteTime": {
     "end_time": "2021-07-20T14:52:03.772294Z",
     "start_time": "2021-07-20T14:52:03.183603Z"
    },
    "run_control": {
     "marked": false
    }
   },
   "outputs": [],
   "source": [
    "df['CarrierFzd'] = pd.factorize(df['UniqueCarrier'])[0]\n",
    "df['OriginFzd'] = pd.factorize(df['Origin'])[0]\n",
    "df['DestFzd'] = pd.factorize(df['Dest'])[0]"
   ]
  },
  {
   "cell_type": "code",
   "execution_count": 8,
   "id": "2b2bc583",
   "metadata": {
    "ExecuteTime": {
     "end_time": "2021-07-20T14:52:04.084627Z",
     "start_time": "2021-07-20T14:52:03.777295Z"
    },
    "run_control": {
     "marked": false
    }
   },
   "outputs": [],
   "source": [
    "df['TailNumFzd'] = pd.factorize(df['TailNum'])[0]"
   ]
  },
  {
   "cell_type": "code",
   "execution_count": 9,
   "id": "615a91cc",
   "metadata": {
    "ExecuteTime": {
     "end_time": "2021-07-20T14:52:04.156588Z",
     "start_time": "2021-07-20T14:52:04.088627Z"
    },
    "run_control": {
     "marked": false
    }
   },
   "outputs": [
    {
     "data": {
      "text/plain": [
       "array([   0,    1,    2, ..., 5364, 5365, 5366], dtype=int64)"
      ]
     },
     "execution_count": 9,
     "metadata": {},
     "output_type": "execute_result"
    }
   ],
   "source": [
    "df.TailNumFzd.unique()"
   ]
  },
  {
   "cell_type": "markdown",
   "id": "68a5f0a7",
   "metadata": {},
   "source": [
    "# Selecció de variable objectiu i característiques"
   ]
  },
  {
   "cell_type": "code",
   "execution_count": 10,
   "id": "eff46a1f",
   "metadata": {
    "ExecuteTime": {
     "end_time": "2021-07-20T14:52:16.688532Z",
     "start_time": "2021-07-20T14:52:16.173315Z"
    },
    "run_control": {
     "marked": false
    }
   },
   "outputs": [],
   "source": [
    "feature_cols = ['CarrierFzd', 'FlightNum', 'TailNumFzd','ActualElapsedTime', 'CRSElapsedTime', 'AirTime', 'DepDelay2',\n",
    "                'OriginFzd', 'DestFzd','Distance','Cancelled', 'Diverted', 'CarrierDelay','WeatherDelay', 'LateAircraftDelay']\n",
    "\n",
    "X = df[feature_cols]\n",
    "X = np.array(X)\n",
    "y = df.ArrDelay2"
   ]
  },
  {
   "cell_type": "markdown",
   "id": "faf8339d",
   "metadata": {},
   "source": [
    "# Dividir les dades `train-test-split`"
   ]
  },
  {
   "cell_type": "code",
   "execution_count": 14,
   "id": "22f395bb",
   "metadata": {
    "ExecuteTime": {
     "end_time": "2021-07-20T14:53:36.735774Z",
     "start_time": "2021-07-20T14:53:35.938194Z"
    },
    "run_control": {
     "marked": false
    }
   },
   "outputs": [],
   "source": [
    "from sklearn.model_selection import train_test_split\n",
    "X_train,X_test,y_train,y_test=train_test_split(X,y,test_size=0.02,random_state=42)"
   ]
  },
  {
   "cell_type": "code",
   "execution_count": 15,
   "id": "45ceecef",
   "metadata": {
    "ExecuteTime": {
     "end_time": "2021-07-20T14:53:38.007353Z",
     "start_time": "2021-07-20T14:53:37.997358Z"
    },
    "run_control": {
     "marked": false
    }
   },
   "outputs": [
    {
     "name": "stdout",
     "output_type": "stream",
     "text": [
      "Variables caracteristiques, Train:  (1898022, 15)\n",
      "Variables caracteristiques, Test:  (38736, 15)\n",
      "Variable objectiu, Train:  (1898022,)\n",
      "Variables objectiu, Test:  (38736,)\n"
     ]
    }
   ],
   "source": [
    "print( 'Variables caracteristiques, Train: ', X_train.shape )\n",
    "print( 'Variables caracteristiques, Test: ', X_test.shape )\n",
    "print( 'Variable objectiu, Train: ', y_train.shape )\n",
    "print( 'Variables objectiu, Test: ', y_test.shape )"
   ]
  },
  {
   "cell_type": "markdown",
   "id": "6baecc9e",
   "metadata": {},
   "source": [
    "# Preprocessing\n",
    "## Standardization\n",
    "\n",
    "### `StandardScaler` + `LogisticRegression`"
   ]
  },
  {
   "cell_type": "code",
   "execution_count": 12,
   "id": "5aece467",
   "metadata": {
    "ExecuteTime": {
     "end_time": "2021-07-20T14:53:20.660274Z",
     "start_time": "2021-07-20T14:53:19.357731Z"
    },
    "run_control": {
     "marked": false
    }
   },
   "outputs": [],
   "source": [
    "from sklearn.datasets import make_classification\n",
    "from sklearn.linear_model import LogisticRegression\n",
    "from sklearn.pipeline import make_pipeline\n",
    "from sklearn.preprocessing import StandardScaler"
   ]
  },
  {
   "cell_type": "code",
   "execution_count": 16,
   "id": "ce2c5839",
   "metadata": {
    "ExecuteTime": {
     "end_time": "2021-07-20T14:54:12.073117Z",
     "start_time": "2021-07-20T14:53:44.414785Z"
    },
    "run_control": {
     "marked": false
    }
   },
   "outputs": [
    {
     "data": {
      "text/plain": [
       "Pipeline(steps=[('standardscaler', StandardScaler()),\n",
       "                ('logisticregression',\n",
       "                 LogisticRegression(random_state=42, solver='liblinear'))])"
      ]
     },
     "execution_count": 16,
     "metadata": {},
     "output_type": "execute_result"
    }
   ],
   "source": [
    "pipe= make_pipeline(StandardScaler(), LogisticRegression(random_state=42, solver='liblinear',fit_intercept=True, max_iter=100))\n",
    "pipe.fit(X_train, y_train)"
   ]
  },
  {
   "cell_type": "code",
   "execution_count": 17,
   "id": "cd423432",
   "metadata": {
    "ExecuteTime": {
     "end_time": "2021-07-20T14:54:14.944913Z",
     "start_time": "2021-07-20T14:54:14.909930Z"
    },
    "run_control": {
     "marked": false
    }
   },
   "outputs": [
    {
     "data": {
      "text/plain": [
       "0.918577034283354"
      ]
     },
     "execution_count": 17,
     "metadata": {},
     "output_type": "execute_result"
    }
   ],
   "source": [
    "pipe.score(X_test, y_test) "
   ]
  },
  {
   "cell_type": "code",
   "execution_count": 18,
   "id": "6c5646be",
   "metadata": {
    "ExecuteTime": {
     "end_time": "2021-07-20T14:54:15.799893Z",
     "start_time": "2021-07-20T14:54:15.727932Z"
    },
    "run_control": {
     "marked": false
    }
   },
   "outputs": [],
   "source": [
    "from sklearn import metrics\n",
    "\n",
    "y_pred=pipe.predict(X_test)\n",
    "\n",
    "cnf_matrix_lorgreg = metrics.confusion_matrix(y_test, y_pred)"
   ]
  },
  {
   "cell_type": "code",
   "execution_count": 19,
   "id": "0d88fb86",
   "metadata": {
    "ExecuteTime": {
     "end_time": "2021-07-20T14:54:16.582934Z",
     "start_time": "2021-07-20T14:54:16.576940Z"
    },
    "run_control": {
     "marked": false
    }
   },
   "outputs": [
    {
     "data": {
      "text/plain": [
       "array([[ 1885,  2279],\n",
       "       [  875, 33697]], dtype=int64)"
      ]
     },
     "execution_count": 19,
     "metadata": {},
     "output_type": "execute_result"
    }
   ],
   "source": [
    "cnf_matrix_lorgreg"
   ]
  },
  {
   "cell_type": "markdown",
   "id": "b1fb6dc1",
   "metadata": {},
   "source": [
    "### Scaling features to a range `MinMaxScaler`"
   ]
  },
  {
   "cell_type": "code",
   "execution_count": 20,
   "id": "cf2882ab",
   "metadata": {
    "ExecuteTime": {
     "end_time": "2021-07-20T14:54:40.996289Z",
     "start_time": "2021-07-20T14:54:40.991290Z"
    },
    "run_control": {
     "marked": false
    }
   },
   "outputs": [],
   "source": [
    "from sklearn.preprocessing import MinMaxScaler\n",
    "from sklearn.preprocessing import MaxAbsScaler"
   ]
  },
  {
   "cell_type": "code",
   "execution_count": 21,
   "id": "db91bcc0",
   "metadata": {
    "ExecuteTime": {
     "end_time": "2021-07-20T14:54:43.513138Z",
     "start_time": "2021-07-20T14:54:43.069309Z"
    },
    "run_control": {
     "marked": false
    }
   },
   "outputs": [],
   "source": [
    "min_max_scaler = MinMaxScaler()\n",
    "X_train_minmax =min_max_scaler.fit_transform(X_train)\n",
    "X_test_minmax = min_max_scaler.fit_transform(X_test)"
   ]
  },
  {
   "cell_type": "markdown",
   "id": "4b6bf2c7",
   "metadata": {},
   "source": [
    "#### MinmaxScaler LogisticRegression"
   ]
  },
  {
   "cell_type": "code",
   "execution_count": 23,
   "id": "99e4b408",
   "metadata": {
    "ExecuteTime": {
     "end_time": "2021-07-20T14:55:35.298753Z",
     "start_time": "2021-07-20T14:55:14.448532Z"
    },
    "run_control": {
     "marked": false
    },
    "scrolled": false
   },
   "outputs": [
    {
     "data": {
      "text/plain": [
       "LogisticRegression(random_state=42, solver='liblinear')"
      ]
     },
     "execution_count": 23,
     "metadata": {},
     "output_type": "execute_result"
    }
   ],
   "source": [
    "logreg_minmax = LogisticRegression(random_state=42, solver='liblinear',fit_intercept=True, max_iter=100)\n",
    "logreg_minmax.fit(X_train_minmax, y_train)\n"
   ]
  },
  {
   "cell_type": "code",
   "execution_count": 24,
   "id": "0da25eed",
   "metadata": {
    "ExecuteTime": {
     "end_time": "2021-07-20T14:55:38.561672Z",
     "start_time": "2021-07-20T14:55:38.494708Z"
    },
    "run_control": {
     "marked": false
    }
   },
   "outputs": [],
   "source": [
    "y_pred= logreg_minmax.predict(X_test_minmax)\n",
    "\n",
    "cnf_matrix_logreg_minmax = metrics.confusion_matrix(y_test, y_pred)"
   ]
  },
  {
   "cell_type": "code",
   "execution_count": 25,
   "id": "7b5520c4",
   "metadata": {
    "ExecuteTime": {
     "end_time": "2021-07-20T14:55:39.732325Z",
     "start_time": "2021-07-20T14:55:39.725330Z"
    },
    "run_control": {
     "marked": false
    }
   },
   "outputs": [
    {
     "data": {
      "text/plain": [
       "array([[  155,  4009],\n",
       "       [    0, 34572]], dtype=int64)"
      ]
     },
     "execution_count": 25,
     "metadata": {},
     "output_type": "execute_result"
    }
   ],
   "source": [
    "cnf_matrix_logreg_minmax"
   ]
  },
  {
   "cell_type": "code",
   "execution_count": 66,
   "id": "873a44fa",
   "metadata": {
    "ExecuteTime": {
     "end_time": "2021-07-17T17:25:17.578111Z",
     "start_time": "2021-07-17T17:25:17.516154Z"
    },
    "run_control": {
     "marked": false
    }
   },
   "outputs": [
    {
     "name": "stdout",
     "output_type": "stream",
     "text": [
      "Accuracy: 0.8965045435770342\n",
      "Precision: 0.8960887483476323\n",
      "Recall: 1.0\n"
     ]
    }
   ],
   "source": [
    "print(\"Accuracy:\",metrics.accuracy_score(y_test, y_pred))\n",
    "print(\"Precision:\",metrics.precision_score(y_test, y_pred))\n",
    "print(\"Recall:\",metrics.recall_score(y_test, y_pred))"
   ]
  },
  {
   "cell_type": "markdown",
   "id": "d46dcc5b",
   "metadata": {},
   "source": [
    "### Scaling features to a range `MaxAbsScaler`"
   ]
  },
  {
   "cell_type": "code",
   "execution_count": 26,
   "id": "ca17cf2f",
   "metadata": {
    "ExecuteTime": {
     "end_time": "2021-07-20T14:56:05.250062Z",
     "start_time": "2021-07-20T14:56:04.813777Z"
    },
    "run_control": {
     "marked": false
    }
   },
   "outputs": [],
   "source": [
    "max_abs_scaler = MaxAbsScaler()\n",
    "X_train_maxabs = max_abs_scaler.fit_transform(X_train)\n",
    "X_test_maxabs = max_abs_scaler.transform(X_test)"
   ]
  },
  {
   "cell_type": "markdown",
   "id": "de0ebfba",
   "metadata": {
    "ExecuteTime": {
     "end_time": "2021-07-17T16:10:03.563518Z",
     "start_time": "2021-07-17T16:10:03.540529Z"
    }
   },
   "source": [
    "#### `MaxAbsScaler` & `LogisticRegression`\n"
   ]
  },
  {
   "cell_type": "code",
   "execution_count": 27,
   "id": "50a9dd1b",
   "metadata": {
    "ExecuteTime": {
     "end_time": "2021-07-20T14:56:27.785683Z",
     "start_time": "2021-07-20T14:56:08.846794Z"
    },
    "run_control": {
     "marked": false
    }
   },
   "outputs": [
    {
     "data": {
      "text/plain": [
       "LogisticRegression(random_state=42, solver='liblinear')"
      ]
     },
     "execution_count": 27,
     "metadata": {},
     "output_type": "execute_result"
    }
   ],
   "source": [
    "logreg_MaxAbs = LogisticRegression(random_state=42, solver='liblinear',fit_intercept=True, max_iter=100)\n",
    "logreg_MaxAbs.fit(X_train_maxabs, y_train)"
   ]
  },
  {
   "cell_type": "code",
   "execution_count": 28,
   "id": "a3cd4379",
   "metadata": {
    "ExecuteTime": {
     "end_time": "2021-07-20T14:56:29.816195Z",
     "start_time": "2021-07-20T14:56:29.741236Z"
    },
    "run_control": {
     "marked": false
    }
   },
   "outputs": [
    {
     "data": {
      "text/plain": [
       "array([[ 1317,  2847],\n",
       "       [  543, 34029]], dtype=int64)"
      ]
     },
     "execution_count": 28,
     "metadata": {},
     "output_type": "execute_result"
    }
   ],
   "source": [
    "y_pred= logreg_MaxAbs.predict(X_test_maxabs)\n",
    "\n",
    "cnf_matrix_logreg_MaxAbs = metrics.confusion_matrix(y_test, y_pred)\n",
    "\n",
    "cnf_matrix_logreg_MaxAbs"
   ]
  },
  {
   "cell_type": "code",
   "execution_count": 72,
   "id": "13aa2def",
   "metadata": {
    "ExecuteTime": {
     "end_time": "2021-07-17T17:32:41.693331Z",
     "start_time": "2021-07-17T17:32:41.630367Z"
    },
    "run_control": {
     "marked": false
    }
   },
   "outputs": [
    {
     "name": "stdout",
     "output_type": "stream",
     "text": [
      "Accuracy: 0.9127942998760843\n",
      "Precision: 0.9227058377147813\n",
      "Recall: 0.9847853754483397\n"
     ]
    }
   ],
   "source": [
    "print(\"Accuracy:\",metrics.accuracy_score(y_test, y_pred))\n",
    "print(\"Precision:\",metrics.precision_score(y_test, y_pred))\n",
    "print(\"Recall:\",metrics.recall_score(y_test, y_pred))"
   ]
  },
  {
   "cell_type": "markdown",
   "id": "6d46cb8a",
   "metadata": {},
   "source": [
    "### Scaling data with outliers"
   ]
  },
  {
   "cell_type": "code",
   "execution_count": 29,
   "id": "42432325",
   "metadata": {
    "ExecuteTime": {
     "end_time": "2021-07-20T14:56:47.843465Z",
     "start_time": "2021-07-20T14:56:47.837466Z"
    },
    "run_control": {
     "marked": false
    }
   },
   "outputs": [],
   "source": [
    "from sklearn.preprocessing import RobustScaler \n"
   ]
  },
  {
   "cell_type": "code",
   "execution_count": 30,
   "id": "1022684a",
   "metadata": {
    "ExecuteTime": {
     "end_time": "2021-07-20T14:56:50.853891Z",
     "start_time": "2021-07-20T14:56:48.815451Z"
    },
    "run_control": {
     "marked": false
    }
   },
   "outputs": [],
   "source": [
    "robust_scaler = RobustScaler()\n",
    "X_train_robust = robust_scaler.fit_transform(X_train)"
   ]
  },
  {
   "cell_type": "markdown",
   "id": "011a15a1",
   "metadata": {},
   "source": [
    "#### `RobustScaler` & `LogisticRegression`"
   ]
  },
  {
   "cell_type": "code",
   "execution_count": 31,
   "id": "1bd81bec",
   "metadata": {
    "ExecuteTime": {
     "end_time": "2021-07-20T14:57:15.127024Z",
     "start_time": "2021-07-20T14:56:56.383476Z"
    },
    "run_control": {
     "marked": false
    },
    "scrolled": false
   },
   "outputs": [
    {
     "data": {
      "text/plain": [
       "LogisticRegression(random_state=42, solver='liblinear')"
      ]
     },
     "execution_count": 31,
     "metadata": {},
     "output_type": "execute_result"
    }
   ],
   "source": [
    "logreg2= LogisticRegression(random_state=42, solver='liblinear',fit_intercept=True, max_iter=100)\n",
    "logreg2.fit(X_train_robust, y_train)"
   ]
  },
  {
   "cell_type": "code",
   "execution_count": 32,
   "id": "05d4a400",
   "metadata": {
    "ExecuteTime": {
     "end_time": "2021-07-20T14:57:19.166194Z",
     "start_time": "2021-07-20T14:57:19.102234Z"
    },
    "run_control": {
     "marked": false
    }
   },
   "outputs": [],
   "source": [
    "X_test_robust = robust_scaler.fit_transform(X_test)\n",
    "\n",
    "y_pred_robust = logreg2.predict(X_test_robust)"
   ]
  },
  {
   "cell_type": "code",
   "execution_count": 33,
   "id": "cc0d7237",
   "metadata": {
    "ExecuteTime": {
     "end_time": "2021-07-20T14:57:21.438666Z",
     "start_time": "2021-07-20T14:57:21.422673Z"
    },
    "run_control": {
     "marked": false
    }
   },
   "outputs": [
    {
     "data": {
      "text/plain": [
       "0.918138166047088"
      ]
     },
     "execution_count": 33,
     "metadata": {},
     "output_type": "execute_result"
    }
   ],
   "source": [
    "logreg2.score(X_test_robust, y_test)"
   ]
  },
  {
   "cell_type": "code",
   "execution_count": 34,
   "id": "3c0f601b",
   "metadata": {
    "ExecuteTime": {
     "end_time": "2021-07-20T14:57:22.970032Z",
     "start_time": "2021-07-20T14:57:22.911069Z"
    },
    "run_control": {
     "marked": false
    }
   },
   "outputs": [
    {
     "data": {
      "text/plain": [
       "array([[ 1820,  2344],\n",
       "       [  827, 33745]], dtype=int64)"
      ]
     },
     "execution_count": 34,
     "metadata": {},
     "output_type": "execute_result"
    }
   ],
   "source": [
    "cnf_matrix_RS = metrics.confusion_matrix(y_test, y_pred_robust)\n",
    "cnf_matrix_RS"
   ]
  },
  {
   "cell_type": "code",
   "execution_count": 80,
   "id": "69f15466",
   "metadata": {
    "ExecuteTime": {
     "end_time": "2021-07-17T17:40:48.079972Z",
     "start_time": "2021-07-17T17:40:48.028977Z"
    },
    "run_control": {
     "marked": false
    }
   },
   "outputs": [
    {
     "name": "stdout",
     "output_type": "stream",
     "text": [
      "Accuracy: 0.918138166047088\n",
      "Precision: 0.9349530431891847\n",
      "Recall: 0.976194608353581\n"
     ]
    }
   ],
   "source": [
    "print(\"Accuracy:\",metrics.accuracy_score(y_test, y_pred_robust))\n",
    "print(\"Precision:\",metrics.precision_score(y_test, y_pred_robust))\n",
    "print(\"Recall:\",metrics.recall_score(y_test, y_pred_robust))"
   ]
  },
  {
   "cell_type": "markdown",
   "id": "95038e6d",
   "metadata": {},
   "source": [
    "## Non-linear transformation  "
   ]
  },
  {
   "cell_type": "markdown",
   "id": "65ff3a7b",
   "metadata": {},
   "source": [
    "### Mapping to a Uniform distribution `QuantileTransformer`\n",
    "QuantileTransformer provides a non-parametric transformation to map the data to a uniform distribution with values between 0 and 1:"
   ]
  },
  {
   "cell_type": "code",
   "execution_count": 35,
   "id": "9927aabe",
   "metadata": {
    "ExecuteTime": {
     "end_time": "2021-07-20T14:58:00.194545Z",
     "start_time": "2021-07-20T14:57:53.056326Z"
    },
    "run_control": {
     "marked": false
    }
   },
   "outputs": [],
   "source": [
    "from sklearn.preprocessing import QuantileTransformer\n",
    "\n",
    "quantile_transformer = QuantileTransformer(random_state=42)\n",
    "\n",
    "X_train_trans = quantile_transformer.fit_transform(X_train)\n",
    "X_test_trans = quantile_transformer.transform(X_test)"
   ]
  },
  {
   "cell_type": "code",
   "execution_count": 36,
   "id": "ad695b6e",
   "metadata": {
    "ExecuteTime": {
     "end_time": "2021-07-20T14:58:11.900211Z",
     "start_time": "2021-07-20T14:58:01.423456Z"
    },
    "run_control": {
     "marked": false
    }
   },
   "outputs": [
    {
     "data": {
      "text/plain": [
       "0.9092575382073523"
      ]
     },
     "execution_count": 36,
     "metadata": {},
     "output_type": "execute_result"
    }
   ],
   "source": [
    "logreg_trans= LogisticRegression(random_state=42, solver='liblinear',fit_intercept=True, max_iter=100)\n",
    "logreg_trans.fit(X_train_trans, y_train)\n",
    "\n",
    "y_pred_trans = logreg_trans.predict(X_test_trans)\n",
    "logreg_trans.score(X_test_trans, y_test)"
   ]
  },
  {
   "cell_type": "code",
   "execution_count": 37,
   "id": "b13adecc",
   "metadata": {
    "ExecuteTime": {
     "end_time": "2021-07-20T14:58:14.613913Z",
     "start_time": "2021-07-20T14:58:14.558964Z"
    },
    "run_control": {
     "marked": false
    }
   },
   "outputs": [
    {
     "data": {
      "text/plain": [
       "array([[ 1480,  2684],\n",
       "       [  831, 33741]], dtype=int64)"
      ]
     },
     "execution_count": 37,
     "metadata": {},
     "output_type": "execute_result"
    }
   ],
   "source": [
    "cnf_matrix_trans = metrics.confusion_matrix(y_test, y_pred_trans)\n",
    "cnf_matrix_trans"
   ]
  },
  {
   "cell_type": "code",
   "execution_count": 38,
   "id": "ebd09ce2",
   "metadata": {
    "ExecuteTime": {
     "end_time": "2021-07-20T14:58:19.678482Z",
     "start_time": "2021-07-20T14:58:19.630510Z"
    },
    "run_control": {
     "marked": false
    }
   },
   "outputs": [
    {
     "name": "stdout",
     "output_type": "stream",
     "text": [
      "Accuracy: 0.9092575382073523\n",
      "Precision: 0.9263143445435827\n",
      "Recall: 0.9759632072197154\n"
     ]
    }
   ],
   "source": [
    "print(\"Accuracy:\",metrics.accuracy_score(y_test, y_pred_trans))\n",
    "print(\"Precision:\",metrics.precision_score(y_test, y_pred_trans))\n",
    "print(\"Recall:\",metrics.recall_score(y_test, y_pred_trans))"
   ]
  },
  {
   "cell_type": "markdown",
   "id": "96f4e9da",
   "metadata": {},
   "source": [
    "### Mapping to a Uniform distribution `QuantileTransformer_Normal`"
   ]
  },
  {
   "cell_type": "code",
   "execution_count": 39,
   "id": "a1191a6e",
   "metadata": {
    "ExecuteTime": {
     "end_time": "2021-07-20T14:58:46.971366Z",
     "start_time": "2021-07-20T14:58:39.807171Z"
    },
    "run_control": {
     "marked": false
    }
   },
   "outputs": [],
   "source": [
    "quantile_transformer_normal = QuantileTransformer(random_state=42, output_distribution='normal')\n",
    "\n",
    "X_train_trans_norm = quantile_transformer.fit_transform(X_train)\n",
    "X_test_trans_norm = quantile_transformer.transform(X_test)"
   ]
  },
  {
   "cell_type": "markdown",
   "id": "febe313a",
   "metadata": {},
   "source": [
    "#### QuantileTransformer_Normal & LogisticRegression"
   ]
  },
  {
   "cell_type": "code",
   "execution_count": 40,
   "id": "0980140b",
   "metadata": {
    "ExecuteTime": {
     "end_time": "2021-07-20T14:59:02.094732Z",
     "start_time": "2021-07-20T14:58:51.583773Z"
    },
    "run_control": {
     "marked": false
    }
   },
   "outputs": [
    {
     "data": {
      "text/plain": [
       "0.9092575382073523"
      ]
     },
     "execution_count": 40,
     "metadata": {},
     "output_type": "execute_result"
    }
   ],
   "source": [
    "logreg_trans_norm= LogisticRegression(random_state=42, solver='liblinear',fit_intercept=True, max_iter=100)\n",
    "logreg_trans_norm.fit(X_train_trans_norm, y_train)\n",
    "\n",
    "y_pred_transNorm = logreg_trans_norm.predict(X_test_trans_norm)\n",
    "logreg_trans_norm.score(X_test_trans_norm, y_test)"
   ]
  },
  {
   "cell_type": "code",
   "execution_count": 41,
   "id": "68cf5fb7",
   "metadata": {
    "ExecuteTime": {
     "end_time": "2021-07-20T14:59:04.258723Z",
     "start_time": "2021-07-20T14:59:04.206752Z"
    },
    "run_control": {
     "marked": false
    }
   },
   "outputs": [
    {
     "data": {
      "text/plain": [
       "array([[ 1480,  2684],\n",
       "       [  831, 33741]], dtype=int64)"
      ]
     },
     "execution_count": 41,
     "metadata": {},
     "output_type": "execute_result"
    }
   ],
   "source": [
    "cnf_matrix_transNorm = metrics.confusion_matrix(y_test, y_pred_transNorm)\n",
    "cnf_matrix_transNorm"
   ]
  },
  {
   "cell_type": "code",
   "execution_count": 42,
   "id": "24665e06",
   "metadata": {
    "ExecuteTime": {
     "end_time": "2021-07-20T14:59:11.622303Z",
     "start_time": "2021-07-20T14:59:11.581327Z"
    },
    "run_control": {
     "marked": false
    }
   },
   "outputs": [
    {
     "name": "stdout",
     "output_type": "stream",
     "text": [
      "Accuracy: 0.9092575382073523\n",
      "Precision: 0.9263143445435827\n",
      "Recall: 0.9759632072197154\n"
     ]
    }
   ],
   "source": [
    "print(\"Accuracy:\",metrics.accuracy_score(y_test, y_pred_transNorm))\n",
    "print(\"Precision:\",metrics.precision_score(y_test, y_pred_transNorm))\n",
    "print(\"Recall:\",metrics.recall_score(y_test, y_pred_transNorm))"
   ]
  }
 ],
 "metadata": {
  "hide_input": false,
  "kernelspec": {
   "display_name": "Python 3",
   "language": "python",
   "name": "python3"
  },
  "language_info": {
   "codemirror_mode": {
    "name": "ipython",
    "version": 3
   },
   "file_extension": ".py",
   "mimetype": "text/x-python",
   "name": "python",
   "nbconvert_exporter": "python",
   "pygments_lexer": "ipython3",
   "version": "3.8.8"
  },
  "toc": {
   "base_numbering": 1,
   "nav_menu": {},
   "number_sections": true,
   "sideBar": true,
   "skip_h1_title": false,
   "title_cell": "Table of Contents",
   "title_sidebar": "Contents",
   "toc_cell": true,
   "toc_position": {
    "height": "calc(100% - 180px)",
    "left": "10px",
    "top": "150px",
    "width": "384px"
   },
   "toc_section_display": true,
   "toc_window_display": false
  }
 },
 "nbformat": 4,
 "nbformat_minor": 5
}
