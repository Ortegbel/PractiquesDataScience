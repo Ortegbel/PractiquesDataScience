{
 "cells": [
  {
   "cell_type": "markdown",
   "id": "82afa677",
   "metadata": {},
   "source": [
    "<font size=\"6\">**S13 T01: Aprenentage Supervisat**</font>"
   ]
  },
  {
   "cell_type": "markdown",
   "id": "a53c46d6",
   "metadata": {
    "toc": true
   },
   "source": [
    "<h1>Table of Contents<span class=\"tocSkip\"></span></h1>\n",
    "<div class=\"toc\"><ul class=\"toc-item\"><li><span><a href=\"#Enunciats\" data-toc-modified-id=\"Enunciats-1\"><span class=\"toc-item-num\">1&nbsp;&nbsp;</span>Enunciats</a></span></li><li><span><a href=\"#Dades\" data-toc-modified-id=\"Dades-2\"><span class=\"toc-item-num\">2&nbsp;&nbsp;</span>Dades</a></span><ul class=\"toc-item\"><li><span><a href=\"#Importació-i-Preparació-de-Dades\" data-toc-modified-id=\"Importació-i-Preparació-de-Dades-2.1\"><span class=\"toc-item-num\">2.1&nbsp;&nbsp;</span>Importació i Preparació de Dades</a></span></li><li><span><a href=\"#Selecció-de-variable-objectiu-i-característiques\" data-toc-modified-id=\"Selecció-de-variable-objectiu-i-característiques-2.2\"><span class=\"toc-item-num\">2.2&nbsp;&nbsp;</span>Selecció de variable objectiu i característiques</a></span></li><li><span><a href=\"#Comprobació-:-és-un-Dataset-equillibrat?\" data-toc-modified-id=\"Comprobació-:-és-un-Dataset-equillibrat?-2.3\"><span class=\"toc-item-num\">2.3&nbsp;&nbsp;</span>Comprobació : és un Dataset equillibrat?</a></span></li></ul></li><li><span><a href=\"#Sampling\" data-toc-modified-id=\"Sampling-3\"><span class=\"toc-item-num\">3&nbsp;&nbsp;</span>Sampling</a></span><ul class=\"toc-item\"><li><span><a href=\"#OverSampling:-SMOTE\" data-toc-modified-id=\"OverSampling:-SMOTE-3.1\"><span class=\"toc-item-num\">3.1&nbsp;&nbsp;</span>OverSampling: SMOTE</a></span></li><li><span><a href=\"#UnderSampling:-TomekLinks\" data-toc-modified-id=\"UnderSampling:-TomekLinks-3.2\"><span class=\"toc-item-num\">3.2&nbsp;&nbsp;</span>UnderSampling: TomekLinks</a></span></li></ul></li><li><span><a href=\"#Model-1-LogisticRegression\" data-toc-modified-id=\"Model-1-LogisticRegression-4\"><span class=\"toc-item-num\">4&nbsp;&nbsp;</span>Model 1 <code>LogisticRegression</code></a></span><ul class=\"toc-item\"><li><span><a href=\"#Dividir-les-dades-train-test-split\" data-toc-modified-id=\"Dividir-les-dades-train-test-split-4.1\"><span class=\"toc-item-num\">4.1&nbsp;&nbsp;</span>Dividir les dades <code>train-test-split</code></a></span></li><li><span><a href=\"#Matriu-de-Confusió\" data-toc-modified-id=\"Matriu-de-Confusió-4.2\"><span class=\"toc-item-num\">4.2&nbsp;&nbsp;</span>Matriu de Confusió</a></span></li><li><span><a href=\"#Resultats\" data-toc-modified-id=\"Resultats-4.3\"><span class=\"toc-item-num\">4.3&nbsp;&nbsp;</span>Resultats</a></span></li><li><span><a href=\"#ROC\" data-toc-modified-id=\"ROC-4.4\"><span class=\"toc-item-num\">4.4&nbsp;&nbsp;</span>ROC</a></span></li><li><span><a href=\"#PRC\" data-toc-modified-id=\"PRC-4.5\"><span class=\"toc-item-num\">4.5&nbsp;&nbsp;</span>PRC</a></span></li><li><span><a href=\"#Cross-Validation\" data-toc-modified-id=\"Cross-Validation-4.6\"><span class=\"toc-item-num\">4.6&nbsp;&nbsp;</span>Cross Validation</a></span></li></ul></li><li><span><a href=\"#Model-1-LogisticRegression-&amp;RobustScaler\" data-toc-modified-id=\"Model-1-LogisticRegression-&amp;RobustScaler-5\"><span class=\"toc-item-num\">5&nbsp;&nbsp;</span>Model 1 <code>LogisticRegression</code> &amp;<code>RobustScaler</code></a></span><ul class=\"toc-item\"><li><span><a href=\"#Matriu-de-Confusió\" data-toc-modified-id=\"Matriu-de-Confusió-5.1\"><span class=\"toc-item-num\">5.1&nbsp;&nbsp;</span>Matriu de Confusió</a></span></li><li><span><a href=\"#Resultats\" data-toc-modified-id=\"Resultats-5.2\"><span class=\"toc-item-num\">5.2&nbsp;&nbsp;</span>Resultats</a></span></li><li><span><a href=\"#ROC\" data-toc-modified-id=\"ROC-5.3\"><span class=\"toc-item-num\">5.3&nbsp;&nbsp;</span>ROC</a></span></li><li><span><a href=\"#PRC\" data-toc-modified-id=\"PRC-5.4\"><span class=\"toc-item-num\">5.4&nbsp;&nbsp;</span>PRC</a></span></li><li><span><a href=\"#Cross-Validation\" data-toc-modified-id=\"Cross-Validation-5.5\"><span class=\"toc-item-num\">5.5&nbsp;&nbsp;</span>Cross Validation</a></span></li><li><span><a href=\"#Comparació-Resultats-Model-1\" data-toc-modified-id=\"Comparació-Resultats-Model-1-5.6\"><span class=\"toc-item-num\">5.6&nbsp;&nbsp;</span>Comparació Resultats Model 1</a></span></li></ul></li><li><span><a href=\"#Model-2-KNN\" data-toc-modified-id=\"Model-2-KNN-6\"><span class=\"toc-item-num\">6&nbsp;&nbsp;</span>Model 2 KNN</a></span><ul class=\"toc-item\"><li><span><a href=\"#train-test-split\" data-toc-modified-id=\"train-test-split-6.1\"><span class=\"toc-item-num\">6.1&nbsp;&nbsp;</span>train test split</a></span></li><li><span><a href=\"#Classifier\" data-toc-modified-id=\"Classifier-6.2\"><span class=\"toc-item-num\">6.2&nbsp;&nbsp;</span>Classifier</a></span></li><li><span><a href=\"#Matriu-de-Confusió\" data-toc-modified-id=\"Matriu-de-Confusió-6.3\"><span class=\"toc-item-num\">6.3&nbsp;&nbsp;</span>Matriu de Confusió</a></span></li><li><span><a href=\"#Resultats\" data-toc-modified-id=\"Resultats-6.4\"><span class=\"toc-item-num\">6.4&nbsp;&nbsp;</span>Resultats</a></span></li><li><span><a href=\"#ROC\" data-toc-modified-id=\"ROC-6.5\"><span class=\"toc-item-num\">6.5&nbsp;&nbsp;</span>ROC</a></span></li></ul></li><li><span><a href=\"#Model-2-KNN-RobustScaler\" data-toc-modified-id=\"Model-2-KNN-RobustScaler-7\"><span class=\"toc-item-num\">7&nbsp;&nbsp;</span>Model 2 KNN <code>RobustScaler</code></a></span><ul class=\"toc-item\"><li><span><a href=\"#Matriu-de-confusió\" data-toc-modified-id=\"Matriu-de-confusió-7.1\"><span class=\"toc-item-num\">7.1&nbsp;&nbsp;</span>Matriu de confusió</a></span></li><li><span><a href=\"#Resultats\" data-toc-modified-id=\"Resultats-7.2\"><span class=\"toc-item-num\">7.2&nbsp;&nbsp;</span>Resultats</a></span></li><li><span><a href=\"#ROC\" data-toc-modified-id=\"ROC-7.3\"><span class=\"toc-item-num\">7.3&nbsp;&nbsp;</span>ROC</a></span></li><li><span><a href=\"#Cross-Validation\" data-toc-modified-id=\"Cross-Validation-7.4\"><span class=\"toc-item-num\">7.4&nbsp;&nbsp;</span>Cross Validation</a></span></li></ul></li><li><span><a href=\"#Model-3-SVM\" data-toc-modified-id=\"Model-3-SVM-8\"><span class=\"toc-item-num\">8&nbsp;&nbsp;</span>Model 3 SVM</a></span><ul class=\"toc-item\"><li><span><a href=\"#Matriu-de-Confusió\" data-toc-modified-id=\"Matriu-de-Confusió-8.1\"><span class=\"toc-item-num\">8.1&nbsp;&nbsp;</span>Matriu de Confusió</a></span></li><li><span><a href=\"#Resultats\" data-toc-modified-id=\"Resultats-8.2\"><span class=\"toc-item-num\">8.2&nbsp;&nbsp;</span>Resultats</a></span></li><li><span><a href=\"#ROC\" data-toc-modified-id=\"ROC-8.3\"><span class=\"toc-item-num\">8.3&nbsp;&nbsp;</span>ROC</a></span></li><li><span><a href=\"#Cross-Validation\" data-toc-modified-id=\"Cross-Validation-8.4\"><span class=\"toc-item-num\">8.4&nbsp;&nbsp;</span>Cross Validation</a></span></li></ul></li><li><span><a href=\"#Model-3-SVM-RobustScaler\" data-toc-modified-id=\"Model-3-SVM-RobustScaler-9\"><span class=\"toc-item-num\">9&nbsp;&nbsp;</span>Model 3 SVM <code>RobustScaler</code></a></span><ul class=\"toc-item\"><li><span><a href=\"#Matriu-de-Confusió\" data-toc-modified-id=\"Matriu-de-Confusió-9.1\"><span class=\"toc-item-num\">9.1&nbsp;&nbsp;</span>Matriu de Confusió</a></span></li><li><span><a href=\"#Resultats\" data-toc-modified-id=\"Resultats-9.2\"><span class=\"toc-item-num\">9.2&nbsp;&nbsp;</span>Resultats</a></span></li><li><span><a href=\"#ROC\" data-toc-modified-id=\"ROC-9.3\"><span class=\"toc-item-num\">9.3&nbsp;&nbsp;</span>ROC</a></span></li><li><span><a href=\"#Cross-Validation\" data-toc-modified-id=\"Cross-Validation-9.4\"><span class=\"toc-item-num\">9.4&nbsp;&nbsp;</span>Cross Validation</a></span></li></ul></li></ul></div>"
   ]
  },
  {
   "cell_type": "markdown",
   "id": "285f162b",
   "metadata": {},
   "source": [
    "# Enunciats\n",
    "**Nivell 1**\n",
    "\n",
    "- Exercici 1 Crea almenys tres models de classificació diferents per intentar predir el millor possible l’endarreriment dels vols (ArrDelay) de DelayedFlights.csv. Considera si el vol ha arribat tard o no (ArrDelay > 0).  \n",
    "\n",
    "- Exercici 2 Compara els models de classificació utilitzant la precisió (accuracy), una matriu de confiança i d’altres mètriques més avançades.  \n",
    "\n",
    "- Exercici 3 Entrena’ls utilitzant els diferents paràmetres que admeten.\n",
    "\n",
    "- Exercici 4 Compara el seu rendiment utilitzant l’aproximació traint/test o cross-validation.\n",
    "\n",
    "**Nivell 2**\n",
    "\n",
    "- Exercici 5 Realitza algun procés d’enginyeria de variables per millorar-ne la predicció \n",
    "\n",
    "**Nivell 3**\n",
    "\n",
    "- Exercici 6 No utilitzis la variable `DepDelay` a l’hora de fer prediccions"
   ]
  },
  {
   "cell_type": "markdown",
   "id": "04b4aa9f",
   "metadata": {},
   "source": [
    "# Dades"
   ]
  },
  {
   "cell_type": "markdown",
   "id": "a4238e06",
   "metadata": {},
   "source": [
    "## Importació i Preparació de Dades"
   ]
  },
  {
   "cell_type": "code",
   "execution_count": 1,
   "id": "7b472b2e",
   "metadata": {
    "ExecuteTime": {
     "end_time": "2021-07-20T17:12:11.808788Z",
     "start_time": "2021-07-20T17:11:53.580309Z"
    },
    "run_control": {
     "marked": false
    }
   },
   "outputs": [
    {
     "data": {
      "text/html": [
       "<div>\n",
       "<style scoped>\n",
       "    .dataframe tbody tr th:only-of-type {\n",
       "        vertical-align: middle;\n",
       "    }\n",
       "\n",
       "    .dataframe tbody tr th {\n",
       "        vertical-align: top;\n",
       "    }\n",
       "\n",
       "    .dataframe thead th {\n",
       "        text-align: right;\n",
       "    }\n",
       "</style>\n",
       "<table border=\"1\" class=\"dataframe\">\n",
       "  <thead>\n",
       "    <tr style=\"text-align: right;\">\n",
       "      <th></th>\n",
       "      <th>Unnamed: 0</th>\n",
       "      <th>Unnamed: 0.1</th>\n",
       "      <th>Year</th>\n",
       "      <th>Month</th>\n",
       "      <th>DayofMonth</th>\n",
       "      <th>DayOfWeek</th>\n",
       "      <th>DepTime</th>\n",
       "      <th>CRSDepTime</th>\n",
       "      <th>ArrTime</th>\n",
       "      <th>CRSArrTime</th>\n",
       "      <th>...</th>\n",
       "      <th>TaxiIn</th>\n",
       "      <th>TaxiOut</th>\n",
       "      <th>Cancelled</th>\n",
       "      <th>CancellationCode</th>\n",
       "      <th>Diverted</th>\n",
       "      <th>CarrierDelay</th>\n",
       "      <th>WeatherDelay</th>\n",
       "      <th>NASDelay</th>\n",
       "      <th>SecurityDelay</th>\n",
       "      <th>LateAircraftDelay</th>\n",
       "    </tr>\n",
       "  </thead>\n",
       "  <tbody>\n",
       "    <tr>\n",
       "      <th>0</th>\n",
       "      <td>0</td>\n",
       "      <td>0</td>\n",
       "      <td>2008</td>\n",
       "      <td>1</td>\n",
       "      <td>3</td>\n",
       "      <td>4</td>\n",
       "      <td>2003.0</td>\n",
       "      <td>1955</td>\n",
       "      <td>2211.0</td>\n",
       "      <td>2225</td>\n",
       "      <td>...</td>\n",
       "      <td>4.0</td>\n",
       "      <td>8.0</td>\n",
       "      <td>0</td>\n",
       "      <td>N</td>\n",
       "      <td>0</td>\n",
       "      <td>NaN</td>\n",
       "      <td>NaN</td>\n",
       "      <td>NaN</td>\n",
       "      <td>NaN</td>\n",
       "      <td>NaN</td>\n",
       "    </tr>\n",
       "    <tr>\n",
       "      <th>1</th>\n",
       "      <td>1</td>\n",
       "      <td>1</td>\n",
       "      <td>2008</td>\n",
       "      <td>1</td>\n",
       "      <td>3</td>\n",
       "      <td>4</td>\n",
       "      <td>754.0</td>\n",
       "      <td>735</td>\n",
       "      <td>1002.0</td>\n",
       "      <td>1000</td>\n",
       "      <td>...</td>\n",
       "      <td>5.0</td>\n",
       "      <td>10.0</td>\n",
       "      <td>0</td>\n",
       "      <td>N</td>\n",
       "      <td>0</td>\n",
       "      <td>NaN</td>\n",
       "      <td>NaN</td>\n",
       "      <td>NaN</td>\n",
       "      <td>NaN</td>\n",
       "      <td>NaN</td>\n",
       "    </tr>\n",
       "    <tr>\n",
       "      <th>2</th>\n",
       "      <td>2</td>\n",
       "      <td>2</td>\n",
       "      <td>2008</td>\n",
       "      <td>1</td>\n",
       "      <td>3</td>\n",
       "      <td>4</td>\n",
       "      <td>628.0</td>\n",
       "      <td>620</td>\n",
       "      <td>804.0</td>\n",
       "      <td>750</td>\n",
       "      <td>...</td>\n",
       "      <td>3.0</td>\n",
       "      <td>17.0</td>\n",
       "      <td>0</td>\n",
       "      <td>N</td>\n",
       "      <td>0</td>\n",
       "      <td>NaN</td>\n",
       "      <td>NaN</td>\n",
       "      <td>NaN</td>\n",
       "      <td>NaN</td>\n",
       "      <td>NaN</td>\n",
       "    </tr>\n",
       "    <tr>\n",
       "      <th>3</th>\n",
       "      <td>3</td>\n",
       "      <td>4</td>\n",
       "      <td>2008</td>\n",
       "      <td>1</td>\n",
       "      <td>3</td>\n",
       "      <td>4</td>\n",
       "      <td>1829.0</td>\n",
       "      <td>1755</td>\n",
       "      <td>1959.0</td>\n",
       "      <td>1925</td>\n",
       "      <td>...</td>\n",
       "      <td>3.0</td>\n",
       "      <td>10.0</td>\n",
       "      <td>0</td>\n",
       "      <td>N</td>\n",
       "      <td>0</td>\n",
       "      <td>2.0</td>\n",
       "      <td>0.0</td>\n",
       "      <td>0.0</td>\n",
       "      <td>0.0</td>\n",
       "      <td>32.0</td>\n",
       "    </tr>\n",
       "    <tr>\n",
       "      <th>4</th>\n",
       "      <td>4</td>\n",
       "      <td>5</td>\n",
       "      <td>2008</td>\n",
       "      <td>1</td>\n",
       "      <td>3</td>\n",
       "      <td>4</td>\n",
       "      <td>1940.0</td>\n",
       "      <td>1915</td>\n",
       "      <td>2121.0</td>\n",
       "      <td>2110</td>\n",
       "      <td>...</td>\n",
       "      <td>4.0</td>\n",
       "      <td>10.0</td>\n",
       "      <td>0</td>\n",
       "      <td>N</td>\n",
       "      <td>0</td>\n",
       "      <td>NaN</td>\n",
       "      <td>NaN</td>\n",
       "      <td>NaN</td>\n",
       "      <td>NaN</td>\n",
       "      <td>NaN</td>\n",
       "    </tr>\n",
       "  </tbody>\n",
       "</table>\n",
       "<p>5 rows × 31 columns</p>\n",
       "</div>"
      ],
      "text/plain": [
       "   Unnamed: 0  Unnamed: 0.1  Year  Month  DayofMonth  DayOfWeek  DepTime  \\\n",
       "0           0             0  2008      1           3          4   2003.0   \n",
       "1           1             1  2008      1           3          4    754.0   \n",
       "2           2             2  2008      1           3          4    628.0   \n",
       "3           3             4  2008      1           3          4   1829.0   \n",
       "4           4             5  2008      1           3          4   1940.0   \n",
       "\n",
       "   CRSDepTime  ArrTime  CRSArrTime  ... TaxiIn  TaxiOut Cancelled  \\\n",
       "0        1955   2211.0        2225  ...    4.0      8.0         0   \n",
       "1         735   1002.0        1000  ...    5.0     10.0         0   \n",
       "2         620    804.0         750  ...    3.0     17.0         0   \n",
       "3        1755   1959.0        1925  ...    3.0     10.0         0   \n",
       "4        1915   2121.0        2110  ...    4.0     10.0         0   \n",
       "\n",
       "   CancellationCode  Diverted  CarrierDelay  WeatherDelay  NASDelay  \\\n",
       "0                 N         0           NaN           NaN       NaN   \n",
       "1                 N         0           NaN           NaN       NaN   \n",
       "2                 N         0           NaN           NaN       NaN   \n",
       "3                 N         0           2.0           0.0       0.0   \n",
       "4                 N         0           NaN           NaN       NaN   \n",
       "\n",
       "  SecurityDelay LateAircraftDelay  \n",
       "0           NaN               NaN  \n",
       "1           NaN               NaN  \n",
       "2           NaN               NaN  \n",
       "3           0.0              32.0  \n",
       "4           NaN               NaN  \n",
       "\n",
       "[5 rows x 31 columns]"
      ]
     },
     "execution_count": 1,
     "metadata": {},
     "output_type": "execute_result"
    }
   ],
   "source": [
    "import pandas as pd \n",
    "import numpy as np\n",
    "import seaborn as sns\n",
    "import matplotlib.pyplot as plt\n",
    "\n",
    "url='https://github.com/Ortegbel/PractiquesDataScience/blob/master/Exercici5/DelayedFlightsComp.csv.gz?raw=true'\n",
    "df = pd.read_csv(url,  compression='gzip')\n",
    "\n",
    "\n",
    "df.head()"
   ]
  },
  {
   "cell_type": "code",
   "execution_count": 2,
   "id": "9133e174",
   "metadata": {
    "ExecuteTime": {
     "end_time": "2021-07-20T17:12:12.734988Z",
     "start_time": "2021-07-20T17:12:11.899108Z"
    },
    "run_control": {
     "marked": false
    }
   },
   "outputs": [],
   "source": [
    "df = df.fillna(0)"
   ]
  },
  {
   "cell_type": "code",
   "execution_count": 3,
   "id": "5b17ea80",
   "metadata": {
    "ExecuteTime": {
     "end_time": "2021-07-20T17:12:13.347691Z",
     "start_time": "2021-07-20T17:12:12.777226Z"
    },
    "run_control": {
     "marked": false
    }
   },
   "outputs": [
    {
     "data": {
      "text/html": [
       "<div>\n",
       "<style scoped>\n",
       "    .dataframe tbody tr th:only-of-type {\n",
       "        vertical-align: middle;\n",
       "    }\n",
       "\n",
       "    .dataframe tbody tr th {\n",
       "        vertical-align: top;\n",
       "    }\n",
       "\n",
       "    .dataframe thead th {\n",
       "        text-align: right;\n",
       "    }\n",
       "</style>\n",
       "<table border=\"1\" class=\"dataframe\">\n",
       "  <thead>\n",
       "    <tr style=\"text-align: right;\">\n",
       "      <th></th>\n",
       "      <th>Year</th>\n",
       "      <th>Month</th>\n",
       "      <th>DayofMonth</th>\n",
       "      <th>DayOfWeek</th>\n",
       "      <th>DepTime</th>\n",
       "      <th>CRSDepTime</th>\n",
       "      <th>ArrTime</th>\n",
       "      <th>CRSArrTime</th>\n",
       "      <th>UniqueCarrier</th>\n",
       "      <th>FlightNum</th>\n",
       "      <th>...</th>\n",
       "      <th>TaxiIn</th>\n",
       "      <th>TaxiOut</th>\n",
       "      <th>Cancelled</th>\n",
       "      <th>CancellationCode</th>\n",
       "      <th>Diverted</th>\n",
       "      <th>CarrierDelay</th>\n",
       "      <th>WeatherDelay</th>\n",
       "      <th>NASDelay</th>\n",
       "      <th>SecurityDelay</th>\n",
       "      <th>LateAircraftDelay</th>\n",
       "    </tr>\n",
       "  </thead>\n",
       "  <tbody>\n",
       "    <tr>\n",
       "      <th>0</th>\n",
       "      <td>2008</td>\n",
       "      <td>1</td>\n",
       "      <td>3</td>\n",
       "      <td>4</td>\n",
       "      <td>2003.0</td>\n",
       "      <td>1955</td>\n",
       "      <td>2211.0</td>\n",
       "      <td>2225</td>\n",
       "      <td>WN</td>\n",
       "      <td>335</td>\n",
       "      <td>...</td>\n",
       "      <td>4.0</td>\n",
       "      <td>8.0</td>\n",
       "      <td>0</td>\n",
       "      <td>N</td>\n",
       "      <td>0</td>\n",
       "      <td>0.0</td>\n",
       "      <td>0.0</td>\n",
       "      <td>0.0</td>\n",
       "      <td>0.0</td>\n",
       "      <td>0.0</td>\n",
       "    </tr>\n",
       "    <tr>\n",
       "      <th>1</th>\n",
       "      <td>2008</td>\n",
       "      <td>1</td>\n",
       "      <td>3</td>\n",
       "      <td>4</td>\n",
       "      <td>754.0</td>\n",
       "      <td>735</td>\n",
       "      <td>1002.0</td>\n",
       "      <td>1000</td>\n",
       "      <td>WN</td>\n",
       "      <td>3231</td>\n",
       "      <td>...</td>\n",
       "      <td>5.0</td>\n",
       "      <td>10.0</td>\n",
       "      <td>0</td>\n",
       "      <td>N</td>\n",
       "      <td>0</td>\n",
       "      <td>0.0</td>\n",
       "      <td>0.0</td>\n",
       "      <td>0.0</td>\n",
       "      <td>0.0</td>\n",
       "      <td>0.0</td>\n",
       "    </tr>\n",
       "    <tr>\n",
       "      <th>2</th>\n",
       "      <td>2008</td>\n",
       "      <td>1</td>\n",
       "      <td>3</td>\n",
       "      <td>4</td>\n",
       "      <td>628.0</td>\n",
       "      <td>620</td>\n",
       "      <td>804.0</td>\n",
       "      <td>750</td>\n",
       "      <td>WN</td>\n",
       "      <td>448</td>\n",
       "      <td>...</td>\n",
       "      <td>3.0</td>\n",
       "      <td>17.0</td>\n",
       "      <td>0</td>\n",
       "      <td>N</td>\n",
       "      <td>0</td>\n",
       "      <td>0.0</td>\n",
       "      <td>0.0</td>\n",
       "      <td>0.0</td>\n",
       "      <td>0.0</td>\n",
       "      <td>0.0</td>\n",
       "    </tr>\n",
       "    <tr>\n",
       "      <th>3</th>\n",
       "      <td>2008</td>\n",
       "      <td>1</td>\n",
       "      <td>3</td>\n",
       "      <td>4</td>\n",
       "      <td>1829.0</td>\n",
       "      <td>1755</td>\n",
       "      <td>1959.0</td>\n",
       "      <td>1925</td>\n",
       "      <td>WN</td>\n",
       "      <td>3920</td>\n",
       "      <td>...</td>\n",
       "      <td>3.0</td>\n",
       "      <td>10.0</td>\n",
       "      <td>0</td>\n",
       "      <td>N</td>\n",
       "      <td>0</td>\n",
       "      <td>2.0</td>\n",
       "      <td>0.0</td>\n",
       "      <td>0.0</td>\n",
       "      <td>0.0</td>\n",
       "      <td>32.0</td>\n",
       "    </tr>\n",
       "    <tr>\n",
       "      <th>4</th>\n",
       "      <td>2008</td>\n",
       "      <td>1</td>\n",
       "      <td>3</td>\n",
       "      <td>4</td>\n",
       "      <td>1940.0</td>\n",
       "      <td>1915</td>\n",
       "      <td>2121.0</td>\n",
       "      <td>2110</td>\n",
       "      <td>WN</td>\n",
       "      <td>378</td>\n",
       "      <td>...</td>\n",
       "      <td>4.0</td>\n",
       "      <td>10.0</td>\n",
       "      <td>0</td>\n",
       "      <td>N</td>\n",
       "      <td>0</td>\n",
       "      <td>0.0</td>\n",
       "      <td>0.0</td>\n",
       "      <td>0.0</td>\n",
       "      <td>0.0</td>\n",
       "      <td>0.0</td>\n",
       "    </tr>\n",
       "  </tbody>\n",
       "</table>\n",
       "<p>5 rows × 29 columns</p>\n",
       "</div>"
      ],
      "text/plain": [
       "   Year  Month  DayofMonth  DayOfWeek  DepTime  CRSDepTime  ArrTime  \\\n",
       "0  2008      1           3          4   2003.0        1955   2211.0   \n",
       "1  2008      1           3          4    754.0         735   1002.0   \n",
       "2  2008      1           3          4    628.0         620    804.0   \n",
       "3  2008      1           3          4   1829.0        1755   1959.0   \n",
       "4  2008      1           3          4   1940.0        1915   2121.0   \n",
       "\n",
       "   CRSArrTime UniqueCarrier  FlightNum  ... TaxiIn  TaxiOut  Cancelled  \\\n",
       "0        2225            WN        335  ...    4.0      8.0          0   \n",
       "1        1000            WN       3231  ...    5.0     10.0          0   \n",
       "2         750            WN        448  ...    3.0     17.0          0   \n",
       "3        1925            WN       3920  ...    3.0     10.0          0   \n",
       "4        2110            WN        378  ...    4.0     10.0          0   \n",
       "\n",
       "   CancellationCode  Diverted  CarrierDelay WeatherDelay NASDelay  \\\n",
       "0                 N         0           0.0          0.0      0.0   \n",
       "1                 N         0           0.0          0.0      0.0   \n",
       "2                 N         0           0.0          0.0      0.0   \n",
       "3                 N         0           2.0          0.0      0.0   \n",
       "4                 N         0           0.0          0.0      0.0   \n",
       "\n",
       "   SecurityDelay  LateAircraftDelay  \n",
       "0            0.0                0.0  \n",
       "1            0.0                0.0  \n",
       "2            0.0                0.0  \n",
       "3            0.0               32.0  \n",
       "4            0.0                0.0  \n",
       "\n",
       "[5 rows x 29 columns]"
      ]
     },
     "execution_count": 3,
     "metadata": {},
     "output_type": "execute_result"
    }
   ],
   "source": [
    "df = df.drop(columns=['Unnamed: 0','Unnamed: 0.1' ])\n",
    "df.head()"
   ]
  },
  {
   "cell_type": "code",
   "execution_count": 4,
   "id": "5279e171",
   "metadata": {
    "ExecuteTime": {
     "end_time": "2021-07-20T17:12:13.506599Z",
     "start_time": "2021-07-20T17:12:13.421649Z"
    },
    "run_control": {
     "marked": false
    }
   },
   "outputs": [
    {
     "data": {
      "text/plain": [
       "array([ -14.,    2.,   14., ...,  880., 1279.,  991.])"
      ]
     },
     "execution_count": 4,
     "metadata": {},
     "output_type": "execute_result"
    }
   ],
   "source": [
    "df.ArrDelay.unique()"
   ]
  },
  {
   "cell_type": "markdown",
   "id": "4b3af6ee",
   "metadata": {},
   "source": [
    "\n",
    "\n",
    ">Exercici 1 Crea almenys tres models de classificació diferents per intentar predir el millor possible l’endarreriment dels vols (ArrDelay) de DelayedFlights.csv. Considera si el vol ha arribat tard o no (ArrDelay > 0).  \n",
    "\n",
    "Seguint les especificacions de l'enunciat, convertim la variable ArrDelay en binària, d'aquesta manera podrem fer els models de classificació."
   ]
  },
  {
   "cell_type": "code",
   "execution_count": 5,
   "id": "753a6c21",
   "metadata": {
    "ExecuteTime": {
     "end_time": "2021-07-20T17:12:13.680497Z",
     "start_time": "2021-07-20T17:12:13.572559Z"
    },
    "run_control": {
     "marked": false
    }
   },
   "outputs": [
    {
     "data": {
      "text/plain": [
       "array([0, 1])"
      ]
     },
     "execution_count": 5,
     "metadata": {},
     "output_type": "execute_result"
    }
   ],
   "source": [
    "conditions = [(df['ArrDelay']> 0),(df['ArrDelay']<= 0) ]\n",
    "values = [1, 0]\n",
    "df['ArrDelay2'] = np.select(conditions, values)\n",
    "\n",
    "df.ArrDelay2.unique()"
   ]
  },
  {
   "cell_type": "markdown",
   "id": "7c132748",
   "metadata": {},
   "source": [
    "També he dicidit factoritzar la resta de variables categòriques que poden ser rellevants per l'exercici. "
   ]
  },
  {
   "cell_type": "code",
   "execution_count": 6,
   "id": "1f3afdf4",
   "metadata": {
    "ExecuteTime": {
     "end_time": "2021-07-20T17:12:14.226298Z",
     "start_time": "2021-07-20T17:12:13.744461Z"
    },
    "run_control": {
     "marked": false
    }
   },
   "outputs": [],
   "source": [
    "df['CarrierFzd'] = pd.factorize(df['UniqueCarrier'])[0]\n",
    "df['OriginFzd'] = pd.factorize(df['Origin'])[0]\n",
    "df['DestFzd'] = pd.factorize(df['Dest'])[0]"
   ]
  },
  {
   "cell_type": "code",
   "execution_count": 7,
   "id": "2b2bc583",
   "metadata": {
    "ExecuteTime": {
     "end_time": "2021-07-20T17:12:14.606642Z",
     "start_time": "2021-07-20T17:12:14.270832Z"
    },
    "run_control": {
     "marked": false
    }
   },
   "outputs": [],
   "source": [
    "df['TailNumFzd'] = pd.factorize(df['TailNum'])[0]"
   ]
  },
  {
   "cell_type": "markdown",
   "id": "68a5f0a7",
   "metadata": {},
   "source": [
    "## Selecció de variable objectiu i característiques  \n",
    "\n",
    "Seleccionem la variable objectiu i la resta de variables que formaran part del nostre model. Sense DepDelay.\n"
   ]
  },
  {
   "cell_type": "code",
   "execution_count": 8,
   "id": "eff46a1f",
   "metadata": {
    "ExecuteTime": {
     "end_time": "2021-07-20T17:12:15.267455Z",
     "start_time": "2021-07-20T17:12:14.648617Z"
    },
    "run_control": {
     "marked": false
    },
    "tags": []
   },
   "outputs": [],
   "source": [
    "feature_cols = ['CarrierFzd', 'FlightNum', 'TailNumFzd','ActualElapsedTime', 'CRSElapsedTime', 'AirTime',\n",
    "                'OriginFzd', 'DestFzd','Distance','Cancelled', 'Diverted', 'CarrierDelay','WeatherDelay', 'LateAircraftDelay']\n",
    "\n",
    "X = df[feature_cols]\n",
    "X = np.array(X)\n",
    "y = df.ArrDelay2"
   ]
  },
  {
   "cell_type": "markdown",
   "id": "f1a88705",
   "metadata": {},
   "source": [
    "## Comprobació : és un Dataset equillibrat?"
   ]
  },
  {
   "cell_type": "code",
   "execution_count": 9,
   "id": "1ff91be7",
   "metadata": {
    "ExecuteTime": {
     "end_time": "2021-07-20T17:13:06.038581Z",
     "start_time": "2021-07-20T17:13:05.384535Z"
    },
    "run_control": {
     "marked": false
    }
   },
   "outputs": [
    {
     "data": {
      "image/png": "[encoded data removed]",
      "text/plain": [
       "<Figure size 432x288 with 1 Axes>"
      ]
     },
     "metadata": {},
     "output_type": "display_data"
    }
   ],
   "source": [
    "#set seaborn styling & color palette\n",
    "sns.set(style=\"whitegrid\")\n",
    "sns.set_palette(\"pastel\")\n",
    "\n",
    "#Using a countplot to show the distribution of the classes: fraud and no-fraud\n",
    "bp = sns.countplot(x=df[\"ArrDelay2\"])\n",
    "plt.title(\"Class Distribution of DelayedFlights Dataset\")\n",
    "bp.set_xticklabels([\"ArrivalOntime\",\"ArrivalDelay\"])\n",
    "plt.show()"
   ]
  },
  {
   "cell_type": "code",
   "execution_count": 10,
   "id": "874d6fda",
   "metadata": {
    "ExecuteTime": {
     "end_time": "2021-07-20T17:13:06.213743Z",
     "start_time": "2021-07-20T17:13:06.122798Z"
    },
    "run_control": {
     "marked": false
    },
    "scrolled": true
   },
   "outputs": [
    {
     "name": "stdout",
     "output_type": "stream",
     "text": [
      "Class Counts\n",
      "1    1723415\n",
      "0     213343\n",
      "Name: ArrDelay2, dtype: int64\n",
      "\n",
      "Class Proportions\n",
      "1    0.889845\n",
      "0    0.110155\n",
      "Name: ArrDelay2, dtype: float64\n"
     ]
    }
   ],
   "source": [
    "print(\"Class Counts\")\n",
    "print(df.ArrDelay2.value_counts(), end=\"\\n\\n\")\n",
    "print(\"Class Proportions\")\n",
    "print(df.ArrDelay2.value_counts()/len(df.ArrDelay2))"
   ]
  },
  {
   "cell_type": "markdown",
   "id": "fe76be6b",
   "metadata": {},
   "source": [
    "El dataset és clarament **imbalance** cosa que pot fer que el nostre model reguistri valors de precisió massa optimistes.  \n",
    "\n",
    "Podriem millorar els resultats amb diferentes tècniques, com UnderSampling, OverSampling o fent mostres sintètiques amb SMOTE."
   ]
  },
  {
   "cell_type": "code",
   "execution_count": 11,
   "id": "cb39bf77",
   "metadata": {
    "ExecuteTime": {
     "end_time": "2021-07-20T17:13:06.292699Z",
     "start_time": "2021-07-20T17:13:06.284705Z"
    },
    "run_control": {
     "marked": false
    }
   },
   "outputs": [
    {
     "name": "stdout",
     "output_type": "stream",
     "text": [
      "(1936758, 14)\n",
      "(1936758,)\n"
     ]
    }
   ],
   "source": [
    "print(X.shape)\n",
    "print(y.shape)"
   ]
  },
  {
   "cell_type": "markdown",
   "id": "9b421cd9",
   "metadata": {},
   "source": [
    "# Sampling \n",
    "\n",
    "## OverSampling: SMOTE\n",
    "\n",
    "Pel primer model `LogisticRegression` equilibraré la mostra fent un `Oversampling` amb `SMOTE`."
   ]
  },
  {
   "cell_type": "code",
   "execution_count": 12,
   "id": "36b9ed8f",
   "metadata": {
    "ExecuteTime": {
     "end_time": "2021-07-20T17:13:32.803797Z",
     "start_time": "2021-07-20T17:13:21.209868Z"
    },
    "run_control": {
     "marked": false
    }
   },
   "outputs": [],
   "source": [
    "from imblearn.over_sampling import SMOTE\n",
    "\n",
    "smote = SMOTE(sampling_strategy = 'minority')\n",
    "X_sm, y_sm = smote.fit_resample(X, y)"
   ]
  },
  {
   "cell_type": "code",
   "execution_count": 13,
   "id": "4a7c22a3",
   "metadata": {
    "ExecuteTime": {
     "end_time": "2021-07-20T17:13:32.866573Z",
     "start_time": "2021-07-20T17:13:32.851581Z"
    },
    "run_control": {
     "marked": false
    }
   },
   "outputs": [
    {
     "name": "stdout",
     "output_type": "stream",
     "text": [
      "Mostra Variables caracteristiques (3446830, 14)\n",
      "Mostra objectiu (3446830,)\n"
     ]
    }
   ],
   "source": [
    "print('Mostra Variables caracteristiques', X_sm.shape )\n",
    "print('Mostra objectiu', y_sm.shape)"
   ]
  },
  {
   "cell_type": "markdown",
   "id": "477a7edf",
   "metadata": {},
   "source": [
    "## UnderSampling: TomekLinks\n",
    "\n",
    "Per la resta de models equilibraré la mostra fent un `Undersampling` amb `TomekLinks`."
   ]
  },
  {
   "cell_type": "code",
   "execution_count": 14,
   "id": "cd2932ac",
   "metadata": {
    "ExecuteTime": {
     "end_time": "2021-07-20T17:19:04.974255Z",
     "start_time": "2021-07-20T17:13:41.810848Z"
    },
    "run_control": {
     "marked": false
    }
   },
   "outputs": [],
   "source": [
    "from imblearn.under_sampling import TomekLinks\n",
    "\n",
    "tl = TomekLinks(sampling_strategy='all')\n",
    "X_tl, y_tl = tl.fit_resample(X, y)"
   ]
  },
  {
   "cell_type": "code",
   "execution_count": 15,
   "id": "465bcf5c",
   "metadata": {
    "ExecuteTime": {
     "end_time": "2021-07-20T17:19:05.032146Z",
     "start_time": "2021-07-20T17:19:05.025156Z"
    },
    "run_control": {
     "marked": false
    }
   },
   "outputs": [
    {
     "name": "stdout",
     "output_type": "stream",
     "text": [
      "Mostra Variables caracteristiques (1798392, 14)\n",
      "Mostra objectiu (1798392,)\n"
     ]
    }
   ],
   "source": [
    "print('Mostra Variables caracteristiques', X_tl.shape )\n",
    "print('Mostra objectiu', y_tl.shape)"
   ]
  },
  {
   "cell_type": "markdown",
   "id": "11e79364-ffc5-45a9-83a2-e269ff185bbf",
   "metadata": {},
   "source": [
    "## Under Sampling  Near Miss\n"
   ]
  },
  {
   "cell_type": "code",
   "execution_count": 9,
   "id": "e711a2e3-8832-4c24-8c5a-83d58a72f7e5",
   "metadata": {},
   "outputs": [],
   "source": [
    "from collections import Counter\n",
    "from imblearn.under_sampling import NearMiss"
   ]
  },
  {
   "cell_type": "code",
   "execution_count": 10,
   "id": "736f3a0a-d796-4b3c-bd6e-54d9499c2ded",
   "metadata": {},
   "outputs": [
    {
     "data": {
      "text/plain": [
       "Counter({0: 213343, 1: 1723415})"
      ]
     },
     "execution_count": 10,
     "metadata": {},
     "output_type": "execute_result"
    }
   ],
   "source": [
    "counter = Counter(y)\n",
    "counter"
   ]
  },
  {
   "cell_type": "code",
   "execution_count": 11,
   "id": "15884f2e-f3ec-4f1a-9bc1-db01545a0e81",
   "metadata": {},
   "outputs": [],
   "source": [
    "undersample = NearMiss(version=1, n_neighbors=3)"
   ]
  },
  {
   "cell_type": "code",
   "execution_count": 12,
   "id": "00c2d71c-cc51-4a99-9c8a-c680e5bbb9c0",
   "metadata": {},
   "outputs": [
    {
     "name": "stdout",
     "output_type": "stream",
     "text": [
      "Counter({0: 213343, 1: 213343})\n"
     ]
    }
   ],
   "source": [
    "X_nm, y_nm = undersample.fit_resample(X, y)\n",
    "# summarize the new class distribution\n",
    "counter2 = Counter(y_nm)\n",
    "print(counter2)"
   ]
  },
  {
   "cell_type": "markdown",
   "id": "3f994a84",
   "metadata": {},
   "source": [
    "# Model 1 `LogisticRegression`"
   ]
  },
  {
   "cell_type": "markdown",
   "id": "faf8339d",
   "metadata": {},
   "source": [
    "## Dividir les dades `train-test-split`"
   ]
  },
  {
   "cell_type": "code",
   "execution_count": 16,
   "id": "22f395bb",
   "metadata": {
    "ExecuteTime": {
     "end_time": "2021-07-20T17:19:26.813716Z",
     "start_time": "2021-07-20T17:19:26.176780Z"
    },
    "run_control": {
     "marked": false
    }
   },
   "outputs": [],
   "source": [
    "from sklearn.model_selection import train_test_split\n",
    "X_train,X_test,y_train,y_test=train_test_split(X_sm,y_sm,test_size=0.02,train_size=0.20,random_state=42)"
   ]
  },
  {
   "cell_type": "code",
   "execution_count": 17,
   "id": "45ceecef",
   "metadata": {
    "ExecuteTime": {
     "end_time": "2021-07-20T17:19:26.876051Z",
     "start_time": "2021-07-20T17:19:26.854067Z"
    },
    "run_control": {
     "marked": false
    }
   },
   "outputs": [
    {
     "name": "stdout",
     "output_type": "stream",
     "text": [
      "Variables caracteristiques, Train:  (689366, 14)\n",
      "Variables caracteristiques, Test:  (68937, 14)\n",
      "Variable objectiu, Train:  (689366,)\n",
      "Variables objectiu, Test:  (68937,)\n"
     ]
    }
   ],
   "source": [
    "print( 'Variables caracteristiques, Train: ', X_train.shape )\n",
    "print( 'Variables caracteristiques, Test: ', X_test.shape )\n",
    "print( 'Variable objectiu, Train: ', y_train.shape )\n",
    "print( 'Variables objectiu, Test: ', y_test.shape )"
   ]
  },
  {
   "cell_type": "code",
   "execution_count": 18,
   "id": "0c9851a5",
   "metadata": {
    "ExecuteTime": {
     "end_time": "2021-07-20T17:19:26.955007Z",
     "start_time": "2021-07-20T17:19:26.929021Z"
    },
    "run_control": {
     "marked": false
    }
   },
   "outputs": [
    {
     "name": "stdout",
     "output_type": "stream",
     "text": [
      "Class Counts\n",
      "0    34471\n",
      "1    34466\n",
      "Name: ArrDelay2, dtype: int64\n",
      "\n",
      "Class Proportions\n",
      "0    0.500036\n",
      "1    0.499964\n",
      "Name: ArrDelay2, dtype: float64\n"
     ]
    }
   ],
   "source": [
    "print(\"Class Counts\")\n",
    "print(y_test.value_counts(), end=\"\\n\\n\")\n",
    "print(\"Class Proportions\")\n",
    "print(y_test.value_counts()/len(y_test))"
   ]
  },
  {
   "cell_type": "code",
   "execution_count": 19,
   "id": "8bd48ffb",
   "metadata": {
    "ExecuteTime": {
     "end_time": "2021-07-20T17:19:41.260592Z",
     "start_time": "2021-07-20T17:19:27.028965Z"
    },
    "run_control": {
     "marked": false
    }
   },
   "outputs": [
    {
     "data": {
      "text/plain": [
       "LogisticRegression(random_state=42, solver='liblinear')"
      ]
     },
     "execution_count": 19,
     "metadata": {},
     "output_type": "execute_result"
    }
   ],
   "source": [
    "from sklearn.linear_model import LogisticRegression\n",
    "\n",
    "# instantiate the model (using the default parameters)\n",
    "logreg = LogisticRegression(random_state=42, solver='liblinear',fit_intercept=True, max_iter=100)\n",
    "\n",
    "logreg.fit(X_train, y_train)"
   ]
  },
  {
   "cell_type": "code",
   "execution_count": 20,
   "id": "b16e75c5",
   "metadata": {
    "ExecuteTime": {
     "end_time": "2021-07-20T17:19:41.375554Z",
     "start_time": "2021-07-20T17:19:41.339550Z"
    },
    "run_control": {
     "marked": false
    }
   },
   "outputs": [],
   "source": [
    "logreg_pred = logreg.predict(X_test)\n",
    "logreg_pred_prob = logreg.predict_proba(X_test)[::,1]"
   ]
  },
  {
   "cell_type": "markdown",
   "id": "07ec258c",
   "metadata": {},
   "source": [
    "## Matriu de Confusió"
   ]
  },
  {
   "cell_type": "code",
   "execution_count": 21,
   "id": "03f3311e",
   "metadata": {
    "ExecuteTime": {
     "end_time": "2021-07-20T17:19:56.443182Z",
     "start_time": "2021-07-20T17:19:56.339986Z"
    },
    "run_control": {
     "marked": false
    }
   },
   "outputs": [
    {
     "data": {
      "text/plain": [
       "array([[33794,   677],\n",
       "       [ 4135, 30331]], dtype=int64)"
      ]
     },
     "execution_count": 21,
     "metadata": {},
     "output_type": "execute_result"
    }
   ],
   "source": [
    "from sklearn import metrics\n",
    "\n",
    "cnf_matrix_logreg = metrics.confusion_matrix(y_test, logreg_pred)\n",
    "cnf_matrix_logreg"
   ]
  },
  {
   "cell_type": "code",
   "execution_count": 22,
   "id": "7ae711f9",
   "metadata": {
    "ExecuteTime": {
     "end_time": "2021-07-20T17:19:56.619080Z",
     "start_time": "2021-07-20T17:19:56.506148Z"
    },
    "run_control": {
     "marked": false
    }
   },
   "outputs": [
    {
     "name": "stdout",
     "output_type": "stream",
     "text": [
      "33794\n",
      "677\n",
      "4135\n",
      "30331\n"
     ]
    }
   ],
   "source": [
    "tn, fp, fn, tp = metrics.confusion_matrix(y_test, logreg_pred).ravel()\n",
    "\n",
    "print(tn)\n",
    "print(fp)\n",
    "print(fn)\n",
    "print (tp)"
   ]
  },
  {
   "cell_type": "code",
   "execution_count": 23,
   "id": "beb32e47",
   "metadata": {
    "ExecuteTime": {
     "end_time": "2021-07-20T17:19:56.714026Z",
     "start_time": "2021-07-20T17:19:56.698036Z"
    },
    "run_control": {
     "marked": false
    }
   },
   "outputs": [],
   "source": [
    "cnf_matrix_logreg_df= pd.DataFrame(cnf_matrix_logreg)"
   ]
  },
  {
   "cell_type": "code",
   "execution_count": 24,
   "id": "83dba1bb",
   "metadata": {
    "ExecuteTime": {
     "end_time": "2021-07-20T17:19:57.284697Z",
     "start_time": "2021-07-20T17:19:56.773994Z"
    },
    "run_control": {
     "marked": false
    }
   },
   "outputs": [
    {
     "data": {
      "image/png": "[encoded data removed]",
      "text/plain": [
       "<Figure size 504x504 with 1 Axes>"
      ]
     },
     "metadata": {},
     "output_type": "display_data"
    }
   ],
   "source": [
    "#plot CM  \n",
    "\n",
    "fig, ax = plt.subplots(figsize = (7,7))\n",
    "sns.heatmap(pd.DataFrame(cnf_matrix_logreg_df.T), annot=True, annot_kws={\"size\": 15}, cmap=\"Purples\", vmin=0, vmax=30000, fmt='.0f', linewidths=1, linecolor=\"white\", cbar=False,\n",
    "           xticklabels=[\"ArrOntime\",\"ArrDelay\"], yticklabels=[\"ArrOntime\",\"ArrDelay\"])\n",
    "plt.ylabel(\"Predicted\", fontsize=15)\n",
    "plt.xlabel(\"Actual\", fontsize=15)\n",
    "ax.set_xticklabels([\"ArrOntime\",\"ArrDelay\"], fontsize=13)\n",
    "ax.set_yticklabels([\"ArrOntime\",\"ArrDelay\"], fontsize=13)\n",
    "plt.title(\"Confusion Matrix for Logistic Classifier (Threshold = 0.5) - Counts\", fontsize=15)\n",
    "plt.show()"
   ]
  },
  {
   "cell_type": "markdown",
   "id": "6b54e122",
   "metadata": {},
   "source": [
    "## Resultats"
   ]
  },
  {
   "cell_type": "code",
   "execution_count": null,
   "id": "a4b9a7ec",
   "metadata": {},
   "outputs": [],
   "source": [
    "from sklearn.model_selection import cross_validate\n",
    "from sklearn.metrics import recall_score\n",
    "from sklearn.metrics import classification_report"
   ]
  },
  {
   "cell_type": "code",
   "execution_count": 25,
   "id": "a7e90faa",
   "metadata": {
    "ExecuteTime": {
     "end_time": "2021-07-20T17:20:13.118822Z",
     "start_time": "2021-07-20T17:20:12.923938Z"
    },
    "run_control": {
     "marked": false
    }
   },
   "outputs": [
    {
     "name": "stdout",
     "output_type": "stream",
     "text": [
      "LogReg Model:\n",
      "Accuracy = 0.930\n",
      "Precision = 0.978\n",
      "Specificity = 0.980\n",
      "Sensitivity = 0.880\n",
      "F1-score = 0.927\n"
     ]
    }
   ],
   "source": [
    "from sklearn.metrics import classification_report\n",
    "#generating a report to extract the measure of interest using built-in sklearn function\n",
    "report = classification_report(y_test,logreg_pred ,digits=3,output_dict = True)\n",
    "\n",
    "print(\"LogReg Model:\")\n",
    "print(\"Accuracy = {0:0.3f}\".format(report[\"accuracy\"]))\n",
    "print(\"Precision = {0:0.3f}\".format(report[\"1\"][\"precision\"]))\n",
    "print(\"Specificity = {0:0.3f}\".format(report[\"0\"][\"recall\"]))\n",
    "print(\"Sensitivity = {0:0.3f}\".format(report[\"1\"][\"recall\"]))\n",
    "print(\"F1-score = {0:0.3f}\".format(report[\"1\"][\"f1-score\"]))"
   ]
  },
  {
   "cell_type": "code",
   "execution_count": 26,
   "id": "bc35d872",
   "metadata": {
    "ExecuteTime": {
     "end_time": "2021-07-20T17:20:13.383698Z",
     "start_time": "2021-07-20T17:20:13.200778Z"
    },
    "run_control": {
     "marked": false
    },
    "scrolled": true
   },
   "outputs": [
    {
     "name": "stdout",
     "output_type": "stream",
     "text": [
      "              precision    recall  f1-score   support\n",
      "\n",
      "           0       0.89      0.98      0.93     34471\n",
      "           1       0.98      0.88      0.93     34466\n",
      "\n",
      "    accuracy                           0.93     68937\n",
      "   macro avg       0.93      0.93      0.93     68937\n",
      "weighted avg       0.93      0.93      0.93     68937\n",
      "\n"
     ]
    }
   ],
   "source": [
    "print(classification_report(y_test,logreg_pred, ))"
   ]
  },
  {
   "cell_type": "markdown",
   "id": "5cf2ae54",
   "metadata": {},
   "source": [
    "## ROC"
   ]
  },
  {
   "cell_type": "code",
   "execution_count": 27,
   "id": "c2e9e71d",
   "metadata": {
    "ExecuteTime": {
     "end_time": "2021-07-20T17:20:13.862419Z",
     "start_time": "2021-07-20T17:20:13.472650Z"
    },
    "run_control": {
     "marked": false
    }
   },
   "outputs": [
    {
     "data": {
      "image/png": "[encoded data removed]",
      "text/plain": [
       "<Figure size 432x288 with 1 Axes>"
      ]
     },
     "metadata": {},
     "output_type": "display_data"
    }
   ],
   "source": [
    "fpr, tpr, _ = metrics.roc_curve(y_test, logreg_pred_prob)\n",
    "auc = metrics.roc_auc_score(y_test, logreg_pred_prob)\n",
    "plt.plot(fpr,tpr,label=\"data 1, auc=\"+str(auc))\n",
    "plt.legend(loc=4)\n",
    "plt.show()"
   ]
  },
  {
   "cell_type": "markdown",
   "id": "67edee43",
   "metadata": {},
   "source": [
    "## PRC"
   ]
  },
  {
   "cell_type": "code",
   "execution_count": null,
   "id": "a66fe489",
   "metadata": {},
   "outputs": [],
   "source": [
    "from sklearn.metrics import average_precision_score"
   ]
  },
  {
   "cell_type": "code",
   "execution_count": 28,
   "id": "ae5b5e0a",
   "metadata": {
    "ExecuteTime": {
     "end_time": "2021-07-20T17:20:13.984450Z",
     "start_time": "2021-07-20T17:20:13.931381Z"
    },
    "run_control": {
     "marked": false
    }
   },
   "outputs": [
    {
     "name": "stdout",
     "output_type": "stream",
     "text": [
      "Average precision-recall score: 0.97\n"
     ]
    }
   ],
   "source": [
    "\n",
    "y_score = logreg.decision_function(X_test)\n",
    "average_precision = average_precision_score(y_test, y_score)\n",
    "\n",
    "print('Average precision-recall score: {0:0.2f}'.format(\n",
    "      average_precision))"
   ]
  },
  {
   "cell_type": "code",
   "execution_count": null,
   "id": "4e1a04d6",
   "metadata": {},
   "outputs": [],
   "source": [
    "from sklearn.metrics import precision_recall_curve\n",
    "from sklearn.metrics import plot_precision_recall_curve"
   ]
  },
  {
   "cell_type": "code",
   "execution_count": 29,
   "id": "645d770d",
   "metadata": {
    "ExecuteTime": {
     "end_time": "2021-07-20T17:20:14.158356Z",
     "start_time": "2021-07-20T17:20:14.090392Z"
    },
    "run_control": {
     "marked": false
    }
   },
   "outputs": [],
   "source": [
    "\n",
    "#Plot PR curve\n",
    "\n",
    "#Generating points to plot on recall precision curve\n",
    "precision, recall, thresholds = precision_recall_curve(y_test, logreg_pred_prob)\n",
    "average_precision = average_precision_score(y_test, logreg_pred_prob)\n",
    "\n"
   ]
  },
  {
   "cell_type": "code",
   "execution_count": 30,
   "id": "c0c97fb4",
   "metadata": {
    "ExecuteTime": {
     "end_time": "2021-07-20T17:20:14.794437Z",
     "start_time": "2021-07-20T17:20:14.190335Z"
    },
    "run_control": {
     "marked": false
    }
   },
   "outputs": [
    {
     "data": {
      "text/plain": [
       "Text(0.5, 1.0, '2-class Precision-Recall curve: AP=0.97')"
      ]
     },
     "execution_count": 30,
     "metadata": {},
     "output_type": "execute_result"
    },
    {
     "data": {
      "image/png": "[encoded data removed]",
      "text/plain": [
       "<Figure size 432x288 with 1 Axes>"
      ]
     },
     "metadata": {},
     "output_type": "display_data"
    }
   ],
   "source": [
    "disp = plot_precision_recall_curve(logreg, X_test, y_test)\n",
    "disp.ax_.set_title('2-class Precision-Recall curve: '\n",
    "                   'AP={0:0.2f}'.format(average_precision))"
   ]
  },
  {
   "cell_type": "markdown",
   "id": "ddd24d46",
   "metadata": {},
   "source": [
    "## Cross Validation"
   ]
  },
  {
   "cell_type": "code",
   "execution_count": 31,
   "id": "93788b19",
   "metadata": {
    "ExecuteTime": {
     "end_time": "2021-07-20T17:20:30.947937Z",
     "start_time": "2021-07-20T17:20:30.927949Z"
    },
    "run_control": {
     "marked": false
    }
   },
   "outputs": [],
   "source": [
    "from sklearn.model_selection import cross_validate\n",
    "from sklearn.metrics import recall_score"
   ]
  },
  {
   "cell_type": "code",
   "execution_count": 32,
   "id": "963b7fc1",
   "metadata": {
    "ExecuteTime": {
     "end_time": "2021-07-20T17:22:25.439992Z",
     "start_time": "2021-07-20T17:20:30.998906Z"
    },
    "run_control": {
     "marked": false
    }
   },
   "outputs": [],
   "source": [
    "scoring = ['precision_macro', 'recall_macro']\n",
    "scores = cross_validate (logreg, X, y, scoring=scoring, cv=5, return_train_score=True)\n",
    "sorted(scores.keys())\n",
    "\n",
    "scores_df= pd.DataFrame(scores)"
   ]
  },
  {
   "cell_type": "code",
   "execution_count": 33,
   "id": "5cf279f2",
   "metadata": {
    "ExecuteTime": {
     "end_time": "2021-07-20T17:22:25.533431Z",
     "start_time": "2021-07-20T17:22:25.502452Z"
    },
    "run_control": {
     "marked": false
    }
   },
   "outputs": [
    {
     "data": {
      "text/html": [
       "<div>\n",
       "<style scoped>\n",
       "    .dataframe tbody tr th:only-of-type {\n",
       "        vertical-align: middle;\n",
       "    }\n",
       "\n",
       "    .dataframe tbody tr th {\n",
       "        vertical-align: top;\n",
       "    }\n",
       "\n",
       "    .dataframe thead th {\n",
       "        text-align: right;\n",
       "    }\n",
       "</style>\n",
       "<table border=\"1\" class=\"dataframe\">\n",
       "  <thead>\n",
       "    <tr style=\"text-align: right;\">\n",
       "      <th></th>\n",
       "      <th>fit_time</th>\n",
       "      <th>score_time</th>\n",
       "      <th>test_precision_macro</th>\n",
       "      <th>train_precision_macro</th>\n",
       "      <th>test_recall_macro</th>\n",
       "      <th>train_recall_macro</th>\n",
       "    </tr>\n",
       "  </thead>\n",
       "  <tbody>\n",
       "    <tr>\n",
       "      <th>0</th>\n",
       "      <td>16.951972</td>\n",
       "      <td>0.376038</td>\n",
       "      <td>0.809479</td>\n",
       "      <td>0.798525</td>\n",
       "      <td>0.739396</td>\n",
       "      <td>0.722493</td>\n",
       "    </tr>\n",
       "    <tr>\n",
       "      <th>1</th>\n",
       "      <td>30.972321</td>\n",
       "      <td>0.422460</td>\n",
       "      <td>0.810027</td>\n",
       "      <td>0.808712</td>\n",
       "      <td>0.724033</td>\n",
       "      <td>0.719870</td>\n",
       "    </tr>\n",
       "    <tr>\n",
       "      <th>2</th>\n",
       "      <td>18.400360</td>\n",
       "      <td>0.376051</td>\n",
       "      <td>0.799238</td>\n",
       "      <td>0.801422</td>\n",
       "      <td>0.704370</td>\n",
       "      <td>0.730484</td>\n",
       "    </tr>\n",
       "    <tr>\n",
       "      <th>3</th>\n",
       "      <td>21.121805</td>\n",
       "      <td>0.348675</td>\n",
       "      <td>0.788182</td>\n",
       "      <td>0.803548</td>\n",
       "      <td>0.722724</td>\n",
       "      <td>0.735533</td>\n",
       "    </tr>\n",
       "    <tr>\n",
       "      <th>4</th>\n",
       "      <td>17.334939</td>\n",
       "      <td>0.391690</td>\n",
       "      <td>0.804920</td>\n",
       "      <td>0.798533</td>\n",
       "      <td>0.740483</td>\n",
       "      <td>0.725298</td>\n",
       "    </tr>\n",
       "  </tbody>\n",
       "</table>\n",
       "</div>"
      ],
      "text/plain": [
       "    fit_time  score_time  test_precision_macro  train_precision_macro  \\\n",
       "0  16.951972    0.376038              0.809479               0.798525   \n",
       "1  30.972321    0.422460              0.810027               0.808712   \n",
       "2  18.400360    0.376051              0.799238               0.801422   \n",
       "3  21.121805    0.348675              0.788182               0.803548   \n",
       "4  17.334939    0.391690              0.804920               0.798533   \n",
       "\n",
       "   test_recall_macro  train_recall_macro  \n",
       "0           0.739396            0.722493  \n",
       "1           0.724033            0.719870  \n",
       "2           0.704370            0.730484  \n",
       "3           0.722724            0.735533  \n",
       "4           0.740483            0.725298  "
      ]
     },
     "execution_count": 33,
     "metadata": {},
     "output_type": "execute_result"
    }
   ],
   "source": [
    "scores_df"
   ]
  },
  {
   "cell_type": "code",
   "execution_count": 34,
   "id": "2d29ca43",
   "metadata": {
    "ExecuteTime": {
     "end_time": "2021-07-20T17:22:25.676029Z",
     "start_time": "2021-07-20T17:22:25.607070Z"
    },
    "run_control": {
     "marked": false
    }
   },
   "outputs": [
    {
     "data": {
      "text/html": [
       "<div>\n",
       "<style scoped>\n",
       "    .dataframe tbody tr th:only-of-type {\n",
       "        vertical-align: middle;\n",
       "    }\n",
       "\n",
       "    .dataframe tbody tr th {\n",
       "        vertical-align: top;\n",
       "    }\n",
       "\n",
       "    .dataframe thead th {\n",
       "        text-align: right;\n",
       "    }\n",
       "</style>\n",
       "<table border=\"1\" class=\"dataframe\">\n",
       "  <thead>\n",
       "    <tr style=\"text-align: right;\">\n",
       "      <th></th>\n",
       "      <th>fit_time</th>\n",
       "      <th>score_time</th>\n",
       "      <th>test_precision_macro</th>\n",
       "      <th>train_precision_macro</th>\n",
       "      <th>test_recall_macro</th>\n",
       "      <th>train_recall_macro</th>\n",
       "    </tr>\n",
       "  </thead>\n",
       "  <tbody>\n",
       "    <tr>\n",
       "      <th>min</th>\n",
       "      <td>16.951972</td>\n",
       "      <td>0.348675</td>\n",
       "      <td>0.788182</td>\n",
       "      <td>0.798525</td>\n",
       "      <td>0.704370</td>\n",
       "      <td>0.719870</td>\n",
       "    </tr>\n",
       "    <tr>\n",
       "      <th>max</th>\n",
       "      <td>30.972321</td>\n",
       "      <td>0.422460</td>\n",
       "      <td>0.810027</td>\n",
       "      <td>0.808712</td>\n",
       "      <td>0.740483</td>\n",
       "      <td>0.735533</td>\n",
       "    </tr>\n",
       "    <tr>\n",
       "      <th>mean</th>\n",
       "      <td>20.956279</td>\n",
       "      <td>0.382983</td>\n",
       "      <td>0.802369</td>\n",
       "      <td>0.802148</td>\n",
       "      <td>0.726201</td>\n",
       "      <td>0.726736</td>\n",
       "    </tr>\n",
       "  </tbody>\n",
       "</table>\n",
       "</div>"
      ],
      "text/plain": [
       "       fit_time  score_time  test_precision_macro  train_precision_macro  \\\n",
       "min   16.951972    0.348675              0.788182               0.798525   \n",
       "max   30.972321    0.422460              0.810027               0.808712   \n",
       "mean  20.956279    0.382983              0.802369               0.802148   \n",
       "\n",
       "      test_recall_macro  train_recall_macro  \n",
       "min            0.704370            0.719870  \n",
       "max            0.740483            0.735533  \n",
       "mean           0.726201            0.726736  "
      ]
     },
     "execution_count": 34,
     "metadata": {},
     "output_type": "execute_result"
    }
   ],
   "source": [
    "scores_df.describe().loc[['min','max','mean'] ]"
   ]
  },
  {
   "cell_type": "markdown",
   "id": "5f23888e",
   "metadata": {
    "ExecuteTime": {
     "end_time": "2021-07-17T15:35:07.233357Z",
     "start_time": "2021-07-17T15:35:07.202379Z"
    }
   },
   "source": [
    "# Model 1 `LogisticRegression` &`RobustScaler`"
   ]
  },
  {
   "cell_type": "markdown",
   "id": "c5de8466",
   "metadata": {},
   "source": [
    "Per mirar de millorar el model, he volgut probar a escalar les dades. He triat el `RobustScaler`perque elimina els outliers a la mateixa vegada q n'escala les dades."
   ]
  },
  {
   "cell_type": "code",
   "execution_count": 35,
   "id": "d966c536",
   "metadata": {
    "ExecuteTime": {
     "end_time": "2021-07-20T17:22:49.408119Z",
     "start_time": "2021-07-20T17:22:48.378622Z"
    },
    "run_control": {
     "marked": false
    }
   },
   "outputs": [],
   "source": [
    "from sklearn.preprocessing import RobustScaler \n",
    "robust_scaler = RobustScaler()\n",
    "X_train_robust = robust_scaler.fit_transform(X_train)\n",
    "X_test_robust = robust_scaler.fit_transform(X_test)"
   ]
  },
  {
   "cell_type": "code",
   "execution_count": 36,
   "id": "171a2554",
   "metadata": {
    "ExecuteTime": {
     "end_time": "2021-07-20T17:22:57.012823Z",
     "start_time": "2021-07-20T17:22:49.444883Z"
    },
    "run_control": {
     "marked": false
    }
   },
   "outputs": [
    {
     "data": {
      "text/plain": [
       "LogisticRegression(random_state=42, solver='liblinear')"
      ]
     },
     "execution_count": 36,
     "metadata": {},
     "output_type": "execute_result"
    }
   ],
   "source": [
    "from sklearn.linear_model import LogisticRegression\n",
    "\n",
    "# instantiate the model (using the default parameters)\n",
    "logregRS = LogisticRegression(random_state=42, solver='liblinear',fit_intercept=True, max_iter=100)\n",
    "\n",
    "logregRS.fit(X_train_robust, y_train)"
   ]
  },
  {
   "cell_type": "code",
   "execution_count": 37,
   "id": "b4d00bb8",
   "metadata": {
    "ExecuteTime": {
     "end_time": "2021-07-20T17:22:57.092373Z",
     "start_time": "2021-07-20T17:22:57.069389Z"
    },
    "run_control": {
     "marked": false
    }
   },
   "outputs": [],
   "source": [
    "logreg_predRS = logregRS.predict(X_test_robust)\n",
    "logreg_pred_probRS = logregRS.predict_proba(X_test_robust)[::,1]"
   ]
  },
  {
   "cell_type": "markdown",
   "id": "e4cfca54",
   "metadata": {},
   "source": [
    "## Matriu de Confusió"
   ]
  },
  {
   "cell_type": "code",
   "execution_count": 38,
   "id": "c753e666",
   "metadata": {
    "ExecuteTime": {
     "end_time": "2021-07-20T17:22:57.283263Z",
     "start_time": "2021-07-20T17:22:57.157337Z"
    },
    "run_control": {
     "marked": false
    }
   },
   "outputs": [
    {
     "data": {
      "text/plain": [
       "array([[33302,  1169],\n",
       "       [ 3831, 30635]], dtype=int64)"
      ]
     },
     "execution_count": 38,
     "metadata": {},
     "output_type": "execute_result"
    }
   ],
   "source": [
    "cnf_matrix_logregRS = metrics.confusion_matrix(y_test, logreg_predRS)\n",
    "cnf_matrix_logregRS"
   ]
  },
  {
   "cell_type": "code",
   "execution_count": 39,
   "id": "50802d5d",
   "metadata": {
    "ExecuteTime": {
     "end_time": "2021-07-20T17:22:57.458600Z",
     "start_time": "2021-07-20T17:22:57.348664Z"
    },
    "run_control": {
     "marked": false
    }
   },
   "outputs": [],
   "source": [
    "tn, fp, fn, tp = metrics.confusion_matrix(y_test, logreg_predRS).ravel()\n",
    "cnf_matrix_logregRS_df= pd.DataFrame(cnf_matrix_logregRS)"
   ]
  },
  {
   "cell_type": "code",
   "execution_count": 40,
   "id": "3d64f014",
   "metadata": {
    "ExecuteTime": {
     "end_time": "2021-07-20T17:22:57.792408Z",
     "start_time": "2021-07-20T17:22:57.492580Z"
    },
    "run_control": {
     "marked": false
    }
   },
   "outputs": [
    {
     "data": {
      "image/png": "[encoded data removed]",
      "text/plain": [
       "<Figure size 504x504 with 1 Axes>"
      ]
     },
     "metadata": {},
     "output_type": "display_data"
    }
   ],
   "source": [
    "#plot CM  \n",
    "\n",
    "fig, ax = plt.subplots(figsize = (7,7))\n",
    "sns.heatmap(pd.DataFrame(cnf_matrix_logregRS_df.T), annot=True, annot_kws={\"size\": 15}, cmap=\"Purples\", vmin=0, vmax=30000, fmt='.0f', linewidths=1, linecolor=\"white\", cbar=False,\n",
    "           xticklabels=[\"ArrOntime\",\"ArrDelay\"], yticklabels=[\"ArrOntime\",\"ArrDelay\"])\n",
    "plt.ylabel(\"Predicted\", fontsize=15)\n",
    "plt.xlabel(\"Actual\", fontsize=15)\n",
    "ax.set_xticklabels([\"ArrOntime\",\"ArrDelay\"], fontsize=13)\n",
    "ax.set_yticklabels([\"ArrOntime\",\"ArrDelay\"], fontsize=13)\n",
    "plt.title(\"Confusion Matrix for Logistic Classifier (Threshold = 0.5) - Counts\", fontsize=15)\n",
    "plt.show()"
   ]
  },
  {
   "cell_type": "markdown",
   "id": "51693a38",
   "metadata": {},
   "source": [
    "## Resultats"
   ]
  },
  {
   "cell_type": "code",
   "execution_count": 41,
   "id": "3145178b",
   "metadata": {
    "ExecuteTime": {
     "end_time": "2021-07-20T17:23:21.115131Z",
     "start_time": "2021-07-20T17:23:20.953399Z"
    },
    "run_control": {
     "marked": false
    }
   },
   "outputs": [
    {
     "name": "stdout",
     "output_type": "stream",
     "text": [
      "LogReg Model:\n",
      "Accuracy = 0.927\n",
      "Precision = 0.963\n",
      "Specificity = 0.966\n",
      "Sensitivity = 0.889\n",
      "F1-score = 0.925\n"
     ]
    }
   ],
   "source": [
    "\n",
    "report = classification_report(y_test,logreg_predRS ,digits=3,output_dict = True)\n",
    "\n",
    "print(\"LogReg Model:\")\n",
    "print(\"Accuracy = {0:0.3f}\".format(report[\"accuracy\"]))\n",
    "print(\"Precision = {0:0.3f}\".format(report[\"1\"][\"precision\"]))\n",
    "print(\"Specificity = {0:0.3f}\".format(report[\"0\"][\"recall\"]))\n",
    "print(\"Sensitivity = {0:0.3f}\".format(report[\"1\"][\"recall\"]))\n",
    "print(\"F1-score = {0:0.3f}\".format(report[\"1\"][\"f1-score\"]))"
   ]
  },
  {
   "cell_type": "code",
   "execution_count": 42,
   "id": "5898f8ff",
   "metadata": {
    "ExecuteTime": {
     "end_time": "2021-07-20T17:23:21.338981Z",
     "start_time": "2021-07-20T17:23:21.176075Z"
    },
    "run_control": {
     "marked": false
    }
   },
   "outputs": [
    {
     "name": "stdout",
     "output_type": "stream",
     "text": [
      "              precision    recall  f1-score   support\n",
      "\n",
      "           0       0.90      0.97      0.93     34471\n",
      "           1       0.96      0.89      0.92     34466\n",
      "\n",
      "    accuracy                           0.93     68937\n",
      "   macro avg       0.93      0.93      0.93     68937\n",
      "weighted avg       0.93      0.93      0.93     68937\n",
      "\n"
     ]
    }
   ],
   "source": [
    "print(classification_report(y_test,logreg_predRS, ))"
   ]
  },
  {
   "cell_type": "markdown",
   "id": "085d2619",
   "metadata": {},
   "source": [
    "## ROC"
   ]
  },
  {
   "cell_type": "code",
   "execution_count": 43,
   "id": "311d67d3",
   "metadata": {
    "ExecuteTime": {
     "end_time": "2021-07-20T17:23:21.790721Z",
     "start_time": "2021-07-20T17:23:21.388951Z"
    },
    "run_control": {
     "marked": false
    }
   },
   "outputs": [
    {
     "data": {
      "image/png": "[encoded data removed]",
      "text/plain": [
       "<Figure size 432x288 with 1 Axes>"
      ]
     },
     "metadata": {},
     "output_type": "display_data"
    }
   ],
   "source": [
    "fpr, tpr, _ = metrics.roc_curve(y_test, logreg_pred_probRS)\n",
    "auc = metrics.roc_auc_score(y_test, logreg_pred_probRS)\n",
    "plt.plot(fpr,tpr,label=\"data 1, auc=\"+str(auc))\n",
    "plt.legend(loc=4)\n",
    "plt.show()"
   ]
  },
  {
   "cell_type": "markdown",
   "id": "b0243713",
   "metadata": {},
   "source": [
    "## PRC"
   ]
  },
  {
   "cell_type": "code",
   "execution_count": 44,
   "id": "cb4b2643",
   "metadata": {
    "ExecuteTime": {
     "end_time": "2021-07-20T17:23:21.898661Z",
     "start_time": "2021-07-20T17:23:21.844692Z"
    },
    "run_control": {
     "marked": false
    }
   },
   "outputs": [
    {
     "name": "stdout",
     "output_type": "stream",
     "text": [
      "Average precision-recall score: 0.97\n"
     ]
    }
   ],
   "source": [
    "from sklearn.metrics import average_precision_score\n",
    "y_scoreRS = logregRS.decision_function(X_test_robust)\n",
    "average_precisionRS = average_precision_score(y_test, y_scoreRS)\n",
    "\n",
    "print('Average precision-recall score: {0:0.2f}'.format(\n",
    "      average_precision))"
   ]
  },
  {
   "cell_type": "code",
   "execution_count": 45,
   "id": "53c3b865",
   "metadata": {
    "ExecuteTime": {
     "end_time": "2021-07-20T17:23:22.042575Z",
     "start_time": "2021-07-20T17:23:21.980612Z"
    },
    "run_control": {
     "marked": false
    }
   },
   "outputs": [],
   "source": [
    "from sklearn.metrics import precision_recall_curve\n",
    "from sklearn.metrics import plot_precision_recall_curve\n",
    "#Plot PR curve\n",
    "\n",
    "#Generating points to plot on recall precision curve\n",
    "precision, recall, thresholds = precision_recall_curve(y_test, logreg_pred_probRS)\n",
    "average_precision = average_precision_score(y_test, logreg_pred_probRS)\n",
    "\n"
   ]
  },
  {
   "cell_type": "code",
   "execution_count": 46,
   "id": "82f73774",
   "metadata": {
    "ExecuteTime": {
     "end_time": "2021-07-20T17:23:22.596919Z",
     "start_time": "2021-07-20T17:23:22.083553Z"
    },
    "run_control": {
     "marked": false
    }
   },
   "outputs": [
    {
     "data": {
      "text/plain": [
       "Text(0.5, 1.0, '2-class Precision-Recall curve: AP=0.97')"
      ]
     },
     "execution_count": 46,
     "metadata": {},
     "output_type": "execute_result"
    },
    {
     "data": {
      "image/png": "[encoded data removed]",
      "text/plain": [
       "<Figure size 432x288 with 1 Axes>"
      ]
     },
     "metadata": {},
     "output_type": "display_data"
    }
   ],
   "source": [
    "disp = plot_precision_recall_curve(logregRS, X_test_robust, y_test)\n",
    "disp.ax_.set_title('2-class Precision-Recall curve: '\n",
    "                   'AP={0:0.2f}'.format(average_precision))"
   ]
  },
  {
   "cell_type": "markdown",
   "id": "410e8031",
   "metadata": {},
   "source": [
    "## Cross Validation"
   ]
  },
  {
   "cell_type": "code",
   "execution_count": 47,
   "id": "e5682d7b",
   "metadata": {
    "ExecuteTime": {
     "end_time": "2021-07-20T17:23:36.713461Z",
     "start_time": "2021-07-20T17:23:36.694475Z"
    },
    "run_control": {
     "marked": false
    }
   },
   "outputs": [],
   "source": [
    "from sklearn.model_selection import cross_validate\n",
    "from sklearn.metrics import recall_score"
   ]
  },
  {
   "cell_type": "code",
   "execution_count": 48,
   "id": "5be2f3a7",
   "metadata": {
    "ExecuteTime": {
     "end_time": "2021-07-20T17:25:29.777556Z",
     "start_time": "2021-07-20T17:23:36.760864Z"
    },
    "run_control": {
     "marked": false
    }
   },
   "outputs": [],
   "source": [
    "scoring = ['precision_macro', 'recall_macro']\n",
    "scores2 = cross_validate (logregRS, X, y, scoring=scoring, cv=5, return_train_score=True)\n",
    "sorted(scores2.keys())\n",
    "\n",
    "scores_df2= pd.DataFrame(scores)"
   ]
  },
  {
   "cell_type": "code",
   "execution_count": 49,
   "id": "408dafcb",
   "metadata": {
    "ExecuteTime": {
     "end_time": "2021-07-20T17:25:29.858156Z",
     "start_time": "2021-07-20T17:25:29.828178Z"
    },
    "run_control": {
     "marked": false
    }
   },
   "outputs": [
    {
     "data": {
      "text/html": [
       "<div>\n",
       "<style scoped>\n",
       "    .dataframe tbody tr th:only-of-type {\n",
       "        vertical-align: middle;\n",
       "    }\n",
       "\n",
       "    .dataframe tbody tr th {\n",
       "        vertical-align: top;\n",
       "    }\n",
       "\n",
       "    .dataframe thead th {\n",
       "        text-align: right;\n",
       "    }\n",
       "</style>\n",
       "<table border=\"1\" class=\"dataframe\">\n",
       "  <thead>\n",
       "    <tr style=\"text-align: right;\">\n",
       "      <th></th>\n",
       "      <th>fit_time</th>\n",
       "      <th>score_time</th>\n",
       "      <th>test_precision_macro</th>\n",
       "      <th>train_precision_macro</th>\n",
       "      <th>test_recall_macro</th>\n",
       "      <th>train_recall_macro</th>\n",
       "    </tr>\n",
       "  </thead>\n",
       "  <tbody>\n",
       "    <tr>\n",
       "      <th>0</th>\n",
       "      <td>16.951972</td>\n",
       "      <td>0.376038</td>\n",
       "      <td>0.809479</td>\n",
       "      <td>0.798525</td>\n",
       "      <td>0.739396</td>\n",
       "      <td>0.722493</td>\n",
       "    </tr>\n",
       "    <tr>\n",
       "      <th>1</th>\n",
       "      <td>30.972321</td>\n",
       "      <td>0.422460</td>\n",
       "      <td>0.810027</td>\n",
       "      <td>0.808712</td>\n",
       "      <td>0.724033</td>\n",
       "      <td>0.719870</td>\n",
       "    </tr>\n",
       "    <tr>\n",
       "      <th>2</th>\n",
       "      <td>18.400360</td>\n",
       "      <td>0.376051</td>\n",
       "      <td>0.799238</td>\n",
       "      <td>0.801422</td>\n",
       "      <td>0.704370</td>\n",
       "      <td>0.730484</td>\n",
       "    </tr>\n",
       "    <tr>\n",
       "      <th>3</th>\n",
       "      <td>21.121805</td>\n",
       "      <td>0.348675</td>\n",
       "      <td>0.788182</td>\n",
       "      <td>0.803548</td>\n",
       "      <td>0.722724</td>\n",
       "      <td>0.735533</td>\n",
       "    </tr>\n",
       "    <tr>\n",
       "      <th>4</th>\n",
       "      <td>17.334939</td>\n",
       "      <td>0.391690</td>\n",
       "      <td>0.804920</td>\n",
       "      <td>0.798533</td>\n",
       "      <td>0.740483</td>\n",
       "      <td>0.725298</td>\n",
       "    </tr>\n",
       "  </tbody>\n",
       "</table>\n",
       "</div>"
      ],
      "text/plain": [
       "    fit_time  score_time  test_precision_macro  train_precision_macro  \\\n",
       "0  16.951972    0.376038              0.809479               0.798525   \n",
       "1  30.972321    0.422460              0.810027               0.808712   \n",
       "2  18.400360    0.376051              0.799238               0.801422   \n",
       "3  21.121805    0.348675              0.788182               0.803548   \n",
       "4  17.334939    0.391690              0.804920               0.798533   \n",
       "\n",
       "   test_recall_macro  train_recall_macro  \n",
       "0           0.739396            0.722493  \n",
       "1           0.724033            0.719870  \n",
       "2           0.704370            0.730484  \n",
       "3           0.722724            0.735533  \n",
       "4           0.740483            0.725298  "
      ]
     },
     "execution_count": 49,
     "metadata": {},
     "output_type": "execute_result"
    }
   ],
   "source": [
    "scores_df2"
   ]
  },
  {
   "cell_type": "code",
   "execution_count": 50,
   "id": "3c071d1d",
   "metadata": {
    "ExecuteTime": {
     "end_time": "2021-07-20T17:25:29.999224Z",
     "start_time": "2021-07-20T17:25:29.933266Z"
    },
    "run_control": {
     "marked": false
    }
   },
   "outputs": [
    {
     "data": {
      "text/html": [
       "<div>\n",
       "<style scoped>\n",
       "    .dataframe tbody tr th:only-of-type {\n",
       "        vertical-align: middle;\n",
       "    }\n",
       "\n",
       "    .dataframe tbody tr th {\n",
       "        vertical-align: top;\n",
       "    }\n",
       "\n",
       "    .dataframe thead th {\n",
       "        text-align: right;\n",
       "    }\n",
       "</style>\n",
       "<table border=\"1\" class=\"dataframe\">\n",
       "  <thead>\n",
       "    <tr style=\"text-align: right;\">\n",
       "      <th></th>\n",
       "      <th>fit_time</th>\n",
       "      <th>score_time</th>\n",
       "      <th>test_precision_macro</th>\n",
       "      <th>train_precision_macro</th>\n",
       "      <th>test_recall_macro</th>\n",
       "      <th>train_recall_macro</th>\n",
       "    </tr>\n",
       "  </thead>\n",
       "  <tbody>\n",
       "    <tr>\n",
       "      <th>min</th>\n",
       "      <td>16.951972</td>\n",
       "      <td>0.348675</td>\n",
       "      <td>0.788182</td>\n",
       "      <td>0.798525</td>\n",
       "      <td>0.704370</td>\n",
       "      <td>0.719870</td>\n",
       "    </tr>\n",
       "    <tr>\n",
       "      <th>max</th>\n",
       "      <td>30.972321</td>\n",
       "      <td>0.422460</td>\n",
       "      <td>0.810027</td>\n",
       "      <td>0.808712</td>\n",
       "      <td>0.740483</td>\n",
       "      <td>0.735533</td>\n",
       "    </tr>\n",
       "    <tr>\n",
       "      <th>mean</th>\n",
       "      <td>20.956279</td>\n",
       "      <td>0.382983</td>\n",
       "      <td>0.802369</td>\n",
       "      <td>0.802148</td>\n",
       "      <td>0.726201</td>\n",
       "      <td>0.726736</td>\n",
       "    </tr>\n",
       "  </tbody>\n",
       "</table>\n",
       "</div>"
      ],
      "text/plain": [
       "       fit_time  score_time  test_precision_macro  train_precision_macro  \\\n",
       "min   16.951972    0.348675              0.788182               0.798525   \n",
       "max   30.972321    0.422460              0.810027               0.808712   \n",
       "mean  20.956279    0.382983              0.802369               0.802148   \n",
       "\n",
       "      test_recall_macro  train_recall_macro  \n",
       "min            0.704370            0.719870  \n",
       "max            0.740483            0.735533  \n",
       "mean           0.726201            0.726736  "
      ]
     },
     "execution_count": 50,
     "metadata": {},
     "output_type": "execute_result"
    }
   ],
   "source": [
    "scores_df2.describe().loc[['min','max','mean'] ]"
   ]
  },
  {
   "cell_type": "markdown",
   "id": "edd18e71",
   "metadata": {},
   "source": [
    "## Comparació Resultats Model 1\n",
    "\n",
    "Ara q ja tenim les dades del model amb i sense pre-processing comparem les dades:"
   ]
  },
  {
   "cell_type": "code",
   "execution_count": 51,
   "id": "35c9b20e",
   "metadata": {
    "ExecuteTime": {
     "end_time": "2021-07-20T17:25:51.717070Z",
     "start_time": "2021-07-20T17:25:51.423241Z"
    },
    "run_control": {
     "marked": false
    },
    "scrolled": true
   },
   "outputs": [
    {
     "name": "stdout",
     "output_type": "stream",
     "text": [
      "ClassificationReport de LogisticRegresion\n",
      "              precision    recall  f1-score   support\n",
      "\n",
      "           0       0.89      0.98      0.93     34471\n",
      "           1       0.98      0.88      0.93     34466\n",
      "\n",
      "    accuracy                           0.93     68937\n",
      "   macro avg       0.93      0.93      0.93     68937\n",
      "weighted avg       0.93      0.93      0.93     68937\n",
      "\n",
      "ClassificationReport de LogisticRegresion amb RobustScaler\n",
      "              precision    recall  f1-score   support\n",
      "\n",
      "           0       0.90      0.97      0.93     34471\n",
      "           1       0.96      0.89      0.92     34466\n",
      "\n",
      "    accuracy                           0.93     68937\n",
      "   macro avg       0.93      0.93      0.93     68937\n",
      "weighted avg       0.93      0.93      0.93     68937\n",
      "\n"
     ]
    }
   ],
   "source": [
    "print('ClassificationReport de LogisticRegresion')\n",
    "print(classification_report(y_test,logreg_pred) )\n",
    "print('ClassificationReport de LogisticRegresion amb RobustScaler')\n",
    "print(classification_report(y_test,logreg_predRS))"
   ]
  },
  {
   "cell_type": "markdown",
   "id": "df714b60",
   "metadata": {},
   "source": [
    "# Model 2 KNN"
   ]
  },
  {
   "cell_type": "markdown",
   "id": "79f6dc09",
   "metadata": {},
   "source": [
    "## train test split  \n",
    "\n",
    "Per tal de poder treballar amb models més complicats he probat de reduïr la mida dels grups Train i Test."
   ]
  },
  {
   "cell_type": "code",
   "execution_count": 52,
   "id": "8e466ef5",
   "metadata": {
    "ExecuteTime": {
     "end_time": "2021-07-20T17:26:16.075274Z",
     "start_time": "2021-07-20T17:26:15.625167Z"
    },
    "run_control": {
     "marked": false
    }
   },
   "outputs": [
    {
     "name": "stdout",
     "output_type": "stream",
     "text": [
      "Variables caracteristiques, Train:  (359678, 14)\n",
      "Variables caracteristiques, Test:  (35968, 14)\n",
      "Variable objectiu, Train:  (359678,)\n",
      "Variables objectiu, Test:  (35968,)\n"
     ]
    }
   ],
   "source": [
    "from sklearn.model_selection import train_test_split\n",
    "X_train,X_test,y_train,y_test=train_test_split(X_tl,y_tl,test_size=0.02,train_size=0.20,random_state=42)\n",
    "\n",
    "print( 'Variables caracteristiques, Train: ', X_train.shape )\n",
    "print( 'Variables caracteristiques, Test: ', X_test.shape )\n",
    "print( 'Variable objectiu, Train: ', y_train.shape )\n",
    "print( 'Variables objectiu, Test: ', y_test.shape )"
   ]
  },
  {
   "cell_type": "markdown",
   "id": "1de63c91",
   "metadata": {},
   "source": [
    "## Classifier"
   ]
  },
  {
   "cell_type": "code",
   "execution_count": 53,
   "id": "54fe34d5",
   "metadata": {
    "ExecuteTime": {
     "end_time": "2021-07-20T17:26:37.806558Z",
     "start_time": "2021-07-20T17:26:24.400710Z"
    },
    "run_control": {
     "marked": false
    }
   },
   "outputs": [],
   "source": [
    "from sklearn.neighbors import KNeighborsClassifier\n",
    "classifier = KNeighborsClassifier(n_neighbors=3)\n",
    "classifier.fit(X_train, y_train)\n",
    "y_pred = classifier.predict(X_test)"
   ]
  },
  {
   "cell_type": "code",
   "execution_count": 54,
   "id": "dc13d9f0",
   "metadata": {
    "ExecuteTime": {
     "end_time": "2021-07-20T17:26:47.493348Z",
     "start_time": "2021-07-20T17:26:44.690288Z"
    },
    "run_control": {
     "marked": false
    }
   },
   "outputs": [],
   "source": [
    "y_pred_probKNN = classifier.predict_proba(X_test)[::,1]"
   ]
  },
  {
   "cell_type": "markdown",
   "id": "8a4d897d",
   "metadata": {},
   "source": [
    "## Matriu de Confusió\n"
   ]
  },
  {
   "cell_type": "code",
   "execution_count": 55,
   "id": "bbea6a5e",
   "metadata": {
    "ExecuteTime": {
     "end_time": "2021-07-20T17:26:47.603549Z",
     "start_time": "2021-07-20T17:26:47.536584Z"
    },
    "run_control": {
     "marked": false
    },
    "scrolled": true
   },
   "outputs": [
    {
     "name": "stdout",
     "output_type": "stream",
     "text": [
      "[[  627  2262]\n",
      " [ 1006 32073]]\n"
     ]
    }
   ],
   "source": [
    "from sklearn import metrics\n",
    "from sklearn.metrics import classification_report\n",
    "print(metrics.confusion_matrix(y_test, y_pred))\n"
   ]
  },
  {
   "cell_type": "code",
   "execution_count": 56,
   "id": "2a81d385",
   "metadata": {
    "ExecuteTime": {
     "end_time": "2021-07-20T17:26:47.746464Z",
     "start_time": "2021-07-20T17:26:47.673513Z"
    },
    "run_control": {
     "marked": false
    }
   },
   "outputs": [],
   "source": [
    "cnf_matrix_KN= pd.DataFrame(metrics.confusion_matrix(y_test, y_pred))"
   ]
  },
  {
   "cell_type": "code",
   "execution_count": 57,
   "id": "a3c430ec",
   "metadata": {
    "ExecuteTime": {
     "end_time": "2021-07-20T17:26:48.110635Z",
     "start_time": "2021-07-20T17:26:47.790447Z"
    },
    "run_control": {
     "marked": false
    }
   },
   "outputs": [
    {
     "data": {
      "image/png": "[encoded data removed]",
      "text/plain": [
       "<Figure size 504x504 with 1 Axes>"
      ]
     },
     "metadata": {},
     "output_type": "display_data"
    }
   ],
   "source": [
    "#plot CM  \n",
    "\n",
    "fig, ax = plt.subplots(figsize = (7,7))\n",
    "sns.heatmap(pd.DataFrame(cnf_matrix_KN.T), annot=True, annot_kws={\"size\": 15}, cmap=\"Purples\", vmin=0, vmax=30000, fmt='.0f', linewidths=1, linecolor=\"white\", cbar=False,\n",
    "           xticklabels=[\"ArrOntime\",\"ArrDelay\"], yticklabels=[\"ArrOntime\",\"ArrDelay\"])\n",
    "plt.ylabel(\"Predicted\", fontsize=15)\n",
    "plt.xlabel(\"Actual\", fontsize=15)\n",
    "ax.set_xticklabels([\"ArrOntime\",\"ArrDelay\"], fontsize=13)\n",
    "ax.set_yticklabels([\"ArrOntime\",\"ArrDelay\"], fontsize=13)\n",
    "plt.title(\"Confusion Matrix for KNN Classifier (Threshold = 0.5) - Counts\", fontsize=15)\n",
    "plt.show()"
   ]
  },
  {
   "cell_type": "markdown",
   "id": "692c5d8f",
   "metadata": {},
   "source": [
    "## Resultats\n"
   ]
  },
  {
   "cell_type": "code",
   "execution_count": 58,
   "id": "4a7f46e5",
   "metadata": {
    "ExecuteTime": {
     "end_time": "2021-07-20T17:27:02.925053Z",
     "start_time": "2021-07-20T17:27:02.846091Z"
    },
    "run_control": {
     "marked": false
    }
   },
   "outputs": [
    {
     "name": "stdout",
     "output_type": "stream",
     "text": [
      "              precision    recall  f1-score   support\n",
      "\n",
      "           0       0.38      0.22      0.28      2889\n",
      "           1       0.93      0.97      0.95     33079\n",
      "\n",
      "    accuracy                           0.91     35968\n",
      "   macro avg       0.66      0.59      0.61     35968\n",
      "weighted avg       0.89      0.91      0.90     35968\n",
      "\n"
     ]
    }
   ],
   "source": [
    "knn_ClasReport = classification_report(y_test, y_pred)\n",
    "print(knn_ClasReport)\n"
   ]
  },
  {
   "cell_type": "markdown",
   "id": "80e0915b",
   "metadata": {},
   "source": [
    "## ROC"
   ]
  },
  {
   "cell_type": "code",
   "execution_count": 59,
   "id": "07b239d9",
   "metadata": {
    "ExecuteTime": {
     "end_time": "2021-07-20T17:27:03.386782Z",
     "start_time": "2021-07-20T17:27:02.975016Z"
    },
    "run_control": {
     "marked": false
    }
   },
   "outputs": [
    {
     "data": {
      "image/png": "[encoded data removed]",
      "text/plain": [
       "<Figure size 432x288 with 1 Axes>"
      ]
     },
     "metadata": {},
     "output_type": "display_data"
    }
   ],
   "source": [
    "fpr, tpr, _ = metrics.roc_curve(y_test, y_pred_probKNN)\n",
    "auc = metrics.roc_auc_score(y_test, y_pred_probKNN)\n",
    "plt.plot(fpr,tpr,label=\"data 1, auc=\"+str(auc))\n",
    "plt.legend(loc=4)\n",
    "plt.show()"
   ]
  },
  {
   "cell_type": "markdown",
   "id": "498831d1",
   "metadata": {},
   "source": [
    "# Model 2 KNN `RobustScaler`"
   ]
  },
  {
   "cell_type": "code",
   "execution_count": 60,
   "id": "ea98515a",
   "metadata": {
    "ExecuteTime": {
     "end_time": "2021-07-20T17:27:15.515120Z",
     "start_time": "2021-07-20T17:27:15.510125Z"
    },
    "run_control": {
     "marked": false
    }
   },
   "outputs": [],
   "source": [
    "\n",
    "from sklearn.neighbors import KNeighborsClassifier\n",
    "from sklearn import metrics\n",
    "from sklearn.preprocessing import RobustScaler \n"
   ]
  },
  {
   "cell_type": "code",
   "execution_count": 61,
   "id": "de0eb065",
   "metadata": {
    "ExecuteTime": {
     "end_time": "2021-07-20T17:27:15.579083Z",
     "start_time": "2021-07-20T17:27:15.573086Z"
    },
    "run_control": {
     "marked": false
    }
   },
   "outputs": [],
   "source": [
    "from sklearn.pipeline import make_pipeline\n",
    "pipe = make_pipeline(RobustScaler(), KNeighborsClassifier(n_neighbors=3))\n"
   ]
  },
  {
   "cell_type": "code",
   "execution_count": 62,
   "id": "7a3489cd",
   "metadata": {
    "ExecuteTime": {
     "end_time": "2021-07-20T17:42:11.543238Z",
     "start_time": "2021-07-20T17:27:23.049029Z"
    },
    "run_control": {
     "marked": false
    }
   },
   "outputs": [
    {
     "data": {
      "text/plain": [
       "Pipeline(steps=[('robustscaler', RobustScaler()),\n",
       "                ('kneighborsclassifier', KNeighborsClassifier(n_neighbors=3))])"
      ]
     },
     "execution_count": 62,
     "metadata": {},
     "output_type": "execute_result"
    }
   ],
   "source": [
    "pipe.fit(X_train, y_train)"
   ]
  },
  {
   "cell_type": "code",
   "execution_count": 63,
   "id": "7d8841f7",
   "metadata": {
    "ExecuteTime": {
     "end_time": "2021-07-20T18:01:39.509481Z",
     "start_time": "2021-07-20T18:01:18.204387Z"
    },
    "run_control": {
     "marked": false
    }
   },
   "outputs": [],
   "source": [
    "y_predKN_RS = pipe.predict(X_test)"
   ]
  },
  {
   "cell_type": "code",
   "execution_count": 64,
   "id": "770f344b",
   "metadata": {
    "ExecuteTime": {
     "end_time": "2021-07-20T18:01:58.914936Z",
     "start_time": "2021-07-20T18:01:39.549089Z"
    },
    "run_control": {
     "marked": false
    }
   },
   "outputs": [],
   "source": [
    "y_pred_probKN_RS = pipe.predict_proba(X_test)[::,1]"
   ]
  },
  {
   "cell_type": "markdown",
   "id": "c6a1edb8",
   "metadata": {},
   "source": [
    "## Matriu de confusió"
   ]
  },
  {
   "cell_type": "code",
   "execution_count": 68,
   "id": "534706be",
   "metadata": {
    "ExecuteTime": {
     "end_time": "2021-07-20T18:02:40.372096Z",
     "start_time": "2021-07-20T18:02:40.300135Z"
    },
    "run_control": {
     "marked": true
    }
   },
   "outputs": [
    {
     "name": "stdout",
     "output_type": "stream",
     "text": [
      "[[ 1355  1534]\n",
      " [  932 32147]]\n"
     ]
    }
   ],
   "source": [
    "print(metrics.confusion_matrix(y_test, y_predKN_RS))\n"
   ]
  },
  {
   "cell_type": "code",
   "execution_count": 69,
   "id": "2a763dba",
   "metadata": {
    "ExecuteTime": {
     "end_time": "2021-07-20T18:02:40.499020Z",
     "start_time": "2021-07-20T18:02:40.432055Z"
    },
    "run_control": {
     "marked": true
    }
   },
   "outputs": [],
   "source": [
    "cnf_matrix_KNRS= pd.DataFrame(metrics.confusion_matrix(y_test, y_predKN_RS))"
   ]
  },
  {
   "cell_type": "code",
   "execution_count": 70,
   "id": "08d92fcc",
   "metadata": {
    "ExecuteTime": {
     "end_time": "2021-07-20T18:02:40.895789Z",
     "start_time": "2021-07-20T18:02:40.560983Z"
    },
    "run_control": {
     "marked": true
    }
   },
   "outputs": [
    {
     "data": {
      "image/png": "[encoded data removed]",
      "text/plain": [
       "<Figure size 504x504 with 1 Axes>"
      ]
     },
     "metadata": {},
     "output_type": "display_data"
    }
   ],
   "source": [
    "#plot CM  \n",
    "\n",
    "fig, ax = plt.subplots(figsize = (7,7))\n",
    "sns.heatmap(pd.DataFrame(cnf_matrix_KNRS.T), annot=True, annot_kws={\"size\": 15}, cmap=\"Purples\", vmin=0, vmax=30000, fmt='.0f', linewidths=1, linecolor=\"white\", cbar=False,\n",
    "           xticklabels=[\"ArrOntime\",\"ArrDelay\"], yticklabels=[\"ArrOntime\",\"ArrDelay\"])\n",
    "plt.ylabel(\"Predicted\", fontsize=15)\n",
    "plt.xlabel(\"Actual\", fontsize=15)\n",
    "ax.set_xticklabels([\"ArrOntime\",\"ArrDelay\"], fontsize=13)\n",
    "ax.set_yticklabels([\"ArrOntime\",\"ArrDelay\"], fontsize=13)\n",
    "plt.title(\"Confusion Matrix for KNN and RobustScaler Classifier (Threshold = 0.5) - Counts\", fontsize=15)\n",
    "plt.show()"
   ]
  },
  {
   "cell_type": "markdown",
   "id": "0cbc63a8",
   "metadata": {},
   "source": [
    "## Resultats"
   ]
  },
  {
   "cell_type": "code",
   "execution_count": 71,
   "id": "37d527d4",
   "metadata": {
    "ExecuteTime": {
     "end_time": "2021-07-20T18:02:41.038227Z",
     "start_time": "2021-07-20T18:02:40.958761Z"
    },
    "run_control": {
     "marked": true
    }
   },
   "outputs": [
    {
     "name": "stdout",
     "output_type": "stream",
     "text": [
      "              precision    recall  f1-score   support\n",
      "\n",
      "           0       0.59      0.47      0.52      2889\n",
      "           1       0.95      0.97      0.96     33079\n",
      "\n",
      "    accuracy                           0.93     35968\n",
      "   macro avg       0.77      0.72      0.74     35968\n",
      "weighted avg       0.93      0.93      0.93     35968\n",
      "\n"
     ]
    }
   ],
   "source": [
    "\n",
    "\n",
    "print(classification_report(y_test, y_predKN_RS))"
   ]
  },
  {
   "cell_type": "markdown",
   "id": "1631b2e2",
   "metadata": {},
   "source": [
    "## ROC"
   ]
  },
  {
   "cell_type": "code",
   "execution_count": 72,
   "id": "4fa3219d",
   "metadata": {
    "ExecuteTime": {
     "end_time": "2021-07-20T18:02:41.436999Z",
     "start_time": "2021-07-20T18:02:41.055219Z"
    },
    "run_control": {
     "marked": true
    }
   },
   "outputs": [
    {
     "data": {
      "image/png": "[encoded data removed]",
      "text/plain": [
       "<Figure size 432x288 with 1 Axes>"
      ]
     },
     "metadata": {},
     "output_type": "display_data"
    }
   ],
   "source": [
    "fpr, tpr, _ = metrics.roc_curve(y_test, y_pred_probKN_RS)\n",
    "auc = metrics.roc_auc_score(y_test, y_pred_probKN_RS)\n",
    "plt.plot(fpr,tpr,label=\"data 1, auc=\"+str(auc))\n",
    "plt.legend(loc=4)\n",
    "plt.show()"
   ]
  },
  {
   "cell_type": "markdown",
   "id": "85c5f4b2",
   "metadata": {},
   "source": [
    "## Cross Validation"
   ]
  },
  {
   "cell_type": "code",
   "execution_count": null,
   "id": "ae86cba3",
   "metadata": {
    "ExecuteTime": {
     "start_time": "2021-07-20T18:02:41.486Z"
    },
    "run_control": {
     "marked": true
    }
   },
   "outputs": [],
   "source": [
    "scoring = ['precision_macro', 'recall_macro']\n",
    "scores4 = cross_validate (pipe, X, y, scoring=scoring, cv=5, return_train_score=True)\n",
    "sorted(scores.keys())\n",
    "\n",
    "scores_df4= pd.DataFrame(scores4)"
   ]
  },
  {
   "cell_type": "code",
   "execution_count": null,
   "id": "1539dd18",
   "metadata": {
    "ExecuteTime": {
     "start_time": "2021-07-20T16:30:54.849Z"
    },
    "run_control": {
     "marked": true
    }
   },
   "outputs": [],
   "source": [
    "scores_df4"
   ]
  },
  {
   "cell_type": "code",
   "execution_count": null,
   "id": "bbdf8491",
   "metadata": {
    "ExecuteTime": {
     "start_time": "2021-07-20T16:30:56.622Z"
    },
    "run_control": {
     "marked": true
    }
   },
   "outputs": [],
   "source": [
    "scores_df4.describe().loc[['min','max','mean'] ]"
   ]
  },
  {
   "cell_type": "markdown",
   "id": "0f25f3aa",
   "metadata": {},
   "source": [
    "# Model 3 SVM"
   ]
  },
  {
   "cell_type": "code",
   "execution_count": 13,
   "id": "999d0b30-e9a8-4965-8db8-18c952c2f8e3",
   "metadata": {},
   "outputs": [],
   "source": [
    "from sklearn.model_selection import train_test_split\n",
    "X_train,X_test,y_train,y_test=train_test_split(X_nm,y_nm,test_size=0.02,train_size=0.20,random_state=42)"
   ]
  },
  {
   "cell_type": "code",
   "execution_count": 14,
   "id": "52dfe76d-2d70-4033-9de1-4c5425e4798f",
   "metadata": {},
   "outputs": [
    {
     "name": "stdout",
     "output_type": "stream",
     "text": [
      "(85337, 14) (8534, 14)\n",
      "(85337,) (8534,)\n"
     ]
    }
   ],
   "source": [
    "print(X_train.shape, X_test.shape)\n",
    "print(y_train.shape, y_test.shape)"
   ]
  },
  {
   "cell_type": "code",
   "execution_count": 15,
   "id": "0e09c2ba",
   "metadata": {
    "run_control": {
     "marked": false
    }
   },
   "outputs": [],
   "source": [
    "from sklearn import svm \n",
    "from sklearn import metrics\n",
    "from sklearn.pipeline import make_pipeline\n",
    "pipe = make_pipeline(svm.SVC(kernel= 'linear') )"
   ]
  },
  {
   "cell_type": "code",
   "execution_count": null,
   "id": "48cf7562",
   "metadata": {
    "run_control": {
     "marked": false
    }
   },
   "outputs": [],
   "source": [
    "pipe.fit(X_train, y_train)"
   ]
  },
  {
   "cell_type": "code",
   "execution_count": null,
   "id": "d7866b83",
   "metadata": {
    "run_control": {
     "marked": false
    }
   },
   "outputs": [],
   "source": [
    "#y_pred_SVM = pipe.predict(X_test)\n",
    "#y_pred_probSVM = pipe.predict_proba(X_test)[::,1]"
   ]
  },
  {
   "cell_type": "markdown",
   "id": "1b93a976",
   "metadata": {},
   "source": [
    "## Matriu de Confusió"
   ]
  },
  {
   "cell_type": "code",
   "execution_count": null,
   "id": "b95acd13",
   "metadata": {
    "run_control": {
     "marked": false
    }
   },
   "outputs": [],
   "source": [
    "from sklearn.metrics import classification_report\n",
    "\n",
    "cnf_matrix_SVM= pd.DataFrame(metrics.confusion_matrix(y_test, y_pred_SVM))\n",
    "print(cnf_matrix_SVM)"
   ]
  },
  {
   "cell_type": "code",
   "execution_count": null,
   "id": "99269bd9",
   "metadata": {
    "run_control": {
     "marked": false
    }
   },
   "outputs": [],
   "source": [
    "#plot CM  \n",
    "\n",
    "fig, ax = plt.subplots(figsize = (7,7))\n",
    "sns.heatmap(pd.DataFrame(cnf_matrix_SVM.T), annot=True, annot_kws={\"size\": 15}, cmap=\"Purples\", vmin=0, vmax=30000, fmt='.0f', linewidths=1, linecolor=\"white\", cbar=False,\n",
    "           xticklabels=[\"ArrOntime\",\"ArrDelay\"], yticklabels=[\"ArrOntime\",\"ArrDelay\"])\n",
    "plt.ylabel(\"Predicted\", fontsize=15)\n",
    "plt.xlabel(\"Actual\", fontsize=15)\n",
    "ax.set_xticklabels([\"ArrOntime\",\"ArrDelay\"], fontsize=13)\n",
    "ax.set_yticklabels([\"ArrOntime\",\"ArrDelay\"], fontsize=13)\n",
    "plt.title(\"Confusion Matrix for SVM Classifier (Threshold = 0.5) - Counts\", fontsize=15)\n",
    "plt.show()"
   ]
  },
  {
   "cell_type": "markdown",
   "id": "f01edfb3",
   "metadata": {},
   "source": [
    "## Resultats"
   ]
  },
  {
   "cell_type": "code",
   "execution_count": null,
   "id": "e88979e0",
   "metadata": {
    "ExecuteTime": {
     "start_time": "2021-07-20T16:27:26.800Z"
    },
    "run_control": {
     "marked": false
    }
   },
   "outputs": [],
   "source": [
    "from sklearn.metrics import classification_report\n",
    "from sklearn.model_selection import cross_validate\n",
    "from sklearn.metrics import recall_score\n",
    "\n",
    "print(classification_report(y_test, y_pred_SVM))"
   ]
  },
  {
   "cell_type": "markdown",
   "id": "7082d742",
   "metadata": {},
   "source": [
    "## ROC"
   ]
  },
  {
   "cell_type": "code",
   "execution_count": null,
   "id": "502993b3",
   "metadata": {
    "run_control": {
     "marked": false
    }
   },
   "outputs": [],
   "source": [
    "fpr, tpr, _ = metrics.roc_curve(y_test, y_pred_probSVM)\n",
    "auc = metrics.roc_auc_score(y_test, y_pred_probSVM)\n",
    "plt.plot(fpr,tpr,label=\"data 1, auc=\"+str(auc))\n",
    "plt.legend(loc=4)\n",
    "plt.show()"
   ]
  },
  {
   "cell_type": "markdown",
   "id": "26e4053e",
   "metadata": {},
   "source": [
    "## Cross Validation"
   ]
  },
  {
   "cell_type": "code",
   "execution_count": 53,
   "id": "abaa22fb",
   "metadata": {
    "ExecuteTime": {
     "end_time": "2021-07-20T16:27:02.535944Z",
     "start_time": "2021-07-20T16:27:02.530951Z"
    },
    "run_control": {
     "marked": false
    }
   },
   "outputs": [],
   "source": [
    "from sklearn.metrics import classification_report\n",
    "from sklearn.model_selection import cross_validate\n",
    "from sklearn.metrics import recall_score"
   ]
  },
  {
   "cell_type": "code",
   "execution_count": null,
   "id": "3d0abee8",
   "metadata": {
    "ExecuteTime": {
     "start_time": "2021-07-20T16:27:10.160Z"
    },
    "run_control": {
     "marked": false
    }
   },
   "outputs": [],
   "source": [
    "scoring = ['precision_macro', 'recall_macro']\n",
    "scores5 = cross_validate (pipe, X, y, scoring=scoring, cv=5, return_train_score=True)\n",
    "sorted(scores.keys())\n",
    "\n",
    "scores_df5= pd.DataFrame(scores5)"
   ]
  },
  {
   "cell_type": "code",
   "execution_count": null,
   "id": "65064286",
   "metadata": {
    "ExecuteTime": {
     "start_time": "2021-07-20T12:13:39.221Z"
    },
    "run_control": {
     "marked": false
    }
   },
   "outputs": [],
   "source": [
    "scores_df5"
   ]
  },
  {
   "cell_type": "code",
   "execution_count": null,
   "id": "94160ec9",
   "metadata": {
    "ExecuteTime": {
     "start_time": "2021-07-20T12:13:40.548Z"
    },
    "run_control": {
     "marked": false
    }
   },
   "outputs": [],
   "source": [
    "scores_df5.describe().loc[['min','max','mean'] ]"
   ]
  },
  {
   "cell_type": "markdown",
   "id": "1f02c824",
   "metadata": {},
   "source": [
    "# Model 3 SVM `RobustScaler`"
   ]
  },
  {
   "cell_type": "code",
   "execution_count": null,
   "id": "6ebb7745",
   "metadata": {
    "run_control": {
     "marked": false
    }
   },
   "outputs": [],
   "source": [
    "from sklearn import svm \n",
    "from sklearn import metrics\n",
    "\n",
    "pipe = make_pipeline(RobustScaler(),svm.SVC(kernel= 'linear') )"
   ]
  },
  {
   "cell_type": "code",
   "execution_count": null,
   "id": "ddaa39f0",
   "metadata": {
    "run_control": {
     "marked": false
    }
   },
   "outputs": [],
   "source": [
    "pipe.fit(X_train, y_train)"
   ]
  },
  {
   "cell_type": "code",
   "execution_count": null,
   "id": "515f9c40",
   "metadata": {
    "run_control": {
     "marked": false
    }
   },
   "outputs": [],
   "source": [
    "y_pred_SVM_RS = pipe.predict(X_test)\n",
    "y_pred_probSVM_RS = pipe.predict_proba(X_test)[::,1]"
   ]
  },
  {
   "cell_type": "markdown",
   "id": "66c458b3",
   "metadata": {},
   "source": [
    "## Matriu de Confusió"
   ]
  },
  {
   "cell_type": "code",
   "execution_count": null,
   "id": "f9c16ec9",
   "metadata": {
    "run_control": {
     "marked": false
    }
   },
   "outputs": [],
   "source": [
    "from sklearn.metrics import classification_report\n",
    "\n",
    "cnf_matrix_SVM_RS= pd.DataFrame(metrics.confusion_matrix(y_test, y_pred_SVM_RS))\n",
    "print(cnf_matrix_SVM_RS)"
   ]
  },
  {
   "cell_type": "code",
   "execution_count": null,
   "id": "70225bbe",
   "metadata": {
    "run_control": {
     "marked": false
    }
   },
   "outputs": [],
   "source": [
    "#plot CM  \n",
    "\n",
    "fig, ax = plt.subplots(figsize = (7,7))\n",
    "sns.heatmap(pd.DataFrame(cnf_matrix_SVM_RS.T), annot=True, annot_kws={\"size\": 15}, cmap=\"Purples\", vmin=0, vmax=30000, fmt='.0f', linewidths=1, linecolor=\"white\", cbar=False,\n",
    "           xticklabels=[\"ArrOntime\",\"ArrDelay\"], yticklabels=[\"ArrOntime\",\"ArrDelay\"])\n",
    "plt.ylabel(\"Predicted\", fontsize=15)\n",
    "plt.xlabel(\"Actual\", fontsize=15)\n",
    "ax.set_xticklabels([\"ArrOntime\",\"ArrDelay\"], fontsize=13)\n",
    "ax.set_yticklabels([\"ArrOntime\",\"ArrDelay\"], fontsize=13)\n",
    "plt.title(\"Confusion Matrix for SVM Classifier (Threshold = 0.5) - Counts\", fontsize=15)\n",
    "plt.show()"
   ]
  },
  {
   "cell_type": "markdown",
   "id": "1d5f8a37",
   "metadata": {},
   "source": [
    "## Resultats"
   ]
  },
  {
   "cell_type": "code",
   "execution_count": null,
   "id": "1ad0fa76",
   "metadata": {
    "run_control": {
     "marked": false
    }
   },
   "outputs": [],
   "source": [
    "print(classification_report(y_test, y_pred_SVM_RS))"
   ]
  },
  {
   "cell_type": "markdown",
   "id": "f1dbbfcd",
   "metadata": {},
   "source": [
    "## ROC"
   ]
  },
  {
   "cell_type": "code",
   "execution_count": null,
   "id": "760a6c3c",
   "metadata": {
    "run_control": {
     "marked": false
    }
   },
   "outputs": [],
   "source": [
    "fpr, tpr, _ = metrics.roc_curve(y_test, y_pred_probSVM_RS)\n",
    "auc = metrics.roc_auc_score(y_test, y_pred_probSVM_RS)\n",
    "plt.plot(fpr,tpr,label=\"data 1, auc=\"+str(auc))\n",
    "plt.legend(loc=4)\n",
    "plt.show()"
   ]
  },
  {
   "cell_type": "markdown",
   "id": "ee83c0e3",
   "metadata": {},
   "source": [
    "## Cross Validation"
   ]
  },
  {
   "cell_type": "code",
   "execution_count": 73,
   "id": "ff8004a0",
   "metadata": {
    "ExecuteTime": {
     "end_time": "2021-07-20T16:27:02.535944Z",
     "start_time": "2021-07-20T16:27:02.530951Z"
    },
    "run_control": {
     "marked": false
    }
   },
   "outputs": [],
   "source": [
    "from sklearn.model_selection import cross_validate\n",
    "from sklearn.metrics import recall_score"
   ]
  },
  {
   "cell_type": "code",
   "execution_count": null,
   "id": "1034e73b",
   "metadata": {
    "ExecuteTime": {
     "start_time": "2021-07-20T16:27:10.160Z"
    },
    "run_control": {
     "marked": false
    }
   },
   "outputs": [],
   "source": [
    "scoring = ['precision_macro', 'recall_macro']\n",
    "scores6 = cross_validate (pipe, X, y, scoring=scoring, cv=5, return_train_score=True)\n",
    "sorted(scores.keys())\n",
    "\n",
    "scores_df6= pd.DataFrame(scores6)"
   ]
  },
  {
   "cell_type": "code",
   "execution_count": null,
   "id": "ee4bb001",
   "metadata": {
    "ExecuteTime": {
     "start_time": "2021-07-20T12:13:39.221Z"
    },
    "run_control": {
     "marked": false
    }
   },
   "outputs": [],
   "source": [
    "scores_df6"
   ]
  },
  {
   "cell_type": "code",
   "execution_count": null,
   "id": "42dbae4f",
   "metadata": {
    "ExecuteTime": {
     "start_time": "2021-07-20T12:13:40.548Z"
    },
    "run_control": {
     "marked": false
    }
   },
   "outputs": [],
   "source": [
    "scores_df6.describe().loc[['min','max','mean'] ]"
   ]
  }
 ],
 "metadata": {
  "hide_input": false,
  "kernelspec": {
   "display_name": "Python 3",
   "language": "python",
   "name": "python3"
  },
  "language_info": {
   "codemirror_mode": {
    "name": "ipython",
    "version": 3
   },
   "file_extension": ".py",
   "mimetype": "text/x-python",
   "name": "python",
   "nbconvert_exporter": "python",
   "pygments_lexer": "ipython3",
   "version": "3.8.8"
  },
  "toc": {
   "base_numbering": 1,
   "nav_menu": {},
   "number_sections": true,
   "sideBar": true,
   "skip_h1_title": false,
   "title_cell": "Table of Contents",
   "title_sidebar": "Contents",
   "toc_cell": true,
   "toc_position": {
    "height": "calc(100% - 180px)",
    "left": "10px",
    "top": "150px",
    "width": "336px"
   },
   "toc_section_display": true,
   "toc_window_display": true
  },
  "toc-showcode": false
 },
 "nbformat": 4,
 "nbformat_minor": 5
}
