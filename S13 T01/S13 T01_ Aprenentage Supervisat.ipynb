{
 "cells": [
  {
   "cell_type": "markdown",
   "id": "82afa677",
   "metadata": {},
   "source": [
    "<font size=\"6\">**S13 T01: Aprenentage Supervisat**</font>"
   ]
  },
  {
   "cell_type": "markdown",
   "id": "a53c46d6",
   "metadata": {
    "toc": true
   },
   "source": [
    "<h1>Table of Contents<span class=\"tocSkip\"></span></h1>\n",
    "<div class=\"toc\"><ul class=\"toc-item\"><li><span><a href=\"#Enunciats\" data-toc-modified-id=\"Enunciats-1\"><span class=\"toc-item-num\">1&nbsp;&nbsp;</span>Enunciats</a></span></li><li><span><a href=\"#Dades\" data-toc-modified-id=\"Dades-2\"><span class=\"toc-item-num\">2&nbsp;&nbsp;</span>Dades</a></span><ul class=\"toc-item\"><li><span><a href=\"#Importació-i-Preparació-de-Dades\" data-toc-modified-id=\"Importació-i-Preparació-de-Dades-2.1\"><span class=\"toc-item-num\">2.1&nbsp;&nbsp;</span>Importació i Preparació de Dades</a></span></li><li><span><a href=\"#Selecció-de-variable-objectiu-i-característiques\" data-toc-modified-id=\"Selecció-de-variable-objectiu-i-característiques-2.2\"><span class=\"toc-item-num\">2.2&nbsp;&nbsp;</span>Selecció de variable objectiu i característiques</a></span></li><li><span><a href=\"#Comprobació-:-és-un-Dataset-equillibrat?\" data-toc-modified-id=\"Comprobació-:-és-un-Dataset-equillibrat?-2.3\"><span class=\"toc-item-num\">2.3&nbsp;&nbsp;</span>Comprobació : és un Dataset equillibrat?</a></span></li><li><span><a href=\"#Dividir-les-dades-train-test-split\" data-toc-modified-id=\"Dividir-les-dades-train-test-split-2.4\"><span class=\"toc-item-num\">2.4&nbsp;&nbsp;</span>Dividir les dades <code>train-test-split</code></a></span></li></ul></li><li><span><a href=\"#Model-1-LogisticRegression\" data-toc-modified-id=\"Model-1-LogisticRegression-3\"><span class=\"toc-item-num\">3&nbsp;&nbsp;</span>Model 1 <code>LogisticRegression</code></a></span><ul class=\"toc-item\"><li><span><a href=\"#Matriu-de-Confusió\" data-toc-modified-id=\"Matriu-de-Confusió-3.1\"><span class=\"toc-item-num\">3.1&nbsp;&nbsp;</span>Matriu de Confusió</a></span></li><li><span><a href=\"#Resultats\" data-toc-modified-id=\"Resultats-3.2\"><span class=\"toc-item-num\">3.2&nbsp;&nbsp;</span>Resultats</a></span></li><li><span><a href=\"#ROC\" data-toc-modified-id=\"ROC-3.3\"><span class=\"toc-item-num\">3.3&nbsp;&nbsp;</span>ROC</a></span></li><li><span><a href=\"#PRC\" data-toc-modified-id=\"PRC-3.4\"><span class=\"toc-item-num\">3.4&nbsp;&nbsp;</span>PRC</a></span></li><li><span><a href=\"#Cross-Validation\" data-toc-modified-id=\"Cross-Validation-3.5\"><span class=\"toc-item-num\">3.5&nbsp;&nbsp;</span>Cross Validation</a></span></li></ul></li><li><span><a href=\"#Model-1-LogisticRegression-&amp;RobustScaler\" data-toc-modified-id=\"Model-1-LogisticRegression-&amp;RobustScaler-4\"><span class=\"toc-item-num\">4&nbsp;&nbsp;</span>Model 1 <code>LogisticRegression</code> &amp;<code>RobustScaler</code></a></span><ul class=\"toc-item\"><li><span><a href=\"#Matriu-de-Confusió\" data-toc-modified-id=\"Matriu-de-Confusió-4.1\"><span class=\"toc-item-num\">4.1&nbsp;&nbsp;</span>Matriu de Confusió</a></span></li><li><span><a href=\"#Resultats\" data-toc-modified-id=\"Resultats-4.2\"><span class=\"toc-item-num\">4.2&nbsp;&nbsp;</span>Resultats</a></span></li><li><span><a href=\"#ROC\" data-toc-modified-id=\"ROC-4.3\"><span class=\"toc-item-num\">4.3&nbsp;&nbsp;</span>ROC</a></span></li><li><span><a href=\"#PRC\" data-toc-modified-id=\"PRC-4.4\"><span class=\"toc-item-num\">4.4&nbsp;&nbsp;</span>PRC</a></span></li><li><span><a href=\"#Cross-Validation\" data-toc-modified-id=\"Cross-Validation-4.5\"><span class=\"toc-item-num\">4.5&nbsp;&nbsp;</span>Cross Validation</a></span></li><li><span><a href=\"#Comparació-Resultats-Model-1\" data-toc-modified-id=\"Comparació-Resultats-Model-1-4.6\"><span class=\"toc-item-num\">4.6&nbsp;&nbsp;</span>Comparació Resultats Model 1</a></span></li></ul></li><li><span><a href=\"#Model-2-KNN\" data-toc-modified-id=\"Model-2-KNN-5\"><span class=\"toc-item-num\">5&nbsp;&nbsp;</span>Model 2 KNN</a></span><ul class=\"toc-item\"><li><span><a href=\"#train-test-split\" data-toc-modified-id=\"train-test-split-5.1\"><span class=\"toc-item-num\">5.1&nbsp;&nbsp;</span>train test split</a></span></li><li><span><a href=\"#Classifier\" data-toc-modified-id=\"Classifier-5.2\"><span class=\"toc-item-num\">5.2&nbsp;&nbsp;</span>Classifier</a></span></li><li><span><a href=\"#Matriu-de-Confusió\" data-toc-modified-id=\"Matriu-de-Confusió-5.3\"><span class=\"toc-item-num\">5.3&nbsp;&nbsp;</span>Matriu de Confusió</a></span></li><li><span><a href=\"#Resultats\" data-toc-modified-id=\"Resultats-5.4\"><span class=\"toc-item-num\">5.4&nbsp;&nbsp;</span>Resultats</a></span></li><li><span><a href=\"#ROC\" data-toc-modified-id=\"ROC-5.5\"><span class=\"toc-item-num\">5.5&nbsp;&nbsp;</span>ROC</a></span></li></ul></li><li><span><a href=\"#Model-2-KNN-RobustScaler\" data-toc-modified-id=\"Model-2-KNN-RobustScaler-6\"><span class=\"toc-item-num\">6&nbsp;&nbsp;</span>Model 2 KNN <code>RobustScaler</code></a></span><ul class=\"toc-item\"><li><span><a href=\"#Cross-Validation\" data-toc-modified-id=\"Cross-Validation-6.1\"><span class=\"toc-item-num\">6.1&nbsp;&nbsp;</span>Cross Validation</a></span></li></ul></li><li><span><a href=\"#Model-3-SVM\" data-toc-modified-id=\"Model-3-SVM-7\"><span class=\"toc-item-num\">7&nbsp;&nbsp;</span>Model 3 SVM</a></span></li></ul></div>"
   ]
  },
  {
   "cell_type": "markdown",
   "id": "285f162b",
   "metadata": {},
   "source": [
    "# Enunciats\n",
    "**Nivell 1**\n",
    "\n",
    "- Exercici 1 Crea almenys tres models de classificació diferents per intentar predir el millor possible l’endarreriment dels vols (ArrDelay) de DelayedFlights.csv. Considera si el vol ha arribat tard o no (ArrDelay > 0).  \n",
    "\n",
    "- Exercici 2 Compara els models de classificació utilitzant la precisió (accuracy), una matriu de confiança i d’altres mètriques més avançades.  \n",
    "\n",
    "- Exercici 3 Entrena’ls utilitzant els diferents paràmetres que admeten.\n",
    "\n",
    "- Exercici 4 Compara el seu rendiment utilitzant l’aproximació traint/test o cross-validation.\n",
    "\n",
    "**Nivell 2**\n",
    "\n",
    "- Exercici 5 Realitza algun procés d’enginyeria de variables per millorar-ne la predicció \n",
    "\n",
    "**Nivell 3**\n",
    "\n",
    "- Exercici 6 No utilitzis la variable `DepDelay` a l’hora de fer prediccions"
   ]
  },
  {
   "cell_type": "markdown",
   "id": "04b4aa9f",
   "metadata": {},
   "source": [
    "# Dades"
   ]
  },
  {
   "cell_type": "markdown",
   "id": "a4238e06",
   "metadata": {},
   "source": [
    "## Importació i Preparació de Dades"
   ]
  },
  {
   "cell_type": "code",
   "execution_count": 1,
   "id": "7b472b2e",
   "metadata": {
    "ExecuteTime": {
     "end_time": "2021-07-20T10:33:49.712744Z",
     "start_time": "2021-07-20T10:33:37.153839Z"
    },
    "run_control": {
     "marked": false
    }
   },
   "outputs": [
    {
     "data": {
      "text/html": [
       "<div>\n",
       "<style scoped>\n",
       "    .dataframe tbody tr th:only-of-type {\n",
       "        vertical-align: middle;\n",
       "    }\n",
       "\n",
       "    .dataframe tbody tr th {\n",
       "        vertical-align: top;\n",
       "    }\n",
       "\n",
       "    .dataframe thead th {\n",
       "        text-align: right;\n",
       "    }\n",
       "</style>\n",
       "<table border=\"1\" class=\"dataframe\">\n",
       "  <thead>\n",
       "    <tr style=\"text-align: right;\">\n",
       "      <th></th>\n",
       "      <th>Unnamed: 0</th>\n",
       "      <th>Unnamed: 0.1</th>\n",
       "      <th>Year</th>\n",
       "      <th>Month</th>\n",
       "      <th>DayofMonth</th>\n",
       "      <th>DayOfWeek</th>\n",
       "      <th>DepTime</th>\n",
       "      <th>CRSDepTime</th>\n",
       "      <th>ArrTime</th>\n",
       "      <th>CRSArrTime</th>\n",
       "      <th>...</th>\n",
       "      <th>TaxiIn</th>\n",
       "      <th>TaxiOut</th>\n",
       "      <th>Cancelled</th>\n",
       "      <th>CancellationCode</th>\n",
       "      <th>Diverted</th>\n",
       "      <th>CarrierDelay</th>\n",
       "      <th>WeatherDelay</th>\n",
       "      <th>NASDelay</th>\n",
       "      <th>SecurityDelay</th>\n",
       "      <th>LateAircraftDelay</th>\n",
       "    </tr>\n",
       "  </thead>\n",
       "  <tbody>\n",
       "    <tr>\n",
       "      <th>0</th>\n",
       "      <td>0</td>\n",
       "      <td>0</td>\n",
       "      <td>2008</td>\n",
       "      <td>1</td>\n",
       "      <td>3</td>\n",
       "      <td>4</td>\n",
       "      <td>2003.0</td>\n",
       "      <td>1955</td>\n",
       "      <td>2211.0</td>\n",
       "      <td>2225</td>\n",
       "      <td>...</td>\n",
       "      <td>4.0</td>\n",
       "      <td>8.0</td>\n",
       "      <td>0</td>\n",
       "      <td>N</td>\n",
       "      <td>0</td>\n",
       "      <td>NaN</td>\n",
       "      <td>NaN</td>\n",
       "      <td>NaN</td>\n",
       "      <td>NaN</td>\n",
       "      <td>NaN</td>\n",
       "    </tr>\n",
       "    <tr>\n",
       "      <th>1</th>\n",
       "      <td>1</td>\n",
       "      <td>1</td>\n",
       "      <td>2008</td>\n",
       "      <td>1</td>\n",
       "      <td>3</td>\n",
       "      <td>4</td>\n",
       "      <td>754.0</td>\n",
       "      <td>735</td>\n",
       "      <td>1002.0</td>\n",
       "      <td>1000</td>\n",
       "      <td>...</td>\n",
       "      <td>5.0</td>\n",
       "      <td>10.0</td>\n",
       "      <td>0</td>\n",
       "      <td>N</td>\n",
       "      <td>0</td>\n",
       "      <td>NaN</td>\n",
       "      <td>NaN</td>\n",
       "      <td>NaN</td>\n",
       "      <td>NaN</td>\n",
       "      <td>NaN</td>\n",
       "    </tr>\n",
       "    <tr>\n",
       "      <th>2</th>\n",
       "      <td>2</td>\n",
       "      <td>2</td>\n",
       "      <td>2008</td>\n",
       "      <td>1</td>\n",
       "      <td>3</td>\n",
       "      <td>4</td>\n",
       "      <td>628.0</td>\n",
       "      <td>620</td>\n",
       "      <td>804.0</td>\n",
       "      <td>750</td>\n",
       "      <td>...</td>\n",
       "      <td>3.0</td>\n",
       "      <td>17.0</td>\n",
       "      <td>0</td>\n",
       "      <td>N</td>\n",
       "      <td>0</td>\n",
       "      <td>NaN</td>\n",
       "      <td>NaN</td>\n",
       "      <td>NaN</td>\n",
       "      <td>NaN</td>\n",
       "      <td>NaN</td>\n",
       "    </tr>\n",
       "    <tr>\n",
       "      <th>3</th>\n",
       "      <td>3</td>\n",
       "      <td>4</td>\n",
       "      <td>2008</td>\n",
       "      <td>1</td>\n",
       "      <td>3</td>\n",
       "      <td>4</td>\n",
       "      <td>1829.0</td>\n",
       "      <td>1755</td>\n",
       "      <td>1959.0</td>\n",
       "      <td>1925</td>\n",
       "      <td>...</td>\n",
       "      <td>3.0</td>\n",
       "      <td>10.0</td>\n",
       "      <td>0</td>\n",
       "      <td>N</td>\n",
       "      <td>0</td>\n",
       "      <td>2.0</td>\n",
       "      <td>0.0</td>\n",
       "      <td>0.0</td>\n",
       "      <td>0.0</td>\n",
       "      <td>32.0</td>\n",
       "    </tr>\n",
       "    <tr>\n",
       "      <th>4</th>\n",
       "      <td>4</td>\n",
       "      <td>5</td>\n",
       "      <td>2008</td>\n",
       "      <td>1</td>\n",
       "      <td>3</td>\n",
       "      <td>4</td>\n",
       "      <td>1940.0</td>\n",
       "      <td>1915</td>\n",
       "      <td>2121.0</td>\n",
       "      <td>2110</td>\n",
       "      <td>...</td>\n",
       "      <td>4.0</td>\n",
       "      <td>10.0</td>\n",
       "      <td>0</td>\n",
       "      <td>N</td>\n",
       "      <td>0</td>\n",
       "      <td>NaN</td>\n",
       "      <td>NaN</td>\n",
       "      <td>NaN</td>\n",
       "      <td>NaN</td>\n",
       "      <td>NaN</td>\n",
       "    </tr>\n",
       "  </tbody>\n",
       "</table>\n",
       "<p>5 rows × 31 columns</p>\n",
       "</div>"
      ],
      "text/plain": [
       "   Unnamed: 0  Unnamed: 0.1  Year  Month  DayofMonth  DayOfWeek  DepTime  \\\n",
       "0           0             0  2008      1           3          4   2003.0   \n",
       "1           1             1  2008      1           3          4    754.0   \n",
       "2           2             2  2008      1           3          4    628.0   \n",
       "3           3             4  2008      1           3          4   1829.0   \n",
       "4           4             5  2008      1           3          4   1940.0   \n",
       "\n",
       "   CRSDepTime  ArrTime  CRSArrTime  ... TaxiIn  TaxiOut Cancelled  \\\n",
       "0        1955   2211.0        2225  ...    4.0      8.0         0   \n",
       "1         735   1002.0        1000  ...    5.0     10.0         0   \n",
       "2         620    804.0         750  ...    3.0     17.0         0   \n",
       "3        1755   1959.0        1925  ...    3.0     10.0         0   \n",
       "4        1915   2121.0        2110  ...    4.0     10.0         0   \n",
       "\n",
       "   CancellationCode  Diverted  CarrierDelay  WeatherDelay  NASDelay  \\\n",
       "0                 N         0           NaN           NaN       NaN   \n",
       "1                 N         0           NaN           NaN       NaN   \n",
       "2                 N         0           NaN           NaN       NaN   \n",
       "3                 N         0           2.0           0.0       0.0   \n",
       "4                 N         0           NaN           NaN       NaN   \n",
       "\n",
       "  SecurityDelay LateAircraftDelay  \n",
       "0           NaN               NaN  \n",
       "1           NaN               NaN  \n",
       "2           NaN               NaN  \n",
       "3           0.0              32.0  \n",
       "4           NaN               NaN  \n",
       "\n",
       "[5 rows x 31 columns]"
      ]
     },
     "execution_count": 1,
     "metadata": {},
     "output_type": "execute_result"
    }
   ],
   "source": [
    "import pandas as pd \n",
    "import numpy as np\n",
    "import seaborn as sns\n",
    "import matplotlib.pyplot as plt\n",
    "\n",
    "url='https://github.com/Ortegbel/PractiquesDataScience/blob/master/Exercici5/DelayedFlightsComp.csv.gz?raw=true'\n",
    "df = pd.read_csv(url,  compression='gzip')\n",
    "\n",
    "\n",
    "df.head()"
   ]
  },
  {
   "cell_type": "code",
   "execution_count": 2,
   "id": "9133e174",
   "metadata": {
    "ExecuteTime": {
     "end_time": "2021-07-20T10:33:50.637244Z",
     "start_time": "2021-07-20T10:33:49.713010Z"
    },
    "run_control": {
     "marked": false
    }
   },
   "outputs": [],
   "source": [
    "df = df.fillna(0)"
   ]
  },
  {
   "cell_type": "code",
   "execution_count": 3,
   "id": "5b17ea80",
   "metadata": {
    "ExecuteTime": {
     "end_time": "2021-07-20T10:33:51.159460Z",
     "start_time": "2021-07-20T10:33:50.639859Z"
    },
    "run_control": {
     "marked": false
    }
   },
   "outputs": [
    {
     "data": {
      "text/html": [
       "<div>\n",
       "<style scoped>\n",
       "    .dataframe tbody tr th:only-of-type {\n",
       "        vertical-align: middle;\n",
       "    }\n",
       "\n",
       "    .dataframe tbody tr th {\n",
       "        vertical-align: top;\n",
       "    }\n",
       "\n",
       "    .dataframe thead th {\n",
       "        text-align: right;\n",
       "    }\n",
       "</style>\n",
       "<table border=\"1\" class=\"dataframe\">\n",
       "  <thead>\n",
       "    <tr style=\"text-align: right;\">\n",
       "      <th></th>\n",
       "      <th>Year</th>\n",
       "      <th>Month</th>\n",
       "      <th>DayofMonth</th>\n",
       "      <th>DayOfWeek</th>\n",
       "      <th>DepTime</th>\n",
       "      <th>CRSDepTime</th>\n",
       "      <th>ArrTime</th>\n",
       "      <th>CRSArrTime</th>\n",
       "      <th>UniqueCarrier</th>\n",
       "      <th>FlightNum</th>\n",
       "      <th>...</th>\n",
       "      <th>TaxiIn</th>\n",
       "      <th>TaxiOut</th>\n",
       "      <th>Cancelled</th>\n",
       "      <th>CancellationCode</th>\n",
       "      <th>Diverted</th>\n",
       "      <th>CarrierDelay</th>\n",
       "      <th>WeatherDelay</th>\n",
       "      <th>NASDelay</th>\n",
       "      <th>SecurityDelay</th>\n",
       "      <th>LateAircraftDelay</th>\n",
       "    </tr>\n",
       "  </thead>\n",
       "  <tbody>\n",
       "    <tr>\n",
       "      <th>0</th>\n",
       "      <td>2008</td>\n",
       "      <td>1</td>\n",
       "      <td>3</td>\n",
       "      <td>4</td>\n",
       "      <td>2003.0</td>\n",
       "      <td>1955</td>\n",
       "      <td>2211.0</td>\n",
       "      <td>2225</td>\n",
       "      <td>WN</td>\n",
       "      <td>335</td>\n",
       "      <td>...</td>\n",
       "      <td>4.0</td>\n",
       "      <td>8.0</td>\n",
       "      <td>0</td>\n",
       "      <td>N</td>\n",
       "      <td>0</td>\n",
       "      <td>0.0</td>\n",
       "      <td>0.0</td>\n",
       "      <td>0.0</td>\n",
       "      <td>0.0</td>\n",
       "      <td>0.0</td>\n",
       "    </tr>\n",
       "    <tr>\n",
       "      <th>1</th>\n",
       "      <td>2008</td>\n",
       "      <td>1</td>\n",
       "      <td>3</td>\n",
       "      <td>4</td>\n",
       "      <td>754.0</td>\n",
       "      <td>735</td>\n",
       "      <td>1002.0</td>\n",
       "      <td>1000</td>\n",
       "      <td>WN</td>\n",
       "      <td>3231</td>\n",
       "      <td>...</td>\n",
       "      <td>5.0</td>\n",
       "      <td>10.0</td>\n",
       "      <td>0</td>\n",
       "      <td>N</td>\n",
       "      <td>0</td>\n",
       "      <td>0.0</td>\n",
       "      <td>0.0</td>\n",
       "      <td>0.0</td>\n",
       "      <td>0.0</td>\n",
       "      <td>0.0</td>\n",
       "    </tr>\n",
       "    <tr>\n",
       "      <th>2</th>\n",
       "      <td>2008</td>\n",
       "      <td>1</td>\n",
       "      <td>3</td>\n",
       "      <td>4</td>\n",
       "      <td>628.0</td>\n",
       "      <td>620</td>\n",
       "      <td>804.0</td>\n",
       "      <td>750</td>\n",
       "      <td>WN</td>\n",
       "      <td>448</td>\n",
       "      <td>...</td>\n",
       "      <td>3.0</td>\n",
       "      <td>17.0</td>\n",
       "      <td>0</td>\n",
       "      <td>N</td>\n",
       "      <td>0</td>\n",
       "      <td>0.0</td>\n",
       "      <td>0.0</td>\n",
       "      <td>0.0</td>\n",
       "      <td>0.0</td>\n",
       "      <td>0.0</td>\n",
       "    </tr>\n",
       "    <tr>\n",
       "      <th>3</th>\n",
       "      <td>2008</td>\n",
       "      <td>1</td>\n",
       "      <td>3</td>\n",
       "      <td>4</td>\n",
       "      <td>1829.0</td>\n",
       "      <td>1755</td>\n",
       "      <td>1959.0</td>\n",
       "      <td>1925</td>\n",
       "      <td>WN</td>\n",
       "      <td>3920</td>\n",
       "      <td>...</td>\n",
       "      <td>3.0</td>\n",
       "      <td>10.0</td>\n",
       "      <td>0</td>\n",
       "      <td>N</td>\n",
       "      <td>0</td>\n",
       "      <td>2.0</td>\n",
       "      <td>0.0</td>\n",
       "      <td>0.0</td>\n",
       "      <td>0.0</td>\n",
       "      <td>32.0</td>\n",
       "    </tr>\n",
       "    <tr>\n",
       "      <th>4</th>\n",
       "      <td>2008</td>\n",
       "      <td>1</td>\n",
       "      <td>3</td>\n",
       "      <td>4</td>\n",
       "      <td>1940.0</td>\n",
       "      <td>1915</td>\n",
       "      <td>2121.0</td>\n",
       "      <td>2110</td>\n",
       "      <td>WN</td>\n",
       "      <td>378</td>\n",
       "      <td>...</td>\n",
       "      <td>4.0</td>\n",
       "      <td>10.0</td>\n",
       "      <td>0</td>\n",
       "      <td>N</td>\n",
       "      <td>0</td>\n",
       "      <td>0.0</td>\n",
       "      <td>0.0</td>\n",
       "      <td>0.0</td>\n",
       "      <td>0.0</td>\n",
       "      <td>0.0</td>\n",
       "    </tr>\n",
       "  </tbody>\n",
       "</table>\n",
       "<p>5 rows × 29 columns</p>\n",
       "</div>"
      ],
      "text/plain": [
       "   Year  Month  DayofMonth  DayOfWeek  DepTime  CRSDepTime  ArrTime  \\\n",
       "0  2008      1           3          4   2003.0        1955   2211.0   \n",
       "1  2008      1           3          4    754.0         735   1002.0   \n",
       "2  2008      1           3          4    628.0         620    804.0   \n",
       "3  2008      1           3          4   1829.0        1755   1959.0   \n",
       "4  2008      1           3          4   1940.0        1915   2121.0   \n",
       "\n",
       "   CRSArrTime UniqueCarrier  FlightNum  ... TaxiIn  TaxiOut  Cancelled  \\\n",
       "0        2225            WN        335  ...    4.0      8.0          0   \n",
       "1        1000            WN       3231  ...    5.0     10.0          0   \n",
       "2         750            WN        448  ...    3.0     17.0          0   \n",
       "3        1925            WN       3920  ...    3.0     10.0          0   \n",
       "4        2110            WN        378  ...    4.0     10.0          0   \n",
       "\n",
       "   CancellationCode  Diverted  CarrierDelay WeatherDelay NASDelay  \\\n",
       "0                 N         0           0.0          0.0      0.0   \n",
       "1                 N         0           0.0          0.0      0.0   \n",
       "2                 N         0           0.0          0.0      0.0   \n",
       "3                 N         0           2.0          0.0      0.0   \n",
       "4                 N         0           0.0          0.0      0.0   \n",
       "\n",
       "   SecurityDelay  LateAircraftDelay  \n",
       "0            0.0                0.0  \n",
       "1            0.0                0.0  \n",
       "2            0.0                0.0  \n",
       "3            0.0               32.0  \n",
       "4            0.0                0.0  \n",
       "\n",
       "[5 rows x 29 columns]"
      ]
     },
     "execution_count": 3,
     "metadata": {},
     "output_type": "execute_result"
    }
   ],
   "source": [
    "df = df.drop(columns=['Unnamed: 0','Unnamed: 0.1' ])\n",
    "df.head()"
   ]
  },
  {
   "cell_type": "code",
   "execution_count": 4,
   "id": "5279e171",
   "metadata": {
    "ExecuteTime": {
     "end_time": "2021-07-20T10:33:51.223441Z",
     "start_time": "2021-07-20T10:33:51.163459Z"
    },
    "run_control": {
     "marked": false
    }
   },
   "outputs": [
    {
     "data": {
      "text/plain": [
       "array([ -14.,    2.,   14., ...,  880., 1279.,  991.])"
      ]
     },
     "execution_count": 4,
     "metadata": {},
     "output_type": "execute_result"
    }
   ],
   "source": [
    "df.ArrDelay.unique()"
   ]
  },
  {
   "cell_type": "markdown",
   "id": "9fc00a35",
   "metadata": {},
   "source": [
    "\n",
    "\n",
    ">Exercici 1 Crea almenys tres models de classificació diferents per intentar predir el millor possible l’endarreriment dels vols (ArrDelay) de DelayedFlights.csv. Considera si el vol ha arribat tard o no (ArrDelay > 0).  \n",
    "\n",
    "Seguint les especificacions de l'enunciat, convertim la variable ArrDelay en binària, d'aquesta manera podrem fer els models de classificació."
   ]
  },
  {
   "cell_type": "code",
   "execution_count": 5,
   "id": "753a6c21",
   "metadata": {
    "ExecuteTime": {
     "end_time": "2021-07-20T10:33:51.318369Z",
     "start_time": "2021-07-20T10:33:51.225422Z"
    },
    "run_control": {
     "marked": false
    }
   },
   "outputs": [
    {
     "data": {
      "text/plain": [
       "array([0, 1])"
      ]
     },
     "execution_count": 5,
     "metadata": {},
     "output_type": "execute_result"
    }
   ],
   "source": [
    "conditions = [(df['ArrDelay']> 0),(df['ArrDelay']<= 0) ]\n",
    "values = [1, 0]\n",
    "df['ArrDelay2'] = np.select(conditions, values)\n",
    "\n",
    "df.ArrDelay2.unique()"
   ]
  },
  {
   "cell_type": "code",
   "execution_count": 6,
   "id": "044c28b5",
   "metadata": {
    "ExecuteTime": {
     "end_time": "2021-07-20T10:33:51.349355Z",
     "start_time": "2021-07-20T10:33:51.320368Z"
    },
    "run_control": {
     "marked": false
    }
   },
   "outputs": [],
   "source": [
    "conditions = [(df['DepDelay']> 0),(df['DepDelay']<= 0) ]\n",
    "values = [1, 0]\n",
    "df['DepDelay2'] = np.select(conditions, values)"
   ]
  },
  {
   "cell_type": "markdown",
   "id": "c05435bf",
   "metadata": {},
   "source": [
    "També he dicidit factoritzar la resta de variables categòriques que poden ser rellevants per l'exercici. "
   ]
  },
  {
   "cell_type": "code",
   "execution_count": 7,
   "id": "1f3afdf4",
   "metadata": {
    "ExecuteTime": {
     "end_time": "2021-07-20T10:33:51.812088Z",
     "start_time": "2021-07-20T10:33:51.352349Z"
    },
    "run_control": {
     "marked": false
    }
   },
   "outputs": [],
   "source": [
    "df['CarrierFzd'] = pd.factorize(df['UniqueCarrier'])[0]\n",
    "df['OriginFzd'] = pd.factorize(df['Origin'])[0]\n",
    "df['DestFzd'] = pd.factorize(df['Dest'])[0]"
   ]
  },
  {
   "cell_type": "code",
   "execution_count": 8,
   "id": "2b2bc583",
   "metadata": {
    "ExecuteTime": {
     "end_time": "2021-07-20T10:33:52.001978Z",
     "start_time": "2021-07-20T10:33:51.816084Z"
    },
    "run_control": {
     "marked": false
    }
   },
   "outputs": [],
   "source": [
    "df['TailNumFzd'] = pd.factorize(df['TailNum'])[0]"
   ]
  },
  {
   "cell_type": "markdown",
   "id": "68a5f0a7",
   "metadata": {},
   "source": [
    "## Selecció de variable objectiu i característiques  \n",
    "\n",
    "Seleccionem la variable objectiu i la resta de variables que formaran part del nostre model.\n"
   ]
  },
  {
   "cell_type": "code",
   "execution_count": 9,
   "id": "eff46a1f",
   "metadata": {
    "ExecuteTime": {
     "end_time": "2021-07-20T10:33:52.511705Z",
     "start_time": "2021-07-20T10:33:52.005976Z"
    },
    "run_control": {
     "marked": false
    }
   },
   "outputs": [],
   "source": [
    "feature_cols = ['CarrierFzd', 'FlightNum', 'TailNumFzd','ActualElapsedTime', 'CRSElapsedTime', 'AirTime', 'DepDelay2',\n",
    "                'OriginFzd', 'DestFzd','Distance','Cancelled', 'Diverted', 'CarrierDelay','WeatherDelay', 'LateAircraftDelay']\n",
    "\n",
    "X = df[feature_cols]\n",
    "X = np.array(X)\n",
    "y = df.ArrDelay2"
   ]
  },
  {
   "cell_type": "markdown",
   "id": "4ef2c86c",
   "metadata": {},
   "source": [
    "## Comprobació : és un Dataset equillibrat?"
   ]
  },
  {
   "cell_type": "code",
   "execution_count": 10,
   "id": "1ff91be7",
   "metadata": {
    "ExecuteTime": {
     "end_time": "2021-07-20T10:33:52.986706Z",
     "start_time": "2021-07-20T10:33:52.514682Z"
    },
    "run_control": {
     "marked": false
    }
   },
   "outputs": [
    {
     "data": {
      "image/png": "[encoded data removed]",
      "text/plain": [
       "<Figure size 432x288 with 1 Axes>"
      ]
     },
     "metadata": {},
     "output_type": "display_data"
    }
   ],
   "source": [
    "#set seaborn styling & color palette\n",
    "sns.set(style=\"whitegrid\")\n",
    "sns.set_palette(\"pastel\")\n",
    "\n",
    "#Using a countplot to show the distribution of the classes: fraud and no-fraud\n",
    "bp = sns.countplot(x=df[\"ArrDelay2\"])\n",
    "plt.title(\"Class Distribution of DelayedFlights Dataset\")\n",
    "bp.set_xticklabels([\"ArrivalOntime\",\"ArrivalDelay\"])\n",
    "plt.show()"
   ]
  },
  {
   "cell_type": "code",
   "execution_count": 11,
   "id": "874d6fda",
   "metadata": {
    "ExecuteTime": {
     "end_time": "2021-07-20T10:33:53.082654Z",
     "start_time": "2021-07-20T10:33:52.990704Z"
    },
    "run_control": {
     "marked": false
    },
    "scrolled": true
   },
   "outputs": [
    {
     "name": "stdout",
     "output_type": "stream",
     "text": [
      "Class Counts\n",
      "1    1723415\n",
      "0     213343\n",
      "Name: ArrDelay2, dtype: int64\n",
      "\n",
      "Class Proportions\n",
      "1    0.889845\n",
      "0    0.110155\n",
      "Name: ArrDelay2, dtype: float64\n"
     ]
    }
   ],
   "source": [
    "print(\"Class Counts\")\n",
    "print(df.ArrDelay2.value_counts(), end=\"\\n\\n\")\n",
    "print(\"Class Proportions\")\n",
    "print(df.ArrDelay2.value_counts()/len(df.ArrDelay2))"
   ]
  },
  {
   "cell_type": "markdown",
   "id": "4c8245ed",
   "metadata": {},
   "source": [
    "El dataset és clarament **imbalance** cosa que pot fer que el nostre model reguistri valors de precisió massa optimistes.  \n",
    "\n",
    "Podriem millorar els resultats amb diferentes tècniques, com UnderSampling, OverSampling o fent mostres sintètiques amb SMOTE, que és el que faré servir."
   ]
  },
  {
   "cell_type": "markdown",
   "id": "faf8339d",
   "metadata": {},
   "source": [
    "## Dividir les dades `train-test-split`"
   ]
  },
  {
   "cell_type": "code",
   "execution_count": 12,
   "id": "22f395bb",
   "metadata": {
    "ExecuteTime": {
     "end_time": "2021-07-20T10:33:54.653650Z",
     "start_time": "2021-07-20T10:33:53.085651Z"
    },
    "run_control": {
     "marked": false
    }
   },
   "outputs": [],
   "source": [
    "from sklearn.model_selection import train_test_split\n",
    "X_train,X_test,y_train,y_test=train_test_split(X,y,test_size=0.02,random_state=42)"
   ]
  },
  {
   "cell_type": "code",
   "execution_count": 13,
   "id": "45ceecef",
   "metadata": {
    "ExecuteTime": {
     "end_time": "2021-07-20T10:33:54.675900Z",
     "start_time": "2021-07-20T10:33:54.653650Z"
    },
    "run_control": {
     "marked": false
    }
   },
   "outputs": [
    {
     "name": "stdout",
     "output_type": "stream",
     "text": [
      "Variables caracteristiques, Train:  (1898022, 15)\n",
      "Variables caracteristiques, Test:  (38736, 15)\n",
      "Variable objectiu, Train:  (1898022,)\n",
      "Variables objectiu, Test:  (38736,)\n"
     ]
    }
   ],
   "source": [
    "print( 'Variables caracteristiques, Train: ', X_train.shape )\n",
    "print( 'Variables caracteristiques, Test: ', X_test.shape )\n",
    "print( 'Variable objectiu, Train: ', y_train.shape )\n",
    "print( 'Variables objectiu, Test: ', y_test.shape )"
   ]
  },
  {
   "cell_type": "code",
   "execution_count": 14,
   "id": "0c9851a5",
   "metadata": {
    "ExecuteTime": {
     "end_time": "2021-07-20T10:33:54.710479Z",
     "start_time": "2021-07-20T10:33:54.677899Z"
    },
    "run_control": {
     "marked": false
    }
   },
   "outputs": [
    {
     "name": "stdout",
     "output_type": "stream",
     "text": [
      "Class Counts\n",
      "1    34572\n",
      "0     4164\n",
      "Name: ArrDelay2, dtype: int64\n",
      "\n",
      "Class Proportions\n",
      "1    0.892503\n",
      "0    0.107497\n",
      "Name: ArrDelay2, dtype: float64\n"
     ]
    }
   ],
   "source": [
    "print(\"Class Counts\")\n",
    "print(y_test.value_counts(), end=\"\\n\\n\")\n",
    "print(\"Class Proportions\")\n",
    "print(y_test.value_counts()/len(y_test))"
   ]
  },
  {
   "cell_type": "markdown",
   "id": "3f994a84",
   "metadata": {},
   "source": [
    "# Model 1 `LogisticRegression`"
   ]
  },
  {
   "cell_type": "code",
   "execution_count": 15,
   "id": "8bd48ffb",
   "metadata": {
    "ExecuteTime": {
     "end_time": "2021-07-20T10:34:24.641022Z",
     "start_time": "2021-07-20T10:33:54.715477Z"
    },
    "run_control": {
     "marked": false
    }
   },
   "outputs": [
    {
     "data": {
      "text/plain": [
       "LogisticRegression(random_state=42, solver='liblinear')"
      ]
     },
     "execution_count": 15,
     "metadata": {},
     "output_type": "execute_result"
    }
   ],
   "source": [
    "from sklearn.linear_model import LogisticRegression\n",
    "\n",
    "# instantiate the model (using the default parameters)\n",
    "logreg = LogisticRegression(random_state=42, solver='liblinear',fit_intercept=True, max_iter=100)\n",
    "\n",
    "logreg.fit(X_train, y_train)"
   ]
  },
  {
   "cell_type": "code",
   "execution_count": 16,
   "id": "b16e75c5",
   "metadata": {
    "ExecuteTime": {
     "end_time": "2021-07-20T10:34:24.657014Z",
     "start_time": "2021-07-20T10:34:24.644018Z"
    },
    "run_control": {
     "marked": false
    }
   },
   "outputs": [],
   "source": [
    "logreg_pred = logreg.predict(X_test)\n",
    "logreg_pred_prob = logreg.predict_proba(X_test)[::,1]"
   ]
  },
  {
   "cell_type": "markdown",
   "id": "07ec258c",
   "metadata": {},
   "source": [
    "## Matriu de Confusió"
   ]
  },
  {
   "cell_type": "code",
   "execution_count": 17,
   "id": "03f3311e",
   "metadata": {
    "ExecuteTime": {
     "end_time": "2021-07-20T10:34:24.764950Z",
     "start_time": "2021-07-20T10:34:24.660010Z"
    },
    "run_control": {
     "marked": false
    }
   },
   "outputs": [
    {
     "data": {
      "text/plain": [
       "array([[ 1888,  2276],\n",
       "       [  883, 33689]], dtype=int64)"
      ]
     },
     "execution_count": 17,
     "metadata": {},
     "output_type": "execute_result"
    }
   ],
   "source": [
    "from sklearn import metrics\n",
    "\n",
    "cnf_matrix_logreg = metrics.confusion_matrix(y_test, logreg_pred)\n",
    "cnf_matrix_logreg"
   ]
  },
  {
   "cell_type": "code",
   "execution_count": 18,
   "id": "7ae711f9",
   "metadata": {
    "ExecuteTime": {
     "end_time": "2021-07-20T10:34:24.842907Z",
     "start_time": "2021-07-20T10:34:24.767949Z"
    },
    "run_control": {
     "marked": false
    }
   },
   "outputs": [
    {
     "name": "stdout",
     "output_type": "stream",
     "text": [
      "1888\n",
      "2276\n",
      "883\n",
      "33689\n"
     ]
    }
   ],
   "source": [
    "tn, fp, fn, tp = metrics.confusion_matrix(y_test, logreg_pred).ravel()\n",
    "\n",
    "print(tn)\n",
    "print(fp)\n",
    "print(fn)\n",
    "print (tp)"
   ]
  },
  {
   "cell_type": "code",
   "execution_count": 19,
   "id": "beb32e47",
   "metadata": {
    "ExecuteTime": {
     "end_time": "2021-07-20T10:34:24.858895Z",
     "start_time": "2021-07-20T10:34:24.846903Z"
    },
    "run_control": {
     "marked": false
    }
   },
   "outputs": [],
   "source": [
    "cnf_matrix_logreg_df= pd.DataFrame(cnf_matrix_logreg)"
   ]
  },
  {
   "cell_type": "code",
   "execution_count": 20,
   "id": "83dba1bb",
   "metadata": {
    "ExecuteTime": {
     "end_time": "2021-07-20T10:34:25.126765Z",
     "start_time": "2021-07-20T10:34:24.861893Z"
    },
    "run_control": {
     "marked": false
    }
   },
   "outputs": [
    {
     "data": {
      "image/png": "[encoded data removed]",
      "text/plain": [
       "<Figure size 504x504 with 1 Axes>"
      ]
     },
     "metadata": {},
     "output_type": "display_data"
    }
   ],
   "source": [
    "#plot CM  \n",
    "\n",
    "fig, ax = plt.subplots(figsize = (7,7))\n",
    "sns.heatmap(pd.DataFrame(cnf_matrix_logreg_df.T), annot=True, annot_kws={\"size\": 15}, cmap=\"Purples\", vmin=0, vmax=30000, fmt='.0f', linewidths=1, linecolor=\"white\", cbar=False,\n",
    "           xticklabels=[\"ArrOntime\",\"ArrDelay\"], yticklabels=[\"ArrOntime\",\"ArrDelay\"])\n",
    "plt.ylabel(\"Predicted\", fontsize=15)\n",
    "plt.xlabel(\"Actual\", fontsize=15)\n",
    "ax.set_xticklabels([\"ArrOntime\",\"ArrDelay\"], fontsize=13)\n",
    "ax.set_yticklabels([\"ArrOntime\",\"ArrDelay\"], fontsize=13)\n",
    "plt.title(\"Confusion Matrix for Logistic Classifier (Threshold = 0.5) - Counts\", fontsize=15)\n",
    "plt.show()"
   ]
  },
  {
   "cell_type": "markdown",
   "id": "6b54e122",
   "metadata": {},
   "source": [
    "## Resultats"
   ]
  },
  {
   "cell_type": "code",
   "execution_count": 21,
   "id": "a7e90faa",
   "metadata": {
    "ExecuteTime": {
     "end_time": "2021-07-20T10:34:25.221686Z",
     "start_time": "2021-07-20T10:34:25.129739Z"
    },
    "run_control": {
     "marked": false
    }
   },
   "outputs": [
    {
     "name": "stdout",
     "output_type": "stream",
     "text": [
      "LogReg Model:\n",
      "Accuracy = 0.918\n",
      "Precision = 0.937\n",
      "Specificity = 0.453\n",
      "Sensitivity = 0.974\n",
      "F1-score = 0.955\n"
     ]
    }
   ],
   "source": [
    "from sklearn.metrics import classification_report\n",
    "#generating a report to extract the measure of interest using built-in sklearn function\n",
    "report = classification_report(y_test,logreg_pred ,digits=3,output_dict = True)\n",
    "\n",
    "print(\"LogReg Model:\")\n",
    "print(\"Accuracy = {0:0.3f}\".format(report[\"accuracy\"]))\n",
    "print(\"Precision = {0:0.3f}\".format(report[\"1\"][\"precision\"]))\n",
    "print(\"Specificity = {0:0.3f}\".format(report[\"0\"][\"recall\"]))\n",
    "print(\"Sensitivity = {0:0.3f}\".format(report[\"1\"][\"recall\"]))\n",
    "print(\"F1-score = {0:0.3f}\".format(report[\"1\"][\"f1-score\"]))"
   ]
  },
  {
   "cell_type": "code",
   "execution_count": 22,
   "id": "bc35d872",
   "metadata": {
    "ExecuteTime": {
     "end_time": "2021-07-20T10:34:25.300646Z",
     "start_time": "2021-07-20T10:34:25.224685Z"
    },
    "run_control": {
     "marked": false
    },
    "scrolled": true
   },
   "outputs": [
    {
     "name": "stdout",
     "output_type": "stream",
     "text": [
      "              precision    recall  f1-score   support\n",
      "\n",
      "           0       0.68      0.45      0.54      4164\n",
      "           1       0.94      0.97      0.96     34572\n",
      "\n",
      "    accuracy                           0.92     38736\n",
      "   macro avg       0.81      0.71      0.75     38736\n",
      "weighted avg       0.91      0.92      0.91     38736\n",
      "\n"
     ]
    }
   ],
   "source": [
    "print(classification_report(y_test,logreg_pred, ))"
   ]
  },
  {
   "cell_type": "markdown",
   "id": "5cf2ae54",
   "metadata": {},
   "source": [
    "## ROC"
   ]
  },
  {
   "cell_type": "code",
   "execution_count": 23,
   "id": "c2e9e71d",
   "metadata": {
    "ExecuteTime": {
     "end_time": "2021-07-20T10:34:25.647669Z",
     "start_time": "2021-07-20T10:34:25.310640Z"
    },
    "run_control": {
     "marked": false
    }
   },
   "outputs": [
    {
     "data": {
      "image/png": "[encoded data removed]",
      "text/plain": [
       "<Figure size 432x288 with 1 Axes>"
      ]
     },
     "metadata": {},
     "output_type": "display_data"
    }
   ],
   "source": [
    "fpr, tpr, _ = metrics.roc_curve(y_test, logreg_pred_prob)\n",
    "auc = metrics.roc_auc_score(y_test, logreg_pred_prob)\n",
    "plt.plot(fpr,tpr,label=\"data 1, auc=\"+str(auc))\n",
    "plt.legend(loc=4)\n",
    "plt.show()"
   ]
  },
  {
   "cell_type": "markdown",
   "id": "67edee43",
   "metadata": {},
   "source": [
    "## PRC"
   ]
  },
  {
   "cell_type": "code",
   "execution_count": 24,
   "id": "ae5b5e0a",
   "metadata": {
    "ExecuteTime": {
     "end_time": "2021-07-20T10:34:25.695618Z",
     "start_time": "2021-07-20T10:34:25.653645Z"
    },
    "run_control": {
     "marked": false
    }
   },
   "outputs": [
    {
     "name": "stdout",
     "output_type": "stream",
     "text": [
      "Average precision-recall score: 1.00\n"
     ]
    }
   ],
   "source": [
    "from sklearn.metrics import average_precision_score\n",
    "y_score = logreg.decision_function(X_test)\n",
    "average_precision = average_precision_score(y_test, y_score)\n",
    "\n",
    "print('Average precision-recall score: {0:0.2f}'.format(\n",
    "      average_precision))"
   ]
  },
  {
   "cell_type": "code",
   "execution_count": 25,
   "id": "645d770d",
   "metadata": {
    "ExecuteTime": {
     "end_time": "2021-07-20T10:34:25.741595Z",
     "start_time": "2021-07-20T10:34:25.699617Z"
    },
    "run_control": {
     "marked": false
    }
   },
   "outputs": [],
   "source": [
    "from sklearn.metrics import precision_recall_curve\n",
    "from sklearn.metrics import plot_precision_recall_curve\n",
    "#Plot PR curve\n",
    "\n",
    "#Generating points to plot on recall precision curve\n",
    "precision, recall, thresholds = precision_recall_curve(y_test, logreg_pred_prob)\n",
    "average_precision = average_precision_score(y_test, logreg_pred_prob)\n",
    "\n"
   ]
  },
  {
   "cell_type": "code",
   "execution_count": 26,
   "id": "c0c97fb4",
   "metadata": {
    "ExecuteTime": {
     "end_time": "2021-07-20T10:34:26.187335Z",
     "start_time": "2021-07-20T10:34:25.744591Z"
    },
    "run_control": {
     "marked": false
    }
   },
   "outputs": [
    {
     "data": {
      "text/plain": [
       "Text(0.5, 1.0, '2-class Precision-Recall curve: AP=1.00')"
      ]
     },
     "execution_count": 26,
     "metadata": {},
     "output_type": "execute_result"
    },
    {
     "data": {
      "image/png": "[encoded data removed]",
      "text/plain": [
       "<Figure size 432x288 with 1 Axes>"
      ]
     },
     "metadata": {},
     "output_type": "display_data"
    }
   ],
   "source": [
    "disp = plot_precision_recall_curve(logreg, X_test, y_test)\n",
    "disp.ax_.set_title('2-class Precision-Recall curve: '\n",
    "                   'AP={0:0.2f}'.format(average_precision))"
   ]
  },
  {
   "cell_type": "markdown",
   "id": "ddd24d46",
   "metadata": {},
   "source": [
    "## Cross Validation"
   ]
  },
  {
   "cell_type": "code",
   "execution_count": 27,
   "id": "93788b19",
   "metadata": {
    "ExecuteTime": {
     "end_time": "2021-07-20T10:34:26.203327Z",
     "start_time": "2021-07-20T10:34:26.189335Z"
    },
    "run_control": {
     "marked": false
    }
   },
   "outputs": [],
   "source": [
    "from sklearn.model_selection import cross_validate\n",
    "from sklearn.metrics import recall_score"
   ]
  },
  {
   "cell_type": "code",
   "execution_count": 28,
   "id": "963b7fc1",
   "metadata": {
    "ExecuteTime": {
     "end_time": "2021-07-20T10:36:08.911383Z",
     "start_time": "2021-07-20T10:34:26.206326Z"
    },
    "run_control": {
     "marked": false
    }
   },
   "outputs": [],
   "source": [
    "scoring = ['precision_macro', 'recall_macro']\n",
    "scores = cross_validate (logreg, X, y, scoring=scoring, cv=5, return_train_score=True)\n",
    "sorted(scores.keys())\n",
    "\n",
    "scores_df= pd.DataFrame(scores)"
   ]
  },
  {
   "cell_type": "code",
   "execution_count": 29,
   "id": "5cf279f2",
   "metadata": {
    "ExecuteTime": {
     "end_time": "2021-07-20T10:36:08.943000Z",
     "start_time": "2021-07-20T10:36:08.913402Z"
    },
    "run_control": {
     "marked": false
    }
   },
   "outputs": [
    {
     "data": {
      "text/html": [
       "<div>\n",
       "<style scoped>\n",
       "    .dataframe tbody tr th:only-of-type {\n",
       "        vertical-align: middle;\n",
       "    }\n",
       "\n",
       "    .dataframe tbody tr th {\n",
       "        vertical-align: top;\n",
       "    }\n",
       "\n",
       "    .dataframe thead th {\n",
       "        text-align: right;\n",
       "    }\n",
       "</style>\n",
       "<table border=\"1\" class=\"dataframe\">\n",
       "  <thead>\n",
       "    <tr style=\"text-align: right;\">\n",
       "      <th></th>\n",
       "      <th>fit_time</th>\n",
       "      <th>score_time</th>\n",
       "      <th>test_precision_macro</th>\n",
       "      <th>train_precision_macro</th>\n",
       "      <th>test_recall_macro</th>\n",
       "      <th>train_recall_macro</th>\n",
       "    </tr>\n",
       "  </thead>\n",
       "  <tbody>\n",
       "    <tr>\n",
       "      <th>0</th>\n",
       "      <td>20.396987</td>\n",
       "      <td>0.333212</td>\n",
       "      <td>0.813262</td>\n",
       "      <td>0.803635</td>\n",
       "      <td>0.737325</td>\n",
       "      <td>0.723425</td>\n",
       "    </tr>\n",
       "    <tr>\n",
       "      <th>1</th>\n",
       "      <td>21.990245</td>\n",
       "      <td>0.292856</td>\n",
       "      <td>0.810891</td>\n",
       "      <td>0.809161</td>\n",
       "      <td>0.722660</td>\n",
       "      <td>0.718325</td>\n",
       "    </tr>\n",
       "    <tr>\n",
       "      <th>2</th>\n",
       "      <td>14.532440</td>\n",
       "      <td>0.297165</td>\n",
       "      <td>0.800026</td>\n",
       "      <td>0.802681</td>\n",
       "      <td>0.704888</td>\n",
       "      <td>0.731662</td>\n",
       "    </tr>\n",
       "    <tr>\n",
       "      <th>3</th>\n",
       "      <td>16.740038</td>\n",
       "      <td>0.321821</td>\n",
       "      <td>0.789462</td>\n",
       "      <td>0.804921</td>\n",
       "      <td>0.721502</td>\n",
       "      <td>0.734819</td>\n",
       "    </tr>\n",
       "    <tr>\n",
       "      <th>4</th>\n",
       "      <td>21.063278</td>\n",
       "      <td>0.321887</td>\n",
       "      <td>0.811977</td>\n",
       "      <td>0.806527</td>\n",
       "      <td>0.743293</td>\n",
       "      <td>0.719286</td>\n",
       "    </tr>\n",
       "  </tbody>\n",
       "</table>\n",
       "</div>"
      ],
      "text/plain": [
       "    fit_time  score_time  test_precision_macro  train_precision_macro  \\\n",
       "0  20.396987    0.333212              0.813262               0.803635   \n",
       "1  21.990245    0.292856              0.810891               0.809161   \n",
       "2  14.532440    0.297165              0.800026               0.802681   \n",
       "3  16.740038    0.321821              0.789462               0.804921   \n",
       "4  21.063278    0.321887              0.811977               0.806527   \n",
       "\n",
       "   test_recall_macro  train_recall_macro  \n",
       "0           0.737325            0.723425  \n",
       "1           0.722660            0.718325  \n",
       "2           0.704888            0.731662  \n",
       "3           0.721502            0.734819  \n",
       "4           0.743293            0.719286  "
      ]
     },
     "execution_count": 29,
     "metadata": {},
     "output_type": "execute_result"
    }
   ],
   "source": [
    "scores_df"
   ]
  },
  {
   "cell_type": "code",
   "execution_count": 30,
   "id": "2d29ca43",
   "metadata": {
    "ExecuteTime": {
     "end_time": "2021-07-20T10:36:09.086917Z",
     "start_time": "2021-07-20T10:36:08.949995Z"
    },
    "run_control": {
     "marked": false
    }
   },
   "outputs": [
    {
     "data": {
      "text/html": [
       "<div>\n",
       "<style scoped>\n",
       "    .dataframe tbody tr th:only-of-type {\n",
       "        vertical-align: middle;\n",
       "    }\n",
       "\n",
       "    .dataframe tbody tr th {\n",
       "        vertical-align: top;\n",
       "    }\n",
       "\n",
       "    .dataframe thead th {\n",
       "        text-align: right;\n",
       "    }\n",
       "</style>\n",
       "<table border=\"1\" class=\"dataframe\">\n",
       "  <thead>\n",
       "    <tr style=\"text-align: right;\">\n",
       "      <th></th>\n",
       "      <th>fit_time</th>\n",
       "      <th>score_time</th>\n",
       "      <th>test_precision_macro</th>\n",
       "      <th>train_precision_macro</th>\n",
       "      <th>test_recall_macro</th>\n",
       "      <th>train_recall_macro</th>\n",
       "    </tr>\n",
       "  </thead>\n",
       "  <tbody>\n",
       "    <tr>\n",
       "      <th>min</th>\n",
       "      <td>14.532440</td>\n",
       "      <td>0.292856</td>\n",
       "      <td>0.789462</td>\n",
       "      <td>0.802681</td>\n",
       "      <td>0.704888</td>\n",
       "      <td>0.718325</td>\n",
       "    </tr>\n",
       "    <tr>\n",
       "      <th>max</th>\n",
       "      <td>21.990245</td>\n",
       "      <td>0.333212</td>\n",
       "      <td>0.813262</td>\n",
       "      <td>0.809161</td>\n",
       "      <td>0.743293</td>\n",
       "      <td>0.734819</td>\n",
       "    </tr>\n",
       "    <tr>\n",
       "      <th>mean</th>\n",
       "      <td>18.944597</td>\n",
       "      <td>0.313388</td>\n",
       "      <td>0.805124</td>\n",
       "      <td>0.805385</td>\n",
       "      <td>0.725934</td>\n",
       "      <td>0.725503</td>\n",
       "    </tr>\n",
       "  </tbody>\n",
       "</table>\n",
       "</div>"
      ],
      "text/plain": [
       "       fit_time  score_time  test_precision_macro  train_precision_macro  \\\n",
       "min   14.532440    0.292856              0.789462               0.802681   \n",
       "max   21.990245    0.333212              0.813262               0.809161   \n",
       "mean  18.944597    0.313388              0.805124               0.805385   \n",
       "\n",
       "      test_recall_macro  train_recall_macro  \n",
       "min            0.704888            0.718325  \n",
       "max            0.743293            0.734819  \n",
       "mean           0.725934            0.725503  "
      ]
     },
     "execution_count": 30,
     "metadata": {},
     "output_type": "execute_result"
    }
   ],
   "source": [
    "scores_df.describe().loc[['min','max','mean'] ]"
   ]
  },
  {
   "cell_type": "markdown",
   "id": "5f23888e",
   "metadata": {
    "ExecuteTime": {
     "end_time": "2021-07-17T15:35:07.233357Z",
     "start_time": "2021-07-17T15:35:07.202379Z"
    }
   },
   "source": [
    "# Model 1 `LogisticRegression` &`RobustScaler`"
   ]
  },
  {
   "cell_type": "markdown",
   "id": "c5de8466",
   "metadata": {},
   "source": [
    "Per mirar de millorar el model, he volgut probar a escalar les dades. He triat el `RobustScaler`perque elimina els outliers a la mateixa vegada q n'escala les dades."
   ]
  },
  {
   "cell_type": "code",
   "execution_count": 31,
   "id": "d966c536",
   "metadata": {
    "ExecuteTime": {
     "end_time": "2021-07-20T10:36:11.011056Z",
     "start_time": "2021-07-20T10:36:09.089915Z"
    },
    "run_control": {
     "marked": false
    }
   },
   "outputs": [],
   "source": [
    "from sklearn.preprocessing import RobustScaler \n",
    "robust_scaler = RobustScaler()\n",
    "X_train_robust = robust_scaler.fit_transform(X_train)\n",
    "X_test_robust = robust_scaler.fit_transform(X_test)"
   ]
  },
  {
   "cell_type": "code",
   "execution_count": 32,
   "id": "171a2554",
   "metadata": {
    "ExecuteTime": {
     "end_time": "2021-07-20T10:36:29.964430Z",
     "start_time": "2021-07-20T10:36:11.011056Z"
    },
    "run_control": {
     "marked": false
    }
   },
   "outputs": [
    {
     "data": {
      "text/plain": [
       "LogisticRegression(random_state=42, solver='liblinear')"
      ]
     },
     "execution_count": 32,
     "metadata": {},
     "output_type": "execute_result"
    }
   ],
   "source": [
    "from sklearn.linear_model import LogisticRegression\n",
    "\n",
    "# instantiate the model (using the default parameters)\n",
    "logregRS = LogisticRegression(random_state=42, solver='liblinear',fit_intercept=True, max_iter=100)\n",
    "\n",
    "logregRS.fit(X_train_robust, y_train)"
   ]
  },
  {
   "cell_type": "code",
   "execution_count": 33,
   "id": "b4d00bb8",
   "metadata": {
    "ExecuteTime": {
     "end_time": "2021-07-20T10:36:29.980420Z",
     "start_time": "2021-07-20T10:36:29.967430Z"
    },
    "run_control": {
     "marked": false
    }
   },
   "outputs": [],
   "source": [
    "logreg_predRS = logregRS.predict(X_test_robust)\n",
    "logreg_pred_probRS = logregRS.predict_proba(X_test_robust)[::,1]"
   ]
  },
  {
   "cell_type": "markdown",
   "id": "e4cfca54",
   "metadata": {},
   "source": [
    "## Matriu de Confusió"
   ]
  },
  {
   "cell_type": "code",
   "execution_count": 34,
   "id": "c753e666",
   "metadata": {
    "ExecuteTime": {
     "end_time": "2021-07-20T10:36:30.075365Z",
     "start_time": "2021-07-20T10:36:29.983418Z"
    },
    "run_control": {
     "marked": false
    }
   },
   "outputs": [
    {
     "data": {
      "text/plain": [
       "array([[ 1820,  2344],\n",
       "       [  827, 33745]], dtype=int64)"
      ]
     },
     "execution_count": 34,
     "metadata": {},
     "output_type": "execute_result"
    }
   ],
   "source": [
    "cnf_matrix_logregRS = metrics.confusion_matrix(y_test, logreg_predRS)\n",
    "cnf_matrix_logregRS"
   ]
  },
  {
   "cell_type": "code",
   "execution_count": 35,
   "id": "50802d5d",
   "metadata": {
    "ExecuteTime": {
     "end_time": "2021-07-20T10:36:30.154321Z",
     "start_time": "2021-07-20T10:36:30.078367Z"
    },
    "run_control": {
     "marked": false
    }
   },
   "outputs": [],
   "source": [
    "tn, fp, fn, tp = metrics.confusion_matrix(y_test, logreg_predRS).ravel()\n",
    "cnf_matrix_logregRS_df= pd.DataFrame(cnf_matrix_logregRS)"
   ]
  },
  {
   "cell_type": "code",
   "execution_count": 36,
   "id": "3d64f014",
   "metadata": {
    "ExecuteTime": {
     "end_time": "2021-07-20T10:36:30.470139Z",
     "start_time": "2021-07-20T10:36:30.157321Z"
    },
    "run_control": {
     "marked": false
    }
   },
   "outputs": [
    {
     "data": {
      "image/png": "[encoded data removed]",
      "text/plain": [
       "<Figure size 504x504 with 1 Axes>"
      ]
     },
     "metadata": {},
     "output_type": "display_data"
    }
   ],
   "source": [
    "#plot CM  \n",
    "\n",
    "fig, ax = plt.subplots(figsize = (7,7))\n",
    "sns.heatmap(pd.DataFrame(cnf_matrix_logregRS_df.T), annot=True, annot_kws={\"size\": 15}, cmap=\"Purples\", vmin=0, vmax=30000, fmt='.0f', linewidths=1, linecolor=\"white\", cbar=False,\n",
    "           xticklabels=[\"ArrOntime\",\"ArrDelay\"], yticklabels=[\"ArrOntime\",\"ArrDelay\"])\n",
    "plt.ylabel(\"Predicted\", fontsize=15)\n",
    "plt.xlabel(\"Actual\", fontsize=15)\n",
    "ax.set_xticklabels([\"ArrOntime\",\"ArrDelay\"], fontsize=13)\n",
    "ax.set_yticklabels([\"ArrOntime\",\"ArrDelay\"], fontsize=13)\n",
    "plt.title(\"Confusion Matrix for Logistic Classifier (Threshold = 0.5) - Counts\", fontsize=15)\n",
    "plt.show()"
   ]
  },
  {
   "cell_type": "markdown",
   "id": "51693a38",
   "metadata": {},
   "source": [
    "## Resultats"
   ]
  },
  {
   "cell_type": "code",
   "execution_count": 37,
   "id": "3145178b",
   "metadata": {
    "ExecuteTime": {
     "end_time": "2021-07-20T10:36:30.564085Z",
     "start_time": "2021-07-20T10:36:30.473138Z"
    },
    "run_control": {
     "marked": false
    }
   },
   "outputs": [
    {
     "name": "stdout",
     "output_type": "stream",
     "text": [
      "LogReg Model:\n",
      "Accuracy = 0.918\n",
      "Precision = 0.935\n",
      "Specificity = 0.437\n",
      "Sensitivity = 0.976\n",
      "F1-score = 0.955\n"
     ]
    }
   ],
   "source": [
    "\n",
    "report = classification_report(y_test,logreg_predRS ,digits=3,output_dict = True)\n",
    "\n",
    "print(\"LogReg Model:\")\n",
    "print(\"Accuracy = {0:0.3f}\".format(report[\"accuracy\"]))\n",
    "print(\"Precision = {0:0.3f}\".format(report[\"1\"][\"precision\"]))\n",
    "print(\"Specificity = {0:0.3f}\".format(report[\"0\"][\"recall\"]))\n",
    "print(\"Sensitivity = {0:0.3f}\".format(report[\"1\"][\"recall\"]))\n",
    "print(\"F1-score = {0:0.3f}\".format(report[\"1\"][\"f1-score\"]))"
   ]
  },
  {
   "cell_type": "code",
   "execution_count": 38,
   "id": "5898f8ff",
   "metadata": {
    "ExecuteTime": {
     "end_time": "2021-07-20T10:36:30.659030Z",
     "start_time": "2021-07-20T10:36:30.567083Z"
    },
    "run_control": {
     "marked": false
    }
   },
   "outputs": [
    {
     "name": "stdout",
     "output_type": "stream",
     "text": [
      "              precision    recall  f1-score   support\n",
      "\n",
      "           0       0.69      0.44      0.53      4164\n",
      "           1       0.94      0.98      0.96     34572\n",
      "\n",
      "    accuracy                           0.92     38736\n",
      "   macro avg       0.81      0.71      0.74     38736\n",
      "weighted avg       0.91      0.92      0.91     38736\n",
      "\n"
     ]
    }
   ],
   "source": [
    "print(classification_report(y_test,logreg_predRS, ))"
   ]
  },
  {
   "cell_type": "markdown",
   "id": "085d2619",
   "metadata": {},
   "source": [
    "## ROC"
   ]
  },
  {
   "cell_type": "code",
   "execution_count": 39,
   "id": "311d67d3",
   "metadata": {
    "ExecuteTime": {
     "end_time": "2021-07-20T10:36:31.035812Z",
     "start_time": "2021-07-20T10:36:30.662030Z"
    },
    "run_control": {
     "marked": false
    }
   },
   "outputs": [
    {
     "data": {
      "image/png": "[encoded data removed]",
      "text/plain": [
       "<Figure size 432x288 with 1 Axes>"
      ]
     },
     "metadata": {},
     "output_type": "display_data"
    }
   ],
   "source": [
    "fpr, tpr, _ = metrics.roc_curve(y_test, logreg_pred_probRS)\n",
    "auc = metrics.roc_auc_score(y_test, logreg_pred_probRS)\n",
    "plt.plot(fpr,tpr,label=\"data 1, auc=\"+str(auc))\n",
    "plt.legend(loc=4)\n",
    "plt.show()"
   ]
  },
  {
   "cell_type": "markdown",
   "id": "b0243713",
   "metadata": {},
   "source": [
    "## PRC"
   ]
  },
  {
   "cell_type": "code",
   "execution_count": 40,
   "id": "cb4b2643",
   "metadata": {
    "ExecuteTime": {
     "end_time": "2021-07-20T10:36:31.066797Z",
     "start_time": "2021-07-20T10:36:31.038812Z"
    },
    "run_control": {
     "marked": false
    }
   },
   "outputs": [
    {
     "name": "stdout",
     "output_type": "stream",
     "text": [
      "Average precision-recall score: 1.00\n"
     ]
    }
   ],
   "source": [
    "from sklearn.metrics import average_precision_score\n",
    "y_scoreRS = logregRS.decision_function(X_test_robust)\n",
    "average_precisionRS = average_precision_score(y_test, y_scoreRS)\n",
    "\n",
    "print('Average precision-recall score: {0:0.2f}'.format(\n",
    "      average_precision))"
   ]
  },
  {
   "cell_type": "code",
   "execution_count": 41,
   "id": "53c3b865",
   "metadata": {
    "ExecuteTime": {
     "end_time": "2021-07-20T10:36:31.113768Z",
     "start_time": "2021-07-20T10:36:31.069796Z"
    },
    "run_control": {
     "marked": false
    }
   },
   "outputs": [],
   "source": [
    "from sklearn.metrics import precision_recall_curve\n",
    "from sklearn.metrics import plot_precision_recall_curve\n",
    "#Plot PR curve\n",
    "\n",
    "#Generating points to plot on recall precision curve\n",
    "precision, recall, thresholds = precision_recall_curve(y_test, logreg_pred_probRS)\n",
    "average_precision = average_precision_score(y_test, logreg_pred_probRS)\n",
    "\n"
   ]
  },
  {
   "cell_type": "code",
   "execution_count": 42,
   "id": "82f73774",
   "metadata": {
    "ExecuteTime": {
     "end_time": "2021-07-20T10:36:31.526303Z",
     "start_time": "2021-07-20T10:36:31.116769Z"
    },
    "run_control": {
     "marked": false
    }
   },
   "outputs": [
    {
     "data": {
      "text/plain": [
       "Text(0.5, 1.0, '2-class Precision-Recall curve: AP=1.00')"
      ]
     },
     "execution_count": 42,
     "metadata": {},
     "output_type": "execute_result"
    },
    {
     "data": {
      "image/png": "[encoded data removed]",
      "text/plain": [
       "<Figure size 432x288 with 1 Axes>"
      ]
     },
     "metadata": {},
     "output_type": "display_data"
    }
   ],
   "source": [
    "disp = plot_precision_recall_curve(logregRS, X_test_robust, y_test)\n",
    "disp.ax_.set_title('2-class Precision-Recall curve: '\n",
    "                   'AP={0:0.2f}'.format(average_precision))"
   ]
  },
  {
   "cell_type": "markdown",
   "id": "410e8031",
   "metadata": {},
   "source": [
    "## Cross Validation"
   ]
  },
  {
   "cell_type": "code",
   "execution_count": 43,
   "id": "e5682d7b",
   "metadata": {
    "ExecuteTime": {
     "end_time": "2021-07-20T10:36:31.542298Z",
     "start_time": "2021-07-20T10:36:31.528305Z"
    },
    "run_control": {
     "marked": false
    }
   },
   "outputs": [],
   "source": [
    "from sklearn.model_selection import cross_validate\n",
    "from sklearn.metrics import recall_score"
   ]
  },
  {
   "cell_type": "code",
   "execution_count": 44,
   "id": "5be2f3a7",
   "metadata": {
    "ExecuteTime": {
     "end_time": "2021-07-20T10:38:12.836159Z",
     "start_time": "2021-07-20T10:36:31.545298Z"
    },
    "run_control": {
     "marked": false
    }
   },
   "outputs": [],
   "source": [
    "scoring = ['precision_macro', 'recall_macro']\n",
    "scores2 = cross_validate (logregRS, X, y, scoring=scoring, cv=5, return_train_score=True)\n",
    "sorted(scores2.keys())\n",
    "\n",
    "scores_df2= pd.DataFrame(scores)"
   ]
  },
  {
   "cell_type": "code",
   "execution_count": 45,
   "id": "408dafcb",
   "metadata": {
    "ExecuteTime": {
     "end_time": "2021-07-20T10:38:12.866799Z",
     "start_time": "2021-07-20T10:38:12.836159Z"
    },
    "run_control": {
     "marked": false
    }
   },
   "outputs": [
    {
     "data": {
      "text/html": [
       "<div>\n",
       "<style scoped>\n",
       "    .dataframe tbody tr th:only-of-type {\n",
       "        vertical-align: middle;\n",
       "    }\n",
       "\n",
       "    .dataframe tbody tr th {\n",
       "        vertical-align: top;\n",
       "    }\n",
       "\n",
       "    .dataframe thead th {\n",
       "        text-align: right;\n",
       "    }\n",
       "</style>\n",
       "<table border=\"1\" class=\"dataframe\">\n",
       "  <thead>\n",
       "    <tr style=\"text-align: right;\">\n",
       "      <th></th>\n",
       "      <th>fit_time</th>\n",
       "      <th>score_time</th>\n",
       "      <th>test_precision_macro</th>\n",
       "      <th>train_precision_macro</th>\n",
       "      <th>test_recall_macro</th>\n",
       "      <th>train_recall_macro</th>\n",
       "    </tr>\n",
       "  </thead>\n",
       "  <tbody>\n",
       "    <tr>\n",
       "      <th>0</th>\n",
       "      <td>20.396987</td>\n",
       "      <td>0.333212</td>\n",
       "      <td>0.813262</td>\n",
       "      <td>0.803635</td>\n",
       "      <td>0.737325</td>\n",
       "      <td>0.723425</td>\n",
       "    </tr>\n",
       "    <tr>\n",
       "      <th>1</th>\n",
       "      <td>21.990245</td>\n",
       "      <td>0.292856</td>\n",
       "      <td>0.810891</td>\n",
       "      <td>0.809161</td>\n",
       "      <td>0.722660</td>\n",
       "      <td>0.718325</td>\n",
       "    </tr>\n",
       "    <tr>\n",
       "      <th>2</th>\n",
       "      <td>14.532440</td>\n",
       "      <td>0.297165</td>\n",
       "      <td>0.800026</td>\n",
       "      <td>0.802681</td>\n",
       "      <td>0.704888</td>\n",
       "      <td>0.731662</td>\n",
       "    </tr>\n",
       "    <tr>\n",
       "      <th>3</th>\n",
       "      <td>16.740038</td>\n",
       "      <td>0.321821</td>\n",
       "      <td>0.789462</td>\n",
       "      <td>0.804921</td>\n",
       "      <td>0.721502</td>\n",
       "      <td>0.734819</td>\n",
       "    </tr>\n",
       "    <tr>\n",
       "      <th>4</th>\n",
       "      <td>21.063278</td>\n",
       "      <td>0.321887</td>\n",
       "      <td>0.811977</td>\n",
       "      <td>0.806527</td>\n",
       "      <td>0.743293</td>\n",
       "      <td>0.719286</td>\n",
       "    </tr>\n",
       "  </tbody>\n",
       "</table>\n",
       "</div>"
      ],
      "text/plain": [
       "    fit_time  score_time  test_precision_macro  train_precision_macro  \\\n",
       "0  20.396987    0.333212              0.813262               0.803635   \n",
       "1  21.990245    0.292856              0.810891               0.809161   \n",
       "2  14.532440    0.297165              0.800026               0.802681   \n",
       "3  16.740038    0.321821              0.789462               0.804921   \n",
       "4  21.063278    0.321887              0.811977               0.806527   \n",
       "\n",
       "   test_recall_macro  train_recall_macro  \n",
       "0           0.737325            0.723425  \n",
       "1           0.722660            0.718325  \n",
       "2           0.704888            0.731662  \n",
       "3           0.721502            0.734819  \n",
       "4           0.743293            0.719286  "
      ]
     },
     "execution_count": 45,
     "metadata": {},
     "output_type": "execute_result"
    }
   ],
   "source": [
    "scores_df2"
   ]
  },
  {
   "cell_type": "code",
   "execution_count": 46,
   "id": "3c071d1d",
   "metadata": {
    "ExecuteTime": {
     "end_time": "2021-07-20T10:38:12.946761Z",
     "start_time": "2021-07-20T10:38:12.871796Z"
    },
    "run_control": {
     "marked": false
    }
   },
   "outputs": [
    {
     "data": {
      "text/html": [
       "<div>\n",
       "<style scoped>\n",
       "    .dataframe tbody tr th:only-of-type {\n",
       "        vertical-align: middle;\n",
       "    }\n",
       "\n",
       "    .dataframe tbody tr th {\n",
       "        vertical-align: top;\n",
       "    }\n",
       "\n",
       "    .dataframe thead th {\n",
       "        text-align: right;\n",
       "    }\n",
       "</style>\n",
       "<table border=\"1\" class=\"dataframe\">\n",
       "  <thead>\n",
       "    <tr style=\"text-align: right;\">\n",
       "      <th></th>\n",
       "      <th>fit_time</th>\n",
       "      <th>score_time</th>\n",
       "      <th>test_precision_macro</th>\n",
       "      <th>train_precision_macro</th>\n",
       "      <th>test_recall_macro</th>\n",
       "      <th>train_recall_macro</th>\n",
       "    </tr>\n",
       "  </thead>\n",
       "  <tbody>\n",
       "    <tr>\n",
       "      <th>min</th>\n",
       "      <td>14.532440</td>\n",
       "      <td>0.292856</td>\n",
       "      <td>0.789462</td>\n",
       "      <td>0.802681</td>\n",
       "      <td>0.704888</td>\n",
       "      <td>0.718325</td>\n",
       "    </tr>\n",
       "    <tr>\n",
       "      <th>max</th>\n",
       "      <td>21.990245</td>\n",
       "      <td>0.333212</td>\n",
       "      <td>0.813262</td>\n",
       "      <td>0.809161</td>\n",
       "      <td>0.743293</td>\n",
       "      <td>0.734819</td>\n",
       "    </tr>\n",
       "    <tr>\n",
       "      <th>mean</th>\n",
       "      <td>18.944597</td>\n",
       "      <td>0.313388</td>\n",
       "      <td>0.805124</td>\n",
       "      <td>0.805385</td>\n",
       "      <td>0.725934</td>\n",
       "      <td>0.725503</td>\n",
       "    </tr>\n",
       "  </tbody>\n",
       "</table>\n",
       "</div>"
      ],
      "text/plain": [
       "       fit_time  score_time  test_precision_macro  train_precision_macro  \\\n",
       "min   14.532440    0.292856              0.789462               0.802681   \n",
       "max   21.990245    0.333212              0.813262               0.809161   \n",
       "mean  18.944597    0.313388              0.805124               0.805385   \n",
       "\n",
       "      test_recall_macro  train_recall_macro  \n",
       "min            0.704888            0.718325  \n",
       "max            0.743293            0.734819  \n",
       "mean           0.725934            0.725503  "
      ]
     },
     "execution_count": 46,
     "metadata": {},
     "output_type": "execute_result"
    }
   ],
   "source": [
    "scores_df2.describe().loc[['min','max','mean'] ]"
   ]
  },
  {
   "cell_type": "markdown",
   "id": "edd18e71",
   "metadata": {},
   "source": [
    "## Comparació Resultats Model 1\n",
    "\n",
    "Ara q ja tenim les dades del model amb i sense pre-processing comparem les dades:"
   ]
  },
  {
   "cell_type": "code",
   "execution_count": 47,
   "id": "35c9b20e",
   "metadata": {
    "ExecuteTime": {
     "end_time": "2021-07-20T10:38:13.087673Z",
     "start_time": "2021-07-20T10:38:12.949750Z"
    },
    "run_control": {
     "marked": false
    }
   },
   "outputs": [
    {
     "name": "stdout",
     "output_type": "stream",
     "text": [
      "ClassificationReport de LogisticRegresion\n",
      "              precision    recall  f1-score   support\n",
      "\n",
      "           0       0.68      0.45      0.54      4164\n",
      "           1       0.94      0.97      0.96     34572\n",
      "\n",
      "    accuracy                           0.92     38736\n",
      "   macro avg       0.81      0.71      0.75     38736\n",
      "weighted avg       0.91      0.92      0.91     38736\n",
      "\n",
      "ClassificationReport de LogisticRegresion amb RobustScaler\n",
      "              precision    recall  f1-score   support\n",
      "\n",
      "           0       0.69      0.44      0.53      4164\n",
      "           1       0.94      0.98      0.96     34572\n",
      "\n",
      "    accuracy                           0.92     38736\n",
      "   macro avg       0.81      0.71      0.74     38736\n",
      "weighted avg       0.91      0.92      0.91     38736\n",
      "\n"
     ]
    }
   ],
   "source": [
    "print('ClassificationReport de LogisticRegresion')\n",
    "print(classification_report(y_test,logreg_pred) )\n",
    "print('ClassificationReport de LogisticRegresion amb RobustScaler')\n",
    "print(classification_report(y_test,logreg_predRS))"
   ]
  },
  {
   "cell_type": "markdown",
   "id": "62e6bdfb",
   "metadata": {},
   "source": [
    "la Cross_val d'ambdós models és gairebé identica."
   ]
  },
  {
   "cell_type": "markdown",
   "id": "df714b60",
   "metadata": {},
   "source": [
    "# Model 2 KNN"
   ]
  },
  {
   "cell_type": "markdown",
   "id": "79f6dc09",
   "metadata": {},
   "source": [
    "## train test split  \n",
    "\n",
    "Per tal de poder treballar amb models més complicats he probat de reduïr la mida dels grups Train i Test."
   ]
  },
  {
   "cell_type": "code",
   "execution_count": 48,
   "id": "8e466ef5",
   "metadata": {
    "ExecuteTime": {
     "end_time": "2021-07-20T10:38:13.391263Z",
     "start_time": "2021-07-20T10:38:13.089670Z"
    },
    "run_control": {
     "marked": false
    }
   },
   "outputs": [
    {
     "name": "stdout",
     "output_type": "stream",
     "text": [
      "Variables caracteristiques, Train:  (387351, 15)\n",
      "Variables caracteristiques, Test:  (38736, 15)\n",
      "Variable objectiu, Train:  (387351,)\n",
      "Variables objectiu, Test:  (38736,)\n"
     ]
    }
   ],
   "source": [
    "from sklearn.model_selection import train_test_split\n",
    "X_train,X_test,y_train,y_test=train_test_split(X,y,test_size=0.02,train_size=0.20,random_state=42)\n",
    "\n",
    "print( 'Variables caracteristiques, Train: ', X_train.shape )\n",
    "print( 'Variables caracteristiques, Test: ', X_test.shape )\n",
    "print( 'Variable objectiu, Train: ', y_train.shape )\n",
    "print( 'Variables objectiu, Test: ', y_test.shape )"
   ]
  },
  {
   "cell_type": "markdown",
   "id": "1de63c91",
   "metadata": {},
   "source": [
    "## Classifier"
   ]
  },
  {
   "cell_type": "code",
   "execution_count": 49,
   "id": "54fe34d5",
   "metadata": {
    "ExecuteTime": {
     "end_time": "2021-07-20T10:38:23.872121Z",
     "start_time": "2021-07-20T10:38:13.393267Z"
    },
    "run_control": {
     "marked": false
    }
   },
   "outputs": [],
   "source": [
    "from sklearn.neighbors import KNeighborsClassifier\n",
    "classifier = KNeighborsClassifier(n_neighbors=5)\n",
    "classifier.fit(X_train, y_train)\n",
    "y_pred = classifier.predict(X_test)"
   ]
  },
  {
   "cell_type": "code",
   "execution_count": 50,
   "id": "dc13d9f0",
   "metadata": {
    "ExecuteTime": {
     "end_time": "2021-07-20T10:38:27.496600Z",
     "start_time": "2021-07-20T10:38:23.875116Z"
    },
    "run_control": {
     "marked": false
    }
   },
   "outputs": [],
   "source": [
    "y_pred_probKNN = classifier.predict_proba(X_test)[::,1]"
   ]
  },
  {
   "cell_type": "markdown",
   "id": "8a4d897d",
   "metadata": {},
   "source": [
    "## Matriu de Confusió\n"
   ]
  },
  {
   "cell_type": "code",
   "execution_count": 51,
   "id": "bbea6a5e",
   "metadata": {
    "ExecuteTime": {
     "end_time": "2021-07-20T10:38:27.543765Z",
     "start_time": "2021-07-20T10:38:27.498639Z"
    },
    "run_control": {
     "marked": false
    },
    "scrolled": true
   },
   "outputs": [
    {
     "name": "stdout",
     "output_type": "stream",
     "text": [
      "[[  606  3558]\n",
      " [  935 33637]]\n"
     ]
    }
   ],
   "source": [
    "from sklearn import metrics\n",
    "from sklearn.metrics import classification_report\n",
    "print(metrics.confusion_matrix(y_test, y_pred))\n"
   ]
  },
  {
   "cell_type": "code",
   "execution_count": 52,
   "id": "2a81d385",
   "metadata": {
    "ExecuteTime": {
     "end_time": "2021-07-20T10:38:27.607131Z",
     "start_time": "2021-07-20T10:38:27.546746Z"
    },
    "run_control": {
     "marked": false
    }
   },
   "outputs": [],
   "source": [
    "cnf_matrix_KN= pd.DataFrame(metrics.confusion_matrix(y_test, y_pred))"
   ]
  },
  {
   "cell_type": "code",
   "execution_count": 53,
   "id": "a3c430ec",
   "metadata": {
    "ExecuteTime": {
     "end_time": "2021-07-20T10:38:27.829007Z",
     "start_time": "2021-07-20T10:38:27.609135Z"
    },
    "run_control": {
     "marked": false
    }
   },
   "outputs": [
    {
     "data": {
      "image/png": "[encoded data removed]",
      "text/plain": [
       "<Figure size 504x504 with 1 Axes>"
      ]
     },
     "metadata": {},
     "output_type": "display_data"
    }
   ],
   "source": [
    "#plot CM  \n",
    "\n",
    "fig, ax = plt.subplots(figsize = (7,7))\n",
    "sns.heatmap(pd.DataFrame(cnf_matrix_KN.T), annot=True, annot_kws={\"size\": 15}, cmap=\"Purples\", vmin=0, vmax=30000, fmt='.0f', linewidths=1, linecolor=\"white\", cbar=False,\n",
    "           xticklabels=[\"ArrOntime\",\"ArrDelay\"], yticklabels=[\"ArrOntime\",\"ArrDelay\"])\n",
    "plt.ylabel(\"Predicted\", fontsize=15)\n",
    "plt.xlabel(\"Actual\", fontsize=15)\n",
    "ax.set_xticklabels([\"ArrOntime\",\"ArrDelay\"], fontsize=13)\n",
    "ax.set_yticklabels([\"ArrOntime\",\"ArrDelay\"], fontsize=13)\n",
    "plt.title(\"Confusion Matrix for KNN Classifier (Threshold = 0.5) - Counts\", fontsize=15)\n",
    "plt.show()"
   ]
  },
  {
   "cell_type": "markdown",
   "id": "692c5d8f",
   "metadata": {},
   "source": [
    "## Resultats\n"
   ]
  },
  {
   "cell_type": "code",
   "execution_count": 54,
   "id": "4a7f46e5",
   "metadata": {
    "ExecuteTime": {
     "end_time": "2021-07-20T10:38:27.907983Z",
     "start_time": "2021-07-20T10:38:27.831007Z"
    },
    "run_control": {
     "marked": false
    }
   },
   "outputs": [
    {
     "name": "stdout",
     "output_type": "stream",
     "text": [
      "              precision    recall  f1-score   support\n",
      "\n",
      "           0       0.39      0.15      0.21      4164\n",
      "           1       0.90      0.97      0.94     34572\n",
      "\n",
      "    accuracy                           0.88     38736\n",
      "   macro avg       0.65      0.56      0.57     38736\n",
      "weighted avg       0.85      0.88      0.86     38736\n",
      "\n"
     ]
    }
   ],
   "source": [
    "knn_ClasReport = classification_report(y_test, y_pred)\n",
    "print(knn_ClasReport)\n"
   ]
  },
  {
   "cell_type": "markdown",
   "id": "80e0915b",
   "metadata": {},
   "source": [
    "## ROC"
   ]
  },
  {
   "cell_type": "code",
   "execution_count": 55,
   "id": "07b239d9",
   "metadata": {
    "ExecuteTime": {
     "end_time": "2021-07-20T10:38:28.194593Z",
     "start_time": "2021-07-20T10:38:27.909964Z"
    },
    "run_control": {
     "marked": false
    }
   },
   "outputs": [
    {
     "data": {
      "image/png": "[encoded data removed]",
      "text/plain": [
       "<Figure size 432x288 with 1 Axes>"
      ]
     },
     "metadata": {},
     "output_type": "display_data"
    }
   ],
   "source": [
    "fpr, tpr, _ = metrics.roc_curve(y_test, y_pred_probKNN)\n",
    "auc = metrics.roc_auc_score(y_test, y_pred_probKNN)\n",
    "plt.plot(fpr,tpr,label=\"data 1, auc=\"+str(auc))\n",
    "plt.legend(loc=4)\n",
    "plt.show()"
   ]
  },
  {
   "cell_type": "markdown",
   "id": "498831d1",
   "metadata": {},
   "source": [
    "# Model 2 KNN `RobustScaler`"
   ]
  },
  {
   "cell_type": "code",
   "execution_count": 56,
   "id": "ea98515a",
   "metadata": {
    "ExecuteTime": {
     "end_time": "2021-07-20T10:38:28.209588Z",
     "start_time": "2021-07-20T10:38:28.196595Z"
    },
    "run_control": {
     "marked": false
    }
   },
   "outputs": [],
   "source": [
    "\n",
    "from sklearn.neighbors import KNeighborsClassifier\n",
    "from sklearn import metrics\n",
    "from sklearn.preprocessing import RobustScaler \n"
   ]
  },
  {
   "cell_type": "code",
   "execution_count": 57,
   "id": "de0eb065",
   "metadata": {
    "ExecuteTime": {
     "end_time": "2021-07-20T10:38:28.240574Z",
     "start_time": "2021-07-20T10:38:28.212587Z"
    },
    "run_control": {
     "marked": false
    }
   },
   "outputs": [],
   "source": [
    "from sklearn.pipeline import make_pipeline\n",
    "pipe = make_pipeline(RobustScaler(), KNeighborsClassifier(n_neighbors=3))\n"
   ]
  },
  {
   "cell_type": "code",
   "execution_count": 58,
   "id": "7a3489cd",
   "metadata": {
    "ExecuteTime": {
     "end_time": "2021-07-20T10:49:09.915967Z",
     "start_time": "2021-07-20T10:38:28.243570Z"
    },
    "run_control": {
     "marked": false
    }
   },
   "outputs": [
    {
     "data": {
      "text/plain": [
       "Pipeline(steps=[('robustscaler', RobustScaler()),\n",
       "                ('kneighborsclassifier', KNeighborsClassifier(n_neighbors=3))])"
      ]
     },
     "execution_count": 58,
     "metadata": {},
     "output_type": "execute_result"
    }
   ],
   "source": [
    "pipe.fit(X_train, y_train)"
   ]
  },
  {
   "cell_type": "code",
   "execution_count": 59,
   "id": "7d8841f7",
   "metadata": {
    "ExecuteTime": {
     "end_time": "2021-07-20T10:49:29.141143Z",
     "start_time": "2021-07-20T10:49:09.917968Z"
    },
    "run_control": {
     "marked": false
    }
   },
   "outputs": [],
   "source": [
    "y_predKN_RS = pipe.predict(X_test)"
   ]
  },
  {
   "cell_type": "code",
   "execution_count": 60,
   "id": "770f344b",
   "metadata": {
    "ExecuteTime": {
     "end_time": "2021-07-20T10:49:47.065956Z",
     "start_time": "2021-07-20T10:49:29.141143Z"
    },
    "run_control": {
     "marked": false
    }
   },
   "outputs": [],
   "source": [
    "y_pred_probKN_RS = pipe.predict_proba(X_test)[::,1]"
   ]
  },
  {
   "cell_type": "code",
   "execution_count": 61,
   "id": "534706be",
   "metadata": {
    "ExecuteTime": {
     "end_time": "2021-07-20T10:49:47.115795Z",
     "start_time": "2021-07-20T10:49:47.065956Z"
    },
    "run_control": {
     "marked": false
    }
   },
   "outputs": [
    {
     "name": "stdout",
     "output_type": "stream",
     "text": [
      "[[ 1914  2250]\n",
      " [ 1658 32914]]\n"
     ]
    }
   ],
   "source": [
    "print(metrics.confusion_matrix(y_test, y_predKN_RS))\n"
   ]
  },
  {
   "cell_type": "code",
   "execution_count": 62,
   "id": "2a763dba",
   "metadata": {
    "ExecuteTime": {
     "end_time": "2021-07-20T10:49:47.171592Z",
     "start_time": "2021-07-20T10:49:47.118791Z"
    },
    "run_control": {
     "marked": false
    }
   },
   "outputs": [],
   "source": [
    "cnf_matrix_KNRS= pd.DataFrame(metrics.confusion_matrix(y_test, y_predKN_RS))"
   ]
  },
  {
   "cell_type": "code",
   "execution_count": 63,
   "id": "08d92fcc",
   "metadata": {
    "ExecuteTime": {
     "end_time": "2021-07-20T10:49:47.420436Z",
     "start_time": "2021-07-20T10:49:47.174590Z"
    },
    "run_control": {
     "marked": false
    }
   },
   "outputs": [
    {
     "data": {
      "image/png": "[encoded data removed]",
      "text/plain": [
       "<Figure size 504x504 with 1 Axes>"
      ]
     },
     "metadata": {},
     "output_type": "display_data"
    }
   ],
   "source": [
    "#plot CM  \n",
    "\n",
    "fig, ax = plt.subplots(figsize = (7,7))\n",
    "sns.heatmap(pd.DataFrame(cnf_matrix_KNRS.T), annot=True, annot_kws={\"size\": 15}, cmap=\"Purples\", vmin=0, vmax=30000, fmt='.0f', linewidths=1, linecolor=\"white\", cbar=False,\n",
    "           xticklabels=[\"ArrOntime\",\"ArrDelay\"], yticklabels=[\"ArrOntime\",\"ArrDelay\"])\n",
    "plt.ylabel(\"Predicted\", fontsize=15)\n",
    "plt.xlabel(\"Actual\", fontsize=15)\n",
    "ax.set_xticklabels([\"ArrOntime\",\"ArrDelay\"], fontsize=13)\n",
    "ax.set_yticklabels([\"ArrOntime\",\"ArrDelay\"], fontsize=13)\n",
    "plt.title(\"Confusion Matrix for KNN and RobustScaler Classifier (Threshold = 0.5) - Counts\", fontsize=15)\n",
    "plt.show()"
   ]
  },
  {
   "cell_type": "code",
   "execution_count": 64,
   "id": "37d527d4",
   "metadata": {
    "ExecuteTime": {
     "end_time": "2021-07-20T10:49:47.508978Z",
     "start_time": "2021-07-20T10:49:47.420436Z"
    },
    "run_control": {
     "marked": false
    }
   },
   "outputs": [
    {
     "name": "stdout",
     "output_type": "stream",
     "text": [
      "              precision    recall  f1-score   support\n",
      "\n",
      "           0       0.54      0.46      0.49      4164\n",
      "           1       0.94      0.95      0.94     34572\n",
      "\n",
      "    accuracy                           0.90     38736\n",
      "   macro avg       0.74      0.71      0.72     38736\n",
      "weighted avg       0.89      0.90      0.90     38736\n",
      "\n"
     ]
    }
   ],
   "source": [
    "print(classification_report(y_test, y_predKN_RS))"
   ]
  },
  {
   "cell_type": "markdown",
   "id": "85c5f4b2",
   "metadata": {},
   "source": [
    "## Cross Validation"
   ]
  },
  {
   "cell_type": "code",
   "execution_count": 65,
   "id": "b995ca2f",
   "metadata": {
    "ExecuteTime": {
     "end_time": "2021-07-20T10:49:47.518822Z",
     "start_time": "2021-07-20T10:49:47.511200Z"
    },
    "run_control": {
     "marked": false
    }
   },
   "outputs": [],
   "source": [
    "from sklearn.model_selection import cross_validate\n",
    "from sklearn.metrics import recall_score"
   ]
  },
  {
   "cell_type": "code",
   "execution_count": null,
   "id": "ae86cba3",
   "metadata": {
    "ExecuteTime": {
     "start_time": "2021-07-20T10:33:37.522Z"
    },
    "run_control": {
     "marked": false
    }
   },
   "outputs": [],
   "source": [
    "scoring = ['precision_macro', 'recall_macro']\n",
    "scores4 = cross_validate (pipe, X, y, scoring=scoring, cv=5, return_train_score=True)\n",
    "sorted(scores.keys())\n",
    "\n",
    "scores_df4= pd.DataFrame(scores)"
   ]
  },
  {
   "cell_type": "code",
   "execution_count": null,
   "id": "1539dd18",
   "metadata": {
    "ExecuteTime": {
     "start_time": "2021-07-20T10:33:37.527Z"
    },
    "run_control": {
     "marked": false
    }
   },
   "outputs": [],
   "source": [
    "scores_df4"
   ]
  },
  {
   "cell_type": "code",
   "execution_count": null,
   "id": "bbdf8491",
   "metadata": {
    "ExecuteTime": {
     "start_time": "2021-07-20T10:33:37.535Z"
    },
    "run_control": {
     "marked": false
    }
   },
   "outputs": [],
   "source": [
    "scores_df4.describe().loc[['min','max','mean'] ]"
   ]
  }
 ],
 "metadata": {
  "hide_input": false,
  "kernelspec": {
   "display_name": "Python 3",
   "language": "python",
   "name": "python3"
  },
  "language_info": {
   "codemirror_mode": {
    "name": "ipython",
    "version": 3
   },
   "file_extension": ".py",
   "mimetype": "text/x-python",
   "name": "python",
   "nbconvert_exporter": "python",
   "pygments_lexer": "ipython3",
   "version": "3.8.8"
  },
  "toc": {
   "base_numbering": 1,
   "nav_menu": {},
   "number_sections": true,
   "sideBar": true,
   "skip_h1_title": false,
   "title_cell": "Table of Contents",
   "title_sidebar": "Contents",
   "toc_cell": true,
   "toc_position": {
    "height": "calc(100% - 180px)",
    "left": "10px",
    "top": "150px",
    "width": "336px"
   },
   "toc_section_display": true,
   "toc_window_display": true
  }
 },
 "nbformat": 4,
 "nbformat_minor": 5
}
