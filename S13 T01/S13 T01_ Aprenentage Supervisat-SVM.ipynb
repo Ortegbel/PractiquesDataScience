{
 "cells": [
  {
   "cell_type": "markdown",
   "id": "82afa677",
   "metadata": {},
   "source": [
    "<font size=\"6\">**S13 T01: Aprenentage Supervisat**</font>"
   ]
  },
  {
   "cell_type": "markdown",
   "id": "a53c46d6",
   "metadata": {
    "toc": true
   },
   "source": [
    "<h1>Table of Contents<span class=\"tocSkip\"></span></h1>\n",
    "<div class=\"toc\"><ul class=\"toc-item\"><li><span><a href=\"#Enunciats\" data-toc-modified-id=\"Enunciats-1\"><span class=\"toc-item-num\">1&nbsp;&nbsp;</span>Enunciats</a></span></li><li><span><a href=\"#Importació-i-Preparació-de-Dades\" data-toc-modified-id=\"Importació-i-Preparació-de-Dades-2\"><span class=\"toc-item-num\">2&nbsp;&nbsp;</span>Importació i Preparació de Dades</a></span></li><li><span><a href=\"#Selecció-de-variable-objectiu-i-característiques\" data-toc-modified-id=\"Selecció-de-variable-objectiu-i-característiques-3\"><span class=\"toc-item-num\">3&nbsp;&nbsp;</span>Selecció de variable objectiu i característiques</a></span><ul class=\"toc-item\"><li><span><a href=\"#Under-Sampling--Near-Miss\" data-toc-modified-id=\"Under-Sampling--Near-Miss-3.1\"><span class=\"toc-item-num\">3.1&nbsp;&nbsp;</span>Under Sampling  Near Miss</a></span></li></ul></li><li><span><a href=\"#Dividir-les-dades-train-test-split\" data-toc-modified-id=\"Dividir-les-dades-train-test-split-4\"><span class=\"toc-item-num\">4&nbsp;&nbsp;</span>Dividir les dades <code>train-test-split</code></a></span></li><li><span><a href=\"#Model-3-SVM\" data-toc-modified-id=\"Model-3-SVM-5\"><span class=\"toc-item-num\">5&nbsp;&nbsp;</span>Model 3 SVM</a></span></li></ul></div>"
   ]
  },
  {
   "cell_type": "markdown",
   "id": "285f162b",
   "metadata": {},
   "source": [
    "# Enunciats\n",
    "**Nivell 1**\n",
    "\n",
    "- Exercici 1 Crea almenys tres models de classificació diferents per intentar predir el millor possible l’endarreriment dels vols (ArrDelay) de DelayedFlights.csv. Considera si el vol ha arribat tard o no (ArrDelay > 0).  \n",
    "\n",
    "- Exercici 2 Compara els models de classificació utilitzant la precisió (accuracy), una matriu de confiança i d’altres mètriques més avançades.  \n",
    "\n",
    "- Exercici 3 Entrena’ls utilitzant els diferents paràmetres que admeten.\n",
    "\n",
    "- Exercici 4 Compara el seu rendiment utilitzant l’aproximació traint/test o cross-validation.\n",
    "\n",
    "**Nivell 2**\n",
    "\n",
    "- Exercici 5 Realitza algun procés d’enginyeria de variables per millorar-ne la predicció \n",
    "\n",
    "**Nivell 3**\n",
    "\n",
    "- Exercici 6 No utilitzis la variable `DepDelay` a l’hora de fer prediccions"
   ]
  },
  {
   "cell_type": "markdown",
   "id": "a4238e06",
   "metadata": {},
   "source": [
    "# Importació i Preparació de Dades"
   ]
  },
  {
   "cell_type": "code",
   "execution_count": 1,
   "id": "7b472b2e",
   "metadata": {
    "ExecuteTime": {
     "end_time": "2021-07-21T09:22:01.210675Z",
     "start_time": "2021-07-21T09:21:47.863836Z"
    },
    "run_control": {
     "marked": false
    }
   },
   "outputs": [
    {
     "data": {
      "text/html": [
       "<div>\n",
       "<style scoped>\n",
       "    .dataframe tbody tr th:only-of-type {\n",
       "        vertical-align: middle;\n",
       "    }\n",
       "\n",
       "    .dataframe tbody tr th {\n",
       "        vertical-align: top;\n",
       "    }\n",
       "\n",
       "    .dataframe thead th {\n",
       "        text-align: right;\n",
       "    }\n",
       "</style>\n",
       "<table border=\"1\" class=\"dataframe\">\n",
       "  <thead>\n",
       "    <tr style=\"text-align: right;\">\n",
       "      <th></th>\n",
       "      <th>Unnamed: 0</th>\n",
       "      <th>Unnamed: 0.1</th>\n",
       "      <th>Year</th>\n",
       "      <th>Month</th>\n",
       "      <th>DayofMonth</th>\n",
       "      <th>DayOfWeek</th>\n",
       "      <th>DepTime</th>\n",
       "      <th>CRSDepTime</th>\n",
       "      <th>ArrTime</th>\n",
       "      <th>CRSArrTime</th>\n",
       "      <th>...</th>\n",
       "      <th>TaxiIn</th>\n",
       "      <th>TaxiOut</th>\n",
       "      <th>Cancelled</th>\n",
       "      <th>CancellationCode</th>\n",
       "      <th>Diverted</th>\n",
       "      <th>CarrierDelay</th>\n",
       "      <th>WeatherDelay</th>\n",
       "      <th>NASDelay</th>\n",
       "      <th>SecurityDelay</th>\n",
       "      <th>LateAircraftDelay</th>\n",
       "    </tr>\n",
       "  </thead>\n",
       "  <tbody>\n",
       "    <tr>\n",
       "      <th>0</th>\n",
       "      <td>0</td>\n",
       "      <td>0</td>\n",
       "      <td>2008</td>\n",
       "      <td>1</td>\n",
       "      <td>3</td>\n",
       "      <td>4</td>\n",
       "      <td>2003.0</td>\n",
       "      <td>1955</td>\n",
       "      <td>2211.0</td>\n",
       "      <td>2225</td>\n",
       "      <td>...</td>\n",
       "      <td>4.0</td>\n",
       "      <td>8.0</td>\n",
       "      <td>0</td>\n",
       "      <td>N</td>\n",
       "      <td>0</td>\n",
       "      <td>NaN</td>\n",
       "      <td>NaN</td>\n",
       "      <td>NaN</td>\n",
       "      <td>NaN</td>\n",
       "      <td>NaN</td>\n",
       "    </tr>\n",
       "    <tr>\n",
       "      <th>1</th>\n",
       "      <td>1</td>\n",
       "      <td>1</td>\n",
       "      <td>2008</td>\n",
       "      <td>1</td>\n",
       "      <td>3</td>\n",
       "      <td>4</td>\n",
       "      <td>754.0</td>\n",
       "      <td>735</td>\n",
       "      <td>1002.0</td>\n",
       "      <td>1000</td>\n",
       "      <td>...</td>\n",
       "      <td>5.0</td>\n",
       "      <td>10.0</td>\n",
       "      <td>0</td>\n",
       "      <td>N</td>\n",
       "      <td>0</td>\n",
       "      <td>NaN</td>\n",
       "      <td>NaN</td>\n",
       "      <td>NaN</td>\n",
       "      <td>NaN</td>\n",
       "      <td>NaN</td>\n",
       "    </tr>\n",
       "    <tr>\n",
       "      <th>2</th>\n",
       "      <td>2</td>\n",
       "      <td>2</td>\n",
       "      <td>2008</td>\n",
       "      <td>1</td>\n",
       "      <td>3</td>\n",
       "      <td>4</td>\n",
       "      <td>628.0</td>\n",
       "      <td>620</td>\n",
       "      <td>804.0</td>\n",
       "      <td>750</td>\n",
       "      <td>...</td>\n",
       "      <td>3.0</td>\n",
       "      <td>17.0</td>\n",
       "      <td>0</td>\n",
       "      <td>N</td>\n",
       "      <td>0</td>\n",
       "      <td>NaN</td>\n",
       "      <td>NaN</td>\n",
       "      <td>NaN</td>\n",
       "      <td>NaN</td>\n",
       "      <td>NaN</td>\n",
       "    </tr>\n",
       "    <tr>\n",
       "      <th>3</th>\n",
       "      <td>3</td>\n",
       "      <td>4</td>\n",
       "      <td>2008</td>\n",
       "      <td>1</td>\n",
       "      <td>3</td>\n",
       "      <td>4</td>\n",
       "      <td>1829.0</td>\n",
       "      <td>1755</td>\n",
       "      <td>1959.0</td>\n",
       "      <td>1925</td>\n",
       "      <td>...</td>\n",
       "      <td>3.0</td>\n",
       "      <td>10.0</td>\n",
       "      <td>0</td>\n",
       "      <td>N</td>\n",
       "      <td>0</td>\n",
       "      <td>2.0</td>\n",
       "      <td>0.0</td>\n",
       "      <td>0.0</td>\n",
       "      <td>0.0</td>\n",
       "      <td>32.0</td>\n",
       "    </tr>\n",
       "    <tr>\n",
       "      <th>4</th>\n",
       "      <td>4</td>\n",
       "      <td>5</td>\n",
       "      <td>2008</td>\n",
       "      <td>1</td>\n",
       "      <td>3</td>\n",
       "      <td>4</td>\n",
       "      <td>1940.0</td>\n",
       "      <td>1915</td>\n",
       "      <td>2121.0</td>\n",
       "      <td>2110</td>\n",
       "      <td>...</td>\n",
       "      <td>4.0</td>\n",
       "      <td>10.0</td>\n",
       "      <td>0</td>\n",
       "      <td>N</td>\n",
       "      <td>0</td>\n",
       "      <td>NaN</td>\n",
       "      <td>NaN</td>\n",
       "      <td>NaN</td>\n",
       "      <td>NaN</td>\n",
       "      <td>NaN</td>\n",
       "    </tr>\n",
       "  </tbody>\n",
       "</table>\n",
       "<p>5 rows × 31 columns</p>\n",
       "</div>"
      ],
      "text/plain": [
       "   Unnamed: 0  Unnamed: 0.1  Year  Month  DayofMonth  DayOfWeek  DepTime  \\\n",
       "0           0             0  2008      1           3          4   2003.0   \n",
       "1           1             1  2008      1           3          4    754.0   \n",
       "2           2             2  2008      1           3          4    628.0   \n",
       "3           3             4  2008      1           3          4   1829.0   \n",
       "4           4             5  2008      1           3          4   1940.0   \n",
       "\n",
       "   CRSDepTime  ArrTime  CRSArrTime  ... TaxiIn  TaxiOut Cancelled  \\\n",
       "0        1955   2211.0        2225  ...    4.0      8.0         0   \n",
       "1         735   1002.0        1000  ...    5.0     10.0         0   \n",
       "2         620    804.0         750  ...    3.0     17.0         0   \n",
       "3        1755   1959.0        1925  ...    3.0     10.0         0   \n",
       "4        1915   2121.0        2110  ...    4.0     10.0         0   \n",
       "\n",
       "   CancellationCode  Diverted  CarrierDelay  WeatherDelay  NASDelay  \\\n",
       "0                 N         0           NaN           NaN       NaN   \n",
       "1                 N         0           NaN           NaN       NaN   \n",
       "2                 N         0           NaN           NaN       NaN   \n",
       "3                 N         0           2.0           0.0       0.0   \n",
       "4                 N         0           NaN           NaN       NaN   \n",
       "\n",
       "  SecurityDelay LateAircraftDelay  \n",
       "0           NaN               NaN  \n",
       "1           NaN               NaN  \n",
       "2           NaN               NaN  \n",
       "3           0.0              32.0  \n",
       "4           NaN               NaN  \n",
       "\n",
       "[5 rows x 31 columns]"
      ]
     },
     "execution_count": 1,
     "metadata": {},
     "output_type": "execute_result"
    }
   ],
   "source": [
    "import pandas as pd \n",
    "import numpy as np\n",
    "import seaborn as sns\n",
    "import matplotlib.pyplot as plt\n",
    "\n",
    "url='https://github.com/Ortegbel/PractiquesDataScience/blob/master/Exercici5/DelayedFlightsComp.csv.gz?raw=true'\n",
    "df = pd.read_csv(url,  compression='gzip')\n",
    "\n",
    "\n",
    "df.head()"
   ]
  },
  {
   "cell_type": "code",
   "execution_count": 2,
   "id": "9133e174",
   "metadata": {
    "ExecuteTime": {
     "end_time": "2021-07-21T09:22:02.073257Z",
     "start_time": "2021-07-21T09:22:01.264647Z"
    },
    "run_control": {
     "marked": false
    }
   },
   "outputs": [],
   "source": [
    "df = df.fillna(0)"
   ]
  },
  {
   "cell_type": "code",
   "execution_count": 3,
   "id": "5b17ea80",
   "metadata": {
    "ExecuteTime": {
     "end_time": "2021-07-21T09:22:02.577421Z",
     "start_time": "2021-07-21T09:22:02.081733Z"
    },
    "run_control": {
     "marked": false
    }
   },
   "outputs": [
    {
     "data": {
      "text/html": [
       "<div>\n",
       "<style scoped>\n",
       "    .dataframe tbody tr th:only-of-type {\n",
       "        vertical-align: middle;\n",
       "    }\n",
       "\n",
       "    .dataframe tbody tr th {\n",
       "        vertical-align: top;\n",
       "    }\n",
       "\n",
       "    .dataframe thead th {\n",
       "        text-align: right;\n",
       "    }\n",
       "</style>\n",
       "<table border=\"1\" class=\"dataframe\">\n",
       "  <thead>\n",
       "    <tr style=\"text-align: right;\">\n",
       "      <th></th>\n",
       "      <th>Year</th>\n",
       "      <th>Month</th>\n",
       "      <th>DayofMonth</th>\n",
       "      <th>DayOfWeek</th>\n",
       "      <th>DepTime</th>\n",
       "      <th>CRSDepTime</th>\n",
       "      <th>ArrTime</th>\n",
       "      <th>CRSArrTime</th>\n",
       "      <th>UniqueCarrier</th>\n",
       "      <th>FlightNum</th>\n",
       "      <th>...</th>\n",
       "      <th>TaxiIn</th>\n",
       "      <th>TaxiOut</th>\n",
       "      <th>Cancelled</th>\n",
       "      <th>CancellationCode</th>\n",
       "      <th>Diverted</th>\n",
       "      <th>CarrierDelay</th>\n",
       "      <th>WeatherDelay</th>\n",
       "      <th>NASDelay</th>\n",
       "      <th>SecurityDelay</th>\n",
       "      <th>LateAircraftDelay</th>\n",
       "    </tr>\n",
       "  </thead>\n",
       "  <tbody>\n",
       "    <tr>\n",
       "      <th>0</th>\n",
       "      <td>2008</td>\n",
       "      <td>1</td>\n",
       "      <td>3</td>\n",
       "      <td>4</td>\n",
       "      <td>2003.0</td>\n",
       "      <td>1955</td>\n",
       "      <td>2211.0</td>\n",
       "      <td>2225</td>\n",
       "      <td>WN</td>\n",
       "      <td>335</td>\n",
       "      <td>...</td>\n",
       "      <td>4.0</td>\n",
       "      <td>8.0</td>\n",
       "      <td>0</td>\n",
       "      <td>N</td>\n",
       "      <td>0</td>\n",
       "      <td>0.0</td>\n",
       "      <td>0.0</td>\n",
       "      <td>0.0</td>\n",
       "      <td>0.0</td>\n",
       "      <td>0.0</td>\n",
       "    </tr>\n",
       "    <tr>\n",
       "      <th>1</th>\n",
       "      <td>2008</td>\n",
       "      <td>1</td>\n",
       "      <td>3</td>\n",
       "      <td>4</td>\n",
       "      <td>754.0</td>\n",
       "      <td>735</td>\n",
       "      <td>1002.0</td>\n",
       "      <td>1000</td>\n",
       "      <td>WN</td>\n",
       "      <td>3231</td>\n",
       "      <td>...</td>\n",
       "      <td>5.0</td>\n",
       "      <td>10.0</td>\n",
       "      <td>0</td>\n",
       "      <td>N</td>\n",
       "      <td>0</td>\n",
       "      <td>0.0</td>\n",
       "      <td>0.0</td>\n",
       "      <td>0.0</td>\n",
       "      <td>0.0</td>\n",
       "      <td>0.0</td>\n",
       "    </tr>\n",
       "    <tr>\n",
       "      <th>2</th>\n",
       "      <td>2008</td>\n",
       "      <td>1</td>\n",
       "      <td>3</td>\n",
       "      <td>4</td>\n",
       "      <td>628.0</td>\n",
       "      <td>620</td>\n",
       "      <td>804.0</td>\n",
       "      <td>750</td>\n",
       "      <td>WN</td>\n",
       "      <td>448</td>\n",
       "      <td>...</td>\n",
       "      <td>3.0</td>\n",
       "      <td>17.0</td>\n",
       "      <td>0</td>\n",
       "      <td>N</td>\n",
       "      <td>0</td>\n",
       "      <td>0.0</td>\n",
       "      <td>0.0</td>\n",
       "      <td>0.0</td>\n",
       "      <td>0.0</td>\n",
       "      <td>0.0</td>\n",
       "    </tr>\n",
       "    <tr>\n",
       "      <th>3</th>\n",
       "      <td>2008</td>\n",
       "      <td>1</td>\n",
       "      <td>3</td>\n",
       "      <td>4</td>\n",
       "      <td>1829.0</td>\n",
       "      <td>1755</td>\n",
       "      <td>1959.0</td>\n",
       "      <td>1925</td>\n",
       "      <td>WN</td>\n",
       "      <td>3920</td>\n",
       "      <td>...</td>\n",
       "      <td>3.0</td>\n",
       "      <td>10.0</td>\n",
       "      <td>0</td>\n",
       "      <td>N</td>\n",
       "      <td>0</td>\n",
       "      <td>2.0</td>\n",
       "      <td>0.0</td>\n",
       "      <td>0.0</td>\n",
       "      <td>0.0</td>\n",
       "      <td>32.0</td>\n",
       "    </tr>\n",
       "    <tr>\n",
       "      <th>4</th>\n",
       "      <td>2008</td>\n",
       "      <td>1</td>\n",
       "      <td>3</td>\n",
       "      <td>4</td>\n",
       "      <td>1940.0</td>\n",
       "      <td>1915</td>\n",
       "      <td>2121.0</td>\n",
       "      <td>2110</td>\n",
       "      <td>WN</td>\n",
       "      <td>378</td>\n",
       "      <td>...</td>\n",
       "      <td>4.0</td>\n",
       "      <td>10.0</td>\n",
       "      <td>0</td>\n",
       "      <td>N</td>\n",
       "      <td>0</td>\n",
       "      <td>0.0</td>\n",
       "      <td>0.0</td>\n",
       "      <td>0.0</td>\n",
       "      <td>0.0</td>\n",
       "      <td>0.0</td>\n",
       "    </tr>\n",
       "  </tbody>\n",
       "</table>\n",
       "<p>5 rows × 29 columns</p>\n",
       "</div>"
      ],
      "text/plain": [
       "   Year  Month  DayofMonth  DayOfWeek  DepTime  CRSDepTime  ArrTime  \\\n",
       "0  2008      1           3          4   2003.0        1955   2211.0   \n",
       "1  2008      1           3          4    754.0         735   1002.0   \n",
       "2  2008      1           3          4    628.0         620    804.0   \n",
       "3  2008      1           3          4   1829.0        1755   1959.0   \n",
       "4  2008      1           3          4   1940.0        1915   2121.0   \n",
       "\n",
       "   CRSArrTime UniqueCarrier  FlightNum  ... TaxiIn  TaxiOut  Cancelled  \\\n",
       "0        2225            WN        335  ...    4.0      8.0          0   \n",
       "1        1000            WN       3231  ...    5.0     10.0          0   \n",
       "2         750            WN        448  ...    3.0     17.0          0   \n",
       "3        1925            WN       3920  ...    3.0     10.0          0   \n",
       "4        2110            WN        378  ...    4.0     10.0          0   \n",
       "\n",
       "   CancellationCode  Diverted  CarrierDelay WeatherDelay NASDelay  \\\n",
       "0                 N         0           0.0          0.0      0.0   \n",
       "1                 N         0           0.0          0.0      0.0   \n",
       "2                 N         0           0.0          0.0      0.0   \n",
       "3                 N         0           2.0          0.0      0.0   \n",
       "4                 N         0           0.0          0.0      0.0   \n",
       "\n",
       "   SecurityDelay  LateAircraftDelay  \n",
       "0            0.0                0.0  \n",
       "1            0.0                0.0  \n",
       "2            0.0                0.0  \n",
       "3            0.0               32.0  \n",
       "4            0.0                0.0  \n",
       "\n",
       "[5 rows x 29 columns]"
      ]
     },
     "execution_count": 3,
     "metadata": {},
     "output_type": "execute_result"
    }
   ],
   "source": [
    "df = df.drop(columns=['Unnamed: 0','Unnamed: 0.1' ])\n",
    "df.head()"
   ]
  },
  {
   "cell_type": "code",
   "execution_count": 4,
   "id": "5279e171",
   "metadata": {
    "ExecuteTime": {
     "end_time": "2021-07-21T09:22:02.689357Z",
     "start_time": "2021-07-21T09:22:02.606405Z"
    },
    "run_control": {
     "marked": false
    }
   },
   "outputs": [
    {
     "data": {
      "text/plain": [
       "array([ -14.,    2.,   14., ...,  880., 1279.,  991.])"
      ]
     },
     "execution_count": 4,
     "metadata": {},
     "output_type": "execute_result"
    }
   ],
   "source": [
    "df.ArrDelay.unique()"
   ]
  },
  {
   "cell_type": "code",
   "execution_count": 5,
   "id": "753a6c21",
   "metadata": {
    "ExecuteTime": {
     "end_time": "2021-07-21T09:22:02.816283Z",
     "start_time": "2021-07-21T09:22:02.703350Z"
    },
    "run_control": {
     "marked": false
    }
   },
   "outputs": [
    {
     "data": {
      "text/plain": [
       "array([0, 1])"
      ]
     },
     "execution_count": 5,
     "metadata": {},
     "output_type": "execute_result"
    }
   ],
   "source": [
    "conditions = [(df['ArrDelay']> 0),(df['ArrDelay']<= 0) ]\n",
    "values = [1, 0]\n",
    "df['ArrDelay2'] = np.select(conditions, values)\n",
    "\n",
    "df.ArrDelay2.unique()"
   ]
  },
  {
   "cell_type": "code",
   "execution_count": 6,
   "id": "044c28b5",
   "metadata": {
    "ExecuteTime": {
     "end_time": "2021-07-21T09:22:02.864258Z",
     "start_time": "2021-07-21T09:22:02.830278Z"
    },
    "run_control": {
     "marked": false
    }
   },
   "outputs": [],
   "source": [
    "conditions = [(df['DepDelay']> 0),(df['DepDelay']<= 0) ]\n",
    "values = [1, 0]\n",
    "df['DepDelay2'] = np.select(conditions, values)"
   ]
  },
  {
   "cell_type": "code",
   "execution_count": 7,
   "id": "1f3afdf4",
   "metadata": {
    "ExecuteTime": {
     "end_time": "2021-07-21T09:22:03.475265Z",
     "start_time": "2021-07-21T09:22:02.888243Z"
    },
    "run_control": {
     "marked": false
    }
   },
   "outputs": [],
   "source": [
    "df['CarrierFzd'] = pd.factorize(df['UniqueCarrier'])[0]\n",
    "df['OriginFzd'] = pd.factorize(df['Origin'])[0]\n",
    "df['DestFzd'] = pd.factorize(df['Dest'])[0]"
   ]
  },
  {
   "cell_type": "code",
   "execution_count": 8,
   "id": "2b2bc583",
   "metadata": {
    "ExecuteTime": {
     "end_time": "2021-07-21T09:22:03.871660Z",
     "start_time": "2021-07-21T09:22:03.504869Z"
    },
    "run_control": {
     "marked": false
    }
   },
   "outputs": [],
   "source": [
    "df['TailNumFzd'] = pd.factorize(df['TailNum'])[0]"
   ]
  },
  {
   "cell_type": "code",
   "execution_count": 9,
   "id": "615a91cc",
   "metadata": {
    "ExecuteTime": {
     "end_time": "2021-07-21T09:22:03.983598Z",
     "start_time": "2021-07-21T09:22:03.899662Z"
    },
    "run_control": {
     "marked": false
    }
   },
   "outputs": [
    {
     "data": {
      "text/plain": [
       "array([   0,    1,    2, ..., 5364, 5365, 5366], dtype=int64)"
      ]
     },
     "execution_count": 9,
     "metadata": {},
     "output_type": "execute_result"
    }
   ],
   "source": [
    "df.TailNumFzd.unique()"
   ]
  },
  {
   "cell_type": "markdown",
   "id": "68a5f0a7",
   "metadata": {},
   "source": [
    "# Selecció de variable objectiu i característiques"
   ]
  },
  {
   "cell_type": "code",
   "execution_count": 10,
   "id": "eff46a1f",
   "metadata": {
    "ExecuteTime": {
     "end_time": "2021-07-21T09:22:11.170275Z",
     "start_time": "2021-07-21T09:22:10.668560Z"
    },
    "run_control": {
     "marked": false
    }
   },
   "outputs": [],
   "source": [
    "feature_cols = [ 'ActualElapsedTime', 'CRSElapsedTime', 'AirTime', 'DepDelay2','NASDelay',\n",
    "                'OriginFzd', 'DestFzd','Distance','Cancelled', 'Diverted', 'CarrierDelay','WeatherDelay', 'LateAircraftDelay']\n",
    "\n",
    "X = df[feature_cols]\n",
    "X = np.array(X)\n",
    "y = df.ArrDelay2"
   ]
  },
  {
   "cell_type": "markdown",
   "id": "17351374",
   "metadata": {},
   "source": [
    "## Under Sampling  Near Miss"
   ]
  },
  {
   "cell_type": "code",
   "execution_count": 11,
   "id": "e5e7e60a",
   "metadata": {
    "ExecuteTime": {
     "end_time": "2021-07-21T09:22:28.261271Z",
     "start_time": "2021-07-21T09:22:28.249675Z"
    },
    "run_control": {
     "marked": false
    }
   },
   "outputs": [],
   "source": [
    "from collections import Counter\n",
    "from imblearn.under_sampling import NearMiss"
   ]
  },
  {
   "cell_type": "code",
   "execution_count": 12,
   "id": "7bf26c65",
   "metadata": {
    "ExecuteTime": {
     "end_time": "2021-07-21T09:22:28.767976Z",
     "start_time": "2021-07-21T09:22:28.278257Z"
    },
    "run_control": {
     "marked": false
    }
   },
   "outputs": [
    {
     "data": {
      "text/plain": [
       "Counter({0: 213343, 1: 1723415})"
      ]
     },
     "execution_count": 12,
     "metadata": {},
     "output_type": "execute_result"
    }
   ],
   "source": [
    "counter = Counter(y)\n",
    "counter"
   ]
  },
  {
   "cell_type": "code",
   "execution_count": 13,
   "id": "a0183c43",
   "metadata": {
    "ExecuteTime": {
     "end_time": "2021-07-21T09:22:28.815947Z",
     "start_time": "2021-07-21T09:22:28.802953Z"
    },
    "run_control": {
     "marked": false
    }
   },
   "outputs": [],
   "source": [
    "undersample = NearMiss(version=1, n_neighbors=3)"
   ]
  },
  {
   "cell_type": "code",
   "execution_count": 14,
   "id": "a9f0727a",
   "metadata": {
    "ExecuteTime": {
     "end_time": "2021-07-21T09:23:43.347131Z",
     "start_time": "2021-07-21T09:22:28.840935Z"
    },
    "run_control": {
     "marked": false
    }
   },
   "outputs": [
    {
     "name": "stdout",
     "output_type": "stream",
     "text": [
      "Counter({0: 213343, 1: 213343})\n"
     ]
    }
   ],
   "source": [
    "X_nm, y_nm = undersample.fit_resample(X, y)\n",
    "# summarize the new class distribution\n",
    "counter2 = Counter(y_nm)\n",
    "print(counter2)"
   ]
  },
  {
   "cell_type": "markdown",
   "id": "faf8339d",
   "metadata": {},
   "source": [
    "# Dividir les dades `train-test-split`"
   ]
  },
  {
   "cell_type": "code",
   "execution_count": 15,
   "id": "22f395bb",
   "metadata": {
    "ExecuteTime": {
     "end_time": "2021-07-21T09:23:43.441374Z",
     "start_time": "2021-07-21T09:23:43.370815Z"
    },
    "run_control": {
     "marked": false
    }
   },
   "outputs": [],
   "source": [
    "from sklearn.model_selection import train_test_split\n",
    "X_train,X_test,y_train,y_test=train_test_split(X_nm,y_nm,test_size=0.02,train_size=0.20,random_state=42)"
   ]
  },
  {
   "cell_type": "markdown",
   "id": "0f25f3aa",
   "metadata": {},
   "source": [
    "# Model 3 SVM"
   ]
  },
  {
   "cell_type": "code",
   "execution_count": 16,
   "id": "8ab9414a",
   "metadata": {
    "ExecuteTime": {
     "end_time": "2021-07-21T09:24:37.230499Z",
     "start_time": "2021-07-21T09:24:37.221500Z"
    },
    "run_control": {
     "marked": false
    }
   },
   "outputs": [],
   "source": [
    "from sklearn.preprocessing import RobustScaler \n",
    "from sklearn import metrics\n",
    "from sklearn import svm \n",
    "from sklearn.pipeline import make_pipeline\n"
   ]
  },
  {
   "cell_type": "code",
   "execution_count": 17,
   "id": "d3daabbb",
   "metadata": {
    "ExecuteTime": {
     "end_time": "2021-07-21T09:24:37.261477Z",
     "start_time": "2021-07-21T09:24:37.247484Z"
    },
    "run_control": {
     "marked": false
    }
   },
   "outputs": [],
   "source": [
    "from sklearn import svm \n",
    "from sklearn import metrics\n",
    "\n",
    "pipe = make_pipeline(RobustScaler(),svm.SVC(kernel= 'linear') )\n"
   ]
  },
  {
   "cell_type": "code",
   "execution_count": 18,
   "id": "a99f2306",
   "metadata": {
    "ExecuteTime": {
     "end_time": "2021-07-21T09:33:30.071666Z",
     "start_time": "2021-07-21T09:24:48.308597Z"
    },
    "run_control": {
     "marked": false
    }
   },
   "outputs": [
    {
     "data": {
      "text/plain": [
       "Pipeline(steps=[('robustscaler', RobustScaler()),\n",
       "                ('svc', SVC(kernel='linear'))])"
      ]
     },
     "execution_count": 18,
     "metadata": {},
     "output_type": "execute_result"
    }
   ],
   "source": [
    "pipe.fit(X_train, y_train)"
   ]
  },
  {
   "cell_type": "code",
   "execution_count": 19,
   "id": "e3eb9ca9",
   "metadata": {
    "ExecuteTime": {
     "end_time": "2021-07-21T09:53:09.430071Z",
     "start_time": "2021-07-21T09:52:45.890436Z"
    },
    "run_control": {
     "marked": false
    }
   },
   "outputs": [],
   "source": [
    "y_pred_SVM = pipe.predict(X_test)"
   ]
  },
  {
   "cell_type": "code",
   "execution_count": 20,
   "id": "57b3a377",
   "metadata": {
    "ExecuteTime": {
     "end_time": "2021-07-21T09:53:09.445645Z",
     "start_time": "2021-07-21T09:53:09.430071Z"
    },
    "run_control": {
     "marked": false
    }
   },
   "outputs": [],
   "source": [
    "from sklearn.metrics import classification_report"
   ]
  },
  {
   "cell_type": "code",
   "execution_count": 21,
   "id": "9bf316d7",
   "metadata": {
    "ExecuteTime": {
     "end_time": "2021-07-21T09:53:09.496729Z",
     "start_time": "2021-07-21T09:53:09.449643Z"
    },
    "run_control": {
     "marked": false
    }
   },
   "outputs": [
    {
     "name": "stdout",
     "output_type": "stream",
     "text": [
      "[[2785 1519]\n",
      " [1014 3216]]\n",
      "              precision    recall  f1-score   support\n",
      "\n",
      "           0       0.73      0.65      0.69      4304\n",
      "           1       0.68      0.76      0.72      4230\n",
      "\n",
      "    accuracy                           0.70      8534\n",
      "   macro avg       0.71      0.70      0.70      8534\n",
      "weighted avg       0.71      0.70      0.70      8534\n",
      "\n"
     ]
    }
   ],
   "source": [
    "print(metrics.confusion_matrix(y_test, y_pred_SVM))\n",
    "print(classification_report(y_test, y_pred_SVM))"
   ]
  },
  {
   "cell_type": "code",
   "execution_count": null,
   "id": "0e09c2ba",
   "metadata": {
    "run_control": {
     "marked": false
    }
   },
   "outputs": [],
   "source": []
  }
 ],
 "metadata": {
  "hide_input": false,
  "kernelspec": {
   "display_name": "Python 3",
   "language": "python",
   "name": "python3"
  },
  "language_info": {
   "codemirror_mode": {
    "name": "ipython",
    "version": 3
   },
   "file_extension": ".py",
   "mimetype": "text/x-python",
   "name": "python",
   "nbconvert_exporter": "python",
   "pygments_lexer": "ipython3",
   "version": "3.8.8"
  },
  "toc": {
   "base_numbering": 1,
   "nav_menu": {},
   "number_sections": true,
   "sideBar": true,
   "skip_h1_title": false,
   "title_cell": "Table of Contents",
   "title_sidebar": "Contents",
   "toc_cell": true,
   "toc_position": {
    "height": "calc(100% - 180px)",
    "left": "10px",
    "top": "150px",
    "width": "273.188px"
   },
   "toc_section_display": true,
   "toc_window_display": true
  }
 },
 "nbformat": 4,
 "nbformat_minor": 5
}
