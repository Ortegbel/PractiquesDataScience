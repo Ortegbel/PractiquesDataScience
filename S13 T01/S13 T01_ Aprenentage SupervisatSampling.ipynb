{
 "cells": [
  {
   "cell_type": "markdown",
   "id": "82afa677",
   "metadata": {},
   "source": [
    "<font size=\"6\">**S13 T01: Aprenentage Supervisat**</font>"
   ]
  },
  {
   "cell_type": "markdown",
   "id": "a53c46d6",
   "metadata": {
    "toc": true
   },
   "source": [
    "<h1>Table of Contents<span class=\"tocSkip\"></span></h1>\n",
    "<div class=\"toc\"><ul class=\"toc-item\"><li><span><a href=\"#Enunciats\" data-toc-modified-id=\"Enunciats-1\"><span class=\"toc-item-num\">1&nbsp;&nbsp;</span>Enunciats</a></span></li><li><span><a href=\"#Dades\" data-toc-modified-id=\"Dades-2\"><span class=\"toc-item-num\">2&nbsp;&nbsp;</span>Dades</a></span><ul class=\"toc-item\"><li><span><a href=\"#Importació-i-Preparació-de-Dades\" data-toc-modified-id=\"Importació-i-Preparació-de-Dades-2.1\"><span class=\"toc-item-num\">2.1&nbsp;&nbsp;</span>Importació i Preparació de Dades</a></span></li><li><span><a href=\"#Selecció-de-variable-objectiu-i-característiques\" data-toc-modified-id=\"Selecció-de-variable-objectiu-i-característiques-2.2\"><span class=\"toc-item-num\">2.2&nbsp;&nbsp;</span>Selecció de variable objectiu i característiques</a></span></li><li><span><a href=\"#Comprobació-:-és-un-Dataset-equillibrat?\" data-toc-modified-id=\"Comprobació-:-és-un-Dataset-equillibrat?-2.3\"><span class=\"toc-item-num\">2.3&nbsp;&nbsp;</span>Comprobació : és un Dataset equillibrat?</a></span></li></ul></li><li><span><a href=\"#Sampling\" data-toc-modified-id=\"Sampling-3\"><span class=\"toc-item-num\">3&nbsp;&nbsp;</span>Sampling</a></span><ul class=\"toc-item\"><li><span><a href=\"#OverSampling:-SMOTE\" data-toc-modified-id=\"OverSampling:-SMOTE-3.1\"><span class=\"toc-item-num\">3.1&nbsp;&nbsp;</span>OverSampling: SMOTE</a></span></li><li><span><a href=\"#UnderSampling:-TomekLinks\" data-toc-modified-id=\"UnderSampling:-TomekLinks-3.2\"><span class=\"toc-item-num\">3.2&nbsp;&nbsp;</span>UnderSampling: TomekLinks</a></span></li></ul></li><li><span><a href=\"#Model-1-LogisticRegression\" data-toc-modified-id=\"Model-1-LogisticRegression-4\"><span class=\"toc-item-num\">4&nbsp;&nbsp;</span>Model 1 <code>LogisticRegression</code></a></span><ul class=\"toc-item\"><li><span><a href=\"#Dividir-les-dades-train-test-split\" data-toc-modified-id=\"Dividir-les-dades-train-test-split-4.1\"><span class=\"toc-item-num\">4.1&nbsp;&nbsp;</span>Dividir les dades <code>train-test-split</code></a></span></li><li><span><a href=\"#Matriu-de-Confusió\" data-toc-modified-id=\"Matriu-de-Confusió-4.2\"><span class=\"toc-item-num\">4.2&nbsp;&nbsp;</span>Matriu de Confusió</a></span></li><li><span><a href=\"#Resultats\" data-toc-modified-id=\"Resultats-4.3\"><span class=\"toc-item-num\">4.3&nbsp;&nbsp;</span>Resultats</a></span></li><li><span><a href=\"#ROC\" data-toc-modified-id=\"ROC-4.4\"><span class=\"toc-item-num\">4.4&nbsp;&nbsp;</span>ROC</a></span></li><li><span><a href=\"#PRC\" data-toc-modified-id=\"PRC-4.5\"><span class=\"toc-item-num\">4.5&nbsp;&nbsp;</span>PRC</a></span></li><li><span><a href=\"#Cross-Validation\" data-toc-modified-id=\"Cross-Validation-4.6\"><span class=\"toc-item-num\">4.6&nbsp;&nbsp;</span>Cross Validation</a></span></li></ul></li><li><span><a href=\"#Model-1-LogisticRegression-&amp;RobustScaler\" data-toc-modified-id=\"Model-1-LogisticRegression-&amp;RobustScaler-5\"><span class=\"toc-item-num\">5&nbsp;&nbsp;</span>Model 1 <code>LogisticRegression</code> &amp;<code>RobustScaler</code></a></span><ul class=\"toc-item\"><li><span><a href=\"#Matriu-de-Confusió\" data-toc-modified-id=\"Matriu-de-Confusió-5.1\"><span class=\"toc-item-num\">5.1&nbsp;&nbsp;</span>Matriu de Confusió</a></span></li><li><span><a href=\"#Resultats\" data-toc-modified-id=\"Resultats-5.2\"><span class=\"toc-item-num\">5.2&nbsp;&nbsp;</span>Resultats</a></span></li><li><span><a href=\"#ROC\" data-toc-modified-id=\"ROC-5.3\"><span class=\"toc-item-num\">5.3&nbsp;&nbsp;</span>ROC</a></span></li><li><span><a href=\"#PRC\" data-toc-modified-id=\"PRC-5.4\"><span class=\"toc-item-num\">5.4&nbsp;&nbsp;</span>PRC</a></span></li><li><span><a href=\"#Cross-Validation\" data-toc-modified-id=\"Cross-Validation-5.5\"><span class=\"toc-item-num\">5.5&nbsp;&nbsp;</span>Cross Validation</a></span></li><li><span><a href=\"#Comparació-Resultats-Model-1\" data-toc-modified-id=\"Comparació-Resultats-Model-1-5.6\"><span class=\"toc-item-num\">5.6&nbsp;&nbsp;</span>Comparació Resultats Model 1</a></span></li></ul></li><li><span><a href=\"#Model-2-KNN\" data-toc-modified-id=\"Model-2-KNN-6\"><span class=\"toc-item-num\">6&nbsp;&nbsp;</span>Model 2 KNN</a></span><ul class=\"toc-item\"><li><span><a href=\"#train-test-split\" data-toc-modified-id=\"train-test-split-6.1\"><span class=\"toc-item-num\">6.1&nbsp;&nbsp;</span>train test split</a></span></li><li><span><a href=\"#Classifier\" data-toc-modified-id=\"Classifier-6.2\"><span class=\"toc-item-num\">6.2&nbsp;&nbsp;</span>Classifier</a></span></li><li><span><a href=\"#Matriu-de-Confusió\" data-toc-modified-id=\"Matriu-de-Confusió-6.3\"><span class=\"toc-item-num\">6.3&nbsp;&nbsp;</span>Matriu de Confusió</a></span></li><li><span><a href=\"#Resultats\" data-toc-modified-id=\"Resultats-6.4\"><span class=\"toc-item-num\">6.4&nbsp;&nbsp;</span>Resultats</a></span></li><li><span><a href=\"#ROC\" data-toc-modified-id=\"ROC-6.5\"><span class=\"toc-item-num\">6.5&nbsp;&nbsp;</span>ROC</a></span></li></ul></li><li><span><a href=\"#Model-2-KNN-RobustScaler\" data-toc-modified-id=\"Model-2-KNN-RobustScaler-7\"><span class=\"toc-item-num\">7&nbsp;&nbsp;</span>Model 2 KNN <code>RobustScaler</code></a></span><ul class=\"toc-item\"><li><span><a href=\"#Matriu-de-confusió\" data-toc-modified-id=\"Matriu-de-confusió-7.1\"><span class=\"toc-item-num\">7.1&nbsp;&nbsp;</span>Matriu de confusió</a></span></li><li><span><a href=\"#Resultats\" data-toc-modified-id=\"Resultats-7.2\"><span class=\"toc-item-num\">7.2&nbsp;&nbsp;</span>Resultats</a></span></li><li><span><a href=\"#ROC\" data-toc-modified-id=\"ROC-7.3\"><span class=\"toc-item-num\">7.3&nbsp;&nbsp;</span>ROC</a></span></li><li><span><a href=\"#Cross-Validation\" data-toc-modified-id=\"Cross-Validation-7.4\"><span class=\"toc-item-num\">7.4&nbsp;&nbsp;</span>Cross Validation</a></span></li><li><span><a href=\"#Comparació-Resultats-Model-2\" data-toc-modified-id=\"Comparació-Resultats-Model-2-7.5\"><span class=\"toc-item-num\">7.5&nbsp;&nbsp;</span>Comparació Resultats Model 2</a></span></li></ul></li><li><span><a href=\"#Model-3-SVM\" data-toc-modified-id=\"Model-3-SVM-8\"><span class=\"toc-item-num\">8&nbsp;&nbsp;</span>Model 3 SVM</a></span><ul class=\"toc-item\"><li><span><a href=\"#Matriu-de-Confusió\" data-toc-modified-id=\"Matriu-de-Confusió-8.1\"><span class=\"toc-item-num\">8.1&nbsp;&nbsp;</span>Matriu de Confusió</a></span></li><li><span><a href=\"#Resultats\" data-toc-modified-id=\"Resultats-8.2\"><span class=\"toc-item-num\">8.2&nbsp;&nbsp;</span>Resultats</a></span></li><li><span><a href=\"#ROC\" data-toc-modified-id=\"ROC-8.3\"><span class=\"toc-item-num\">8.3&nbsp;&nbsp;</span>ROC</a></span></li><li><span><a href=\"#Cross-Validation\" data-toc-modified-id=\"Cross-Validation-8.4\"><span class=\"toc-item-num\">8.4&nbsp;&nbsp;</span>Cross Validation</a></span></li></ul></li><li><span><a href=\"#Model-3-SVM-RobustScaler\" data-toc-modified-id=\"Model-3-SVM-RobustScaler-9\"><span class=\"toc-item-num\">9&nbsp;&nbsp;</span>Model 3 SVM <code>RobustScaler</code></a></span><ul class=\"toc-item\"><li><span><a href=\"#Matriu-de-Confusió\" data-toc-modified-id=\"Matriu-de-Confusió-9.1\"><span class=\"toc-item-num\">9.1&nbsp;&nbsp;</span>Matriu de Confusió</a></span></li><li><span><a href=\"#Resultats\" data-toc-modified-id=\"Resultats-9.2\"><span class=\"toc-item-num\">9.2&nbsp;&nbsp;</span>Resultats</a></span></li><li><span><a href=\"#ROC\" data-toc-modified-id=\"ROC-9.3\"><span class=\"toc-item-num\">9.3&nbsp;&nbsp;</span>ROC</a></span></li><li><span><a href=\"#Cross-Validation\" data-toc-modified-id=\"Cross-Validation-9.4\"><span class=\"toc-item-num\">9.4&nbsp;&nbsp;</span>Cross Validation</a></span></li></ul></li></ul></div>"
   ]
  },
  {
   "cell_type": "markdown",
   "id": "285f162b",
   "metadata": {},
   "source": [
    "# Enunciats\n",
    "**Nivell 1**\n",
    "\n",
    "- Exercici 1 Crea almenys tres models de classificació diferents per intentar predir el millor possible l’endarreriment dels vols (ArrDelay) de DelayedFlights.csv. Considera si el vol ha arribat tard o no (ArrDelay > 0).  \n",
    "\n",
    "- Exercici 2 Compara els models de classificació utilitzant la precisió (accuracy), una matriu de confiança i d’altres mètriques més avançades.  \n",
    "\n",
    "- Exercici 3 Entrena’ls utilitzant els diferents paràmetres que admeten.\n",
    "\n",
    "- Exercici 4 Compara el seu rendiment utilitzant l’aproximació traint/test o cross-validation.\n",
    "\n",
    "**Nivell 2**\n",
    "\n",
    "- Exercici 5 Realitza algun procés d’enginyeria de variables per millorar-ne la predicció \n",
    "\n",
    "**Nivell 3**\n",
    "\n",
    "- Exercici 6 No utilitzis la variable `DepDelay` a l’hora de fer prediccions"
   ]
  },
  {
   "cell_type": "markdown",
   "id": "04b4aa9f",
   "metadata": {},
   "source": [
    "# Dades"
   ]
  },
  {
   "cell_type": "markdown",
   "id": "a4238e06",
   "metadata": {},
   "source": [
    "## Importació i Preparació de Dades"
   ]
  },
  {
   "cell_type": "code",
   "execution_count": 21,
   "id": "7b472b2e",
   "metadata": {
    "ExecuteTime": {
     "end_time": "2021-07-21T05:47:34.285930Z",
     "start_time": "2021-07-21T05:47:16.208376Z"
    },
    "run_control": {
     "marked": false
    }
   },
   "outputs": [
    {
     "data": {
      "text/html": [
       "<div>\n",
       "<style scoped>\n",
       "    .dataframe tbody tr th:only-of-type {\n",
       "        vertical-align: middle;\n",
       "    }\n",
       "\n",
       "    .dataframe tbody tr th {\n",
       "        vertical-align: top;\n",
       "    }\n",
       "\n",
       "    .dataframe thead th {\n",
       "        text-align: right;\n",
       "    }\n",
       "</style>\n",
       "<table border=\"1\" class=\"dataframe\">\n",
       "  <thead>\n",
       "    <tr style=\"text-align: right;\">\n",
       "      <th></th>\n",
       "      <th>Unnamed: 0</th>\n",
       "      <th>Unnamed: 0.1</th>\n",
       "      <th>Year</th>\n",
       "      <th>Month</th>\n",
       "      <th>DayofMonth</th>\n",
       "      <th>DayOfWeek</th>\n",
       "      <th>DepTime</th>\n",
       "      <th>CRSDepTime</th>\n",
       "      <th>ArrTime</th>\n",
       "      <th>CRSArrTime</th>\n",
       "      <th>...</th>\n",
       "      <th>TaxiIn</th>\n",
       "      <th>TaxiOut</th>\n",
       "      <th>Cancelled</th>\n",
       "      <th>CancellationCode</th>\n",
       "      <th>Diverted</th>\n",
       "      <th>CarrierDelay</th>\n",
       "      <th>WeatherDelay</th>\n",
       "      <th>NASDelay</th>\n",
       "      <th>SecurityDelay</th>\n",
       "      <th>LateAircraftDelay</th>\n",
       "    </tr>\n",
       "  </thead>\n",
       "  <tbody>\n",
       "    <tr>\n",
       "      <th>0</th>\n",
       "      <td>0</td>\n",
       "      <td>0</td>\n",
       "      <td>2008</td>\n",
       "      <td>1</td>\n",
       "      <td>3</td>\n",
       "      <td>4</td>\n",
       "      <td>2003.0</td>\n",
       "      <td>1955</td>\n",
       "      <td>2211.0</td>\n",
       "      <td>2225</td>\n",
       "      <td>...</td>\n",
       "      <td>4.0</td>\n",
       "      <td>8.0</td>\n",
       "      <td>0</td>\n",
       "      <td>N</td>\n",
       "      <td>0</td>\n",
       "      <td>NaN</td>\n",
       "      <td>NaN</td>\n",
       "      <td>NaN</td>\n",
       "      <td>NaN</td>\n",
       "      <td>NaN</td>\n",
       "    </tr>\n",
       "    <tr>\n",
       "      <th>1</th>\n",
       "      <td>1</td>\n",
       "      <td>1</td>\n",
       "      <td>2008</td>\n",
       "      <td>1</td>\n",
       "      <td>3</td>\n",
       "      <td>4</td>\n",
       "      <td>754.0</td>\n",
       "      <td>735</td>\n",
       "      <td>1002.0</td>\n",
       "      <td>1000</td>\n",
       "      <td>...</td>\n",
       "      <td>5.0</td>\n",
       "      <td>10.0</td>\n",
       "      <td>0</td>\n",
       "      <td>N</td>\n",
       "      <td>0</td>\n",
       "      <td>NaN</td>\n",
       "      <td>NaN</td>\n",
       "      <td>NaN</td>\n",
       "      <td>NaN</td>\n",
       "      <td>NaN</td>\n",
       "    </tr>\n",
       "    <tr>\n",
       "      <th>2</th>\n",
       "      <td>2</td>\n",
       "      <td>2</td>\n",
       "      <td>2008</td>\n",
       "      <td>1</td>\n",
       "      <td>3</td>\n",
       "      <td>4</td>\n",
       "      <td>628.0</td>\n",
       "      <td>620</td>\n",
       "      <td>804.0</td>\n",
       "      <td>750</td>\n",
       "      <td>...</td>\n",
       "      <td>3.0</td>\n",
       "      <td>17.0</td>\n",
       "      <td>0</td>\n",
       "      <td>N</td>\n",
       "      <td>0</td>\n",
       "      <td>NaN</td>\n",
       "      <td>NaN</td>\n",
       "      <td>NaN</td>\n",
       "      <td>NaN</td>\n",
       "      <td>NaN</td>\n",
       "    </tr>\n",
       "    <tr>\n",
       "      <th>3</th>\n",
       "      <td>3</td>\n",
       "      <td>4</td>\n",
       "      <td>2008</td>\n",
       "      <td>1</td>\n",
       "      <td>3</td>\n",
       "      <td>4</td>\n",
       "      <td>1829.0</td>\n",
       "      <td>1755</td>\n",
       "      <td>1959.0</td>\n",
       "      <td>1925</td>\n",
       "      <td>...</td>\n",
       "      <td>3.0</td>\n",
       "      <td>10.0</td>\n",
       "      <td>0</td>\n",
       "      <td>N</td>\n",
       "      <td>0</td>\n",
       "      <td>2.0</td>\n",
       "      <td>0.0</td>\n",
       "      <td>0.0</td>\n",
       "      <td>0.0</td>\n",
       "      <td>32.0</td>\n",
       "    </tr>\n",
       "    <tr>\n",
       "      <th>4</th>\n",
       "      <td>4</td>\n",
       "      <td>5</td>\n",
       "      <td>2008</td>\n",
       "      <td>1</td>\n",
       "      <td>3</td>\n",
       "      <td>4</td>\n",
       "      <td>1940.0</td>\n",
       "      <td>1915</td>\n",
       "      <td>2121.0</td>\n",
       "      <td>2110</td>\n",
       "      <td>...</td>\n",
       "      <td>4.0</td>\n",
       "      <td>10.0</td>\n",
       "      <td>0</td>\n",
       "      <td>N</td>\n",
       "      <td>0</td>\n",
       "      <td>NaN</td>\n",
       "      <td>NaN</td>\n",
       "      <td>NaN</td>\n",
       "      <td>NaN</td>\n",
       "      <td>NaN</td>\n",
       "    </tr>\n",
       "  </tbody>\n",
       "</table>\n",
       "<p>5 rows × 31 columns</p>\n",
       "</div>"
      ],
      "text/plain": [
       "   Unnamed: 0  Unnamed: 0.1  Year  Month  DayofMonth  DayOfWeek  DepTime  \\\n",
       "0           0             0  2008      1           3          4   2003.0   \n",
       "1           1             1  2008      1           3          4    754.0   \n",
       "2           2             2  2008      1           3          4    628.0   \n",
       "3           3             4  2008      1           3          4   1829.0   \n",
       "4           4             5  2008      1           3          4   1940.0   \n",
       "\n",
       "   CRSDepTime  ArrTime  CRSArrTime  ... TaxiIn  TaxiOut Cancelled  \\\n",
       "0        1955   2211.0        2225  ...    4.0      8.0         0   \n",
       "1         735   1002.0        1000  ...    5.0     10.0         0   \n",
       "2         620    804.0         750  ...    3.0     17.0         0   \n",
       "3        1755   1959.0        1925  ...    3.0     10.0         0   \n",
       "4        1915   2121.0        2110  ...    4.0     10.0         0   \n",
       "\n",
       "   CancellationCode  Diverted  CarrierDelay  WeatherDelay  NASDelay  \\\n",
       "0                 N         0           NaN           NaN       NaN   \n",
       "1                 N         0           NaN           NaN       NaN   \n",
       "2                 N         0           NaN           NaN       NaN   \n",
       "3                 N         0           2.0           0.0       0.0   \n",
       "4                 N         0           NaN           NaN       NaN   \n",
       "\n",
       "  SecurityDelay LateAircraftDelay  \n",
       "0           NaN               NaN  \n",
       "1           NaN               NaN  \n",
       "2           NaN               NaN  \n",
       "3           0.0              32.0  \n",
       "4           NaN               NaN  \n",
       "\n",
       "[5 rows x 31 columns]"
      ]
     },
     "execution_count": 21,
     "metadata": {},
     "output_type": "execute_result"
    }
   ],
   "source": [
    "import pandas as pd \n",
    "import numpy as np\n",
    "import seaborn as sns\n",
    "import matplotlib.pyplot as plt\n",
    "\n",
    "url='https://github.com/Ortegbel/PractiquesDataScience/blob/master/Exercici5/DelayedFlightsComp.csv.gz?raw=true'\n",
    "df = pd.read_csv(url,  compression='gzip')\n",
    "\n",
    "\n",
    "df.head()"
   ]
  },
  {
   "cell_type": "code",
   "execution_count": 22,
   "id": "9133e174",
   "metadata": {
    "ExecuteTime": {
     "end_time": "2021-07-21T05:47:35.186231Z",
     "start_time": "2021-07-21T05:47:34.367601Z"
    },
    "run_control": {
     "marked": false
    }
   },
   "outputs": [],
   "source": [
    "df = df.fillna(0)"
   ]
  },
  {
   "cell_type": "code",
   "execution_count": 23,
   "id": "5b17ea80",
   "metadata": {
    "ExecuteTime": {
     "end_time": "2021-07-21T05:47:35.709439Z",
     "start_time": "2021-07-21T05:47:35.194733Z"
    },
    "run_control": {
     "marked": false
    }
   },
   "outputs": [
    {
     "data": {
      "text/html": [
       "<div>\n",
       "<style scoped>\n",
       "    .dataframe tbody tr th:only-of-type {\n",
       "        vertical-align: middle;\n",
       "    }\n",
       "\n",
       "    .dataframe tbody tr th {\n",
       "        vertical-align: top;\n",
       "    }\n",
       "\n",
       "    .dataframe thead th {\n",
       "        text-align: right;\n",
       "    }\n",
       "</style>\n",
       "<table border=\"1\" class=\"dataframe\">\n",
       "  <thead>\n",
       "    <tr style=\"text-align: right;\">\n",
       "      <th></th>\n",
       "      <th>Year</th>\n",
       "      <th>Month</th>\n",
       "      <th>DayofMonth</th>\n",
       "      <th>DayOfWeek</th>\n",
       "      <th>DepTime</th>\n",
       "      <th>CRSDepTime</th>\n",
       "      <th>ArrTime</th>\n",
       "      <th>CRSArrTime</th>\n",
       "      <th>UniqueCarrier</th>\n",
       "      <th>FlightNum</th>\n",
       "      <th>...</th>\n",
       "      <th>TaxiIn</th>\n",
       "      <th>TaxiOut</th>\n",
       "      <th>Cancelled</th>\n",
       "      <th>CancellationCode</th>\n",
       "      <th>Diverted</th>\n",
       "      <th>CarrierDelay</th>\n",
       "      <th>WeatherDelay</th>\n",
       "      <th>NASDelay</th>\n",
       "      <th>SecurityDelay</th>\n",
       "      <th>LateAircraftDelay</th>\n",
       "    </tr>\n",
       "  </thead>\n",
       "  <tbody>\n",
       "    <tr>\n",
       "      <th>0</th>\n",
       "      <td>2008</td>\n",
       "      <td>1</td>\n",
       "      <td>3</td>\n",
       "      <td>4</td>\n",
       "      <td>2003.0</td>\n",
       "      <td>1955</td>\n",
       "      <td>2211.0</td>\n",
       "      <td>2225</td>\n",
       "      <td>WN</td>\n",
       "      <td>335</td>\n",
       "      <td>...</td>\n",
       "      <td>4.0</td>\n",
       "      <td>8.0</td>\n",
       "      <td>0</td>\n",
       "      <td>N</td>\n",
       "      <td>0</td>\n",
       "      <td>0.0</td>\n",
       "      <td>0.0</td>\n",
       "      <td>0.0</td>\n",
       "      <td>0.0</td>\n",
       "      <td>0.0</td>\n",
       "    </tr>\n",
       "    <tr>\n",
       "      <th>1</th>\n",
       "      <td>2008</td>\n",
       "      <td>1</td>\n",
       "      <td>3</td>\n",
       "      <td>4</td>\n",
       "      <td>754.0</td>\n",
       "      <td>735</td>\n",
       "      <td>1002.0</td>\n",
       "      <td>1000</td>\n",
       "      <td>WN</td>\n",
       "      <td>3231</td>\n",
       "      <td>...</td>\n",
       "      <td>5.0</td>\n",
       "      <td>10.0</td>\n",
       "      <td>0</td>\n",
       "      <td>N</td>\n",
       "      <td>0</td>\n",
       "      <td>0.0</td>\n",
       "      <td>0.0</td>\n",
       "      <td>0.0</td>\n",
       "      <td>0.0</td>\n",
       "      <td>0.0</td>\n",
       "    </tr>\n",
       "    <tr>\n",
       "      <th>2</th>\n",
       "      <td>2008</td>\n",
       "      <td>1</td>\n",
       "      <td>3</td>\n",
       "      <td>4</td>\n",
       "      <td>628.0</td>\n",
       "      <td>620</td>\n",
       "      <td>804.0</td>\n",
       "      <td>750</td>\n",
       "      <td>WN</td>\n",
       "      <td>448</td>\n",
       "      <td>...</td>\n",
       "      <td>3.0</td>\n",
       "      <td>17.0</td>\n",
       "      <td>0</td>\n",
       "      <td>N</td>\n",
       "      <td>0</td>\n",
       "      <td>0.0</td>\n",
       "      <td>0.0</td>\n",
       "      <td>0.0</td>\n",
       "      <td>0.0</td>\n",
       "      <td>0.0</td>\n",
       "    </tr>\n",
       "    <tr>\n",
       "      <th>3</th>\n",
       "      <td>2008</td>\n",
       "      <td>1</td>\n",
       "      <td>3</td>\n",
       "      <td>4</td>\n",
       "      <td>1829.0</td>\n",
       "      <td>1755</td>\n",
       "      <td>1959.0</td>\n",
       "      <td>1925</td>\n",
       "      <td>WN</td>\n",
       "      <td>3920</td>\n",
       "      <td>...</td>\n",
       "      <td>3.0</td>\n",
       "      <td>10.0</td>\n",
       "      <td>0</td>\n",
       "      <td>N</td>\n",
       "      <td>0</td>\n",
       "      <td>2.0</td>\n",
       "      <td>0.0</td>\n",
       "      <td>0.0</td>\n",
       "      <td>0.0</td>\n",
       "      <td>32.0</td>\n",
       "    </tr>\n",
       "    <tr>\n",
       "      <th>4</th>\n",
       "      <td>2008</td>\n",
       "      <td>1</td>\n",
       "      <td>3</td>\n",
       "      <td>4</td>\n",
       "      <td>1940.0</td>\n",
       "      <td>1915</td>\n",
       "      <td>2121.0</td>\n",
       "      <td>2110</td>\n",
       "      <td>WN</td>\n",
       "      <td>378</td>\n",
       "      <td>...</td>\n",
       "      <td>4.0</td>\n",
       "      <td>10.0</td>\n",
       "      <td>0</td>\n",
       "      <td>N</td>\n",
       "      <td>0</td>\n",
       "      <td>0.0</td>\n",
       "      <td>0.0</td>\n",
       "      <td>0.0</td>\n",
       "      <td>0.0</td>\n",
       "      <td>0.0</td>\n",
       "    </tr>\n",
       "  </tbody>\n",
       "</table>\n",
       "<p>5 rows × 29 columns</p>\n",
       "</div>"
      ],
      "text/plain": [
       "   Year  Month  DayofMonth  DayOfWeek  DepTime  CRSDepTime  ArrTime  \\\n",
       "0  2008      1           3          4   2003.0        1955   2211.0   \n",
       "1  2008      1           3          4    754.0         735   1002.0   \n",
       "2  2008      1           3          4    628.0         620    804.0   \n",
       "3  2008      1           3          4   1829.0        1755   1959.0   \n",
       "4  2008      1           3          4   1940.0        1915   2121.0   \n",
       "\n",
       "   CRSArrTime UniqueCarrier  FlightNum  ... TaxiIn  TaxiOut  Cancelled  \\\n",
       "0        2225            WN        335  ...    4.0      8.0          0   \n",
       "1        1000            WN       3231  ...    5.0     10.0          0   \n",
       "2         750            WN        448  ...    3.0     17.0          0   \n",
       "3        1925            WN       3920  ...    3.0     10.0          0   \n",
       "4        2110            WN        378  ...    4.0     10.0          0   \n",
       "\n",
       "   CancellationCode  Diverted  CarrierDelay WeatherDelay NASDelay  \\\n",
       "0                 N         0           0.0          0.0      0.0   \n",
       "1                 N         0           0.0          0.0      0.0   \n",
       "2                 N         0           0.0          0.0      0.0   \n",
       "3                 N         0           2.0          0.0      0.0   \n",
       "4                 N         0           0.0          0.0      0.0   \n",
       "\n",
       "   SecurityDelay  LateAircraftDelay  \n",
       "0            0.0                0.0  \n",
       "1            0.0                0.0  \n",
       "2            0.0                0.0  \n",
       "3            0.0               32.0  \n",
       "4            0.0                0.0  \n",
       "\n",
       "[5 rows x 29 columns]"
      ]
     },
     "execution_count": 23,
     "metadata": {},
     "output_type": "execute_result"
    }
   ],
   "source": [
    "df = df.drop(columns=['Unnamed: 0','Unnamed: 0.1' ])\n",
    "df.head()"
   ]
  },
  {
   "cell_type": "code",
   "execution_count": 24,
   "id": "5279e171",
   "metadata": {
    "ExecuteTime": {
     "end_time": "2021-07-21T05:47:35.789395Z",
     "start_time": "2021-07-21T05:47:35.722432Z"
    },
    "run_control": {
     "marked": false
    }
   },
   "outputs": [
    {
     "data": {
      "text/plain": [
       "array([ -14.,    2.,   14., ...,  880., 1279.,  991.])"
      ]
     },
     "execution_count": 24,
     "metadata": {},
     "output_type": "execute_result"
    }
   ],
   "source": [
    "df.ArrDelay.unique()"
   ]
  },
  {
   "cell_type": "markdown",
   "id": "4b3af6ee",
   "metadata": {},
   "source": [
    "\n",
    "\n",
    ">Exercici 1 Crea almenys tres models de classificació diferents per intentar predir el millor possible l’endarreriment dels vols (ArrDelay) de DelayedFlights.csv. Considera si el vol ha arribat tard o no (ArrDelay > 0).  \n",
    "\n",
    "Seguint les especificacions de l'enunciat, convertim la variable ArrDelay en binària, d'aquesta manera podrem fer els models de classificació."
   ]
  },
  {
   "cell_type": "code",
   "execution_count": 25,
   "id": "753a6c21",
   "metadata": {
    "ExecuteTime": {
     "end_time": "2021-07-21T05:47:35.945305Z",
     "start_time": "2021-07-21T05:47:35.811382Z"
    },
    "run_control": {
     "marked": false
    }
   },
   "outputs": [
    {
     "data": {
      "text/plain": [
       "array([0, 1])"
      ]
     },
     "execution_count": 25,
     "metadata": {},
     "output_type": "execute_result"
    }
   ],
   "source": [
    "conditions = [(df['ArrDelay']> 0),(df['ArrDelay']<= 0) ]\n",
    "values = [1, 0]\n",
    "df['ArrDelay2'] = np.select(conditions, values)\n",
    "\n",
    "df.ArrDelay2.unique()"
   ]
  },
  {
   "cell_type": "code",
   "execution_count": 26,
   "id": "044c28b5",
   "metadata": {
    "ExecuteTime": {
     "end_time": "2021-07-21T05:47:36.085228Z",
     "start_time": "2021-07-21T05:47:36.044247Z"
    },
    "run_control": {
     "marked": false
    }
   },
   "outputs": [],
   "source": [
    "conditions = [(df['DepDelay']> 0),(df['DepDelay']<= 0) ]\n",
    "values = [1, 0]\n",
    "df['DepDelay2'] = np.select(conditions, values)"
   ]
  },
  {
   "cell_type": "markdown",
   "id": "7c132748",
   "metadata": {},
   "source": [
    "També he dicidit factoritzar la resta de variables categòriques que poden ser rellevants per l'exercici. "
   ]
  },
  {
   "cell_type": "code",
   "execution_count": 27,
   "id": "1f3afdf4",
   "metadata": {
    "ExecuteTime": {
     "end_time": "2021-07-21T05:47:36.593934Z",
     "start_time": "2021-07-21T05:47:36.111210Z"
    },
    "run_control": {
     "marked": false
    }
   },
   "outputs": [],
   "source": [
    "df['CarrierFzd'] = pd.factorize(df['UniqueCarrier'])[0]\n",
    "df['OriginFzd'] = pd.factorize(df['Origin'])[0]\n",
    "df['DestFzd'] = pd.factorize(df['Dest'])[0]"
   ]
  },
  {
   "cell_type": "code",
   "execution_count": 28,
   "id": "2b2bc583",
   "metadata": {
    "ExecuteTime": {
     "end_time": "2021-07-21T05:47:36.879771Z",
     "start_time": "2021-07-21T05:47:36.622919Z"
    },
    "run_control": {
     "marked": false
    }
   },
   "outputs": [],
   "source": [
    "df['TailNumFzd'] = pd.factorize(df['TailNum'])[0]"
   ]
  },
  {
   "cell_type": "markdown",
   "id": "68a5f0a7",
   "metadata": {},
   "source": [
    "## Selecció de variable objectiu i característiques  \n",
    "\n",
    "Seleccionem la variable objectiu i la resta de variables que formaran part del nostre model.\n"
   ]
  },
  {
   "cell_type": "code",
   "execution_count": 29,
   "id": "eff46a1f",
   "metadata": {
    "ExecuteTime": {
     "end_time": "2021-07-21T05:47:37.370660Z",
     "start_time": "2021-07-21T05:47:36.889764Z"
    },
    "run_control": {
     "marked": false
    }
   },
   "outputs": [],
   "source": [
    "feature_cols = ['CarrierFzd', 'FlightNum', 'TailNumFzd','ActualElapsedTime', 'CRSElapsedTime', 'AirTime', 'DepDelay2',\n",
    "                'OriginFzd', 'DestFzd','Distance','Cancelled', 'Diverted', 'CarrierDelay','WeatherDelay', 'LateAircraftDelay']\n",
    "\n",
    "X = df[feature_cols]\n",
    "X = np.array(X)\n",
    "y = df.ArrDelay2"
   ]
  },
  {
   "cell_type": "markdown",
   "id": "f1a88705",
   "metadata": {},
   "source": [
    "## Comprobació : és un Dataset equillibrat?"
   ]
  },
  {
   "cell_type": "code",
   "execution_count": 25,
   "id": "1ff91be7",
   "metadata": {
    "ExecuteTime": {
     "end_time": "2021-07-20T15:29:27.639390Z",
     "start_time": "2021-07-20T15:29:27.196627Z"
    },
    "run_control": {
     "marked": false
    }
   },
   "outputs": [
    {
     "data": {
      "image/png": "[encoded data removed]",
      "text/plain": [
       "<Figure size 432x288 with 1 Axes>"
      ]
     },
     "metadata": {},
     "output_type": "display_data"
    }
   ],
   "source": [
    "#set seaborn styling & color palette\n",
    "sns.set(style=\"whitegrid\")\n",
    "sns.set_palette(\"pastel\")\n",
    "\n",
    "#Using a countplot to show the distribution of the classes: fraud and no-fraud\n",
    "bp = sns.countplot(x=df[\"ArrDelay2\"])\n",
    "plt.title(\"Class Distribution of DelayedFlights Dataset\")\n",
    "bp.set_xticklabels([\"ArrivalOntime\",\"ArrivalDelay\"])\n",
    "plt.show()"
   ]
  },
  {
   "cell_type": "code",
   "execution_count": 26,
   "id": "874d6fda",
   "metadata": {
    "ExecuteTime": {
     "end_time": "2021-07-20T15:29:27.748326Z",
     "start_time": "2021-07-20T15:29:27.669369Z"
    },
    "run_control": {
     "marked": false
    },
    "scrolled": true
   },
   "outputs": [
    {
     "name": "stdout",
     "output_type": "stream",
     "text": [
      "Class Counts\n",
      "1    1723415\n",
      "0     213343\n",
      "Name: ArrDelay2, dtype: int64\n",
      "\n",
      "Class Proportions\n",
      "1    0.889845\n",
      "0    0.110155\n",
      "Name: ArrDelay2, dtype: float64\n"
     ]
    }
   ],
   "source": [
    "print(\"Class Counts\")\n",
    "print(df.ArrDelay2.value_counts(), end=\"\\n\\n\")\n",
    "print(\"Class Proportions\")\n",
    "print(df.ArrDelay2.value_counts()/len(df.ArrDelay2))"
   ]
  },
  {
   "cell_type": "markdown",
   "id": "fe76be6b",
   "metadata": {},
   "source": [
    "El dataset és clarament **imbalance** cosa que pot fer que el nostre model reguistri valors de precisió massa optimistes.  \n",
    "\n",
    "Podriem millorar els resultats amb diferentes tècniques, com UnderSampling, OverSampling o fent mostres sintètiques amb SMOTE."
   ]
  },
  {
   "cell_type": "code",
   "execution_count": 27,
   "id": "cb39bf77",
   "metadata": {
    "ExecuteTime": {
     "end_time": "2021-07-20T15:29:27.803292Z",
     "start_time": "2021-07-20T15:29:27.796296Z"
    },
    "run_control": {
     "marked": false
    }
   },
   "outputs": [
    {
     "name": "stdout",
     "output_type": "stream",
     "text": [
      "(1936758, 15)\n",
      "(1936758,)\n"
     ]
    }
   ],
   "source": [
    "print(X.shape)\n",
    "print(y.shape)"
   ]
  },
  {
   "cell_type": "markdown",
   "id": "9b421cd9",
   "metadata": {},
   "source": [
    "# Sampling \n",
    "\n",
    "## OverSampling: SMOTE\n",
    "\n",
    "Pel primer model `LogisticRegression` equilibraré la mostra fent un `Oversampling` amb `SMOTE`."
   ]
  },
  {
   "cell_type": "code",
   "execution_count": 28,
   "id": "36b9ed8f",
   "metadata": {
    "ExecuteTime": {
     "end_time": "2021-07-20T15:29:52.220671Z",
     "start_time": "2021-07-20T15:29:43.598530Z"
    },
    "run_control": {
     "marked": false
    }
   },
   "outputs": [],
   "source": [
    "from imblearn.over_sampling import SMOTE\n",
    "\n",
    "smote = SMOTE(sampling_strategy = 'minority')\n",
    "X_sm, y_sm = smote.fit_resample(X, y)"
   ]
  },
  {
   "cell_type": "code",
   "execution_count": 29,
   "id": "4a7c22a3",
   "metadata": {
    "ExecuteTime": {
     "end_time": "2021-07-20T15:29:52.254653Z",
     "start_time": "2021-07-20T15:29:52.247659Z"
    },
    "run_control": {
     "marked": false
    }
   },
   "outputs": [
    {
     "name": "stdout",
     "output_type": "stream",
     "text": [
      "Mostra Variables caracteristiques (3446830, 15)\n",
      "Mostra objectiu (3446830,)\n"
     ]
    }
   ],
   "source": [
    "print('Mostra Variables caracteristiques', X_sm.shape )\n",
    "print('Mostra objectiu', y_sm.shape)"
   ]
  },
  {
   "cell_type": "markdown",
   "id": "477a7edf",
   "metadata": {},
   "source": [
    "## UnderSampling: TomekLinks\n",
    "\n",
    "Volia fer servir aquest mètode, però el volum de la mostra és encara massa gran."
   ]
  },
  {
   "cell_type": "code",
   "execution_count": 10,
   "id": "cd2932ac",
   "metadata": {
    "ExecuteTime": {
     "end_time": "2021-07-21T05:52:16.109232Z",
     "start_time": "2021-07-21T05:47:56.704350Z"
    },
    "run_control": {
     "marked": false
    }
   },
   "outputs": [],
   "source": [
    "from imblearn.under_sampling import TomekLinks\n",
    "\n",
    "tl = TomekLinks(sampling_strategy='all')\n",
    "X_tl, y_tl = tl.fit_resample(X, y)"
   ]
  },
  {
   "cell_type": "code",
   "execution_count": 31,
   "id": "465bcf5c",
   "metadata": {
    "ExecuteTime": {
     "end_time": "2021-07-20T15:34:18.783523Z",
     "start_time": "2021-07-20T15:34:18.774530Z"
    },
    "run_control": {
     "marked": false
    }
   },
   "outputs": [
    {
     "name": "stdout",
     "output_type": "stream",
     "text": [
      "Mostra Variables caracteristiques (1798392, 15)\n",
      "Mostra objectiu (1798392,)\n"
     ]
    }
   ],
   "source": [
    "print('Mostra Variables caracteristiques', X_tl.shape )\n",
    "print('Mostra objectiu', y_tl.shape)"
   ]
  },
  {
   "cell_type": "markdown",
   "id": "27179ca0-af6c-41e8-8e30-8eab79616151",
   "metadata": {},
   "source": [
    "## Under Sampling  Near Miss\n",
    "\n",
    "Probaré el mètode NearMiss"
   ]
  },
  {
   "cell_type": "code",
   "execution_count": 11,
   "id": "2e816040-d9a1-4f3f-84d2-87d63aee5b1a",
   "metadata": {
    "tags": []
   },
   "outputs": [],
   "source": [
    "from collections import Counter\n",
    "from imblearn.under_sampling import NearMiss"
   ]
  },
  {
   "cell_type": "code",
   "execution_count": 30,
   "id": "387dd919-1f01-4a48-8c51-8aacbcd0f49a",
   "metadata": {},
   "outputs": [
    {
     "data": {
      "text/plain": [
       "Counter({0: 213343, 1: 1723415})"
      ]
     },
     "execution_count": 30,
     "metadata": {},
     "output_type": "execute_result"
    }
   ],
   "source": [
    "counter = Counter(y)\n",
    "counter"
   ]
  },
  {
   "cell_type": "code",
   "execution_count": 31,
   "id": "b7f2fcbe-c94d-48b2-9093-9692d44ca6ed",
   "metadata": {},
   "outputs": [],
   "source": [
    "undersample = NearMiss(version=1, n_neighbors=3)"
   ]
  },
  {
   "cell_type": "code",
   "execution_count": 32,
   "id": "81f10ebe-c2bc-4284-aff5-82d45cc463aa",
   "metadata": {
    "tags": []
   },
   "outputs": [],
   "source": [
    "X_nm, y_nm = undersample.fit_resample(X, y)\n",
    "# summarize the new class distribution\n"
   ]
  },
  {
   "cell_type": "code",
   "execution_count": 33,
   "id": "a07c38b6-b576-4b64-bef3-f73407b2f3ee",
   "metadata": {
    "collapsed": true,
    "jupyter": {
     "outputs_hidden": true
    },
    "tags": []
   },
   "outputs": [
    {
     "name": "stdout",
     "output_type": "stream",
     "text": [
      "Counter({0: 213343, 1: 213343})\n"
     ]
    }
   ],
   "source": [
    "counter2 = Counter(y_nm)\n",
    "print(counter2)"
   ]
  },
  {
   "cell_type": "markdown",
   "id": "3f994a84",
   "metadata": {},
   "source": [
    "# Model 1 `LogisticRegression`"
   ]
  },
  {
   "cell_type": "markdown",
   "id": "faf8339d",
   "metadata": {},
   "source": [
    "## Dividir les dades `train-test-split`"
   ]
  },
  {
   "cell_type": "code",
   "execution_count": 32,
   "id": "22f395bb",
   "metadata": {
    "ExecuteTime": {
     "end_time": "2021-07-20T15:35:07.118369Z",
     "start_time": "2021-07-20T15:35:06.654620Z"
    },
    "run_control": {
     "marked": false
    }
   },
   "outputs": [],
   "source": [
    "from sklearn.model_selection import train_test_split\n",
    "X_train,X_test,y_train,y_test=train_test_split(X_sm,y_sm,test_size=0.02,train_size=0.20,random_state=42)"
   ]
  },
  {
   "cell_type": "code",
   "execution_count": 33,
   "id": "45ceecef",
   "metadata": {
    "ExecuteTime": {
     "end_time": "2021-07-20T15:35:07.151334Z",
     "start_time": "2021-07-20T15:35:07.145338Z"
    },
    "run_control": {
     "marked": false
    }
   },
   "outputs": [
    {
     "name": "stdout",
     "output_type": "stream",
     "text": [
      "Variables caracteristiques, Train:  (689366, 15)\n",
      "Variables caracteristiques, Test:  (68937, 15)\n",
      "Variable objectiu, Train:  (689366,)\n",
      "Variables objectiu, Test:  (68937,)\n"
     ]
    }
   ],
   "source": [
    "print( 'Variables caracteristiques, Train: ', X_train.shape )\n",
    "print( 'Variables caracteristiques, Test: ', X_test.shape )\n",
    "print( 'Variable objectiu, Train: ', y_train.shape )\n",
    "print( 'Variables objectiu, Test: ', y_test.shape )"
   ]
  },
  {
   "cell_type": "code",
   "execution_count": 34,
   "id": "0c9851a5",
   "metadata": {
    "ExecuteTime": {
     "end_time": "2021-07-20T15:35:07.216253Z",
     "start_time": "2021-07-20T15:35:07.200261Z"
    },
    "run_control": {
     "marked": false
    }
   },
   "outputs": [
    {
     "name": "stdout",
     "output_type": "stream",
     "text": [
      "Class Counts\n",
      "0    34471\n",
      "1    34466\n",
      "Name: ArrDelay2, dtype: int64\n",
      "\n",
      "Class Proportions\n",
      "0    0.500036\n",
      "1    0.499964\n",
      "Name: ArrDelay2, dtype: float64\n"
     ]
    }
   ],
   "source": [
    "print(\"Class Counts\")\n",
    "print(y_test.value_counts(), end=\"\\n\\n\")\n",
    "print(\"Class Proportions\")\n",
    "print(y_test.value_counts()/len(y_test))"
   ]
  },
  {
   "cell_type": "code",
   "execution_count": 35,
   "id": "8bd48ffb",
   "metadata": {
    "ExecuteTime": {
     "end_time": "2021-07-20T15:35:57.125275Z",
     "start_time": "2021-07-20T15:35:47.334951Z"
    },
    "run_control": {
     "marked": false
    }
   },
   "outputs": [
    {
     "data": {
      "text/plain": [
       "LogisticRegression(random_state=42, solver='liblinear')"
      ]
     },
     "execution_count": 35,
     "metadata": {},
     "output_type": "execute_result"
    }
   ],
   "source": [
    "from sklearn.linear_model import LogisticRegression\n",
    "\n",
    "# instantiate the model (using the default parameters)\n",
    "logreg = LogisticRegression(random_state=42, solver='liblinear',fit_intercept=True, max_iter=100)\n",
    "\n",
    "logreg.fit(X_train, y_train)"
   ]
  },
  {
   "cell_type": "code",
   "execution_count": 36,
   "id": "b16e75c5",
   "metadata": {
    "ExecuteTime": {
     "end_time": "2021-07-20T15:35:57.186240Z",
     "start_time": "2021-07-20T15:35:57.162256Z"
    },
    "run_control": {
     "marked": false
    }
   },
   "outputs": [],
   "source": [
    "logreg_pred = logreg.predict(X_test)\n",
    "logreg_pred_prob = logreg.predict_proba(X_test)[::,1]"
   ]
  },
  {
   "cell_type": "markdown",
   "id": "07ec258c",
   "metadata": {},
   "source": [
    "## Matriu de Confusió"
   ]
  },
  {
   "cell_type": "code",
   "execution_count": 37,
   "id": "03f3311e",
   "metadata": {
    "ExecuteTime": {
     "end_time": "2021-07-20T15:36:58.979010Z",
     "start_time": "2021-07-20T15:36:58.887380Z"
    },
    "run_control": {
     "marked": false
    }
   },
   "outputs": [
    {
     "data": {
      "text/plain": [
       "array([[33822,   649],\n",
       "       [ 4150, 30316]], dtype=int64)"
      ]
     },
     "execution_count": 37,
     "metadata": {},
     "output_type": "execute_result"
    }
   ],
   "source": [
    "from sklearn import metrics\n",
    "\n",
    "cnf_matrix_logreg = metrics.confusion_matrix(y_test, logreg_pred)\n",
    "cnf_matrix_logreg"
   ]
  },
  {
   "cell_type": "code",
   "execution_count": 38,
   "id": "7ae711f9",
   "metadata": {
    "ExecuteTime": {
     "end_time": "2021-07-20T15:36:59.109933Z",
     "start_time": "2021-07-20T15:36:59.007001Z"
    },
    "run_control": {
     "marked": false
    }
   },
   "outputs": [
    {
     "name": "stdout",
     "output_type": "stream",
     "text": [
      "33822\n",
      "649\n",
      "4150\n",
      "30316\n"
     ]
    }
   ],
   "source": [
    "tn, fp, fn, tp = metrics.confusion_matrix(y_test, logreg_pred).ravel()\n",
    "\n",
    "print(tn)\n",
    "print(fp)\n",
    "print(fn)\n",
    "print (tp)"
   ]
  },
  {
   "cell_type": "code",
   "execution_count": 39,
   "id": "beb32e47",
   "metadata": {
    "ExecuteTime": {
     "end_time": "2021-07-20T15:36:59.144914Z",
     "start_time": "2021-07-20T15:36:59.137918Z"
    },
    "run_control": {
     "marked": false
    }
   },
   "outputs": [],
   "source": [
    "cnf_matrix_logreg_df= pd.DataFrame(cnf_matrix_logreg)"
   ]
  },
  {
   "cell_type": "code",
   "execution_count": 40,
   "id": "83dba1bb",
   "metadata": {
    "ExecuteTime": {
     "end_time": "2021-07-20T15:36:59.442732Z",
     "start_time": "2021-07-20T15:36:59.183892Z"
    },
    "run_control": {
     "marked": false
    }
   },
   "outputs": [
    {
     "data": {
      "image/png": "[encoded data removed]",
      "text/plain": [
       "<Figure size 504x504 with 1 Axes>"
      ]
     },
     "metadata": {},
     "output_type": "display_data"
    }
   ],
   "source": [
    "#plot CM  \n",
    "\n",
    "fig, ax = plt.subplots(figsize = (7,7))\n",
    "sns.heatmap(pd.DataFrame(cnf_matrix_logreg_df.T), annot=True, annot_kws={\"size\": 15}, cmap=\"Purples\", vmin=0, vmax=30000, fmt='.0f', linewidths=1, linecolor=\"white\", cbar=False,\n",
    "           xticklabels=[\"ArrOntime\",\"ArrDelay\"], yticklabels=[\"ArrOntime\",\"ArrDelay\"])\n",
    "plt.ylabel(\"Predicted\", fontsize=15)\n",
    "plt.xlabel(\"Actual\", fontsize=15)\n",
    "ax.set_xticklabels([\"ArrOntime\",\"ArrDelay\"], fontsize=13)\n",
    "ax.set_yticklabels([\"ArrOntime\",\"ArrDelay\"], fontsize=13)\n",
    "plt.title(\"Confusion Matrix for Logistic Classifier (Threshold = 0.5) - Counts\", fontsize=15)\n",
    "plt.show()"
   ]
  },
  {
   "cell_type": "markdown",
   "id": "6b54e122",
   "metadata": {},
   "source": [
    "## Resultats"
   ]
  },
  {
   "cell_type": "code",
   "execution_count": 25,
   "id": "a7e90faa",
   "metadata": {
    "ExecuteTime": {
     "end_time": "2021-07-20T10:15:41.609039Z",
     "start_time": "2021-07-20T10:15:41.472894Z"
    },
    "run_control": {
     "marked": false
    }
   },
   "outputs": [
    {
     "name": "stdout",
     "output_type": "stream",
     "text": [
      "LogReg Model:\n",
      "Accuracy = 0.931\n",
      "Precision = 0.979\n",
      "Specificity = 0.981\n",
      "Sensitivity = 0.881\n",
      "F1-score = 0.927\n"
     ]
    }
   ],
   "source": [
    "from sklearn.metrics import classification_report\n",
    "#generating a report to extract the measure of interest using built-in sklearn function\n",
    "report = classification_report(y_test,logreg_pred ,digits=3,output_dict = True)\n",
    "\n",
    "print(\"LogReg Model:\")\n",
    "print(\"Accuracy = {0:0.3f}\".format(report[\"accuracy\"]))\n",
    "print(\"Precision = {0:0.3f}\".format(report[\"1\"][\"precision\"]))\n",
    "print(\"Specificity = {0:0.3f}\".format(report[\"0\"][\"recall\"]))\n",
    "print(\"Sensitivity = {0:0.3f}\".format(report[\"1\"][\"recall\"]))\n",
    "print(\"F1-score = {0:0.3f}\".format(report[\"1\"][\"f1-score\"]))"
   ]
  },
  {
   "cell_type": "code",
   "execution_count": 26,
   "id": "bc35d872",
   "metadata": {
    "ExecuteTime": {
     "end_time": "2021-07-20T10:15:56.418873Z",
     "start_time": "2021-07-20T10:15:56.272963Z"
    },
    "run_control": {
     "marked": false
    },
    "scrolled": true
   },
   "outputs": [
    {
     "name": "stdout",
     "output_type": "stream",
     "text": [
      "              precision    recall  f1-score   support\n",
      "\n",
      "           0       0.89      0.98      0.93     34471\n",
      "           1       0.98      0.88      0.93     34466\n",
      "\n",
      "    accuracy                           0.93     68937\n",
      "   macro avg       0.94      0.93      0.93     68937\n",
      "weighted avg       0.94      0.93      0.93     68937\n",
      "\n"
     ]
    }
   ],
   "source": [
    "print(classification_report(y_test,logreg_pred, ))"
   ]
  },
  {
   "cell_type": "markdown",
   "id": "5cf2ae54",
   "metadata": {},
   "source": [
    "## ROC"
   ]
  },
  {
   "cell_type": "code",
   "execution_count": 27,
   "id": "c2e9e71d",
   "metadata": {
    "ExecuteTime": {
     "end_time": "2021-07-20T10:16:21.906856Z",
     "start_time": "2021-07-20T10:16:21.528760Z"
    },
    "run_control": {
     "marked": false
    }
   },
   "outputs": [
    {
     "data": {
      "image/png": "[encoded data removed]",
      "text/plain": [
       "<Figure size 432x288 with 1 Axes>"
      ]
     },
     "metadata": {},
     "output_type": "display_data"
    }
   ],
   "source": [
    "fpr, tpr, _ = metrics.roc_curve(y_test, logreg_pred_prob)\n",
    "auc = metrics.roc_auc_score(y_test, logreg_pred_prob)\n",
    "plt.plot(fpr,tpr,label=\"data 1, auc=\"+str(auc))\n",
    "plt.legend(loc=4)\n",
    "plt.show()"
   ]
  },
  {
   "cell_type": "markdown",
   "id": "67edee43",
   "metadata": {},
   "source": [
    "## PRC"
   ]
  },
  {
   "cell_type": "code",
   "execution_count": 28,
   "id": "ae5b5e0a",
   "metadata": {
    "ExecuteTime": {
     "end_time": "2021-07-20T10:16:27.449508Z",
     "start_time": "2021-07-20T10:16:27.409548Z"
    },
    "run_control": {
     "marked": false
    }
   },
   "outputs": [
    {
     "name": "stdout",
     "output_type": "stream",
     "text": [
      "Average precision-recall score: 0.97\n"
     ]
    }
   ],
   "source": [
    "from sklearn.metrics import average_precision_score\n",
    "y_score = logreg.decision_function(X_test)\n",
    "average_precision = average_precision_score(y_test, y_score)\n",
    "\n",
    "print('Average precision-recall score: {0:0.2f}'.format(\n",
    "      average_precision))"
   ]
  },
  {
   "cell_type": "code",
   "execution_count": 29,
   "id": "645d770d",
   "metadata": {
    "ExecuteTime": {
     "end_time": "2021-07-20T10:16:28.428228Z",
     "start_time": "2021-07-20T10:16:28.369243Z"
    },
    "run_control": {
     "marked": false
    }
   },
   "outputs": [],
   "source": [
    "from sklearn.metrics import precision_recall_curve\n",
    "from sklearn.metrics import plot_precision_recall_curve\n",
    "#Plot PR curve\n",
    "\n",
    "#Generating points to plot on recall precision curve\n",
    "precision, recall, thresholds = precision_recall_curve(y_test, logreg_pred_prob)\n",
    "average_precision = average_precision_score(y_test, logreg_pred_prob)\n",
    "\n"
   ]
  },
  {
   "cell_type": "code",
   "execution_count": 30,
   "id": "c0c97fb4",
   "metadata": {
    "ExecuteTime": {
     "end_time": "2021-07-20T10:16:29.992941Z",
     "start_time": "2021-07-20T10:16:29.617034Z"
    },
    "run_control": {
     "marked": false
    }
   },
   "outputs": [
    {
     "data": {
      "text/plain": [
       "Text(0.5, 1.0, '2-class Precision-Recall curve: AP=0.97')"
      ]
     },
     "execution_count": 30,
     "metadata": {},
     "output_type": "execute_result"
    },
    {
     "data": {
      "image/png": "[encoded data removed]",
      "text/plain": [
       "<Figure size 432x288 with 1 Axes>"
      ]
     },
     "metadata": {},
     "output_type": "display_data"
    }
   ],
   "source": [
    "disp = plot_precision_recall_curve(logreg, X_test, y_test)\n",
    "disp.ax_.set_title('2-class Precision-Recall curve: '\n",
    "                   'AP={0:0.2f}'.format(average_precision))"
   ]
  },
  {
   "cell_type": "markdown",
   "id": "ddd24d46",
   "metadata": {},
   "source": [
    "## Cross Validation"
   ]
  },
  {
   "cell_type": "code",
   "execution_count": 31,
   "id": "93788b19",
   "metadata": {
    "ExecuteTime": {
     "end_time": "2021-07-20T10:16:44.803535Z",
     "start_time": "2021-07-20T10:16:44.785534Z"
    },
    "run_control": {
     "marked": false
    }
   },
   "outputs": [],
   "source": [
    "from sklearn.model_selection import cross_validate\n",
    "from sklearn.metrics import recall_score"
   ]
  },
  {
   "cell_type": "code",
   "execution_count": 32,
   "id": "963b7fc1",
   "metadata": {
    "ExecuteTime": {
     "end_time": "2021-07-20T10:18:23.615952Z",
     "start_time": "2021-07-20T10:16:45.742957Z"
    },
    "run_control": {
     "marked": false
    }
   },
   "outputs": [],
   "source": [
    "scoring = ['precision_macro', 'recall_macro']\n",
    "scores = cross_validate (logreg, X, y, scoring=scoring, cv=5, return_train_score=True)\n",
    "sorted(scores.keys())\n",
    "\n",
    "scores_df= pd.DataFrame(scores)"
   ]
  },
  {
   "cell_type": "code",
   "execution_count": 33,
   "id": "5cf279f2",
   "metadata": {
    "ExecuteTime": {
     "end_time": "2021-07-20T10:18:50.888536Z",
     "start_time": "2021-07-20T10:18:50.860552Z"
    },
    "run_control": {
     "marked": false
    }
   },
   "outputs": [
    {
     "data": {
      "text/html": [
       "<div>\n",
       "<style scoped>\n",
       "    .dataframe tbody tr th:only-of-type {\n",
       "        vertical-align: middle;\n",
       "    }\n",
       "\n",
       "    .dataframe tbody tr th {\n",
       "        vertical-align: top;\n",
       "    }\n",
       "\n",
       "    .dataframe thead th {\n",
       "        text-align: right;\n",
       "    }\n",
       "</style>\n",
       "<table border=\"1\" class=\"dataframe\">\n",
       "  <thead>\n",
       "    <tr style=\"text-align: right;\">\n",
       "      <th></th>\n",
       "      <th>fit_time</th>\n",
       "      <th>score_time</th>\n",
       "      <th>test_precision_macro</th>\n",
       "      <th>train_precision_macro</th>\n",
       "      <th>test_recall_macro</th>\n",
       "      <th>train_recall_macro</th>\n",
       "    </tr>\n",
       "  </thead>\n",
       "  <tbody>\n",
       "    <tr>\n",
       "      <th>0</th>\n",
       "      <td>18.864101</td>\n",
       "      <td>0.305067</td>\n",
       "      <td>0.813262</td>\n",
       "      <td>0.803635</td>\n",
       "      <td>0.737325</td>\n",
       "      <td>0.723425</td>\n",
       "    </tr>\n",
       "    <tr>\n",
       "      <th>1</th>\n",
       "      <td>20.487249</td>\n",
       "      <td>0.302001</td>\n",
       "      <td>0.810891</td>\n",
       "      <td>0.809161</td>\n",
       "      <td>0.722660</td>\n",
       "      <td>0.718325</td>\n",
       "    </tr>\n",
       "    <tr>\n",
       "      <th>2</th>\n",
       "      <td>14.441233</td>\n",
       "      <td>0.341706</td>\n",
       "      <td>0.800026</td>\n",
       "      <td>0.802681</td>\n",
       "      <td>0.704888</td>\n",
       "      <td>0.731662</td>\n",
       "    </tr>\n",
       "    <tr>\n",
       "      <th>3</th>\n",
       "      <td>16.261265</td>\n",
       "      <td>0.304450</td>\n",
       "      <td>0.789462</td>\n",
       "      <td>0.804921</td>\n",
       "      <td>0.721502</td>\n",
       "      <td>0.734819</td>\n",
       "    </tr>\n",
       "    <tr>\n",
       "      <th>4</th>\n",
       "      <td>19.918023</td>\n",
       "      <td>0.303625</td>\n",
       "      <td>0.811977</td>\n",
       "      <td>0.806527</td>\n",
       "      <td>0.743293</td>\n",
       "      <td>0.719286</td>\n",
       "    </tr>\n",
       "  </tbody>\n",
       "</table>\n",
       "</div>"
      ],
      "text/plain": [
       "    fit_time  score_time  test_precision_macro  train_precision_macro  \\\n",
       "0  18.864101    0.305067              0.813262               0.803635   \n",
       "1  20.487249    0.302001              0.810891               0.809161   \n",
       "2  14.441233    0.341706              0.800026               0.802681   \n",
       "3  16.261265    0.304450              0.789462               0.804921   \n",
       "4  19.918023    0.303625              0.811977               0.806527   \n",
       "\n",
       "   test_recall_macro  train_recall_macro  \n",
       "0           0.737325            0.723425  \n",
       "1           0.722660            0.718325  \n",
       "2           0.704888            0.731662  \n",
       "3           0.721502            0.734819  \n",
       "4           0.743293            0.719286  "
      ]
     },
     "execution_count": 33,
     "metadata": {},
     "output_type": "execute_result"
    }
   ],
   "source": [
    "scores_df"
   ]
  },
  {
   "cell_type": "code",
   "execution_count": 34,
   "id": "2d29ca43",
   "metadata": {
    "ExecuteTime": {
     "end_time": "2021-07-20T10:18:53.542132Z",
     "start_time": "2021-07-20T10:18:53.489166Z"
    },
    "run_control": {
     "marked": false
    }
   },
   "outputs": [
    {
     "data": {
      "text/html": [
       "<div>\n",
       "<style scoped>\n",
       "    .dataframe tbody tr th:only-of-type {\n",
       "        vertical-align: middle;\n",
       "    }\n",
       "\n",
       "    .dataframe tbody tr th {\n",
       "        vertical-align: top;\n",
       "    }\n",
       "\n",
       "    .dataframe thead th {\n",
       "        text-align: right;\n",
       "    }\n",
       "</style>\n",
       "<table border=\"1\" class=\"dataframe\">\n",
       "  <thead>\n",
       "    <tr style=\"text-align: right;\">\n",
       "      <th></th>\n",
       "      <th>fit_time</th>\n",
       "      <th>score_time</th>\n",
       "      <th>test_precision_macro</th>\n",
       "      <th>train_precision_macro</th>\n",
       "      <th>test_recall_macro</th>\n",
       "      <th>train_recall_macro</th>\n",
       "    </tr>\n",
       "  </thead>\n",
       "  <tbody>\n",
       "    <tr>\n",
       "      <th>min</th>\n",
       "      <td>14.441233</td>\n",
       "      <td>0.302001</td>\n",
       "      <td>0.789462</td>\n",
       "      <td>0.802681</td>\n",
       "      <td>0.704888</td>\n",
       "      <td>0.718325</td>\n",
       "    </tr>\n",
       "    <tr>\n",
       "      <th>max</th>\n",
       "      <td>20.487249</td>\n",
       "      <td>0.341706</td>\n",
       "      <td>0.813262</td>\n",
       "      <td>0.809161</td>\n",
       "      <td>0.743293</td>\n",
       "      <td>0.734819</td>\n",
       "    </tr>\n",
       "    <tr>\n",
       "      <th>mean</th>\n",
       "      <td>17.994374</td>\n",
       "      <td>0.311370</td>\n",
       "      <td>0.805124</td>\n",
       "      <td>0.805385</td>\n",
       "      <td>0.725934</td>\n",
       "      <td>0.725503</td>\n",
       "    </tr>\n",
       "  </tbody>\n",
       "</table>\n",
       "</div>"
      ],
      "text/plain": [
       "       fit_time  score_time  test_precision_macro  train_precision_macro  \\\n",
       "min   14.441233    0.302001              0.789462               0.802681   \n",
       "max   20.487249    0.341706              0.813262               0.809161   \n",
       "mean  17.994374    0.311370              0.805124               0.805385   \n",
       "\n",
       "      test_recall_macro  train_recall_macro  \n",
       "min            0.704888            0.718325  \n",
       "max            0.743293            0.734819  \n",
       "mean           0.725934            0.725503  "
      ]
     },
     "execution_count": 34,
     "metadata": {},
     "output_type": "execute_result"
    }
   ],
   "source": [
    "scores_df.describe().loc[['min','max','mean'] ]"
   ]
  },
  {
   "cell_type": "markdown",
   "id": "5f23888e",
   "metadata": {
    "ExecuteTime": {
     "end_time": "2021-07-17T15:35:07.233357Z",
     "start_time": "2021-07-17T15:35:07.202379Z"
    }
   },
   "source": [
    "# Model 1 `LogisticRegression` &`RobustScaler`"
   ]
  },
  {
   "cell_type": "markdown",
   "id": "c5de8466",
   "metadata": {},
   "source": [
    "Per mirar de millorar el model, he volgut probar a escalar les dades. He triat el `RobustScaler`perque elimina els outliers a la mateixa vegada q n'escala les dades."
   ]
  },
  {
   "cell_type": "code",
   "execution_count": 35,
   "id": "d966c536",
   "metadata": {
    "ExecuteTime": {
     "end_time": "2021-07-20T10:19:57.013989Z",
     "start_time": "2021-07-20T10:19:56.216411Z"
    },
    "run_control": {
     "marked": false
    }
   },
   "outputs": [],
   "source": [
    "from sklearn.preprocessing import RobustScaler \n",
    "robust_scaler = RobustScaler()\n",
    "X_train_robust = robust_scaler.fit_transform(X_train)\n",
    "X_test_robust = robust_scaler.fit_transform(X_test)"
   ]
  },
  {
   "cell_type": "code",
   "execution_count": 36,
   "id": "171a2554",
   "metadata": {
    "ExecuteTime": {
     "end_time": "2021-07-20T10:20:02.635021Z",
     "start_time": "2021-07-20T10:19:57.036696Z"
    },
    "run_control": {
     "marked": false
    }
   },
   "outputs": [
    {
     "data": {
      "text/plain": [
       "LogisticRegression(random_state=42, solver='liblinear')"
      ]
     },
     "execution_count": 36,
     "metadata": {},
     "output_type": "execute_result"
    }
   ],
   "source": [
    "from sklearn.linear_model import LogisticRegression\n",
    "\n",
    "# instantiate the model (using the default parameters)\n",
    "logregRS = LogisticRegression(random_state=42, solver='liblinear',fit_intercept=True, max_iter=100)\n",
    "\n",
    "logregRS.fit(X_train_robust, y_train)"
   ]
  },
  {
   "cell_type": "code",
   "execution_count": 37,
   "id": "b4d00bb8",
   "metadata": {
    "ExecuteTime": {
     "end_time": "2021-07-20T10:20:02.682015Z",
     "start_time": "2021-07-20T10:20:02.653012Z"
    },
    "run_control": {
     "marked": false
    }
   },
   "outputs": [],
   "source": [
    "logreg_predRS = logregRS.predict(X_test_robust)\n",
    "logreg_pred_probRS = logregRS.predict_proba(X_test_robust)[::,1]"
   ]
  },
  {
   "cell_type": "markdown",
   "id": "e4cfca54",
   "metadata": {},
   "source": [
    "## Matriu de Confusió"
   ]
  },
  {
   "cell_type": "code",
   "execution_count": 38,
   "id": "c753e666",
   "metadata": {
    "ExecuteTime": {
     "end_time": "2021-07-20T10:20:02.825910Z",
     "start_time": "2021-07-20T10:20:02.708978Z"
    },
    "run_control": {
     "marked": false
    }
   },
   "outputs": [
    {
     "data": {
      "text/plain": [
       "array([[33662,   809],\n",
       "       [ 3941, 30525]], dtype=int64)"
      ]
     },
     "execution_count": 38,
     "metadata": {},
     "output_type": "execute_result"
    }
   ],
   "source": [
    "cnf_matrix_logregRS = metrics.confusion_matrix(y_test, logreg_predRS)\n",
    "cnf_matrix_logregRS"
   ]
  },
  {
   "cell_type": "code",
   "execution_count": 39,
   "id": "50802d5d",
   "metadata": {
    "ExecuteTime": {
     "end_time": "2021-07-20T10:20:23.172764Z",
     "start_time": "2021-07-20T10:20:23.079938Z"
    },
    "run_control": {
     "marked": false
    }
   },
   "outputs": [],
   "source": [
    "tn, fp, fn, tp = metrics.confusion_matrix(y_test, logreg_predRS).ravel()\n",
    "cnf_matrix_logregRS_df= pd.DataFrame(cnf_matrix_logregRS)"
   ]
  },
  {
   "cell_type": "code",
   "execution_count": 40,
   "id": "3d64f014",
   "metadata": {
    "ExecuteTime": {
     "end_time": "2021-07-20T10:20:23.379562Z",
     "start_time": "2021-07-20T10:20:23.180680Z"
    },
    "run_control": {
     "marked": false
    }
   },
   "outputs": [
    {
     "data": {
      "image/png": "[encoded data removed]",
      "text/plain": [
       "<Figure size 504x504 with 1 Axes>"
      ]
     },
     "metadata": {},
     "output_type": "display_data"
    }
   ],
   "source": [
    "#plot CM  \n",
    "\n",
    "fig, ax = plt.subplots(figsize = (7,7))\n",
    "sns.heatmap(pd.DataFrame(cnf_matrix_logregRS_df.T), annot=True, annot_kws={\"size\": 15}, cmap=\"Purples\", vmin=0, vmax=30000, fmt='.0f', linewidths=1, linecolor=\"white\", cbar=False,\n",
    "           xticklabels=[\"ArrOntime\",\"ArrDelay\"], yticklabels=[\"ArrOntime\",\"ArrDelay\"])\n",
    "plt.ylabel(\"Predicted\", fontsize=15)\n",
    "plt.xlabel(\"Actual\", fontsize=15)\n",
    "ax.set_xticklabels([\"ArrOntime\",\"ArrDelay\"], fontsize=13)\n",
    "ax.set_yticklabels([\"ArrOntime\",\"ArrDelay\"], fontsize=13)\n",
    "plt.title(\"Confusion Matrix for Logistic Classifier (Threshold = 0.5) - Counts\", fontsize=15)\n",
    "plt.show()"
   ]
  },
  {
   "cell_type": "markdown",
   "id": "51693a38",
   "metadata": {},
   "source": [
    "## Resultats"
   ]
  },
  {
   "cell_type": "code",
   "execution_count": 41,
   "id": "3145178b",
   "metadata": {
    "ExecuteTime": {
     "end_time": "2021-07-20T10:20:37.223707Z",
     "start_time": "2021-07-20T10:20:37.074144Z"
    },
    "run_control": {
     "marked": false
    }
   },
   "outputs": [
    {
     "name": "stdout",
     "output_type": "stream",
     "text": [
      "LogReg Model:\n",
      "Accuracy = 0.931\n",
      "Precision = 0.974\n",
      "Specificity = 0.977\n",
      "Sensitivity = 0.886\n",
      "F1-score = 0.928\n"
     ]
    }
   ],
   "source": [
    "\n",
    "report = classification_report(y_test,logreg_predRS ,digits=3,output_dict = True)\n",
    "\n",
    "print(\"LogReg Model:\")\n",
    "print(\"Accuracy = {0:0.3f}\".format(report[\"accuracy\"]))\n",
    "print(\"Precision = {0:0.3f}\".format(report[\"1\"][\"precision\"]))\n",
    "print(\"Specificity = {0:0.3f}\".format(report[\"0\"][\"recall\"]))\n",
    "print(\"Sensitivity = {0:0.3f}\".format(report[\"1\"][\"recall\"]))\n",
    "print(\"F1-score = {0:0.3f}\".format(report[\"1\"][\"f1-score\"]))"
   ]
  },
  {
   "cell_type": "code",
   "execution_count": 42,
   "id": "5898f8ff",
   "metadata": {
    "ExecuteTime": {
     "end_time": "2021-07-20T10:20:42.400432Z",
     "start_time": "2021-07-20T10:20:42.227532Z"
    },
    "run_control": {
     "marked": false
    }
   },
   "outputs": [
    {
     "name": "stdout",
     "output_type": "stream",
     "text": [
      "              precision    recall  f1-score   support\n",
      "\n",
      "           0       0.90      0.98      0.93     34471\n",
      "           1       0.97      0.89      0.93     34466\n",
      "\n",
      "    accuracy                           0.93     68937\n",
      "   macro avg       0.93      0.93      0.93     68937\n",
      "weighted avg       0.93      0.93      0.93     68937\n",
      "\n"
     ]
    }
   ],
   "source": [
    "print(classification_report(y_test,logreg_predRS, ))"
   ]
  },
  {
   "cell_type": "markdown",
   "id": "085d2619",
   "metadata": {},
   "source": [
    "## ROC"
   ]
  },
  {
   "cell_type": "code",
   "execution_count": 43,
   "id": "311d67d3",
   "metadata": {
    "ExecuteTime": {
     "end_time": "2021-07-20T10:20:49.244925Z",
     "start_time": "2021-07-20T10:20:48.933961Z"
    },
    "run_control": {
     "marked": false
    }
   },
   "outputs": [
    {
     "data": {
      "image/png": "[encoded data removed]",
      "text/plain": [
       "<Figure size 432x288 with 1 Axes>"
      ]
     },
     "metadata": {},
     "output_type": "display_data"
    }
   ],
   "source": [
    "fpr, tpr, _ = metrics.roc_curve(y_test, logreg_pred_probRS)\n",
    "auc = metrics.roc_auc_score(y_test, logreg_pred_probRS)\n",
    "plt.plot(fpr,tpr,label=\"data 1, auc=\"+str(auc))\n",
    "plt.legend(loc=4)\n",
    "plt.show()"
   ]
  },
  {
   "cell_type": "markdown",
   "id": "b0243713",
   "metadata": {},
   "source": [
    "## PRC"
   ]
  },
  {
   "cell_type": "code",
   "execution_count": 44,
   "id": "cb4b2643",
   "metadata": {
    "ExecuteTime": {
     "end_time": "2021-07-20T10:20:54.633426Z",
     "start_time": "2021-07-20T10:20:54.576420Z"
    },
    "run_control": {
     "marked": false
    }
   },
   "outputs": [
    {
     "name": "stdout",
     "output_type": "stream",
     "text": [
      "Average precision-recall score: 0.97\n"
     ]
    }
   ],
   "source": [
    "from sklearn.metrics import average_precision_score\n",
    "y_scoreRS = logregRS.decision_function(X_test_robust)\n",
    "average_precisionRS = average_precision_score(y_test, y_scoreRS)\n",
    "\n",
    "print('Average precision-recall score: {0:0.2f}'.format(\n",
    "      average_precision))"
   ]
  },
  {
   "cell_type": "code",
   "execution_count": 45,
   "id": "53c3b865",
   "metadata": {
    "ExecuteTime": {
     "end_time": "2021-07-20T10:20:55.776369Z",
     "start_time": "2021-07-20T10:20:55.714423Z"
    },
    "run_control": {
     "marked": false
    }
   },
   "outputs": [],
   "source": [
    "from sklearn.metrics import precision_recall_curve\n",
    "from sklearn.metrics import plot_precision_recall_curve\n",
    "#Plot PR curve\n",
    "\n",
    "#Generating points to plot on recall precision curve\n",
    "precision, recall, thresholds = precision_recall_curve(y_test, logreg_pred_probRS)\n",
    "average_precision = average_precision_score(y_test, logreg_pred_probRS)\n",
    "\n"
   ]
  },
  {
   "cell_type": "code",
   "execution_count": 46,
   "id": "82f73774",
   "metadata": {
    "ExecuteTime": {
     "end_time": "2021-07-20T10:20:57.630317Z",
     "start_time": "2021-07-20T10:20:57.265945Z"
    },
    "run_control": {
     "marked": false
    }
   },
   "outputs": [
    {
     "data": {
      "text/plain": [
       "Text(0.5, 1.0, '2-class Precision-Recall curve: AP=0.97')"
      ]
     },
     "execution_count": 46,
     "metadata": {},
     "output_type": "execute_result"
    },
    {
     "data": {
      "image/png": "[encoded data removed]",
      "text/plain": [
       "<Figure size 432x288 with 1 Axes>"
      ]
     },
     "metadata": {},
     "output_type": "display_data"
    }
   ],
   "source": [
    "disp = plot_precision_recall_curve(logregRS, X_test_robust, y_test)\n",
    "disp.ax_.set_title('2-class Precision-Recall curve: '\n",
    "                   'AP={0:0.2f}'.format(average_precision))"
   ]
  },
  {
   "cell_type": "markdown",
   "id": "410e8031",
   "metadata": {},
   "source": [
    "## Cross Validation"
   ]
  },
  {
   "cell_type": "code",
   "execution_count": 47,
   "id": "e5682d7b",
   "metadata": {
    "ExecuteTime": {
     "end_time": "2021-07-20T10:21:00.605559Z",
     "start_time": "2021-07-20T10:21:00.595562Z"
    },
    "run_control": {
     "marked": false
    }
   },
   "outputs": [],
   "source": [
    "from sklearn.model_selection import cross_validate\n",
    "from sklearn.metrics import recall_score"
   ]
  },
  {
   "cell_type": "code",
   "execution_count": 48,
   "id": "5be2f3a7",
   "metadata": {
    "ExecuteTime": {
     "end_time": "2021-07-20T10:22:38.311858Z",
     "start_time": "2021-07-20T10:21:01.889559Z"
    },
    "run_control": {
     "marked": false
    }
   },
   "outputs": [],
   "source": [
    "scoring = ['precision_macro', 'recall_macro']\n",
    "scores2 = cross_validate (logregRS, X, y, scoring=scoring, cv=5, return_train_score=True)\n",
    "sorted(scores2.keys())\n",
    "\n",
    "scores_df2= pd.DataFrame(scores)"
   ]
  },
  {
   "cell_type": "code",
   "execution_count": 49,
   "id": "408dafcb",
   "metadata": {
    "ExecuteTime": {
     "end_time": "2021-07-20T10:22:43.233793Z",
     "start_time": "2021-07-20T10:22:43.202814Z"
    },
    "run_control": {
     "marked": false
    }
   },
   "outputs": [
    {
     "data": {
      "text/html": [
       "<div>\n",
       "<style scoped>\n",
       "    .dataframe tbody tr th:only-of-type {\n",
       "        vertical-align: middle;\n",
       "    }\n",
       "\n",
       "    .dataframe tbody tr th {\n",
       "        vertical-align: top;\n",
       "    }\n",
       "\n",
       "    .dataframe thead th {\n",
       "        text-align: right;\n",
       "    }\n",
       "</style>\n",
       "<table border=\"1\" class=\"dataframe\">\n",
       "  <thead>\n",
       "    <tr style=\"text-align: right;\">\n",
       "      <th></th>\n",
       "      <th>fit_time</th>\n",
       "      <th>score_time</th>\n",
       "      <th>test_precision_macro</th>\n",
       "      <th>train_precision_macro</th>\n",
       "      <th>test_recall_macro</th>\n",
       "      <th>train_recall_macro</th>\n",
       "    </tr>\n",
       "  </thead>\n",
       "  <tbody>\n",
       "    <tr>\n",
       "      <th>0</th>\n",
       "      <td>18.864101</td>\n",
       "      <td>0.305067</td>\n",
       "      <td>0.813262</td>\n",
       "      <td>0.803635</td>\n",
       "      <td>0.737325</td>\n",
       "      <td>0.723425</td>\n",
       "    </tr>\n",
       "    <tr>\n",
       "      <th>1</th>\n",
       "      <td>20.487249</td>\n",
       "      <td>0.302001</td>\n",
       "      <td>0.810891</td>\n",
       "      <td>0.809161</td>\n",
       "      <td>0.722660</td>\n",
       "      <td>0.718325</td>\n",
       "    </tr>\n",
       "    <tr>\n",
       "      <th>2</th>\n",
       "      <td>14.441233</td>\n",
       "      <td>0.341706</td>\n",
       "      <td>0.800026</td>\n",
       "      <td>0.802681</td>\n",
       "      <td>0.704888</td>\n",
       "      <td>0.731662</td>\n",
       "    </tr>\n",
       "    <tr>\n",
       "      <th>3</th>\n",
       "      <td>16.261265</td>\n",
       "      <td>0.304450</td>\n",
       "      <td>0.789462</td>\n",
       "      <td>0.804921</td>\n",
       "      <td>0.721502</td>\n",
       "      <td>0.734819</td>\n",
       "    </tr>\n",
       "    <tr>\n",
       "      <th>4</th>\n",
       "      <td>19.918023</td>\n",
       "      <td>0.303625</td>\n",
       "      <td>0.811977</td>\n",
       "      <td>0.806527</td>\n",
       "      <td>0.743293</td>\n",
       "      <td>0.719286</td>\n",
       "    </tr>\n",
       "  </tbody>\n",
       "</table>\n",
       "</div>"
      ],
      "text/plain": [
       "    fit_time  score_time  test_precision_macro  train_precision_macro  \\\n",
       "0  18.864101    0.305067              0.813262               0.803635   \n",
       "1  20.487249    0.302001              0.810891               0.809161   \n",
       "2  14.441233    0.341706              0.800026               0.802681   \n",
       "3  16.261265    0.304450              0.789462               0.804921   \n",
       "4  19.918023    0.303625              0.811977               0.806527   \n",
       "\n",
       "   test_recall_macro  train_recall_macro  \n",
       "0           0.737325            0.723425  \n",
       "1           0.722660            0.718325  \n",
       "2           0.704888            0.731662  \n",
       "3           0.721502            0.734819  \n",
       "4           0.743293            0.719286  "
      ]
     },
     "execution_count": 49,
     "metadata": {},
     "output_type": "execute_result"
    }
   ],
   "source": [
    "scores_df2"
   ]
  },
  {
   "cell_type": "code",
   "execution_count": 50,
   "id": "3c071d1d",
   "metadata": {
    "ExecuteTime": {
     "end_time": "2021-07-20T10:22:49.643143Z",
     "start_time": "2021-07-20T10:22:49.578182Z"
    },
    "run_control": {
     "marked": false
    }
   },
   "outputs": [
    {
     "data": {
      "text/html": [
       "<div>\n",
       "<style scoped>\n",
       "    .dataframe tbody tr th:only-of-type {\n",
       "        vertical-align: middle;\n",
       "    }\n",
       "\n",
       "    .dataframe tbody tr th {\n",
       "        vertical-align: top;\n",
       "    }\n",
       "\n",
       "    .dataframe thead th {\n",
       "        text-align: right;\n",
       "    }\n",
       "</style>\n",
       "<table border=\"1\" class=\"dataframe\">\n",
       "  <thead>\n",
       "    <tr style=\"text-align: right;\">\n",
       "      <th></th>\n",
       "      <th>fit_time</th>\n",
       "      <th>score_time</th>\n",
       "      <th>test_precision_macro</th>\n",
       "      <th>train_precision_macro</th>\n",
       "      <th>test_recall_macro</th>\n",
       "      <th>train_recall_macro</th>\n",
       "    </tr>\n",
       "  </thead>\n",
       "  <tbody>\n",
       "    <tr>\n",
       "      <th>min</th>\n",
       "      <td>14.441233</td>\n",
       "      <td>0.302001</td>\n",
       "      <td>0.789462</td>\n",
       "      <td>0.802681</td>\n",
       "      <td>0.704888</td>\n",
       "      <td>0.718325</td>\n",
       "    </tr>\n",
       "    <tr>\n",
       "      <th>max</th>\n",
       "      <td>20.487249</td>\n",
       "      <td>0.341706</td>\n",
       "      <td>0.813262</td>\n",
       "      <td>0.809161</td>\n",
       "      <td>0.743293</td>\n",
       "      <td>0.734819</td>\n",
       "    </tr>\n",
       "    <tr>\n",
       "      <th>mean</th>\n",
       "      <td>17.994374</td>\n",
       "      <td>0.311370</td>\n",
       "      <td>0.805124</td>\n",
       "      <td>0.805385</td>\n",
       "      <td>0.725934</td>\n",
       "      <td>0.725503</td>\n",
       "    </tr>\n",
       "  </tbody>\n",
       "</table>\n",
       "</div>"
      ],
      "text/plain": [
       "       fit_time  score_time  test_precision_macro  train_precision_macro  \\\n",
       "min   14.441233    0.302001              0.789462               0.802681   \n",
       "max   20.487249    0.341706              0.813262               0.809161   \n",
       "mean  17.994374    0.311370              0.805124               0.805385   \n",
       "\n",
       "      test_recall_macro  train_recall_macro  \n",
       "min            0.704888            0.718325  \n",
       "max            0.743293            0.734819  \n",
       "mean           0.725934            0.725503  "
      ]
     },
     "execution_count": 50,
     "metadata": {},
     "output_type": "execute_result"
    }
   ],
   "source": [
    "scores_df2.describe().loc[['min','max','mean'] ]"
   ]
  },
  {
   "cell_type": "markdown",
   "id": "edd18e71",
   "metadata": {},
   "source": [
    "## Comparació Resultats Model 1\n",
    "\n",
    "Ara q ja tenim les dades del model amb i sense pre-processing comparem les dades:"
   ]
  },
  {
   "cell_type": "code",
   "execution_count": 51,
   "id": "35c9b20e",
   "metadata": {
    "ExecuteTime": {
     "end_time": "2021-07-20T10:22:59.267549Z",
     "start_time": "2021-07-20T10:22:58.993947Z"
    },
    "run_control": {
     "marked": false
    },
    "scrolled": true
   },
   "outputs": [
    {
     "name": "stdout",
     "output_type": "stream",
     "text": [
      "ClassificationReport de LogisticRegresion\n",
      "              precision    recall  f1-score   support\n",
      "\n",
      "           0       0.89      0.98      0.93     34471\n",
      "           1       0.98      0.88      0.93     34466\n",
      "\n",
      "    accuracy                           0.93     68937\n",
      "   macro avg       0.94      0.93      0.93     68937\n",
      "weighted avg       0.94      0.93      0.93     68937\n",
      "\n",
      "ClassificationReport de LogisticRegresion amb RobustScaler\n",
      "              precision    recall  f1-score   support\n",
      "\n",
      "           0       0.90      0.98      0.93     34471\n",
      "           1       0.97      0.89      0.93     34466\n",
      "\n",
      "    accuracy                           0.93     68937\n",
      "   macro avg       0.93      0.93      0.93     68937\n",
      "weighted avg       0.93      0.93      0.93     68937\n",
      "\n"
     ]
    }
   ],
   "source": [
    "print('ClassificationReport de LogisticRegresion')\n",
    "print(classification_report(y_test,logreg_pred) )\n",
    "print('ClassificationReport de LogisticRegresion amb RobustScaler')\n",
    "print(classification_report(y_test,logreg_predRS))"
   ]
  },
  {
   "attachments": {
    "image.png": {
     "image/png": "[encoded data removed]"
    }
   },
   "cell_type": "markdown",
   "id": "62e6bdfb",
   "metadata": {},
   "source": [
    "la Cross_val d'ambdós models és gairebé idèntica. \n",
    "Si comparem els resultats dels models d'aquest notebook , on hem treballat amb una mostra equilibrada, amb els del Notebook sense tractar, veiem que aquest és més precís:\n",
    "![image.png](attachment:image.png)"
   ]
  },
  {
   "cell_type": "markdown",
   "id": "df714b60",
   "metadata": {},
   "source": [
    "# Model 2 KNN"
   ]
  },
  {
   "cell_type": "markdown",
   "id": "79f6dc09",
   "metadata": {},
   "source": [
    "## train test split  \n",
    "\n",
    "Per tal de poder treballar amb models més complicats he probat de reduïr la mida dels grups Train i Test."
   ]
  },
  {
   "cell_type": "code",
   "execution_count": 11,
   "id": "8e466ef5",
   "metadata": {
    "ExecuteTime": {
     "end_time": "2021-07-21T05:52:49.886919Z",
     "start_time": "2021-07-21T05:52:49.695312Z"
    },
    "run_control": {
     "marked": false
    }
   },
   "outputs": [
    {
     "name": "stdout",
     "output_type": "stream",
     "text": [
      "Variables caracteristiques, Train:  (359678, 15)\n",
      "Variables caracteristiques, Test:  (35968, 15)\n",
      "Variable objectiu, Train:  (359678,)\n",
      "Variables objectiu, Test:  (35968,)\n"
     ]
    }
   ],
   "source": [
    "from sklearn.model_selection import train_test_split\n",
    "X_train,X_test,y_train,y_test=train_test_split(X_tl,y_tl,test_size=0.02,train_size=0.20,random_state=42)\n",
    "\n",
    "print( 'Variables caracteristiques, Train: ', X_train.shape )\n",
    "print( 'Variables caracteristiques, Test: ', X_test.shape )\n",
    "print( 'Variable objectiu, Train: ', y_train.shape )\n",
    "print( 'Variables objectiu, Test: ', y_test.shape )"
   ]
  },
  {
   "cell_type": "markdown",
   "id": "1de63c91",
   "metadata": {},
   "source": [
    "## Classifier"
   ]
  },
  {
   "cell_type": "code",
   "execution_count": 57,
   "id": "54fe34d5",
   "metadata": {
    "ExecuteTime": {
     "end_time": "2021-07-20T11:04:26.916923Z",
     "start_time": "2021-07-20T11:04:15.957772Z"
    },
    "run_control": {
     "marked": false
    }
   },
   "outputs": [],
   "source": [
    "from sklearn.neighbors import KNeighborsClassifier\n",
    "classifier = KNeighborsClassifier(n_neighbors=3)\n",
    "classifier.fit(X_train, y_train)\n",
    "y_pred = classifier.predict(X_test)"
   ]
  },
  {
   "cell_type": "code",
   "execution_count": 58,
   "id": "dc13d9f0",
   "metadata": {
    "ExecuteTime": {
     "end_time": "2021-07-20T11:04:32.840737Z",
     "start_time": "2021-07-20T11:04:29.281497Z"
    },
    "run_control": {
     "marked": false
    }
   },
   "outputs": [],
   "source": [
    "y_pred_probKNN = classifier.predict_proba(X_test)[::,1]"
   ]
  },
  {
   "cell_type": "markdown",
   "id": "8a4d897d",
   "metadata": {},
   "source": [
    "## Matriu de Confusió\n"
   ]
  },
  {
   "cell_type": "code",
   "execution_count": 59,
   "id": "bbea6a5e",
   "metadata": {
    "ExecuteTime": {
     "end_time": "2021-07-20T11:04:37.289891Z",
     "start_time": "2021-07-20T11:04:37.220930Z"
    },
    "run_control": {
     "marked": false
    },
    "scrolled": true
   },
   "outputs": [
    {
     "name": "stdout",
     "output_type": "stream",
     "text": [
      "[[  627  2262]\n",
      " [ 1006 32073]]\n"
     ]
    }
   ],
   "source": [
    "from sklearn import metrics\n",
    "from sklearn.metrics import classification_report\n",
    "print(metrics.confusion_matrix(y_test, y_pred))\n"
   ]
  },
  {
   "cell_type": "code",
   "execution_count": 60,
   "id": "2a81d385",
   "metadata": {
    "ExecuteTime": {
     "end_time": "2021-07-20T11:04:43.960309Z",
     "start_time": "2021-07-20T11:04:43.905340Z"
    },
    "run_control": {
     "marked": false
    }
   },
   "outputs": [],
   "source": [
    "cnf_matrix_KN= pd.DataFrame(metrics.confusion_matrix(y_test, y_pred))"
   ]
  },
  {
   "cell_type": "code",
   "execution_count": 61,
   "id": "a3c430ec",
   "metadata": {
    "ExecuteTime": {
     "end_time": "2021-07-20T11:04:45.368666Z",
     "start_time": "2021-07-20T11:04:45.094626Z"
    },
    "run_control": {
     "marked": false
    }
   },
   "outputs": [
    {
     "data": {
      "image/png": "[encoded data removed]",
      "text/plain": [
       "<Figure size 504x504 with 1 Axes>"
      ]
     },
     "metadata": {},
     "output_type": "display_data"
    }
   ],
   "source": [
    "#plot CM  \n",
    "\n",
    "fig, ax = plt.subplots(figsize = (7,7))\n",
    "sns.heatmap(pd.DataFrame(cnf_matrix_KN.T), annot=True, annot_kws={\"size\": 15}, cmap=\"Purples\", vmin=0, vmax=30000, fmt='.0f', linewidths=1, linecolor=\"white\", cbar=False,\n",
    "           xticklabels=[\"ArrOntime\",\"ArrDelay\"], yticklabels=[\"ArrOntime\",\"ArrDelay\"])\n",
    "plt.ylabel(\"Predicted\", fontsize=15)\n",
    "plt.xlabel(\"Actual\", fontsize=15)\n",
    "ax.set_xticklabels([\"ArrOntime\",\"ArrDelay\"], fontsize=13)\n",
    "ax.set_yticklabels([\"ArrOntime\",\"ArrDelay\"], fontsize=13)\n",
    "plt.title(\"Confusion Matrix for KNN Classifier (Threshold = 0.5) - Counts\", fontsize=15)\n",
    "plt.show()"
   ]
  },
  {
   "cell_type": "markdown",
   "id": "692c5d8f",
   "metadata": {},
   "source": [
    "## Resultats\n"
   ]
  },
  {
   "cell_type": "code",
   "execution_count": 62,
   "id": "4a7f46e5",
   "metadata": {
    "ExecuteTime": {
     "end_time": "2021-07-20T11:04:54.230890Z",
     "start_time": "2021-07-20T11:04:54.145939Z"
    },
    "run_control": {
     "marked": false
    }
   },
   "outputs": [
    {
     "name": "stdout",
     "output_type": "stream",
     "text": [
      "              precision    recall  f1-score   support\n",
      "\n",
      "           0       0.38      0.22      0.28      2889\n",
      "           1       0.93      0.97      0.95     33079\n",
      "\n",
      "    accuracy                           0.91     35968\n",
      "   macro avg       0.66      0.59      0.61     35968\n",
      "weighted avg       0.89      0.91      0.90     35968\n",
      "\n"
     ]
    }
   ],
   "source": [
    "knn_ClasReport = classification_report(y_test, y_pred)\n",
    "print(knn_ClasReport)\n"
   ]
  },
  {
   "cell_type": "markdown",
   "id": "80e0915b",
   "metadata": {},
   "source": [
    "## ROC"
   ]
  },
  {
   "cell_type": "code",
   "execution_count": 63,
   "id": "07b239d9",
   "metadata": {
    "ExecuteTime": {
     "end_time": "2021-07-20T11:05:14.334374Z",
     "start_time": "2021-07-20T11:05:13.986218Z"
    },
    "run_control": {
     "marked": false
    }
   },
   "outputs": [
    {
     "data": {
      "image/png": "[encoded data removed]",
      "text/plain": [
       "<Figure size 432x288 with 1 Axes>"
      ]
     },
     "metadata": {},
     "output_type": "display_data"
    }
   ],
   "source": [
    "fpr, tpr, _ = metrics.roc_curve(y_test, y_pred_probKNN)\n",
    "auc = metrics.roc_auc_score(y_test, y_pred_probKNN)\n",
    "plt.plot(fpr,tpr,label=\"data 1, auc=\"+str(auc))\n",
    "plt.legend(loc=4)\n",
    "plt.show()"
   ]
  },
  {
   "cell_type": "markdown",
   "id": "498831d1",
   "metadata": {},
   "source": [
    "# Model 2 KNN `RobustScaler`"
   ]
  },
  {
   "cell_type": "code",
   "execution_count": 41,
   "id": "ea98515a",
   "metadata": {
    "ExecuteTime": {
     "end_time": "2021-07-20T15:39:43.656582Z",
     "start_time": "2021-07-20T15:39:43.650588Z"
    },
    "run_control": {
     "marked": false
    }
   },
   "outputs": [],
   "source": [
    "\n",
    "from sklearn.neighbors import KNeighborsClassifier\n",
    "from sklearn import metrics\n",
    "from sklearn.preprocessing import RobustScaler \n"
   ]
  },
  {
   "cell_type": "code",
   "execution_count": 42,
   "id": "de0eb065",
   "metadata": {
    "ExecuteTime": {
     "end_time": "2021-07-20T15:39:43.689558Z",
     "start_time": "2021-07-20T15:39:43.684562Z"
    },
    "run_control": {
     "marked": false
    }
   },
   "outputs": [],
   "source": [
    "from sklearn.pipeline import make_pipeline\n",
    "pipe = make_pipeline(RobustScaler(), KNeighborsClassifier(n_neighbors=3))\n"
   ]
  },
  {
   "cell_type": "code",
   "execution_count": 43,
   "id": "7a3489cd",
   "metadata": {
    "ExecuteTime": {
     "end_time": "2021-07-20T16:20:29.516622Z",
     "start_time": "2021-07-20T15:39:52.200633Z"
    },
    "run_control": {
     "marked": false
    }
   },
   "outputs": [
    {
     "data": {
      "text/plain": [
       "Pipeline(steps=[('robustscaler', RobustScaler()),\n",
       "                ('kneighborsclassifier', KNeighborsClassifier(n_neighbors=3))])"
      ]
     },
     "execution_count": 43,
     "metadata": {},
     "output_type": "execute_result"
    }
   ],
   "source": [
    "pipe.fit(X_train, y_train)"
   ]
  },
  {
   "cell_type": "code",
   "execution_count": 44,
   "id": "7d8841f7",
   "metadata": {
    "ExecuteTime": {
     "end_time": "2021-07-20T16:23:51.162719Z",
     "start_time": "2021-07-20T16:22:51.462845Z"
    },
    "run_control": {
     "marked": false
    }
   },
   "outputs": [],
   "source": [
    "y_predKN_RS = pipe.predict(X_test)"
   ]
  },
  {
   "cell_type": "code",
   "execution_count": 45,
   "id": "770f344b",
   "metadata": {
    "ExecuteTime": {
     "end_time": "2021-07-20T16:24:48.440682Z",
     "start_time": "2021-07-20T16:23:51.193683Z"
    },
    "run_control": {
     "marked": false
    }
   },
   "outputs": [],
   "source": [
    "y_pred_probKN_RS = pipe.predict_proba(X_test)[::,1]"
   ]
  },
  {
   "cell_type": "markdown",
   "id": "5caaee47",
   "metadata": {},
   "source": [
    "## Matriu de confusió"
   ]
  },
  {
   "cell_type": "code",
   "execution_count": 46,
   "id": "534706be",
   "metadata": {
    "ExecuteTime": {
     "end_time": "2021-07-20T16:25:00.071034Z",
     "start_time": "2021-07-20T16:24:59.981088Z"
    },
    "run_control": {
     "marked": false
    }
   },
   "outputs": [
    {
     "name": "stdout",
     "output_type": "stream",
     "text": [
      "[[33019  1452]\n",
      " [ 4985 29481]]\n"
     ]
    }
   ],
   "source": [
    "print(metrics.confusion_matrix(y_test, y_predKN_RS))\n"
   ]
  },
  {
   "cell_type": "code",
   "execution_count": 47,
   "id": "2a763dba",
   "metadata": {
    "ExecuteTime": {
     "end_time": "2021-07-20T16:25:00.190965Z",
     "start_time": "2021-07-20T16:25:00.107017Z"
    },
    "run_control": {
     "marked": false
    }
   },
   "outputs": [],
   "source": [
    "cnf_matrix_KNRS= pd.DataFrame(metrics.confusion_matrix(y_test, y_predKN_RS))"
   ]
  },
  {
   "cell_type": "code",
   "execution_count": 48,
   "id": "08d92fcc",
   "metadata": {
    "ExecuteTime": {
     "end_time": "2021-07-20T16:25:00.470810Z",
     "start_time": "2021-07-20T16:25:00.209955Z"
    },
    "run_control": {
     "marked": false
    }
   },
   "outputs": [
    {
     "data": {
      "image/png": "[encoded data removed]",
      "text/plain": [
       "<Figure size 504x504 with 1 Axes>"
      ]
     },
     "metadata": {},
     "output_type": "display_data"
    }
   ],
   "source": [
    "#plot CM  \n",
    "\n",
    "fig, ax = plt.subplots(figsize = (7,7))\n",
    "sns.heatmap(pd.DataFrame(cnf_matrix_KNRS.T), annot=True, annot_kws={\"size\": 15}, cmap=\"Purples\", vmin=0, vmax=30000, fmt='.0f', linewidths=1, linecolor=\"white\", cbar=False,\n",
    "           xticklabels=[\"ArrOntime\",\"ArrDelay\"], yticklabels=[\"ArrOntime\",\"ArrDelay\"])\n",
    "plt.ylabel(\"Predicted\", fontsize=15)\n",
    "plt.xlabel(\"Actual\", fontsize=15)\n",
    "ax.set_xticklabels([\"ArrOntime\",\"ArrDelay\"], fontsize=13)\n",
    "ax.set_yticklabels([\"ArrOntime\",\"ArrDelay\"], fontsize=13)\n",
    "plt.title(\"Confusion Matrix for KNN and RobustScaler Classifier (Threshold = 0.5) - Counts\", fontsize=15)\n",
    "plt.show()"
   ]
  },
  {
   "cell_type": "markdown",
   "id": "99520d55",
   "metadata": {},
   "source": [
    "## Resultats"
   ]
  },
  {
   "cell_type": "code",
   "execution_count": null,
   "id": "37d527d4",
   "metadata": {
    "ExecuteTime": {
     "start_time": "2021-07-20T18:10:47.964Z"
    },
    "run_control": {
     "marked": false
    }
   },
   "outputs": [],
   "source": [
    "from sklearn.model_selection import cross_validate\n",
    "from sklearn.metrics import recall_score\n",
    "from sklearn.metrics import classification_report\n",
    "\n",
    "print(classification_report(y_test, y_predKN_RS))"
   ]
  },
  {
   "cell_type": "markdown",
   "id": "77d5b71c",
   "metadata": {},
   "source": [
    "## ROC"
   ]
  },
  {
   "cell_type": "code",
   "execution_count": 50,
   "id": "1e8d7b34",
   "metadata": {
    "ExecuteTime": {
     "end_time": "2021-07-20T16:25:16.131838Z",
     "start_time": "2021-07-20T16:25:15.760052Z"
    },
    "run_control": {
     "marked": false
    }
   },
   "outputs": [
    {
     "data": {
      "image/png": "[encoded data removed]",
      "text/plain": [
       "<Figure size 432x288 with 1 Axes>"
      ]
     },
     "metadata": {},
     "output_type": "display_data"
    }
   ],
   "source": [
    "fpr, tpr, _ = metrics.roc_curve(y_test, y_pred_probKN_RS)\n",
    "auc = metrics.roc_auc_score(y_test, y_pred_probKN_RS)\n",
    "plt.plot(fpr,tpr,label=\"data 1, auc=\"+str(auc))\n",
    "plt.legend(loc=4)\n",
    "plt.show()"
   ]
  },
  {
   "cell_type": "markdown",
   "id": "85c5f4b2",
   "metadata": {},
   "source": [
    "## Cross Validation"
   ]
  },
  {
   "cell_type": "code",
   "execution_count": null,
   "id": "ae86cba3",
   "metadata": {
    "ExecuteTime": {
     "start_time": "2021-07-20T16:30:53.618Z"
    },
    "run_control": {
     "marked": false
    }
   },
   "outputs": [],
   "source": [
    "scoring = ['precision_macro', 'recall_macro']\n",
    "scores4 = cross_validate (pipe, X, y, scoring=scoring, cv=5, return_train_score=True)\n",
    "sorted(scores.keys())\n",
    "\n",
    "scores_df4= pd.DataFrame(scores4)"
   ]
  },
  {
   "cell_type": "code",
   "execution_count": null,
   "id": "1539dd18",
   "metadata": {
    "ExecuteTime": {
     "start_time": "2021-07-20T16:30:54.849Z"
    },
    "run_control": {
     "marked": false
    }
   },
   "outputs": [],
   "source": [
    "scores_df4"
   ]
  },
  {
   "cell_type": "code",
   "execution_count": null,
   "id": "bbdf8491",
   "metadata": {
    "ExecuteTime": {
     "start_time": "2021-07-20T16:30:56.622Z"
    },
    "run_control": {
     "marked": false
    }
   },
   "outputs": [],
   "source": [
    "scores_df4.describe().loc[['min','max','mean'] ]"
   ]
  },
  {
   "attachments": {
    "image.png": {
     "image/png": "[encoded data removed]"
    }
   },
   "cell_type": "markdown",
   "id": "c373a03d",
   "metadata": {},
   "source": [
    "## Comparació Resultats Model 2  \n",
    "\n",
    "\n",
    "![image.png](attachment:image.png)  \n",
    "\n",
    "En aquest cas, el model dóna resultats més acurats un cop aplicats l'Scaler i la mostra tractada amb TomekLinks."
   ]
  },
  {
   "cell_type": "markdown",
   "id": "0f25f3aa",
   "metadata": {},
   "source": [
    "# Model 3 SVM"
   ]
  },
  {
   "cell_type": "markdown",
   "id": "9d57b3b0-434d-4fbd-8e57-c6f41fec5d89",
   "metadata": {},
   "source": [
    "## Train test split amb NearMiss Undersampling"
   ]
  },
  {
   "cell_type": "code",
   "execution_count": 34,
   "id": "2d1156d6-1a6b-4680-a081-6b4e3732c711",
   "metadata": {
    "ExecuteTime": {
     "end_time": "2021-07-20T15:35:07.118369Z",
     "start_time": "2021-07-20T15:35:06.654620Z"
    },
    "run_control": {
     "marked": false
    }
   },
   "outputs": [],
   "source": [
    "from sklearn.model_selection import train_test_split\n",
    "X_train,X_test,y_train,y_test=train_test_split(X_nm,y_nm,test_size=0.02,train_size=0.20,random_state=42)"
   ]
  },
  {
   "cell_type": "code",
   "execution_count": null,
   "id": "8bdcc7d6-b46e-48eb-87ca-7587d2c37dc7",
   "metadata": {},
   "outputs": [],
   "source": [
    "print(X_train.shape, X_test.shape)\n",
    "print(y_train.shape, y_test.shape)"
   ]
  },
  {
   "cell_type": "code",
   "execution_count": 37,
   "id": "0e09c2ba",
   "metadata": {
    "ExecuteTime": {
     "end_time": "2021-07-21T05:56:54.273481Z",
     "start_time": "2021-07-21T05:56:54.256491Z"
    },
    "run_control": {
     "marked": false
    }
   },
   "outputs": [],
   "source": [
    "from sklearn import svm \n",
    "from sklearn import metrics\n",
    "from sklearn.pipeline import make_pipeline\n",
    "pipe =  make_pipeline(svm.SVC(kernel= 'linear') )"
   ]
  },
  {
   "cell_type": "code",
   "execution_count": null,
   "id": "3db91ad3",
   "metadata": {
    "ExecuteTime": {
     "start_time": "2021-07-21T05:56:59.118Z"
    },
    "run_control": {
     "marked": false
    }
   },
   "outputs": [],
   "source": [
    "pipe.fit(X_train, y_train)"
   ]
  },
  {
   "cell_type": "code",
   "execution_count": null,
   "id": "6b26f85e",
   "metadata": {
    "run_control": {
     "marked": false
    }
   },
   "outputs": [],
   "source": [
    "y_pred_SVM = pipe.predict(X_test)\n",
    "y_pred_probSVM = pipe.predict_proba(X_test)[::,1]"
   ]
  },
  {
   "cell_type": "markdown",
   "id": "10b3c7f4",
   "metadata": {},
   "source": [
    "## Matriu de Confusió"
   ]
  },
  {
   "cell_type": "code",
   "execution_count": null,
   "id": "ccdc18bf",
   "metadata": {
    "run_control": {
     "marked": false
    }
   },
   "outputs": [],
   "source": [
    "from sklearn.metrics import classification_report\n",
    "\n",
    "cnf_matrix_SVM= pd.DataFrame(metrics.confusion_matrix(y_test, y_pred_SVM))\n",
    "print(cnf_matrix_SVM)"
   ]
  },
  {
   "cell_type": "code",
   "execution_count": null,
   "id": "5c27ae9c",
   "metadata": {
    "run_control": {
     "marked": false
    }
   },
   "outputs": [],
   "source": [
    "#plot CM  \n",
    "\n",
    "fig, ax = plt.subplots(figsize = (7,7))\n",
    "sns.heatmap(pd.DataFrame(cnf_matrix_SVM.T), annot=True, annot_kws={\"size\": 15}, cmap=\"Purples\", vmin=0, vmax=30000, fmt='.0f', linewidths=1, linecolor=\"white\", cbar=False,\n",
    "           xticklabels=[\"ArrOntime\",\"ArrDelay\"], yticklabels=[\"ArrOntime\",\"ArrDelay\"])\n",
    "plt.ylabel(\"Predicted\", fontsize=15)\n",
    "plt.xlabel(\"Actual\", fontsize=15)\n",
    "ax.set_xticklabels([\"ArrOntime\",\"ArrDelay\"], fontsize=13)\n",
    "ax.set_yticklabels([\"ArrOntime\",\"ArrDelay\"], fontsize=13)\n",
    "plt.title(\"Confusion Matrix for SVM Classifier (Threshold = 0.5) - Counts\", fontsize=15)\n",
    "plt.show()"
   ]
  },
  {
   "cell_type": "markdown",
   "id": "6b80fb90",
   "metadata": {},
   "source": [
    "## Resultats"
   ]
  },
  {
   "cell_type": "code",
   "execution_count": null,
   "id": "b3186dda",
   "metadata": {
    "ExecuteTime": {
     "start_time": "2021-07-20T16:27:26.800Z"
    },
    "run_control": {
     "marked": false
    }
   },
   "outputs": [],
   "source": [
    "from sklearn.metrics import classification_report\n",
    "from sklearn.model_selection import cross_validate\n",
    "from sklearn.metrics import recall_score\n",
    "\n",
    "print(classification_report(y_test, y_pred_SVM))"
   ]
  },
  {
   "cell_type": "markdown",
   "id": "56be4f24",
   "metadata": {},
   "source": [
    "## ROC"
   ]
  },
  {
   "cell_type": "code",
   "execution_count": null,
   "id": "af39f435",
   "metadata": {
    "run_control": {
     "marked": false
    }
   },
   "outputs": [],
   "source": [
    "fpr, tpr, _ = metrics.roc_curve(y_test, y_pred_probSVM)\n",
    "auc = metrics.roc_auc_score(y_test, y_pred_probSVM)\n",
    "plt.plot(fpr,tpr,label=\"data 1, auc=\"+str(auc))\n",
    "plt.legend(loc=4)\n",
    "plt.show()"
   ]
  },
  {
   "cell_type": "markdown",
   "id": "df314e9e",
   "metadata": {},
   "source": [
    "## Cross Validation"
   ]
  },
  {
   "cell_type": "code",
   "execution_count": 53,
   "id": "d362e93b",
   "metadata": {
    "ExecuteTime": {
     "end_time": "2021-07-20T16:27:02.535944Z",
     "start_time": "2021-07-20T16:27:02.530951Z"
    },
    "run_control": {
     "marked": false
    }
   },
   "outputs": [],
   "source": [
    "from sklearn.metrics import classification_report\n",
    "from sklearn.model_selection import cross_validate\n",
    "from sklearn.metrics import recall_score"
   ]
  },
  {
   "cell_type": "code",
   "execution_count": null,
   "id": "5793de44",
   "metadata": {
    "ExecuteTime": {
     "start_time": "2021-07-20T16:27:10.160Z"
    },
    "run_control": {
     "marked": false
    }
   },
   "outputs": [],
   "source": [
    "scoring = ['precision_macro', 'recall_macro']\n",
    "scores5 = cross_validate (pipe, X, y, scoring=scoring, cv=5, return_train_score=True)\n",
    "sorted(scores.keys())\n",
    "\n",
    "scores_df5= pd.DataFrame(scores5)"
   ]
  },
  {
   "cell_type": "code",
   "execution_count": null,
   "id": "ad7cf114",
   "metadata": {
    "ExecuteTime": {
     "start_time": "2021-07-20T12:13:39.221Z"
    },
    "run_control": {
     "marked": false
    }
   },
   "outputs": [],
   "source": [
    "scores_df5"
   ]
  },
  {
   "cell_type": "code",
   "execution_count": null,
   "id": "7f160eb2",
   "metadata": {
    "ExecuteTime": {
     "start_time": "2021-07-20T12:13:40.548Z"
    },
    "run_control": {
     "marked": false
    }
   },
   "outputs": [],
   "source": [
    "scores_df5.describe().loc[['min','max','mean'] ]"
   ]
  },
  {
   "cell_type": "markdown",
   "id": "f37b068c",
   "metadata": {},
   "source": [
    "# Model 3 SVM `RobustScaler`"
   ]
  },
  {
   "cell_type": "code",
   "execution_count": null,
   "id": "6e1f7254",
   "metadata": {
    "run_control": {
     "marked": false
    }
   },
   "outputs": [],
   "source": [
    "from sklearn import svm \n",
    "from sklearn import metrics\n",
    "\n",
    "pipe = make_pipeline(RobustScaler(),svm.SVC(kernel= 'linear',verbose=True) )"
   ]
  },
  {
   "cell_type": "code",
   "execution_count": null,
   "id": "2d25852e",
   "metadata": {
    "run_control": {
     "marked": false
    }
   },
   "outputs": [],
   "source": [
    "pipe.fit(X_train, y_train)"
   ]
  },
  {
   "cell_type": "code",
   "execution_count": null,
   "id": "125367ba",
   "metadata": {
    "run_control": {
     "marked": false
    }
   },
   "outputs": [],
   "source": [
    "y_pred_SVM_RS = pipe.predict(X_test)\n",
    "y_pred_probSVM_RS = pipe.predict_proba(X_test)[::,1]"
   ]
  },
  {
   "cell_type": "markdown",
   "id": "2c91dad8",
   "metadata": {},
   "source": [
    "## Matriu de Confusió"
   ]
  },
  {
   "cell_type": "code",
   "execution_count": null,
   "id": "e13da378",
   "metadata": {
    "run_control": {
     "marked": false
    }
   },
   "outputs": [],
   "source": [
    "from sklearn.metrics import classification_report\n",
    "\n",
    "cnf_matrix_SVM_RS= pd.DataFrame(metrics.confusion_matrix(y_test, y_pred_SVM_RS))\n",
    "print(cnf_matrix_SVM_RS)"
   ]
  },
  {
   "cell_type": "code",
   "execution_count": null,
   "id": "83c5fdda",
   "metadata": {
    "run_control": {
     "marked": false
    }
   },
   "outputs": [],
   "source": [
    "#plot CM  \n",
    "\n",
    "fig, ax = plt.subplots(figsize = (7,7))\n",
    "sns.heatmap(pd.DataFrame(cnf_matrix_SVM_RS.T), annot=True, annot_kws={\"size\": 15}, cmap=\"Purples\", vmin=0, vmax=30000, fmt='.0f', linewidths=1, linecolor=\"white\", cbar=False,\n",
    "           xticklabels=[\"ArrOntime\",\"ArrDelay\"], yticklabels=[\"ArrOntime\",\"ArrDelay\"])\n",
    "plt.ylabel(\"Predicted\", fontsize=15)\n",
    "plt.xlabel(\"Actual\", fontsize=15)\n",
    "ax.set_xticklabels([\"ArrOntime\",\"ArrDelay\"], fontsize=13)\n",
    "ax.set_yticklabels([\"ArrOntime\",\"ArrDelay\"], fontsize=13)\n",
    "plt.title(\"Confusion Matrix for SVM Classifier (Threshold = 0.5) - Counts\", fontsize=15)\n",
    "plt.show()"
   ]
  },
  {
   "cell_type": "markdown",
   "id": "bc2901ee",
   "metadata": {},
   "source": [
    "## Resultats"
   ]
  },
  {
   "cell_type": "code",
   "execution_count": null,
   "id": "0b0d99bf",
   "metadata": {
    "run_control": {
     "marked": false
    }
   },
   "outputs": [],
   "source": [
    "print(classification_report(y_test, y_pred_SVM_RS))"
   ]
  },
  {
   "cell_type": "markdown",
   "id": "b7718f4e",
   "metadata": {},
   "source": [
    "## ROC"
   ]
  },
  {
   "cell_type": "code",
   "execution_count": null,
   "id": "47a9c3da",
   "metadata": {
    "run_control": {
     "marked": false
    }
   },
   "outputs": [],
   "source": [
    "fpr, tpr, _ = metrics.roc_curve(y_test, y_pred_probSVM_RS)\n",
    "auc = metrics.roc_auc_score(y_test, y_pred_probSVM_RS)\n",
    "plt.plot(fpr,tpr,label=\"data 1, auc=\"+str(auc))\n",
    "plt.legend(loc=4)\n",
    "plt.show()"
   ]
  },
  {
   "cell_type": "markdown",
   "id": "4e8a7446",
   "metadata": {},
   "source": [
    "## Cross Validation"
   ]
  },
  {
   "cell_type": "code",
   "execution_count": 73,
   "id": "3b9aa998",
   "metadata": {
    "ExecuteTime": {
     "end_time": "2021-07-20T16:27:02.535944Z",
     "start_time": "2021-07-20T16:27:02.530951Z"
    },
    "run_control": {
     "marked": false
    }
   },
   "outputs": [],
   "source": [
    "from sklearn.model_selection import cross_validate\n",
    "from sklearn.metrics import recall_score"
   ]
  },
  {
   "cell_type": "code",
   "execution_count": null,
   "id": "08891bbe",
   "metadata": {
    "ExecuteTime": {
     "start_time": "2021-07-20T16:27:10.160Z"
    },
    "run_control": {
     "marked": false
    }
   },
   "outputs": [],
   "source": [
    "scoring = ['precision_macro', 'recall_macro']\n",
    "scores6 = cross_validate (pipe, X, y, scoring=scoring, cv=5, return_train_score=True)\n",
    "sorted(scores.keys())\n",
    "\n",
    "scores_df6= pd.DataFrame(scores6)"
   ]
  },
  {
   "cell_type": "code",
   "execution_count": null,
   "id": "65617147",
   "metadata": {
    "ExecuteTime": {
     "start_time": "2021-07-20T12:13:39.221Z"
    },
    "run_control": {
     "marked": false
    }
   },
   "outputs": [],
   "source": [
    "scores_df6"
   ]
  },
  {
   "cell_type": "code",
   "execution_count": null,
   "id": "505ee6e0",
   "metadata": {
    "ExecuteTime": {
     "start_time": "2021-07-20T12:13:40.548Z"
    },
    "run_control": {
     "marked": false
    }
   },
   "outputs": [],
   "source": [
    "scores_df6.describe().loc[['min','max','mean'] ]"
   ]
  }
 ],
 "metadata": {
  "hide_input": false,
  "kernelspec": {
   "display_name": "Python 3",
   "language": "python",
   "name": "python3"
  },
  "language_info": {
   "codemirror_mode": {
    "name": "ipython",
    "version": 3
   },
   "file_extension": ".py",
   "mimetype": "text/x-python",
   "name": "python",
   "nbconvert_exporter": "python",
   "pygments_lexer": "ipython3",
   "version": "3.8.8"
  },
  "toc": {
   "base_numbering": 1,
   "nav_menu": {},
   "number_sections": true,
   "sideBar": true,
   "skip_h1_title": false,
   "title_cell": "Table of Contents",
   "title_sidebar": "Contents",
   "toc_cell": true,
   "toc_position": {
    "height": "calc(100% - 180px)",
    "left": "10px",
    "top": "150px",
    "width": "336px"
   },
   "toc_section_display": true,
   "toc_window_display": false
  }
 },
 "nbformat": 4,
 "nbformat_minor": 5
}
