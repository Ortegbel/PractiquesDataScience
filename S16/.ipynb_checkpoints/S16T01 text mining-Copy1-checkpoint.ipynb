{
 "cells": [
  {
   "cell_type": "markdown",
   "id": "2b807e9c",
   "metadata": {},
   "source": [
    "<font size=\"6\"><b>S16 T01: Pipelines, grid search i text mining</b></font>"
   ]
  },
  {
   "cell_type": "markdown",
   "id": "3ec2b62b",
   "metadata": {},
   "source": [
    "# Enunciats\n",
    "**Nivell 1**\n",
    "1. Agafa el conjunt de dades que vulguis i realitza un pipeline i un gridsearch aplicant l'algorisme de Random Forest.\n",
    "2. Agafa un text en anglès que vulguis, i calcula'n la freqüència de les paraules\n",
    "\n",
    "**Nivell 2**\n",
    "\n",
    "3. Treu les stopwords i realitza stemming al teu conjunt de dades.\n",
    "\n",
    "**Nivell 3**\n",
    "\n",
    "4. Realitza sentiment analysis al teu conjunt de dades."
   ]
  },
  {
   "cell_type": "markdown",
   "id": "0079d4d1",
   "metadata": {},
   "source": [
    "# Agafa un text en anglès que vulguis, i calcula'n la freqüència de les paraules Treu les stopwords i realitza stemming al teu conjunt de dades.\n",
    "\n",
    "He triat un text disponible al corpus de nltk, el discurs de l'estat de la nació de Kennedy de l'any 61 en versió Raw, per poder fer tots els passos. "
   ]
  },
  {
   "cell_type": "code",
   "execution_count": 15,
   "id": "dc5ee9fb",
   "metadata": {
    "ExecuteTime": {
     "end_time": "2021-08-13T16:37:35.245562Z",
     "start_time": "2021-08-13T16:37:35.226573Z"
    }
   },
   "outputs": [],
   "source": [
    "import nltk\n",
    "from nltk.corpus import state_union\n",
    "text= state_union.raw('1961-Kennedy.txt')"
   ]
  },
  {
   "cell_type": "code",
   "execution_count": 16,
   "id": "349bcce5",
   "metadata": {
    "ExecuteTime": {
     "end_time": "2021-08-13T16:37:35.948324Z",
     "start_time": "2021-08-13T16:37:35.931330Z"
    }
   },
   "outputs": [],
   "source": [
    "from nltk.tokenize import word_tokenize, sent_tokenize\n",
    "from nltk.text import Text\n",
    "from nltk.corpus import stopwords\n",
    "import string, re"
   ]
  },
  {
   "cell_type": "code",
   "execution_count": 17,
   "id": "3b990cb1",
   "metadata": {
    "ExecuteTime": {
     "end_time": "2021-08-13T16:37:36.621507Z",
     "start_time": "2021-08-13T16:37:36.601519Z"
    }
   },
   "outputs": [],
   "source": [
    "sentences = sent_tokenize(text)"
   ]
  },
  {
   "cell_type": "code",
   "execution_count": 18,
   "id": "2c7d6b45",
   "metadata": {
    "ExecuteTime": {
     "end_time": "2021-08-13T16:37:37.294503Z",
     "start_time": "2021-08-13T16:37:37.273517Z"
    }
   },
   "outputs": [
    {
     "data": {
      "text/plain": [
       "['But where fighting is required, it is usually done by others--by guerrillas striking at night, by assassins striking alone--assassins who have taken the lives of four thousand civil officers in the last twelve months in Vietnam alone--by subversives and saboteurs and insurrectionists, who in some cases control whole areas inside of independent nations.',\n",
       " '[At this point the following paragraph, which appears in the text as signed and transmitted to the Senate and House of Representatives, was omitted in the reading of the message:\\nThey possess a powerful intercontinental striking force, large forces for conventional war, a well-trained underground in nearly every country, the power to conscript talent and manpower for any purpose, the capacity for quick decisions, a closed society without dissent or free information, and long experience in the techniques of violence and subversion.',\n",
       " 'They make the most of their scientific successes, their economic progress and their pose as a foe of colonialism and friend of popular revolution.',\n",
       " 'They prey on unstable or unpopular governments, unsealed, or unknown boundaries, unfilled hopes, convulsive change, massive poverty, illiteracy, unrest and frustration.]',\n",
       " \"With these formidable weapons, the adversaries of freedom plan to consolidate their territory--to exploit, to control, and finally to destroy the hopes of the world's newest nations; and they have ambition to do it before the end of this decade.\",\n",
       " 'It is a contest of will and purpose as well as force and violence--a battle for minds and souls as well as lives and territory.',\n",
       " 'And in that contest, we cannot stand aside.']"
      ]
     },
     "execution_count": 18,
     "metadata": {},
     "output_type": "execute_result"
    }
   ],
   "source": [
    "partial_speech = sentences[23:30]\n",
    "partial_speech"
   ]
  },
  {
   "cell_type": "code",
   "execution_count": 4,
   "id": "63a8700e",
   "metadata": {
    "ExecuteTime": {
     "end_time": "2021-08-13T16:27:01.546323Z",
     "start_time": "2021-08-13T16:27:01.538326Z"
    }
   },
   "outputs": [],
   "source": [
    "def remove_punctuation(sentence):\n",
    "    sentence =re.sub(r'[^\\w\\s]','',sentence)\n",
    "    return sentence"
   ]
  },
  {
   "cell_type": "code",
   "execution_count": 5,
   "id": "05b080ff",
   "metadata": {
    "ExecuteTime": {
     "end_time": "2021-08-13T16:27:04.992409Z",
     "start_time": "2021-08-13T16:27:04.978417Z"
    }
   },
   "outputs": [],
   "source": [
    "cleaned_sent= [remove_punctuation(sentence) for sentence in sentences]"
   ]
  },
  {
   "cell_type": "code",
   "execution_count": 14,
   "id": "f09d1c3d",
   "metadata": {
    "ExecuteTime": {
     "end_time": "2021-08-13T16:34:09.551935Z",
     "start_time": "2021-08-13T16:34:09.532950Z"
    }
   },
   "outputs": [
    {
     "data": {
      "text/plain": [
       "['But where fighting is required it is usually done by othersby guerrillas striking at night by assassins striking aloneassassins who have taken the lives of four thousand civil officers in the last twelve months in Vietnam aloneby subversives and saboteurs and insurrectionists who in some cases control whole areas inside of independent nations',\n",
       " 'At this point the following paragraph which appears in the text as signed and transmitted to the Senate and House of Representatives was omitted in the reading of the message\\nThey possess a powerful intercontinental striking force large forces for conventional war a welltrained underground in nearly every country the power to conscript talent and manpower for any purpose the capacity for quick decisions a closed society without dissent or free information and long experience in the techniques of violence and subversion',\n",
       " 'They make the most of their scientific successes their economic progress and their pose as a foe of colonialism and friend of popular revolution',\n",
       " 'They prey on unstable or unpopular governments unsealed or unknown boundaries unfilled hopes convulsive change massive poverty illiteracy unrest and frustration',\n",
       " 'With these formidable weapons the adversaries of freedom plan to consolidate their territoryto exploit to control and finally to destroy the hopes of the worlds newest nations and they have ambition to do it before the end of this decade',\n",
       " 'It is a contest of will and purpose as well as force and violencea battle for minds and souls as well as lives and territory',\n",
       " 'And in that contest we cannot stand aside']"
      ]
     },
     "execution_count": 14,
     "metadata": {},
     "output_type": "execute_result"
    }
   ],
   "source": [
    "partial_speech"
   ]
  },
  {
   "cell_type": "code",
   "execution_count": 7,
   "id": "f20182f0",
   "metadata": {
    "ExecuteTime": {
     "end_time": "2021-08-13T16:27:57.917611Z",
     "start_time": "2021-08-13T16:27:57.888630Z"
    }
   },
   "outputs": [
    {
     "data": {
      "text/plain": [
       "[['But',\n",
       "  'where',\n",
       "  'fighting',\n",
       "  'is',\n",
       "  'required',\n",
       "  'it',\n",
       "  'is',\n",
       "  'usually',\n",
       "  'done',\n",
       "  'by',\n",
       "  'othersby',\n",
       "  'guerrillas',\n",
       "  'striking',\n",
       "  'at',\n",
       "  'night',\n",
       "  'by',\n",
       "  'assassins',\n",
       "  'striking',\n",
       "  'aloneassassins',\n",
       "  'who',\n",
       "  'have',\n",
       "  'taken',\n",
       "  'the',\n",
       "  'lives',\n",
       "  'of',\n",
       "  'four',\n",
       "  'thousand',\n",
       "  'civil',\n",
       "  'officers',\n",
       "  'in',\n",
       "  'the',\n",
       "  'last',\n",
       "  'twelve',\n",
       "  'months',\n",
       "  'in',\n",
       "  'Vietnam',\n",
       "  'aloneby',\n",
       "  'subversives',\n",
       "  'and',\n",
       "  'saboteurs',\n",
       "  'and',\n",
       "  'insurrectionists',\n",
       "  'who',\n",
       "  'in',\n",
       "  'some',\n",
       "  'cases',\n",
       "  'control',\n",
       "  'whole',\n",
       "  'areas',\n",
       "  'inside',\n",
       "  'of',\n",
       "  'independent',\n",
       "  'nations'],\n",
       " ['At',\n",
       "  'this',\n",
       "  'point',\n",
       "  'the',\n",
       "  'following',\n",
       "  'paragraph',\n",
       "  'which',\n",
       "  'appears',\n",
       "  'in',\n",
       "  'the',\n",
       "  'text',\n",
       "  'as',\n",
       "  'signed',\n",
       "  'and',\n",
       "  'transmitted',\n",
       "  'to',\n",
       "  'the',\n",
       "  'Senate',\n",
       "  'and',\n",
       "  'House',\n",
       "  'of',\n",
       "  'Representatives',\n",
       "  'was',\n",
       "  'omitted',\n",
       "  'in',\n",
       "  'the',\n",
       "  'reading',\n",
       "  'of',\n",
       "  'the',\n",
       "  'message',\n",
       "  'They',\n",
       "  'possess',\n",
       "  'a',\n",
       "  'powerful',\n",
       "  'intercontinental',\n",
       "  'striking',\n",
       "  'force',\n",
       "  'large',\n",
       "  'forces',\n",
       "  'for',\n",
       "  'conventional',\n",
       "  'war',\n",
       "  'a',\n",
       "  'welltrained',\n",
       "  'underground',\n",
       "  'in',\n",
       "  'nearly',\n",
       "  'every',\n",
       "  'country',\n",
       "  'the',\n",
       "  'power',\n",
       "  'to',\n",
       "  'conscript',\n",
       "  'talent',\n",
       "  'and',\n",
       "  'manpower',\n",
       "  'for',\n",
       "  'any',\n",
       "  'purpose',\n",
       "  'the',\n",
       "  'capacity',\n",
       "  'for',\n",
       "  'quick',\n",
       "  'decisions',\n",
       "  'a',\n",
       "  'closed',\n",
       "  'society',\n",
       "  'without',\n",
       "  'dissent',\n",
       "  'or',\n",
       "  'free',\n",
       "  'information',\n",
       "  'and',\n",
       "  'long',\n",
       "  'experience',\n",
       "  'in',\n",
       "  'the',\n",
       "  'techniques',\n",
       "  'of',\n",
       "  'violence',\n",
       "  'and',\n",
       "  'subversion'],\n",
       " ['They',\n",
       "  'make',\n",
       "  'the',\n",
       "  'most',\n",
       "  'of',\n",
       "  'their',\n",
       "  'scientific',\n",
       "  'successes',\n",
       "  'their',\n",
       "  'economic',\n",
       "  'progress',\n",
       "  'and',\n",
       "  'their',\n",
       "  'pose',\n",
       "  'as',\n",
       "  'a',\n",
       "  'foe',\n",
       "  'of',\n",
       "  'colonialism',\n",
       "  'and',\n",
       "  'friend',\n",
       "  'of',\n",
       "  'popular',\n",
       "  'revolution'],\n",
       " ['They',\n",
       "  'prey',\n",
       "  'on',\n",
       "  'unstable',\n",
       "  'or',\n",
       "  'unpopular',\n",
       "  'governments',\n",
       "  'unsealed',\n",
       "  'or',\n",
       "  'unknown',\n",
       "  'boundaries',\n",
       "  'unfilled',\n",
       "  'hopes',\n",
       "  'convulsive',\n",
       "  'change',\n",
       "  'massive',\n",
       "  'poverty',\n",
       "  'illiteracy',\n",
       "  'unrest',\n",
       "  'and',\n",
       "  'frustration'],\n",
       " ['With',\n",
       "  'these',\n",
       "  'formidable',\n",
       "  'weapons',\n",
       "  'the',\n",
       "  'adversaries',\n",
       "  'of',\n",
       "  'freedom',\n",
       "  'plan',\n",
       "  'to',\n",
       "  'consolidate',\n",
       "  'their',\n",
       "  'territoryto',\n",
       "  'exploit',\n",
       "  'to',\n",
       "  'control',\n",
       "  'and',\n",
       "  'finally',\n",
       "  'to',\n",
       "  'destroy',\n",
       "  'the',\n",
       "  'hopes',\n",
       "  'of',\n",
       "  'the',\n",
       "  'worlds',\n",
       "  'newest',\n",
       "  'nations',\n",
       "  'and',\n",
       "  'they',\n",
       "  'have',\n",
       "  'ambition',\n",
       "  'to',\n",
       "  'do',\n",
       "  'it',\n",
       "  'before',\n",
       "  'the',\n",
       "  'end',\n",
       "  'of',\n",
       "  'this',\n",
       "  'decade'],\n",
       " ['It',\n",
       "  'is',\n",
       "  'a',\n",
       "  'contest',\n",
       "  'of',\n",
       "  'will',\n",
       "  'and',\n",
       "  'purpose',\n",
       "  'as',\n",
       "  'well',\n",
       "  'as',\n",
       "  'force',\n",
       "  'and',\n",
       "  'violencea',\n",
       "  'battle',\n",
       "  'for',\n",
       "  'minds',\n",
       "  'and',\n",
       "  'souls',\n",
       "  'as',\n",
       "  'well',\n",
       "  'as',\n",
       "  'lives',\n",
       "  'and',\n",
       "  'territory'],\n",
       " ['And', 'in', 'that', 'contest', 'we', 'can', 'not', 'stand', 'aside']]"
      ]
     },
     "execution_count": 7,
     "metadata": {},
     "output_type": "execute_result"
    }
   ],
   "source": [
    "partial_speech_words= [word_tokenize(sentence) for sentence in partial_speech]\n",
    "partial_speech_words"
   ]
  },
  {
   "cell_type": "code",
   "execution_count": 19,
   "id": "e383d0bc",
   "metadata": {
    "ExecuteTime": {
     "end_time": "2021-08-13T16:38:40.657408Z",
     "start_time": "2021-08-13T16:38:40.602441Z"
    }
   },
   "outputs": [
    {
     "ename": "TypeError",
     "evalue": "expected string or bytes-like object",
     "output_type": "error",
     "traceback": [
      "\u001b[1;31m---------------------------------------------------------------------------\u001b[0m",
      "\u001b[1;31mTypeError\u001b[0m                                 Traceback (most recent call last)",
      "\u001b[1;32m<ipython-input-19-64ff08fedcb3>\u001b[0m in \u001b[0;36m<module>\u001b[1;34m\u001b[0m\n\u001b[1;32m----> 1\u001b[1;33m \u001b[0mdata\u001b[0m \u001b[1;33m=\u001b[0m \u001b[0mword_tokenize\u001b[0m\u001b[1;33m(\u001b[0m\u001b[0mpartial_speech\u001b[0m\u001b[1;33m)\u001b[0m\u001b[1;33m\u001b[0m\u001b[1;33m\u001b[0m\u001b[0m\n\u001b[0m\u001b[0;32m      2\u001b[0m \u001b[0mfdist\u001b[0m\u001b[1;33m=\u001b[0m\u001b[0mFreqDist\u001b[0m\u001b[1;33m(\u001b[0m\u001b[0mdata\u001b[0m\u001b[1;33m)\u001b[0m\u001b[1;33m\u001b[0m\u001b[1;33m\u001b[0m\u001b[0m\n\u001b[0;32m      3\u001b[0m \u001b[0mprint\u001b[0m\u001b[1;33m(\u001b[0m\u001b[0mfdist\u001b[0m\u001b[1;33m)\u001b[0m\u001b[1;33m\u001b[0m\u001b[1;33m\u001b[0m\u001b[0m\n\u001b[0;32m      4\u001b[0m \u001b[0mprint\u001b[0m\u001b[1;33m(\u001b[0m\u001b[0mfdist\u001b[0m\u001b[1;33m.\u001b[0m\u001b[0mmost_common\u001b[0m\u001b[1;33m(\u001b[0m\u001b[1;36m100\u001b[0m\u001b[1;33m)\u001b[0m\u001b[1;33m)\u001b[0m\u001b[1;33m\u001b[0m\u001b[1;33m\u001b[0m\u001b[0m\n",
      "\u001b[1;32m~\\anaconda3\\lib\\site-packages\\nltk\\tokenize\\__init__.py\u001b[0m in \u001b[0;36mword_tokenize\u001b[1;34m(text, language, preserve_line)\u001b[0m\n\u001b[0;32m    128\u001b[0m     \u001b[1;33m:\u001b[0m\u001b[0mtype\u001b[0m \u001b[0mpreserve_line\u001b[0m\u001b[1;33m:\u001b[0m \u001b[0mbool\u001b[0m\u001b[1;33m\u001b[0m\u001b[1;33m\u001b[0m\u001b[0m\n\u001b[0;32m    129\u001b[0m     \"\"\"\n\u001b[1;32m--> 130\u001b[1;33m     \u001b[0msentences\u001b[0m \u001b[1;33m=\u001b[0m \u001b[1;33m[\u001b[0m\u001b[0mtext\u001b[0m\u001b[1;33m]\u001b[0m \u001b[1;32mif\u001b[0m \u001b[0mpreserve_line\u001b[0m \u001b[1;32melse\u001b[0m \u001b[0msent_tokenize\u001b[0m\u001b[1;33m(\u001b[0m\u001b[0mtext\u001b[0m\u001b[1;33m,\u001b[0m \u001b[0mlanguage\u001b[0m\u001b[1;33m)\u001b[0m\u001b[1;33m\u001b[0m\u001b[1;33m\u001b[0m\u001b[0m\n\u001b[0m\u001b[0;32m    131\u001b[0m     return [\n\u001b[0;32m    132\u001b[0m         \u001b[0mtoken\u001b[0m \u001b[1;32mfor\u001b[0m \u001b[0msent\u001b[0m \u001b[1;32min\u001b[0m \u001b[0msentences\u001b[0m \u001b[1;32mfor\u001b[0m \u001b[0mtoken\u001b[0m \u001b[1;32min\u001b[0m \u001b[0m_treebank_word_tokenizer\u001b[0m\u001b[1;33m.\u001b[0m\u001b[0mtokenize\u001b[0m\u001b[1;33m(\u001b[0m\u001b[0msent\u001b[0m\u001b[1;33m)\u001b[0m\u001b[1;33m\u001b[0m\u001b[1;33m\u001b[0m\u001b[0m\n",
      "\u001b[1;32m~\\anaconda3\\lib\\site-packages\\nltk\\tokenize\\__init__.py\u001b[0m in \u001b[0;36msent_tokenize\u001b[1;34m(text, language)\u001b[0m\n\u001b[0;32m    106\u001b[0m     \"\"\"\n\u001b[0;32m    107\u001b[0m     \u001b[0mtokenizer\u001b[0m \u001b[1;33m=\u001b[0m \u001b[0mload\u001b[0m\u001b[1;33m(\u001b[0m\u001b[1;34m\"tokenizers/punkt/{0}.pickle\"\u001b[0m\u001b[1;33m.\u001b[0m\u001b[0mformat\u001b[0m\u001b[1;33m(\u001b[0m\u001b[0mlanguage\u001b[0m\u001b[1;33m)\u001b[0m\u001b[1;33m)\u001b[0m\u001b[1;33m\u001b[0m\u001b[1;33m\u001b[0m\u001b[0m\n\u001b[1;32m--> 108\u001b[1;33m     \u001b[1;32mreturn\u001b[0m \u001b[0mtokenizer\u001b[0m\u001b[1;33m.\u001b[0m\u001b[0mtokenize\u001b[0m\u001b[1;33m(\u001b[0m\u001b[0mtext\u001b[0m\u001b[1;33m)\u001b[0m\u001b[1;33m\u001b[0m\u001b[1;33m\u001b[0m\u001b[0m\n\u001b[0m\u001b[0;32m    109\u001b[0m \u001b[1;33m\u001b[0m\u001b[0m\n\u001b[0;32m    110\u001b[0m \u001b[1;33m\u001b[0m\u001b[0m\n",
      "\u001b[1;32m~\\anaconda3\\lib\\site-packages\\nltk\\tokenize\\punkt.py\u001b[0m in \u001b[0;36mtokenize\u001b[1;34m(self, text, realign_boundaries)\u001b[0m\n\u001b[0;32m   1272\u001b[0m         \u001b[0mGiven\u001b[0m \u001b[0ma\u001b[0m \u001b[0mtext\u001b[0m\u001b[1;33m,\u001b[0m \u001b[0mreturns\u001b[0m \u001b[0ma\u001b[0m \u001b[0mlist\u001b[0m \u001b[0mof\u001b[0m \u001b[0mthe\u001b[0m \u001b[0msentences\u001b[0m \u001b[1;32min\u001b[0m \u001b[0mthat\u001b[0m \u001b[0mtext\u001b[0m\u001b[1;33m.\u001b[0m\u001b[1;33m\u001b[0m\u001b[1;33m\u001b[0m\u001b[0m\n\u001b[0;32m   1273\u001b[0m         \"\"\"\n\u001b[1;32m-> 1274\u001b[1;33m         \u001b[1;32mreturn\u001b[0m \u001b[0mlist\u001b[0m\u001b[1;33m(\u001b[0m\u001b[0mself\u001b[0m\u001b[1;33m.\u001b[0m\u001b[0msentences_from_text\u001b[0m\u001b[1;33m(\u001b[0m\u001b[0mtext\u001b[0m\u001b[1;33m,\u001b[0m \u001b[0mrealign_boundaries\u001b[0m\u001b[1;33m)\u001b[0m\u001b[1;33m)\u001b[0m\u001b[1;33m\u001b[0m\u001b[1;33m\u001b[0m\u001b[0m\n\u001b[0m\u001b[0;32m   1275\u001b[0m \u001b[1;33m\u001b[0m\u001b[0m\n\u001b[0;32m   1276\u001b[0m     \u001b[1;32mdef\u001b[0m \u001b[0mdebug_decisions\u001b[0m\u001b[1;33m(\u001b[0m\u001b[0mself\u001b[0m\u001b[1;33m,\u001b[0m \u001b[0mtext\u001b[0m\u001b[1;33m)\u001b[0m\u001b[1;33m:\u001b[0m\u001b[1;33m\u001b[0m\u001b[1;33m\u001b[0m\u001b[0m\n",
      "\u001b[1;32m~\\anaconda3\\lib\\site-packages\\nltk\\tokenize\\punkt.py\u001b[0m in \u001b[0;36msentences_from_text\u001b[1;34m(self, text, realign_boundaries)\u001b[0m\n\u001b[0;32m   1326\u001b[0m         \u001b[0mfollows\u001b[0m \u001b[0mthe\u001b[0m \u001b[0mperiod\u001b[0m\u001b[1;33m.\u001b[0m\u001b[1;33m\u001b[0m\u001b[1;33m\u001b[0m\u001b[0m\n\u001b[0;32m   1327\u001b[0m         \"\"\"\n\u001b[1;32m-> 1328\u001b[1;33m         \u001b[1;32mreturn\u001b[0m \u001b[1;33m[\u001b[0m\u001b[0mtext\u001b[0m\u001b[1;33m[\u001b[0m\u001b[0ms\u001b[0m\u001b[1;33m:\u001b[0m\u001b[0me\u001b[0m\u001b[1;33m]\u001b[0m \u001b[1;32mfor\u001b[0m \u001b[0ms\u001b[0m\u001b[1;33m,\u001b[0m \u001b[0me\u001b[0m \u001b[1;32min\u001b[0m \u001b[0mself\u001b[0m\u001b[1;33m.\u001b[0m\u001b[0mspan_tokenize\u001b[0m\u001b[1;33m(\u001b[0m\u001b[0mtext\u001b[0m\u001b[1;33m,\u001b[0m \u001b[0mrealign_boundaries\u001b[0m\u001b[1;33m)\u001b[0m\u001b[1;33m]\u001b[0m\u001b[1;33m\u001b[0m\u001b[1;33m\u001b[0m\u001b[0m\n\u001b[0m\u001b[0;32m   1329\u001b[0m \u001b[1;33m\u001b[0m\u001b[0m\n\u001b[0;32m   1330\u001b[0m     \u001b[1;32mdef\u001b[0m \u001b[0m_slices_from_text\u001b[0m\u001b[1;33m(\u001b[0m\u001b[0mself\u001b[0m\u001b[1;33m,\u001b[0m \u001b[0mtext\u001b[0m\u001b[1;33m)\u001b[0m\u001b[1;33m:\u001b[0m\u001b[1;33m\u001b[0m\u001b[1;33m\u001b[0m\u001b[0m\n",
      "\u001b[1;32m~\\anaconda3\\lib\\site-packages\\nltk\\tokenize\\punkt.py\u001b[0m in \u001b[0;36m<listcomp>\u001b[1;34m(.0)\u001b[0m\n\u001b[0;32m   1326\u001b[0m         \u001b[0mfollows\u001b[0m \u001b[0mthe\u001b[0m \u001b[0mperiod\u001b[0m\u001b[1;33m.\u001b[0m\u001b[1;33m\u001b[0m\u001b[1;33m\u001b[0m\u001b[0m\n\u001b[0;32m   1327\u001b[0m         \"\"\"\n\u001b[1;32m-> 1328\u001b[1;33m         \u001b[1;32mreturn\u001b[0m \u001b[1;33m[\u001b[0m\u001b[0mtext\u001b[0m\u001b[1;33m[\u001b[0m\u001b[0ms\u001b[0m\u001b[1;33m:\u001b[0m\u001b[0me\u001b[0m\u001b[1;33m]\u001b[0m \u001b[1;32mfor\u001b[0m \u001b[0ms\u001b[0m\u001b[1;33m,\u001b[0m \u001b[0me\u001b[0m \u001b[1;32min\u001b[0m \u001b[0mself\u001b[0m\u001b[1;33m.\u001b[0m\u001b[0mspan_tokenize\u001b[0m\u001b[1;33m(\u001b[0m\u001b[0mtext\u001b[0m\u001b[1;33m,\u001b[0m \u001b[0mrealign_boundaries\u001b[0m\u001b[1;33m)\u001b[0m\u001b[1;33m]\u001b[0m\u001b[1;33m\u001b[0m\u001b[1;33m\u001b[0m\u001b[0m\n\u001b[0m\u001b[0;32m   1329\u001b[0m \u001b[1;33m\u001b[0m\u001b[0m\n\u001b[0;32m   1330\u001b[0m     \u001b[1;32mdef\u001b[0m \u001b[0m_slices_from_text\u001b[0m\u001b[1;33m(\u001b[0m\u001b[0mself\u001b[0m\u001b[1;33m,\u001b[0m \u001b[0mtext\u001b[0m\u001b[1;33m)\u001b[0m\u001b[1;33m:\u001b[0m\u001b[1;33m\u001b[0m\u001b[1;33m\u001b[0m\u001b[0m\n",
      "\u001b[1;32m~\\anaconda3\\lib\\site-packages\\nltk\\tokenize\\punkt.py\u001b[0m in \u001b[0;36mspan_tokenize\u001b[1;34m(self, text, realign_boundaries)\u001b[0m\n\u001b[0;32m   1316\u001b[0m         \u001b[1;32mif\u001b[0m \u001b[0mrealign_boundaries\u001b[0m\u001b[1;33m:\u001b[0m\u001b[1;33m\u001b[0m\u001b[1;33m\u001b[0m\u001b[0m\n\u001b[0;32m   1317\u001b[0m             \u001b[0mslices\u001b[0m \u001b[1;33m=\u001b[0m \u001b[0mself\u001b[0m\u001b[1;33m.\u001b[0m\u001b[0m_realign_boundaries\u001b[0m\u001b[1;33m(\u001b[0m\u001b[0mtext\u001b[0m\u001b[1;33m,\u001b[0m \u001b[0mslices\u001b[0m\u001b[1;33m)\u001b[0m\u001b[1;33m\u001b[0m\u001b[1;33m\u001b[0m\u001b[0m\n\u001b[1;32m-> 1318\u001b[1;33m         \u001b[1;32mfor\u001b[0m \u001b[0msl\u001b[0m \u001b[1;32min\u001b[0m \u001b[0mslices\u001b[0m\u001b[1;33m:\u001b[0m\u001b[1;33m\u001b[0m\u001b[1;33m\u001b[0m\u001b[0m\n\u001b[0m\u001b[0;32m   1319\u001b[0m             \u001b[1;32myield\u001b[0m \u001b[1;33m(\u001b[0m\u001b[0msl\u001b[0m\u001b[1;33m.\u001b[0m\u001b[0mstart\u001b[0m\u001b[1;33m,\u001b[0m \u001b[0msl\u001b[0m\u001b[1;33m.\u001b[0m\u001b[0mstop\u001b[0m\u001b[1;33m)\u001b[0m\u001b[1;33m\u001b[0m\u001b[1;33m\u001b[0m\u001b[0m\n\u001b[0;32m   1320\u001b[0m \u001b[1;33m\u001b[0m\u001b[0m\n",
      "\u001b[1;32m~\\anaconda3\\lib\\site-packages\\nltk\\tokenize\\punkt.py\u001b[0m in \u001b[0;36m_realign_boundaries\u001b[1;34m(self, text, slices)\u001b[0m\n\u001b[0;32m   1357\u001b[0m         \"\"\"\n\u001b[0;32m   1358\u001b[0m         \u001b[0mrealign\u001b[0m \u001b[1;33m=\u001b[0m \u001b[1;36m0\u001b[0m\u001b[1;33m\u001b[0m\u001b[1;33m\u001b[0m\u001b[0m\n\u001b[1;32m-> 1359\u001b[1;33m         \u001b[1;32mfor\u001b[0m \u001b[0msl1\u001b[0m\u001b[1;33m,\u001b[0m \u001b[0msl2\u001b[0m \u001b[1;32min\u001b[0m \u001b[0m_pair_iter\u001b[0m\u001b[1;33m(\u001b[0m\u001b[0mslices\u001b[0m\u001b[1;33m)\u001b[0m\u001b[1;33m:\u001b[0m\u001b[1;33m\u001b[0m\u001b[1;33m\u001b[0m\u001b[0m\n\u001b[0m\u001b[0;32m   1360\u001b[0m             \u001b[0msl1\u001b[0m \u001b[1;33m=\u001b[0m \u001b[0mslice\u001b[0m\u001b[1;33m(\u001b[0m\u001b[0msl1\u001b[0m\u001b[1;33m.\u001b[0m\u001b[0mstart\u001b[0m \u001b[1;33m+\u001b[0m \u001b[0mrealign\u001b[0m\u001b[1;33m,\u001b[0m \u001b[0msl1\u001b[0m\u001b[1;33m.\u001b[0m\u001b[0mstop\u001b[0m\u001b[1;33m)\u001b[0m\u001b[1;33m\u001b[0m\u001b[1;33m\u001b[0m\u001b[0m\n\u001b[0;32m   1361\u001b[0m             \u001b[1;32mif\u001b[0m \u001b[1;32mnot\u001b[0m \u001b[0msl2\u001b[0m\u001b[1;33m:\u001b[0m\u001b[1;33m\u001b[0m\u001b[1;33m\u001b[0m\u001b[0m\n",
      "\u001b[1;32m~\\anaconda3\\lib\\site-packages\\nltk\\tokenize\\punkt.py\u001b[0m in \u001b[0;36m_pair_iter\u001b[1;34m(it)\u001b[0m\n\u001b[0;32m    314\u001b[0m     \u001b[0mit\u001b[0m \u001b[1;33m=\u001b[0m \u001b[0miter\u001b[0m\u001b[1;33m(\u001b[0m\u001b[0mit\u001b[0m\u001b[1;33m)\u001b[0m\u001b[1;33m\u001b[0m\u001b[1;33m\u001b[0m\u001b[0m\n\u001b[0;32m    315\u001b[0m     \u001b[1;32mtry\u001b[0m\u001b[1;33m:\u001b[0m\u001b[1;33m\u001b[0m\u001b[1;33m\u001b[0m\u001b[0m\n\u001b[1;32m--> 316\u001b[1;33m         \u001b[0mprev\u001b[0m \u001b[1;33m=\u001b[0m \u001b[0mnext\u001b[0m\u001b[1;33m(\u001b[0m\u001b[0mit\u001b[0m\u001b[1;33m)\u001b[0m\u001b[1;33m\u001b[0m\u001b[1;33m\u001b[0m\u001b[0m\n\u001b[0m\u001b[0;32m    317\u001b[0m     \u001b[1;32mexcept\u001b[0m \u001b[0mStopIteration\u001b[0m\u001b[1;33m:\u001b[0m\u001b[1;33m\u001b[0m\u001b[1;33m\u001b[0m\u001b[0m\n\u001b[0;32m    318\u001b[0m         \u001b[1;32mreturn\u001b[0m\u001b[1;33m\u001b[0m\u001b[1;33m\u001b[0m\u001b[0m\n",
      "\u001b[1;32m~\\anaconda3\\lib\\site-packages\\nltk\\tokenize\\punkt.py\u001b[0m in \u001b[0;36m_slices_from_text\u001b[1;34m(self, text)\u001b[0m\n\u001b[0;32m   1330\u001b[0m     \u001b[1;32mdef\u001b[0m \u001b[0m_slices_from_text\u001b[0m\u001b[1;33m(\u001b[0m\u001b[0mself\u001b[0m\u001b[1;33m,\u001b[0m \u001b[0mtext\u001b[0m\u001b[1;33m)\u001b[0m\u001b[1;33m:\u001b[0m\u001b[1;33m\u001b[0m\u001b[1;33m\u001b[0m\u001b[0m\n\u001b[0;32m   1331\u001b[0m         \u001b[0mlast_break\u001b[0m \u001b[1;33m=\u001b[0m \u001b[1;36m0\u001b[0m\u001b[1;33m\u001b[0m\u001b[1;33m\u001b[0m\u001b[0m\n\u001b[1;32m-> 1332\u001b[1;33m         \u001b[1;32mfor\u001b[0m \u001b[0mmatch\u001b[0m \u001b[1;32min\u001b[0m \u001b[0mself\u001b[0m\u001b[1;33m.\u001b[0m\u001b[0m_lang_vars\u001b[0m\u001b[1;33m.\u001b[0m\u001b[0mperiod_context_re\u001b[0m\u001b[1;33m(\u001b[0m\u001b[1;33m)\u001b[0m\u001b[1;33m.\u001b[0m\u001b[0mfinditer\u001b[0m\u001b[1;33m(\u001b[0m\u001b[0mtext\u001b[0m\u001b[1;33m)\u001b[0m\u001b[1;33m:\u001b[0m\u001b[1;33m\u001b[0m\u001b[1;33m\u001b[0m\u001b[0m\n\u001b[0m\u001b[0;32m   1333\u001b[0m             \u001b[0mcontext\u001b[0m \u001b[1;33m=\u001b[0m \u001b[0mmatch\u001b[0m\u001b[1;33m.\u001b[0m\u001b[0mgroup\u001b[0m\u001b[1;33m(\u001b[0m\u001b[1;33m)\u001b[0m \u001b[1;33m+\u001b[0m \u001b[0mmatch\u001b[0m\u001b[1;33m.\u001b[0m\u001b[0mgroup\u001b[0m\u001b[1;33m(\u001b[0m\u001b[1;34m\"after_tok\"\u001b[0m\u001b[1;33m)\u001b[0m\u001b[1;33m\u001b[0m\u001b[1;33m\u001b[0m\u001b[0m\n\u001b[0;32m   1334\u001b[0m             \u001b[1;32mif\u001b[0m \u001b[0mself\u001b[0m\u001b[1;33m.\u001b[0m\u001b[0mtext_contains_sentbreak\u001b[0m\u001b[1;33m(\u001b[0m\u001b[0mcontext\u001b[0m\u001b[1;33m)\u001b[0m\u001b[1;33m:\u001b[0m\u001b[1;33m\u001b[0m\u001b[1;33m\u001b[0m\u001b[0m\n",
      "\u001b[1;31mTypeError\u001b[0m: expected string or bytes-like object"
     ]
    }
   ],
   "source": [
    "data = word_tokenize(partial_speech)\n",
    "fdist=FreqDist(data)\n",
    "print(fdist)\n",
    "print(fdist.most_common(100))"
   ]
  },
  {
   "cell_type": "code",
   "execution_count": 25,
   "id": "0b3b9d62",
   "metadata": {
    "ExecuteTime": {
     "end_time": "2021-08-13T14:40:46.380872Z",
     "start_time": "2021-08-13T14:40:46.361880Z"
    }
   },
   "outputs": [],
   "source": [
    "stop_words = list(set(stopwords.words('english')))"
   ]
  },
  {
   "cell_type": "code",
   "execution_count": 64,
   "id": "908d30e2",
   "metadata": {
    "ExecuteTime": {
     "end_time": "2021-08-13T15:38:48.704296Z",
     "start_time": "2021-08-13T15:38:48.690305Z"
    }
   },
   "outputs": [
    {
     "name": "stdout",
     "output_type": "stream",
     "text": [
      "Number of words before removing stop words:266\n",
      "Number of words after removing stop words:155\n",
      "[['They', 'send', 'arms', 'agitators', 'aid', 'technicians', 'propaganda', 'every', 'troubled', 'area'], ['But', 'fighting', 'required', 'usually', 'done', 'othersby', 'guerrillas', 'striking', 'night', 'assassins', 'striking', 'aloneassassins', 'taken', 'lives', 'four', 'thousand', 'civil', 'officers', 'last', 'twelve', 'months', 'Vietnam', 'aloneby', 'subversives', 'saboteurs', 'insurrectionists', 'cases', 'control', 'whole', 'areas', 'inside', 'independent', 'nations'], ['At', 'point', 'following', 'paragraph', 'appears', 'text', 'signed', 'transmitted', 'Senate', 'House', 'Representatives', 'omitted', 'reading', 'message', 'They', 'possess', 'powerful', 'intercontinental', 'striking', 'force', 'large', 'forces', 'conventional', 'war', 'welltrained', 'underground', 'nearly', 'every', 'country', 'power', 'conscript', 'talent', 'manpower', 'purpose', 'capacity', 'quick', 'decisions', 'closed', 'society', 'without', 'dissent', 'free', 'information', 'long', 'experience', 'techniques', 'violence', 'subversion'], ['They', 'make', 'scientific', 'successes', 'economic', 'progress', 'pose', 'foe', 'colonialism', 'friend', 'popular', 'revolution'], ['They', 'prey', 'unstable', 'unpopular', 'governments', 'unsealed', 'unknown', 'boundaries', 'unfilled', 'hopes', 'convulsive', 'change', 'massive', 'poverty', 'illiteracy', 'unrest', 'frustration'], ['With', 'formidable', 'weapons', 'adversaries', 'freedom', 'plan', 'consolidate', 'territoryto', 'exploit', 'control', 'finally', 'destroy', 'hopes', 'worlds', 'newest', 'nations', 'ambition', 'end', 'decade'], ['It', 'contest', 'purpose', 'well', 'force', 'violencea', 'battle', 'minds', 'souls', 'well', 'lives', 'territory'], ['And', 'contest', 'stand', 'aside']]\n"
     ]
    }
   ],
   "source": [
    "def remove_stopword(sentence):\n",
    "    return [w for w in sentence if not w in stop_words]\n",
    "\n",
    "filtered = [remove_stopword(s) for s in partial_speech_words]\n",
    "\n",
    "word_count = len([w for words in partial_speech_words for w in words])\n",
    "word_count2 = len([w for words in filtered for w in words])\n",
    "\n",
    "print(f'Number of words before removing stop words:{word_count}')\n",
    "print(f'Number of words after removing stop words:{word_count2}')\n",
    "print(filtered)"
   ]
  },
  {
   "cell_type": "code",
   "execution_count": 65,
   "id": "bafc3545",
   "metadata": {
    "ExecuteTime": {
     "end_time": "2021-08-13T15:45:05.449355Z",
     "start_time": "2021-08-13T15:45:05.275311Z"
    }
   },
   "outputs": [
    {
     "name": "stdout",
     "output_type": "stream",
     "text": [
      "[[('They', 'PRP'), ('send', 'VBP'), ('arms', 'NNS'), ('agitators', 'NNS'), ('aid', 'VBP'), ('technicians', 'NNS'), ('propaganda', 'VBP'), ('every', 'DT'), ('troubled', 'JJ'), ('area', 'NN')], [('But', 'CC'), ('fighting', 'VBG'), ('required', 'VBN'), ('usually', 'RB'), ('done', 'VBN'), ('othersby', 'JJ'), ('guerrillas', 'NNS'), ('striking', 'VBG'), ('night', 'NN'), ('assassins', 'NNS'), ('striking', 'VBG'), ('aloneassassins', 'NNS'), ('taken', 'VBN'), ('lives', 'VBZ'), ('four', 'CD'), ('thousand', 'NN'), ('civil', 'JJ'), ('officers', 'NNS'), ('last', 'JJ'), ('twelve', 'JJ'), ('months', 'NNS'), ('Vietnam', 'NNP'), ('aloneby', 'VBZ'), ('subversives', 'NNS'), ('saboteurs', 'JJ'), ('insurrectionists', 'NNS'), ('cases', 'NNS'), ('control', 'VBP'), ('whole', 'JJ'), ('areas', 'NNS'), ('inside', 'IN'), ('independent', 'JJ'), ('nations', 'NNS')], [('At', 'IN'), ('point', 'NN'), ('following', 'VBG'), ('paragraph', 'NN'), ('appears', 'VBZ'), ('text', 'JJ'), ('signed', 'VBN'), ('transmitted', 'JJ'), ('Senate', 'NNP'), ('House', 'NNP'), ('Representatives', 'VBZ'), ('omitted', 'VBN'), ('reading', 'VBG'), ('message', 'NN'), ('They', 'PRP'), ('possess', 'VBP'), ('powerful', 'JJ'), ('intercontinental', 'JJ'), ('striking', 'VBG'), ('force', 'NN'), ('large', 'JJ'), ('forces', 'NNS'), ('conventional', 'JJ'), ('war', 'NN'), ('welltrained', 'VBD'), ('underground', 'JJ'), ('nearly', 'RB'), ('every', 'DT'), ('country', 'NN'), ('power', 'NN'), ('conscript', 'NN'), ('talent', 'NN'), ('manpower', 'NN'), ('purpose', 'NN'), ('capacity', 'NN'), ('quick', 'VBP'), ('decisions', 'NNS'), ('closed', 'VBD'), ('society', 'NN'), ('without', 'IN'), ('dissent', 'JJ'), ('free', 'JJ'), ('information', 'NN'), ('long', 'JJ'), ('experience', 'NN'), ('techniques', 'NNS'), ('violence', 'NN'), ('subversion', 'NN')], [('They', 'PRP'), ('make', 'VBP'), ('scientific', 'JJ'), ('successes', 'NNS'), ('economic', 'JJ'), ('progress', 'NN'), ('pose', 'NN'), ('foe', 'JJ'), ('colonialism', 'NN'), ('friend', 'NN'), ('popular', 'JJ'), ('revolution', 'NN')], [('They', 'PRP'), ('prey', 'VBP'), ('unstable', 'JJ'), ('unpopular', 'JJ'), ('governments', 'NNS'), ('unsealed', 'VBD'), ('unknown', 'JJ'), ('boundaries', 'NNS'), ('unfilled', 'VBD'), ('hopes', 'NNS'), ('convulsive', 'JJ'), ('change', 'NN'), ('massive', 'JJ'), ('poverty', 'NN'), ('illiteracy', 'NN'), ('unrest', 'JJS'), ('frustration', 'NN')], [('With', 'IN'), ('formidable', 'JJ'), ('weapons', 'NNS'), ('adversaries', 'NNS'), ('freedom', 'VBP'), ('plan', 'NN'), ('consolidate', 'VBP'), ('territoryto', 'JJ'), ('exploit', 'NNS'), ('control', 'NN'), ('finally', 'RB'), ('destroy', 'JJ'), ('hopes', 'NNS'), ('worlds', 'NNS'), ('newest', 'JJS'), ('nations', 'NNS'), ('ambition', 'VBP'), ('end', 'NN'), ('decade', 'NN')], [('It', 'PRP'), ('contest', 'JJS'), ('purpose', 'RB'), ('well', 'RB'), ('force', 'VB'), ('violencea', 'JJ'), ('battle', 'NN'), ('minds', 'NNS'), ('souls', 'VBP'), ('well', 'RB'), ('lives', 'VBZ'), ('territory', 'NN')], [('And', 'CC'), ('contest', 'NN'), ('stand', 'NN'), ('aside', 'RB')]]\n"
     ]
    }
   ],
   "source": [
    "pos = [nltk.pos_tag(tokenized_sent)for tokenized_sent in filtered  ]\n",
    "print(pos)"
   ]
  },
  {
   "cell_type": "code",
   "execution_count": 83,
   "id": "0271f6b5",
   "metadata": {
    "ExecuteTime": {
     "end_time": "2021-08-13T15:58:02.125044Z",
     "start_time": "2021-08-13T15:58:02.116049Z"
    }
   },
   "outputs": [],
   "source": [
    "from nltk.probability import FreqDist\n",
    "\n",
    "fdist = FreqDist(word for word in word_tokenize(sentence))"
   ]
  },
  {
   "cell_type": "code",
   "execution_count": 84,
   "id": "66f00d74",
   "metadata": {
    "ExecuteTime": {
     "end_time": "2021-08-13T15:58:03.095182Z",
     "start_time": "2021-08-13T15:58:03.074198Z"
    }
   },
   "outputs": [
    {
     "data": {
      "text/plain": [
       "FreqDist({'And': 1, 'in': 1, 'that': 1, 'contest': 1, 'we': 1, 'can': 1, 'not': 1, 'stand': 1, 'aside': 1})"
      ]
     },
     "execution_count": 84,
     "metadata": {},
     "output_type": "execute_result"
    }
   ],
   "source": [
    "fdist"
   ]
  },
  {
   "cell_type": "code",
   "execution_count": null,
   "id": "8386060d",
   "metadata": {},
   "outputs": [],
   "source": []
  },
  {
   "cell_type": "code",
   "execution_count": 85,
   "id": "9b617380",
   "metadata": {
    "ExecuteTime": {
     "end_time": "2021-08-13T16:00:24.390877Z",
     "start_time": "2021-08-13T16:00:24.384885Z"
    }
   },
   "outputs": [],
   "source": [
    "import nltk\n",
    "from nltk.corpus import state_union\n",
    "text= state_union.raw('1961-Kennedy.txt')"
   ]
  },
  {
   "cell_type": "code",
   "execution_count": 86,
   "id": "b0a6e663",
   "metadata": {
    "ExecuteTime": {
     "end_time": "2021-08-13T16:00:25.267914Z",
     "start_time": "2021-08-13T16:00:25.248906Z"
    }
   },
   "outputs": [],
   "source": [
    "from nltk.tokenize import word_tokenize, sent_tokenize\n",
    "from nltk.text import Text\n",
    "from nltk.corpus import stopwords\n",
    "import string, re"
   ]
  },
  {
   "cell_type": "code",
   "execution_count": 87,
   "id": "9ad00d21",
   "metadata": {
    "ExecuteTime": {
     "end_time": "2021-08-13T16:00:25.817848Z",
     "start_time": "2021-08-13T16:00:25.793863Z"
    }
   },
   "outputs": [],
   "source": [
    "sentences = sent_tokenize(text)"
   ]
  },
  {
   "cell_type": "code",
   "execution_count": 88,
   "id": "63d0a7ec",
   "metadata": {
    "ExecuteTime": {
     "end_time": "2021-08-13T16:00:26.289921Z",
     "start_time": "2021-08-13T16:00:26.272933Z"
    }
   },
   "outputs": [],
   "source": [
    "def remove_punctuation(sentence):\n",
    "    sentence =re.sub(r'[^\\w\\s]','',sentence)\n",
    "    return sentence"
   ]
  },
  {
   "cell_type": "code",
   "execution_count": 89,
   "id": "1e69a0cb",
   "metadata": {
    "ExecuteTime": {
     "end_time": "2021-08-13T16:00:26.856808Z",
     "start_time": "2021-08-13T16:00:26.769864Z"
    }
   },
   "outputs": [],
   "source": [
    "cleaned_sent= [remove_punctuation(sentence) for sentence in sentences]\n",
    "\n",
    "cleaned_sent_words=[word_tokenize(sentence) for sentence in cleaned_sent]"
   ]
  },
  {
   "cell_type": "code",
   "execution_count": null,
   "id": "fd89f65a",
   "metadata": {},
   "outputs": [],
   "source": []
  },
  {
   "cell_type": "code",
   "execution_count": 90,
   "id": "f236f172",
   "metadata": {
    "ExecuteTime": {
     "end_time": "2021-08-13T16:00:56.869460Z",
     "start_time": "2021-08-13T16:00:56.849493Z"
    }
   },
   "outputs": [],
   "source": [
    "stop_words = list(set(stopwords.words('english')))"
   ]
  },
  {
   "cell_type": "code",
   "execution_count": 91,
   "id": "c758a017",
   "metadata": {
    "ExecuteTime": {
     "end_time": "2021-08-13T16:01:34.735091Z",
     "start_time": "2021-08-13T16:01:34.690120Z"
    }
   },
   "outputs": [
    {
     "name": "stdout",
     "output_type": "stream",
     "text": [
      "Number of words before removing stop words:5804\n",
      "Number of words after removing stop words:3188\n",
      "[['PRESIDENT', 'JOHN', 'F', 'KENNEDYS', 'SPECIAL', 'MESSAGE', 'TO', 'THE', 'CONGRESS', 'ON', 'URGENT', 'NATIONAL', 'NEEDS', 'May', '25', '1961', 'Mr', 'Speaker', 'Mr', 'Vice', 'President', 'copartners', 'Government', 'gentlemenand', 'ladies', 'The', 'Constitution', 'imposes', 'upon', 'obligation', 'time', 'time', 'give', 'Congress', 'information', 'State', 'Union'], ['While', 'traditionally', 'interpreted', 'annual', 'affair', 'tradition', 'broken', 'extraordinary', 'times'], ['These', 'extraordinary', 'times'], ['And', 'face', 'extraordinary', 'challenge'], ['Our', 'strength', 'well', 'convictions', 'imposed', 'upon', 'nation', 'role', 'leader', 'freedoms', 'cause'], ['No', 'role', 'history', 'could', 'difficult', 'important'], ['We', 'stand', 'freedom'], ['That', 'conviction', 'ourselvesthat', 'commitment', 'others'], ['No', 'friend', 'neutral', 'adversary', 'think', 'otherwise'], ['We', 'manor', 'nationor', 'systemexcept', 'hostile', 'freedom'], ['Nor', 'I', 'present', 'new', 'military', 'doctrine', 'bearing', 'one', 'name', 'aimed', 'one', 'area'], ['I', 'promote', 'freedom', 'doctrine'], ['I'], ['The', 'great', 'battleground', 'defense', 'expansion', 'freedom', 'today', 'whole', 'southern', 'half', 'globeAsia', 'Latin', 'America', 'Africa', 'Middle', 'Eastthe', 'lands', 'rising', 'peoples'], ['Their', 'revolution', 'greatest', 'human', 'history'], ['They', 'seek', 'end', 'injustice', 'tyranny', 'exploitation'], ['More', 'end', 'seek', 'beginning'], ['And', 'revolution', 'would', 'support', 'regardless', 'Cold', 'War', 'regardless', 'political', 'economic', 'route', 'choose', 'freedom'], ['For', 'adversaries', 'freedom', 'create', 'revolution', 'create', 'conditions', 'compel'], ['But', 'seeking', 'ride', 'crest', 'waveto', 'capture'], ['Yet', 'aggression', 'often', 'concealed', 'open'], ['They', 'fired', 'missiles', 'troops', 'seldom', 'seen'], ['They', 'send', 'arms', 'agitators', 'aid', 'technicians', 'propaganda', 'every', 'troubled', 'area'], ['But', 'fighting', 'required', 'usually', 'done', 'othersby', 'guerrillas', 'striking', 'night', 'assassins', 'striking', 'aloneassassins', 'taken', 'lives', 'four', 'thousand', 'civil', 'officers', 'last', 'twelve', 'months', 'Vietnam', 'aloneby', 'subversives', 'saboteurs', 'insurrectionists', 'cases', 'control', 'whole', 'areas', 'inside', 'independent', 'nations'], ['At', 'point', 'following', 'paragraph', 'appears', 'text', 'signed', 'transmitted', 'Senate', 'House', 'Representatives', 'omitted', 'reading', 'message', 'They', 'possess', 'powerful', 'intercontinental', 'striking', 'force', 'large', 'forces', 'conventional', 'war', 'welltrained', 'underground', 'nearly', 'every', 'country', 'power', 'conscript', 'talent', 'manpower', 'purpose', 'capacity', 'quick', 'decisions', 'closed', 'society', 'without', 'dissent', 'free', 'information', 'long', 'experience', 'techniques', 'violence', 'subversion'], ['They', 'make', 'scientific', 'successes', 'economic', 'progress', 'pose', 'foe', 'colonialism', 'friend', 'popular', 'revolution'], ['They', 'prey', 'unstable', 'unpopular', 'governments', 'unsealed', 'unknown', 'boundaries', 'unfilled', 'hopes', 'convulsive', 'change', 'massive', 'poverty', 'illiteracy', 'unrest', 'frustration'], ['With', 'formidable', 'weapons', 'adversaries', 'freedom', 'plan', 'consolidate', 'territoryto', 'exploit', 'control', 'finally', 'destroy', 'hopes', 'worlds', 'newest', 'nations', 'ambition', 'end', 'decade'], ['It', 'contest', 'purpose', 'well', 'force', 'violencea', 'battle', 'minds', 'souls', 'well', 'lives', 'territory'], ['And', 'contest', 'stand', 'aside'], ['We', 'stand', 'always', 'stood', 'earliest', 'beginnings', 'independence', 'equality', 'nations'], ['This', 'nation', 'born', 'revolution', 'raised', 'freedom'], ['And', 'intend', 'leave', 'open', 'road', 'despotism'], ['There', 'single', 'simple', 'policy', 'meets', 'challenge'], ['Experience', 'taught', 'us', 'one', 'nation', 'power', 'wisdom', 'solve', 'problems', 'world', 'manage', 'revolutionary', 'tidesthat', 'extending', 'commitments', 'always', 'increase', 'securitythat', 'initiative', 'carries', 'risk', 'temporary', 'defeatthat', 'nuclear', 'weapons', 'prevent', 'subversionthat', 'free', 'people', 'kept', 'free', 'without', 'energy', 'ownand', 'two', 'nations', 'situations', 'exactly', 'alike'], ['Yet', 'much', 'doand', 'must'], ['The', 'proposals', 'I', 'bring', 'numerous', 'varied'], ['They', 'arise', 'host', 'special', 'opportunities', 'dangers', 'become', 'increasingly', 'clear', 'recent', 'months'], ['Taken', 'together', 'I', 'believe', 'mark', 'another', 'step', 'forward', 'effort', 'people'], ['I', 'ask', 'help', 'Congress', 'nation', 'approving', 'necessary', 'measures'], ['II'], ['ECONOMIC', 'AND', 'SOCIAL', 'PROGRESS', 'AT', 'HOME', 'The', 'first', 'basic', 'task', 'confronting', 'nation', 'year', 'turn', 'recession', 'recovery'], ['An', 'affirmative', 'antirecession', 'program', 'initiated', 'cooperation', 'supported', 'natural', 'forces', 'private', 'sector', 'economy', 'enjoying', 'renewed', 'confidence', 'energy'], ['The', 'recession', 'halted'], ['Recovery', 'way'], ['But', 'task', 'abating', 'unemployment', 'achieving', 'full', 'use', 'resources', 'remain', 'serious', 'challenge', 'us'], ['Largescale', 'unemployment', 'recession', 'bad', 'enough', 'largescale', 'unemployment', 'period', 'prosperity', 'would', 'intolerable'], ['I', 'therefore', 'transmitting', 'Congress', 'new', 'Manpower', 'Development', 'Training', 'program', 'train', 'retrain', 'several', 'hundred', 'thousand', 'workers', 'particularly', 'areas', 'seen', 'chronic', 'unemployment', 'result', 'technological', 'factors', 'new', 'occupational', 'skills', 'fouryear', 'period', 'order', 'replace', 'skills', 'made', 'obsolete', 'automation', 'industrial', 'change', 'new', 'skills', 'new', 'processes', 'demand'], ['It', 'satisfaction', 'us', 'made', 'great', 'strides', 'restoring', 'world', 'confidence', 'dollar', 'halting', 'outflow', 'gold', 'improving', 'balance', 'payments'], ['During', 'last', 'two', 'months', 'gold', 'stocks', 'actually', 'increased', 'seventeen', 'million', 'dollars', 'compared', 'loss', '635', 'million', 'dollars', 'last', 'two', 'months', '1960'], ['We', 'must', 'maintain', 'progressand', 'require', 'cooperation', 'restraint', 'everyone'], ['As', 'recovery', 'progresses', 'temptations', 'seek', 'unjustified', 'price', 'wage', 'increases'], ['These', 'afford'], ['They', 'handicap', 'efforts', 'compete', 'abroad', 'achieve', 'full', 'recovery', 'home'], ['Labor', 'management', 'mustand', 'I', 'confident', 'willpursue', 'responsible', 'wage', 'price', 'policies', 'critical', 'times'], ['I', 'look', 'Presidents', 'Advisory', 'Committee', 'Labor', 'Management', 'Policy', 'give', 'strong', 'lead', 'direction'], ['Moreover', 'budget', 'deficit', 'increased', 'needs', 'security', 'held', 'within', 'manageable', 'proportions', 'necessary', 'hold', 'tightly', 'prudent', 'fiscal', 'standards', 'I', 'request', 'cooperation', 'Congress', 'regardto', 'refrain', 'adding', 'funds', 'programs', 'desirable', 'may', 'Budgetto', 'end', 'postal', 'deficit', 'predecessor', 'also', 'recommended', 'increased', 'ratesa', 'deficit', 'incidentally', 'year', 'exceeds', 'fiscal', '1962', 'cost', 'space', 'defense', 'measures', 'I', 'submitting', 'todayto', 'provide', 'full', 'payasyougo', 'highway', 'financingand', 'close', 'tax', 'loopholes', 'earlier', 'specified'], ['Our', 'security', 'progress', 'cheaply', 'purchased', 'price', 'must', 'found', 'forego', 'well', 'must', 'pay'], ['III'], ['ECONOMIC', 'AND', 'SOCIAL', 'PROGRESS', 'ABROAD', 'I', 'stress', 'strength', 'economy', 'essential', 'strength', 'nation'], ['And', 'true', 'case', 'true', 'case', 'countries'], ['Their', 'strength', 'struggle', 'freedom', 'depends', 'strength', 'economic', 'social', 'progress'], ['We', 'would', 'badly', 'mistaken', 'consider', 'problems', 'military', 'terms', 'alone'], ['For', 'amount', 'arms', 'armies', 'help', 'stabilize', 'governments', 'unable', 'unwilling', 'achieve', 'social', 'economic', 'reform', 'development'], ['Military', 'pacts', 'help', 'nations', 'whose', 'social', 'injustice', 'economic', 'chaos', 'invite', 'insurgency', 'penetration', 'subversion'], ['The', 'skillful', 'counterguerrilla', 'efforts', 'succeed', 'local', 'population', 'caught', 'misery', 'concerned', 'advance', 'communism'], ['But', 'share', 'view', 'stand', 'ready', 'past', 'provide', 'generously', 'skills', 'capital', 'food', 'assist', 'peoples', 'lessdeveloped', 'nations', 'reach', 'goals', 'freedomto', 'help', 'engulfed', 'crisis'], ['This', 'also', 'great', 'opportunity', '1961'], ['If', 'grasp', 'subversion', 'prevent', 'success', 'exposed', 'unjustifiable', 'attempt', 'keep', 'nations', 'either', 'free', 'equal'], ['But', 'pursue', 'pursue', 'bankruptcy', 'unstable', 'governments', 'one', 'one', 'unfilled', 'hopes', 'surely', 'lead', 'series', 'totalitarian', 'receiverships'], ['Earlier', 'year', 'I', 'outlined', 'Congress', 'new', 'program', 'aiding', 'emerging', 'nations', 'intention', 'transmit', 'shortly', 'draft', 'legislation', 'implement', 'program', 'establish', 'new', 'Act', 'International', 'Development', 'add', 'figures', 'previously', 'requested', 'view', 'swift', 'pace', 'critical', 'events', 'additional', '250', 'million', 'dollars', 'Presidential', 'Contingency', 'Fund', 'used', 'upon', 'Presidential', 'determination', 'case', 'regular', 'complete', 'reports', 'Congress', 'case', 'sudden', 'extraordinary', 'drain', 'upon', 'regular', 'funds', 'foreseeas', 'illustrated', 'recent', 'events', 'Southeast', 'Asiaand', 'makes', 'necessary', 'use', 'emergency', 'reserve'], ['The', 'total', 'amount', 'requestednow', 'raised', '265', 'billion', 'dollarsis', 'minimal', 'crucial'], ['I', 'see', 'anyone', 'concernedas', 'areabout', 'growing', 'threats', 'freedom', 'around', 'globeand', 'asking', 'peoplecan', 'weaken', 'oppose', 'single', 'important', 'program', 'available', 'building', 'frontiers', 'freedom'], ['IV'], ['All', 'I', 'said', 'makes', 'clear', 'engaged', 'worldwide', 'struggle', 'bear', 'heavy', 'burden', 'preserve', 'promote', 'ideals', 'share', 'mankind', 'alien', 'ideals', 'forced', 'upon'], ['That', 'struggle', 'highlighted', 'role', 'Information', 'Agency'], ['It', 'essential', 'funds', 'previously', 'requested', 'effort', 'approved', 'full', 'increased', '2', 'million', '400', 'thousand', 'dollars', 'total', '121', 'million', 'dollars'], ['This', 'new', 'request', 'additional', 'radio', 'television', 'Latin', 'America', 'Southeast', 'Asia'], ['These', 'tools', 'particularly', 'effective', 'essential', 'cities', 'villages', 'great', 'continents', 'means', 'reaching', 'millions', 'uncertain', 'peoples', 'tell', 'interest', 'fight', 'freedom'], ['In', 'Latin', 'America', 'proposing', 'increase', 'Spanish', 'Portuguese', 'broadcasts', 'total', '154', 'hours', 'week', 'compared', '42', 'hours', 'today', 'none', 'Portuguese', 'language', 'onethird', 'people', 'South', 'America'], ['The', 'Soviets', 'Red', 'Chinese', 'satellites', 'already', 'broadcast', 'Latin', 'America', '134', 'hours', 'week', 'Spanish', 'Portuguese'], ['Communist', 'China', 'alone', 'public', 'information', 'broadcasting', 'hemisphere'], ['Moreover', 'powerful', 'propaganda', 'broadcasts', 'Havana', 'heard', 'throughout', 'Latin', 'America', 'encouraging', 'new', 'revolutions', 'several', 'countries'], ['Similarly', 'Laos', 'Vietnam', 'Cambodia', 'Thailand', 'must', 'communicate', 'determination', 'support', 'upon', 'hopes', 'resisting', 'communist', 'tide', 'continent', 'ultimately', 'depend'], ['Our', 'interest', 'truth'], ['V', 'OUR', 'PARTNERSHIP', 'FOR', 'SELFDEFENSE', 'But', 'talk', 'sharing', 'building', 'competition', 'ideas', 'others', 'talk', 'arms', 'threaten', 'war'], ['So', 'learned', 'keep', 'defenses', 'strongand', 'cooperate', 'others', 'partnership', 'selfdefense'], ['The', 'events', 'recent', 'weeks', 'caused', 'us', 'look', 'anew', 'efforts'], ['The', 'center', 'freedoms', 'defense', 'network', 'world', 'alliances', 'extending', 'NATO', 'recommended', 'Democratic', 'President', 'approved', 'Republican', 'Congress', 'SEATO', 'recommended', 'Republican', 'President', 'approved', 'Democratic', 'Congress'], ['These', 'alliances', 'constructed', '1940s', '1950sit', 'task', 'responsibility', '1960s', 'strengthen'], ['To', 'meet', 'changing', 'conditions', 'powerand', 'power', 'relationships', 'changedwe', 'endorsed', 'increased', 'emphasis', 'NATOs', 'conventional', 'strength'], ['At', 'time', 'affirming', 'conviction', 'NATO', 'nuclear', 'deterrent', 'must', 'also', 'kept', 'strong'], ['I', 'made', 'clear', 'intention', 'commit', 'NATO', 'command', 'purpose', '5', 'Polaris', 'submarines', 'originally', 'suggested', 'President', 'Eisenhower', 'possibility', 'needed', 'come'], ['Second', 'major', 'part', 'partnership', 'selfdefense', 'Military', 'Assistance', 'Program'], ['The', 'main', 'burden', 'local', 'defense', 'local', 'attack', 'subversion', 'insurrection', 'guerrilla', 'warfare', 'must', 'necessity', 'rest', 'local', 'forces'], ['Where', 'forces', 'necessary', 'capacity', 'cope', 'threats', 'intervention', 'rarely', 'necessary', 'helpful'], ['Where', 'present', 'capacity', 'lacking', 'Military', 'Assistance', 'Program', 'help'], ['But', 'program', 'like', 'economic', 'assistance', 'needs', 'new', 'emphasis'], ['It', 'extended', 'without', 'regard', 'social', 'political', 'military', 'reforms', 'essential', 'internal', 'respect', 'stability'], ['The', 'equipment', 'training', 'provided', 'must', 'tailored', 'legitimate', 'local', 'needs', 'foreign', 'military', 'policies', 'supply', 'military', 'stocks', 'local', 'leaders', 'desire', 'military', 'display'], ['And', 'military', 'assistance', 'addition', 'military', 'purposes', 'make', 'contribution', 'economic', 'progress', 'Army', 'Engineers'], ['In', 'earlier', 'message', 'I', 'requested', '16', 'billion', 'dollars', 'Military', 'Assistance', 'stating', 'would', 'maintain', 'existing', 'force', 'levels', 'I', 'could', 'foresee', 'much', 'might', 'required'], ['It', 'clear', 'enough'], ['The', 'present', 'crisis', 'Southeast', 'Asia', 'Vice', 'President', 'made', 'valuable', 'reportthe', 'rising', 'threat', 'communism', 'Latin', 'Americathe', 'increased', 'arms', 'traffic', 'Africaand', 'new', 'pressures', 'every', 'nation', 'found', 'map', 'tracing', 'fingers', 'along', 'borders', 'Communist', 'bloc', 'Asia', 'Middle', 'Eastall', 'make', 'clear', 'dimension', 'needs'], ['I', 'therefore', 'request', 'Congress', 'provide', 'total', '1885', 'billion', 'dollars', 'Military', 'Assistance', 'coming', 'fiscal', 'yearan', 'amount', 'less', 'requested', 'year', 'agobut', 'minimum', 'must', 'assured', 'help', 'nations', 'make', 'secure', 'independence'], ['This', 'must', 'prudently', 'wisely', 'spentand', 'common', 'endeavor'], ['Military', 'economic', 'assistance', 'heavy', 'burden', 'citizens', 'long', 'time', 'I', 'recognize', 'strong', 'pressures', 'battle', 'far', 'reaching', 'crucial', 'stage', 'I', 'believe', 'participate'], ['We', 'merely', 'state', 'opposition', 'totalitarian', 'advance', 'without', 'paying', 'price', 'helping', 'greatest', 'pressure'], ['VI'], ['OUR', 'OWN', 'MILITARY', 'AND', 'INTELLIGENCE', 'SHIELD', 'In', 'line', 'developments', 'I', 'directed', 'reinforcement', 'capacity', 'deter', 'resist', 'nonnuclear', 'aggression'], ['In', 'conventional', 'field', 'one', 'exception', 'I', 'find', 'present', 'need', 'large', 'new', 'levies', 'men'], ['What', 'needed', 'rather', 'change', 'position', 'give', 'us', 'still', 'increases', 'flexibility'], ['Therefore', 'I', 'directing', 'Secretary', 'Defense', 'undertake', 'reorganization', 'modernization', 'Armys', 'divisional', 'structure', 'increase', 'nonnuclear', 'firepower', 'improve', 'tactical', 'mobility', 'environment', 'insure', 'flexibility', 'meet', 'direct', 'indirect', 'threat', 'facilitate', 'coordination', 'major', 'allies', 'provide', 'modern', 'mechanized', 'divisions', 'Europe', 'bring', 'equipment', 'date', 'new', 'airborne', 'brigades', 'Pacific', 'Europe'], ['And', 'secondly', 'I', 'asking', 'Congress', 'additional', '100', 'million', 'dollars', 'begin', 'procurement', 'task', 'necessary', 'reequip', 'new', 'Army', 'structure', 'modern', 'material'], ['New', 'helicopters', 'new', 'armored', 'personnel', 'carriers', 'new', 'howitzers', 'example', 'must', 'obtained'], ['Third', 'I', 'directing', 'Secretary', 'Defense', 'expand', 'rapidly', 'substantially', 'cooperation', 'Allies', 'orientation', 'existing', 'forces', 'conduct', 'nonnuclear', 'war', 'paramilitary', 'operations', 'sublimited', 'unconventional', 'wars'], ['In', 'addition', 'special', 'forces', 'unconventional', 'warfare', 'units', 'increased', 'reoriented'], ['Throughout', 'services', 'new', 'emphasis', 'must', 'placed', 'special', 'skills', 'languages', 'required', 'work', 'local', 'populations'], ['Fourth', 'Army', 'developing', 'plans', 'make', 'possible', 'much', 'rapid', 'deployment', 'major', 'portion', 'highly', 'trained', 'reserve', 'forces'], ['When', 'plans', 'completed', 'reserve', 'strengthened', 'two', 'combatequipped', 'divisions', 'plus', 'supporting', 'forces', 'total', '89000', 'men', 'could', 'ready', 'emergency', 'operations', '3', 'weeks', 'notice2', 'divisions', '5', 'weeks', 'noticeand', 'six', 'additional', 'divisions', 'supporting', 'forces', 'making', 'total', '10', 'divisions', 'could', 'deployable', 'less', '8', 'weeks', 'notice'], ['In', 'short', 'new', 'plans', 'allow', 'us', 'almost', 'double', 'combat', 'power', 'Army', 'less', 'two', 'months', 'compared', 'nearly', 'nine', 'months', 'heretofore', 'required'], ['Fifth', 'enhance', 'already', 'formidable', 'ability', 'Marine', 'Corps', 'respond', 'limited', 'war', 'emergencies', 'I', 'asking', 'Congress', '60', 'million', 'dollars', 'increase', 'Marine', 'Corps', 'strength', '190000', 'men'], ['This', 'increase', 'initial', 'impact', 'staying', 'power', 'three', 'Marine', 'divisions', 'three', 'air', 'wings', 'provide', 'trained', 'nucleus', 'expansion', 'necessary', 'selfdefense'], ['Finally', 'cite', 'one', 'area', 'activities', 'legitimate', 'necessary', 'means', 'selfdefense', 'age', 'hidden', 'perils', 'whole', 'intelligence', 'effort', 'must', 'reviewed', 'coordination', 'elements', 'policy', 'assured'], ['The', 'Congress', 'American', 'people', 'entitled', 'know', 'institute', 'whatever', 'new', 'organization', 'policies', 'control', 'necessary'], ['VII'], ['CIVIL', 'DEFENSE', 'One', 'major', 'element', 'national', 'security', 'program', 'nation', 'never', 'squarely', 'faced', 'civil', 'defense'], ['This', 'problem', 'arises', 'present', 'trends', 'national', 'inaction', 'us', 'participated'], ['In', 'past', 'decade', 'intermittently', 'considered', 'variety', 'programs', 'never', 'adopted', 'consistent', 'policy'], ['Public', 'considerations', 'largely', 'characterized', 'apathy', 'indifference', 'skepticism', 'time', 'many', 'civil', 'defense', 'plans', 'farreaching', 'unrealistic', 'gained', 'essential', 'support'], ['This', 'Administration', 'looking', 'hard', 'exactly', 'civil', 'defense'], ['It', 'obtained', 'cheaply'], ['It', 'give', 'assurance', 'blast', 'protection', 'proof', 'surprise', 'attack', 'guaranteed', 'obsolescence', 'destruction'], ['And', 'deter', 'nuclear', 'attack'], ['We', 'deter', 'enemy', 'making', 'nuclear', 'attack', 'retaliatory', 'power', 'strong', 'invulnerable', 'knows', 'would', 'destroyed', 'response'], ['If', 'strength', 'civil', 'defense', 'needed', 'deter', 'attack'], ['If', 'ever', 'lack', 'civil', 'defense', 'would', 'adequate', 'substitute'], ['But', 'deterrent', 'concept', 'assumes', 'rational', 'calculations', 'rational', 'men'], ['And', 'history', 'planet', 'particularly', 'history', '20th', 'century', 'sufficient', 'remind', 'us', 'possibilities', 'irrational', 'attack', 'miscalculation', 'accidental', 'war', 'war', 'escalation', 'stakes', 'side', 'gradually', 'increase', 'point', 'maximum', 'danger', 'either', 'foreseen', 'deterred'], ['It', 'basis', 'civil', 'defense', 'readily', 'justifiableas', 'insurance', 'civilian', 'population', 'case', 'enemy', 'miscalculation'], ['It', 'insurance', 'trust', 'never', 'neededbut', 'insurance', 'could', 'never', 'forgive', 'foregoing', 'event', 'catastrophe'], ['Once', 'validity', 'concept', 'recognized', 'point', 'delaying', 'initiation', 'nationwide', 'longrange', 'program', 'identifying', 'present', 'fallout', 'shelter', 'capacity', 'providing', 'shelter', 'new', 'existing', 'structures'], ['Such', 'program', 'would', 'protect', 'millions', 'people', 'hazards', 'radioactive', 'fallout', 'event', 'largescale', 'nuclear', 'attack'], ['Effective', 'performance', 'entire', 'program', 'requires', 'new', 'legislative', 'authority', 'funds', 'also', 'sound', 'organizational', 'arrangements'], ['Therefore', 'authority', 'vested', 'Reorganization', 'Plan', 'No'], ['1', '1958', 'I', 'assigning', 'responsibility', 'program', 'top', 'civilian', 'authority', 'already', 'responsible', 'continental', 'defense', 'Secretary', 'Defense'], ['It', 'important', 'function', 'remain', 'civilian', 'nature', 'leadership', 'feature', 'changed'], ['The', 'Office', 'Civil', 'Defense', 'Mobilization', 'reconstituted', 'small', 'staff', 'agency', 'assist', 'coordination', 'functions'], ['To', 'accurately', 'describe', 'role', 'title', 'changed', 'Office', 'Emergency', 'Planning'], ['As', 'soon', 'newly', 'charged', 'responsibilities', 'prepared', 'new', 'authorization', 'appropriation', 'requests', 'requests', 'transmitted', 'Congress', 'much', 'strengthened', 'FederalState', 'civil', 'defense', 'program'], ['Such', 'program', 'provide', 'Federal', 'funds', 'identifying', 'fallout', 'shelter', 'capacity', 'existing', 'structures', 'include', 'appropriate', 'incorporation', 'shelter', 'Federal', 'buildings', 'new', 'requirements', 'shelter', 'buildings', 'constructed', 'Federal', 'assistance', 'matching', 'grants', 'incentives', 'constructing', 'shelter', 'State', 'local', 'private', 'buildings'], ['Federal', 'appropriations', 'civil', 'defense', 'fiscal', '1962', 'program', 'likelihood', 'triple', 'pending', 'budget', 'requests', 'increase', 'sharply', 'subsequent', 'years'], ['Financial', 'participation', 'also', 'required', 'State', 'local', 'governments', 'private', 'citizens'], ['But', 'insurance', 'costfree', 'every', 'American', 'citizen', 'community', 'must', 'decide', 'whether', 'form', 'survival', 'insurance', 'justifies', 'expenditure', 'effort', 'time', 'money'], ['For', 'I', 'convinced'], ['VIII'], ['DISARMAMENT', 'I', 'end', 'discussion', 'defense', 'armaments', 'without', 'emphasizing', 'strongest', 'hope', 'creation', 'orderly', 'world', 'disarmament', 'possible'], ['Our', 'aims', 'prepare', 'warthey', 'efforts', 'discourage', 'resist', 'adventures', 'others', 'could', 'end', 'war'], ['That', 'consistent', 'efforts', 'continue', 'press', 'properly', 'safeguarded', 'disarmament', 'measures'], ['At', 'Geneva', 'cooperation', 'United', 'Kingdom', 'put', 'forward', 'concrete', 'proposals', 'make', 'clear', 'wish', 'meet', 'Soviets', 'half', 'way', 'effective', 'nuclear', 'test', 'ban', 'treatythe', 'first', 'significant', 'essential', 'step', 'road', 'towards', 'disarmament'], ['Up', 'response', 'hoped', 'Mr', 'Dean', 'returned', 'last', 'night', 'Geneva', 'intend', 'go', 'last', 'mile', 'patience', 'secure', 'gain'], ['Meanwhile', 'determined', 'keep', 'disarmament', 'high', 'agendato', 'make', 'intensified', 'effort', 'develop', 'acceptable', 'political', 'technical', 'alternatives', 'present', 'arms', 'race'], ['To', 'end', 'I', 'shall', 'send', 'Congress', 'measure', 'establish', 'strengthened', 'enlarged', 'Disarmament', 'Agency'], ['IX'], ['SPACE', 'Finally', 'win', 'battle', 'going', 'around', 'world', 'freedom', 'tyranny', 'dramatic', 'achievements', 'space', 'occurred', 'recent', 'weeks', 'made', 'clear', 'us', 'Sputnik', '1957', 'impact', 'adventure', 'minds', 'men', 'everywhere', 'attempting', 'make', 'determination', 'road', 'take'], ['Since', 'early', 'term', 'efforts', 'space', 'review'], ['With', 'advice', 'Vice', 'President', 'Chairman', 'National', 'Space', 'Council', 'examined', 'strong', 'may', 'succeed', 'may'], ['Now', 'time', 'take', 'longer', 'stridestime', 'great', 'new', 'American', 'enterprisetime', 'nation', 'take', 'clearly', 'leading', 'role', 'space', 'achievement', 'many', 'ways', 'may', 'hold', 'key', 'future', 'earth'], ['I', 'believe', 'possess', 'resources', 'talents', 'necessary'], ['But', 'facts', 'matter', 'never', 'made', 'national', 'decisions', 'marshalled', 'national', 'resources', 'required', 'leadership'], ['We', 'never', 'specified', 'longrange', 'goals', 'urgent', 'time', 'schedule', 'managed', 'resources', 'time', 'insure', 'fulfillment'], ['Recognizing', 'head', 'start', 'obtained', 'Soviets', 'large', 'rocket', 'engines', 'gives', 'many', 'months', 'leadtime', 'recognizing', 'likelihood', 'exploit', 'lead', 'time', 'come', 'still', 'impressive', 'successes', 'nevertheless', 'required', 'make', 'new', 'efforts'], ['For', 'guarantee', 'shall', 'one', 'day', 'first', 'guarantee', 'failure', 'make', 'effort', 'make', 'us', 'last'], ['We', 'take', 'additional', 'risk', 'making', 'full', 'view', 'world', 'shown', 'feat', 'astronaut', 'Shepard', 'risk', 'enhances', 'stature', 'successful'], ['But', 'merely', 'race'], ['Space', 'open', 'us', 'eagerness', 'share', 'meaning', 'governed', 'efforts', 'others'], ['We', 'go', 'space', 'whatever', 'mankind', 'must', 'undertake', 'free', 'men', 'must', 'fully', 'share'], ['I', 'therefore', 'ask', 'Congress', 'beyond', 'increases', 'I', 'earlier', 'requested', 'space', 'activities', 'provide', 'funds', 'needed', 'meet', 'following', 'national', 'goals', 'First', 'I', 'believe', 'nation', 'commit', 'achieving', 'goal', 'decade', 'landing', 'man', 'moon', 'returning', 'safely', 'earth'], ['No', 'single', 'space', 'project', 'period', 'impressive', 'mankind', 'important', 'longrange', 'exploration', 'space', 'none', 'difficult', 'expensive', 'accomplish'], ['We', 'propose', 'accelerate', 'development', 'appropriate', 'lunar', 'space', 'craft'], ['We', 'propose', 'develop', 'alternate', 'liquid', 'solid', 'fuel', 'boosters', 'much', 'larger', 'developed', 'certain', 'superior'], ['We', 'propose', 'additional', 'funds', 'engine', 'development', 'unmanned', 'explorationsexplorations', 'particularly', 'important', 'one', 'purpose', 'nation', 'never', 'overlook', 'survival', 'man', 'first', 'makes', 'daring', 'flight'], ['But', 'real', 'sense', 'one', 'man', 'going', 'moonif', 'make', 'judgment', 'affirmatively', 'entire', 'nation'], ['For', 'us', 'must', 'work', 'put'], ['Secondly', 'additional', '23', 'million', 'dollars', 'together', '7', 'million', 'dollars', 'already', 'available', 'accelerate', 'development', 'Rover', 'nuclear', 'rocket'], ['This', 'gives', 'promise', 'day', 'providing', 'means', 'even', 'exciting', 'ambitious', 'exploration', 'space', 'perhaps', 'beyond', 'moon', 'perhaps', 'end', 'solar', 'system'], ['Third', 'additional', '50', 'million', 'dollars', 'make', 'present', 'leadership', 'accelerating', 'use', 'space', 'satellites', 'worldwide', 'communications'], ['Fourth', 'additional', '75', 'million', 'dollarsof', '53', 'million', 'dollars', 'Weather', 'Bureauwill', 'help', 'give', 'us', 'earliest', 'possible', 'time', 'satellite', 'system', 'worldwide', 'weather', 'observation'], ['Let', 'clearand', 'judgment', 'Members', 'Congress', 'must', 'finally', 'makelet', 'clear', 'I', 'asking', 'Congress', 'country', 'accept', 'firm', 'commitment', 'new', 'course', 'action', 'course', 'last', 'many', 'years', 'carry', 'heavy', 'costs', '531', 'million', 'dollars', 'fiscal', '62an', 'estimated', 'seven', 'nine', 'billion', 'dollars', 'additional', 'next', 'five', 'years'], ['If', 'go', 'half', 'way', 'reduce', 'sights', 'face', 'difficulty', 'judgment', 'would', 'better', 'go'], ['Now', 'choice', 'country', 'must', 'make', 'I', 'confident', 'leadership', 'Space', 'Committees', 'Congress', 'Appropriating', 'Committees', 'consider', 'matter', 'carefully'], ['It', 'important', 'decision', 'make', 'nation'], ['But', 'lived', 'last', 'four', 'years', 'seen', 'significance', 'space', 'adventures', 'space', 'one', 'predict', 'certainty', 'ultimate', 'meaning', 'mastery', 'space'], ['I', 'believe', 'go', 'moon'], ['But', 'I', 'think', 'every', 'citizen', 'country', 'well', 'Members', 'Congress', 'consider', 'matter', 'carefully', 'making', 'judgment', 'given', 'attention', 'many', 'weeks', 'months', 'heavy', 'burden', 'sense', 'agreeing', 'desiring', 'United', 'States', 'take', 'affirmative', 'position', 'outer', 'space', 'unless', 'prepared', 'work', 'bear', 'burdens', 'make', 'successful'], ['If', 'decide', 'today', 'year'], ['This', 'decision', 'demands', 'major', 'national', 'commitment', 'scientific', 'technical', 'manpower', 'materiel', 'facilities', 'possibility', 'diversion', 'important', 'activities', 'already', 'thinly', 'spread'], ['It', 'means', 'degree', 'dedication', 'organization', 'discipline', 'always', 'characterized', 'research', 'development', 'efforts'], ['It', 'means', 'afford', 'undue', 'work', 'stoppages', 'inflated', 'costs', 'material', 'talent', 'wasteful', 'interagency', 'rivalries', 'high', 'turnover', 'key', 'personnel'], ['New', 'objectives', 'new', 'money', 'solve', 'problems'], ['They', 'could', 'fact', 'aggravate', 'furtherunless', 'every', 'scientist', 'every', 'engineer', 'every', 'serviceman', 'every', 'technician', 'contractor', 'civil', 'servant', 'gives', 'personal', 'pledge', 'nation', 'move', 'forward', 'full', 'speed', 'freedom', 'exciting', 'adventure', 'space'], ['X'], ['CONCLUSION', 'In', 'conclusion', 'let', 'emphasize', 'one', 'point'], ['It', 'pleasure', 'President', 'United', 'States', 'I', 'sure', 'pleasure', 'predecessors', 'come', 'Congress', 'ask', 'new', 'appropriations', 'place', 'burdens', 'people'], ['I', 'came', 'conclusion', 'reluctance'], ['But', 'judgment', 'serious', 'time', 'life', 'country', 'life', 'freedom', 'around', 'globe', 'obligation', 'I', 'believe', 'President', 'United', 'States', 'least', 'make', 'recommendations', 'Members', 'Congress', 'reach', 'conclusions', 'judgment'], ['You', 'must', 'decide', 'I', 'decided', 'I', 'confident', 'whether', 'finally', 'decide', 'way', 'I', 'decided', 'judgmentas', 'judgmentis', 'reached', 'best', 'interests', 'country'], ['In', 'conclusion', 'let', 'emphasize', 'one', 'point', 'determined', 'nation', '1961', 'freedom', 'shall', 'survive', 'succeedand', 'whatever', 'peril', 'setbacks', 'large', 'advantages'], ['The', 'first', 'simple', 'fact', 'side', 'libertyand', 'since', 'beginning', 'history', 'particularly', 'since', 'end', 'Second', 'World', 'War', 'liberty', 'winning', 'globe'], ['A', 'second', 'real', 'asset', 'alone'], ['We', 'friends', 'allies', 'world', 'share', 'devotion', 'freedom'], ['May', 'I', 'cite', 'symbol', 'traditional', 'effective', 'friendship', 'great', 'ally', 'I', 'visitFrance'], ['I', 'look', 'forward', 'visit', 'France', 'discussion', 'great', 'Captain', 'Western', 'World', 'President', 'de', 'Gaulle', 'meeting', 'particular', 'significance', 'permitting', 'kind', 'close', 'ranging', 'consultation', 'strengthen', 'countries', 'serve', 'common', 'purposes', 'worldwide', 'peace', 'liberty'], ['Such', 'serious', 'conversations', 'require', 'pale', 'unanimitythey', 'rather', 'instruments', 'trust', 'understanding', 'long', 'road'], ['A', 'third', 'asset', 'desire', 'peace'], ['It', 'sincere', 'I', 'believe', 'world', 'knows'], ['We', 'proving', 'patience', 'test', 'ban', 'table', 'proving', 'UN', 'efforts', 'directed', 'maintaining', 'organizations', 'usefulness', 'protector', 'independence', 'small', 'nations'], ['In', 'instances', 'response', 'opponents', 'encouraging'], ['Yet', 'important', 'know', 'patience', 'bargaining', 'table', 'nearly', 'inexhaustible', 'though', 'credulity', 'limited', 'hopes', 'peace', 'unfailing', 'determination', 'protect', 'security', 'resolute'], ['For', 'reasons', 'I', 'long', 'thought', 'wise', 'meet', 'Soviet', 'Premier', 'personal', 'exchange', 'views'], ['A', 'meeting', 'Vienna', 'turned', 'convenient', 'us', 'Austrian', 'government', 'kindly', 'made', 'us', 'welcome'], ['No', 'formal', 'agenda', 'planned', 'negotiations', 'undertaken', 'make', 'clear', 'Americas', 'enduring', 'concern', 'peace', 'freedomthat', 'anxious', 'live', 'harmony', 'Russian', 'peoplethat', 'seek', 'conquests', 'satellites', 'richesthat', 'seek', 'day', 'nation', 'shall', 'lift', 'sword', 'nation', 'neither', 'shall', 'learn', 'war'], ['Finally', 'greatest', 'asset', 'struggle', 'American', 'peopletheir', 'willingness', 'pay', 'price', 'programsto', 'understand', 'accept', 'long', 'struggleto', 'share', 'resources', 'less', 'fortunate', 'peopleto', 'meet', 'tax', 'levels', 'close', 'tax', 'loopholes', 'I', 'requestedto', 'exercise', 'selfrestraint', 'instead', 'pushing', 'wages', 'prices', 'overproducing', 'certain', 'crops', 'spreading', 'military', 'secrets', 'urging', 'unessential', 'expenditures', 'improper', 'monopolies', 'harmful', 'work', 'stoppagesto', 'serve', 'Peace', 'Corps', 'Armed', 'Services', 'Federal', 'Civil', 'Service', 'Congressto', 'strive', 'excellence', 'schools', 'cities', 'physical', 'fitness', 'childrento', 'take', 'part', 'Civil', 'Defenseto', 'pay', 'higher', 'postal', 'rates', 'higher', 'payroll', 'taxes', 'higher', 'teachers', 'salaries', 'order', 'strengthen', 'societyto', 'show', 'friendship', 'students', 'visitors', 'lands', 'visit', 'us', 'go', 'back', 'many', 'cases', 'future', 'leaders', 'image', 'Americaand', 'I', 'want', 'image', 'I', 'know', 'affirmative', 'positiveand', 'finally', 'practice', 'democracy', 'home', 'States', 'races', 'respect', 'protect', 'Constitutional', 'rights', 'citizens'], ['I', 'asked', 'single', 'program', 'cause', 'one', 'Americans', 'inconvenience', 'hardship', 'sacrifice'], ['But', 'responded', 'Congress', 'responded', 'dutyand', 'I', 'feel', 'confident', 'asking', 'today', 'similar', 'response', 'new', 'larger', 'demands'], ['It', 'heartening', 'know', 'I', 'journey', 'abroad', 'country', 'united', 'commitment', 'freedom', 'ready', 'duty']]\n"
     ]
    }
   ],
   "source": [
    "def remove_stopword(sentence):\n",
    "    return [w for w in sentence if not w in stop_words]\n",
    "\n",
    "filtered = [remove_stopword(s) for s in cleaned_sent_words]\n",
    "\n",
    "word_count = len([w for words in cleaned_sent_words for w in words])\n",
    "word_count2 = len([w for words in filtered for w in words])\n",
    "\n",
    "print(f'Number of words before removing stop words:{word_count}')\n",
    "print(f'Number of words after removing stop words:{word_count2}')\n",
    "print(filtered)"
   ]
  },
  {
   "cell_type": "code",
   "execution_count": 92,
   "id": "54ff14fb",
   "metadata": {
    "ExecuteTime": {
     "end_time": "2021-08-13T16:02:11.016512Z",
     "start_time": "2021-08-13T16:02:11.008517Z"
    }
   },
   "outputs": [],
   "source": [
    "from nltk.probability import FreqDist\n",
    "\n",
    "fdist = FreqDist(word for word in word_tokenize(sentence))"
   ]
  },
  {
   "cell_type": "code",
   "execution_count": 93,
   "id": "3d6c3c48",
   "metadata": {
    "ExecuteTime": {
     "end_time": "2021-08-13T16:02:17.071401Z",
     "start_time": "2021-08-13T16:02:17.055410Z"
    }
   },
   "outputs": [
    {
     "data": {
      "text/plain": [
       "FreqDist({'And': 1, 'in': 1, 'that': 1, 'contest': 1, 'we': 1, 'can': 1, 'not': 1, 'stand': 1, 'aside': 1})"
      ]
     },
     "execution_count": 93,
     "metadata": {},
     "output_type": "execute_result"
    }
   ],
   "source": [
    "fdist"
   ]
  },
  {
   "cell_type": "code",
   "execution_count": null,
   "id": "ec36d8b1",
   "metadata": {},
   "outputs": [],
   "source": []
  }
 ],
 "metadata": {
  "hide_input": false,
  "kernelspec": {
   "display_name": "Python 3",
   "language": "python",
   "name": "python3"
  },
  "language_info": {
   "codemirror_mode": {
    "name": "ipython",
    "version": 3
   },
   "file_extension": ".py",
   "mimetype": "text/x-python",
   "name": "python",
   "nbconvert_exporter": "python",
   "pygments_lexer": "ipython3",
   "version": "3.8.8"
  },
  "toc": {
   "base_numbering": 1,
   "nav_menu": {},
   "number_sections": true,
   "sideBar": true,
   "skip_h1_title": false,
   "title_cell": "Table of Contents",
   "title_sidebar": "Contents",
   "toc_cell": false,
   "toc_position": {},
   "toc_section_display": true,
   "toc_window_display": false
  }
 },
 "nbformat": 4,
 "nbformat_minor": 5
}
