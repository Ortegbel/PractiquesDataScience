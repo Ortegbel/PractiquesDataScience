{
 "cells": [
  {
   "cell_type": "markdown",
   "id": "82afa677",
   "metadata": {},
   "source": [
    "<font size=\"6\"><b>S16 T01: Pipelines, grid search i text mining</b></font>"
   ]
  },
  {
   "cell_type": "markdown",
   "id": "285f162b",
   "metadata": {},
   "source": [
    "# Enunciats\n",
    "**Nivell 1**\n",
    "1. Agafa el conjunt de dades que vulguis i realitza un pipeline i un gridsearch aplicant l'algorisme de Random Forest.\n",
    "\n",
    "\n",
    "**Nivell 2**\n",
    "\n",
    "\n",
    "\n",
    "**Nivell 3**\n"
   ]
  },
  {
   "cell_type": "markdown",
   "id": "04b4aa9f",
   "metadata": {},
   "source": [
    "## Exercici"
   ]
  },
  {
   "cell_type": "markdown",
   "id": "a4238e06",
   "metadata": {},
   "source": [
    "### Importació i Preparació de Dades"
   ]
  },
  {
   "cell_type": "code",
   "execution_count": 1,
   "id": "2aed2d55",
   "metadata": {
    "ExecuteTime": {
     "end_time": "2021-08-05T10:57:43.685800Z",
     "start_time": "2021-08-05T10:57:40.710831Z"
    }
   },
   "outputs": [],
   "source": [
    "import pandas as pd \n",
    "import numpy as np\n",
    "import seaborn as sns\n",
    "import matplotlib.pyplot as plt"
   ]
  },
  {
   "cell_type": "code",
   "execution_count": 2,
   "id": "7b472b2e",
   "metadata": {
    "ExecuteTime": {
     "end_time": "2021-08-05T10:57:49.928967Z",
     "start_time": "2021-08-05T10:57:43.688802Z"
    },
    "run_control": {
     "marked": false
    }
   },
   "outputs": [
    {
     "data": {
      "text/html": [
       "<div>\n",
       "<style scoped>\n",
       "    .dataframe tbody tr th:only-of-type {\n",
       "        vertical-align: middle;\n",
       "    }\n",
       "\n",
       "    .dataframe tbody tr th {\n",
       "        vertical-align: top;\n",
       "    }\n",
       "\n",
       "    .dataframe thead th {\n",
       "        text-align: right;\n",
       "    }\n",
       "</style>\n",
       "<table border=\"1\" class=\"dataframe\">\n",
       "  <thead>\n",
       "    <tr style=\"text-align: right;\">\n",
       "      <th></th>\n",
       "      <th>Unnamed: 0</th>\n",
       "      <th>Year</th>\n",
       "      <th>Month</th>\n",
       "      <th>DayofMonth</th>\n",
       "      <th>DayOfWeek</th>\n",
       "      <th>DepTime</th>\n",
       "      <th>CRSDepTime</th>\n",
       "      <th>ArrTime</th>\n",
       "      <th>CRSArrTime</th>\n",
       "      <th>UniqueCarrier</th>\n",
       "      <th>...</th>\n",
       "      <th>TaxiIn</th>\n",
       "      <th>TaxiOut</th>\n",
       "      <th>Cancelled</th>\n",
       "      <th>CancellationCode</th>\n",
       "      <th>Diverted</th>\n",
       "      <th>CarrierDelay</th>\n",
       "      <th>WeatherDelay</th>\n",
       "      <th>NASDelay</th>\n",
       "      <th>SecurityDelay</th>\n",
       "      <th>LateAircraftDelay</th>\n",
       "    </tr>\n",
       "  </thead>\n",
       "  <tbody>\n",
       "    <tr>\n",
       "      <th>0</th>\n",
       "      <td>0</td>\n",
       "      <td>2008</td>\n",
       "      <td>1</td>\n",
       "      <td>3</td>\n",
       "      <td>4</td>\n",
       "      <td>2003.0</td>\n",
       "      <td>1955</td>\n",
       "      <td>2211.0</td>\n",
       "      <td>2225</td>\n",
       "      <td>WN</td>\n",
       "      <td>...</td>\n",
       "      <td>4.0</td>\n",
       "      <td>8.0</td>\n",
       "      <td>0</td>\n",
       "      <td>N</td>\n",
       "      <td>0</td>\n",
       "      <td>NaN</td>\n",
       "      <td>NaN</td>\n",
       "      <td>NaN</td>\n",
       "      <td>NaN</td>\n",
       "      <td>NaN</td>\n",
       "    </tr>\n",
       "    <tr>\n",
       "      <th>1</th>\n",
       "      <td>1</td>\n",
       "      <td>2008</td>\n",
       "      <td>1</td>\n",
       "      <td>3</td>\n",
       "      <td>4</td>\n",
       "      <td>754.0</td>\n",
       "      <td>735</td>\n",
       "      <td>1002.0</td>\n",
       "      <td>1000</td>\n",
       "      <td>WN</td>\n",
       "      <td>...</td>\n",
       "      <td>5.0</td>\n",
       "      <td>10.0</td>\n",
       "      <td>0</td>\n",
       "      <td>N</td>\n",
       "      <td>0</td>\n",
       "      <td>NaN</td>\n",
       "      <td>NaN</td>\n",
       "      <td>NaN</td>\n",
       "      <td>NaN</td>\n",
       "      <td>NaN</td>\n",
       "    </tr>\n",
       "    <tr>\n",
       "      <th>2</th>\n",
       "      <td>2</td>\n",
       "      <td>2008</td>\n",
       "      <td>1</td>\n",
       "      <td>3</td>\n",
       "      <td>4</td>\n",
       "      <td>628.0</td>\n",
       "      <td>620</td>\n",
       "      <td>804.0</td>\n",
       "      <td>750</td>\n",
       "      <td>WN</td>\n",
       "      <td>...</td>\n",
       "      <td>3.0</td>\n",
       "      <td>17.0</td>\n",
       "      <td>0</td>\n",
       "      <td>N</td>\n",
       "      <td>0</td>\n",
       "      <td>NaN</td>\n",
       "      <td>NaN</td>\n",
       "      <td>NaN</td>\n",
       "      <td>NaN</td>\n",
       "      <td>NaN</td>\n",
       "    </tr>\n",
       "    <tr>\n",
       "      <th>3</th>\n",
       "      <td>4</td>\n",
       "      <td>2008</td>\n",
       "      <td>1</td>\n",
       "      <td>3</td>\n",
       "      <td>4</td>\n",
       "      <td>1829.0</td>\n",
       "      <td>1755</td>\n",
       "      <td>1959.0</td>\n",
       "      <td>1925</td>\n",
       "      <td>WN</td>\n",
       "      <td>...</td>\n",
       "      <td>3.0</td>\n",
       "      <td>10.0</td>\n",
       "      <td>0</td>\n",
       "      <td>N</td>\n",
       "      <td>0</td>\n",
       "      <td>2.0</td>\n",
       "      <td>0.0</td>\n",
       "      <td>0.0</td>\n",
       "      <td>0.0</td>\n",
       "      <td>32.0</td>\n",
       "    </tr>\n",
       "    <tr>\n",
       "      <th>4</th>\n",
       "      <td>5</td>\n",
       "      <td>2008</td>\n",
       "      <td>1</td>\n",
       "      <td>3</td>\n",
       "      <td>4</td>\n",
       "      <td>1940.0</td>\n",
       "      <td>1915</td>\n",
       "      <td>2121.0</td>\n",
       "      <td>2110</td>\n",
       "      <td>WN</td>\n",
       "      <td>...</td>\n",
       "      <td>4.0</td>\n",
       "      <td>10.0</td>\n",
       "      <td>0</td>\n",
       "      <td>N</td>\n",
       "      <td>0</td>\n",
       "      <td>NaN</td>\n",
       "      <td>NaN</td>\n",
       "      <td>NaN</td>\n",
       "      <td>NaN</td>\n",
       "      <td>NaN</td>\n",
       "    </tr>\n",
       "  </tbody>\n",
       "</table>\n",
       "<p>5 rows × 30 columns</p>\n",
       "</div>"
      ],
      "text/plain": [
       "   Unnamed: 0  Year  Month  DayofMonth  DayOfWeek  DepTime  CRSDepTime  \\\n",
       "0           0  2008      1           3          4   2003.0        1955   \n",
       "1           1  2008      1           3          4    754.0         735   \n",
       "2           2  2008      1           3          4    628.0         620   \n",
       "3           4  2008      1           3          4   1829.0        1755   \n",
       "4           5  2008      1           3          4   1940.0        1915   \n",
       "\n",
       "   ArrTime  CRSArrTime UniqueCarrier  ...  TaxiIn TaxiOut  Cancelled  \\\n",
       "0   2211.0        2225            WN  ...     4.0     8.0          0   \n",
       "1   1002.0        1000            WN  ...     5.0    10.0          0   \n",
       "2    804.0         750            WN  ...     3.0    17.0          0   \n",
       "3   1959.0        1925            WN  ...     3.0    10.0          0   \n",
       "4   2121.0        2110            WN  ...     4.0    10.0          0   \n",
       "\n",
       "   CancellationCode  Diverted  CarrierDelay  WeatherDelay NASDelay  \\\n",
       "0                 N         0           NaN           NaN      NaN   \n",
       "1                 N         0           NaN           NaN      NaN   \n",
       "2                 N         0           NaN           NaN      NaN   \n",
       "3                 N         0           2.0           0.0      0.0   \n",
       "4                 N         0           NaN           NaN      NaN   \n",
       "\n",
       "  SecurityDelay  LateAircraftDelay  \n",
       "0           NaN                NaN  \n",
       "1           NaN                NaN  \n",
       "2           NaN                NaN  \n",
       "3           0.0               32.0  \n",
       "4           NaN                NaN  \n",
       "\n",
       "[5 rows x 30 columns]"
      ]
     },
     "execution_count": 2,
     "metadata": {},
     "output_type": "execute_result"
    }
   ],
   "source": [
    "\n",
    "df = pd.read_csv('dades/DelayedFlights.csv')\n",
    "df.head()\n"
   ]
  },
  {
   "cell_type": "code",
   "execution_count": 3,
   "id": "a1196ac1",
   "metadata": {
    "ExecuteTime": {
     "end_time": "2021-08-05T10:57:51.001515Z",
     "start_time": "2021-08-05T10:57:49.928967Z"
    }
   },
   "outputs": [],
   "source": [
    "df = df.fillna(0)\n",
    "\n",
    "df = df.drop(columns=['Unnamed: 0' ])\n"
   ]
  },
  {
   "cell_type": "code",
   "execution_count": 4,
   "id": "1f3afdf4",
   "metadata": {
    "ExecuteTime": {
     "end_time": "2021-08-05T10:57:51.334385Z",
     "start_time": "2021-08-05T10:57:51.007511Z"
    },
    "run_control": {
     "marked": false
    }
   },
   "outputs": [],
   "source": [
    "df['CarrierFzd'] = pd.factorize(df['UniqueCarrier'])[0]\n",
    "df['OriginFzd'] = pd.factorize(df['Origin'])[0]\n",
    "df['DestFzd'] = pd.factorize(df['Dest'])[0]"
   ]
  },
  {
   "cell_type": "code",
   "execution_count": 5,
   "id": "2b2bc583",
   "metadata": {
    "ExecuteTime": {
     "end_time": "2021-08-05T10:57:51.541269Z",
     "start_time": "2021-08-05T10:57:51.336390Z"
    },
    "run_control": {
     "marked": false
    }
   },
   "outputs": [],
   "source": [
    "df['TailNumFzd'] = pd.factorize(df['TailNum'])[0]"
   ]
  },
  {
   "cell_type": "code",
   "execution_count": 6,
   "id": "dbd9255f",
   "metadata": {
    "ExecuteTime": {
     "end_time": "2021-08-05T10:57:51.603402Z",
     "start_time": "2021-08-05T10:57:51.544270Z"
    },
    "run_control": {
     "marked": false
    }
   },
   "outputs": [],
   "source": [
    "conditions = [(df['ArrDelay']> 0),(df['ArrDelay']<= 0) ]\n",
    "values = [1, 0]\n",
    "df['ArrDelay2'] = np.select(conditions, values)\n",
    "conditions = [(df['DepDelay']> 0),(df['DepDelay']<= 0) ]\n",
    "values = [1, 0]\n",
    "df['DepDelay2'] = np.select(conditions, values)\n"
   ]
  },
  {
   "cell_type": "markdown",
   "id": "a2676d5a",
   "metadata": {},
   "source": [
    "Després de revisar els valors nuls, s'han factoritzat les variables categòriques i transformat a binàries les variables ArrDelay i DepDelay.\n",
    "S'avalua la correlació entre variables amb la Correlation Matrix, s'aplica una màscara per la part superior de la mateixa per evitar redundàncies."
   ]
  },
  {
   "cell_type": "code",
   "execution_count": 7,
   "id": "c83dbbae",
   "metadata": {
    "ExecuteTime": {
     "end_time": "2021-08-05T10:57:58.450520Z",
     "start_time": "2021-08-05T10:57:51.605404Z"
    },
    "run_control": {
     "marked": false
    }
   },
   "outputs": [
    {
     "data": {
      "text/plain": [
       "<AxesSubplot:>"
      ]
     },
     "execution_count": 7,
     "metadata": {},
     "output_type": "execute_result"
    },
    {
     "data": {
      "image/png": "[encoded data removed]",
      "text/plain": [
       "<Figure size 792x648 with 2 Axes>"
      ]
     },
     "metadata": {
      "needs_background": "light"
     },
     "output_type": "display_data"
    }
   ],
   "source": [
    "corr = df.corr()\n",
    "\n",
    "# Generate a mask for the upper triangle\n",
    "mask = np.triu(np.ones_like(corr, dtype=bool))\n",
    "\n",
    "# Set up the matplotlib figure\n",
    "f, ax = plt.subplots(figsize=(11, 9))\n",
    "\n",
    "# Generate a custom diverging colormap\n",
    "cmap = sns.diverging_palette(230, 20, as_cmap=True)\n",
    "\n",
    "# Draw the heatmap with the mask and correct aspect ratio\n",
    "sns.heatmap(corr, mask=mask, cmap=cmap, vmax=.3, center=0,\n",
    "            square=True, linewidths=.5, cbar_kws={\"shrink\": .5})"
   ]
  },
  {
   "cell_type": "markdown",
   "id": "91c29889",
   "metadata": {},
   "source": [
    "Al següent bloc selecionem només les variables més importants suprimint les menys sisgnificatives. "
   ]
  },
  {
   "cell_type": "code",
   "execution_count": 8,
   "id": "e17b44af",
   "metadata": {
    "ExecuteTime": {
     "end_time": "2021-08-05T10:57:58.466490Z",
     "start_time": "2021-08-05T10:57:58.454497Z"
    }
   },
   "outputs": [
    {
     "data": {
      "text/plain": [
       "Index(['Year', 'Month', 'DayofMonth', 'DayOfWeek', 'DepTime', 'CRSDepTime',\n",
       "       'ArrTime', 'CRSArrTime', 'UniqueCarrier', 'FlightNum', 'TailNum',\n",
       "       'ActualElapsedTime', 'CRSElapsedTime', 'AirTime', 'ArrDelay',\n",
       "       'DepDelay', 'Origin', 'Dest', 'Distance', 'TaxiIn', 'TaxiOut',\n",
       "       'Cancelled', 'CancellationCode', 'Diverted', 'CarrierDelay',\n",
       "       'WeatherDelay', 'NASDelay', 'SecurityDelay', 'LateAircraftDelay',\n",
       "       'CarrierFzd', 'OriginFzd', 'DestFzd', 'TailNumFzd', 'ArrDelay2',\n",
       "       'DepDelay2'],\n",
       "      dtype='object')"
      ]
     },
     "execution_count": 8,
     "metadata": {},
     "output_type": "execute_result"
    }
   ],
   "source": [
    "df.columns"
   ]
  },
  {
   "cell_type": "code",
   "execution_count": 9,
   "id": "64b08c56",
   "metadata": {
    "ExecuteTime": {
     "end_time": "2021-08-05T10:57:58.498491Z",
     "start_time": "2021-08-05T10:57:58.469488Z"
    }
   },
   "outputs": [],
   "source": [
    "delete_cols= (['Year', 'Month', 'DayofMonth', 'DayOfWeek', 'DepTime', \n",
    "       'ArrTime', 'CRSArrTime', 'UniqueCarrier', 'FlightNum', 'TailNum',\n",
    "       'DepDelay', 'Origin', 'Dest', 'TaxiIn', 'TaxiOut',\n",
    "       'Cancelled', 'CancellationCode', 'CarrierDelay',\n",
    "       'SecurityDelay','DepDelay2'])"
   ]
  },
  {
   "cell_type": "code",
   "execution_count": 10,
   "id": "d0617976",
   "metadata": {
    "ExecuteTime": {
     "end_time": "2021-08-05T10:57:58.593417Z",
     "start_time": "2021-08-05T10:57:58.501470Z"
    }
   },
   "outputs": [
    {
     "data": {
      "text/plain": [
       "(1936758, 15)"
      ]
     },
     "execution_count": 10,
     "metadata": {},
     "output_type": "execute_result"
    }
   ],
   "source": [
    "feature_cols = [c for c in df.columns if (c not in delete_cols) ]\n",
    "X = df[feature_cols]\n",
    "X.shape"
   ]
  },
  {
   "cell_type": "code",
   "execution_count": 11,
   "id": "e1826d3b",
   "metadata": {
    "ExecuteTime": {
     "end_time": "2021-08-05T10:57:58.781921Z",
     "start_time": "2021-08-05T10:57:58.597414Z"
    }
   },
   "outputs": [],
   "source": [
    "X = np.array(X)\n",
    "y = df.ArrDelay2"
   ]
  },
  {
   "cell_type": "code",
   "execution_count": 12,
   "id": "21a5669f",
   "metadata": {
    "ExecuteTime": {
     "end_time": "2021-08-05T10:57:58.797927Z",
     "start_time": "2021-08-05T10:57:58.783934Z"
    }
   },
   "outputs": [
    {
     "data": {
      "text/plain": [
       "(1936758,)"
      ]
     },
     "execution_count": 12,
     "metadata": {},
     "output_type": "execute_result"
    }
   ],
   "source": [
    "y.shape"
   ]
  },
  {
   "cell_type": "markdown",
   "id": "f4da4bd4",
   "metadata": {},
   "source": [
    "### model i Pipeline\n",
    "a partir d'aquí, es creen divideix el grup de dades en train i test, el genera el model, pipeline i es revisen els resultats."
   ]
  },
  {
   "cell_type": "code",
   "execution_count": 14,
   "id": "3dca9fb9",
   "metadata": {
    "ExecuteTime": {
     "end_time": "2021-08-05T10:59:47.258616Z",
     "start_time": "2021-08-05T10:59:46.561723Z"
    }
   },
   "outputs": [
    {
     "name": "stdout",
     "output_type": "stream",
     "text": [
      "X_train (387351, 15)\n",
      "X_test (38736, 15)\n",
      "\n",
      "y_train (387351,)\n",
      "y_test (38736,)\n"
     ]
    }
   ],
   "source": [
    "from sklearn.model_selection import train_test_split\n",
    "\n",
    "X_train,X_test,y_train,y_test=train_test_split(X,y,test_size=0.02,train_size=0.20,random_state=42,stratify=y )\n",
    "print('X_train', X_train.shape)\n",
    "print('X_test', X_test.shape)\n",
    "print()\n",
    "print('y_train', y_train.shape)\n",
    "print('y_test', y_test.shape)"
   ]
  },
  {
   "cell_type": "code",
   "execution_count": 16,
   "id": "3c5d095e",
   "metadata": {
    "ExecuteTime": {
     "end_time": "2021-08-05T11:00:26.525639Z",
     "start_time": "2021-08-05T11:00:26.001311Z"
    }
   },
   "outputs": [],
   "source": [
    "#Import libraries\n",
    "from sklearn.tree import DecisionTreeClassifier, export_graphviz\n",
    "from sklearn.model_selection import train_test_split\n",
    "from sklearn.metrics import confusion_matrix\n",
    "import itertools\n",
    "from sklearn import tree\n",
    "from sklearn.model_selection import GridSearchCV\n",
    "from sklearn.svm import SVC\n",
    "from sklearn.metrics import classification_report\n",
    "from sklearn.ensemble import RandomForestClassifier as RF\n",
    "from sklearn.metrics import accuracy_score\n",
    "\n",
    "from imblearn.pipeline import Pipeline\n",
    "\n",
    "from collections import Counter\n",
    "from imblearn.under_sampling import NearMiss\n",
    "\n",
    "\n",
    "from sklearn.preprocessing import StandardScaler"
   ]
  },
  {
   "cell_type": "code",
   "execution_count": 17,
   "id": "2fbcefcd",
   "metadata": {
    "ExecuteTime": {
     "end_time": "2021-08-05T11:00:27.868072Z",
     "start_time": "2021-08-05T11:00:27.857097Z"
    }
   },
   "outputs": [],
   "source": [
    "#define the pipeline\n",
    "rf_pipeline = Pipeline([\n",
    "                        ('underSampling', NearMiss(version=1, n_neighbors=3)),                    \n",
    "                        ('std', StandardScaler(copy=True, with_mean=True, with_std=True)),\n",
    "                        ('classifier', RF())\n",
    "                       ])"
   ]
  },
  {
   "cell_type": "code",
   "execution_count": 18,
   "id": "a173aae2",
   "metadata": {
    "ExecuteTime": {
     "end_time": "2021-08-05T11:00:43.501093Z",
     "start_time": "2021-08-05T11:00:43.487100Z"
    }
   },
   "outputs": [],
   "source": [
    "#define the tuned parameters\n",
    "tuned_parameters = {\n",
    "    'classifier__n_estimators': [100],\n",
    "    'classifier__max_features': ['auto', 'sqrt'],\n",
    "    'classifier__class_weight':['balanced',None]\n",
    "}"
   ]
  },
  {
   "cell_type": "code",
   "execution_count": 19,
   "id": "e2ca9c25",
   "metadata": {
    "ExecuteTime": {
     "end_time": "2021-08-05T11:08:25.519537Z",
     "start_time": "2021-08-05T11:00:48.497232Z"
    }
   },
   "outputs": [
    {
     "data": {
      "text/plain": [
       "GridSearchCV(cv=10,\n",
       "             estimator=Pipeline(steps=[('underSampling', NearMiss()),\n",
       "                                       ('std', StandardScaler()),\n",
       "                                       ('classifier',\n",
       "                                        RandomForestClassifier())]),\n",
       "             param_grid={'classifier__class_weight': ['balanced', None],\n",
       "                         'classifier__max_features': ['auto', 'sqrt'],\n",
       "                         'classifier__n_estimators': [100]})"
      ]
     },
     "execution_count": 19,
     "metadata": {},
     "output_type": "execute_result"
    }
   ],
   "source": [
    "clf = GridSearchCV(estimator=rf_pipeline , param_grid=tuned_parameters, cv=10)\n",
    "clf.fit(X_train, y_train)"
   ]
  },
  {
   "cell_type": "code",
   "execution_count": 20,
   "id": "76d1f7d2",
   "metadata": {
    "ExecuteTime": {
     "end_time": "2021-08-05T11:08:33.145103Z",
     "start_time": "2021-08-05T11:08:33.137107Z"
    }
   },
   "outputs": [
    {
     "name": "stdout",
     "output_type": "stream",
     "text": [
      "Best parameters set found on development set:\n",
      "{'classifier__class_weight': 'balanced', 'classifier__max_features': 'auto', 'classifier__n_estimators': 100}\n"
     ]
    }
   ],
   "source": [
    "print(\"Best parameters set found on development set:\")\n",
    "print(clf.best_params_)"
   ]
  },
  {
   "cell_type": "code",
   "execution_count": 26,
   "id": "8a06c13c",
   "metadata": {
    "ExecuteTime": {
     "end_time": "2021-08-05T11:55:27.879575Z",
     "start_time": "2021-08-05T11:55:24.462110Z"
    }
   },
   "outputs": [
    {
     "name": "stdout",
     "output_type": "stream",
     "text": [
      "Detailed classification report:\n",
      "\n",
      "              precision    recall  f1-score   support\n",
      "\n",
      "           0       1.00      1.00      1.00     42669\n",
      "           1       1.00      1.00      1.00    344682\n",
      "\n",
      "    accuracy                           1.00    387351\n",
      "   macro avg       1.00      1.00      1.00    387351\n",
      "weighted avg       1.00      1.00      1.00    387351\n",
      "\n"
     ]
    }
   ],
   "source": [
    "print(\"Detailed classification report:\")\n",
    "print()  \n",
    "y_pred = clf.predict(X_train)\n",
    "print(classification_report(y_train, y_pred))\n",
    "\n"
   ]
  },
  {
   "cell_type": "code",
   "execution_count": 29,
   "id": "ad2ac4a5",
   "metadata": {
    "ExecuteTime": {
     "end_time": "2021-08-05T12:03:48.928294Z",
     "start_time": "2021-08-05T12:03:48.547055Z"
    }
   },
   "outputs": [
    {
     "data": {
      "text/plain": [
       "array([[ 42669,      0],\n",
       "       [     0, 344682]], dtype=int64)"
      ]
     },
     "execution_count": 29,
     "metadata": {},
     "output_type": "execute_result"
    }
   ],
   "source": [
    "from sklearn import metrics\n",
    "metrics.confusion_matrix(y_train, y_pred)"
   ]
  },
  {
   "cell_type": "code",
   "execution_count": null,
   "id": "52afb265",
   "metadata": {},
   "outputs": [],
   "source": []
  },
  {
   "cell_type": "code",
   "execution_count": 30,
   "id": "84fbba07",
   "metadata": {
    "ExecuteTime": {
     "end_time": "2021-08-05T12:15:39.925216Z",
     "start_time": "2021-08-05T12:15:39.575957Z"
    }
   },
   "outputs": [
    {
     "name": "stdout",
     "output_type": "stream",
     "text": [
      "Detailed classification report:\n",
      "\n",
      "              precision    recall  f1-score   support\n",
      "\n",
      "           0       1.00      1.00      1.00      4267\n",
      "           1       1.00      1.00      1.00     34469\n",
      "\n",
      "    accuracy                           1.00     38736\n",
      "   macro avg       1.00      1.00      1.00     38736\n",
      "weighted avg       1.00      1.00      1.00     38736\n",
      "\n"
     ]
    }
   ],
   "source": [
    "print(\"Detailed classification report:\")\n",
    "print()  \n",
    "y_pred = clf.predict(X_test)\n",
    "print(classification_report(y_test, y_pred))"
   ]
  },
  {
   "cell_type": "code",
   "execution_count": 31,
   "id": "02e5e1db",
   "metadata": {
    "ExecuteTime": {
     "end_time": "2021-08-05T12:15:58.928343Z",
     "start_time": "2021-08-05T12:15:58.873355Z"
    }
   },
   "outputs": [
    {
     "data": {
      "text/plain": [
       "array([[ 4267,     0],\n",
       "       [    0, 34469]], dtype=int64)"
      ]
     },
     "execution_count": 31,
     "metadata": {},
     "output_type": "execute_result"
    }
   ],
   "source": [
    "metrics.confusion_matrix(y_test, y_pred)"
   ]
  },
  {
   "cell_type": "code",
   "execution_count": null,
   "id": "a96db03b",
   "metadata": {},
   "outputs": [],
   "source": []
  }
 ],
 "metadata": {
  "hide_input": false,
  "kernelspec": {
   "display_name": "Python 3",
   "language": "python",
   "name": "python3"
  },
  "language_info": {
   "codemirror_mode": {
    "name": "ipython",
    "version": 3
   },
   "file_extension": ".py",
   "mimetype": "text/x-python",
   "name": "python",
   "nbconvert_exporter": "python",
   "pygments_lexer": "ipython3",
   "version": "3.8.8"
  },
  "toc": {
   "base_numbering": 1,
   "nav_menu": {},
   "number_sections": true,
   "sideBar": true,
   "skip_h1_title": true,
   "title_cell": "Table of Contents",
   "title_sidebar": "Contents",
   "toc_cell": false,
   "toc_position": {
    "height": "calc(100% - 180px)",
    "left": "10px",
    "top": "150px",
    "width": "336px"
   },
   "toc_section_display": true,
   "toc_window_display": true
  }
 },
 "nbformat": 4,
 "nbformat_minor": 5
}
