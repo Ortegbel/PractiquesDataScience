{
 "cells": [
  {
   "cell_type": "markdown",
   "id": "18c07b04",
   "metadata": {},
   "source": [
    "<font size=\"6\"><b>S16 T02: Tasca de web scraping</b></font>"
   ]
  },
  {
   "cell_type": "markdown",
   "id": "e8bb9bd1",
   "metadata": {},
   "source": [
    "# Enunciats\n",
    "**Nivell 1**\n",
    "1. Realitza web scraping d'una pàgina de la borsa de Madrid (https://www.bolsamadrid.es) utilitzant BeautifulSoup i Selenium.\n",
    "\n",
    "\n",
    "**Nivell 2**  \n",
    "\n",
    "2. Documenta en un word el teu conjunt de dades generat amb la informació que tenen els diferents arxius de Kaggle.\n",
    "\n",
    "\n",
    "**Nivell 3**  \n",
    "\n",
    "3. Tria una página web que tu vulguis i realitza web scraping mitjançant la llibreria Scrapy."
   ]
  },
  {
   "cell_type": "markdown",
   "id": "e81b90c0",
   "metadata": {},
   "source": [
    "## Web scraping la Borsa de Madrid\n",
    "\n",
    "### amb BeautifulSoup."
   ]
  },
  {
   "cell_type": "code",
   "execution_count": 6,
   "id": "17267251",
   "metadata": {
    "ExecuteTime": {
     "end_time": "2021-09-06T10:30:54.689826Z",
     "start_time": "2021-09-06T10:30:54.229823Z"
    },
    "run_control": {
     "marked": false
    }
   },
   "outputs": [],
   "source": [
    "from urllib.request import urlopen\n",
    "from bs4 import BeautifulSoup\n",
    "\n",
    "url = 'https://www.bolsamadrid.es/esp/aspx/Portada/Portada.aspx'\n",
    "page = urlopen(url)\n",
    "soup = BeautifulSoup(page,\"html.parser\")\n",
    "#print(soup.prettify())"
   ]
  },
  {
   "cell_type": "code",
   "execution_count": 7,
   "id": "c5c36ffa",
   "metadata": {
    "ExecuteTime": {
     "end_time": "2021-09-06T10:31:05.024281Z",
     "start_time": "2021-09-06T10:31:05.009309Z"
    },
    "run_control": {
     "marked": false
    }
   },
   "outputs": [],
   "source": [
    "for link in soup.find_all('a'):\n",
    "    if 'href' in link.attrs:\n",
    "        links=(link.attrs['href'])"
   ]
  },
  {
   "cell_type": "code",
   "execution_count": 27,
   "id": "677a3873",
   "metadata": {
    "ExecuteTime": {
     "end_time": "2021-09-02T10:12:41.749863Z",
     "start_time": "2021-09-02T10:12:41.727876Z"
    },
    "run_control": {
     "marked": false
    }
   },
   "outputs": [
    {
     "name": "stdout",
     "output_type": "stream",
     "text": [
      "/esp/aspx/Mercados/Precios.aspx?indice=ESI100000000\n",
      "/esp/aspx/Mercados/Precios.aspx?indice=ESI100000000\n"
     ]
    }
   ],
   "source": [
    "for link in soup.find('div', {'id':'Base'}).find_all('a', string='Acciones'):\n",
    "    if 'href' in link.attrs:\n",
    "        tails =link.attrs['href']\n",
    "        #print(tails)[:1]\n",
    "        print(link.attrs['href']) "
   ]
  },
  {
   "cell_type": "code",
   "execution_count": 35,
   "id": "c6dcf8d5",
   "metadata": {
    "ExecuteTime": {
     "end_time": "2021-09-02T10:28:41.138656Z",
     "start_time": "2021-09-02T10:28:41.109671Z"
    },
    "run_control": {
     "marked": false
    }
   },
   "outputs": [
    {
     "name": "stdout",
     "output_type": "stream",
     "text": [
      "/esp/aspx/Mercados/Precios.aspx?indice=ESI100000000\n"
     ]
    }
   ],
   "source": [
    "tails = [link.attrs['href'] for link in soup.find('div', {'id':'Base'}).find_all(\n",
    "    'a', string='Acciones') if 'href' in link.attrs]\n"
   ]
  },
  {
   "cell_type": "code",
   "execution_count": 36,
   "id": "4e13a446",
   "metadata": {
    "ExecuteTime": {
     "end_time": "2021-09-02T10:29:33.718092Z",
     "start_time": "2021-09-02T10:29:33.703102Z"
    },
    "run_control": {
     "marked": false
    }
   },
   "outputs": [
    {
     "data": {
      "text/plain": [
       "'/esp/aspx/Mercados/Precios.aspx?indice=ESI100000000'"
      ]
     },
     "execution_count": 36,
     "metadata": {},
     "output_type": "execute_result"
    }
   ],
   "source": [
    "tail = tails[-1]\n",
    "tail"
   ]
  },
  {
   "cell_type": "code",
   "execution_count": 37,
   "id": "bf8bee6c",
   "metadata": {
    "ExecuteTime": {
     "end_time": "2021-09-02T10:30:45.707818Z",
     "start_time": "2021-09-02T10:30:45.687837Z"
    },
    "run_control": {
     "marked": false
    }
   },
   "outputs": [
    {
     "data": {
      "text/plain": [
       "'https://www.bolsamadrid.es/esp/aspx/Mercados/Precios.aspx?indice=ESI100000000'"
      ]
     },
     "execution_count": 37,
     "metadata": {},
     "output_type": "execute_result"
    }
   ],
   "source": [
    "url = 'https://www.bolsamadrid.es'\n",
    "newUrl = url+tails[-1]\n",
    "newUrl"
   ]
  },
  {
   "cell_type": "code",
   "execution_count": 49,
   "id": "6a7c9e85",
   "metadata": {
    "ExecuteTime": {
     "end_time": "2021-09-02T11:15:39.651170Z",
     "start_time": "2021-09-02T11:15:39.340452Z"
    },
    "run_control": {
     "marked": false
    }
   },
   "outputs": [],
   "source": [
    "newpage = urlopen(newUrl)\n",
    "soup = BeautifulSoup(newpage,\"html.parser\")\n"
   ]
  },
  {
   "cell_type": "code",
   "execution_count": 50,
   "id": "0b6abe64",
   "metadata": {
    "ExecuteTime": {
     "end_time": "2021-09-02T11:15:40.677392Z",
     "start_time": "2021-09-02T11:15:40.647411Z"
    },
    "run_control": {
     "marked": false
    }
   },
   "outputs": [],
   "source": [
    "accions = []\n",
    "acc_tables = soup.find_all('table', class_=\"TblPort\")\n",
    "\n",
    "for table in acc_tables:\n",
    "    headers =[]\n",
    "    rows = table.find_all('tr')\n",
    "    #start by fetching the header cells from the first row to determine the field names\n",
    "    for header in table.find('tr').find_all('th'):\n",
    "        headers.append(header.text)\n",
    "    #then go through all the rows except the first one\n",
    "    for row in table.find_all('tr')[1:]:\n",
    "        values = []\n",
    "        #And get the column cells, the first one being inside a th-tag\n",
    "        for col in row.find_all(['th', 'td']):\n",
    "            values.append(col.text)\n",
    "        if values:\n",
    "            acc_dict = {headers[i]:values[i] for i in range(len(values))}\n",
    "            accions.append(acc_dict)\n"
   ]
  },
  {
   "cell_type": "code",
   "execution_count": 52,
   "id": "789745a1",
   "metadata": {
    "ExecuteTime": {
     "end_time": "2021-09-02T11:15:57.033653Z",
     "start_time": "2021-09-02T11:15:57.016678Z"
    },
    "run_control": {
     "marked": false
    }
   },
   "outputs": [
    {
     "data": {
      "text/plain": [
       "[{'Nombre': 'IBEX 35®',\n",
       "  'Anterior': '8.991,50',\n",
       "  'Último': '8.988,20',\n",
       "  '% Dif.': '-0,04',\n",
       "  'Máximo': '9.020,70',\n",
       "  'Mínimo': '8.972,10',\n",
       "  'Fecha': '02/09/2021',\n",
       "  'Hora': '13:00:23',\n",
       "  '% Dif.Año 2021': '11,33'},\n",
       " {'Nombre': 'ACCIONA',\n",
       "  'Últ.': '141,2000',\n",
       "  '% Dif.': '1,00',\n",
       "  'Máx.': '141,7000',\n",
       "  'Mín.': '139,5000',\n",
       "  'Volumen': '14.787',\n",
       "  'Efectivo (miles €)': '2.083,61',\n",
       "  'Fecha': '02/09/2021',\n",
       "  'Hora': '12:59:09'}]"
      ]
     },
     "execution_count": 52,
     "metadata": {},
     "output_type": "execute_result"
    }
   ],
   "source": [
    "accions[:2] "
   ]
  },
  {
   "cell_type": "code",
   "execution_count": 46,
   "id": "d1057772",
   "metadata": {
    "ExecuteTime": {
     "end_time": "2021-09-02T11:13:55.020824Z",
     "start_time": "2021-09-02T11:13:55.015372Z"
    },
    "run_control": {
     "marked": false
    }
   },
   "outputs": [],
   "source": [
    "del accions[0]"
   ]
  },
  {
   "cell_type": "code",
   "execution_count": 47,
   "id": "6497be61",
   "metadata": {
    "ExecuteTime": {
     "end_time": "2021-09-02T11:13:57.976496Z",
     "start_time": "2021-09-02T11:13:57.937521Z"
    },
    "run_control": {
     "marked": false
    }
   },
   "outputs": [
    {
     "data": {
      "text/html": [
       "<div>\n",
       "<style scoped>\n",
       "    .dataframe tbody tr th:only-of-type {\n",
       "        vertical-align: middle;\n",
       "    }\n",
       "\n",
       "    .dataframe tbody tr th {\n",
       "        vertical-align: top;\n",
       "    }\n",
       "\n",
       "    .dataframe thead th {\n",
       "        text-align: right;\n",
       "    }\n",
       "</style>\n",
       "<table border=\"1\" class=\"dataframe\">\n",
       "  <thead>\n",
       "    <tr style=\"text-align: right;\">\n",
       "      <th></th>\n",
       "      <th>Nombre</th>\n",
       "      <th>Últ.</th>\n",
       "      <th>% Dif.</th>\n",
       "      <th>Máx.</th>\n",
       "      <th>Mín.</th>\n",
       "      <th>Volumen</th>\n",
       "      <th>Efectivo (miles €)</th>\n",
       "      <th>Fecha</th>\n",
       "      <th>Hora</th>\n",
       "    </tr>\n",
       "  </thead>\n",
       "  <tbody>\n",
       "    <tr>\n",
       "      <th>0</th>\n",
       "      <td>ACCIONA</td>\n",
       "      <td>141,1000</td>\n",
       "      <td>0,93</td>\n",
       "      <td>141,7000</td>\n",
       "      <td>139,5000</td>\n",
       "      <td>12.954</td>\n",
       "      <td>1.824,78</td>\n",
       "      <td>02/09/2021</td>\n",
       "      <td>12:27:08</td>\n",
       "    </tr>\n",
       "    <tr>\n",
       "      <th>1</th>\n",
       "      <td>ACERINOX</td>\n",
       "      <td>11,4550</td>\n",
       "      <td>-0,52</td>\n",
       "      <td>11,5750</td>\n",
       "      <td>11,4400</td>\n",
       "      <td>174.838</td>\n",
       "      <td>2.012,16</td>\n",
       "      <td>02/09/2021</td>\n",
       "      <td>12:33:27</td>\n",
       "    </tr>\n",
       "    <tr>\n",
       "      <th>2</th>\n",
       "      <td>ACS</td>\n",
       "      <td>23,5900</td>\n",
       "      <td>0,34</td>\n",
       "      <td>23,6400</td>\n",
       "      <td>23,4000</td>\n",
       "      <td>111.737</td>\n",
       "      <td>2.631,38</td>\n",
       "      <td>02/09/2021</td>\n",
       "      <td>12:30:47</td>\n",
       "    </tr>\n",
       "    <tr>\n",
       "      <th>3</th>\n",
       "      <td>AENA</td>\n",
       "      <td>137,8000</td>\n",
       "      <td>-0,22</td>\n",
       "      <td>139,2500</td>\n",
       "      <td>136,9500</td>\n",
       "      <td>11.588</td>\n",
       "      <td>1.601,74</td>\n",
       "      <td>02/09/2021</td>\n",
       "      <td>12:33:00</td>\n",
       "    </tr>\n",
       "    <tr>\n",
       "      <th>4</th>\n",
       "      <td>ALMIRALL</td>\n",
       "      <td>14,7300</td>\n",
       "      <td>0,68</td>\n",
       "      <td>14,7500</td>\n",
       "      <td>14,4500</td>\n",
       "      <td>115.102</td>\n",
       "      <td>1.687,89</td>\n",
       "      <td>02/09/2021</td>\n",
       "      <td>12:31:06</td>\n",
       "    </tr>\n",
       "  </tbody>\n",
       "</table>\n",
       "</div>"
      ],
      "text/plain": [
       "     Nombre      Últ. % Dif.      Máx.      Mín.  Volumen Efectivo (miles €)       Fecha      Hora\n",
       "0   ACCIONA  141,1000   0,93  141,7000  139,5000   12.954           1.824,78  02/09/2021  12:27:08\n",
       "1  ACERINOX   11,4550  -0,52   11,5750   11,4400  174.838           2.012,16  02/09/2021  12:33:27\n",
       "2       ACS   23,5900   0,34   23,6400   23,4000  111.737           2.631,38  02/09/2021  12:30:47\n",
       "3      AENA  137,8000  -0,22  139,2500  136,9500   11.588           1.601,74  02/09/2021  12:33:00\n",
       "4  ALMIRALL   14,7300   0,68   14,7500   14,4500  115.102           1.687,89  02/09/2021  12:31:06"
      ]
     },
     "execution_count": 47,
     "metadata": {},
     "output_type": "execute_result"
    }
   ],
   "source": [
    "import pandas as pd \n",
    "\n",
    "df = pd.DataFrame(accions)\n",
    "df.head()"
   ]
  },
  {
   "cell_type": "markdown",
   "id": "270e0f6e",
   "metadata": {},
   "source": [
    "### amb Selenium."
   ]
  },
  {
   "cell_type": "code",
   "execution_count": 8,
   "id": "2c52e26a",
   "metadata": {
    "ExecuteTime": {
     "end_time": "2021-09-06T10:32:01.478999Z",
     "start_time": "2021-09-06T10:32:01.322055Z"
    },
    "run_control": {
     "marked": false
    }
   },
   "outputs": [],
   "source": [
    "from selenium import webdriver\n",
    "import pandas as pd \n",
    "from selenium.webdriver.common.by import By\n",
    "from selenium.webdriver.support.ui import WebDriverWait\n",
    "from selenium.webdriver.support import expected_conditions as EC\n",
    "\n",
    "url = 'https://www.bolsamadrid.es'"
   ]
  },
  {
   "cell_type": "code",
   "execution_count": 9,
   "id": "da2c5564",
   "metadata": {
    "ExecuteTime": {
     "end_time": "2021-09-06T10:32:05.143883Z",
     "start_time": "2021-09-06T10:32:01.496877Z"
    },
    "run_control": {
     "marked": false
    }
   },
   "outputs": [],
   "source": [
    "driver =webdriver.Chrome()\n",
    "driver.get(url)\n",
    "WebDriverWait(driver, 20).until(\n",
    "    EC.presence_of_element_located((By.XPATH, '//*[@id=\"Base\"]/table/tbody/tr[4]/td[2]/div[1]/div[2]/table/tbody/tr[1]/td[1]/a'))).click()"
   ]
  },
  {
   "cell_type": "markdown",
   "id": "f6ed30f4",
   "metadata": {},
   "source": [
    "Així obtenim les dades de la pàgina, però les volem tenir en un DataFrame per poder treballar amb elles..."
   ]
  },
  {
   "cell_type": "code",
   "execution_count": 10,
   "id": "8ededd18",
   "metadata": {
    "ExecuteTime": {
     "end_time": "2021-09-06T10:32:05.413728Z",
     "start_time": "2021-09-06T10:32:05.178888Z"
    },
    "run_control": {
     "marked": false
    }
   },
   "outputs": [
    {
     "name": "stdout",
     "output_type": "stream",
     "text": [
      "Nombre Últ. % Dif. Máx. Mín. Volumen Efectivo (miles €) Fecha Hora\n",
      "ACCIONA 141,5000 -0,07 142,0000 141,0000 12.974 1.835,60 06/09/2021 12:11:11\n",
      "ACERINOX 11,3300 -0,79 11,5000 11,3100 141.313 1.609,19 06/09/2021 12:15:48\n",
      "ACS 23,4500 0,77 23,4700 23,2300 110.994 2.588,40 06/09/2021 12:16:51\n",
      "AENA 134,1500 0,19 134,7000 133,4000 14.545 1.948,37 06/09/2021 12:15:45\n",
      "ALMIRALL 14,6300 0,48 14,6600 14,5300 24.439 356,90 06/09/2021 12:15:18\n",
      "AMADEUS 51,5600 0,31 51,9600 51,3400 202.778 10.458,44 06/09/2021 12:16:01\n",
      "ARCELORMIT. 28,6050 1,27 28,6050 28,2800 78.322 2.231,65 06/09/2021 12:15:56\n",
      "B.SANTANDER 3,1115 1,15 3,1255 3,0840 3.837.596 11.920,04 06/09/2021 12:16:10\n",
      "BA.SABADELL 0,5996 0,17 0,6052 0,5964 3.640.852 2.186,21 06/09/2021 12:16:14\n",
      "BANKINTER 4,9610 0,43 4,9870 4,9440 212.497 1.055,60 06/09/2021 12:15:44\n",
      "BBVA 5,5780 0,18 5,6360 5,5650 1.239.794 6.935,32 06/09/2021 12:16:23\n",
      "CAIXABANK 2,6530 0,38 2,6650 2,6380 790.943 2.097,89 06/09/2021 12:15:59\n",
      "CELLNEX 58,4200 1,56 58,7600 58,0000 133.352 7.791,44 06/09/2021 12:13:56\n",
      "CIE AUTOMOT. 23,8800 0,17 23,9800 23,8200 29.558 705,47 06/09/2021 12:13:07\n",
      "ENAGAS 19,1450 -0,42 19,2450 19,0850 90.443 1.731,45 06/09/2021 12:12:41\n",
      "ENDESA 20,8800 0,34 20,8900 20,6000 135.282 2.809,56 06/09/2021 12:16:51\n",
      "FERROVIAL 24,8900 -0,16 25,0100 24,8200 88.560 2.204,87 06/09/2021 12:15:10\n",
      "FLUIDRA 37,0500 1,79 37,1500 36,5000 85.213 3.140,26 06/09/2021 12:15:55\n",
      "GRIFOLS CL.A 20,9100 -0,05 21,0500 20,8900 36.825 772,14 06/09/2021 12:14:50\n",
      "IAG 1,8340 0,77 1,8370 1,8200 4.236.475 7.747,65 06/09/2021 12:16:36\n",
      "IBERDROLA 10,4850 -0,66 10,5350 10,4450 2.020.986 21.198,59 06/09/2021 12:16:09\n",
      "INDITEX 29,7500 0,61 29,8000 29,5800 738.601 21.873,89 06/09/2021 12:16:48\n",
      "INDRA A 9,1300 -0,65 9,2200 9,1250 119.026 1.091,54 06/09/2021 12:15:51\n",
      "INM.COLONIAL 8,7700 -0,11 8,8500 8,7400 100.221 880,67 06/09/2021 12:15:59\n",
      "MAPFRE 1,8345 0,71 1,8400 1,8180 452.109 827,66 06/09/2021 12:11:02\n",
      "MELIA HOTELS 5,7620 -0,69 5,8420 5,7400 344.507 1.994,32 06/09/2021 12:16:01\n",
      "MERLIN 9,7980 -0,33 9,8800 9,7540 62.709 614,77 06/09/2021 12:15:49\n",
      "NATURGY 21,7100 -0,28 21,7700 21,6700 256.143 5.560,46 06/09/2021 12:15:54\n",
      "PHARMA MAR 79,7000 -0,57 82,2800 79,7000 57.346 4.651,20 06/09/2021 12:16:47\n",
      "R.E.C. 17,1950 -0,32 17,2200 17,1050 53.424 916,51 06/09/2021 12:15:06\n",
      "REPSOL 9,5910 0,00 9,6470 9,5780 392.484 3.770,46 06/09/2021 12:16:29\n",
      "SIEMENS GAME 25,6300 -0,12 26,0700 25,5300 102.387 2.637,53 06/09/2021 12:16:42\n",
      "SOLARIA 17,1250 -0,32 17,4150 17,0450 337.694 5.820,58 06/09/2021 12:13:56\n",
      "TELEFONICA 4,1410 0,44 4,1620 4,1240 2.397.025 9.930,99 06/09/2021 12:16:51\n",
      "VISCOFAN 60,2000 0,84 60,2500 59,7500 7.336 440,17 06/09/2021 12:12:12\n"
     ]
    }
   ],
   "source": [
    "taula = driver.find_elements(By.XPATH,'//*[@id=\"ctl00_Contenido_tblAcciones\"]')\n",
    "for i in taula:\n",
    "    print(i.text)\n"
   ]
  },
  {
   "cell_type": "markdown",
   "id": "0e18e4cf",
   "metadata": {},
   "source": [
    "ara n'extreurem les dades, dels titols, i els convinarem en un DataFrame."
   ]
  },
  {
   "cell_type": "code",
   "execution_count": 11,
   "id": "1fd77a0a",
   "metadata": {
    "ExecuteTime": {
     "end_time": "2021-09-06T10:32:05.600569Z",
     "start_time": "2021-09-06T10:32:05.442712Z"
    },
    "run_control": {
     "marked": false
    }
   },
   "outputs": [],
   "source": [
    "headers = [header.text for header in driver.find_elements(By.XPATH,'//*[@id=\"ctl00_Contenido_tblAcciones\"]/tbody/tr/th')]\n"
   ]
  },
  {
   "cell_type": "code",
   "execution_count": 12,
   "id": "16f3eadd",
   "metadata": {
    "ExecuteTime": {
     "end_time": "2021-09-06T10:32:10.267265Z",
     "start_time": "2021-09-06T10:32:05.611565Z"
    },
    "run_control": {
     "marked": false
    }
   },
   "outputs": [],
   "source": [
    "dades = [dada.text for dada in driver.find_elements(By.XPATH,'//*[@id=\"ctl00_Contenido_tblAcciones\"]/tbody/tr/td')] \n"
   ]
  },
  {
   "cell_type": "code",
   "execution_count": 13,
   "id": "e6c49e7c",
   "metadata": {
    "ExecuteTime": {
     "end_time": "2021-09-06T10:32:10.298457Z",
     "start_time": "2021-09-06T10:32:10.285464Z"
    },
    "run_control": {
     "marked": false
    }
   },
   "outputs": [],
   "source": [
    "#dividirem les dades en llistes q continguin la informació de cada companyia\n",
    "#mida dels grups, ha de ser ingual de llarg q el grup del titols\n",
    "n = len(headers)\n",
    "  \n",
    "# ho farem amb una comprehension list\n",
    "dades_final = [dades[i * n:(i + 1) * n] for i in range((len(dades) + n - 1) // n )] \n",
    " "
   ]
  },
  {
   "cell_type": "code",
   "execution_count": 14,
   "id": "eca84bb7",
   "metadata": {
    "ExecuteTime": {
     "end_time": "2021-09-06T10:32:10.362422Z",
     "start_time": "2021-09-06T10:32:10.326440Z"
    },
    "run_control": {
     "marked": false
    }
   },
   "outputs": [
    {
     "data": {
      "text/html": [
       "<div>\n",
       "<style scoped>\n",
       "    .dataframe tbody tr th:only-of-type {\n",
       "        vertical-align: middle;\n",
       "    }\n",
       "\n",
       "    .dataframe tbody tr th {\n",
       "        vertical-align: top;\n",
       "    }\n",
       "\n",
       "    .dataframe thead th {\n",
       "        text-align: right;\n",
       "    }\n",
       "</style>\n",
       "<table border=\"1\" class=\"dataframe\">\n",
       "  <thead>\n",
       "    <tr style=\"text-align: right;\">\n",
       "      <th></th>\n",
       "      <th>Nombre</th>\n",
       "      <th>Últ.</th>\n",
       "      <th>% Dif.</th>\n",
       "      <th>Máx.</th>\n",
       "      <th>Mín.</th>\n",
       "      <th>Volumen</th>\n",
       "      <th>Efectivo (miles €)</th>\n",
       "      <th>Fecha</th>\n",
       "      <th>Hora</th>\n",
       "    </tr>\n",
       "  </thead>\n",
       "  <tbody>\n",
       "    <tr>\n",
       "      <th>0</th>\n",
       "      <td>ACCIONA</td>\n",
       "      <td>141,5000</td>\n",
       "      <td>-0,07</td>\n",
       "      <td>142,0000</td>\n",
       "      <td>141,0000</td>\n",
       "      <td>12.974</td>\n",
       "      <td>1.835,60</td>\n",
       "      <td>06/09/2021</td>\n",
       "      <td>12:11:11</td>\n",
       "    </tr>\n",
       "    <tr>\n",
       "      <th>1</th>\n",
       "      <td>ACERINOX</td>\n",
       "      <td>11,3300</td>\n",
       "      <td>-0,79</td>\n",
       "      <td>11,5000</td>\n",
       "      <td>11,3100</td>\n",
       "      <td>141.313</td>\n",
       "      <td>1.609,19</td>\n",
       "      <td>06/09/2021</td>\n",
       "      <td>12:15:48</td>\n",
       "    </tr>\n",
       "    <tr>\n",
       "      <th>2</th>\n",
       "      <td>ACS</td>\n",
       "      <td>23,4500</td>\n",
       "      <td>0,77</td>\n",
       "      <td>23,4700</td>\n",
       "      <td>23,2300</td>\n",
       "      <td>110.994</td>\n",
       "      <td>2.588,40</td>\n",
       "      <td>06/09/2021</td>\n",
       "      <td>12:16:51</td>\n",
       "    </tr>\n",
       "    <tr>\n",
       "      <th>3</th>\n",
       "      <td>AENA</td>\n",
       "      <td>134,1500</td>\n",
       "      <td>0,19</td>\n",
       "      <td>134,7000</td>\n",
       "      <td>133,4000</td>\n",
       "      <td>14.545</td>\n",
       "      <td>1.948,37</td>\n",
       "      <td>06/09/2021</td>\n",
       "      <td>12:15:45</td>\n",
       "    </tr>\n",
       "    <tr>\n",
       "      <th>4</th>\n",
       "      <td>ALMIRALL</td>\n",
       "      <td>14,6300</td>\n",
       "      <td>0,48</td>\n",
       "      <td>14,6600</td>\n",
       "      <td>14,5300</td>\n",
       "      <td>24.439</td>\n",
       "      <td>356,90</td>\n",
       "      <td>06/09/2021</td>\n",
       "      <td>12:15:18</td>\n",
       "    </tr>\n",
       "  </tbody>\n",
       "</table>\n",
       "</div>"
      ],
      "text/plain": [
       "     Nombre      Últ. % Dif.      Máx.      Mín.  Volumen Efectivo (miles €)  \\\n",
       "0   ACCIONA  141,5000  -0,07  142,0000  141,0000   12.974           1.835,60   \n",
       "1  ACERINOX   11,3300  -0,79   11,5000   11,3100  141.313           1.609,19   \n",
       "2       ACS   23,4500   0,77   23,4700   23,2300  110.994           2.588,40   \n",
       "3      AENA  134,1500   0,19  134,7000  133,4000   14.545           1.948,37   \n",
       "4  ALMIRALL   14,6300   0,48   14,6600   14,5300   24.439             356,90   \n",
       "\n",
       "        Fecha      Hora  \n",
       "0  06/09/2021  12:11:11  \n",
       "1  06/09/2021  12:15:48  \n",
       "2  06/09/2021  12:16:51  \n",
       "3  06/09/2021  12:15:45  \n",
       "4  06/09/2021  12:15:18  "
      ]
     },
     "execution_count": 14,
     "metadata": {},
     "output_type": "execute_result"
    }
   ],
   "source": [
    "import pandas as pd \n",
    "\n",
    "df = pd.DataFrame(dades_final, columns=headers)\n",
    "df.head()\n",
    "\n"
   ]
  },
  {
   "cell_type": "markdown",
   "id": "f19c1943",
   "metadata": {},
   "source": [
    "Ja ho tenim llest per treballar amb les dades, exportar-ho a un document, etc."
   ]
  },
  {
   "cell_type": "code",
   "execution_count": 15,
   "id": "98b79c8e",
   "metadata": {
    "ExecuteTime": {
     "end_time": "2021-09-06T10:32:12.683793Z",
     "start_time": "2021-09-06T10:32:10.402401Z"
    },
    "run_control": {
     "marked": false
    }
   },
   "outputs": [],
   "source": [
    "driver.quit()"
   ]
  },
  {
   "cell_type": "markdown",
   "id": "0fde9f06",
   "metadata": {
    "run_control": {
     "marked": false
    }
   },
   "source": [
    "### Amb selenium fent un filtre previ"
   ]
  },
  {
   "cell_type": "code",
   "execution_count": 16,
   "id": "8d87d2ae",
   "metadata": {
    "ExecuteTime": {
     "end_time": "2021-09-06T10:33:03.048758Z",
     "start_time": "2021-09-06T10:33:03.039764Z"
    },
    "run_control": {
     "marked": false
    }
   },
   "outputs": [],
   "source": [
    "from selenium import webdriver\n",
    "import pandas as pd \n",
    "from selenium.webdriver.common.by import By\n",
    "from selenium.webdriver.support.ui import WebDriverWait\n",
    "from selenium.webdriver.support import expected_conditions as EC\n",
    "\n",
    "url = 'https://www.bolsamadrid.es'"
   ]
  },
  {
   "cell_type": "code",
   "execution_count": 17,
   "id": "6c2e42d7",
   "metadata": {
    "ExecuteTime": {
     "end_time": "2021-09-06T10:33:06.573921Z",
     "start_time": "2021-09-06T10:33:03.072745Z"
    },
    "run_control": {
     "marked": false
    }
   },
   "outputs": [],
   "source": [
    "driver =webdriver.Chrome()\n",
    "driver.get(url)\n",
    "WebDriverWait(driver, 20).until(\n",
    "    EC.presence_of_element_located((By.XPATH, '//*[@id=\"Base\"]/table/tbody/tr[4]/td[2]/div[1]/div[2]/table/tbody/tr[1]/td[1]/a'))).click()"
   ]
  },
  {
   "cell_type": "markdown",
   "id": "bf41826f",
   "metadata": {},
   "source": [
    "Si vulguessim fer servir el filtre d'inici de la pàgina, afegririem el següent:"
   ]
  },
  {
   "cell_type": "code",
   "execution_count": 18,
   "id": "a8c3bc15",
   "metadata": {
    "ExecuteTime": {
     "end_time": "2021-09-06T10:33:06.967188Z",
     "start_time": "2021-09-06T10:33:06.607902Z"
    },
    "run_control": {
     "marked": false
    }
   },
   "outputs": [
    {
     "data": {
      "text/plain": [
       "<selenium.webdriver.support.wait.WebDriverWait (session=\"7d8d2e3a2c5c23e5bb6cb65a77b3aa48\")>"
      ]
     },
     "execution_count": 18,
     "metadata": {},
     "output_type": "execute_result"
    }
   ],
   "source": [
    "from selenium.webdriver.support.ui import Select\n",
    "select = Select(driver.find_element_by_xpath('//*[@id=\"SelSector\"]'));\n",
    "select.select_by_visible_text(\"Tecnología y Telecomunicaciones\");\n",
    "driver.find_element_by_xpath('//*[@id=\"ctl00_Contenido_Consultar\"]').click() \n",
    "WebDriverWait(driver, 20)"
   ]
  },
  {
   "cell_type": "code",
   "execution_count": 19,
   "id": "93e29ffd",
   "metadata": {
    "ExecuteTime": {
     "end_time": "2021-09-06T10:33:07.189058Z",
     "start_time": "2021-09-06T10:33:07.000170Z"
    },
    "run_control": {
     "marked": false
    }
   },
   "outputs": [
    {
     "name": "stdout",
     "output_type": "stream",
     "text": [
      "Nombre Mercado Últ. % Dif. Máx. Mín. Volumen Efectivo (miles €) Fecha Hora\n",
      "AETERNAL M. MAB - EE 8,9500 0,00 8,9500 8,9500 2.674 23,93 06/09/2021 12:00:06\n",
      "AGILE MAB - EE 7,6000 1,33 7,6000 7,5000 3.140 23,65 06/09/2021 11:56:39\n",
      "ALTIA MAB - EE 27,2000 -2,16 27,2000 27,2000 25 0,68 06/09/2021 12:00:06\n",
      "AMADEUS M.Continuo 51,5800 0,35 51,9600 51,3400 202.947 10.467,16 06/09/2021 12:17:48\n",
      "AMERICA M. L Latibex 0,8050 - - - - - 03/09/2021 Cierre\n",
      "AMPER M.Continuo 0,1838 0,22 0,1890 0,1824 574.002 107,09 06/09/2021 11:48:19\n",
      "CATENON MAB - EE 1,1000 0,46 1,1000 1,0800 3.050 3,32 06/09/2021 11:37:10\n",
      "CELLNEX M.Continuo 58,3800 1,50 58,7600 58,0000 133.821 7.818,83 06/09/2021 12:17:21\n",
      "CLEVER MAB - EE 0,2340 - - - - - 03/09/2021 Cierre\n",
      "CUATROOCHENT MAB - EE 17,0000 0,00 17,0000 17,0000 100 1,70 06/09/2021 09:00:09\n",
      "DOMINION M.Continuo 4,5300 0,67 4,5300 4,4950 63.432 286,45 06/09/2021 12:06:00\n",
      "EURONA MAB - EE 0,1960 - - - - - Suspendido 30/04/2020\n",
      "EZENTIS M.Continuo 0,3540 0,00 0,3560 0,3510 145.864 51,36 06/09/2021 12:09:58\n",
      "FACEPHI MAB - EE 4,9400 -0,30 5,1000 4,9000 16.212 82,04 06/09/2021 12:15:21\n",
      "GIGAS MAB - EE 11,0000 3,77 11,2500 11,0000 16.749 185,95 06/09/2021 11:55:34\n",
      "INDRA A M.Continuo 9,1300 -0,65 9,2200 9,1250 119.026 1.091,54 06/09/2021 12:15:51\n",
      "IZERTIS MAB - EE 7,8000 0,00 7,8400 7,6400 815 6,27 06/09/2021 11:57:00\n",
      "LLEIDANETWOR MAB - EE 5,1700 1,57 5,1700 5,1000 7.512 38,40 06/09/2021 11:47:49\n",
      "MAKING MAB - EE 26,0000 4,00 26,0000 26,0000 1.819 47,29 06/09/2021 10:25:30\n",
      "NETEX MAB - EE 4,1000 -0,49 4,1000 4,1000 1.000 4,10 06/09/2021 09:10:32\n",
      "NPG MAB - EE 1,5700 - - - - - Suspendido 04/05/2015\n",
      "PARLEM MAB - EE 4,9100 0,20 4,9100 4,8000 6.172 29,97 06/09/2021 11:03:32\n",
      "ROBOT MAB - EE 2,6000 - - - - - 03/09/2021 Cierre\n",
      "TELEFONICA M.Continuo 4,1415 0,45 4,1620 4,1240 2.397.300 9.932,13 06/09/2021 12:17:32\n",
      "TIER1 MAB - EE 22,4000 2,75 22,4000 22,4000 20 0,45 06/09/2021 12:00:06\n"
     ]
    }
   ],
   "source": [
    "taula = driver.find_elements(By.XPATH,'//*[@id=\"ctl00_Contenido_tblAcciones\"]')\n",
    "for i in taula:\n",
    "    print(i.text)\n"
   ]
  },
  {
   "cell_type": "markdown",
   "id": "559c48a6",
   "metadata": {},
   "source": [
    "ara n'extreurem les dades, dels titols, i els convinarem en un DataFrame."
   ]
  },
  {
   "cell_type": "code",
   "execution_count": 20,
   "id": "870a7381",
   "metadata": {
    "ExecuteTime": {
     "end_time": "2021-09-06T10:33:10.913900Z",
     "start_time": "2021-09-06T10:33:07.201052Z"
    },
    "run_control": {
     "marked": false
    }
   },
   "outputs": [],
   "source": [
    "headers = [header.text for header in driver.find_elements(By.XPATH,'//*[@id=\"ctl00_Contenido_tblAcciones\"]/tbody/tr/th')]\n",
    "dades = [dada.text for dada in driver.find_elements(By.XPATH,'//*[@id=\"ctl00_Contenido_tblAcciones\"]/tbody/tr/td')] "
   ]
  },
  {
   "cell_type": "code",
   "execution_count": 21,
   "id": "2f5c2bef",
   "metadata": {
    "ExecuteTime": {
     "end_time": "2021-09-06T10:33:10.945084Z",
     "start_time": "2021-09-06T10:33:10.931092Z"
    },
    "run_control": {
     "marked": false
    }
   },
   "outputs": [],
   "source": [
    "#dividirem les dades en llistes q continguin la informació de cada companyia\n",
    "#mida dels grups, ha de ser ingual de llarg q el grup del titols\n",
    "n = len(headers)\n",
    "  \n",
    "# ho farem amb una comprehension list\n",
    "dades_final = [dades[i * n:(i + 1) * n] for i in range((len(dades) + n - 1) // n )] \n",
    " "
   ]
  },
  {
   "cell_type": "code",
   "execution_count": 22,
   "id": "b128f77e",
   "metadata": {
    "ExecuteTime": {
     "end_time": "2021-09-06T10:33:11.008048Z",
     "start_time": "2021-09-06T10:33:10.972084Z"
    },
    "run_control": {
     "marked": false
    }
   },
   "outputs": [
    {
     "data": {
      "text/html": [
       "<div>\n",
       "<style scoped>\n",
       "    .dataframe tbody tr th:only-of-type {\n",
       "        vertical-align: middle;\n",
       "    }\n",
       "\n",
       "    .dataframe tbody tr th {\n",
       "        vertical-align: top;\n",
       "    }\n",
       "\n",
       "    .dataframe thead th {\n",
       "        text-align: right;\n",
       "    }\n",
       "</style>\n",
       "<table border=\"1\" class=\"dataframe\">\n",
       "  <thead>\n",
       "    <tr style=\"text-align: right;\">\n",
       "      <th></th>\n",
       "      <th>Nombre</th>\n",
       "      <th>Mercado</th>\n",
       "      <th>Últ.</th>\n",
       "      <th>% Dif.</th>\n",
       "      <th>Máx.</th>\n",
       "      <th>Mín.</th>\n",
       "      <th>Volumen</th>\n",
       "      <th>Efectivo (miles €)</th>\n",
       "      <th>Fecha</th>\n",
       "      <th>Hora</th>\n",
       "    </tr>\n",
       "  </thead>\n",
       "  <tbody>\n",
       "    <tr>\n",
       "      <th>0</th>\n",
       "      <td>AETERNAL M.</td>\n",
       "      <td>MAB - EE</td>\n",
       "      <td>8,9500</td>\n",
       "      <td>0,00</td>\n",
       "      <td>8,9500</td>\n",
       "      <td>8,9500</td>\n",
       "      <td>2.674</td>\n",
       "      <td>23,93</td>\n",
       "      <td>06/09/2021</td>\n",
       "      <td>12:00:06</td>\n",
       "    </tr>\n",
       "    <tr>\n",
       "      <th>1</th>\n",
       "      <td>AGILE</td>\n",
       "      <td>MAB - EE</td>\n",
       "      <td>7,6000</td>\n",
       "      <td>1,33</td>\n",
       "      <td>7,6000</td>\n",
       "      <td>7,5000</td>\n",
       "      <td>3.140</td>\n",
       "      <td>23,65</td>\n",
       "      <td>06/09/2021</td>\n",
       "      <td>11:56:39</td>\n",
       "    </tr>\n",
       "    <tr>\n",
       "      <th>2</th>\n",
       "      <td>ALTIA</td>\n",
       "      <td>MAB - EE</td>\n",
       "      <td>27,2000</td>\n",
       "      <td>-2,16</td>\n",
       "      <td>27,2000</td>\n",
       "      <td>27,2000</td>\n",
       "      <td>25</td>\n",
       "      <td>0,68</td>\n",
       "      <td>06/09/2021</td>\n",
       "      <td>12:00:06</td>\n",
       "    </tr>\n",
       "    <tr>\n",
       "      <th>3</th>\n",
       "      <td>AMADEUS</td>\n",
       "      <td>M.Continuo</td>\n",
       "      <td>51,5800</td>\n",
       "      <td>0,35</td>\n",
       "      <td>51,9600</td>\n",
       "      <td>51,3400</td>\n",
       "      <td>202.947</td>\n",
       "      <td>10.467,16</td>\n",
       "      <td>06/09/2021</td>\n",
       "      <td>12:17:48</td>\n",
       "    </tr>\n",
       "    <tr>\n",
       "      <th>4</th>\n",
       "      <td>AMERICA M. L</td>\n",
       "      <td>Latibex</td>\n",
       "      <td>0,8050</td>\n",
       "      <td>-</td>\n",
       "      <td>-</td>\n",
       "      <td>-</td>\n",
       "      <td>-</td>\n",
       "      <td>-</td>\n",
       "      <td>03/09/2021</td>\n",
       "      <td>Cierre</td>\n",
       "    </tr>\n",
       "  </tbody>\n",
       "</table>\n",
       "</div>"
      ],
      "text/plain": [
       "         Nombre     Mercado     Últ. % Dif.     Máx.     Mín.  Volumen  \\\n",
       "0   AETERNAL M.    MAB - EE   8,9500   0,00   8,9500   8,9500    2.674   \n",
       "1         AGILE    MAB - EE   7,6000   1,33   7,6000   7,5000    3.140   \n",
       "2         ALTIA    MAB - EE  27,2000  -2,16  27,2000  27,2000       25   \n",
       "3       AMADEUS  M.Continuo  51,5800   0,35  51,9600  51,3400  202.947   \n",
       "4  AMERICA M. L     Latibex   0,8050      -        -        -        -   \n",
       "\n",
       "  Efectivo (miles €)       Fecha      Hora  \n",
       "0              23,93  06/09/2021  12:00:06  \n",
       "1              23,65  06/09/2021  11:56:39  \n",
       "2               0,68  06/09/2021  12:00:06  \n",
       "3          10.467,16  06/09/2021  12:17:48  \n",
       "4                  -  03/09/2021    Cierre  "
      ]
     },
     "execution_count": 22,
     "metadata": {},
     "output_type": "execute_result"
    }
   ],
   "source": [
    "import pandas as pd \n",
    "\n",
    "df = pd.DataFrame(dades_final, columns=headers)\n",
    "df.head()\n",
    "\n"
   ]
  },
  {
   "cell_type": "code",
   "execution_count": 23,
   "id": "dacddce0",
   "metadata": {
    "ExecuteTime": {
     "end_time": "2021-09-06T10:33:13.291068Z",
     "start_time": "2021-09-06T10:33:11.022041Z"
    },
    "run_control": {
     "marked": false
    }
   },
   "outputs": [],
   "source": [
    "driver.quit()"
   ]
  },
  {
   "cell_type": "markdown",
   "id": "d22836b9",
   "metadata": {},
   "source": [
    "## Web scraping la Borsa de Madrid-Documentació\n",
    "\n",
    "arxiu txt que podeu trobar en aquest link [Dataset Documentation](https://raw.githubusercontent.com/Ortegbel/PractiquesDataScience/master/S16/S06_T02%20Dataset%20Documentation)\n",
    "\n",
    "\n",
    "\n",
    "## Scrapy\n",
    "\n"
   ]
  },
  {
   "cell_type": "code",
   "execution_count": 1,
   "id": "b5aea352",
   "metadata": {
    "ExecuteTime": {
     "end_time": "2021-09-06T10:13:45.897972Z",
     "start_time": "2021-09-06T10:13:45.891964Z"
    },
    "run_control": {
     "marked": false
    }
   },
   "outputs": [],
   "source": [
    "import scrapy\n",
    "from scrapy.crawler import CrawlerProcess"
   ]
  },
  {
   "cell_type": "code",
   "execution_count": 2,
   "id": "e7288e88",
   "metadata": {
    "ExecuteTime": {
     "end_time": "2021-09-06T10:13:47.421168Z",
     "start_time": "2021-09-06T10:13:47.401181Z"
    },
    "run_control": {
     "marked": false
    }
   },
   "outputs": [],
   "source": [
    "import json\n",
    "class JsonWriterPipeline(object):\n",
    "    \n",
    "    def open_spider(self, spider):\n",
    "        self.file = open('quoteresult.jl','w')\n",
    "        \n",
    "    def close_spider(self, spider):\n",
    "        self.file.close()\n",
    "        \n",
    "    def process_item(self, item, spider):\n",
    "        line = json.dumps(dict(item)) + \"\\n\"\n",
    "        self.file.write(line)\n",
    "        return item"
   ]
  },
  {
   "cell_type": "code",
   "execution_count": 3,
   "id": "053356cd",
   "metadata": {
    "ExecuteTime": {
     "end_time": "2021-09-06T10:13:58.772174Z",
     "start_time": "2021-09-06T10:13:58.762187Z"
    },
    "run_control": {
     "marked": false
    }
   },
   "outputs": [],
   "source": [
    "import logging\n",
    "\n",
    "class QuotesSpider(scrapy.Spider):\n",
    "    name = \"quotes\"\n",
    "    start_urls = [\n",
    "        'http://quotes.toscrape.com/page/1/',\n",
    "        'http://quotes.toscrape.com/page/2/',\n",
    "    ]\n",
    "    custom_settings = {\n",
    "        'LOG_LEVEL': logging.WARNING,\n",
    "        'ITEM_PIPELINES': {'__main__.JsonWriterPipeline': 1}, # Used for pipeline 1\n",
    "        'FORMAT':'json',                                 # Used for pipeline 2\n",
    "        'URI': 'quoteresult.json'                        # Used for pipeline 2\n",
    "    }\n",
    "    \n",
    "    def parse(self, response):\n",
    "        for quote in response.css('div.quote'):\n",
    "            yield {\n",
    "                'text': quote.css('span.text::text').extract_first(),\n",
    "                'author': quote.css('span small::text').extract_first(),\n",
    "                'tags': quote.css('div.tags a.tag::text').extract(),\n",
    "            }"
   ]
  },
  {
   "cell_type": "code",
   "execution_count": 4,
   "id": "f588428c",
   "metadata": {
    "ExecuteTime": {
     "end_time": "2021-09-06T10:14:08.045847Z",
     "start_time": "2021-09-06T10:14:07.002661Z"
    },
    "run_control": {
     "marked": false
    }
   },
   "outputs": [
    {
     "name": "stderr",
     "output_type": "stream",
     "text": [
      "2021-09-06 12:14:07 [scrapy.utils.log] INFO: Scrapy 2.5.0 started (bot: scrapybot)\n",
      "2021-09-06 12:14:07 [scrapy.utils.log] INFO: Versions: lxml 4.6.3.0, libxml2 2.9.12, cssselect 1.1.0, parsel 1.6.0, w3lib 1.22.0, Twisted 21.7.0, Python 3.8.8 (default, Apr 13 2021, 15:08:03) [MSC v.1916 64 bit (AMD64)], pyOpenSSL 20.0.1 (OpenSSL 1.1.1k  25 Mar 2021), cryptography 3.4.7, Platform Windows-10-10.0.19041-SP0\n",
      "2021-09-06 12:14:07 [scrapy.utils.log] DEBUG: Using reactor: twisted.internet.selectreactor.SelectReactor\n",
      "2021-09-06 12:14:07 [scrapy.crawler] INFO: Overridden settings:\n",
      "{'LOG_LEVEL': 30,\n",
      " 'USER_AGENT': 'Mozilla/4.0 (compatible; MSIE 7.0; Windows NT 5.1)'}\n"
     ]
    }
   ],
   "source": [
    "process = CrawlerProcess({\n",
    "    'USER_AGENT': 'Mozilla/4.0 (compatible; MSIE 7.0; Windows NT 5.1)'\n",
    "})\n",
    "\n",
    "process.crawl(QuotesSpider)\n",
    "process.start()"
   ]
  },
  {
   "cell_type": "code",
   "execution_count": 5,
   "id": "24fa1fdc",
   "metadata": {
    "ExecuteTime": {
     "end_time": "2021-09-06T10:14:16.600381Z",
     "start_time": "2021-09-06T10:14:15.833672Z"
    },
    "run_control": {
     "marked": false
    }
   },
   "outputs": [
    {
     "data": {
      "text/html": [
       "<div>\n",
       "<style scoped>\n",
       "    .dataframe tbody tr th:only-of-type {\n",
       "        vertical-align: middle;\n",
       "    }\n",
       "\n",
       "    .dataframe tbody tr th {\n",
       "        vertical-align: top;\n",
       "    }\n",
       "\n",
       "    .dataframe thead th {\n",
       "        text-align: right;\n",
       "    }\n",
       "</style>\n",
       "<table border=\"1\" class=\"dataframe\">\n",
       "  <thead>\n",
       "    <tr style=\"text-align: right;\">\n",
       "      <th></th>\n",
       "      <th>text</th>\n",
       "      <th>author</th>\n",
       "      <th>tags</th>\n",
       "    </tr>\n",
       "  </thead>\n",
       "  <tbody>\n",
       "    <tr>\n",
       "      <th>0</th>\n",
       "      <td>“The world as we have created it is a process ...</td>\n",
       "      <td>Albert Einstein</td>\n",
       "      <td>[change, deep-thoughts, thinking, world]</td>\n",
       "    </tr>\n",
       "    <tr>\n",
       "      <th>1</th>\n",
       "      <td>“This life is what you make it. No matter what...</td>\n",
       "      <td>Marilyn Monroe</td>\n",
       "      <td>[friends, heartbreak, inspirational, life, lov...</td>\n",
       "    </tr>\n",
       "    <tr>\n",
       "      <th>2</th>\n",
       "      <td>“It takes a great deal of bravery to stand up ...</td>\n",
       "      <td>J.K. Rowling</td>\n",
       "      <td>[courage, friends]</td>\n",
       "    </tr>\n",
       "    <tr>\n",
       "      <th>3</th>\n",
       "      <td>“If you can't explain it to a six year old, yo...</td>\n",
       "      <td>Albert Einstein</td>\n",
       "      <td>[simplicity, understand]</td>\n",
       "    </tr>\n",
       "    <tr>\n",
       "      <th>4</th>\n",
       "      <td>“You may not be her first, her last, or her on...</td>\n",
       "      <td>Bob Marley</td>\n",
       "      <td>[love]</td>\n",
       "    </tr>\n",
       "    <tr>\n",
       "      <th>5</th>\n",
       "      <td>“I like nonsense, it wakes up the brain cells....</td>\n",
       "      <td>Dr. Seuss</td>\n",
       "      <td>[fantasy]</td>\n",
       "    </tr>\n",
       "    <tr>\n",
       "      <th>6</th>\n",
       "      <td>“It is our choices, Harry, that show what we t...</td>\n",
       "      <td>J.K. Rowling</td>\n",
       "      <td>[abilities, choices]</td>\n",
       "    </tr>\n",
       "    <tr>\n",
       "      <th>7</th>\n",
       "      <td>“There are only two ways to live your life. On...</td>\n",
       "      <td>Albert Einstein</td>\n",
       "      <td>[inspirational, life, live, miracle, miracles]</td>\n",
       "    </tr>\n",
       "    <tr>\n",
       "      <th>8</th>\n",
       "      <td>“The person, be it gentleman or lady, who has ...</td>\n",
       "      <td>Jane Austen</td>\n",
       "      <td>[aliteracy, books, classic, humor]</td>\n",
       "    </tr>\n",
       "    <tr>\n",
       "      <th>9</th>\n",
       "      <td>“Imperfection is beauty, madness is genius and...</td>\n",
       "      <td>Marilyn Monroe</td>\n",
       "      <td>[be-yourself, inspirational]</td>\n",
       "    </tr>\n",
       "    <tr>\n",
       "      <th>10</th>\n",
       "      <td>“Try not to become a man of success. Rather be...</td>\n",
       "      <td>Albert Einstein</td>\n",
       "      <td>[adulthood, success, value]</td>\n",
       "    </tr>\n",
       "    <tr>\n",
       "      <th>11</th>\n",
       "      <td>“It is better to be hated for what you are tha...</td>\n",
       "      <td>André Gide</td>\n",
       "      <td>[life, love]</td>\n",
       "    </tr>\n",
       "    <tr>\n",
       "      <th>12</th>\n",
       "      <td>“I have not failed. I've just found 10,000 way...</td>\n",
       "      <td>Thomas A. Edison</td>\n",
       "      <td>[edison, failure, inspirational, paraphrased]</td>\n",
       "    </tr>\n",
       "    <tr>\n",
       "      <th>13</th>\n",
       "      <td>“A woman is like a tea bag; you never know how...</td>\n",
       "      <td>Eleanor Roosevelt</td>\n",
       "      <td>[misattributed-eleanor-roosevelt]</td>\n",
       "    </tr>\n",
       "    <tr>\n",
       "      <th>14</th>\n",
       "      <td>“A day without sunshine is like, you know, nig...</td>\n",
       "      <td>Steve Martin</td>\n",
       "      <td>[humor, obvious, simile]</td>\n",
       "    </tr>\n",
       "    <tr>\n",
       "      <th>15</th>\n",
       "      <td>“I may not have gone where I intended to go, b...</td>\n",
       "      <td>Douglas Adams</td>\n",
       "      <td>[life, navigation]</td>\n",
       "    </tr>\n",
       "    <tr>\n",
       "      <th>16</th>\n",
       "      <td>“The opposite of love is not hate, it's indiff...</td>\n",
       "      <td>Elie Wiesel</td>\n",
       "      <td>[activism, apathy, hate, indifference, inspira...</td>\n",
       "    </tr>\n",
       "    <tr>\n",
       "      <th>17</th>\n",
       "      <td>“It is not a lack of love, but a lack of frien...</td>\n",
       "      <td>Friedrich Nietzsche</td>\n",
       "      <td>[friendship, lack-of-friendship, lack-of-love,...</td>\n",
       "    </tr>\n",
       "    <tr>\n",
       "      <th>18</th>\n",
       "      <td>“Good friends, good books, and a sleepy consci...</td>\n",
       "      <td>Mark Twain</td>\n",
       "      <td>[books, contentment, friends, friendship, life]</td>\n",
       "    </tr>\n",
       "    <tr>\n",
       "      <th>19</th>\n",
       "      <td>“Life is what happens to us while we are makin...</td>\n",
       "      <td>Allen Saunders</td>\n",
       "      <td>[fate, life, misattributed-john-lennon, planni...</td>\n",
       "    </tr>\n",
       "  </tbody>\n",
       "</table>\n",
       "</div>"
      ],
      "text/plain": [
       "                                                 text               author  \\\n",
       "0   “The world as we have created it is a process ...      Albert Einstein   \n",
       "1   “This life is what you make it. No matter what...       Marilyn Monroe   \n",
       "2   “It takes a great deal of bravery to stand up ...         J.K. Rowling   \n",
       "3   “If you can't explain it to a six year old, yo...      Albert Einstein   \n",
       "4   “You may not be her first, her last, or her on...           Bob Marley   \n",
       "5   “I like nonsense, it wakes up the brain cells....            Dr. Seuss   \n",
       "6   “It is our choices, Harry, that show what we t...         J.K. Rowling   \n",
       "7   “There are only two ways to live your life. On...      Albert Einstein   \n",
       "8   “The person, be it gentleman or lady, who has ...          Jane Austen   \n",
       "9   “Imperfection is beauty, madness is genius and...       Marilyn Monroe   \n",
       "10  “Try not to become a man of success. Rather be...      Albert Einstein   \n",
       "11  “It is better to be hated for what you are tha...           André Gide   \n",
       "12  “I have not failed. I've just found 10,000 way...     Thomas A. Edison   \n",
       "13  “A woman is like a tea bag; you never know how...    Eleanor Roosevelt   \n",
       "14  “A day without sunshine is like, you know, nig...         Steve Martin   \n",
       "15  “I may not have gone where I intended to go, b...        Douglas Adams   \n",
       "16  “The opposite of love is not hate, it's indiff...          Elie Wiesel   \n",
       "17  “It is not a lack of love, but a lack of frien...  Friedrich Nietzsche   \n",
       "18  “Good friends, good books, and a sleepy consci...           Mark Twain   \n",
       "19  “Life is what happens to us while we are makin...       Allen Saunders   \n",
       "\n",
       "                                                 tags  \n",
       "0            [change, deep-thoughts, thinking, world]  \n",
       "1   [friends, heartbreak, inspirational, life, lov...  \n",
       "2                                  [courage, friends]  \n",
       "3                            [simplicity, understand]  \n",
       "4                                              [love]  \n",
       "5                                           [fantasy]  \n",
       "6                                [abilities, choices]  \n",
       "7      [inspirational, life, live, miracle, miracles]  \n",
       "8                  [aliteracy, books, classic, humor]  \n",
       "9                        [be-yourself, inspirational]  \n",
       "10                        [adulthood, success, value]  \n",
       "11                                       [life, love]  \n",
       "12      [edison, failure, inspirational, paraphrased]  \n",
       "13                  [misattributed-eleanor-roosevelt]  \n",
       "14                           [humor, obvious, simile]  \n",
       "15                                 [life, navigation]  \n",
       "16  [activism, apathy, hate, indifference, inspira...  \n",
       "17  [friendship, lack-of-friendship, lack-of-love,...  \n",
       "18    [books, contentment, friends, friendship, life]  \n",
       "19  [fate, life, misattributed-john-lennon, planni...  "
      ]
     },
     "execution_count": 5,
     "metadata": {},
     "output_type": "execute_result"
    }
   ],
   "source": [
    "import pandas as pd \n",
    "dfjl = pd.read_json('quoteresult.jl',lines=True)\n",
    "dfjl"
   ]
  },
  {
   "cell_type": "code",
   "execution_count": null,
   "id": "67afdb36",
   "metadata": {
    "run_control": {
     "marked": false
    }
   },
   "outputs": [],
   "source": []
  }
 ],
 "metadata": {
  "hide_input": false,
  "kernelspec": {
   "display_name": "Python 3",
   "language": "python",
   "name": "python3"
  },
  "language_info": {
   "codemirror_mode": {
    "name": "ipython",
    "version": 3
   },
   "file_extension": ".py",
   "mimetype": "text/x-python",
   "name": "python",
   "nbconvert_exporter": "python",
   "pygments_lexer": "ipython3",
   "version": "3.8.8"
  },
  "toc": {
   "base_numbering": 1,
   "nav_menu": {},
   "number_sections": true,
   "sideBar": true,
   "skip_h1_title": true,
   "title_cell": "Table of Contents",
   "title_sidebar": "Contents",
   "toc_cell": false,
   "toc_position": {},
   "toc_section_display": true,
   "toc_window_display": true
  }
 },
 "nbformat": 4,
 "nbformat_minor": 5
}
